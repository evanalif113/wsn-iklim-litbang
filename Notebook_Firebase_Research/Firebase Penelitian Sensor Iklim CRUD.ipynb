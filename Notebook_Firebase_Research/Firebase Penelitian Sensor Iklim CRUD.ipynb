{
  "cells": [
    {
      "cell_type": "markdown",
      "source": "",
      "metadata": {
        "formattedRanges": [],
        "cell_id": "5b426bef605c4a1dabac38943f3a6902",
        "deepnote_cell_type": "text-cell-p"
      },
      "block_group": "59d0467ff22f4ab49f6162f3bcf887f6"
    },
    {
      "cell_type": "code",
      "source": "!pip install firebase_admin\nimport firebase_admin\nfrom firebase_admin import credentials, db\n\n# Inisialisasi Firebase Admin SDK\ncred = credentials.Certificate('/work/database-sensor-iklim-litbang-firebase-admin.json')  # Ganti dengan path ke file JSON Service Account Anda\nfirebase_admin.initialize_app(cred, {\n    'databaseURL': 'https://database-sensor-iklim-litbang-default-rtdb.asia-southeast1.firebasedatabase.app/'  # URL Firebase RTDB\n})",
      "metadata": {
        "source_hash": "2d20d211",
        "execution_start": 1729776973995,
        "execution_millis": 4403,
        "execution_context_id": "bfdf5176-4a69-4a9a-9b12-64f64cd7815d",
        "cell_id": "670afa86675c4b76805d921497372640",
        "deepnote_cell_type": "code"
      },
      "outputs": [
        {
          "name": "stdout",
          "text": "Requirement already satisfied: firebase_admin in /root/venv/lib/python3.11/site-packages (6.5.0)\nRequirement already satisfied: cachecontrol>=0.12.6 in /root/venv/lib/python3.11/site-packages (from firebase_admin) (0.14.0)\nRequirement already satisfied: google-api-python-client>=1.7.8 in /root/venv/lib/python3.11/site-packages (from firebase_admin) (2.149.0)\nRequirement already satisfied: google-cloud-storage>=1.37.1 in /root/venv/lib/python3.11/site-packages (from firebase_admin) (2.14.0)\nRequirement already satisfied: pyjwt>=2.5.0 in /shared-libs/python3.11/py/lib/python3.11/site-packages (from pyjwt[crypto]>=2.5.0->firebase_admin) (2.8.0)\nRequirement already satisfied: google-api-core<3.0.0dev,>=1.22.1 in /shared-libs/python3.11/py/lib/python3.11/site-packages (from google-api-core[grpc]<3.0.0dev,>=1.22.1; platform_python_implementation != \"PyPy\"->firebase_admin) (2.12.0)\nRequirement already satisfied: google-cloud-firestore>=2.9.1 in /root/venv/lib/python3.11/site-packages (from firebase_admin) (2.19.0)\nRequirement already satisfied: requests>=2.16.0 in /shared-libs/python3.11/py/lib/python3.11/site-packages (from cachecontrol>=0.12.6->firebase_admin) (2.31.0)\nRequirement already satisfied: msgpack<2.0.0,>=0.5.2 in /root/venv/lib/python3.11/site-packages (from cachecontrol>=0.12.6->firebase_admin) (1.1.0)\nRequirement already satisfied: googleapis-common-protos<2.0.dev0,>=1.56.2 in /shared-libs/python3.11/py/lib/python3.11/site-packages (from google-api-core<3.0.0dev,>=1.22.1->google-api-core[grpc]<3.0.0dev,>=1.22.1; platform_python_implementation != \"PyPy\"->firebase_admin) (1.61.0)\nRequirement already satisfied: protobuf!=3.20.0,!=3.20.1,!=4.21.0,!=4.21.1,!=4.21.2,!=4.21.3,!=4.21.4,!=4.21.5,<5.0.0.dev0,>=3.19.5 in /shared-libs/python3.11/py/lib/python3.11/site-packages (from google-api-core<3.0.0dev,>=1.22.1->google-api-core[grpc]<3.0.0dev,>=1.22.1; platform_python_implementation != \"PyPy\"->firebase_admin) (4.24.4)\nRequirement already satisfied: google-auth<3.0.dev0,>=2.14.1 in /shared-libs/python3.11/py/lib/python3.11/site-packages (from google-api-core<3.0.0dev,>=1.22.1->google-api-core[grpc]<3.0.0dev,>=1.22.1; platform_python_implementation != \"PyPy\"->firebase_admin) (2.23.3)\nRequirement already satisfied: grpcio<2.0dev,>=1.33.2 in /shared-libs/python3.11/py/lib/python3.11/site-packages (from google-api-core[grpc]<3.0.0dev,>=1.22.1; platform_python_implementation != \"PyPy\"->firebase_admin) (1.59.0)\nRequirement already satisfied: grpcio-status<2.0.dev0,>=1.33.2 in /shared-libs/python3.11/py/lib/python3.11/site-packages (from google-api-core[grpc]<3.0.0dev,>=1.22.1; platform_python_implementation != \"PyPy\"->firebase_admin) (1.59.0)\nRequirement already satisfied: httplib2<1.dev0,>=0.19.0 in /root/venv/lib/python3.11/site-packages (from google-api-python-client>=1.7.8->firebase_admin) (0.22.0)\nRequirement already satisfied: google-auth-httplib2<1.0.0,>=0.2.0 in /root/venv/lib/python3.11/site-packages (from google-api-python-client>=1.7.8->firebase_admin) (0.2.0)\nRequirement already satisfied: uritemplate<5,>=3.0.1 in /root/venv/lib/python3.11/site-packages (from google-api-python-client>=1.7.8->firebase_admin) (4.1.1)\nRequirement already satisfied: google-cloud-core<3.0.0dev,>=1.4.1 in /shared-libs/python3.11/py/lib/python3.11/site-packages (from google-cloud-firestore>=2.9.1->firebase_admin) (2.3.3)\nRequirement already satisfied: proto-plus<2.0.0dev,>=1.22.0 in /shared-libs/python3.11/py/lib/python3.11/site-packages (from google-cloud-firestore>=2.9.1->firebase_admin) (1.22.3)\nRequirement already satisfied: google-resumable-media>=2.6.0 in /shared-libs/python3.11/py/lib/python3.11/site-packages (from google-cloud-storage>=1.37.1->firebase_admin) (2.6.0)\nRequirement already satisfied: google-crc32c<2.0dev,>=1.0 in /shared-libs/python3.11/py/lib/python3.11/site-packages (from google-cloud-storage>=1.37.1->firebase_admin) (1.5.0)\nRequirement already satisfied: cryptography>=3.4.0 in /shared-libs/python3.11/py/lib/python3.11/site-packages (from pyjwt[crypto]>=2.5.0->firebase_admin) (41.0.4)\nRequirement already satisfied: cffi>=1.12 in /shared-libs/python3.11/py-core/lib/python3.11/site-packages (from cryptography>=3.4.0->pyjwt[crypto]>=2.5.0->firebase_admin) (1.16.0)\nRequirement already satisfied: cachetools<6.0,>=2.0.0 in /shared-libs/python3.11/py/lib/python3.11/site-packages (from google-auth<3.0.dev0,>=2.14.1->google-api-core<3.0.0dev,>=1.22.1->google-api-core[grpc]<3.0.0dev,>=1.22.1; platform_python_implementation != \"PyPy\"->firebase_admin) (5.3.1)\nRequirement already satisfied: pyasn1-modules>=0.2.1 in /shared-libs/python3.11/py/lib/python3.11/site-packages (from google-auth<3.0.dev0,>=2.14.1->google-api-core<3.0.0dev,>=1.22.1->google-api-core[grpc]<3.0.0dev,>=1.22.1; platform_python_implementation != \"PyPy\"->firebase_admin) (0.3.0)\nRequirement already satisfied: rsa<5,>=3.1.4 in /shared-libs/python3.11/py/lib/python3.11/site-packages (from google-auth<3.0.dev0,>=2.14.1->google-api-core<3.0.0dev,>=1.22.1->google-api-core[grpc]<3.0.0dev,>=1.22.1; platform_python_implementation != \"PyPy\"->firebase_admin) (4.9)\nRequirement already satisfied: pyparsing!=3.0.0,!=3.0.1,!=3.0.2,!=3.0.3,<4,>=2.4.2 in /shared-libs/python3.11/py/lib/python3.11/site-packages (from httplib2<1.dev0,>=0.19.0->google-api-python-client>=1.7.8->firebase_admin) (3.1.1)\nRequirement already satisfied: charset-normalizer<4,>=2 in /shared-libs/python3.11/py/lib/python3.11/site-packages (from requests>=2.16.0->cachecontrol>=0.12.6->firebase_admin) (3.3.0)\nRequirement already satisfied: idna<4,>=2.5 in /shared-libs/python3.11/py-core/lib/python3.11/site-packages (from requests>=2.16.0->cachecontrol>=0.12.6->firebase_admin) (3.4)\nRequirement already satisfied: urllib3<3,>=1.21.1 in /shared-libs/python3.11/py/lib/python3.11/site-packages (from requests>=2.16.0->cachecontrol>=0.12.6->firebase_admin) (1.26.18)\nRequirement already satisfied: certifi>=2017.4.17 in /shared-libs/python3.11/py/lib/python3.11/site-packages (from requests>=2.16.0->cachecontrol>=0.12.6->firebase_admin) (2023.7.22)\nRequirement already satisfied: pycparser in /shared-libs/python3.11/py-core/lib/python3.11/site-packages (from cffi>=1.12->cryptography>=3.4.0->pyjwt[crypto]>=2.5.0->firebase_admin) (2.21)\nRequirement already satisfied: pyasn1<0.6.0,>=0.4.6 in /shared-libs/python3.11/py/lib/python3.11/site-packages (from pyasn1-modules>=0.2.1->google-auth<3.0.dev0,>=2.14.1->google-api-core<3.0.0dev,>=1.22.1->google-api-core[grpc]<3.0.0dev,>=1.22.1; platform_python_implementation != \"PyPy\"->firebase_admin) (0.5.0)\n\n\u001b[1m[\u001b[0m\u001b[34;49mnotice\u001b[0m\u001b[1;39;49m]\u001b[0m\u001b[39;49m A new release of pip is available: \u001b[0m\u001b[31;49m24.0\u001b[0m\u001b[39;49m -> \u001b[0m\u001b[32;49m24.2\u001b[0m\n\u001b[1m[\u001b[0m\u001b[34;49mnotice\u001b[0m\u001b[1;39;49m]\u001b[0m\u001b[39;49m To update, run: \u001b[0m\u001b[32;49mpip install --upgrade pip\u001b[0m\n",
          "output_type": "stream"
        },
        {
          "output_type": "execute_result",
          "execution_count": 1,
          "data": {
            "text/plain": "<firebase_admin.App at 0x7f8e10f13b90>"
          },
          "metadata": {}
        }
      ],
      "outputs_reference": null,
      "execution_count": 1,
      "block_group": "414de8cd8eb746c295d44618d6d024b8",
      "content_dependencies": null
    },
    {
      "cell_type": "code",
      "source": "import pandas as pd\n# Referensi ke database\nref = db.reference('test/stream/')  # Referensi root, bisa disesuaikan jika ingin membaca data pada path tertentu\n\n# Ambil data dari Firebase RTDB\ndata = ref.get()\n\n# Cek apakah data ditemukan\nif data:\n    print(\"Data berhasil dibaca.\")\n\n    # Convert data ke dataframe pandas\n    df = pd.DataFrame.from_dict(data, orient='index')  # Menggunakan orient='index' untuk menjadikan key sebagai index\n    \n    # Tampilkan beberapa baris pertama dari dataframe\n    print(df.head())\n\nelse:\n    print(\"Tidak ada data yang ditemukan.\")",
      "metadata": {
        "source_hash": "99466f8f",
        "execution_start": 1729778814571,
        "execution_millis": 622,
        "execution_context_id": "bfdf5176-4a69-4a9a-9b12-64f64cd7815d",
        "cell_id": "227d1c65d7b04aab964fecaa32031f8e",
        "deepnote_cell_type": "code"
      },
      "outputs": [
        {
          "name": "stdout",
          "text": "Data berhasil dibaca.\n            embun  kelembapan  suhu  tekanan   timestamp  volt\n1729801771     23          47    34     1004  1729801771     0\n1729801781     23          63    21     1002  1729801781     3\n1729801791     20          79    34     1008  1729801791     2\n1729801801     22          46    26     1007  1729801801     1\n1729801811     23          50    30     1004  1729801811     0\n",
          "output_type": "stream"
        }
      ],
      "outputs_reference": null,
      "execution_count": 10,
      "block_group": "0f5fcb1b1e1042aea00b8c7ff361e8c2",
      "content_dependencies": null
    },
    {
      "cell_type": "code",
      "source": "df.describe()",
      "metadata": {
        "source_hash": "f88152d9",
        "execution_start": 1729778819591,
        "execution_millis": 21,
        "execution_context_id": "bfdf5176-4a69-4a9a-9b12-64f64cd7815d",
        "cell_id": "4e602a6ce84e4577a141f0b70c5efa77",
        "deepnote_cell_type": "code"
      },
      "outputs": [
        {
          "output_type": "execute_result",
          "execution_count": 11,
          "data": {
            "application/vnd.deepnote.dataframe.v3+json": {
              "column_count": 5,
              "row_count": 8,
              "columns": [
                {
                  "name": "embun",
                  "dtype": "float64",
                  "stats": {
                    "unique_count": 8,
                    "nan_count": 0,
                    "min": "1.3830484773787242",
                    "max": "219.0",
                    "histogram": [
                      {
                        "bin_start": 1.3830484773787242,
                        "bin_end": 23.144743629640853,
                        "count": 6
                      },
                      {
                        "bin_start": 23.144743629640853,
                        "bin_end": 44.90643878190298,
                        "count": 1
                      },
                      {
                        "bin_start": 44.90643878190298,
                        "bin_end": 66.66813393416511,
                        "count": 0
                      },
                      {
                        "bin_start": 66.66813393416511,
                        "bin_end": 88.42982908642723,
                        "count": 0
                      },
                      {
                        "bin_start": 88.42982908642723,
                        "bin_end": 110.19152423868935,
                        "count": 0
                      },
                      {
                        "bin_start": 110.19152423868935,
                        "bin_end": 131.95321939095152,
                        "count": 0
                      },
                      {
                        "bin_start": 131.95321939095152,
                        "bin_end": 153.71491454321364,
                        "count": 0
                      },
                      {
                        "bin_start": 153.71491454321364,
                        "bin_end": 175.47660969547576,
                        "count": 0
                      },
                      {
                        "bin_start": 175.47660969547576,
                        "bin_end": 197.23830484773788,
                        "count": 0
                      },
                      {
                        "bin_start": 197.23830484773788,
                        "bin_end": 219,
                        "count": 1
                      }
                    ]
                  }
                },
                {
                  "name": "kelembapan",
                  "dtype": "float64",
                  "stats": {
                    "unique_count": 8,
                    "nan_count": 0,
                    "min": "11.403563629749785",
                    "max": "219.0",
                    "histogram": [
                      {
                        "bin_start": 11.403563629749785,
                        "bin_end": 32.163207266774805,
                        "count": 1
                      },
                      {
                        "bin_start": 32.163207266774805,
                        "bin_end": 52.92285090379983,
                        "count": 2
                      },
                      {
                        "bin_start": 52.92285090379983,
                        "bin_end": 73.68249454082485,
                        "count": 3
                      },
                      {
                        "bin_start": 73.68249454082485,
                        "bin_end": 94.44213817784987,
                        "count": 1
                      },
                      {
                        "bin_start": 94.44213817784987,
                        "bin_end": 115.20178181487489,
                        "count": 0
                      },
                      {
                        "bin_start": 115.20178181487489,
                        "bin_end": 135.9614254518999,
                        "count": 0
                      },
                      {
                        "bin_start": 135.9614254518999,
                        "bin_end": 156.72106908892493,
                        "count": 0
                      },
                      {
                        "bin_start": 156.72106908892493,
                        "bin_end": 177.48071272594996,
                        "count": 0
                      },
                      {
                        "bin_start": 177.48071272594996,
                        "bin_end": 198.24035636297498,
                        "count": 0
                      },
                      {
                        "bin_start": 198.24035636297498,
                        "bin_end": 219,
                        "count": 1
                      }
                    ]
                  }
                },
                {
                  "name": "suhu",
                  "dtype": "float64",
                  "stats": {
                    "unique_count": 8,
                    "nan_count": 0,
                    "min": "4.430591042547412",
                    "max": "219.0",
                    "histogram": [
                      {
                        "bin_start": 4.430591042547412,
                        "bin_end": 25.88753193829267,
                        "count": 3
                      },
                      {
                        "bin_start": 25.88753193829267,
                        "bin_end": 47.34447283403793,
                        "count": 4
                      },
                      {
                        "bin_start": 47.34447283403793,
                        "bin_end": 68.80141372978318,
                        "count": 0
                      },
                      {
                        "bin_start": 68.80141372978318,
                        "bin_end": 90.25835462552845,
                        "count": 0
                      },
                      {
                        "bin_start": 90.25835462552845,
                        "bin_end": 111.7152955212737,
                        "count": 0
                      },
                      {
                        "bin_start": 111.7152955212737,
                        "bin_end": 133.17223641701895,
                        "count": 0
                      },
                      {
                        "bin_start": 133.17223641701895,
                        "bin_end": 154.62917731276423,
                        "count": 0
                      },
                      {
                        "bin_start": 154.62917731276423,
                        "bin_end": 176.08611820850948,
                        "count": 0
                      },
                      {
                        "bin_start": 176.08611820850948,
                        "bin_end": 197.54305910425472,
                        "count": 0
                      },
                      {
                        "bin_start": 197.54305910425472,
                        "bin_end": 219,
                        "count": 1
                      }
                    ]
                  }
                },
                {
                  "name": "tekanan",
                  "dtype": "float64",
                  "stats": {
                    "unique_count": 8,
                    "nan_count": 0,
                    "min": "2.925821076619908",
                    "max": "1009.0",
                    "histogram": [
                      {
                        "bin_start": 2.925821076619908,
                        "bin_end": 103.53323896895793,
                        "count": 1
                      },
                      {
                        "bin_start": 103.53323896895793,
                        "bin_end": 204.14065686129595,
                        "count": 0
                      },
                      {
                        "bin_start": 204.14065686129595,
                        "bin_end": 304.74807475363394,
                        "count": 1
                      },
                      {
                        "bin_start": 304.74807475363394,
                        "bin_end": 405.355492645972,
                        "count": 0
                      },
                      {
                        "bin_start": 405.355492645972,
                        "bin_end": 505.96291053831004,
                        "count": 0
                      },
                      {
                        "bin_start": 505.96291053831004,
                        "bin_end": 606.5703284306479,
                        "count": 0
                      },
                      {
                        "bin_start": 606.5703284306479,
                        "bin_end": 707.177746322986,
                        "count": 0
                      },
                      {
                        "bin_start": 707.177746322986,
                        "bin_end": 807.785164215324,
                        "count": 0
                      },
                      {
                        "bin_start": 807.785164215324,
                        "bin_end": 908.3925821076621,
                        "count": 0
                      },
                      {
                        "bin_start": 908.3925821076621,
                        "bin_end": 1009,
                        "count": 6
                      }
                    ]
                  }
                },
                {
                  "name": "volt",
                  "dtype": "float64",
                  "stats": {
                    "unique_count": 6,
                    "nan_count": 0,
                    "min": "0.0",
                    "max": "219.0",
                    "histogram": [
                      {
                        "bin_start": 0,
                        "bin_end": 21.9,
                        "count": 7
                      },
                      {
                        "bin_start": 21.9,
                        "bin_end": 43.8,
                        "count": 0
                      },
                      {
                        "bin_start": 43.8,
                        "bin_end": 65.69999999999999,
                        "count": 0
                      },
                      {
                        "bin_start": 65.69999999999999,
                        "bin_end": 87.6,
                        "count": 0
                      },
                      {
                        "bin_start": 87.6,
                        "bin_end": 109.5,
                        "count": 0
                      },
                      {
                        "bin_start": 109.5,
                        "bin_end": 131.39999999999998,
                        "count": 0
                      },
                      {
                        "bin_start": 131.39999999999998,
                        "bin_end": 153.29999999999998,
                        "count": 0
                      },
                      {
                        "bin_start": 153.29999999999998,
                        "bin_end": 175.2,
                        "count": 0
                      },
                      {
                        "bin_start": 175.2,
                        "bin_end": 197.1,
                        "count": 0
                      },
                      {
                        "bin_start": 197.1,
                        "bin_end": 219,
                        "count": 1
                      }
                    ]
                  }
                },
                {
                  "name": "_deepnote_index_column",
                  "dtype": "object"
                }
              ],
              "rows": [
                {
                  "embun": 219,
                  "kelembapan": 219,
                  "suhu": 219,
                  "tekanan": 219,
                  "volt": 219,
                  "_deepnote_index_column": "count"
                },
                {
                  "embun": 22.004566210045663,
                  "kelembapan": 59.00456621004566,
                  "suhu": 26.89041095890411,
                  "tekanan": 1004.2420091324201,
                  "volt": 1.4748858447488584,
                  "_deepnote_index_column": "mean"
                },
                {
                  "embun": 1.3830484773787242,
                  "kelembapan": 11.403563629749785,
                  "suhu": 4.430591042547412,
                  "tekanan": 2.925821076619908,
                  "volt": 1.1345529616058556,
                  "_deepnote_index_column": "std"
                },
                {
                  "embun": 20,
                  "kelembapan": 40,
                  "suhu": 20,
                  "tekanan": 1000,
                  "volt": 0,
                  "_deepnote_index_column": "min"
                },
                {
                  "embun": 21,
                  "kelembapan": 49,
                  "suhu": 23,
                  "tekanan": 1002,
                  "volt": 0,
                  "_deepnote_index_column": "25%"
                },
                {
                  "embun": 22,
                  "kelembapan": 59,
                  "suhu": 27,
                  "tekanan": 1004,
                  "volt": 2,
                  "_deepnote_index_column": "50%"
                },
                {
                  "embun": 23,
                  "kelembapan": 69,
                  "suhu": 31,
                  "tekanan": 1007,
                  "volt": 2,
                  "_deepnote_index_column": "75%"
                },
                {
                  "embun": 24,
                  "kelembapan": 79,
                  "suhu": 34,
                  "tekanan": 1009,
                  "volt": 3,
                  "_deepnote_index_column": "max"
                }
              ]
            },
            "text/plain": "            embun  kelembapan        suhu      tekanan        volt\ncount  219.000000  219.000000  219.000000   219.000000  219.000000\nmean    22.004566   59.004566   26.890411  1004.242009    1.474886\nstd      1.383048   11.403564    4.430591     2.925821    1.134553\nmin     20.000000   40.000000   20.000000  1000.000000    0.000000\n25%     21.000000   49.000000   23.000000  1002.000000    0.000000\n50%     22.000000   59.000000   27.000000  1004.000000    2.000000\n75%     23.000000   69.000000   31.000000  1007.000000    2.000000\nmax     24.000000   79.000000   34.000000  1009.000000    3.000000",
            "text/html": "<div>\n<style scoped>\n    .dataframe tbody tr th:only-of-type {\n        vertical-align: middle;\n    }\n\n    .dataframe tbody tr th {\n        vertical-align: top;\n    }\n\n    .dataframe thead th {\n        text-align: right;\n    }\n</style>\n<table border=\"1\" class=\"dataframe\">\n  <thead>\n    <tr style=\"text-align: right;\">\n      <th></th>\n      <th>embun</th>\n      <th>kelembapan</th>\n      <th>suhu</th>\n      <th>tekanan</th>\n      <th>volt</th>\n    </tr>\n  </thead>\n  <tbody>\n    <tr>\n      <th>count</th>\n      <td>219.000000</td>\n      <td>219.000000</td>\n      <td>219.000000</td>\n      <td>219.000000</td>\n      <td>219.000000</td>\n    </tr>\n    <tr>\n      <th>mean</th>\n      <td>22.004566</td>\n      <td>59.004566</td>\n      <td>26.890411</td>\n      <td>1004.242009</td>\n      <td>1.474886</td>\n    </tr>\n    <tr>\n      <th>std</th>\n      <td>1.383048</td>\n      <td>11.403564</td>\n      <td>4.430591</td>\n      <td>2.925821</td>\n      <td>1.134553</td>\n    </tr>\n    <tr>\n      <th>min</th>\n      <td>20.000000</td>\n      <td>40.000000</td>\n      <td>20.000000</td>\n      <td>1000.000000</td>\n      <td>0.000000</td>\n    </tr>\n    <tr>\n      <th>25%</th>\n      <td>21.000000</td>\n      <td>49.000000</td>\n      <td>23.000000</td>\n      <td>1002.000000</td>\n      <td>0.000000</td>\n    </tr>\n    <tr>\n      <th>50%</th>\n      <td>22.000000</td>\n      <td>59.000000</td>\n      <td>27.000000</td>\n      <td>1004.000000</td>\n      <td>2.000000</td>\n    </tr>\n    <tr>\n      <th>75%</th>\n      <td>23.000000</td>\n      <td>69.000000</td>\n      <td>31.000000</td>\n      <td>1007.000000</td>\n      <td>2.000000</td>\n    </tr>\n    <tr>\n      <th>max</th>\n      <td>24.000000</td>\n      <td>79.000000</td>\n      <td>34.000000</td>\n      <td>1009.000000</td>\n      <td>3.000000</td>\n    </tr>\n  </tbody>\n</table>\n</div>"
          },
          "metadata": {}
        }
      ],
      "outputs_reference": null,
      "execution_count": 11,
      "block_group": "ff31d71619a243d0a5a6baddae6bfb89",
      "content_dependencies": null
    },
    {
      "cell_type": "code",
      "source": "# Menimpa semua data dengan JSON kosong\nref.set({})\n\nprint(\"Semua data berhasil ditimpa dengan JSON kosong.\")",
      "metadata": {
        "source_hash": "e2e98f6",
        "execution_start": 1729769691995,
        "execution_millis": 239,
        "execution_context_id": "5461296d-01e7-477d-8578-4afa55a6eb5f",
        "cell_id": "5d4a4f4a9c67490094d7646f2eed5de3",
        "deepnote_cell_type": "code"
      },
      "outputs": [
        {
          "name": "stdout",
          "text": "Semua data berhasil ditimpa dengan JSON kosong.\n",
          "output_type": "stream"
        }
      ],
      "outputs_reference": null,
      "execution_count": 7,
      "block_group": "8b8f2392f98443998e51005fd14b610b",
      "content_dependencies": null
    },
    {
      "cell_type": "markdown",
      "source": "<a style='text-decoration:none;line-height:16px;display:flex;color:#5B5B62;padding:10px;justify-content:end;' href='https://deepnote.com?utm_source=created-in-deepnote-cell&projectId=200afad5-8991-4e20-8a55-8751c7aff3b5' target=\"_blank\">\n<img alt='Created in deepnote.com' style='display:inline;max-height:16px;margin:0px;margin-right:7.5px;' src='data:image/svg+xml;base64,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' > </img>\nCreated in <span style='font-weight:600;margin-left:4px;'>Deepnote</span></a>",
      "metadata": {
        "created_in_deepnote_cell": true,
        "deepnote_cell_type": "markdown"
      }
    }
  ],
  "nbformat": 4,
  "nbformat_minor": 0,
  "metadata": {
    "deepnote_notebook_id": "70c6a4c80350452eb5275a8767326fb2",
    "deepnote_execution_queue": []
  }
}