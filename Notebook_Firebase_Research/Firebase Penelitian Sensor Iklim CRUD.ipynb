{
  "cells": [
    {
      "cell_type": "markdown",
      "source": "",
      "metadata": {
        "formattedRanges": [],
        "cell_id": "5b426bef605c4a1dabac38943f3a6902",
        "deepnote_cell_type": "text-cell-p"
      },
      "block_group": "59d0467ff22f4ab49f6162f3bcf887f6"
    },
    {
      "cell_type": "code",
      "source": "!pip install firebase_admin\nimport firebase_admin\nfrom firebase_admin import credentials, db\n\n# Inisialisasi Firebase Admin SDK\ncred = credentials.Certificate('/work/database-sensor-iklim-litbang-firebase-admin.json')  # Ganti dengan path ke file JSON Service Account Anda\nfirebase_admin.initialize_app(cred, {\n    'databaseURL': 'https://database-sensor-iklim-litbang-default-rtdb.asia-southeast1.firebasedatabase.app/'  # URL Firebase RTDB\n})",
      "metadata": {
        "source_hash": "2d20d211",
        "execution_start": 1729776973995,
        "execution_millis": 4403,
        "execution_context_id": "bfdf5176-4a69-4a9a-9b12-64f64cd7815d",
        "cell_id": "670afa86675c4b76805d921497372640",
        "deepnote_cell_type": "code"
      },
      "outputs": [
        {
          "name": "stdout",
          "text": "Requirement already satisfied: firebase_admin in /root/venv/lib/python3.11/site-packages (6.5.0)\nRequirement already satisfied: cachecontrol>=0.12.6 in /root/venv/lib/python3.11/site-packages (from firebase_admin) (0.14.0)\nRequirement already satisfied: google-api-python-client>=1.7.8 in /root/venv/lib/python3.11/site-packages (from firebase_admin) (2.149.0)\nRequirement already satisfied: google-cloud-storage>=1.37.1 in /root/venv/lib/python3.11/site-packages (from firebase_admin) (2.14.0)\nRequirement already satisfied: pyjwt>=2.5.0 in /shared-libs/python3.11/py/lib/python3.11/site-packages (from pyjwt[crypto]>=2.5.0->firebase_admin) (2.8.0)\nRequirement already satisfied: google-api-core<3.0.0dev,>=1.22.1 in /shared-libs/python3.11/py/lib/python3.11/site-packages (from google-api-core[grpc]<3.0.0dev,>=1.22.1; platform_python_implementation != \"PyPy\"->firebase_admin) (2.12.0)\nRequirement already satisfied: google-cloud-firestore>=2.9.1 in /root/venv/lib/python3.11/site-packages (from firebase_admin) (2.19.0)\nRequirement already satisfied: requests>=2.16.0 in /shared-libs/python3.11/py/lib/python3.11/site-packages (from cachecontrol>=0.12.6->firebase_admin) (2.31.0)\nRequirement already satisfied: msgpack<2.0.0,>=0.5.2 in /root/venv/lib/python3.11/site-packages (from cachecontrol>=0.12.6->firebase_admin) (1.1.0)\nRequirement already satisfied: googleapis-common-protos<2.0.dev0,>=1.56.2 in /shared-libs/python3.11/py/lib/python3.11/site-packages (from google-api-core<3.0.0dev,>=1.22.1->google-api-core[grpc]<3.0.0dev,>=1.22.1; platform_python_implementation != \"PyPy\"->firebase_admin) (1.61.0)\nRequirement already satisfied: protobuf!=3.20.0,!=3.20.1,!=4.21.0,!=4.21.1,!=4.21.2,!=4.21.3,!=4.21.4,!=4.21.5,<5.0.0.dev0,>=3.19.5 in /shared-libs/python3.11/py/lib/python3.11/site-packages (from google-api-core<3.0.0dev,>=1.22.1->google-api-core[grpc]<3.0.0dev,>=1.22.1; platform_python_implementation != \"PyPy\"->firebase_admin) (4.24.4)\nRequirement already satisfied: google-auth<3.0.dev0,>=2.14.1 in /shared-libs/python3.11/py/lib/python3.11/site-packages (from google-api-core<3.0.0dev,>=1.22.1->google-api-core[grpc]<3.0.0dev,>=1.22.1; platform_python_implementation != \"PyPy\"->firebase_admin) (2.23.3)\nRequirement already satisfied: grpcio<2.0dev,>=1.33.2 in /shared-libs/python3.11/py/lib/python3.11/site-packages (from google-api-core[grpc]<3.0.0dev,>=1.22.1; platform_python_implementation != \"PyPy\"->firebase_admin) (1.59.0)\nRequirement already satisfied: grpcio-status<2.0.dev0,>=1.33.2 in /shared-libs/python3.11/py/lib/python3.11/site-packages (from google-api-core[grpc]<3.0.0dev,>=1.22.1; platform_python_implementation != \"PyPy\"->firebase_admin) (1.59.0)\nRequirement already satisfied: httplib2<1.dev0,>=0.19.0 in /root/venv/lib/python3.11/site-packages (from google-api-python-client>=1.7.8->firebase_admin) (0.22.0)\nRequirement already satisfied: google-auth-httplib2<1.0.0,>=0.2.0 in /root/venv/lib/python3.11/site-packages (from google-api-python-client>=1.7.8->firebase_admin) (0.2.0)\nRequirement already satisfied: uritemplate<5,>=3.0.1 in /root/venv/lib/python3.11/site-packages (from google-api-python-client>=1.7.8->firebase_admin) (4.1.1)\nRequirement already satisfied: google-cloud-core<3.0.0dev,>=1.4.1 in /shared-libs/python3.11/py/lib/python3.11/site-packages (from google-cloud-firestore>=2.9.1->firebase_admin) (2.3.3)\nRequirement already satisfied: proto-plus<2.0.0dev,>=1.22.0 in /shared-libs/python3.11/py/lib/python3.11/site-packages (from google-cloud-firestore>=2.9.1->firebase_admin) (1.22.3)\nRequirement already satisfied: google-resumable-media>=2.6.0 in /shared-libs/python3.11/py/lib/python3.11/site-packages (from google-cloud-storage>=1.37.1->firebase_admin) (2.6.0)\nRequirement already satisfied: google-crc32c<2.0dev,>=1.0 in /shared-libs/python3.11/py/lib/python3.11/site-packages (from google-cloud-storage>=1.37.1->firebase_admin) (1.5.0)\nRequirement already satisfied: cryptography>=3.4.0 in /shared-libs/python3.11/py/lib/python3.11/site-packages (from pyjwt[crypto]>=2.5.0->firebase_admin) (41.0.4)\nRequirement already satisfied: cffi>=1.12 in /shared-libs/python3.11/py-core/lib/python3.11/site-packages (from cryptography>=3.4.0->pyjwt[crypto]>=2.5.0->firebase_admin) (1.16.0)\nRequirement already satisfied: cachetools<6.0,>=2.0.0 in /shared-libs/python3.11/py/lib/python3.11/site-packages (from google-auth<3.0.dev0,>=2.14.1->google-api-core<3.0.0dev,>=1.22.1->google-api-core[grpc]<3.0.0dev,>=1.22.1; platform_python_implementation != \"PyPy\"->firebase_admin) (5.3.1)\nRequirement already satisfied: pyasn1-modules>=0.2.1 in /shared-libs/python3.11/py/lib/python3.11/site-packages (from google-auth<3.0.dev0,>=2.14.1->google-api-core<3.0.0dev,>=1.22.1->google-api-core[grpc]<3.0.0dev,>=1.22.1; platform_python_implementation != \"PyPy\"->firebase_admin) (0.3.0)\nRequirement already satisfied: rsa<5,>=3.1.4 in /shared-libs/python3.11/py/lib/python3.11/site-packages (from google-auth<3.0.dev0,>=2.14.1->google-api-core<3.0.0dev,>=1.22.1->google-api-core[grpc]<3.0.0dev,>=1.22.1; platform_python_implementation != \"PyPy\"->firebase_admin) (4.9)\nRequirement already satisfied: pyparsing!=3.0.0,!=3.0.1,!=3.0.2,!=3.0.3,<4,>=2.4.2 in /shared-libs/python3.11/py/lib/python3.11/site-packages (from httplib2<1.dev0,>=0.19.0->google-api-python-client>=1.7.8->firebase_admin) (3.1.1)\nRequirement already satisfied: charset-normalizer<4,>=2 in /shared-libs/python3.11/py/lib/python3.11/site-packages (from requests>=2.16.0->cachecontrol>=0.12.6->firebase_admin) (3.3.0)\nRequirement already satisfied: idna<4,>=2.5 in /shared-libs/python3.11/py-core/lib/python3.11/site-packages (from requests>=2.16.0->cachecontrol>=0.12.6->firebase_admin) (3.4)\nRequirement already satisfied: urllib3<3,>=1.21.1 in /shared-libs/python3.11/py/lib/python3.11/site-packages (from requests>=2.16.0->cachecontrol>=0.12.6->firebase_admin) (1.26.18)\nRequirement already satisfied: certifi>=2017.4.17 in /shared-libs/python3.11/py/lib/python3.11/site-packages (from requests>=2.16.0->cachecontrol>=0.12.6->firebase_admin) (2023.7.22)\nRequirement already satisfied: pycparser in /shared-libs/python3.11/py-core/lib/python3.11/site-packages (from cffi>=1.12->cryptography>=3.4.0->pyjwt[crypto]>=2.5.0->firebase_admin) (2.21)\nRequirement already satisfied: pyasn1<0.6.0,>=0.4.6 in /shared-libs/python3.11/py/lib/python3.11/site-packages (from pyasn1-modules>=0.2.1->google-auth<3.0.dev0,>=2.14.1->google-api-core<3.0.0dev,>=1.22.1->google-api-core[grpc]<3.0.0dev,>=1.22.1; platform_python_implementation != \"PyPy\"->firebase_admin) (0.5.0)\n\n\u001b[1m[\u001b[0m\u001b[34;49mnotice\u001b[0m\u001b[1;39;49m]\u001b[0m\u001b[39;49m A new release of pip is available: \u001b[0m\u001b[31;49m24.0\u001b[0m\u001b[39;49m -> \u001b[0m\u001b[32;49m24.2\u001b[0m\n\u001b[1m[\u001b[0m\u001b[34;49mnotice\u001b[0m\u001b[1;39;49m]\u001b[0m\u001b[39;49m To update, run: \u001b[0m\u001b[32;49mpip install --upgrade pip\u001b[0m\n",
          "output_type": "stream"
        },
        {
          "output_type": "execute_result",
          "execution_count": 1,
          "data": {
            "text/plain": "<firebase_admin.App at 0x7f8e10f13b90>"
          },
          "metadata": {}
        }
      ],
      "outputs_reference": null,
      "execution_count": 1,
      "block_group": "414de8cd8eb746c295d44618d6d024b8",
      "content_dependencies": null
    },
    {
      "cell_type": "code",
      "source": "import pandas as pd\n# Referensi ke database\nref = db.reference('test/stream/')  # Referensi root, bisa disesuaikan jika ingin membaca data pada path tertentu\n\n# Ambil data dari Firebase RTDB\ndata = ref.get()\n\n# Cek apakah data ditemukan\nif data:\n    print(\"Data berhasil dibaca.\")\n\n    # Convert data ke dataframe pandas\n    df = pd.DataFrame.from_dict(data, orient='index')  # Menggunakan orient='index' untuk menjadikan key sebagai index\n    \n    # Tampilkan beberapa baris pertama dari dataframe\n    print(df.head())\n\nelse:\n    print(\"Tidak ada data yang ditemukan.\")",
      "metadata": {
        "source_hash": "99466f8f",
        "execution_start": 1729776985681,
        "execution_millis": 601,
        "execution_context_id": "bfdf5176-4a69-4a9a-9b12-64f64cd7815d",
        "cell_id": "227d1c65d7b04aab964fecaa32031f8e",
        "deepnote_cell_type": "code"
      },
      "outputs": [
        {
          "name": "stdout",
          "text": "Data berhasil dibaca.\n            embun  kelembapan  suhu  tekanan   timestamp  volt\n1729801771     23          47    34     1004  1729801771     0\n1729801781     23          63    21     1002  1729801781     3\n1729801791     20          79    34     1008  1729801791     2\n1729801801     22          46    26     1007  1729801801     1\n1729801811     23          50    30     1004  1729801811     0\n",
          "output_type": "stream"
        }
      ],
      "outputs_reference": null,
      "execution_count": 2,
      "block_group": "0f5fcb1b1e1042aea00b8c7ff361e8c2",
      "content_dependencies": null
    },
    {
      "cell_type": "code",
      "source": "df.describe()",
      "metadata": {
        "source_hash": "f88152d9",
        "execution_start": 1729777616621,
        "execution_millis": 22,
        "execution_context_id": "bfdf5176-4a69-4a9a-9b12-64f64cd7815d",
        "cell_id": "4e602a6ce84e4577a141f0b70c5efa77",
        "deepnote_cell_type": "code"
      },
      "outputs": [
        {
          "output_type": "execute_result",
          "execution_count": 9,
          "data": {
            "application/vnd.deepnote.dataframe.v3+json": {
              "column_count": 5,
              "row_count": 8,
              "columns": [
                {
                  "name": "embun",
                  "dtype": "float64",
                  "stats": {
                    "unique_count": 7,
                    "nan_count": 0,
                    "min": "1.303305901075033",
                    "max": "42.0",
                    "histogram": [
                      {
                        "bin_start": 1.303305901075033,
                        "bin_end": 5.372975310967529,
                        "count": 1
                      },
                      {
                        "bin_start": 5.372975310967529,
                        "bin_end": 9.442644720860025,
                        "count": 0
                      },
                      {
                        "bin_start": 9.442644720860025,
                        "bin_end": 13.512314130752522,
                        "count": 0
                      },
                      {
                        "bin_start": 13.512314130752522,
                        "bin_end": 17.581983540645016,
                        "count": 0
                      },
                      {
                        "bin_start": 17.581983540645016,
                        "bin_end": 21.651652950537514,
                        "count": 1
                      },
                      {
                        "bin_start": 21.651652950537514,
                        "bin_end": 25.72132236043001,
                        "count": 5
                      },
                      {
                        "bin_start": 25.72132236043001,
                        "bin_end": 29.790991770322503,
                        "count": 0
                      },
                      {
                        "bin_start": 29.790991770322503,
                        "bin_end": 33.860661180215004,
                        "count": 0
                      },
                      {
                        "bin_start": 33.860661180215004,
                        "bin_end": 37.9303305901075,
                        "count": 0
                      },
                      {
                        "bin_start": 37.9303305901075,
                        "bin_end": 42,
                        "count": 1
                      }
                    ]
                  }
                },
                {
                  "name": "kelembapan",
                  "dtype": "float64",
                  "stats": {
                    "unique_count": 7,
                    "nan_count": 0,
                    "min": "10.987692407266483",
                    "max": "79.0",
                    "histogram": [
                      {
                        "bin_start": 10.987692407266483,
                        "bin_end": 17.788923166539835,
                        "count": 1
                      },
                      {
                        "bin_start": 17.788923166539835,
                        "bin_end": 24.590153925813187,
                        "count": 0
                      },
                      {
                        "bin_start": 24.590153925813187,
                        "bin_end": 31.39138468508654,
                        "count": 0
                      },
                      {
                        "bin_start": 31.39138468508654,
                        "bin_end": 38.19261544435989,
                        "count": 0
                      },
                      {
                        "bin_start": 38.19261544435989,
                        "bin_end": 44.99384620363324,
                        "count": 2
                      },
                      {
                        "bin_start": 44.99384620363324,
                        "bin_end": 51.79507696290659,
                        "count": 1
                      },
                      {
                        "bin_start": 51.79507696290659,
                        "bin_end": 58.596307722179944,
                        "count": 0
                      },
                      {
                        "bin_start": 58.596307722179944,
                        "bin_end": 65.3975384814533,
                        "count": 2
                      },
                      {
                        "bin_start": 65.3975384814533,
                        "bin_end": 72.19876924072665,
                        "count": 1
                      },
                      {
                        "bin_start": 72.19876924072665,
                        "bin_end": 79,
                        "count": 1
                      }
                    ]
                  }
                },
                {
                  "name": "suhu",
                  "dtype": "float64",
                  "stats": {
                    "unique_count": 8,
                    "nan_count": 0,
                    "min": "4.28973872214816",
                    "max": "42.0",
                    "histogram": [
                      {
                        "bin_start": 4.28973872214816,
                        "bin_end": 8.060764849933344,
                        "count": 1
                      },
                      {
                        "bin_start": 8.060764849933344,
                        "bin_end": 11.831790977718528,
                        "count": 0
                      },
                      {
                        "bin_start": 11.831790977718528,
                        "bin_end": 15.602817105503712,
                        "count": 0
                      },
                      {
                        "bin_start": 15.602817105503712,
                        "bin_end": 19.373843233288895,
                        "count": 0
                      },
                      {
                        "bin_start": 19.373843233288895,
                        "bin_end": 23.14486936107408,
                        "count": 1
                      },
                      {
                        "bin_start": 23.14486936107408,
                        "bin_end": 26.915895488859263,
                        "count": 1
                      },
                      {
                        "bin_start": 26.915895488859263,
                        "bin_end": 30.686921616644447,
                        "count": 2
                      },
                      {
                        "bin_start": 30.686921616644447,
                        "bin_end": 34.45794774442963,
                        "count": 2
                      },
                      {
                        "bin_start": 34.45794774442963,
                        "bin_end": 38.228973872214816,
                        "count": 0
                      },
                      {
                        "bin_start": 38.228973872214816,
                        "bin_end": 42,
                        "count": 1
                      }
                    ]
                  }
                },
                {
                  "name": "tekanan",
                  "dtype": "float64",
                  "stats": {
                    "unique_count": 8,
                    "nan_count": 0,
                    "min": "3.1890674165379695",
                    "max": "1009.0",
                    "histogram": [
                      {
                        "bin_start": 3.1890674165379695,
                        "bin_end": 103.77016067488417,
                        "count": 2
                      },
                      {
                        "bin_start": 103.77016067488417,
                        "bin_end": 204.35125393323037,
                        "count": 0
                      },
                      {
                        "bin_start": 204.35125393323037,
                        "bin_end": 304.9323471915766,
                        "count": 0
                      },
                      {
                        "bin_start": 304.9323471915766,
                        "bin_end": 405.51344044992277,
                        "count": 0
                      },
                      {
                        "bin_start": 405.51344044992277,
                        "bin_end": 506.09453370826895,
                        "count": 0
                      },
                      {
                        "bin_start": 506.09453370826895,
                        "bin_end": 606.6756269666153,
                        "count": 0
                      },
                      {
                        "bin_start": 606.6756269666153,
                        "bin_end": 707.2567202249614,
                        "count": 0
                      },
                      {
                        "bin_start": 707.2567202249614,
                        "bin_end": 807.8378134833076,
                        "count": 0
                      },
                      {
                        "bin_start": 807.8378134833076,
                        "bin_end": 908.4189067416538,
                        "count": 0
                      },
                      {
                        "bin_start": 908.4189067416538,
                        "bin_end": 1009,
                        "count": 6
                      }
                    ]
                  }
                },
                {
                  "name": "volt",
                  "dtype": "float64",
                  "stats": {
                    "unique_count": 6,
                    "nan_count": 0,
                    "min": "0.0",
                    "max": "42.0",
                    "histogram": [
                      {
                        "bin_start": 0,
                        "bin_end": 4.2,
                        "count": 7
                      },
                      {
                        "bin_start": 4.2,
                        "bin_end": 8.4,
                        "count": 0
                      },
                      {
                        "bin_start": 8.4,
                        "bin_end": 12.600000000000001,
                        "count": 0
                      },
                      {
                        "bin_start": 12.600000000000001,
                        "bin_end": 16.8,
                        "count": 0
                      },
                      {
                        "bin_start": 16.8,
                        "bin_end": 21,
                        "count": 0
                      },
                      {
                        "bin_start": 21,
                        "bin_end": 25.200000000000003,
                        "count": 0
                      },
                      {
                        "bin_start": 25.200000000000003,
                        "bin_end": 29.400000000000002,
                        "count": 0
                      },
                      {
                        "bin_start": 29.400000000000002,
                        "bin_end": 33.6,
                        "count": 0
                      },
                      {
                        "bin_start": 33.6,
                        "bin_end": 37.800000000000004,
                        "count": 0
                      },
                      {
                        "bin_start": 37.800000000000004,
                        "bin_end": 42,
                        "count": 1
                      }
                    ]
                  }
                },
                {
                  "name": "_deepnote_index_column",
                  "dtype": "object"
                }
              ],
              "rows": [
                {
                  "embun": 42,
                  "kelembapan": 42,
                  "suhu": 42,
                  "tekanan": 42,
                  "volt": 42,
                  "_deepnote_index_column": "count"
                },
                {
                  "embun": 22.357142857142858,
                  "kelembapan": 60.38095238095238,
                  "suhu": 27.80952380952381,
                  "tekanan": 1004.6904761904761,
                  "volt": 1.3571428571428572,
                  "_deepnote_index_column": "mean"
                },
                {
                  "embun": 1.303305901075033,
                  "kelembapan": 10.987692407266483,
                  "suhu": 4.28973872214816,
                  "tekanan": 3.1890674165379695,
                  "volt": 1.245899196709898,
                  "_deepnote_index_column": "std"
                },
                {
                  "embun": 20,
                  "kelembapan": 42,
                  "suhu": 20,
                  "tekanan": 1000,
                  "volt": 0,
                  "_deepnote_index_column": "min"
                },
                {
                  "embun": 22,
                  "kelembapan": 51,
                  "suhu": 25,
                  "tekanan": 1002,
                  "volt": 0,
                  "_deepnote_index_column": "25%"
                },
                {
                  "embun": 23,
                  "kelembapan": 60.5,
                  "suhu": 29,
                  "tekanan": 1004,
                  "volt": 1,
                  "_deepnote_index_column": "50%"
                },
                {
                  "embun": 23,
                  "kelembapan": 68,
                  "suhu": 30.75,
                  "tekanan": 1008,
                  "volt": 3,
                  "_deepnote_index_column": "75%"
                },
                {
                  "embun": 24,
                  "kelembapan": 79,
                  "suhu": 34,
                  "tekanan": 1009,
                  "volt": 3,
                  "_deepnote_index_column": "max"
                }
              ]
            },
            "text/plain": "           embun  kelembapan       suhu      tekanan       volt\ncount  42.000000   42.000000  42.000000    42.000000  42.000000\nmean   22.357143   60.380952  27.809524  1004.690476   1.357143\nstd     1.303306   10.987692   4.289739     3.189067   1.245899\nmin    20.000000   42.000000  20.000000  1000.000000   0.000000\n25%    22.000000   51.000000  25.000000  1002.000000   0.000000\n50%    23.000000   60.500000  29.000000  1004.000000   1.000000\n75%    23.000000   68.000000  30.750000  1008.000000   3.000000\nmax    24.000000   79.000000  34.000000  1009.000000   3.000000",
            "text/html": "<div>\n<style scoped>\n    .dataframe tbody tr th:only-of-type {\n        vertical-align: middle;\n    }\n\n    .dataframe tbody tr th {\n        vertical-align: top;\n    }\n\n    .dataframe thead th {\n        text-align: right;\n    }\n</style>\n<table border=\"1\" class=\"dataframe\">\n  <thead>\n    <tr style=\"text-align: right;\">\n      <th></th>\n      <th>embun</th>\n      <th>kelembapan</th>\n      <th>suhu</th>\n      <th>tekanan</th>\n      <th>volt</th>\n    </tr>\n  </thead>\n  <tbody>\n    <tr>\n      <th>count</th>\n      <td>42.000000</td>\n      <td>42.000000</td>\n      <td>42.000000</td>\n      <td>42.000000</td>\n      <td>42.000000</td>\n    </tr>\n    <tr>\n      <th>mean</th>\n      <td>22.357143</td>\n      <td>60.380952</td>\n      <td>27.809524</td>\n      <td>1004.690476</td>\n      <td>1.357143</td>\n    </tr>\n    <tr>\n      <th>std</th>\n      <td>1.303306</td>\n      <td>10.987692</td>\n      <td>4.289739</td>\n      <td>3.189067</td>\n      <td>1.245899</td>\n    </tr>\n    <tr>\n      <th>min</th>\n      <td>20.000000</td>\n      <td>42.000000</td>\n      <td>20.000000</td>\n      <td>1000.000000</td>\n      <td>0.000000</td>\n    </tr>\n    <tr>\n      <th>25%</th>\n      <td>22.000000</td>\n      <td>51.000000</td>\n      <td>25.000000</td>\n      <td>1002.000000</td>\n      <td>0.000000</td>\n    </tr>\n    <tr>\n      <th>50%</th>\n      <td>23.000000</td>\n      <td>60.500000</td>\n      <td>29.000000</td>\n      <td>1004.000000</td>\n      <td>1.000000</td>\n    </tr>\n    <tr>\n      <th>75%</th>\n      <td>23.000000</td>\n      <td>68.000000</td>\n      <td>30.750000</td>\n      <td>1008.000000</td>\n      <td>3.000000</td>\n    </tr>\n    <tr>\n      <th>max</th>\n      <td>24.000000</td>\n      <td>79.000000</td>\n      <td>34.000000</td>\n      <td>1009.000000</td>\n      <td>3.000000</td>\n    </tr>\n  </tbody>\n</table>\n</div>"
          },
          "metadata": {}
        }
      ],
      "outputs_reference": null,
      "execution_count": 9,
      "block_group": "ff31d71619a243d0a5a6baddae6bfb89",
      "content_dependencies": null
    },
    {
      "cell_type": "code",
      "source": "# Menimpa semua data dengan JSON kosong\nref.set({})\n\nprint(\"Semua data berhasil ditimpa dengan JSON kosong.\")",
      "metadata": {
        "source_hash": "e2e98f6",
        "execution_start": 1729769691995,
        "execution_millis": 239,
        "execution_context_id": "5461296d-01e7-477d-8578-4afa55a6eb5f",
        "cell_id": "5d4a4f4a9c67490094d7646f2eed5de3",
        "deepnote_cell_type": "code"
      },
      "outputs": [
        {
          "name": "stdout",
          "text": "Semua data berhasil ditimpa dengan JSON kosong.\n",
          "output_type": "stream"
        }
      ],
      "outputs_reference": null,
      "execution_count": 7,
      "block_group": "8b8f2392f98443998e51005fd14b610b",
      "content_dependencies": null
    },
    {
      "cell_type": "markdown",
      "source": "<a style='text-decoration:none;line-height:16px;display:flex;color:#5B5B62;padding:10px;justify-content:end;' href='https://deepnote.com?utm_source=created-in-deepnote-cell&projectId=200afad5-8991-4e20-8a55-8751c7aff3b5' target=\"_blank\">\n<img alt='Created in deepnote.com' style='display:inline;max-height:16px;margin:0px;margin-right:7.5px;' src='data:image/svg+xml;base64,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' > </img>\nCreated in <span style='font-weight:600;margin-left:4px;'>Deepnote</span></a>",
      "metadata": {
        "created_in_deepnote_cell": true,
        "deepnote_cell_type": "markdown"
      }
    }
  ],
  "nbformat": 4,
  "nbformat_minor": 0,
  "metadata": {
    "deepnote_notebook_id": "70c6a4c80350452eb5275a8767326fb2",
    "deepnote_execution_queue": []
  }
}