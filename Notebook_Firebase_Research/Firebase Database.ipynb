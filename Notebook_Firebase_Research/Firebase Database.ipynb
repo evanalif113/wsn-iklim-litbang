{
  "cells": [
    {
      "cell_type": "code",
      "source": "import numpy as np\nimport pandas as pd\nimport matplotlib.pyplot as plt\nimport matplotlib.dates as mdates\nimport matplotlib.animation as animation\nimport datetime\nimport seaborn as sns\nsns.set_theme(style=\"whitegrid\")\n%matplotlib inline ",
      "metadata": {
        "source_hash": "2674c85e",
        "execution_start": 1727694973451,
        "execution_millis": 95,
        "deepnote_to_be_reexecuted": false,
        "cell_id": "9ec5966b95124303906b4f526d9a698c",
        "deepnote_cell_type": "code"
      },
      "outputs": [],
      "outputs_reference": null,
      "execution_count": 37,
      "block_group": "9ec5966b95124303906b4f526d9a698c",
      "content_dependencies": null
    },
    {
      "cell_type": "code",
      "source": "cuaca = pd.read_json(\"https://staklimjerukagung-default-rtdb.asia-southeast1.firebasedatabase.app/auto_weather_stat/id-03/data.json\")\ngeomagnetik = pd.read_json(\"https://staklimjerukagung-default-rtdb.asia-southeast1.firebasedatabase.app/geomagnetic_stat/id-01/data.json\")",
      "metadata": {
        "source_hash": "9b837c5e",
        "execution_start": 1727694980135,
        "execution_millis": 0,
        "deepnote_to_be_reexecuted": false,
        "cell_id": "bff037fd46974b73a38e0b04df416792",
        "deepnote_cell_type": "code"
      },
      "outputs": [],
      "outputs_reference": null,
      "execution_count": 27,
      "block_group": "c41476a691e5442389300b0ae04c2cb6",
      "content_dependencies": null
    },
    {
      "cell_type": "code",
      "source": "cuacaT=cuaca.transpose()\ncuacaT.tail(30)",
      "metadata": {
        "source_hash": "ab8e5be9",
        "execution_start": 1727694856866,
        "execution_millis": 485,
        "deepnote_table_state": {
          "sortBy": [
            {
              "id": "timestamp",
              "type": "desc"
            }
          ],
          "filters": [],
          "pageSize": 100,
          "pageIndex": 0,
          "conditionalFilters": []
        },
        "deepnote_table_loading": false,
        "deepnote_to_be_reexecuted": false,
        "cell_id": "2b353e247d6d4d7ab5f689552d1edf8a",
        "deepnote_cell_type": "code"
      },
      "outputs": [
        {
          "output_type": "execute_result",
          "execution_count": 28,
          "data": {
            "application/vnd.deepnote.dataframe.v3+json": {
              "column_count": 6,
              "row_count": 30,
              "columns": [
                {
                  "name": "dew",
                  "dtype": "float64",
                  "stats": {
                    "unique_count": 9,
                    "nan_count": 0,
                    "min": "25.81",
                    "max": "25.9",
                    "histogram": [
                      {
                        "bin_start": 25.81,
                        "bin_end": 25.819,
                        "count": 3
                      },
                      {
                        "bin_start": 25.819,
                        "bin_end": 25.828,
                        "count": 5
                      },
                      {
                        "bin_start": 25.828,
                        "bin_end": 25.837,
                        "count": 6
                      },
                      {
                        "bin_start": 25.837,
                        "bin_end": 25.846,
                        "count": 3
                      },
                      {
                        "bin_start": 25.846,
                        "bin_end": 25.854999999999997,
                        "count": 6
                      },
                      {
                        "bin_start": 25.854999999999997,
                        "bin_end": 25.863999999999997,
                        "count": 3
                      },
                      {
                        "bin_start": 25.863999999999997,
                        "bin_end": 25.872999999999998,
                        "count": 1
                      },
                      {
                        "bin_start": 25.872999999999998,
                        "bin_end": 25.881999999999998,
                        "count": 2
                      },
                      {
                        "bin_start": 25.881999999999998,
                        "bin_end": 25.891,
                        "count": 0
                      },
                      {
                        "bin_start": 25.891,
                        "bin_end": 25.9,
                        "count": 1
                      }
                    ]
                  }
                },
                {
                  "name": "humidity",
                  "dtype": "float64",
                  "stats": {
                    "unique_count": 29,
                    "nan_count": 0,
                    "min": "85.69",
                    "max": "86.98",
                    "histogram": [
                      {
                        "bin_start": 85.69,
                        "bin_end": 85.819,
                        "count": 1
                      },
                      {
                        "bin_start": 85.819,
                        "bin_end": 85.948,
                        "count": 4
                      },
                      {
                        "bin_start": 85.948,
                        "bin_end": 86.077,
                        "count": 5
                      },
                      {
                        "bin_start": 86.077,
                        "bin_end": 86.206,
                        "count": 2
                      },
                      {
                        "bin_start": 86.206,
                        "bin_end": 86.33500000000001,
                        "count": 1
                      },
                      {
                        "bin_start": 86.33500000000001,
                        "bin_end": 86.464,
                        "count": 1
                      },
                      {
                        "bin_start": 86.464,
                        "bin_end": 86.593,
                        "count": 2
                      },
                      {
                        "bin_start": 86.593,
                        "bin_end": 86.72200000000001,
                        "count": 5
                      },
                      {
                        "bin_start": 86.72200000000001,
                        "bin_end": 86.851,
                        "count": 5
                      },
                      {
                        "bin_start": 86.851,
                        "bin_end": 86.98,
                        "count": 4
                      }
                    ]
                  }
                },
                {
                  "name": "pressure",
                  "dtype": "float64",
                  "stats": {
                    "unique_count": 27,
                    "nan_count": 0,
                    "min": "1010.34",
                    "max": "1011.05",
                    "histogram": [
                      {
                        "bin_start": 1010.34,
                        "bin_end": 1010.4110000000001,
                        "count": 5
                      },
                      {
                        "bin_start": 1010.4110000000001,
                        "bin_end": 1010.482,
                        "count": 3
                      },
                      {
                        "bin_start": 1010.482,
                        "bin_end": 1010.553,
                        "count": 2
                      },
                      {
                        "bin_start": 1010.553,
                        "bin_end": 1010.624,
                        "count": 5
                      },
                      {
                        "bin_start": 1010.624,
                        "bin_end": 1010.6949999999999,
                        "count": 3
                      },
                      {
                        "bin_start": 1010.6949999999999,
                        "bin_end": 1010.766,
                        "count": 1
                      },
                      {
                        "bin_start": 1010.766,
                        "bin_end": 1010.837,
                        "count": 2
                      },
                      {
                        "bin_start": 1010.837,
                        "bin_end": 1010.908,
                        "count": 3
                      },
                      {
                        "bin_start": 1010.908,
                        "bin_end": 1010.9789999999999,
                        "count": 0
                      },
                      {
                        "bin_start": 1010.9789999999999,
                        "bin_end": 1011.05,
                        "count": 6
                      }
                    ]
                  }
                },
                {
                  "name": "temperature",
                  "dtype": "float64",
                  "stats": {
                    "unique_count": 18,
                    "nan_count": 0,
                    "min": "28.22",
                    "max": "28.45",
                    "histogram": [
                      {
                        "bin_start": 28.22,
                        "bin_end": 28.243,
                        "count": 7
                      },
                      {
                        "bin_start": 28.243,
                        "bin_end": 28.266,
                        "count": 1
                      },
                      {
                        "bin_start": 28.266,
                        "bin_end": 28.288999999999998,
                        "count": 3
                      },
                      {
                        "bin_start": 28.288999999999998,
                        "bin_end": 28.311999999999998,
                        "count": 4
                      },
                      {
                        "bin_start": 28.311999999999998,
                        "bin_end": 28.335,
                        "count": 1
                      },
                      {
                        "bin_start": 28.335,
                        "bin_end": 28.358,
                        "count": 1
                      },
                      {
                        "bin_start": 28.358,
                        "bin_end": 28.381,
                        "count": 2
                      },
                      {
                        "bin_start": 28.381,
                        "bin_end": 28.404,
                        "count": 2
                      },
                      {
                        "bin_start": 28.404,
                        "bin_end": 28.427,
                        "count": 6
                      },
                      {
                        "bin_start": 28.427,
                        "bin_end": 28.45,
                        "count": 3
                      }
                    ]
                  }
                },
                {
                  "name": "timestamp",
                  "dtype": "float64",
                  "stats": {
                    "unique_count": 30,
                    "nan_count": 0,
                    "min": "1727692863.0",
                    "max": "1727694603.0",
                    "histogram": [
                      {
                        "bin_start": 1727692863,
                        "bin_end": 1727693037,
                        "count": 3
                      },
                      {
                        "bin_start": 1727693037,
                        "bin_end": 1727693211,
                        "count": 3
                      },
                      {
                        "bin_start": 1727693211,
                        "bin_end": 1727693385,
                        "count": 3
                      },
                      {
                        "bin_start": 1727693385,
                        "bin_end": 1727693559,
                        "count": 3
                      },
                      {
                        "bin_start": 1727693559,
                        "bin_end": 1727693733,
                        "count": 3
                      },
                      {
                        "bin_start": 1727693733,
                        "bin_end": 1727693907,
                        "count": 3
                      },
                      {
                        "bin_start": 1727693907,
                        "bin_end": 1727694081,
                        "count": 3
                      },
                      {
                        "bin_start": 1727694081,
                        "bin_end": 1727694255,
                        "count": 3
                      },
                      {
                        "bin_start": 1727694255,
                        "bin_end": 1727694429,
                        "count": 3
                      },
                      {
                        "bin_start": 1727694429,
                        "bin_end": 1727694603,
                        "count": 3
                      }
                    ]
                  }
                },
                {
                  "name": "volt",
                  "dtype": "float64",
                  "stats": {
                    "unique_count": 2,
                    "nan_count": 0,
                    "min": "4.05",
                    "max": "4.06",
                    "histogram": [
                      {
                        "bin_start": 4.05,
                        "bin_end": 4.051,
                        "count": 20
                      },
                      {
                        "bin_start": 4.051,
                        "bin_end": 4.052,
                        "count": 0
                      },
                      {
                        "bin_start": 4.052,
                        "bin_end": 4.053,
                        "count": 0
                      },
                      {
                        "bin_start": 4.053,
                        "bin_end": 4.053999999999999,
                        "count": 0
                      },
                      {
                        "bin_start": 4.053999999999999,
                        "bin_end": 4.055,
                        "count": 0
                      },
                      {
                        "bin_start": 4.055,
                        "bin_end": 4.056,
                        "count": 0
                      },
                      {
                        "bin_start": 4.056,
                        "bin_end": 4.0569999999999995,
                        "count": 0
                      },
                      {
                        "bin_start": 4.0569999999999995,
                        "bin_end": 4.058,
                        "count": 0
                      },
                      {
                        "bin_start": 4.058,
                        "bin_end": 4.058999999999999,
                        "count": 0
                      },
                      {
                        "bin_start": 4.058999999999999,
                        "bin_end": 4.06,
                        "count": 10
                      }
                    ]
                  }
                },
                {
                  "name": "_deepnote_index_column",
                  "dtype": "int64"
                }
              ],
              "rows": [
                {
                  "dew": 25.84,
                  "humidity": 86.98,
                  "pressure": 1011.03,
                  "temperature": 28.22,
                  "timestamp": 1727694603,
                  "volt": 4.05,
                  "_deepnote_index_column": 1727694603
                },
                {
                  "dew": 25.86,
                  "humidity": 86.95,
                  "pressure": 1011.05,
                  "temperature": 28.24,
                  "timestamp": 1727694543,
                  "volt": 4.05,
                  "_deepnote_index_column": 1727694543
                },
                {
                  "dew": 25.85,
                  "humidity": 86.88,
                  "pressure": 1011.04,
                  "temperature": 28.25,
                  "timestamp": 1727694483,
                  "volt": 4.05,
                  "_deepnote_index_column": 1727694483
                },
                {
                  "dew": 25.85,
                  "humidity": 86.9,
                  "pressure": 1011.02,
                  "temperature": 28.24,
                  "timestamp": 1727694423,
                  "volt": 4.06,
                  "_deepnote_index_column": 1727694423
                },
                {
                  "dew": 25.83,
                  "humidity": 86.8,
                  "pressure": 1011.01,
                  "temperature": 28.24,
                  "timestamp": 1727694363,
                  "volt": 4.06,
                  "_deepnote_index_column": 1727694363
                },
                {
                  "dew": 25.82,
                  "humidity": 86.79,
                  "pressure": 1011,
                  "temperature": 28.23,
                  "timestamp": 1727694303,
                  "volt": 4.06,
                  "_deepnote_index_column": 1727694303
                },
                {
                  "dew": 25.81,
                  "humidity": 86.75,
                  "pressure": 1010.89,
                  "temperature": 28.23,
                  "timestamp": 1727694243,
                  "volt": 4.05,
                  "_deepnote_index_column": 1727694243
                },
                {
                  "dew": 25.82,
                  "humidity": 86.78,
                  "pressure": 1010.9,
                  "temperature": 28.23,
                  "timestamp": 1727694183,
                  "volt": 4.05,
                  "_deepnote_index_column": 1727694183
                },
                {
                  "dew": 25.86,
                  "humidity": 86.68,
                  "pressure": 1010.9,
                  "temperature": 28.29,
                  "timestamp": 1727694123,
                  "volt": 4.05,
                  "_deepnote_index_column": 1727694123
                },
                {
                  "dew": 25.85,
                  "humidity": 86.69,
                  "pressure": 1010.82,
                  "temperature": 28.28,
                  "timestamp": 1727694063,
                  "volt": 4.06,
                  "_deepnote_index_column": 1727694063
                },
                {
                  "dew": 25.83,
                  "humidity": 86.64,
                  "pressure": 1010.77,
                  "temperature": 28.27,
                  "timestamp": 1727694003,
                  "volt": 4.05,
                  "_deepnote_index_column": 1727694003
                },
                {
                  "dew": 25.85,
                  "humidity": 86.65,
                  "pressure": 1010.74,
                  "temperature": 28.29,
                  "timestamp": 1727693943,
                  "volt": 4.05,
                  "_deepnote_index_column": 1727693943
                },
                {
                  "dew": 25.87,
                  "humidity": 86.73,
                  "pressure": 1010.64,
                  "temperature": 28.3,
                  "timestamp": 1727693883,
                  "volt": 4.05,
                  "_deepnote_index_column": 1727693883
                },
                {
                  "dew": 25.88,
                  "humidity": 86.71,
                  "pressure": 1010.68,
                  "temperature": 28.31,
                  "timestamp": 1727693823,
                  "volt": 4.05,
                  "_deepnote_index_column": 1727693823
                },
                {
                  "dew": 25.82,
                  "humidity": 86.54,
                  "pressure": 1010.67,
                  "temperature": 28.28,
                  "timestamp": 1727693763,
                  "volt": 4.05,
                  "_deepnote_index_column": 1727693763
                },
                {
                  "dew": 25.85,
                  "humidity": 86.51,
                  "pressure": 1010.61,
                  "temperature": 28.32,
                  "timestamp": 1727693703,
                  "volt": 4.06,
                  "_deepnote_index_column": 1727693703
                },
                {
                  "dew": 25.86,
                  "humidity": 86.36,
                  "pressure": 1010.62,
                  "temperature": 28.36,
                  "timestamp": 1727693643,
                  "volt": 4.06,
                  "_deepnote_index_column": 1727693643
                },
                {
                  "dew": 25.83,
                  "humidity": 86.28,
                  "pressure": 1010.62,
                  "temperature": 28.34,
                  "timestamp": 1727693583,
                  "volt": 4.05,
                  "_deepnote_index_column": 1727693583
                },
                {
                  "dew": 25.88,
                  "humidity": 86.19,
                  "pressure": 1010.58,
                  "temperature": 28.41,
                  "timestamp": 1727693524,
                  "volt": 4.05,
                  "_deepnote_index_column": 1727693524
                },
                {
                  "dew": 25.9,
                  "humidity": 86.18,
                  "pressure": 1010.57,
                  "temperature": 28.43,
                  "timestamp": 1727693463,
                  "volt": 4.06,
                  "_deepnote_index_column": 1727693463
                },
                {
                  "dew": 25.83,
                  "humidity": 86.05,
                  "pressure": 1010.54,
                  "temperature": 28.39,
                  "timestamp": 1727693403,
                  "volt": 4.06,
                  "_deepnote_index_column": 1727693403
                },
                {
                  "dew": 25.81,
                  "humidity": 86.02,
                  "pressure": 1010.5,
                  "temperature": 28.38,
                  "timestamp": 1727693343,
                  "volt": 4.05,
                  "_deepnote_index_column": 1727693343
                },
                {
                  "dew": 25.84,
                  "humidity": 86.01,
                  "pressure": 1010.48,
                  "temperature": 28.41,
                  "timestamp": 1727693283,
                  "volt": 4.06,
                  "_deepnote_index_column": 1727693283
                },
                {
                  "dew": 25.85,
                  "humidity": 86.02,
                  "pressure": 1010.45,
                  "temperature": 28.42,
                  "timestamp": 1727693223,
                  "volt": 4.05,
                  "_deepnote_index_column": 1727693223
                },
                {
                  "dew": 25.81,
                  "humidity": 85.96,
                  "pressure": 1010.44,
                  "temperature": 28.39,
                  "timestamp": 1727693163,
                  "volt": 4.05,
                  "_deepnote_index_column": 1727693163
                },
                {
                  "dew": 25.83,
                  "humidity": 85.89,
                  "pressure": 1010.37,
                  "temperature": 28.42,
                  "timestamp": 1727693104,
                  "volt": 4.06,
                  "_deepnote_index_column": 1727693104
                },
                {
                  "dew": 25.84,
                  "humidity": 85.93,
                  "pressure": 1010.36,
                  "temperature": 28.42,
                  "timestamp": 1727693043,
                  "volt": 4.05,
                  "_deepnote_index_column": 1727693043
                },
                {
                  "dew": 25.82,
                  "humidity": 85.85,
                  "pressure": 1010.35,
                  "temperature": 28.42,
                  "timestamp": 1727692983,
                  "volt": 4.05,
                  "_deepnote_index_column": 1727692983
                },
                {
                  "dew": 25.83,
                  "humidity": 85.83,
                  "pressure": 1010.37,
                  "temperature": 28.43,
                  "timestamp": 1727692923,
                  "volt": 4.05,
                  "_deepnote_index_column": 1727692923
                },
                {
                  "dew": 25.82,
                  "humidity": 85.69,
                  "pressure": 1010.34,
                  "temperature": 28.45,
                  "timestamp": 1727692863,
                  "volt": 4.05,
                  "_deepnote_index_column": 1727692863
                }
              ]
            },
            "text/plain": "              dew  humidity  pressure  temperature     timestamp  volt\n1727692863  25.82     85.69   1010.34        28.45  1.727693e+09  4.05\n1727692923  25.83     85.83   1010.37        28.43  1.727693e+09  4.05\n1727692983  25.82     85.85   1010.35        28.42  1.727693e+09  4.05\n1727693043  25.84     85.93   1010.36        28.42  1.727693e+09  4.05\n1727693104  25.83     85.89   1010.37        28.42  1.727693e+09  4.06\n1727693163  25.81     85.96   1010.44        28.39  1.727693e+09  4.05\n1727693223  25.85     86.02   1010.45        28.42  1.727693e+09  4.05\n1727693283  25.84     86.01   1010.48        28.41  1.727693e+09  4.06\n1727693343  25.81     86.02   1010.50        28.38  1.727693e+09  4.05\n1727693403  25.83     86.05   1010.54        28.39  1.727693e+09  4.06\n1727693463  25.90     86.18   1010.57        28.43  1.727693e+09  4.06\n1727693524  25.88     86.19   1010.58        28.41  1.727694e+09  4.05\n1727693583  25.83     86.28   1010.62        28.34  1.727694e+09  4.05\n1727693643  25.86     86.36   1010.62        28.36  1.727694e+09  4.06\n1727693703  25.85     86.51   1010.61        28.32  1.727694e+09  4.06\n1727693763  25.82     86.54   1010.67        28.28  1.727694e+09  4.05\n1727693823  25.88     86.71   1010.68        28.31  1.727694e+09  4.05\n1727693883  25.87     86.73   1010.64        28.30  1.727694e+09  4.05\n1727693943  25.85     86.65   1010.74        28.29  1.727694e+09  4.05\n1727694003  25.83     86.64   1010.77        28.27  1.727694e+09  4.05\n1727694063  25.85     86.69   1010.82        28.28  1.727694e+09  4.06\n1727694123  25.86     86.68   1010.90        28.29  1.727694e+09  4.05\n1727694183  25.82     86.78   1010.90        28.23  1.727694e+09  4.05\n1727694243  25.81     86.75   1010.89        28.23  1.727694e+09  4.05\n1727694303  25.82     86.79   1011.00        28.23  1.727694e+09  4.06\n1727694363  25.83     86.80   1011.01        28.24  1.727694e+09  4.06\n1727694423  25.85     86.90   1011.02        28.24  1.727694e+09  4.06\n1727694483  25.85     86.88   1011.04        28.25  1.727694e+09  4.05\n1727694543  25.86     86.95   1011.05        28.24  1.727695e+09  4.05\n1727694603  25.84     86.98   1011.03        28.22  1.727695e+09  4.05",
            "text/html": "<div>\n<style scoped>\n    .dataframe tbody tr th:only-of-type {\n        vertical-align: middle;\n    }\n\n    .dataframe tbody tr th {\n        vertical-align: top;\n    }\n\n    .dataframe thead th {\n        text-align: right;\n    }\n</style>\n<table border=\"1\" class=\"dataframe\">\n  <thead>\n    <tr style=\"text-align: right;\">\n      <th></th>\n      <th>dew</th>\n      <th>humidity</th>\n      <th>pressure</th>\n      <th>temperature</th>\n      <th>timestamp</th>\n      <th>volt</th>\n    </tr>\n  </thead>\n  <tbody>\n    <tr>\n      <th>1727692863</th>\n      <td>25.82</td>\n      <td>85.69</td>\n      <td>1010.34</td>\n      <td>28.45</td>\n      <td>1.727693e+09</td>\n      <td>4.05</td>\n    </tr>\n    <tr>\n      <th>1727692923</th>\n      <td>25.83</td>\n      <td>85.83</td>\n      <td>1010.37</td>\n      <td>28.43</td>\n      <td>1.727693e+09</td>\n      <td>4.05</td>\n    </tr>\n    <tr>\n      <th>1727692983</th>\n      <td>25.82</td>\n      <td>85.85</td>\n      <td>1010.35</td>\n      <td>28.42</td>\n      <td>1.727693e+09</td>\n      <td>4.05</td>\n    </tr>\n    <tr>\n      <th>1727693043</th>\n      <td>25.84</td>\n      <td>85.93</td>\n      <td>1010.36</td>\n      <td>28.42</td>\n      <td>1.727693e+09</td>\n      <td>4.05</td>\n    </tr>\n    <tr>\n      <th>1727693104</th>\n      <td>25.83</td>\n      <td>85.89</td>\n      <td>1010.37</td>\n      <td>28.42</td>\n      <td>1.727693e+09</td>\n      <td>4.06</td>\n    </tr>\n    <tr>\n      <th>1727693163</th>\n      <td>25.81</td>\n      <td>85.96</td>\n      <td>1010.44</td>\n      <td>28.39</td>\n      <td>1.727693e+09</td>\n      <td>4.05</td>\n    </tr>\n    <tr>\n      <th>1727693223</th>\n      <td>25.85</td>\n      <td>86.02</td>\n      <td>1010.45</td>\n      <td>28.42</td>\n      <td>1.727693e+09</td>\n      <td>4.05</td>\n    </tr>\n    <tr>\n      <th>1727693283</th>\n      <td>25.84</td>\n      <td>86.01</td>\n      <td>1010.48</td>\n      <td>28.41</td>\n      <td>1.727693e+09</td>\n      <td>4.06</td>\n    </tr>\n    <tr>\n      <th>1727693343</th>\n      <td>25.81</td>\n      <td>86.02</td>\n      <td>1010.50</td>\n      <td>28.38</td>\n      <td>1.727693e+09</td>\n      <td>4.05</td>\n    </tr>\n    <tr>\n      <th>1727693403</th>\n      <td>25.83</td>\n      <td>86.05</td>\n      <td>1010.54</td>\n      <td>28.39</td>\n      <td>1.727693e+09</td>\n      <td>4.06</td>\n    </tr>\n    <tr>\n      <th>1727693463</th>\n      <td>25.90</td>\n      <td>86.18</td>\n      <td>1010.57</td>\n      <td>28.43</td>\n      <td>1.727693e+09</td>\n      <td>4.06</td>\n    </tr>\n    <tr>\n      <th>1727693524</th>\n      <td>25.88</td>\n      <td>86.19</td>\n      <td>1010.58</td>\n      <td>28.41</td>\n      <td>1.727694e+09</td>\n      <td>4.05</td>\n    </tr>\n    <tr>\n      <th>1727693583</th>\n      <td>25.83</td>\n      <td>86.28</td>\n      <td>1010.62</td>\n      <td>28.34</td>\n      <td>1.727694e+09</td>\n      <td>4.05</td>\n    </tr>\n    <tr>\n      <th>1727693643</th>\n      <td>25.86</td>\n      <td>86.36</td>\n      <td>1010.62</td>\n      <td>28.36</td>\n      <td>1.727694e+09</td>\n      <td>4.06</td>\n    </tr>\n    <tr>\n      <th>1727693703</th>\n      <td>25.85</td>\n      <td>86.51</td>\n      <td>1010.61</td>\n      <td>28.32</td>\n      <td>1.727694e+09</td>\n      <td>4.06</td>\n    </tr>\n    <tr>\n      <th>1727693763</th>\n      <td>25.82</td>\n      <td>86.54</td>\n      <td>1010.67</td>\n      <td>28.28</td>\n      <td>1.727694e+09</td>\n      <td>4.05</td>\n    </tr>\n    <tr>\n      <th>1727693823</th>\n      <td>25.88</td>\n      <td>86.71</td>\n      <td>1010.68</td>\n      <td>28.31</td>\n      <td>1.727694e+09</td>\n      <td>4.05</td>\n    </tr>\n    <tr>\n      <th>1727693883</th>\n      <td>25.87</td>\n      <td>86.73</td>\n      <td>1010.64</td>\n      <td>28.30</td>\n      <td>1.727694e+09</td>\n      <td>4.05</td>\n    </tr>\n    <tr>\n      <th>1727693943</th>\n      <td>25.85</td>\n      <td>86.65</td>\n      <td>1010.74</td>\n      <td>28.29</td>\n      <td>1.727694e+09</td>\n      <td>4.05</td>\n    </tr>\n    <tr>\n      <th>1727694003</th>\n      <td>25.83</td>\n      <td>86.64</td>\n      <td>1010.77</td>\n      <td>28.27</td>\n      <td>1.727694e+09</td>\n      <td>4.05</td>\n    </tr>\n    <tr>\n      <th>1727694063</th>\n      <td>25.85</td>\n      <td>86.69</td>\n      <td>1010.82</td>\n      <td>28.28</td>\n      <td>1.727694e+09</td>\n      <td>4.06</td>\n    </tr>\n    <tr>\n      <th>1727694123</th>\n      <td>25.86</td>\n      <td>86.68</td>\n      <td>1010.90</td>\n      <td>28.29</td>\n      <td>1.727694e+09</td>\n      <td>4.05</td>\n    </tr>\n    <tr>\n      <th>1727694183</th>\n      <td>25.82</td>\n      <td>86.78</td>\n      <td>1010.90</td>\n      <td>28.23</td>\n      <td>1.727694e+09</td>\n      <td>4.05</td>\n    </tr>\n    <tr>\n      <th>1727694243</th>\n      <td>25.81</td>\n      <td>86.75</td>\n      <td>1010.89</td>\n      <td>28.23</td>\n      <td>1.727694e+09</td>\n      <td>4.05</td>\n    </tr>\n    <tr>\n      <th>1727694303</th>\n      <td>25.82</td>\n      <td>86.79</td>\n      <td>1011.00</td>\n      <td>28.23</td>\n      <td>1.727694e+09</td>\n      <td>4.06</td>\n    </tr>\n    <tr>\n      <th>1727694363</th>\n      <td>25.83</td>\n      <td>86.80</td>\n      <td>1011.01</td>\n      <td>28.24</td>\n      <td>1.727694e+09</td>\n      <td>4.06</td>\n    </tr>\n    <tr>\n      <th>1727694423</th>\n      <td>25.85</td>\n      <td>86.90</td>\n      <td>1011.02</td>\n      <td>28.24</td>\n      <td>1.727694e+09</td>\n      <td>4.06</td>\n    </tr>\n    <tr>\n      <th>1727694483</th>\n      <td>25.85</td>\n      <td>86.88</td>\n      <td>1011.04</td>\n      <td>28.25</td>\n      <td>1.727694e+09</td>\n      <td>4.05</td>\n    </tr>\n    <tr>\n      <th>1727694543</th>\n      <td>25.86</td>\n      <td>86.95</td>\n      <td>1011.05</td>\n      <td>28.24</td>\n      <td>1.727695e+09</td>\n      <td>4.05</td>\n    </tr>\n    <tr>\n      <th>1727694603</th>\n      <td>25.84</td>\n      <td>86.98</td>\n      <td>1011.03</td>\n      <td>28.22</td>\n      <td>1.727695e+09</td>\n      <td>4.05</td>\n    </tr>\n  </tbody>\n</table>\n</div>"
          },
          "metadata": {}
        }
      ],
      "outputs_reference": null,
      "execution_count": 28,
      "block_group": "b67336704f964145a414a507a6c7a771",
      "content_dependencies": null
    },
    {
      "cell_type": "code",
      "source": "cuacaT.describe()",
      "metadata": {
        "source_hash": "268dd9c1",
        "execution_start": 1727694856885,
        "execution_millis": 720,
        "deepnote_table_state": {
          "sortBy": [],
          "filters": [],
          "pageSize": 10,
          "pageIndex": 0,
          "conditionalFilters": []
        },
        "deepnote_table_loading": false,
        "deepnote_to_be_reexecuted": false,
        "cell_id": "2203b9d1f66f4f0783fd17d1a85fd775",
        "deepnote_cell_type": "code"
      },
      "outputs": [
        {
          "output_type": "execute_result",
          "execution_count": 29,
          "data": {
            "application/vnd.deepnote.dataframe.v3+json": {
              "column_count": 6,
              "row_count": 8,
              "columns": [
                {
                  "name": "dew",
                  "dtype": "float64",
                  "stats": {
                    "unique_count": 8,
                    "nan_count": 0,
                    "min": "1.514453029947396",
                    "max": "410458.0",
                    "histogram": [
                      {
                        "bin_start": 1.514453029947396,
                        "bin_end": 41047.16300772695,
                        "count": 7
                      },
                      {
                        "bin_start": 41047.16300772695,
                        "bin_end": 82092.81156242396,
                        "count": 0
                      },
                      {
                        "bin_start": 82092.81156242396,
                        "bin_end": 123138.46011712097,
                        "count": 0
                      },
                      {
                        "bin_start": 123138.46011712097,
                        "bin_end": 164184.108671818,
                        "count": 0
                      },
                      {
                        "bin_start": 164184.108671818,
                        "bin_end": 205229.75722651498,
                        "count": 0
                      },
                      {
                        "bin_start": 205229.75722651498,
                        "bin_end": 246275.405781212,
                        "count": 0
                      },
                      {
                        "bin_start": 246275.405781212,
                        "bin_end": 287321.054335909,
                        "count": 0
                      },
                      {
                        "bin_start": 287321.054335909,
                        "bin_end": 328366.702890606,
                        "count": 0
                      },
                      {
                        "bin_start": 328366.702890606,
                        "bin_end": 369412.351445303,
                        "count": 0
                      },
                      {
                        "bin_start": 369412.351445303,
                        "bin_end": 410458,
                        "count": 1
                      }
                    ]
                  }
                },
                {
                  "name": "humidity",
                  "dtype": "float64",
                  "stats": {
                    "unique_count": 8,
                    "nan_count": 0,
                    "min": "0.0",
                    "max": "410459.0",
                    "histogram": [
                      {
                        "bin_start": 0,
                        "bin_end": 41045.9,
                        "count": 7
                      },
                      {
                        "bin_start": 41045.9,
                        "bin_end": 82091.8,
                        "count": 0
                      },
                      {
                        "bin_start": 82091.8,
                        "bin_end": 123137.70000000001,
                        "count": 0
                      },
                      {
                        "bin_start": 123137.70000000001,
                        "bin_end": 164183.6,
                        "count": 0
                      },
                      {
                        "bin_start": 164183.6,
                        "bin_end": 205229.5,
                        "count": 0
                      },
                      {
                        "bin_start": 205229.5,
                        "bin_end": 246275.40000000002,
                        "count": 0
                      },
                      {
                        "bin_start": 246275.40000000002,
                        "bin_end": 287321.3,
                        "count": 0
                      },
                      {
                        "bin_start": 287321.3,
                        "bin_end": 328367.2,
                        "count": 0
                      },
                      {
                        "bin_start": 328367.2,
                        "bin_end": 369413.10000000003,
                        "count": 0
                      },
                      {
                        "bin_start": 369413.10000000003,
                        "bin_end": 410459,
                        "count": 1
                      }
                    ]
                  }
                },
                {
                  "name": "pressure",
                  "dtype": "float64",
                  "stats": {
                    "unique_count": 8,
                    "nan_count": 0,
                    "min": "0.0",
                    "max": "410459.0",
                    "histogram": [
                      {
                        "bin_start": 0,
                        "bin_end": 41045.9,
                        "count": 7
                      },
                      {
                        "bin_start": 41045.9,
                        "bin_end": 82091.8,
                        "count": 0
                      },
                      {
                        "bin_start": 82091.8,
                        "bin_end": 123137.70000000001,
                        "count": 0
                      },
                      {
                        "bin_start": 123137.70000000001,
                        "bin_end": 164183.6,
                        "count": 0
                      },
                      {
                        "bin_start": 164183.6,
                        "bin_end": 205229.5,
                        "count": 0
                      },
                      {
                        "bin_start": 205229.5,
                        "bin_end": 246275.40000000002,
                        "count": 0
                      },
                      {
                        "bin_start": 246275.40000000002,
                        "bin_end": 287321.3,
                        "count": 0
                      },
                      {
                        "bin_start": 287321.3,
                        "bin_end": 328367.2,
                        "count": 0
                      },
                      {
                        "bin_start": 328367.2,
                        "bin_end": 369413.10000000003,
                        "count": 0
                      },
                      {
                        "bin_start": 369413.10000000003,
                        "bin_end": 410459,
                        "count": 1
                      }
                    ]
                  }
                },
                {
                  "name": "temperature",
                  "dtype": "float64",
                  "stats": {
                    "unique_count": 8,
                    "nan_count": 0,
                    "min": "0.02",
                    "max": "410459.0",
                    "histogram": [
                      {
                        "bin_start": 0.02,
                        "bin_end": 41045.918,
                        "count": 7
                      },
                      {
                        "bin_start": 41045.918,
                        "bin_end": 82091.816,
                        "count": 0
                      },
                      {
                        "bin_start": 82091.816,
                        "bin_end": 123137.714,
                        "count": 0
                      },
                      {
                        "bin_start": 123137.714,
                        "bin_end": 164183.612,
                        "count": 0
                      },
                      {
                        "bin_start": 164183.612,
                        "bin_end": 205229.50999999998,
                        "count": 0
                      },
                      {
                        "bin_start": 205229.50999999998,
                        "bin_end": 246275.408,
                        "count": 0
                      },
                      {
                        "bin_start": 246275.408,
                        "bin_end": 287321.30600000004,
                        "count": 0
                      },
                      {
                        "bin_start": 287321.30600000004,
                        "bin_end": 328367.204,
                        "count": 0
                      },
                      {
                        "bin_start": 328367.204,
                        "bin_end": 369413.102,
                        "count": 0
                      },
                      {
                        "bin_start": 369413.102,
                        "bin_end": 410459,
                        "count": 1
                      }
                    ]
                  }
                },
                {
                  "name": "timestamp",
                  "dtype": "float64",
                  "stats": {
                    "unique_count": 8,
                    "nan_count": 0,
                    "min": "0.0",
                    "max": "1727694603.0",
                    "histogram": [
                      {
                        "bin_start": 0,
                        "bin_end": 172769460.3,
                        "count": 3
                      },
                      {
                        "bin_start": 172769460.3,
                        "bin_end": 345538920.6,
                        "count": 0
                      },
                      {
                        "bin_start": 345538920.6,
                        "bin_end": 518308380.90000004,
                        "count": 0
                      },
                      {
                        "bin_start": 518308380.90000004,
                        "bin_end": 691077841.2,
                        "count": 0
                      },
                      {
                        "bin_start": 691077841.2,
                        "bin_end": 863847301.5,
                        "count": 0
                      },
                      {
                        "bin_start": 863847301.5,
                        "bin_end": 1036616761.8000001,
                        "count": 0
                      },
                      {
                        "bin_start": 1036616761.8000001,
                        "bin_end": 1209386222.1000001,
                        "count": 0
                      },
                      {
                        "bin_start": 1209386222.1000001,
                        "bin_end": 1382155682.4,
                        "count": 0
                      },
                      {
                        "bin_start": 1382155682.4,
                        "bin_end": 1554925142.7,
                        "count": 0
                      },
                      {
                        "bin_start": 1554925142.7,
                        "bin_end": 1727694603,
                        "count": 5
                      }
                    ]
                  }
                },
                {
                  "name": "volt",
                  "dtype": "float64",
                  "stats": {
                    "unique_count": 8,
                    "nan_count": 0,
                    "min": "0.0",
                    "max": "410459.0",
                    "histogram": [
                      {
                        "bin_start": 0,
                        "bin_end": 41045.9,
                        "count": 7
                      },
                      {
                        "bin_start": 41045.9,
                        "bin_end": 82091.8,
                        "count": 0
                      },
                      {
                        "bin_start": 82091.8,
                        "bin_end": 123137.70000000001,
                        "count": 0
                      },
                      {
                        "bin_start": 123137.70000000001,
                        "bin_end": 164183.6,
                        "count": 0
                      },
                      {
                        "bin_start": 164183.6,
                        "bin_end": 205229.5,
                        "count": 0
                      },
                      {
                        "bin_start": 205229.5,
                        "bin_end": 246275.40000000002,
                        "count": 0
                      },
                      {
                        "bin_start": 246275.40000000002,
                        "bin_end": 287321.3,
                        "count": 0
                      },
                      {
                        "bin_start": 287321.3,
                        "bin_end": 328367.2,
                        "count": 0
                      },
                      {
                        "bin_start": 328367.2,
                        "bin_end": 369413.10000000003,
                        "count": 0
                      },
                      {
                        "bin_start": 369413.10000000003,
                        "bin_end": 410459,
                        "count": 1
                      }
                    ]
                  }
                },
                {
                  "name": "_deepnote_index_column",
                  "dtype": "object"
                }
              ],
              "rows": [
                {
                  "dew": 410458,
                  "humidity": 410459,
                  "pressure": 410459,
                  "temperature": 410459,
                  "timestamp": 410459,
                  "volt": 410459,
                  "_deepnote_index_column": "count"
                },
                {
                  "dew": 25.00121313264694,
                  "humidity": 85.68172392370492,
                  "pressure": 1011.4311616020118,
                  "temperature": 27.809803122845395,
                  "timestamp": 1715064775.1145911,
                  "volt": 4.091227114035751,
                  "_deepnote_index_column": "mean"
                },
                {
                  "dew": 1.514453029947396,
                  "humidity": 11.168068590218382,
                  "pressure": 2.8076589191596564,
                  "temperature": 3.2850902448844557,
                  "timestamp": 7801400.278146114,
                  "volt": 0.03086877448227722,
                  "_deepnote_index_column": "std"
                },
                {
                  "dew": 17.67,
                  "humidity": 0,
                  "pressure": 0,
                  "temperature": 0.02,
                  "timestamp": 0,
                  "volt": 0,
                  "_deepnote_index_column": "min"
                },
                {
                  "dew": 24.13,
                  "humidity": 76.9,
                  "pressure": 1010.19,
                  "temperature": 25.39,
                  "timestamp": 1708645484.5,
                  "volt": 4.07,
                  "_deepnote_index_column": "25%"
                },
                {
                  "dew": 25.07,
                  "humidity": 90.11,
                  "pressure": 1011.48,
                  "temperature": 26.91,
                  "timestamp": 1715166888,
                  "volt": 4.09,
                  "_deepnote_index_column": "50%"
                },
                {
                  "dew": 26.05,
                  "humidity": 94.76,
                  "pressure": 1012.77,
                  "temperature": 30.29,
                  "timestamp": 1721400736.5,
                  "volt": 4.12,
                  "_deepnote_index_column": "75%"
                },
                {
                  "dew": 29.7,
                  "humidity": 99.58,
                  "pressure": 1016.53,
                  "temperature": 41.12,
                  "timestamp": 1727694603,
                  "volt": 4.17,
                  "_deepnote_index_column": "max"
                }
              ]
            },
            "text/plain": "                 dew       humidity       pressure    temperature  \\\ncount  410458.000000  410459.000000  410459.000000  410459.000000   \nmean       25.001213      85.681724    1011.431162      27.809803   \nstd         1.514453      11.168069       2.807659       3.285090   \nmin        17.670000       0.000000       0.000000       0.020000   \n25%        24.130000      76.900000    1010.190000      25.390000   \n50%        25.070000      90.110000    1011.480000      26.910000   \n75%        26.050000      94.760000    1012.770000      30.290000   \nmax        29.700000      99.580000    1016.530000      41.120000   \n\n          timestamp           volt  \ncount  4.104590e+05  410459.000000  \nmean   1.715065e+09       4.091227  \nstd    7.801400e+06       0.030869  \nmin    0.000000e+00       0.000000  \n25%    1.708645e+09       4.070000  \n50%    1.715167e+09       4.090000  \n75%    1.721401e+09       4.120000  \nmax    1.727695e+09       4.170000  ",
            "text/html": "<div>\n<style scoped>\n    .dataframe tbody tr th:only-of-type {\n        vertical-align: middle;\n    }\n\n    .dataframe tbody tr th {\n        vertical-align: top;\n    }\n\n    .dataframe thead th {\n        text-align: right;\n    }\n</style>\n<table border=\"1\" class=\"dataframe\">\n  <thead>\n    <tr style=\"text-align: right;\">\n      <th></th>\n      <th>dew</th>\n      <th>humidity</th>\n      <th>pressure</th>\n      <th>temperature</th>\n      <th>timestamp</th>\n      <th>volt</th>\n    </tr>\n  </thead>\n  <tbody>\n    <tr>\n      <th>count</th>\n      <td>410458.000000</td>\n      <td>410459.000000</td>\n      <td>410459.000000</td>\n      <td>410459.000000</td>\n      <td>4.104590e+05</td>\n      <td>410459.000000</td>\n    </tr>\n    <tr>\n      <th>mean</th>\n      <td>25.001213</td>\n      <td>85.681724</td>\n      <td>1011.431162</td>\n      <td>27.809803</td>\n      <td>1.715065e+09</td>\n      <td>4.091227</td>\n    </tr>\n    <tr>\n      <th>std</th>\n      <td>1.514453</td>\n      <td>11.168069</td>\n      <td>2.807659</td>\n      <td>3.285090</td>\n      <td>7.801400e+06</td>\n      <td>0.030869</td>\n    </tr>\n    <tr>\n      <th>min</th>\n      <td>17.670000</td>\n      <td>0.000000</td>\n      <td>0.000000</td>\n      <td>0.020000</td>\n      <td>0.000000e+00</td>\n      <td>0.000000</td>\n    </tr>\n    <tr>\n      <th>25%</th>\n      <td>24.130000</td>\n      <td>76.900000</td>\n      <td>1010.190000</td>\n      <td>25.390000</td>\n      <td>1.708645e+09</td>\n      <td>4.070000</td>\n    </tr>\n    <tr>\n      <th>50%</th>\n      <td>25.070000</td>\n      <td>90.110000</td>\n      <td>1011.480000</td>\n      <td>26.910000</td>\n      <td>1.715167e+09</td>\n      <td>4.090000</td>\n    </tr>\n    <tr>\n      <th>75%</th>\n      <td>26.050000</td>\n      <td>94.760000</td>\n      <td>1012.770000</td>\n      <td>30.290000</td>\n      <td>1.721401e+09</td>\n      <td>4.120000</td>\n    </tr>\n    <tr>\n      <th>max</th>\n      <td>29.700000</td>\n      <td>99.580000</td>\n      <td>1016.530000</td>\n      <td>41.120000</td>\n      <td>1.727695e+09</td>\n      <td>4.170000</td>\n    </tr>\n  </tbody>\n</table>\n</div>"
          },
          "metadata": {}
        }
      ],
      "outputs_reference": null,
      "execution_count": 29,
      "block_group": "24f828004787432ca3d4d8e83578b54c",
      "content_dependencies": null
    },
    {
      "cell_type": "code",
      "source": "cuacaT['timestamp']= cuacaT['timestamp'].astype(int)\ncuacaT.tail(30)",
      "metadata": {
        "source_hash": "13b19834",
        "execution_start": 1727694856956,
        "execution_millis": 650,
        "deepnote_to_be_reexecuted": false,
        "cell_id": "1fec3e8c7dd24909a3352c6006da3129",
        "deepnote_cell_type": "code"
      },
      "outputs": [
        {
          "output_type": "execute_result",
          "execution_count": 30,
          "data": {
            "application/vnd.deepnote.dataframe.v3+json": {
              "column_count": 6,
              "row_count": 30,
              "columns": [
                {
                  "name": "dew",
                  "dtype": "float64",
                  "stats": {
                    "unique_count": 9,
                    "nan_count": 0,
                    "min": "25.81",
                    "max": "25.9",
                    "histogram": [
                      {
                        "bin_start": 25.81,
                        "bin_end": 25.819,
                        "count": 3
                      },
                      {
                        "bin_start": 25.819,
                        "bin_end": 25.828,
                        "count": 5
                      },
                      {
                        "bin_start": 25.828,
                        "bin_end": 25.837,
                        "count": 6
                      },
                      {
                        "bin_start": 25.837,
                        "bin_end": 25.846,
                        "count": 3
                      },
                      {
                        "bin_start": 25.846,
                        "bin_end": 25.854999999999997,
                        "count": 6
                      },
                      {
                        "bin_start": 25.854999999999997,
                        "bin_end": 25.863999999999997,
                        "count": 3
                      },
                      {
                        "bin_start": 25.863999999999997,
                        "bin_end": 25.872999999999998,
                        "count": 1
                      },
                      {
                        "bin_start": 25.872999999999998,
                        "bin_end": 25.881999999999998,
                        "count": 2
                      },
                      {
                        "bin_start": 25.881999999999998,
                        "bin_end": 25.891,
                        "count": 0
                      },
                      {
                        "bin_start": 25.891,
                        "bin_end": 25.9,
                        "count": 1
                      }
                    ]
                  }
                },
                {
                  "name": "humidity",
                  "dtype": "float64",
                  "stats": {
                    "unique_count": 29,
                    "nan_count": 0,
                    "min": "85.69",
                    "max": "86.98",
                    "histogram": [
                      {
                        "bin_start": 85.69,
                        "bin_end": 85.819,
                        "count": 1
                      },
                      {
                        "bin_start": 85.819,
                        "bin_end": 85.948,
                        "count": 4
                      },
                      {
                        "bin_start": 85.948,
                        "bin_end": 86.077,
                        "count": 5
                      },
                      {
                        "bin_start": 86.077,
                        "bin_end": 86.206,
                        "count": 2
                      },
                      {
                        "bin_start": 86.206,
                        "bin_end": 86.33500000000001,
                        "count": 1
                      },
                      {
                        "bin_start": 86.33500000000001,
                        "bin_end": 86.464,
                        "count": 1
                      },
                      {
                        "bin_start": 86.464,
                        "bin_end": 86.593,
                        "count": 2
                      },
                      {
                        "bin_start": 86.593,
                        "bin_end": 86.72200000000001,
                        "count": 5
                      },
                      {
                        "bin_start": 86.72200000000001,
                        "bin_end": 86.851,
                        "count": 5
                      },
                      {
                        "bin_start": 86.851,
                        "bin_end": 86.98,
                        "count": 4
                      }
                    ]
                  }
                },
                {
                  "name": "pressure",
                  "dtype": "float64",
                  "stats": {
                    "unique_count": 27,
                    "nan_count": 0,
                    "min": "1010.34",
                    "max": "1011.05",
                    "histogram": [
                      {
                        "bin_start": 1010.34,
                        "bin_end": 1010.4110000000001,
                        "count": 5
                      },
                      {
                        "bin_start": 1010.4110000000001,
                        "bin_end": 1010.482,
                        "count": 3
                      },
                      {
                        "bin_start": 1010.482,
                        "bin_end": 1010.553,
                        "count": 2
                      },
                      {
                        "bin_start": 1010.553,
                        "bin_end": 1010.624,
                        "count": 5
                      },
                      {
                        "bin_start": 1010.624,
                        "bin_end": 1010.6949999999999,
                        "count": 3
                      },
                      {
                        "bin_start": 1010.6949999999999,
                        "bin_end": 1010.766,
                        "count": 1
                      },
                      {
                        "bin_start": 1010.766,
                        "bin_end": 1010.837,
                        "count": 2
                      },
                      {
                        "bin_start": 1010.837,
                        "bin_end": 1010.908,
                        "count": 3
                      },
                      {
                        "bin_start": 1010.908,
                        "bin_end": 1010.9789999999999,
                        "count": 0
                      },
                      {
                        "bin_start": 1010.9789999999999,
                        "bin_end": 1011.05,
                        "count": 6
                      }
                    ]
                  }
                },
                {
                  "name": "temperature",
                  "dtype": "float64",
                  "stats": {
                    "unique_count": 18,
                    "nan_count": 0,
                    "min": "28.22",
                    "max": "28.45",
                    "histogram": [
                      {
                        "bin_start": 28.22,
                        "bin_end": 28.243,
                        "count": 7
                      },
                      {
                        "bin_start": 28.243,
                        "bin_end": 28.266,
                        "count": 1
                      },
                      {
                        "bin_start": 28.266,
                        "bin_end": 28.288999999999998,
                        "count": 3
                      },
                      {
                        "bin_start": 28.288999999999998,
                        "bin_end": 28.311999999999998,
                        "count": 4
                      },
                      {
                        "bin_start": 28.311999999999998,
                        "bin_end": 28.335,
                        "count": 1
                      },
                      {
                        "bin_start": 28.335,
                        "bin_end": 28.358,
                        "count": 1
                      },
                      {
                        "bin_start": 28.358,
                        "bin_end": 28.381,
                        "count": 2
                      },
                      {
                        "bin_start": 28.381,
                        "bin_end": 28.404,
                        "count": 2
                      },
                      {
                        "bin_start": 28.404,
                        "bin_end": 28.427,
                        "count": 6
                      },
                      {
                        "bin_start": 28.427,
                        "bin_end": 28.45,
                        "count": 3
                      }
                    ]
                  }
                },
                {
                  "name": "timestamp",
                  "dtype": "int64",
                  "stats": {
                    "unique_count": 30,
                    "nan_count": 0,
                    "min": "1727692863",
                    "max": "1727694603",
                    "histogram": [
                      {
                        "bin_start": 1727692863,
                        "bin_end": 1727693037,
                        "count": 3
                      },
                      {
                        "bin_start": 1727693037,
                        "bin_end": 1727693211,
                        "count": 3
                      },
                      {
                        "bin_start": 1727693211,
                        "bin_end": 1727693385,
                        "count": 3
                      },
                      {
                        "bin_start": 1727693385,
                        "bin_end": 1727693559,
                        "count": 3
                      },
                      {
                        "bin_start": 1727693559,
                        "bin_end": 1727693733,
                        "count": 3
                      },
                      {
                        "bin_start": 1727693733,
                        "bin_end": 1727693907,
                        "count": 3
                      },
                      {
                        "bin_start": 1727693907,
                        "bin_end": 1727694081,
                        "count": 3
                      },
                      {
                        "bin_start": 1727694081,
                        "bin_end": 1727694255,
                        "count": 3
                      },
                      {
                        "bin_start": 1727694255,
                        "bin_end": 1727694429,
                        "count": 3
                      },
                      {
                        "bin_start": 1727694429,
                        "bin_end": 1727694603,
                        "count": 3
                      }
                    ]
                  }
                },
                {
                  "name": "volt",
                  "dtype": "float64",
                  "stats": {
                    "unique_count": 2,
                    "nan_count": 0,
                    "min": "4.05",
                    "max": "4.06",
                    "histogram": [
                      {
                        "bin_start": 4.05,
                        "bin_end": 4.051,
                        "count": 20
                      },
                      {
                        "bin_start": 4.051,
                        "bin_end": 4.052,
                        "count": 0
                      },
                      {
                        "bin_start": 4.052,
                        "bin_end": 4.053,
                        "count": 0
                      },
                      {
                        "bin_start": 4.053,
                        "bin_end": 4.053999999999999,
                        "count": 0
                      },
                      {
                        "bin_start": 4.053999999999999,
                        "bin_end": 4.055,
                        "count": 0
                      },
                      {
                        "bin_start": 4.055,
                        "bin_end": 4.056,
                        "count": 0
                      },
                      {
                        "bin_start": 4.056,
                        "bin_end": 4.0569999999999995,
                        "count": 0
                      },
                      {
                        "bin_start": 4.0569999999999995,
                        "bin_end": 4.058,
                        "count": 0
                      },
                      {
                        "bin_start": 4.058,
                        "bin_end": 4.058999999999999,
                        "count": 0
                      },
                      {
                        "bin_start": 4.058999999999999,
                        "bin_end": 4.06,
                        "count": 10
                      }
                    ]
                  }
                },
                {
                  "name": "_deepnote_index_column",
                  "dtype": "int64"
                }
              ],
              "rows": [
                {
                  "dew": 25.82,
                  "humidity": 85.69,
                  "pressure": 1010.34,
                  "temperature": 28.45,
                  "timestamp": 1727692863,
                  "volt": 4.05,
                  "_deepnote_index_column": 1727692863
                },
                {
                  "dew": 25.83,
                  "humidity": 85.83,
                  "pressure": 1010.37,
                  "temperature": 28.43,
                  "timestamp": 1727692923,
                  "volt": 4.05,
                  "_deepnote_index_column": 1727692923
                },
                {
                  "dew": 25.82,
                  "humidity": 85.85,
                  "pressure": 1010.35,
                  "temperature": 28.42,
                  "timestamp": 1727692983,
                  "volt": 4.05,
                  "_deepnote_index_column": 1727692983
                },
                {
                  "dew": 25.84,
                  "humidity": 85.93,
                  "pressure": 1010.36,
                  "temperature": 28.42,
                  "timestamp": 1727693043,
                  "volt": 4.05,
                  "_deepnote_index_column": 1727693043
                },
                {
                  "dew": 25.83,
                  "humidity": 85.89,
                  "pressure": 1010.37,
                  "temperature": 28.42,
                  "timestamp": 1727693104,
                  "volt": 4.06,
                  "_deepnote_index_column": 1727693104
                },
                {
                  "dew": 25.81,
                  "humidity": 85.96,
                  "pressure": 1010.44,
                  "temperature": 28.39,
                  "timestamp": 1727693163,
                  "volt": 4.05,
                  "_deepnote_index_column": 1727693163
                },
                {
                  "dew": 25.85,
                  "humidity": 86.02,
                  "pressure": 1010.45,
                  "temperature": 28.42,
                  "timestamp": 1727693223,
                  "volt": 4.05,
                  "_deepnote_index_column": 1727693223
                },
                {
                  "dew": 25.84,
                  "humidity": 86.01,
                  "pressure": 1010.48,
                  "temperature": 28.41,
                  "timestamp": 1727693283,
                  "volt": 4.06,
                  "_deepnote_index_column": 1727693283
                },
                {
                  "dew": 25.81,
                  "humidity": 86.02,
                  "pressure": 1010.5,
                  "temperature": 28.38,
                  "timestamp": 1727693343,
                  "volt": 4.05,
                  "_deepnote_index_column": 1727693343
                },
                {
                  "dew": 25.83,
                  "humidity": 86.05,
                  "pressure": 1010.54,
                  "temperature": 28.39,
                  "timestamp": 1727693403,
                  "volt": 4.06,
                  "_deepnote_index_column": 1727693403
                }
              ]
            },
            "text/plain": "              dew  humidity  pressure  temperature   timestamp  volt\n1727692863  25.82     85.69   1010.34        28.45  1727692863  4.05\n1727692923  25.83     85.83   1010.37        28.43  1727692923  4.05\n1727692983  25.82     85.85   1010.35        28.42  1727692983  4.05\n1727693043  25.84     85.93   1010.36        28.42  1727693043  4.05\n1727693104  25.83     85.89   1010.37        28.42  1727693104  4.06\n1727693163  25.81     85.96   1010.44        28.39  1727693163  4.05\n1727693223  25.85     86.02   1010.45        28.42  1727693223  4.05\n1727693283  25.84     86.01   1010.48        28.41  1727693283  4.06\n1727693343  25.81     86.02   1010.50        28.38  1727693343  4.05\n1727693403  25.83     86.05   1010.54        28.39  1727693403  4.06\n1727693463  25.90     86.18   1010.57        28.43  1727693463  4.06\n1727693524  25.88     86.19   1010.58        28.41  1727693524  4.05\n1727693583  25.83     86.28   1010.62        28.34  1727693583  4.05\n1727693643  25.86     86.36   1010.62        28.36  1727693643  4.06\n1727693703  25.85     86.51   1010.61        28.32  1727693703  4.06\n1727693763  25.82     86.54   1010.67        28.28  1727693763  4.05\n1727693823  25.88     86.71   1010.68        28.31  1727693823  4.05\n1727693883  25.87     86.73   1010.64        28.30  1727693883  4.05\n1727693943  25.85     86.65   1010.74        28.29  1727693943  4.05\n1727694003  25.83     86.64   1010.77        28.27  1727694003  4.05\n1727694063  25.85     86.69   1010.82        28.28  1727694063  4.06\n1727694123  25.86     86.68   1010.90        28.29  1727694123  4.05\n1727694183  25.82     86.78   1010.90        28.23  1727694183  4.05\n1727694243  25.81     86.75   1010.89        28.23  1727694243  4.05\n1727694303  25.82     86.79   1011.00        28.23  1727694303  4.06\n1727694363  25.83     86.80   1011.01        28.24  1727694363  4.06\n1727694423  25.85     86.90   1011.02        28.24  1727694423  4.06\n1727694483  25.85     86.88   1011.04        28.25  1727694483  4.05\n1727694543  25.86     86.95   1011.05        28.24  1727694543  4.05\n1727694603  25.84     86.98   1011.03        28.22  1727694603  4.05",
            "text/html": "<div>\n<style scoped>\n    .dataframe tbody tr th:only-of-type {\n        vertical-align: middle;\n    }\n\n    .dataframe tbody tr th {\n        vertical-align: top;\n    }\n\n    .dataframe thead th {\n        text-align: right;\n    }\n</style>\n<table border=\"1\" class=\"dataframe\">\n  <thead>\n    <tr style=\"text-align: right;\">\n      <th></th>\n      <th>dew</th>\n      <th>humidity</th>\n      <th>pressure</th>\n      <th>temperature</th>\n      <th>timestamp</th>\n      <th>volt</th>\n    </tr>\n  </thead>\n  <tbody>\n    <tr>\n      <th>1727692863</th>\n      <td>25.82</td>\n      <td>85.69</td>\n      <td>1010.34</td>\n      <td>28.45</td>\n      <td>1727692863</td>\n      <td>4.05</td>\n    </tr>\n    <tr>\n      <th>1727692923</th>\n      <td>25.83</td>\n      <td>85.83</td>\n      <td>1010.37</td>\n      <td>28.43</td>\n      <td>1727692923</td>\n      <td>4.05</td>\n    </tr>\n    <tr>\n      <th>1727692983</th>\n      <td>25.82</td>\n      <td>85.85</td>\n      <td>1010.35</td>\n      <td>28.42</td>\n      <td>1727692983</td>\n      <td>4.05</td>\n    </tr>\n    <tr>\n      <th>1727693043</th>\n      <td>25.84</td>\n      <td>85.93</td>\n      <td>1010.36</td>\n      <td>28.42</td>\n      <td>1727693043</td>\n      <td>4.05</td>\n    </tr>\n    <tr>\n      <th>1727693104</th>\n      <td>25.83</td>\n      <td>85.89</td>\n      <td>1010.37</td>\n      <td>28.42</td>\n      <td>1727693104</td>\n      <td>4.06</td>\n    </tr>\n    <tr>\n      <th>1727693163</th>\n      <td>25.81</td>\n      <td>85.96</td>\n      <td>1010.44</td>\n      <td>28.39</td>\n      <td>1727693163</td>\n      <td>4.05</td>\n    </tr>\n    <tr>\n      <th>1727693223</th>\n      <td>25.85</td>\n      <td>86.02</td>\n      <td>1010.45</td>\n      <td>28.42</td>\n      <td>1727693223</td>\n      <td>4.05</td>\n    </tr>\n    <tr>\n      <th>1727693283</th>\n      <td>25.84</td>\n      <td>86.01</td>\n      <td>1010.48</td>\n      <td>28.41</td>\n      <td>1727693283</td>\n      <td>4.06</td>\n    </tr>\n    <tr>\n      <th>1727693343</th>\n      <td>25.81</td>\n      <td>86.02</td>\n      <td>1010.50</td>\n      <td>28.38</td>\n      <td>1727693343</td>\n      <td>4.05</td>\n    </tr>\n    <tr>\n      <th>1727693403</th>\n      <td>25.83</td>\n      <td>86.05</td>\n      <td>1010.54</td>\n      <td>28.39</td>\n      <td>1727693403</td>\n      <td>4.06</td>\n    </tr>\n    <tr>\n      <th>1727693463</th>\n      <td>25.90</td>\n      <td>86.18</td>\n      <td>1010.57</td>\n      <td>28.43</td>\n      <td>1727693463</td>\n      <td>4.06</td>\n    </tr>\n    <tr>\n      <th>1727693524</th>\n      <td>25.88</td>\n      <td>86.19</td>\n      <td>1010.58</td>\n      <td>28.41</td>\n      <td>1727693524</td>\n      <td>4.05</td>\n    </tr>\n    <tr>\n      <th>1727693583</th>\n      <td>25.83</td>\n      <td>86.28</td>\n      <td>1010.62</td>\n      <td>28.34</td>\n      <td>1727693583</td>\n      <td>4.05</td>\n    </tr>\n    <tr>\n      <th>1727693643</th>\n      <td>25.86</td>\n      <td>86.36</td>\n      <td>1010.62</td>\n      <td>28.36</td>\n      <td>1727693643</td>\n      <td>4.06</td>\n    </tr>\n    <tr>\n      <th>1727693703</th>\n      <td>25.85</td>\n      <td>86.51</td>\n      <td>1010.61</td>\n      <td>28.32</td>\n      <td>1727693703</td>\n      <td>4.06</td>\n    </tr>\n    <tr>\n      <th>1727693763</th>\n      <td>25.82</td>\n      <td>86.54</td>\n      <td>1010.67</td>\n      <td>28.28</td>\n      <td>1727693763</td>\n      <td>4.05</td>\n    </tr>\n    <tr>\n      <th>1727693823</th>\n      <td>25.88</td>\n      <td>86.71</td>\n      <td>1010.68</td>\n      <td>28.31</td>\n      <td>1727693823</td>\n      <td>4.05</td>\n    </tr>\n    <tr>\n      <th>1727693883</th>\n      <td>25.87</td>\n      <td>86.73</td>\n      <td>1010.64</td>\n      <td>28.30</td>\n      <td>1727693883</td>\n      <td>4.05</td>\n    </tr>\n    <tr>\n      <th>1727693943</th>\n      <td>25.85</td>\n      <td>86.65</td>\n      <td>1010.74</td>\n      <td>28.29</td>\n      <td>1727693943</td>\n      <td>4.05</td>\n    </tr>\n    <tr>\n      <th>1727694003</th>\n      <td>25.83</td>\n      <td>86.64</td>\n      <td>1010.77</td>\n      <td>28.27</td>\n      <td>1727694003</td>\n      <td>4.05</td>\n    </tr>\n    <tr>\n      <th>1727694063</th>\n      <td>25.85</td>\n      <td>86.69</td>\n      <td>1010.82</td>\n      <td>28.28</td>\n      <td>1727694063</td>\n      <td>4.06</td>\n    </tr>\n    <tr>\n      <th>1727694123</th>\n      <td>25.86</td>\n      <td>86.68</td>\n      <td>1010.90</td>\n      <td>28.29</td>\n      <td>1727694123</td>\n      <td>4.05</td>\n    </tr>\n    <tr>\n      <th>1727694183</th>\n      <td>25.82</td>\n      <td>86.78</td>\n      <td>1010.90</td>\n      <td>28.23</td>\n      <td>1727694183</td>\n      <td>4.05</td>\n    </tr>\n    <tr>\n      <th>1727694243</th>\n      <td>25.81</td>\n      <td>86.75</td>\n      <td>1010.89</td>\n      <td>28.23</td>\n      <td>1727694243</td>\n      <td>4.05</td>\n    </tr>\n    <tr>\n      <th>1727694303</th>\n      <td>25.82</td>\n      <td>86.79</td>\n      <td>1011.00</td>\n      <td>28.23</td>\n      <td>1727694303</td>\n      <td>4.06</td>\n    </tr>\n    <tr>\n      <th>1727694363</th>\n      <td>25.83</td>\n      <td>86.80</td>\n      <td>1011.01</td>\n      <td>28.24</td>\n      <td>1727694363</td>\n      <td>4.06</td>\n    </tr>\n    <tr>\n      <th>1727694423</th>\n      <td>25.85</td>\n      <td>86.90</td>\n      <td>1011.02</td>\n      <td>28.24</td>\n      <td>1727694423</td>\n      <td>4.06</td>\n    </tr>\n    <tr>\n      <th>1727694483</th>\n      <td>25.85</td>\n      <td>86.88</td>\n      <td>1011.04</td>\n      <td>28.25</td>\n      <td>1727694483</td>\n      <td>4.05</td>\n    </tr>\n    <tr>\n      <th>1727694543</th>\n      <td>25.86</td>\n      <td>86.95</td>\n      <td>1011.05</td>\n      <td>28.24</td>\n      <td>1727694543</td>\n      <td>4.05</td>\n    </tr>\n    <tr>\n      <th>1727694603</th>\n      <td>25.84</td>\n      <td>86.98</td>\n      <td>1011.03</td>\n      <td>28.22</td>\n      <td>1727694603</td>\n      <td>4.05</td>\n    </tr>\n  </tbody>\n</table>\n</div>"
          },
          "metadata": {}
        }
      ],
      "outputs_reference": null,
      "execution_count": 30,
      "block_group": "cf8602faca2a46889f474d747f29852f",
      "content_dependencies": null
    },
    {
      "cell_type": "code",
      "source": "cuacaT['timestamp'] = pd.to_datetime(cuacaT['timestamp'], unit='s').dt.strftime('%Y-%m-%d %H:%M:%S')\ncuacaT.tail(10)",
      "metadata": {
        "source_hash": "38051248",
        "execution_start": 1727694942338,
        "execution_millis": 186,
        "deepnote_table_state": {
          "sortBy": [],
          "filters": [],
          "pageSize": 100,
          "pageIndex": 0,
          "conditionalFilters": []
        },
        "deepnote_table_loading": false,
        "deepnote_to_be_reexecuted": false,
        "cell_id": "adc0c565cab546559c6806e68c50b000",
        "deepnote_cell_type": "code"
      },
      "outputs": [
        {
          "output_type": "error",
          "ename": "ValueError",
          "evalue": "non convertible value 1970-01-01 00:00:00 with the unit 's', at position 0",
          "traceback": [
            "\u001b[0;31m---------------------------------------------------------------------------\u001b[0m",
            "\u001b[0;31mValueError\u001b[0m                                Traceback (most recent call last)",
            "File \u001b[0;32mtslib.pyx:305\u001b[0m, in \u001b[0;36mpandas._libs.tslib.array_with_unit_to_datetime\u001b[0;34m()\u001b[0m\n",
            "\u001b[0;31mValueError\u001b[0m: could not convert string to float: '1970-01-01 00:00:00'",
            "\nDuring handling of the above exception, another exception occurred:\n",
            "\u001b[0;31mValueError\u001b[0m                                Traceback (most recent call last)",
            "Cell \u001b[0;32mIn[35], line 2\u001b[0m\n\u001b[1;32m      1\u001b[0m _deepnote_current_table_attrs \u001b[38;5;241m=\u001b[39m \u001b[38;5;124m'\u001b[39m\u001b[38;5;124m{\u001b[39m\u001b[38;5;124m\"\u001b[39m\u001b[38;5;124msortBy\u001b[39m\u001b[38;5;124m\"\u001b[39m\u001b[38;5;124m:[],\u001b[39m\u001b[38;5;124m\"\u001b[39m\u001b[38;5;124mfilters\u001b[39m\u001b[38;5;124m\"\u001b[39m\u001b[38;5;124m:[],\u001b[39m\u001b[38;5;124m\"\u001b[39m\u001b[38;5;124mpageSize\u001b[39m\u001b[38;5;124m\"\u001b[39m\u001b[38;5;124m:100,\u001b[39m\u001b[38;5;124m\"\u001b[39m\u001b[38;5;124mpageIndex\u001b[39m\u001b[38;5;124m\"\u001b[39m\u001b[38;5;124m:0,\u001b[39m\u001b[38;5;124m\"\u001b[39m\u001b[38;5;124mconditionalFilters\u001b[39m\u001b[38;5;124m\"\u001b[39m\u001b[38;5;124m:[]}\u001b[39m\u001b[38;5;124m'\u001b[39m\n\u001b[0;32m----> 2\u001b[0m cuacaT[\u001b[38;5;124m'\u001b[39m\u001b[38;5;124mtimestamp\u001b[39m\u001b[38;5;124m'\u001b[39m] \u001b[38;5;241m=\u001b[39m \u001b[43mpd\u001b[49m\u001b[38;5;241;43m.\u001b[39;49m\u001b[43mto_datetime\u001b[49m\u001b[43m(\u001b[49m\u001b[43mcuacaT\u001b[49m\u001b[43m[\u001b[49m\u001b[38;5;124;43m'\u001b[39;49m\u001b[38;5;124;43mtimestamp\u001b[39;49m\u001b[38;5;124;43m'\u001b[39;49m\u001b[43m]\u001b[49m\u001b[43m,\u001b[49m\u001b[43m \u001b[49m\u001b[43munit\u001b[49m\u001b[38;5;241;43m=\u001b[39;49m\u001b[38;5;124;43m'\u001b[39;49m\u001b[38;5;124;43ms\u001b[39;49m\u001b[38;5;124;43m'\u001b[39;49m\u001b[43m)\u001b[49m\u001b[38;5;241m.\u001b[39mdt\u001b[38;5;241m.\u001b[39mstrftime(\u001b[38;5;124m'\u001b[39m\u001b[38;5;124m%\u001b[39m\u001b[38;5;124mY-\u001b[39m\u001b[38;5;124m%\u001b[39m\u001b[38;5;124mm-\u001b[39m\u001b[38;5;132;01m%d\u001b[39;00m\u001b[38;5;124m \u001b[39m\u001b[38;5;124m%\u001b[39m\u001b[38;5;124mH:\u001b[39m\u001b[38;5;124m%\u001b[39m\u001b[38;5;124mM:\u001b[39m\u001b[38;5;124m%\u001b[39m\u001b[38;5;124mS\u001b[39m\u001b[38;5;124m'\u001b[39m)\n\u001b[1;32m      3\u001b[0m cuacaT\u001b[38;5;241m.\u001b[39mtail(\u001b[38;5;241m10\u001b[39m)\n",
            "File \u001b[0;32m/shared-libs/python3.11/py/lib/python3.11/site-packages/pandas/core/tools/datetimes.py:1112\u001b[0m, in \u001b[0;36mto_datetime\u001b[0;34m(arg, errors, dayfirst, yearfirst, utc, format, exact, unit, infer_datetime_format, origin, cache)\u001b[0m\n\u001b[1;32m   1110\u001b[0m         result \u001b[38;5;241m=\u001b[39m arg\u001b[38;5;241m.\u001b[39mmap(cache_array)\n\u001b[1;32m   1111\u001b[0m     \u001b[38;5;28;01melse\u001b[39;00m:\n\u001b[0;32m-> 1112\u001b[0m         values \u001b[38;5;241m=\u001b[39m \u001b[43mconvert_listlike\u001b[49m\u001b[43m(\u001b[49m\u001b[43marg\u001b[49m\u001b[38;5;241;43m.\u001b[39;49m\u001b[43m_values\u001b[49m\u001b[43m,\u001b[49m\u001b[43m \u001b[49m\u001b[38;5;28;43mformat\u001b[39;49m\u001b[43m)\u001b[49m\n\u001b[1;32m   1113\u001b[0m         result \u001b[38;5;241m=\u001b[39m arg\u001b[38;5;241m.\u001b[39m_constructor(values, index\u001b[38;5;241m=\u001b[39marg\u001b[38;5;241m.\u001b[39mindex, name\u001b[38;5;241m=\u001b[39marg\u001b[38;5;241m.\u001b[39mname)\n\u001b[1;32m   1114\u001b[0m \u001b[38;5;28;01melif\u001b[39;00m \u001b[38;5;28misinstance\u001b[39m(arg, (ABCDataFrame, abc\u001b[38;5;241m.\u001b[39mMutableMapping)):\n",
            "File \u001b[0;32m/shared-libs/python3.11/py/lib/python3.11/site-packages/pandas/core/tools/datetimes.py:462\u001b[0m, in \u001b[0;36m_convert_listlike_datetimes\u001b[0;34m(arg, format, name, utc, unit, errors, dayfirst, yearfirst, exact)\u001b[0m\n\u001b[1;32m    460\u001b[0m     \u001b[38;5;28;01mif\u001b[39;00m \u001b[38;5;28mformat\u001b[39m \u001b[38;5;129;01mis\u001b[39;00m \u001b[38;5;129;01mnot\u001b[39;00m \u001b[38;5;28;01mNone\u001b[39;00m:\n\u001b[1;32m    461\u001b[0m         \u001b[38;5;28;01mraise\u001b[39;00m \u001b[38;5;167;01mValueError\u001b[39;00m(\u001b[38;5;124m\"\u001b[39m\u001b[38;5;124mcannot specify both format and unit\u001b[39m\u001b[38;5;124m\"\u001b[39m)\n\u001b[0;32m--> 462\u001b[0m     \u001b[38;5;28;01mreturn\u001b[39;00m \u001b[43m_to_datetime_with_unit\u001b[49m\u001b[43m(\u001b[49m\u001b[43marg\u001b[49m\u001b[43m,\u001b[49m\u001b[43m \u001b[49m\u001b[43munit\u001b[49m\u001b[43m,\u001b[49m\u001b[43m \u001b[49m\u001b[43mname\u001b[49m\u001b[43m,\u001b[49m\u001b[43m \u001b[49m\u001b[43mutc\u001b[49m\u001b[43m,\u001b[49m\u001b[43m \u001b[49m\u001b[43merrors\u001b[49m\u001b[43m)\u001b[49m\n\u001b[1;32m    463\u001b[0m \u001b[38;5;28;01melif\u001b[39;00m \u001b[38;5;28mgetattr\u001b[39m(arg, \u001b[38;5;124m\"\u001b[39m\u001b[38;5;124mndim\u001b[39m\u001b[38;5;124m\"\u001b[39m, \u001b[38;5;241m1\u001b[39m) \u001b[38;5;241m>\u001b[39m \u001b[38;5;241m1\u001b[39m:\n\u001b[1;32m    464\u001b[0m     \u001b[38;5;28;01mraise\u001b[39;00m \u001b[38;5;167;01mTypeError\u001b[39;00m(\n\u001b[1;32m    465\u001b[0m         \u001b[38;5;124m\"\u001b[39m\u001b[38;5;124marg must be a string, datetime, list, tuple, 1-d array, or Series\u001b[39m\u001b[38;5;124m\"\u001b[39m\n\u001b[1;32m    466\u001b[0m     )\n",
            "File \u001b[0;32m/shared-libs/python3.11/py/lib/python3.11/site-packages/pandas/core/tools/datetimes.py:574\u001b[0m, in \u001b[0;36m_to_datetime_with_unit\u001b[0;34m(arg, unit, name, utc, errors)\u001b[0m\n\u001b[1;32m    572\u001b[0m     \u001b[38;5;28;01melse\u001b[39;00m:\n\u001b[1;32m    573\u001b[0m         arg \u001b[38;5;241m=\u001b[39m arg\u001b[38;5;241m.\u001b[39mastype(\u001b[38;5;28mobject\u001b[39m, copy\u001b[38;5;241m=\u001b[39m\u001b[38;5;28;01mFalse\u001b[39;00m)\n\u001b[0;32m--> 574\u001b[0m         arr, tz_parsed \u001b[38;5;241m=\u001b[39m \u001b[43mtslib\u001b[49m\u001b[38;5;241;43m.\u001b[39;49m\u001b[43marray_with_unit_to_datetime\u001b[49m\u001b[43m(\u001b[49m\u001b[43marg\u001b[49m\u001b[43m,\u001b[49m\u001b[43m \u001b[49m\u001b[43munit\u001b[49m\u001b[43m,\u001b[49m\u001b[43m \u001b[49m\u001b[43merrors\u001b[49m\u001b[38;5;241;43m=\u001b[39;49m\u001b[43merrors\u001b[49m\u001b[43m)\u001b[49m\n\u001b[1;32m    576\u001b[0m \u001b[38;5;28;01mif\u001b[39;00m errors \u001b[38;5;241m==\u001b[39m \u001b[38;5;124m\"\u001b[39m\u001b[38;5;124mignore\u001b[39m\u001b[38;5;124m\"\u001b[39m:\n\u001b[1;32m    577\u001b[0m     \u001b[38;5;66;03m# Index constructor _may_ infer to DatetimeIndex\u001b[39;00m\n\u001b[1;32m    578\u001b[0m     result \u001b[38;5;241m=\u001b[39m Index\u001b[38;5;241m.\u001b[39m_with_infer(arr, name\u001b[38;5;241m=\u001b[39mname)\n",
            "File \u001b[0;32mtslib.pyx:333\u001b[0m, in \u001b[0;36mpandas._libs.tslib.array_with_unit_to_datetime\u001b[0;34m()\u001b[0m\n",
            "File \u001b[0;32mtslib.pyx:307\u001b[0m, in \u001b[0;36mpandas._libs.tslib.array_with_unit_to_datetime\u001b[0;34m()\u001b[0m\n",
            "\u001b[0;31mValueError\u001b[0m: non convertible value 1970-01-01 00:00:00 with the unit 's', at position 0"
          ]
        }
      ],
      "outputs_reference": null,
      "execution_count": 35,
      "block_group": "b9b4bbaf53d6434ebe69ee5af9d6505a",
      "content_dependencies": null
    },
    {
      "cell_type": "code",
      "source": "plt.rcParams[\"figure.figsize\"] = (12,6)\njam = 24\ndef plot_data(data, variable, color, label, last_n_points):\n    \"\"\"\n    Plots a line chart for a specific variable.\n    Parameters:\n    - data (dict): A dictionary containing the data.\n    - variable (str): The variable to plot.\n    - color (str): The color of the line.\n    - label (str): The label for the line in the legend.\n    - last_n_points (int): The number of last points to plot.\n    \"\"\"\n    plt.plot(data[variable].tail(last_n_points), color=color, label=label)\n\n# Contoh penggunaan fungsi\nplot_data(cuacaT, 'temperature', '#f68923', 'Suhu',60*jam)\nplot_data(cuacaT, 'dew', '#4278f5', 'Titik Embun',60*jam)\n\n# Menambahkan judul dan label sumbu\nplt.suptitle(\"Suhu Harian\")\nplt.xlabel('Time')\nplt.ylabel('Suhu')\n\n# Menambahkan legenda\nplt.legend()\n\n# Menyimpan gambar ke file 'grafik_Suhu.png'\nplt.savefig('grafik_Suhu.png')\n\n# Menampilkan plot\nplt.show()",
      "metadata": {
        "source_hash": "4155a31c",
        "execution_start": 1727694857438,
        "execution_millis": 542,
        "deepnote_to_be_reexecuted": true,
        "cell_id": "4750e4cfc8544a4988c20263566d16ea",
        "deepnote_cell_type": "code"
      },
      "outputs": [
        {
          "data": {
            "text/plain": "<Figure size 1200x600 with 1 Axes>",
            "image/png": "[encoded data removed]"
          },
          "metadata": {
            "image/png": {
              "width": 1006,
              "height": 593
            }
          },
          "output_type": "display_data"
        }
      ],
      "outputs_reference": null,
      "execution_count": 32,
      "block_group": "351e0b18bcba4dab9cac5aa50161f92c",
      "content_dependencies": null
    },
    {
      "cell_type": "code",
      "source": "import plotly.graph_objects as go\n\ntemperature = cuacaT['temperature'].tail(60*jam)\nhumidity = cuacaT['humidity'].tail(60*jam)\npressure = cuacaT['pressure'].tail(60*jam)\n\n# Create 3D scatter plot\nfig = go.Figure(data=[go.Scatter3d(\n    x=temperature,\n    y=humidity,\n    z=pressure,\n    mode='markers',\n    marker=dict(\n        size=5,\n        color=temperature,              # Color by temperature\n        colorscale='Viridis',           # Colormap\n        opacity=0.8\n    )\n)])\n\n# Add labels and title\nfig.update_layout(\n    scene=dict(\n        xaxis_title='Temperature (°C)',\n        yaxis_title='Humidity (%)',\n        zaxis_title='Pressure (hPa)'\n    ),\n    title='3D Scatter Plot of Temperature, Humidity, and Pressure'\n)\n\n# Show the plot\nfig.show()\n",
      "metadata": {
        "source_hash": "fb95101c",
        "execution_start": 1727694857976,
        "execution_millis": 183,
        "deepnote_to_be_reexecuted": true,
        "cell_id": "32f1a22a40d64f48b45470072e01a8c3",
        "deepnote_cell_type": "code"
      },
      "outputs": [
        {
          "data": {
            "text/html": "<html>\n<head><meta charset=\"utf-8\" /></head>\n<body>\n    <div>            <script src=\"https://cdnjs.cloudflare.com/ajax/libs/mathjax/2.7.5/MathJax.js?config=TeX-AMS-MML_SVG\"></script><script type=\"text/javascript\">if (window.MathJax && window.MathJax.Hub && window.MathJax.Hub.Config) {window.MathJax.Hub.Config({SVG: {font: \"STIX-Web\"}});}</script>                <script type=\"text/javascript\">window.PlotlyConfig = {MathJaxConfig: 'local'};</script>\n        <script charset=\"utf-8\" src=\"https://cdn.plot.ly/plotly-2.30.0.min.js\"></script>                <div id=\"23e814d4-9e06-479f-827e-f2906f98444d\" class=\"plotly-graph-div\" style=\"height:525px; width:100%;\"></div>            <script type=\"text/javascript\">                                    window.PLOTLYENV=window.PLOTLYENV || {};                                    if (document.getElementById(\"23e814d4-9e06-479f-827e-f2906f98444d\")) {                    Plotly.newPlot(                        \"23e814d4-9e06-479f-827e-f2906f98444d\",                        [{\"marker\":{\"color\":[28.66,28.66,28.66,28.71,28.66,28.63,28.61,28.61,28.64,28.64,28.65,28.65,28.63,28.62,28.62,28.58,28.57,28.56,28.57,28.57,28.56,28.55,28.54,28.58,28.54,28.56,28.53,28.52,28.51,28.46,28.5,28.48,28.48,28.43,28.42,28.43,28.46,28.46,28.46,28.46,28.47,28.45,28.43,28.43,28.43,28.46,28.46,28.42,28.41,28.39,28.38,28.39,28.36,28.36,28.37,28.39,28.41,28.41,28.41,28.41,28.39,28.42,28.45,28.42,28.43,28.41,28.42,28.4,28.38,28.37,28.39,28.39,28.39,28.39,28.39,28.34,28.36,28.36,28.34,28.35,28.33,28.35,28.37,28.35,28.34,28.31,28.28,28.31,28.25,28.28,28.28,28.29,28.28,28.28,28.26,28.27,28.27,28.26,28.26,28.28,28.28,28.24,28.24,28.22,28.23,28.26,28.2,28.22,28.23,28.22,28.19,28.19,28.16,28.15,28.14,28.15,28.16,28.12,28.11,28.1,28.1,28.1,28.1,28.08,28.07,28.06,28.09,28.05,28.08,28.06,28.03,28.05,28.05,28.02,28.01,28.03,28.03,28.02,27.99,27.98,27.96,27.95,27.9,27.89,27.89,27.88,27.83,27.86,27.86,27.86,27.84,27.83,27.83,27.84,27.84,27.86,27.82,27.8,27.77,27.76,27.76,27.76,27.7,27.7,27.68,27.65,27.67,27.64,27.64,27.63,27.62,27.63,27.66,27.64,27.64,27.65,27.64,27.62,27.6,27.62,27.57,27.56,27.57,27.55,27.52,27.55,27.55,27.51,27.52,27.53,27.49,27.49,27.48,27.47,27.47,27.5,27.49,27.49,27.49,27.5,27.51,27.5,27.48,27.52,27.51,27.54,27.51,27.51,27.52,27.49,27.49,27.5,27.49,27.49,27.49,27.48,27.48,27.5,27.48,27.49,27.49,27.49,27.48,27.46,27.48,27.48,27.46,27.47,27.46,27.49,27.49,27.49,27.52,27.51,27.48,27.51,27.48,27.49,27.49,27.47,27.48,27.51,27.51,27.52,27.5,27.48,27.51,27.51,27.51,27.51,27.51,27.52,27.48,27.49,27.49,27.49,27.52,27.52,27.51,27.51,27.53,27.46,27.46,27.48,27.46,27.42,27.43,27.44,27.44,27.42,27.42,27.43,27.42,27.4,27.39,27.38,27.38,27.39,27.4,27.37,27.34,27.33,27.33,27.32,27.3,27.31,27.33,27.33,27.32,27.34,27.34,27.34,27.32,27.32,27.33,27.29,27.29,27.29,27.3,27.26,27.26,27.25,27.28,27.28,27.27,27.25,27.25,27.24,27.23,27.22,27.21,27.21,27.2,27.2,27.16,27.16,27.17,27.15,27.16,27.14,27.14,27.12,27.11,27.12,27.07,27.06,27.04,27.03,27.01,26.99,26.99,26.98,26.97,26.98,26.97,26.97,26.96,26.96,26.95,26.95,26.94,26.94,26.91,26.91,26.92,26.92,26.91,26.9,26.87,26.85,26.86,26.87,26.85,26.85,26.82,26.84,26.82,26.81,26.79,26.79,26.79,26.78,26.77,26.76,26.77,26.76,26.75,26.73,26.72,26.72,26.71,26.68,26.67,26.68,26.69,26.67,26.66,26.66,26.62,26.63,26.63,26.65,26.62,26.59,26.61,26.58,26.57,26.61,26.58,26.55,26.54,26.56,26.54,26.52,26.55,26.52,26.53,26.5,26.51,26.49,26.48,26.47,26.46,26.5,26.45,26.44,26.43,26.43,26.4,26.4,26.39,26.38,26.35,26.36,26.35,26.33,26.35,26.33,26.34,26.36,26.34,26.32,26.31,26.29,26.28,26.27,26.26,26.27,26.23,26.24,26.23,26.23,26.23,26.23,26.24,26.23,26.21,26.2,26.19,26.19,26.16,26.18,26.15,26.15,26.15,26.16,26.15,26.15,26.13,26.13,26.13,26.11,26.12,26.12,26.12,26.08,26.1,26.06,26.1,26.08,26.06,26.05,26.06,26.06,26.06,26.05,26.05,26.05,26.04,26.05,26.03,26.02,26.02,26.04,26.02,26.0,26.01,25.98,25.98,25.98,25.99,25.98,25.97,25.97,25.92,25.92,25.91,25.91,25.89,25.9,25.86,25.88,25.85,25.88,25.84,25.83,25.82,25.83,25.84,25.81,25.83,25.8,25.79,25.78,25.8,25.8,25.79,25.76,25.75,25.76,25.76,25.74,25.75,25.74,25.76,25.75,25.72,25.74,25.72,25.71,25.71,25.69,25.71,25.69,25.69,25.67,25.67,25.67,25.66,25.66,25.66,25.65,25.67,25.65,25.66,25.66,25.66,25.65,25.65,25.65,25.64,25.65,25.63,25.64,25.61,25.6,25.62,25.6,25.57,25.58,25.57,25.59,25.55,25.56,25.56,25.57,25.57,25.56,25.56,25.55,25.55,25.54,25.53,25.55,25.53,25.51,25.52,25.5,25.51,25.52,25.5,25.5,25.52,25.48,25.5,25.49,25.49,25.5,25.47,25.49,25.46,25.46,25.45,25.44,25.47,25.45,25.45,25.44,25.44,25.45,25.45,25.43,25.43,25.43,25.41,25.4,25.4,25.41,25.41,25.4,25.38,25.37,25.37,25.39,25.36,25.35,25.37,25.36,25.33,25.34,25.33,25.34,25.34,25.34,25.32,25.34,25.34,25.33,25.33,25.32,25.32,25.31,25.27,25.31,25.3,25.27,25.24,25.22,25.26,25.23,25.21,25.23,25.22,25.21,25.21,25.2,25.21,25.19,25.19,25.18,25.18,25.18,25.16,25.14,25.17,25.15,25.13,25.09,25.13,25.12,25.12,25.11,25.12,25.11,25.12,25.11,25.09,25.09,25.1,25.1,25.09,25.12,25.11,25.1,25.08,25.09,25.07,25.05,25.06,25.06,25.04,25.07,25.06,25.04,25.04,25.05,25.04,25.05,25.03,25.03,25.04,25.02,25.0,25.01,25.02,25.0,25.01,25.0,25.01,25.02,25.01,25.0,25.03,25.02,25.01,25.01,25.0,25.02,25.03,25.04,25.02,25.03,25.03,25.05,25.06,25.05,25.06,25.04,25.08,25.08,25.08,25.06,25.07,25.1,25.1,25.1,25.1,25.12,25.14,25.15,25.16,25.15,25.18,25.2,25.21,25.2,25.22,25.24,25.25,25.24,25.27,25.28,25.3,25.28,25.3,25.28,25.33,25.33,25.34,25.35,25.36,25.37,25.36,25.41,25.42,25.41,25.42,25.42,25.45,25.46,25.49,25.49,25.51,25.53,25.55,25.58,25.59,25.61,25.61,25.63,25.64,25.68,25.71,25.72,25.73,25.76,25.79,25.82,25.85,25.88,25.91,25.95,25.96,25.99,26.0,26.06,26.08,26.15,26.18,26.23,26.25,26.29,26.33,26.36,26.39,26.43,26.47,26.53,26.58,26.59,26.67,26.67,26.69,26.76,26.75,26.79,26.85,26.9,26.93,26.94,26.99,27.04,27.08,27.12,27.17,27.22,27.25,27.29,27.29,27.36,27.4,27.42,27.5,27.52,27.54,27.6,27.65,27.68,27.71,27.76,27.79,27.83,27.88,27.94,27.98,28.03,28.04,28.09,28.1,28.12,28.17,28.25,28.26,28.33,28.37,28.4,28.44,28.51,28.59,28.61,28.66,28.68,28.72,28.79,28.94,28.95,29.01,29.04,29.08,29.12,29.21,29.28,29.3,29.41,29.44,29.47,29.51,29.55,29.58,29.6,29.71,29.73,29.82,29.88,29.87,29.91,29.99,29.97,29.98,29.93,29.92,29.9,29.89,29.97,29.92,29.95,30.0,30.03,30.08,30.16,30.19,30.25,30.3,30.28,30.26,30.31,30.35,30.38,30.46,30.54,30.57,30.65,30.67,30.7,30.75,30.81,30.93,30.99,31.04,31.07,31.09,31.15,31.15,31.2,31.24,31.29,31.29,31.35,31.4,31.4,31.45,31.45,31.45,31.53,31.61,31.7,31.65,31.65,31.56,31.52,31.55,31.59,31.56,31.59,31.57,31.63,31.7,31.63,31.65,31.71,31.81,31.88,31.93,32.02,32.12,32.11,32.14,32.22,32.26,32.3,32.2,32.23,32.25,32.15,32.1,32.1,32.1,32.15,32.2,32.23,32.24,32.31,32.32,32.24,32.26,32.21,32.29,32.38,32.47,32.57,32.66,32.74,32.81,32.82,32.87,32.85,32.79,32.82,32.82,32.89,32.84,32.96,32.99,33.05,33.0,32.83,32.91,32.9,32.99,33.1,33.06,33.06,33.05,33.12,33.16,33.18,33.17,33.25,33.35,33.41,33.38,33.46,33.48,33.58,33.58,33.58,33.59,33.59,33.46,33.43,33.23,33.22,33.2,33.18,33.18,33.14,33.08,33.12,33.13,33.06,33.09,33.19,33.31,33.33,33.31,33.34,33.27,33.25,33.25,33.31,33.34,33.23,33.32,33.42,33.57,33.52,33.48,33.46,33.34,33.26,33.22,33.24,33.32,33.38,33.37,33.4,33.4,33.48,33.56,33.61,33.68,33.72,33.76,33.65,33.61,33.62,33.66,33.66,33.74,33.83,33.85,33.78,33.61,33.53,33.55,33.35,33.26,33.24,33.29,33.28,33.21,33.2,33.23,33.06,33.18,33.1,33.17,33.11,33.06,33.09,33.16,33.21,33.17,33.17,33.18,33.21,33.29,33.28,33.35,33.4,33.36,33.41,33.38,33.42,33.49,33.56,33.61,33.61,33.74,33.8,33.79,33.86,33.86,33.91,33.79,33.81,33.86,33.94,33.89,33.79,33.72,33.75,33.81,33.8,33.84,33.77,33.69,33.72,33.74,33.76,33.81,33.77,33.82,33.76,33.5,33.43,33.44,33.36,33.41,33.5,33.55,33.51,33.55,33.65,33.68,33.78,33.87,33.93,33.98,33.84,33.9,33.72,33.5,33.51,33.53,33.46,33.33,33.27,33.26,33.35,33.44,33.42,33.46,33.52,33.55,33.55,33.51,33.56,33.64,33.63,33.52,33.47,33.33,33.33,33.31,33.39,33.29,33.31,33.31,33.25,33.22,33.29,33.26,33.3,33.33,33.35,33.25,33.2,33.29,33.34,33.33,33.27,33.19,33.19,33.25,33.16,33.1,33.06,33.18,33.19,33.31,33.2,33.17,33.18,33.1,33.04,32.87,32.65,32.43,32.31,32.23,32.16,32.24,32.17,32.23,32.32,32.32,32.26,32.24,32.14,31.99,31.78,31.73,31.61,31.55,31.49,31.38,31.41,31.35,31.31,31.35,31.32,31.41,31.46,31.46,31.44,31.35,31.39,31.22,31.22,31.15,30.88,30.8,30.77,30.68,30.68,30.62,30.57,30.47,30.43,30.39,30.38,30.44,30.46,30.5,30.47,30.55,30.55,30.58,30.63,30.68,30.7,30.76,30.82,30.88,30.88,30.89,30.9,30.97,30.98,31.05,31.12,31.06,31.1,31.16,31.21,31.2,31.09,30.94,30.94,30.88,30.83,30.82,30.82,30.8,30.82,30.79,30.73,30.71,30.74,30.74,30.75,30.75,30.66,30.66,30.54,30.54,30.51,30.45,30.4,30.31,30.27,30.24,30.18,30.15,30.11,30.1,30.09,30.11,30.13,30.1,30.1,30.08,30.1,30.08,30.12,30.13,30.08,30.08,30.07,29.95,29.91,29.92,29.93,29.89,29.92,29.92,29.92,29.86,29.83,29.77,29.69,29.67,29.66,29.67,29.66,29.67,29.67,29.63,29.6,29.56,29.55,29.53,29.53,29.5,29.41,29.34,29.36,29.4,29.4,29.41,29.42,29.4,29.41,29.38,29.42,29.41,29.35,29.38,29.39,29.33,29.3,29.25,29.23,29.19,29.21,29.2,29.2,29.17,29.17,29.17,29.18,29.15,29.13,29.11,29.13,29.11,29.04,28.98,28.93,28.87,28.85,28.82,28.81,28.77,28.77,28.75,28.74,28.73,28.75,28.74,28.73,28.7,28.7,28.67,28.66,28.7,28.67,28.66,28.62,28.63,28.63,28.62,28.65,28.65,28.59,28.58,28.59,28.59,28.58,28.59,28.56,28.56,28.55,28.57,28.56,28.53,28.5,28.52,28.53,28.51,28.54,28.53,28.53,28.51,28.54,28.5,28.5,28.49,28.47,28.45,28.43,28.42,28.42,28.42,28.39,28.42,28.41,28.38,28.39,28.43,28.41,28.34,28.36,28.32,28.28,28.31,28.3,28.29,28.27,28.28,28.29,28.23,28.23,28.23,28.24,28.24,28.25,28.24,28.22],\"colorscale\":[[0.0,\"#440154\"],[0.1111111111111111,\"#482878\"],[0.2222222222222222,\"#3e4989\"],[0.3333333333333333,\"#31688e\"],[0.4444444444444444,\"#26828e\"],[0.5555555555555556,\"#1f9e89\"],[0.6666666666666666,\"#35b779\"],[0.7777777777777778,\"#6ece58\"],[0.8888888888888888,\"#b5de2b\"],[1.0,\"#fde725\"]],\"opacity\":0.8,\"size\":5},\"mode\":\"markers\",\"x\":[28.66,28.66,28.66,28.71,28.66,28.63,28.61,28.61,28.64,28.64,28.65,28.65,28.63,28.62,28.62,28.58,28.57,28.56,28.57,28.57,28.56,28.55,28.54,28.58,28.54,28.56,28.53,28.52,28.51,28.46,28.5,28.48,28.48,28.43,28.42,28.43,28.46,28.46,28.46,28.46,28.47,28.45,28.43,28.43,28.43,28.46,28.46,28.42,28.41,28.39,28.38,28.39,28.36,28.36,28.37,28.39,28.41,28.41,28.41,28.41,28.39,28.42,28.45,28.42,28.43,28.41,28.42,28.4,28.38,28.37,28.39,28.39,28.39,28.39,28.39,28.34,28.36,28.36,28.34,28.35,28.33,28.35,28.37,28.35,28.34,28.31,28.28,28.31,28.25,28.28,28.28,28.29,28.28,28.28,28.26,28.27,28.27,28.26,28.26,28.28,28.28,28.24,28.24,28.22,28.23,28.26,28.2,28.22,28.23,28.22,28.19,28.19,28.16,28.15,28.14,28.15,28.16,28.12,28.11,28.1,28.1,28.1,28.1,28.08,28.07,28.06,28.09,28.05,28.08,28.06,28.03,28.05,28.05,28.02,28.01,28.03,28.03,28.02,27.99,27.98,27.96,27.95,27.9,27.89,27.89,27.88,27.83,27.86,27.86,27.86,27.84,27.83,27.83,27.84,27.84,27.86,27.82,27.8,27.77,27.76,27.76,27.76,27.7,27.7,27.68,27.65,27.67,27.64,27.64,27.63,27.62,27.63,27.66,27.64,27.64,27.65,27.64,27.62,27.6,27.62,27.57,27.56,27.57,27.55,27.52,27.55,27.55,27.51,27.52,27.53,27.49,27.49,27.48,27.47,27.47,27.5,27.49,27.49,27.49,27.5,27.51,27.5,27.48,27.52,27.51,27.54,27.51,27.51,27.52,27.49,27.49,27.5,27.49,27.49,27.49,27.48,27.48,27.5,27.48,27.49,27.49,27.49,27.48,27.46,27.48,27.48,27.46,27.47,27.46,27.49,27.49,27.49,27.52,27.51,27.48,27.51,27.48,27.49,27.49,27.47,27.48,27.51,27.51,27.52,27.5,27.48,27.51,27.51,27.51,27.51,27.51,27.52,27.48,27.49,27.49,27.49,27.52,27.52,27.51,27.51,27.53,27.46,27.46,27.48,27.46,27.42,27.43,27.44,27.44,27.42,27.42,27.43,27.42,27.4,27.39,27.38,27.38,27.39,27.4,27.37,27.34,27.33,27.33,27.32,27.3,27.31,27.33,27.33,27.32,27.34,27.34,27.34,27.32,27.32,27.33,27.29,27.29,27.29,27.3,27.26,27.26,27.25,27.28,27.28,27.27,27.25,27.25,27.24,27.23,27.22,27.21,27.21,27.2,27.2,27.16,27.16,27.17,27.15,27.16,27.14,27.14,27.12,27.11,27.12,27.07,27.06,27.04,27.03,27.01,26.99,26.99,26.98,26.97,26.98,26.97,26.97,26.96,26.96,26.95,26.95,26.94,26.94,26.91,26.91,26.92,26.92,26.91,26.9,26.87,26.85,26.86,26.87,26.85,26.85,26.82,26.84,26.82,26.81,26.79,26.79,26.79,26.78,26.77,26.76,26.77,26.76,26.75,26.73,26.72,26.72,26.71,26.68,26.67,26.68,26.69,26.67,26.66,26.66,26.62,26.63,26.63,26.65,26.62,26.59,26.61,26.58,26.57,26.61,26.58,26.55,26.54,26.56,26.54,26.52,26.55,26.52,26.53,26.5,26.51,26.49,26.48,26.47,26.46,26.5,26.45,26.44,26.43,26.43,26.4,26.4,26.39,26.38,26.35,26.36,26.35,26.33,26.35,26.33,26.34,26.36,26.34,26.32,26.31,26.29,26.28,26.27,26.26,26.27,26.23,26.24,26.23,26.23,26.23,26.23,26.24,26.23,26.21,26.2,26.19,26.19,26.16,26.18,26.15,26.15,26.15,26.16,26.15,26.15,26.13,26.13,26.13,26.11,26.12,26.12,26.12,26.08,26.1,26.06,26.1,26.08,26.06,26.05,26.06,26.06,26.06,26.05,26.05,26.05,26.04,26.05,26.03,26.02,26.02,26.04,26.02,26.0,26.01,25.98,25.98,25.98,25.99,25.98,25.97,25.97,25.92,25.92,25.91,25.91,25.89,25.9,25.86,25.88,25.85,25.88,25.84,25.83,25.82,25.83,25.84,25.81,25.83,25.8,25.79,25.78,25.8,25.8,25.79,25.76,25.75,25.76,25.76,25.74,25.75,25.74,25.76,25.75,25.72,25.74,25.72,25.71,25.71,25.69,25.71,25.69,25.69,25.67,25.67,25.67,25.66,25.66,25.66,25.65,25.67,25.65,25.66,25.66,25.66,25.65,25.65,25.65,25.64,25.65,25.63,25.64,25.61,25.6,25.62,25.6,25.57,25.58,25.57,25.59,25.55,25.56,25.56,25.57,25.57,25.56,25.56,25.55,25.55,25.54,25.53,25.55,25.53,25.51,25.52,25.5,25.51,25.52,25.5,25.5,25.52,25.48,25.5,25.49,25.49,25.5,25.47,25.49,25.46,25.46,25.45,25.44,25.47,25.45,25.45,25.44,25.44,25.45,25.45,25.43,25.43,25.43,25.41,25.4,25.4,25.41,25.41,25.4,25.38,25.37,25.37,25.39,25.36,25.35,25.37,25.36,25.33,25.34,25.33,25.34,25.34,25.34,25.32,25.34,25.34,25.33,25.33,25.32,25.32,25.31,25.27,25.31,25.3,25.27,25.24,25.22,25.26,25.23,25.21,25.23,25.22,25.21,25.21,25.2,25.21,25.19,25.19,25.18,25.18,25.18,25.16,25.14,25.17,25.15,25.13,25.09,25.13,25.12,25.12,25.11,25.12,25.11,25.12,25.11,25.09,25.09,25.1,25.1,25.09,25.12,25.11,25.1,25.08,25.09,25.07,25.05,25.06,25.06,25.04,25.07,25.06,25.04,25.04,25.05,25.04,25.05,25.03,25.03,25.04,25.02,25.0,25.01,25.02,25.0,25.01,25.0,25.01,25.02,25.01,25.0,25.03,25.02,25.01,25.01,25.0,25.02,25.03,25.04,25.02,25.03,25.03,25.05,25.06,25.05,25.06,25.04,25.08,25.08,25.08,25.06,25.07,25.1,25.1,25.1,25.1,25.12,25.14,25.15,25.16,25.15,25.18,25.2,25.21,25.2,25.22,25.24,25.25,25.24,25.27,25.28,25.3,25.28,25.3,25.28,25.33,25.33,25.34,25.35,25.36,25.37,25.36,25.41,25.42,25.41,25.42,25.42,25.45,25.46,25.49,25.49,25.51,25.53,25.55,25.58,25.59,25.61,25.61,25.63,25.64,25.68,25.71,25.72,25.73,25.76,25.79,25.82,25.85,25.88,25.91,25.95,25.96,25.99,26.0,26.06,26.08,26.15,26.18,26.23,26.25,26.29,26.33,26.36,26.39,26.43,26.47,26.53,26.58,26.59,26.67,26.67,26.69,26.76,26.75,26.79,26.85,26.9,26.93,26.94,26.99,27.04,27.08,27.12,27.17,27.22,27.25,27.29,27.29,27.36,27.4,27.42,27.5,27.52,27.54,27.6,27.65,27.68,27.71,27.76,27.79,27.83,27.88,27.94,27.98,28.03,28.04,28.09,28.1,28.12,28.17,28.25,28.26,28.33,28.37,28.4,28.44,28.51,28.59,28.61,28.66,28.68,28.72,28.79,28.94,28.95,29.01,29.04,29.08,29.12,29.21,29.28,29.3,29.41,29.44,29.47,29.51,29.55,29.58,29.6,29.71,29.73,29.82,29.88,29.87,29.91,29.99,29.97,29.98,29.93,29.92,29.9,29.89,29.97,29.92,29.95,30.0,30.03,30.08,30.16,30.19,30.25,30.3,30.28,30.26,30.31,30.35,30.38,30.46,30.54,30.57,30.65,30.67,30.7,30.75,30.81,30.93,30.99,31.04,31.07,31.09,31.15,31.15,31.2,31.24,31.29,31.29,31.35,31.4,31.4,31.45,31.45,31.45,31.53,31.61,31.7,31.65,31.65,31.56,31.52,31.55,31.59,31.56,31.59,31.57,31.63,31.7,31.63,31.65,31.71,31.81,31.88,31.93,32.02,32.12,32.11,32.14,32.22,32.26,32.3,32.2,32.23,32.25,32.15,32.1,32.1,32.1,32.15,32.2,32.23,32.24,32.31,32.32,32.24,32.26,32.21,32.29,32.38,32.47,32.57,32.66,32.74,32.81,32.82,32.87,32.85,32.79,32.82,32.82,32.89,32.84,32.96,32.99,33.05,33.0,32.83,32.91,32.9,32.99,33.1,33.06,33.06,33.05,33.12,33.16,33.18,33.17,33.25,33.35,33.41,33.38,33.46,33.48,33.58,33.58,33.58,33.59,33.59,33.46,33.43,33.23,33.22,33.2,33.18,33.18,33.14,33.08,33.12,33.13,33.06,33.09,33.19,33.31,33.33,33.31,33.34,33.27,33.25,33.25,33.31,33.34,33.23,33.32,33.42,33.57,33.52,33.48,33.46,33.34,33.26,33.22,33.24,33.32,33.38,33.37,33.4,33.4,33.48,33.56,33.61,33.68,33.72,33.76,33.65,33.61,33.62,33.66,33.66,33.74,33.83,33.85,33.78,33.61,33.53,33.55,33.35,33.26,33.24,33.29,33.28,33.21,33.2,33.23,33.06,33.18,33.1,33.17,33.11,33.06,33.09,33.16,33.21,33.17,33.17,33.18,33.21,33.29,33.28,33.35,33.4,33.36,33.41,33.38,33.42,33.49,33.56,33.61,33.61,33.74,33.8,33.79,33.86,33.86,33.91,33.79,33.81,33.86,33.94,33.89,33.79,33.72,33.75,33.81,33.8,33.84,33.77,33.69,33.72,33.74,33.76,33.81,33.77,33.82,33.76,33.5,33.43,33.44,33.36,33.41,33.5,33.55,33.51,33.55,33.65,33.68,33.78,33.87,33.93,33.98,33.84,33.9,33.72,33.5,33.51,33.53,33.46,33.33,33.27,33.26,33.35,33.44,33.42,33.46,33.52,33.55,33.55,33.51,33.56,33.64,33.63,33.52,33.47,33.33,33.33,33.31,33.39,33.29,33.31,33.31,33.25,33.22,33.29,33.26,33.3,33.33,33.35,33.25,33.2,33.29,33.34,33.33,33.27,33.19,33.19,33.25,33.16,33.1,33.06,33.18,33.19,33.31,33.2,33.17,33.18,33.1,33.04,32.87,32.65,32.43,32.31,32.23,32.16,32.24,32.17,32.23,32.32,32.32,32.26,32.24,32.14,31.99,31.78,31.73,31.61,31.55,31.49,31.38,31.41,31.35,31.31,31.35,31.32,31.41,31.46,31.46,31.44,31.35,31.39,31.22,31.22,31.15,30.88,30.8,30.77,30.68,30.68,30.62,30.57,30.47,30.43,30.39,30.38,30.44,30.46,30.5,30.47,30.55,30.55,30.58,30.63,30.68,30.7,30.76,30.82,30.88,30.88,30.89,30.9,30.97,30.98,31.05,31.12,31.06,31.1,31.16,31.21,31.2,31.09,30.94,30.94,30.88,30.83,30.82,30.82,30.8,30.82,30.79,30.73,30.71,30.74,30.74,30.75,30.75,30.66,30.66,30.54,30.54,30.51,30.45,30.4,30.31,30.27,30.24,30.18,30.15,30.11,30.1,30.09,30.11,30.13,30.1,30.1,30.08,30.1,30.08,30.12,30.13,30.08,30.08,30.07,29.95,29.91,29.92,29.93,29.89,29.92,29.92,29.92,29.86,29.83,29.77,29.69,29.67,29.66,29.67,29.66,29.67,29.67,29.63,29.6,29.56,29.55,29.53,29.53,29.5,29.41,29.34,29.36,29.4,29.4,29.41,29.42,29.4,29.41,29.38,29.42,29.41,29.35,29.38,29.39,29.33,29.3,29.25,29.23,29.19,29.21,29.2,29.2,29.17,29.17,29.17,29.18,29.15,29.13,29.11,29.13,29.11,29.04,28.98,28.93,28.87,28.85,28.82,28.81,28.77,28.77,28.75,28.74,28.73,28.75,28.74,28.73,28.7,28.7,28.67,28.66,28.7,28.67,28.66,28.62,28.63,28.63,28.62,28.65,28.65,28.59,28.58,28.59,28.59,28.58,28.59,28.56,28.56,28.55,28.57,28.56,28.53,28.5,28.52,28.53,28.51,28.54,28.53,28.53,28.51,28.54,28.5,28.5,28.49,28.47,28.45,28.43,28.42,28.42,28.42,28.39,28.42,28.41,28.38,28.39,28.43,28.41,28.34,28.36,28.32,28.28,28.31,28.3,28.29,28.27,28.28,28.29,28.23,28.23,28.23,28.24,28.24,28.25,28.24,28.22],\"y\":[84.78,84.74,84.82,84.83,84.85,84.94,84.85,84.85,84.8,84.86,85.16,85.06,85.1,85.26,85.1,85.14,85.24,85.33,85.35,85.34,85.1,85.06,85.07,85.27,85.18,85.05,84.76,84.74,84.66,83.9,84.12,84.29,84.25,84.14,84.27,84.3,84.45,84.53,84.37,84.46,84.45,84.39,84.46,84.45,84.52,84.58,84.4,84.28,84.1,84.09,84.2,83.53,83.48,83.41,83.5,84.47,84.62,84.4,84.39,84.39,84.42,84.49,84.39,84.24,84.33,84.22,84.32,84.37,84.2,84.28,84.34,84.31,84.29,84.23,84.27,84.53,84.61,84.71,84.7,84.75,84.69,84.73,84.79,85.02,84.98,85.07,85.19,85.28,84.92,85.14,85.18,85.3,85.47,85.56,85.76,85.72,85.8,85.88,85.76,85.85,85.94,86.03,86.07,85.96,86.11,86.22,86.31,86.2,86.33,86.37,86.47,86.55,86.56,86.69,86.64,86.67,86.6,86.71,86.79,86.9,86.87,86.76,86.9,86.99,86.98,86.98,87.05,87.09,87.22,87.13,87.15,87.04,87.31,87.24,87.25,87.19,87.26,87.29,87.22,87.25,87.23,87.38,87.53,87.58,87.58,87.58,87.65,87.7,87.73,87.76,87.75,87.92,87.81,87.73,87.79,87.9,87.97,87.97,88.02,88.06,88.16,88.22,88.29,88.34,88.48,88.43,88.39,88.52,88.64,88.59,88.56,88.73,88.71,88.69,88.72,88.79,88.85,88.89,88.88,88.95,89.04,89.05,89.05,89.08,89.18,89.21,89.2,89.21,89.22,89.31,89.33,89.35,89.38,89.44,89.46,89.33,89.36,89.39,89.49,89.51,89.5,89.53,89.56,89.5,89.55,89.58,89.5,89.44,89.46,89.54,89.53,89.5,89.56,89.6,89.6,89.66,89.58,89.62,89.62,89.63,89.66,89.54,89.48,89.52,89.55,89.5,89.56,89.52,89.54,89.54,89.42,89.39,89.42,89.37,89.29,89.26,89.33,89.32,89.34,89.38,89.46,89.49,89.41,89.36,89.27,89.27,89.28,89.27,89.31,89.25,89.23,89.31,89.32,89.26,89.26,89.29,89.29,89.29,89.24,89.25,89.24,89.24,89.31,89.32,89.27,89.32,89.31,89.41,89.34,89.34,89.37,89.37,89.38,89.38,89.45,89.42,89.45,89.46,89.5,89.56,89.54,89.62,89.67,89.63,89.63,89.76,89.79,89.75,89.74,89.68,89.75,89.71,89.73,89.68,89.71,89.84,89.79,89.89,89.88,89.96,89.95,89.94,89.96,89.99,89.92,89.93,89.99,89.94,90.04,90.04,90.05,90.03,90.03,90.02,90.14,90.15,90.2,90.22,90.2,90.28,90.33,90.26,90.36,90.45,90.48,90.55,90.6,90.71,90.71,90.74,90.83,90.84,90.8,90.86,90.82,90.78,90.94,90.88,90.9,90.92,90.93,90.88,90.83,90.88,90.88,90.9,90.93,91.05,91.12,91.18,91.13,91.14,91.15,91.12,91.07,91.07,91.12,91.16,91.23,91.19,91.17,91.18,91.27,91.28,91.24,91.18,91.29,91.36,91.44,91.41,91.32,91.36,91.35,91.41,91.4,91.38,91.34,91.39,91.35,91.38,91.39,91.38,91.45,91.64,91.57,91.56,91.57,91.57,91.52,91.54,91.52,91.55,91.53,91.64,91.65,91.71,91.77,91.74,91.73,91.68,91.66,91.73,91.73,91.77,91.81,92.04,92.05,92.0,92.06,92.14,92.28,92.33,92.41,92.39,92.52,92.38,92.36,92.27,92.22,92.27,92.38,92.39,92.42,92.47,92.48,92.42,92.4,92.41,92.46,92.45,92.44,92.45,92.43,92.45,92.55,92.56,92.52,92.49,92.53,92.51,92.5,92.55,92.57,92.56,92.59,92.59,92.57,92.61,92.58,92.57,92.55,92.51,92.57,92.56,92.54,92.53,92.59,92.56,92.57,92.59,92.54,92.55,92.58,92.65,92.61,92.6,92.63,92.62,92.59,92.57,92.57,92.56,92.54,92.57,92.58,92.55,92.56,92.55,92.56,92.64,92.63,92.66,92.72,92.75,92.73,92.7,92.73,92.74,92.75,92.85,92.81,92.94,92.94,92.99,92.97,92.96,92.98,93.08,93.23,93.2,93.17,93.16,93.16,93.13,93.23,93.26,93.32,93.29,93.24,93.28,93.27,93.29,93.29,93.28,93.27,93.27,93.29,93.32,93.33,93.3,93.28,93.29,93.27,93.3,93.32,93.34,93.31,93.32,93.31,93.42,93.42,93.42,93.41,93.41,93.4,93.4,93.41,93.39,93.38,93.4,93.45,93.51,93.51,93.49,93.51,93.56,93.57,93.56,93.51,93.5,93.52,93.59,93.61,93.57,93.59,93.59,93.62,93.62,93.62,93.6,93.62,93.61,93.6,93.61,93.6,93.56,93.57,93.58,93.63,93.67,93.66,93.64,93.64,93.65,93.64,93.64,93.65,93.65,93.66,93.71,93.71,93.67,93.71,93.69,93.64,93.66,93.67,93.66,93.64,93.65,93.65,93.63,93.58,93.58,93.61,93.63,93.62,93.6,93.61,93.57,93.56,93.61,93.63,93.67,93.65,93.64,93.64,93.64,93.65,93.66,93.66,93.63,93.68,93.72,93.75,93.75,93.74,93.74,93.72,93.82,93.95,93.94,93.95,94.02,94.01,93.96,94.02,93.97,93.98,94.0,93.97,93.97,93.98,93.99,93.96,94.0,94.02,94.0,94.01,94.04,94.02,94.03,94.01,94.11,94.19,94.17,94.14,94.18,94.16,94.16,94.15,94.18,94.17,94.2,94.2,94.21,94.22,94.23,94.22,94.22,94.28,94.27,94.31,94.29,94.28,94.34,94.32,94.33,94.33,94.34,94.33,94.39,94.37,94.39,94.41,94.41,94.39,94.39,94.38,94.36,94.38,94.39,94.39,94.42,94.41,94.4,94.42,94.44,94.46,94.45,94.48,94.45,94.5,94.49,94.48,94.49,94.52,94.55,94.57,94.56,94.6,94.57,94.59,94.66,94.72,94.73,94.78,94.74,94.72,94.72,94.71,94.75,94.79,94.84,94.81,94.8,94.8,94.81,94.8,94.83,94.91,94.87,94.89,94.89,94.9,94.93,94.9,94.88,94.88,94.87,94.91,94.92,94.95,94.98,95.01,95.01,94.98,94.97,94.98,94.94,94.89,94.9,94.86,94.85,94.85,94.79,94.77,94.68,94.65,94.65,94.63,94.61,94.6,94.59,94.57,94.57,94.53,94.37,94.26,94.08,94.07,94.17,94.09,93.99,93.83,93.77,93.79,93.8,93.82,93.77,93.75,93.69,93.43,93.06,92.9,92.97,92.87,92.89,92.9,92.84,92.51,91.84,91.58,91.06,91.06,91.12,90.96,91.05,91.18,90.99,90.84,90.33,89.87,89.89,88.26,87.97,88.4,88.52,88.06,88.3,88.14,88.27,88.42,88.38,88.36,88.05,87.89,88.04,86.47,86.5,86.76,87.04,87.3,86.25,86.54,86.19,86.13,85.75,86.04,85.93,85.59,85.36,85.54,85.05,84.66,84.89,84.33,84.33,84.21,84.01,83.87,83.98,83.43,83.4,83.24,83.22,83.43,83.36,82.75,82.68,82.58,82.59,82.97,83.19,82.69,81.24,81.04,81.14,80.39,81.11,80.99,80.63,79.5,79.6,79.07,78.96,79.04,78.78,78.81,78.96,79.26,79.17,79.01,79.27,79.16,79.23,78.94,78.23,77.9,77.17,77.29,76.97,77.31,77.71,77.18,77.43,77.48,77.38,77.02,76.78,76.46,76.64,75.91,75.4,75.85,75.64,75.47,75.61,76.08,75.99,75.2,74.8,74.35,74.44,74.47,74.95,74.3,73.4,72.82,72.5,72.76,73.01,72.4,72.65,72.61,72.86,72.41,72.39,72.62,71.88,72.35,71.85,71.44,71.53,72.08,72.45,71.05,71.55,70.92,71.51,72.45,72.14,71.49,72.01,71.96,70.64,70.69,70.39,70.9,71.7,71.2,71.97,70.41,70.57,70.31,69.56,70.29,70.72,69.37,69.13,68.35,69.1,69.4,68.51,68.76,69.11,69.44,69.6,69.81,69.47,69.53,69.9,69.53,69.55,70.0,69.58,70.38,69.84,70.0,69.73,69.75,69.17,68.54,68.33,68.45,67.85,67.69,68.43,67.8,67.91,67.8,68.25,67.85,67.91,67.72,67.3,67.97,68.27,68.76,67.99,67.28,67.27,67.73,67.67,68.12,67.84,68.01,68.21,68.24,67.57,66.83,67.37,67.48,67.89,67.12,67.29,67.62,66.82,66.75,66.96,67.12,68.21,68.43,67.73,67.67,67.99,68.6,68.59,68.3,68.67,68.79,68.56,68.49,67.81,67.57,68.02,67.74,67.68,67.8,68.33,67.91,67.75,68.42,68.41,67.82,68.18,67.76,67.03,67.74,68.4,67.53,68.04,68.2,68.86,68.15,67.97,68.03,68.22,68.42,68.12,67.65,67.95,66.88,66.94,67.36,67.32,67.76,67.73,67.6,67.46,67.28,66.95,66.95,67.36,67.81,67.39,68.2,68.93,68.86,69.05,68.55,68.56,69.02,69.15,69.88,69.58,69.94,69.34,69.17,69.32,69.34,69.87,69.37,69.52,69.31,69.14,68.77,68.87,68.01,68.69,68.57,69.53,69.34,69.84,69.16,69.69,69.27,69.48,69.64,69.54,69.12,68.81,68.57,68.58,68.37,68.61,68.78,68.78,68.8,68.7,68.69,69.64,68.94,68.9,69.36,69.26,69.44,69.3,69.09,69.37,69.56,69.09,69.12,68.67,68.11,69.0,69.43,70.12,71.06,70.29,70.01,69.63,69.66,69.91,68.87,68.51,68.92,69.17,68.51,69.12,68.93,68.38,69.3,69.71,69.96,70.0,70.21,70.88,70.66,71.42,70.62,69.7,69.57,70.62,70.63,70.38,70.75,70.45,70.58,69.84,70.19,70.19,70.1,70.23,70.01,70.17,70.31,70.69,70.47,71.01,71.52,71.15,70.16,70.47,71.08,70.38,70.4,71.03,70.98,71.03,70.34,70.41,69.82,70.76,70.38,70.19,70.52,70.71,71.02,71.26,70.69,71.12,71.18,70.82,70.65,71.3,71.94,72.2,72.29,73.19,73.67,74.07,74.3,73.93,73.89,73.95,73.81,74.08,74.1,74.28,74.79,74.83,75.3,75.17,75.82,75.75,76.37,76.54,76.41,76.6,76.78,77.03,76.85,76.73,76.62,76.95,77.05,76.63,76.35,76.67,77.13,77.27,77.99,78.41,78.57,78.94,78.85,78.98,79.33,79.24,79.54,79.34,79.61,79.07,79.19,79.18,79.45,78.89,79.03,78.84,78.77,78.97,78.65,78.74,78.86,77.81,78.41,78.28,78.21,77.83,77.81,77.58,77.46,77.79,77.54,77.72,77.65,77.35,77.6,77.93,78.23,78.32,78.32,78.36,78.43,78.56,78.58,78.85,79.0,79.19,79.06,78.62,78.61,78.81,78.97,78.97,79.09,79.18,79.62,79.78,79.93,80.2,80.32,80.23,80.37,80.67,80.72,80.94,80.74,80.86,80.73,80.86,80.92,81.37,80.94,80.96,81.03,80.96,80.94,81.0,81.4,81.54,81.62,81.81,81.57,81.55,81.71,81.72,81.3,81.16,81.44,81.92,82.03,82.19,82.39,82.56,82.37,82.19,81.73,81.5,81.61,81.61,81.6,81.6,81.32,81.62,81.73,82.2,81.62,81.66,81.67,81.26,80.94,81.31,81.25,81.24,81.14,80.81,81.1,81.03,80.91,80.96,81.22,81.09,81.02,81.11,81.19,81.41,81.31,81.53,81.64,81.66,81.74,81.9,81.82,81.82,81.89,81.96,82.05,82.38,82.59,82.85,82.8,82.88,82.92,83.13,83.21,83.18,83.26,83.24,83.26,83.33,83.4,83.49,83.57,83.71,83.62,83.66,83.84,83.85,83.84,83.88,83.9,83.9,84.04,84.2,84.11,84.18,84.11,84.32,84.3,84.41,84.5,84.5,84.6,84.67,84.75,84.78,84.83,84.94,84.91,85.07,85.03,85.15,85.17,85.26,85.21,85.21,85.39,85.68,85.69,85.83,85.85,85.93,85.89,85.96,86.02,86.01,86.02,86.05,86.18,86.19,86.28,86.36,86.51,86.54,86.71,86.73,86.65,86.64,86.69,86.68,86.78,86.75,86.79,86.8,86.9,86.88,86.95,86.98],\"z\":[1011.55,1011.56,1011.62,1011.65,1011.64,1011.67,1011.66,1011.66,1011.7,1011.7,1011.75,1011.82,1011.83,1011.79,1011.84,1011.79,1011.82,1011.77,1011.83,1011.85,1011.89,1011.89,1011.94,1011.92,1011.98,1012.05,1012.11,1012.05,1012.07,1012.09,1012.08,1012.05,1012.12,1012.15,1012.14,1012.14,1012.23,1012.19,1012.25,1012.34,1012.36,1012.41,1012.42,1012.48,1012.45,1012.46,1012.52,1012.5,1012.52,1012.52,1012.56,1012.51,1012.52,1012.54,1012.55,1012.58,1012.56,1012.53,1012.53,1012.54,1012.58,1012.55,1012.54,1012.64,1012.68,1012.72,1012.69,1012.74,1012.7,1012.73,1012.82,1012.74,1012.79,1012.75,1012.73,1012.8,1012.8,1012.71,1012.77,1012.8,1012.8,1012.82,1012.88,1012.79,1012.86,1012.74,1012.83,1012.85,1012.8,1012.83,1012.84,1012.81,1012.82,1012.76,1012.72,1012.77,1012.71,1012.73,1012.72,1012.81,1012.8,1012.82,1012.79,1012.79,1012.75,1012.79,1012.77,1012.8,1012.82,1012.83,1012.8,1012.82,1012.82,1012.86,1012.88,1012.86,1012.86,1012.92,1012.91,1012.9,1012.95,1012.98,1013.01,1013.02,1013.02,1013.03,1013.04,1013.08,1013.05,1013.07,1013.04,1013.06,1013.05,1013.03,1013.03,1013.07,1013.09,1012.98,1013.01,1013.02,1012.98,1013.07,1013.03,1013.0,1013.01,1013.01,1013.06,1013.07,1013.06,1013.07,1013.06,1013.06,1013.05,1013.09,1013.05,1013.06,1013.08,1013.08,1013.11,1013.16,1013.17,1013.18,1013.18,1013.2,1013.17,1013.23,1013.25,1013.23,1013.31,1013.3,1013.33,1013.35,1013.34,1013.33,1013.35,1013.34,1013.36,1013.35,1013.34,1013.39,1013.45,1013.39,1013.41,1013.41,1013.39,1013.37,1013.4,1013.43,1013.39,1013.38,1013.48,1013.46,1013.42,1013.46,1013.43,1013.5,1013.44,1013.48,1013.53,1013.5,1013.53,1013.51,1013.51,1013.52,1013.52,1013.48,1013.5,1013.49,1013.46,1013.5,1013.45,1013.47,1013.42,1013.44,1013.49,1013.5,1013.44,1013.48,1013.52,1013.51,1013.54,1013.46,1013.51,1013.53,1013.5,1013.51,1013.5,1013.51,1013.52,1013.44,1013.4,1013.4,1013.41,1013.39,1013.36,1013.33,1013.31,1013.31,1013.3,1013.33,1013.33,1013.31,1013.33,1013.33,1013.32,1013.32,1013.28,1013.26,1013.25,1013.2,1013.2,1013.18,1013.18,1013.14,1013.13,1013.16,1013.16,1013.14,1013.1,1013.13,1013.12,1013.17,1013.12,1013.13,1013.13,1013.09,1013.09,1013.07,1013.1,1013.09,1013.08,1013.12,1013.11,1013.1,1013.08,1013.1,1013.08,1013.03,1013.04,1013.01,1013.02,1013.01,1013.0,1013.03,1012.99,1012.94,1012.94,1012.92,1012.84,1012.88,1012.88,1012.88,1012.92,1012.87,1012.82,1012.78,1012.78,1012.74,1012.72,1012.7,1012.69,1012.68,1012.65,1012.63,1012.6,1012.58,1012.55,1012.53,1012.47,1012.47,1012.45,1012.47,1012.51,1012.47,1012.44,1012.47,1012.46,1012.45,1012.43,1012.49,1012.45,1012.44,1012.4,1012.42,1012.35,1012.36,1012.32,1012.36,1012.33,1012.4,1012.33,1012.33,1012.31,1012.29,1012.3,1012.28,1012.3,1012.29,1012.31,1012.26,1012.29,1012.23,1012.27,1012.23,1012.25,1012.29,1012.27,1012.25,1012.26,1012.23,1012.19,1012.18,1012.19,1012.12,1012.11,1012.15,1012.11,1012.09,1012.05,1012.05,1012.05,1012.06,1012.05,1011.98,1012.03,1012.05,1012.03,1012.02,1012.06,1012.01,1012.02,1012.01,1011.99,1011.98,1011.95,1011.92,1011.88,1011.87,1011.86,1011.84,1011.84,1011.81,1011.77,1011.79,1011.75,1011.76,1011.73,1011.71,1011.71,1011.67,1011.62,1011.62,1011.64,1011.64,1011.61,1011.58,1011.57,1011.57,1011.53,1011.55,1011.53,1011.56,1011.57,1011.51,1011.54,1011.52,1011.49,1011.46,1011.43,1011.41,1011.37,1011.41,1011.39,1011.36,1011.39,1011.38,1011.44,1011.44,1011.45,1011.39,1011.45,1011.46,1011.45,1011.45,1011.45,1011.46,1011.43,1011.45,1011.45,1011.41,1011.41,1011.39,1011.4,1011.35,1011.37,1011.38,1011.32,1011.3,1011.29,1011.3,1011.23,1011.24,1011.24,1011.2,1011.2,1011.18,1011.12,1011.15,1011.1,1011.1,1011.06,1011.05,1011.03,1011.01,1010.98,1011.01,1011.05,1011.02,1011.04,1010.99,1010.97,1010.98,1010.97,1010.93,1010.92,1010.89,1010.91,1010.86,1010.82,1010.81,1010.81,1010.82,1010.83,1010.81,1010.83,1010.85,1010.82,1010.85,1010.86,1010.86,1010.83,1010.8,1010.85,1010.82,1010.84,1010.85,1010.81,1010.82,1010.84,1010.85,1010.81,1010.81,1010.81,1010.8,1010.79,1010.79,1010.78,1010.77,1010.76,1010.8,1010.78,1010.83,1010.77,1010.79,1010.77,1010.81,1010.82,1010.82,1010.78,1010.82,1010.78,1010.8,1010.79,1010.79,1010.76,1010.75,1010.73,1010.69,1010.72,1010.69,1010.71,1010.71,1010.68,1010.69,1010.69,1010.73,1010.67,1010.72,1010.73,1010.77,1010.79,1010.81,1010.83,1010.82,1010.84,1010.9,1010.87,1010.9,1010.91,1010.95,1010.97,1010.95,1010.97,1010.95,1010.94,1010.95,1010.92,1010.92,1010.97,1010.96,1010.95,1010.96,1010.94,1010.92,1010.9,1010.89,1010.88,1010.88,1010.89,1010.95,1010.87,1010.92,1010.91,1010.87,1010.86,1010.82,1010.81,1010.79,1010.8,1010.8,1010.8,1010.81,1010.84,1010.81,1010.82,1010.81,1010.81,1010.81,1010.81,1010.82,1010.83,1010.87,1010.86,1010.86,1010.88,1010.87,1010.89,1010.88,1010.89,1010.86,1010.84,1010.84,1010.81,1010.8,1010.84,1010.82,1010.78,1010.79,1010.8,1010.86,1010.87,1010.84,1010.91,1010.94,1010.97,1010.99,1010.99,1011.02,1011.02,1011.01,1011.05,1011.03,1011.03,1011.07,1011.08,1011.11,1011.09,1011.15,1011.11,1011.13,1011.15,1011.13,1011.16,1011.15,1011.19,1011.25,1011.25,1011.24,1011.21,1011.2,1011.21,1011.24,1011.21,1011.28,1011.27,1011.27,1011.3,1011.26,1011.28,1011.29,1011.35,1011.38,1011.41,1011.4,1011.43,1011.41,1011.42,1011.45,1011.42,1011.48,1011.51,1011.49,1011.5,1011.52,1011.52,1011.53,1011.48,1011.46,1011.51,1011.51,1011.49,1011.52,1011.56,1011.55,1011.54,1011.59,1011.58,1011.58,1011.58,1011.59,1011.57,1011.6,1011.57,1011.59,1011.66,1011.65,1011.64,1011.61,1011.68,1011.67,1011.71,1011.67,1011.71,1011.69,1011.69,1011.72,1011.73,1011.72,1011.71,1011.75,1011.75,1011.7,1011.72,1011.76,1011.75,1011.78,1011.8,1011.81,1011.82,1011.83,1011.79,1011.88,1011.89,1011.91,1011.9,1011.97,1012.0,1011.98,1012.09,1012.07,1012.08,1012.13,1012.15,1012.14,1012.12,1012.12,1012.13,1012.17,1012.16,1012.15,1012.21,1012.21,1012.22,1012.25,1012.24,1012.29,1012.27,1012.32,1012.37,1012.37,1012.4,1012.4,1012.42,1012.43,1012.42,1012.41,1012.44,1012.48,1012.45,1012.44,1012.48,1012.44,1012.46,1012.45,1012.42,1012.42,1012.41,1012.45,1012.41,1012.46,1012.49,1012.48,1012.48,1012.51,1012.55,1012.53,1012.53,1012.52,1012.54,1012.51,1012.54,1012.53,1012.56,1012.54,1012.58,1012.59,1012.64,1012.62,1012.65,1012.62,1012.66,1012.67,1012.68,1012.68,1012.7,1012.71,1012.7,1012.73,1012.72,1012.71,1012.67,1012.68,1012.72,1012.76,1012.75,1012.77,1012.78,1012.81,1012.78,1012.78,1012.77,1012.76,1012.79,1012.81,1012.83,1012.81,1012.84,1012.9,1012.9,1012.91,1012.85,1012.87,1012.85,1012.87,1012.9,1012.91,1012.92,1012.96,1012.93,1012.94,1012.93,1012.98,1012.99,1013.01,1013.06,1013.07,1013.05,1013.05,1013.07,1013.05,1013.05,1013.06,1013.06,1013.04,1013.02,1012.99,1013.01,1013.02,1013.04,1013.04,1013.05,1013.07,1013.04,1013.0,1012.96,1013.01,1012.98,1012.99,1012.97,1012.99,1012.99,1012.99,1013.03,1013.02,1013.07,1013.05,1013.08,1013.09,1013.03,1013.06,1013.04,1013.03,1013.02,1013.1,1013.06,1013.04,1013.04,1013.04,1013.05,1013.01,1012.95,1012.99,1012.98,1012.94,1012.92,1012.94,1012.98,1013.04,1013.02,1013.01,1013.0,1012.96,1012.98,1012.99,1012.96,1012.96,1012.94,1012.97,1012.99,1013.02,1012.98,1013.0,1012.96,1012.91,1012.9,1012.88,1012.9,1012.83,1012.8,1012.8,1012.79,1012.79,1012.76,1012.71,1012.7,1012.77,1012.77,1012.75,1012.78,1012.72,1012.71,1012.7,1012.7,1012.71,1012.67,1012.67,1012.68,1012.66,1012.73,1012.68,1012.68,1012.67,1012.7,1012.72,1012.71,1012.75,1012.7,1012.71,1012.67,1012.59,1012.64,1012.65,1012.55,1012.64,1012.64,1012.56,1012.59,1012.51,1012.48,1012.5,1012.51,1012.53,1012.54,1012.49,1012.54,1012.58,1012.48,1012.53,1012.47,1012.54,1012.42,1012.47,1012.53,1012.43,1012.4,1012.43,1012.41,1012.51,1012.48,1012.46,1012.46,1012.47,1012.43,1012.39,1012.35,1012.35,1012.38,1012.32,1012.36,1012.33,1012.31,1012.31,1012.34,1012.34,1012.3,1012.41,1012.37,1012.39,1012.37,1012.38,1012.3,1012.35,1012.4,1012.42,1012.33,1012.33,1012.24,1012.25,1012.24,1012.25,1012.16,1012.16,1012.16,1012.11,1012.23,1012.11,1012.12,1012.15,1012.14,1012.1,1012.05,1012.05,1012.0,1011.96,1012.02,1011.91,1011.96,1011.85,1011.72,1011.81,1011.82,1011.72,1011.67,1011.67,1011.6,1011.6,1011.62,1011.6,1011.59,1011.53,1011.58,1011.54,1011.56,1011.41,1011.52,1011.55,1011.51,1011.4,1011.39,1011.44,1011.34,1011.36,1011.36,1011.36,1011.43,1011.3,1011.37,1011.25,1011.22,1011.21,1011.25,1011.2,1011.23,1011.22,1011.19,1011.14,1011.19,1011.16,1011.18,1011.14,1011.17,1011.14,1011.09,1011.1,1011.11,1011.12,1010.99,1011.07,1011.08,1011.02,1010.95,1011.09,1011.01,1010.99,1011.07,1010.95,1010.94,1010.97,1010.97,1010.89,1010.9,1010.88,1010.87,1010.77,1010.84,1010.8,1010.83,1010.76,1010.77,1010.78,1010.74,1010.69,1010.68,1010.65,1010.63,1010.62,1010.65,1010.64,1010.61,1010.6,1010.56,1010.6,1010.53,1010.53,1010.53,1010.56,1010.48,1010.49,1010.47,1010.44,1010.43,1010.4,1010.4,1010.34,1010.32,1010.33,1010.29,1010.33,1010.36,1010.27,1010.31,1010.32,1010.32,1010.34,1010.24,1010.21,1010.25,1010.21,1010.15,1010.15,1010.16,1010.16,1010.16,1010.08,1010.16,1010.06,1010.03,1010.05,1010.1,1010.03,1009.97,1009.95,1009.97,1010.01,1009.9,1009.83,1009.87,1009.85,1009.81,1009.76,1009.81,1009.76,1009.76,1009.73,1009.74,1009.72,1009.69,1009.63,1009.66,1009.73,1009.68,1009.61,1009.64,1009.64,1009.65,1009.64,1009.62,1009.61,1009.62,1009.63,1009.61,1009.66,1009.55,1009.57,1009.48,1009.48,1009.47,1009.42,1009.47,1009.37,1009.3,1009.45,1009.35,1009.36,1009.4,1009.36,1009.33,1009.34,1009.34,1009.32,1009.32,1009.29,1009.27,1009.26,1009.37,1009.24,1009.18,1009.19,1009.16,1009.16,1009.12,1009.15,1009.2,1009.21,1009.13,1009.16,1009.27,1009.19,1009.2,1009.17,1009.16,1009.3,1009.19,1009.18,1009.17,1009.23,1009.18,1009.15,1009.19,1009.25,1009.24,1009.26,1009.33,1009.34,1009.33,1009.31,1009.3,1009.28,1009.32,1009.29,1009.28,1009.29,1009.26,1009.28,1009.28,1009.32,1009.39,1009.33,1009.35,1009.39,1009.33,1009.33,1009.27,1009.22,1009.16,1009.25,1009.18,1009.15,1009.12,1009.15,1009.06,1009.08,1009.09,1009.01,1009.0,1008.91,1008.93,1008.91,1008.89,1008.83,1008.86,1008.89,1008.91,1008.85,1008.9,1008.84,1008.87,1008.87,1008.88,1008.77,1008.85,1008.83,1008.73,1008.76,1008.69,1008.72,1008.69,1008.71,1008.64,1008.66,1008.72,1008.77,1008.75,1008.73,1008.7,1008.74,1008.73,1008.66,1008.68,1008.64,1008.61,1008.65,1008.65,1008.63,1008.64,1008.65,1008.66,1008.64,1008.7,1008.76,1008.68,1008.78,1008.82,1008.84,1008.83,1008.84,1008.86,1008.86,1008.88,1008.93,1008.89,1008.9,1008.97,1008.97,1009.0,1008.98,1008.99,1008.99,1009.04,1009.06,1009.08,1009.09,1009.09,1009.09,1009.08,1009.06,1009.13,1009.11,1009.15,1009.12,1009.12,1009.09,1009.12,1009.11,1009.13,1009.06,1009.1,1009.13,1009.1,1009.03,1009.09,1009.09,1009.09,1009.12,1009.15,1009.11,1009.12,1009.13,1009.1,1009.09,1009.12,1009.15,1009.17,1009.25,1009.25,1009.28,1009.36,1009.3,1009.34,1009.29,1009.24,1009.27,1009.33,1009.3,1009.31,1009.32,1009.36,1009.36,1009.34,1009.36,1009.33,1009.33,1009.38,1009.42,1009.45,1009.48,1009.49,1009.56,1009.57,1009.55,1009.57,1009.57,1009.57,1009.62,1009.64,1009.66,1009.67,1009.66,1009.65,1009.69,1009.74,1009.79,1009.8,1009.76,1009.76,1009.77,1009.78,1009.8,1009.85,1009.85,1009.81,1009.78,1009.75,1009.74,1009.73,1009.76,1009.79,1009.82,1009.87,1009.99,1010.05,1010.03,1010.09,1010.09,1010.1,1010.05,1010.07,1010.11,1010.11,1010.16,1010.15,1010.17,1010.18,1010.16,1010.2,1010.25,1010.23,1010.26,1010.29,1010.32,1010.34,1010.37,1010.35,1010.36,1010.37,1010.44,1010.45,1010.48,1010.5,1010.54,1010.57,1010.58,1010.62,1010.62,1010.61,1010.67,1010.68,1010.64,1010.74,1010.77,1010.82,1010.9,1010.9,1010.89,1011.0,1011.01,1011.02,1011.04,1011.05,1011.03],\"type\":\"scatter3d\"}],                        {\"template\":{\"data\":{\"histogram2dcontour\":[{\"type\":\"histogram2dcontour\",\"colorbar\":{\"outlinewidth\":0,\"ticks\":\"\"},\"colorscale\":[[0.0,\"#0d0887\"],[0.1111111111111111,\"#46039f\"],[0.2222222222222222,\"#7201a8\"],[0.3333333333333333,\"#9c179e\"],[0.4444444444444444,\"#bd3786\"],[0.5555555555555556,\"#d8576b\"],[0.6666666666666666,\"#ed7953\"],[0.7777777777777778,\"#fb9f3a\"],[0.8888888888888888,\"#fdca26\"],[1.0,\"#f0f921\"]]}],\"choropleth\":[{\"type\":\"choropleth\",\"colorbar\":{\"outlinewidth\":0,\"ticks\":\"\"}}],\"histogram2d\":[{\"type\":\"histogram2d\",\"colorbar\":{\"outlinewidth\":0,\"ticks\":\"\"},\"colorscale\":[[0.0,\"#0d0887\"],[0.1111111111111111,\"#46039f\"],[0.2222222222222222,\"#7201a8\"],[0.3333333333333333,\"#9c179e\"],[0.4444444444444444,\"#bd3786\"],[0.5555555555555556,\"#d8576b\"],[0.6666666666666666,\"#ed7953\"],[0.7777777777777778,\"#fb9f3a\"],[0.8888888888888888,\"#fdca26\"],[1.0,\"#f0f921\"]]}],\"heatmap\":[{\"type\":\"heatmap\",\"colorbar\":{\"outlinewidth\":0,\"ticks\":\"\"},\"colorscale\":[[0.0,\"#0d0887\"],[0.1111111111111111,\"#46039f\"],[0.2222222222222222,\"#7201a8\"],[0.3333333333333333,\"#9c179e\"],[0.4444444444444444,\"#bd3786\"],[0.5555555555555556,\"#d8576b\"],[0.6666666666666666,\"#ed7953\"],[0.7777777777777778,\"#fb9f3a\"],[0.8888888888888888,\"#fdca26\"],[1.0,\"#f0f921\"]]}],\"heatmapgl\":[{\"type\":\"heatmapgl\",\"colorbar\":{\"outlinewidth\":0,\"ticks\":\"\"},\"colorscale\":[[0.0,\"#0d0887\"],[0.1111111111111111,\"#46039f\"],[0.2222222222222222,\"#7201a8\"],[0.3333333333333333,\"#9c179e\"],[0.4444444444444444,\"#bd3786\"],[0.5555555555555556,\"#d8576b\"],[0.6666666666666666,\"#ed7953\"],[0.7777777777777778,\"#fb9f3a\"],[0.8888888888888888,\"#fdca26\"],[1.0,\"#f0f921\"]]}],\"contourcarpet\":[{\"type\":\"contourcarpet\",\"colorbar\":{\"outlinewidth\":0,\"ticks\":\"\"}}],\"contour\":[{\"type\":\"contour\",\"colorbar\":{\"outlinewidth\":0,\"ticks\":\"\"},\"colorscale\":[[0.0,\"#0d0887\"],[0.1111111111111111,\"#46039f\"],[0.2222222222222222,\"#7201a8\"],[0.3333333333333333,\"#9c179e\"],[0.4444444444444444,\"#bd3786\"],[0.5555555555555556,\"#d8576b\"],[0.6666666666666666,\"#ed7953\"],[0.7777777777777778,\"#fb9f3a\"],[0.8888888888888888,\"#fdca26\"],[1.0,\"#f0f921\"]]}],\"surface\":[{\"type\":\"surface\",\"colorbar\":{\"outlinewidth\":0,\"ticks\":\"\"},\"colorscale\":[[0.0,\"#0d0887\"],[0.1111111111111111,\"#46039f\"],[0.2222222222222222,\"#7201a8\"],[0.3333333333333333,\"#9c179e\"],[0.4444444444444444,\"#bd3786\"],[0.5555555555555556,\"#d8576b\"],[0.6666666666666666,\"#ed7953\"],[0.7777777777777778,\"#fb9f3a\"],[0.8888888888888888,\"#fdca26\"],[1.0,\"#f0f921\"]]}],\"mesh3d\":[{\"type\":\"mesh3d\",\"colorbar\":{\"outlinewidth\":0,\"ticks\":\"\"}}],\"scatter\":[{\"fillpattern\":{\"fillmode\":\"overlay\",\"size\":10,\"solidity\":0.2},\"type\":\"scatter\"}],\"parcoords\":[{\"type\":\"parcoords\",\"line\":{\"colorbar\":{\"outlinewidth\":0,\"ticks\":\"\"}}}],\"scatterpolargl\":[{\"type\":\"scatterpolargl\",\"marker\":{\"colorbar\":{\"outlinewidth\":0,\"ticks\":\"\"}}}],\"bar\":[{\"error_x\":{\"color\":\"#2a3f5f\"},\"error_y\":{\"color\":\"#2a3f5f\"},\"marker\":{\"line\":{\"color\":\"#E5ECF6\",\"width\":0.5},\"pattern\":{\"fillmode\":\"overlay\",\"size\":10,\"solidity\":0.2}},\"type\":\"bar\"}],\"scattergeo\":[{\"type\":\"scattergeo\",\"marker\":{\"colorbar\":{\"outlinewidth\":0,\"ticks\":\"\"}}}],\"scatterpolar\":[{\"type\":\"scatterpolar\",\"marker\":{\"colorbar\":{\"outlinewidth\":0,\"ticks\":\"\"}}}],\"histogram\":[{\"marker\":{\"pattern\":{\"fillmode\":\"overlay\",\"size\":10,\"solidity\":0.2}},\"type\":\"histogram\"}],\"scattergl\":[{\"type\":\"scattergl\",\"marker\":{\"colorbar\":{\"outlinewidth\":0,\"ticks\":\"\"}}}],\"scatter3d\":[{\"type\":\"scatter3d\",\"line\":{\"colorbar\":{\"outlinewidth\":0,\"ticks\":\"\"}},\"marker\":{\"colorbar\":{\"outlinewidth\":0,\"ticks\":\"\"}}}],\"scattermapbox\":[{\"type\":\"scattermapbox\",\"marker\":{\"colorbar\":{\"outlinewidth\":0,\"ticks\":\"\"}}}],\"scatterternary\":[{\"type\":\"scatterternary\",\"marker\":{\"colorbar\":{\"outlinewidth\":0,\"ticks\":\"\"}}}],\"scattercarpet\":[{\"type\":\"scattercarpet\",\"marker\":{\"colorbar\":{\"outlinewidth\":0,\"ticks\":\"\"}}}],\"carpet\":[{\"aaxis\":{\"endlinecolor\":\"#2a3f5f\",\"gridcolor\":\"white\",\"linecolor\":\"white\",\"minorgridcolor\":\"white\",\"startlinecolor\":\"#2a3f5f\"},\"baxis\":{\"endlinecolor\":\"#2a3f5f\",\"gridcolor\":\"white\",\"linecolor\":\"white\",\"minorgridcolor\":\"white\",\"startlinecolor\":\"#2a3f5f\"},\"type\":\"carpet\"}],\"table\":[{\"cells\":{\"fill\":{\"color\":\"#EBF0F8\"},\"line\":{\"color\":\"white\"}},\"header\":{\"fill\":{\"color\":\"#C8D4E3\"},\"line\":{\"color\":\"white\"}},\"type\":\"table\"}],\"barpolar\":[{\"marker\":{\"line\":{\"color\":\"#E5ECF6\",\"width\":0.5},\"pattern\":{\"fillmode\":\"overlay\",\"size\":10,\"solidity\":0.2}},\"type\":\"barpolar\"}],\"pie\":[{\"automargin\":true,\"type\":\"pie\"}]},\"layout\":{\"autotypenumbers\":\"strict\",\"colorway\":[\"#636efa\",\"#EF553B\",\"#00cc96\",\"#ab63fa\",\"#FFA15A\",\"#19d3f3\",\"#FF6692\",\"#B6E880\",\"#FF97FF\",\"#FECB52\"],\"font\":{\"color\":\"#2a3f5f\"},\"hovermode\":\"closest\",\"hoverlabel\":{\"align\":\"left\"},\"paper_bgcolor\":\"white\",\"plot_bgcolor\":\"#E5ECF6\",\"polar\":{\"bgcolor\":\"#E5ECF6\",\"angularaxis\":{\"gridcolor\":\"white\",\"linecolor\":\"white\",\"ticks\":\"\"},\"radialaxis\":{\"gridcolor\":\"white\",\"linecolor\":\"white\",\"ticks\":\"\"}},\"ternary\":{\"bgcolor\":\"#E5ECF6\",\"aaxis\":{\"gridcolor\":\"white\",\"linecolor\":\"white\",\"ticks\":\"\"},\"baxis\":{\"gridcolor\":\"white\",\"linecolor\":\"white\",\"ticks\":\"\"},\"caxis\":{\"gridcolor\":\"white\",\"linecolor\":\"white\",\"ticks\":\"\"}},\"coloraxis\":{\"colorbar\":{\"outlinewidth\":0,\"ticks\":\"\"}},\"colorscale\":{\"sequential\":[[0.0,\"#0d0887\"],[0.1111111111111111,\"#46039f\"],[0.2222222222222222,\"#7201a8\"],[0.3333333333333333,\"#9c179e\"],[0.4444444444444444,\"#bd3786\"],[0.5555555555555556,\"#d8576b\"],[0.6666666666666666,\"#ed7953\"],[0.7777777777777778,\"#fb9f3a\"],[0.8888888888888888,\"#fdca26\"],[1.0,\"#f0f921\"]],\"sequentialminus\":[[0.0,\"#0d0887\"],[0.1111111111111111,\"#46039f\"],[0.2222222222222222,\"#7201a8\"],[0.3333333333333333,\"#9c179e\"],[0.4444444444444444,\"#bd3786\"],[0.5555555555555556,\"#d8576b\"],[0.6666666666666666,\"#ed7953\"],[0.7777777777777778,\"#fb9f3a\"],[0.8888888888888888,\"#fdca26\"],[1.0,\"#f0f921\"]],\"diverging\":[[0,\"#8e0152\"],[0.1,\"#c51b7d\"],[0.2,\"#de77ae\"],[0.3,\"#f1b6da\"],[0.4,\"#fde0ef\"],[0.5,\"#f7f7f7\"],[0.6,\"#e6f5d0\"],[0.7,\"#b8e186\"],[0.8,\"#7fbc41\"],[0.9,\"#4d9221\"],[1,\"#276419\"]]},\"xaxis\":{\"gridcolor\":\"white\",\"linecolor\":\"white\",\"ticks\":\"\",\"title\":{\"standoff\":15},\"zerolinecolor\":\"white\",\"automargin\":true,\"zerolinewidth\":2},\"yaxis\":{\"gridcolor\":\"white\",\"linecolor\":\"white\",\"ticks\":\"\",\"title\":{\"standoff\":15},\"zerolinecolor\":\"white\",\"automargin\":true,\"zerolinewidth\":2},\"scene\":{\"xaxis\":{\"backgroundcolor\":\"#E5ECF6\",\"gridcolor\":\"white\",\"linecolor\":\"white\",\"showbackground\":true,\"ticks\":\"\",\"zerolinecolor\":\"white\",\"gridwidth\":2},\"yaxis\":{\"backgroundcolor\":\"#E5ECF6\",\"gridcolor\":\"white\",\"linecolor\":\"white\",\"showbackground\":true,\"ticks\":\"\",\"zerolinecolor\":\"white\",\"gridwidth\":2},\"zaxis\":{\"backgroundcolor\":\"#E5ECF6\",\"gridcolor\":\"white\",\"linecolor\":\"white\",\"showbackground\":true,\"ticks\":\"\",\"zerolinecolor\":\"white\",\"gridwidth\":2}},\"shapedefaults\":{\"line\":{\"color\":\"#2a3f5f\"}},\"annotationdefaults\":{\"arrowcolor\":\"#2a3f5f\",\"arrowhead\":0,\"arrowwidth\":1},\"geo\":{\"bgcolor\":\"white\",\"landcolor\":\"#E5ECF6\",\"subunitcolor\":\"white\",\"showland\":true,\"showlakes\":true,\"lakecolor\":\"white\"},\"title\":{\"x\":0.05},\"mapbox\":{\"style\":\"light\"}}},\"scene\":{\"xaxis\":{\"title\":{\"text\":\"Temperature (\\u00b0C)\"}},\"yaxis\":{\"title\":{\"text\":\"Humidity (%)\"}},\"zaxis\":{\"title\":{\"text\":\"Pressure (hPa)\"}}},\"title\":{\"text\":\"3D Scatter Plot of Temperature, Humidity, and Pressure\"}},                        {\"responsive\": true}                    ).then(function(){\n                            \nvar gd = document.getElementById('23e814d4-9e06-479f-827e-f2906f98444d');\nvar x = new MutationObserver(function (mutations, observer) {{\n        var display = window.getComputedStyle(gd).display;\n        if (!display || display === 'none') {{\n            console.log([gd, 'removed!']);\n            Plotly.purge(gd);\n            observer.disconnect();\n        }}\n}});\n\n// Listen for the removal of the full notebook cells\nvar notebookContainer = gd.closest('#notebook-container');\nif (notebookContainer) {{\n    x.observe(notebookContainer, {childList: true});\n}}\n\n// Listen for the clearing of the current output cell\nvar outputEl = gd.closest('.output');\nif (outputEl) {{\n    x.observe(outputEl, {childList: true});\n}}\n\n                        })                };                            </script>        </div>\n</body>\n</html>"
          },
          "metadata": {},
          "output_type": "display_data"
        }
      ],
      "outputs_reference": null,
      "execution_count": 33,
      "block_group": "1ca47155f15e4c0999f8893b1ed22c4a",
      "content_dependencies": null
    },
    {
      "cell_type": "code",
      "source": "import matplotlib.pyplot as plt\nimport numpy as np\n\n# Generate some sample data\nx = temperature = cuacaT['temperature'].tail(60*jam)\ny = humidity = cuacaT['humidity'].tail(60*jam)\nz = pressure = cuacaT['pressure'].tail(60*jam)\n\n\n# Create a 3D plot\nfig = plt.figure()\nax = fig.add_subplot(111, projection='3d')\n\n# Plot the 3D scatter\nax.scatter(x, y, z, c=z, cmap='viridis', marker='o')\n\n# Label the axes\nax.set_xlabel('Temperature (°C)')\nax.set_ylabel('Humidity (%)')\nax.set_zlabel('Pressure (hPa)')\n\n# Add a title\nax.set_title('Plot 3D: Temperature, Humidity, and Pressure')\n\n# Show the plot\nplt.show()\n",
      "metadata": {
        "source_hash": "185617ac",
        "execution_start": 1727694858002,
        "execution_millis": 412,
        "deepnote_to_be_reexecuted": true,
        "cell_id": "42c50c32bc1943e79e9d8d0204eec4a4",
        "deepnote_cell_type": "code"
      },
      "outputs": [
        {
          "data": {
            "text/plain": "<Figure size 1200x600 with 1 Axes>",
            "image/png": "[encoded data removed]"
          },
          "metadata": {
            "image/png": {
              "width": 505,
              "height": 507
            }
          },
          "output_type": "display_data"
        }
      ],
      "outputs_reference": null,
      "execution_count": 34,
      "block_group": "5bc214b93aad4fd99ff09e0f2b181989",
      "content_dependencies": null
    },
    {
      "cell_type": "markdown",
      "source": "<a style='text-decoration:none;line-height:16px;display:flex;color:#5B5B62;padding:10px;justify-content:end;' href='https://deepnote.com?utm_source=created-in-deepnote-cell&projectId=200afad5-8991-4e20-8a55-8751c7aff3b5' target=\"_blank\">\n<img alt='Created in deepnote.com' style='display:inline;max-height:16px;margin:0px;margin-right:7.5px;' src='data:image/svg+xml;base64,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' > </img>\nCreated in <span style='font-weight:600;margin-left:4px;'>Deepnote</span></a>",
      "metadata": {
        "created_in_deepnote_cell": true,
        "deepnote_cell_type": "markdown"
      }
    }
  ],
  "nbformat": 4,
  "nbformat_minor": 0,
  "metadata": {
    "deepnote_notebook_id": "9215391101864d27b154732897d1c8d6",
    "deepnote_execution_queue": []
  }
}