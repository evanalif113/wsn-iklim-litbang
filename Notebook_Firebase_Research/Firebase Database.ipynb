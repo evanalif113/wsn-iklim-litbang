{
  "cells": [
    {
      "cell_type": "code",
      "source": "import numpy as np\nimport pandas as pd\nimport matplotlib.pyplot as plt\nimport matplotlib.dates as mdates\nimport matplotlib.animation as animation\nimport datetime\nimport seaborn as sns\nsns.set_theme(style=\"whitegrid\")\n%matplotlib inline ",
      "metadata": {
        "source_hash": "2674c85e",
        "execution_start": 1727699145349,
        "execution_millis": 735,
        "deepnote_to_be_reexecuted": false,
        "cell_id": "9ec5966b95124303906b4f526d9a698c",
        "deepnote_cell_type": "code"
      },
      "outputs": [],
      "outputs_reference": null,
      "execution_count": 1,
      "block_group": "9ec5966b95124303906b4f526d9a698c",
      "content_dependencies": null
    },
    {
      "cell_type": "code",
      "source": "cuaca = pd.read_json(\"https://staklimjerukagung-default-rtdb.asia-southeast1.firebasedatabase.app/auto_weather_stat/id-03/data.json\")\ngeomagnetik = pd.read_json(\"https://staklimjerukagung-default-rtdb.asia-southeast1.firebasedatabase.app/geomagnetic_stat/id-01/data.json\")",
      "metadata": {
        "source_hash": "9b837c5e",
        "execution_start": 1727699146087,
        "execution_millis": 232225,
        "deepnote_to_be_reexecuted": false,
        "cell_id": "bff037fd46974b73a38e0b04df416792",
        "deepnote_cell_type": "code"
      },
      "outputs": [],
      "outputs_reference": null,
      "execution_count": 2,
      "block_group": "c41476a691e5442389300b0ae04c2cb6",
      "content_dependencies": null
    },
    {
      "cell_type": "code",
      "source": "cuacaT=cuaca.transpose()\ncuacaT.tail(30)",
      "metadata": {
        "source_hash": "ab8e5be9",
        "execution_start": 1727699378315,
        "execution_millis": 423,
        "deepnote_table_state": {
          "sortBy": [
            {
              "id": "timestamp",
              "type": "desc"
            }
          ],
          "filters": [],
          "pageSize": 100,
          "pageIndex": 0,
          "conditionalFilters": []
        },
        "deepnote_table_loading": false,
        "deepnote_to_be_reexecuted": false,
        "cell_id": "2b353e247d6d4d7ab5f689552d1edf8a",
        "deepnote_cell_type": "code"
      },
      "outputs": [
        {
          "output_type": "execute_result",
          "execution_count": 3,
          "data": {
            "application/vnd.deepnote.dataframe.v3+json": {
              "column_count": 6,
              "row_count": 30,
              "columns": [
                {
                  "name": "dew",
                  "dtype": "float64",
                  "stats": {
                    "unique_count": 11,
                    "nan_count": 0,
                    "min": "25.88",
                    "max": "26.04",
                    "histogram": [
                      {
                        "bin_start": 25.88,
                        "bin_end": 25.896,
                        "count": 2
                      },
                      {
                        "bin_start": 25.896,
                        "bin_end": 25.912,
                        "count": 4
                      },
                      {
                        "bin_start": 25.912,
                        "bin_end": 25.927999999999997,
                        "count": 0
                      },
                      {
                        "bin_start": 25.927999999999997,
                        "bin_end": 25.944,
                        "count": 3
                      },
                      {
                        "bin_start": 25.944,
                        "bin_end": 25.96,
                        "count": 0
                      },
                      {
                        "bin_start": 25.96,
                        "bin_end": 25.976,
                        "count": 1
                      },
                      {
                        "bin_start": 25.976,
                        "bin_end": 25.991999999999997,
                        "count": 6
                      },
                      {
                        "bin_start": 25.991999999999997,
                        "bin_end": 26.008,
                        "count": 5
                      },
                      {
                        "bin_start": 26.008,
                        "bin_end": 26.024,
                        "count": 6
                      },
                      {
                        "bin_start": 26.024,
                        "bin_end": 26.04,
                        "count": 3
                      }
                    ]
                  }
                },
                {
                  "name": "humidity",
                  "dtype": "float64",
                  "stats": {
                    "unique_count": 26,
                    "nan_count": 0,
                    "min": "87.79",
                    "max": "88.64",
                    "histogram": [
                      {
                        "bin_start": 87.79,
                        "bin_end": 87.875,
                        "count": 5
                      },
                      {
                        "bin_start": 87.875,
                        "bin_end": 87.96000000000001,
                        "count": 0
                      },
                      {
                        "bin_start": 87.96000000000001,
                        "bin_end": 88.045,
                        "count": 1
                      },
                      {
                        "bin_start": 88.045,
                        "bin_end": 88.13000000000001,
                        "count": 2
                      },
                      {
                        "bin_start": 88.13000000000001,
                        "bin_end": 88.215,
                        "count": 1
                      },
                      {
                        "bin_start": 88.215,
                        "bin_end": 88.3,
                        "count": 5
                      },
                      {
                        "bin_start": 88.3,
                        "bin_end": 88.385,
                        "count": 6
                      },
                      {
                        "bin_start": 88.385,
                        "bin_end": 88.47,
                        "count": 6
                      },
                      {
                        "bin_start": 88.47,
                        "bin_end": 88.555,
                        "count": 2
                      },
                      {
                        "bin_start": 88.555,
                        "bin_end": 88.64,
                        "count": 2
                      }
                    ]
                  }
                },
                {
                  "name": "pressure",
                  "dtype": "float64",
                  "stats": {
                    "unique_count": 17,
                    "nan_count": 0,
                    "min": "1011.71",
                    "max": "1012.04",
                    "histogram": [
                      {
                        "bin_start": 1011.71,
                        "bin_end": 1011.743,
                        "count": 8
                      },
                      {
                        "bin_start": 1011.743,
                        "bin_end": 1011.7760000000001,
                        "count": 7
                      },
                      {
                        "bin_start": 1011.7760000000001,
                        "bin_end": 1011.809,
                        "count": 2
                      },
                      {
                        "bin_start": 1011.809,
                        "bin_end": 1011.842,
                        "count": 7
                      },
                      {
                        "bin_start": 1011.842,
                        "bin_end": 1011.875,
                        "count": 0
                      },
                      {
                        "bin_start": 1011.875,
                        "bin_end": 1011.908,
                        "count": 1
                      },
                      {
                        "bin_start": 1011.908,
                        "bin_end": 1011.941,
                        "count": 2
                      },
                      {
                        "bin_start": 1011.941,
                        "bin_end": 1011.9739999999999,
                        "count": 1
                      },
                      {
                        "bin_start": 1011.9739999999999,
                        "bin_end": 1012.007,
                        "count": 1
                      },
                      {
                        "bin_start": 1012.007,
                        "bin_end": 1012.04,
                        "count": 1
                      }
                    ]
                  }
                },
                {
                  "name": "temperature",
                  "dtype": "float64",
                  "stats": {
                    "unique_count": 7,
                    "nan_count": 0,
                    "min": "28.07",
                    "max": "28.14",
                    "histogram": [
                      {
                        "bin_start": 28.07,
                        "bin_end": 28.077,
                        "count": 4
                      },
                      {
                        "bin_start": 28.077,
                        "bin_end": 28.084,
                        "count": 0
                      },
                      {
                        "bin_start": 28.084,
                        "bin_end": 28.091,
                        "count": 6
                      },
                      {
                        "bin_start": 28.091,
                        "bin_end": 28.098,
                        "count": 0
                      },
                      {
                        "bin_start": 28.098,
                        "bin_end": 28.105,
                        "count": 5
                      },
                      {
                        "bin_start": 28.105,
                        "bin_end": 28.112000000000002,
                        "count": 5
                      },
                      {
                        "bin_start": 28.112000000000002,
                        "bin_end": 28.119,
                        "count": 0
                      },
                      {
                        "bin_start": 28.119,
                        "bin_end": 28.126,
                        "count": 4
                      },
                      {
                        "bin_start": 28.126,
                        "bin_end": 28.133,
                        "count": 4
                      },
                      {
                        "bin_start": 28.133,
                        "bin_end": 28.14,
                        "count": 2
                      }
                    ]
                  }
                },
                {
                  "name": "timestamp",
                  "dtype": "float64",
                  "stats": {
                    "unique_count": 30,
                    "nan_count": 0,
                    "min": "1727697363.0",
                    "max": "1727699103.0",
                    "histogram": [
                      {
                        "bin_start": 1727697363,
                        "bin_end": 1727697537,
                        "count": 3
                      },
                      {
                        "bin_start": 1727697537,
                        "bin_end": 1727697711,
                        "count": 3
                      },
                      {
                        "bin_start": 1727697711,
                        "bin_end": 1727697885,
                        "count": 3
                      },
                      {
                        "bin_start": 1727697885,
                        "bin_end": 1727698059,
                        "count": 3
                      },
                      {
                        "bin_start": 1727698059,
                        "bin_end": 1727698233,
                        "count": 3
                      },
                      {
                        "bin_start": 1727698233,
                        "bin_end": 1727698407,
                        "count": 3
                      },
                      {
                        "bin_start": 1727698407,
                        "bin_end": 1727698581,
                        "count": 3
                      },
                      {
                        "bin_start": 1727698581,
                        "bin_end": 1727698755,
                        "count": 3
                      },
                      {
                        "bin_start": 1727698755,
                        "bin_end": 1727698929,
                        "count": 3
                      },
                      {
                        "bin_start": 1727698929,
                        "bin_end": 1727699103,
                        "count": 3
                      }
                    ]
                  }
                },
                {
                  "name": "volt",
                  "dtype": "float64",
                  "stats": {
                    "unique_count": 2,
                    "nan_count": 0,
                    "min": "4.05",
                    "max": "4.06",
                    "histogram": [
                      {
                        "bin_start": 4.05,
                        "bin_end": 4.051,
                        "count": 25
                      },
                      {
                        "bin_start": 4.051,
                        "bin_end": 4.052,
                        "count": 0
                      },
                      {
                        "bin_start": 4.052,
                        "bin_end": 4.053,
                        "count": 0
                      },
                      {
                        "bin_start": 4.053,
                        "bin_end": 4.053999999999999,
                        "count": 0
                      },
                      {
                        "bin_start": 4.053999999999999,
                        "bin_end": 4.055,
                        "count": 0
                      },
                      {
                        "bin_start": 4.055,
                        "bin_end": 4.056,
                        "count": 0
                      },
                      {
                        "bin_start": 4.056,
                        "bin_end": 4.0569999999999995,
                        "count": 0
                      },
                      {
                        "bin_start": 4.0569999999999995,
                        "bin_end": 4.058,
                        "count": 0
                      },
                      {
                        "bin_start": 4.058,
                        "bin_end": 4.058999999999999,
                        "count": 0
                      },
                      {
                        "bin_start": 4.058999999999999,
                        "bin_end": 4.06,
                        "count": 5
                      }
                    ]
                  }
                },
                {
                  "name": "_deepnote_index_column",
                  "dtype": "int64"
                }
              ],
              "rows": [
                {
                  "dew": 26.02,
                  "humidity": 88.64,
                  "pressure": 1012.04,
                  "temperature": 28.07,
                  "timestamp": 1727699103,
                  "volt": 4.06,
                  "_deepnote_index_column": 1727699103
                },
                {
                  "dew": 26.01,
                  "humidity": 88.61,
                  "pressure": 1011.98,
                  "temperature": 28.07,
                  "timestamp": 1727699044,
                  "volt": 4.06,
                  "_deepnote_index_column": 1727699044
                },
                {
                  "dew": 26,
                  "humidity": 88.54,
                  "pressure": 1011.95,
                  "temperature": 28.07,
                  "timestamp": 1727698983,
                  "volt": 4.05,
                  "_deepnote_index_column": 1727698983
                },
                {
                  "dew": 26.01,
                  "humidity": 88.49,
                  "pressure": 1011.92,
                  "temperature": 28.09,
                  "timestamp": 1727698924,
                  "volt": 4.05,
                  "_deepnote_index_column": 1727698924
                },
                {
                  "dew": 25.98,
                  "humidity": 88.3,
                  "pressure": 1011.91,
                  "temperature": 28.1,
                  "timestamp": 1727698864,
                  "volt": 4.05,
                  "_deepnote_index_column": 1727698864
                },
                {
                  "dew": 25.97,
                  "humidity": 88.31,
                  "pressure": 1011.88,
                  "temperature": 28.09,
                  "timestamp": 1727698804,
                  "volt": 4.05,
                  "_deepnote_index_column": 1727698804
                },
                {
                  "dew": 25.99,
                  "humidity": 88.4,
                  "pressure": 1011.83,
                  "temperature": 28.09,
                  "timestamp": 1727698743,
                  "volt": 4.05,
                  "_deepnote_index_column": 1727698743
                },
                {
                  "dew": 26.01,
                  "humidity": 88.39,
                  "pressure": 1011.81,
                  "temperature": 28.11,
                  "timestamp": 1727698684,
                  "volt": 4.05,
                  "_deepnote_index_column": 1727698684
                },
                {
                  "dew": 25.98,
                  "humidity": 88.33,
                  "pressure": 1011.83,
                  "temperature": 28.09,
                  "timestamp": 1727698623,
                  "volt": 4.05,
                  "_deepnote_index_column": 1727698623
                },
                {
                  "dew": 26.02,
                  "humidity": 88.34,
                  "pressure": 1011.81,
                  "temperature": 28.13,
                  "timestamp": 1727698564,
                  "volt": 4.05,
                  "_deepnote_index_column": 1727698564
                },
                {
                  "dew": 26,
                  "humidity": 88.4,
                  "pressure": 1011.79,
                  "temperature": 28.1,
                  "timestamp": 1727698503,
                  "volt": 4.05,
                  "_deepnote_index_column": 1727698503
                },
                {
                  "dew": 26.04,
                  "humidity": 88.43,
                  "pressure": 1011.83,
                  "temperature": 28.13,
                  "timestamp": 1727698444,
                  "volt": 4.05,
                  "_deepnote_index_column": 1727698444
                },
                {
                  "dew": 26.04,
                  "humidity": 88.43,
                  "pressure": 1011.81,
                  "temperature": 28.13,
                  "timestamp": 1727698383,
                  "volt": 4.05,
                  "_deepnote_index_column": 1727698383
                },
                {
                  "dew": 26.04,
                  "humidity": 88.41,
                  "pressure": 1011.77,
                  "temperature": 28.14,
                  "timestamp": 1727698323,
                  "volt": 4.06,
                  "_deepnote_index_column": 1727698323
                },
                {
                  "dew": 26,
                  "humidity": 88.29,
                  "pressure": 1011.83,
                  "temperature": 28.12,
                  "timestamp": 1727698263,
                  "volt": 4.05,
                  "_deepnote_index_column": 1727698263
                },
                {
                  "dew": 26,
                  "humidity": 88.36,
                  "pressure": 1011.72,
                  "temperature": 28.11,
                  "timestamp": 1727698204,
                  "volt": 4.05,
                  "_deepnote_index_column": 1727698204
                },
                {
                  "dew": 26.02,
                  "humidity": 88.32,
                  "pressure": 1011.77,
                  "temperature": 28.14,
                  "timestamp": 1727698143,
                  "volt": 4.05,
                  "_deepnote_index_column": 1727698143
                },
                {
                  "dew": 25.99,
                  "humidity": 88.23,
                  "pressure": 1011.76,
                  "temperature": 28.12,
                  "timestamp": 1727698083,
                  "volt": 4.05,
                  "_deepnote_index_column": 1727698083
                },
                {
                  "dew": 25.98,
                  "humidity": 88.22,
                  "pressure": 1011.76,
                  "temperature": 28.11,
                  "timestamp": 1727698023,
                  "volt": 4.05,
                  "_deepnote_index_column": 1727698023
                },
                {
                  "dew": 26,
                  "humidity": 88.27,
                  "pressure": 1011.78,
                  "temperature": 28.13,
                  "timestamp": 1727697963,
                  "volt": 4.05,
                  "_deepnote_index_column": 1727697963
                },
                {
                  "dew": 25.99,
                  "humidity": 88.27,
                  "pressure": 1011.76,
                  "temperature": 28.11,
                  "timestamp": 1727697903,
                  "volt": 4.06,
                  "_deepnote_index_column": 1727697903
                },
                {
                  "dew": 25.94,
                  "humidity": 88.13,
                  "pressure": 1011.75,
                  "temperature": 28.09,
                  "timestamp": 1727697843,
                  "volt": 4.05,
                  "_deepnote_index_column": 1727697843
                },
                {
                  "dew": 25.94,
                  "humidity": 88.15,
                  "pressure": 1011.74,
                  "temperature": 28.09,
                  "timestamp": 1727697783,
                  "volt": 4.05,
                  "_deepnote_index_column": 1727697783
                },
                {
                  "dew": 25.9,
                  "humidity": 88.04,
                  "pressure": 1011.74,
                  "temperature": 28.07,
                  "timestamp": 1727697723,
                  "volt": 4.06,
                  "_deepnote_index_column": 1727697723
                },
                {
                  "dew": 25.94,
                  "humidity": 88.07,
                  "pressure": 1011.74,
                  "temperature": 28.1,
                  "timestamp": 1727697663,
                  "volt": 4.05,
                  "_deepnote_index_column": 1727697663
                },
                {
                  "dew": 25.89,
                  "humidity": 87.85,
                  "pressure": 1011.73,
                  "temperature": 28.1,
                  "timestamp": 1727697603,
                  "volt": 4.05,
                  "_deepnote_index_column": 1727697603
                },
                {
                  "dew": 25.9,
                  "humidity": 87.79,
                  "pressure": 1011.75,
                  "temperature": 28.12,
                  "timestamp": 1727697544,
                  "volt": 4.05,
                  "_deepnote_index_column": 1727697544
                },
                {
                  "dew": 25.88,
                  "humidity": 87.79,
                  "pressure": 1011.74,
                  "temperature": 28.1,
                  "timestamp": 1727697483,
                  "volt": 4.05,
                  "_deepnote_index_column": 1727697483
                },
                {
                  "dew": 25.9,
                  "humidity": 87.8,
                  "pressure": 1011.74,
                  "temperature": 28.12,
                  "timestamp": 1727697423,
                  "volt": 4.05,
                  "_deepnote_index_column": 1727697423
                },
                {
                  "dew": 25.9,
                  "humidity": 87.83,
                  "pressure": 1011.71,
                  "temperature": 28.11,
                  "timestamp": 1727697363,
                  "volt": 4.05,
                  "_deepnote_index_column": 1727697363
                }
              ]
            },
            "text/plain": "              dew  humidity  pressure  temperature     timestamp  volt\n1727697363  25.90     87.83   1011.71        28.11  1.727697e+09  4.05\n1727697423  25.90     87.80   1011.74        28.12  1.727697e+09  4.05\n1727697483  25.88     87.79   1011.74        28.10  1.727697e+09  4.05\n1727697544  25.90     87.79   1011.75        28.12  1.727698e+09  4.05\n1727697603  25.89     87.85   1011.73        28.10  1.727698e+09  4.05\n1727697663  25.94     88.07   1011.74        28.10  1.727698e+09  4.05\n1727697723  25.90     88.04   1011.74        28.07  1.727698e+09  4.06\n1727697783  25.94     88.15   1011.74        28.09  1.727698e+09  4.05\n1727697843  25.94     88.13   1011.75        28.09  1.727698e+09  4.05\n1727697903  25.99     88.27   1011.76        28.11  1.727698e+09  4.06\n1727697963  26.00     88.27   1011.78        28.13  1.727698e+09  4.05\n1727698023  25.98     88.22   1011.76        28.11  1.727698e+09  4.05\n1727698083  25.99     88.23   1011.76        28.12  1.727698e+09  4.05\n1727698143  26.02     88.32   1011.77        28.14  1.727698e+09  4.05\n1727698204  26.00     88.36   1011.72        28.11  1.727698e+09  4.05\n1727698263  26.00     88.29   1011.83        28.12  1.727698e+09  4.05\n1727698323  26.04     88.41   1011.77        28.14  1.727698e+09  4.06\n1727698383  26.04     88.43   1011.81        28.13  1.727698e+09  4.05\n1727698444  26.04     88.43   1011.83        28.13  1.727698e+09  4.05\n1727698503  26.00     88.40   1011.79        28.10  1.727699e+09  4.05\n1727698564  26.02     88.34   1011.81        28.13  1.727699e+09  4.05\n1727698623  25.98     88.33   1011.83        28.09  1.727699e+09  4.05\n1727698684  26.01     88.39   1011.81        28.11  1.727699e+09  4.05\n1727698743  25.99     88.40   1011.83        28.09  1.727699e+09  4.05\n1727698804  25.97     88.31   1011.88        28.09  1.727699e+09  4.05\n1727698864  25.98     88.30   1011.91        28.10  1.727699e+09  4.05\n1727698924  26.01     88.49   1011.92        28.09  1.727699e+09  4.05\n1727698983  26.00     88.54   1011.95        28.07  1.727699e+09  4.05\n1727699044  26.01     88.61   1011.98        28.07  1.727699e+09  4.06\n1727699103  26.02     88.64   1012.04        28.07  1.727699e+09  4.06",
            "text/html": "<div>\n<style scoped>\n    .dataframe tbody tr th:only-of-type {\n        vertical-align: middle;\n    }\n\n    .dataframe tbody tr th {\n        vertical-align: top;\n    }\n\n    .dataframe thead th {\n        text-align: right;\n    }\n</style>\n<table border=\"1\" class=\"dataframe\">\n  <thead>\n    <tr style=\"text-align: right;\">\n      <th></th>\n      <th>dew</th>\n      <th>humidity</th>\n      <th>pressure</th>\n      <th>temperature</th>\n      <th>timestamp</th>\n      <th>volt</th>\n    </tr>\n  </thead>\n  <tbody>\n    <tr>\n      <th>1727697363</th>\n      <td>25.90</td>\n      <td>87.83</td>\n      <td>1011.71</td>\n      <td>28.11</td>\n      <td>1.727697e+09</td>\n      <td>4.05</td>\n    </tr>\n    <tr>\n      <th>1727697423</th>\n      <td>25.90</td>\n      <td>87.80</td>\n      <td>1011.74</td>\n      <td>28.12</td>\n      <td>1.727697e+09</td>\n      <td>4.05</td>\n    </tr>\n    <tr>\n      <th>1727697483</th>\n      <td>25.88</td>\n      <td>87.79</td>\n      <td>1011.74</td>\n      <td>28.10</td>\n      <td>1.727697e+09</td>\n      <td>4.05</td>\n    </tr>\n    <tr>\n      <th>1727697544</th>\n      <td>25.90</td>\n      <td>87.79</td>\n      <td>1011.75</td>\n      <td>28.12</td>\n      <td>1.727698e+09</td>\n      <td>4.05</td>\n    </tr>\n    <tr>\n      <th>1727697603</th>\n      <td>25.89</td>\n      <td>87.85</td>\n      <td>1011.73</td>\n      <td>28.10</td>\n      <td>1.727698e+09</td>\n      <td>4.05</td>\n    </tr>\n    <tr>\n      <th>1727697663</th>\n      <td>25.94</td>\n      <td>88.07</td>\n      <td>1011.74</td>\n      <td>28.10</td>\n      <td>1.727698e+09</td>\n      <td>4.05</td>\n    </tr>\n    <tr>\n      <th>1727697723</th>\n      <td>25.90</td>\n      <td>88.04</td>\n      <td>1011.74</td>\n      <td>28.07</td>\n      <td>1.727698e+09</td>\n      <td>4.06</td>\n    </tr>\n    <tr>\n      <th>1727697783</th>\n      <td>25.94</td>\n      <td>88.15</td>\n      <td>1011.74</td>\n      <td>28.09</td>\n      <td>1.727698e+09</td>\n      <td>4.05</td>\n    </tr>\n    <tr>\n      <th>1727697843</th>\n      <td>25.94</td>\n      <td>88.13</td>\n      <td>1011.75</td>\n      <td>28.09</td>\n      <td>1.727698e+09</td>\n      <td>4.05</td>\n    </tr>\n    <tr>\n      <th>1727697903</th>\n      <td>25.99</td>\n      <td>88.27</td>\n      <td>1011.76</td>\n      <td>28.11</td>\n      <td>1.727698e+09</td>\n      <td>4.06</td>\n    </tr>\n    <tr>\n      <th>1727697963</th>\n      <td>26.00</td>\n      <td>88.27</td>\n      <td>1011.78</td>\n      <td>28.13</td>\n      <td>1.727698e+09</td>\n      <td>4.05</td>\n    </tr>\n    <tr>\n      <th>1727698023</th>\n      <td>25.98</td>\n      <td>88.22</td>\n      <td>1011.76</td>\n      <td>28.11</td>\n      <td>1.727698e+09</td>\n      <td>4.05</td>\n    </tr>\n    <tr>\n      <th>1727698083</th>\n      <td>25.99</td>\n      <td>88.23</td>\n      <td>1011.76</td>\n      <td>28.12</td>\n      <td>1.727698e+09</td>\n      <td>4.05</td>\n    </tr>\n    <tr>\n      <th>1727698143</th>\n      <td>26.02</td>\n      <td>88.32</td>\n      <td>1011.77</td>\n      <td>28.14</td>\n      <td>1.727698e+09</td>\n      <td>4.05</td>\n    </tr>\n    <tr>\n      <th>1727698204</th>\n      <td>26.00</td>\n      <td>88.36</td>\n      <td>1011.72</td>\n      <td>28.11</td>\n      <td>1.727698e+09</td>\n      <td>4.05</td>\n    </tr>\n    <tr>\n      <th>1727698263</th>\n      <td>26.00</td>\n      <td>88.29</td>\n      <td>1011.83</td>\n      <td>28.12</td>\n      <td>1.727698e+09</td>\n      <td>4.05</td>\n    </tr>\n    <tr>\n      <th>1727698323</th>\n      <td>26.04</td>\n      <td>88.41</td>\n      <td>1011.77</td>\n      <td>28.14</td>\n      <td>1.727698e+09</td>\n      <td>4.06</td>\n    </tr>\n    <tr>\n      <th>1727698383</th>\n      <td>26.04</td>\n      <td>88.43</td>\n      <td>1011.81</td>\n      <td>28.13</td>\n      <td>1.727698e+09</td>\n      <td>4.05</td>\n    </tr>\n    <tr>\n      <th>1727698444</th>\n      <td>26.04</td>\n      <td>88.43</td>\n      <td>1011.83</td>\n      <td>28.13</td>\n      <td>1.727698e+09</td>\n      <td>4.05</td>\n    </tr>\n    <tr>\n      <th>1727698503</th>\n      <td>26.00</td>\n      <td>88.40</td>\n      <td>1011.79</td>\n      <td>28.10</td>\n      <td>1.727699e+09</td>\n      <td>4.05</td>\n    </tr>\n    <tr>\n      <th>1727698564</th>\n      <td>26.02</td>\n      <td>88.34</td>\n      <td>1011.81</td>\n      <td>28.13</td>\n      <td>1.727699e+09</td>\n      <td>4.05</td>\n    </tr>\n    <tr>\n      <th>1727698623</th>\n      <td>25.98</td>\n      <td>88.33</td>\n      <td>1011.83</td>\n      <td>28.09</td>\n      <td>1.727699e+09</td>\n      <td>4.05</td>\n    </tr>\n    <tr>\n      <th>1727698684</th>\n      <td>26.01</td>\n      <td>88.39</td>\n      <td>1011.81</td>\n      <td>28.11</td>\n      <td>1.727699e+09</td>\n      <td>4.05</td>\n    </tr>\n    <tr>\n      <th>1727698743</th>\n      <td>25.99</td>\n      <td>88.40</td>\n      <td>1011.83</td>\n      <td>28.09</td>\n      <td>1.727699e+09</td>\n      <td>4.05</td>\n    </tr>\n    <tr>\n      <th>1727698804</th>\n      <td>25.97</td>\n      <td>88.31</td>\n      <td>1011.88</td>\n      <td>28.09</td>\n      <td>1.727699e+09</td>\n      <td>4.05</td>\n    </tr>\n    <tr>\n      <th>1727698864</th>\n      <td>25.98</td>\n      <td>88.30</td>\n      <td>1011.91</td>\n      <td>28.10</td>\n      <td>1.727699e+09</td>\n      <td>4.05</td>\n    </tr>\n    <tr>\n      <th>1727698924</th>\n      <td>26.01</td>\n      <td>88.49</td>\n      <td>1011.92</td>\n      <td>28.09</td>\n      <td>1.727699e+09</td>\n      <td>4.05</td>\n    </tr>\n    <tr>\n      <th>1727698983</th>\n      <td>26.00</td>\n      <td>88.54</td>\n      <td>1011.95</td>\n      <td>28.07</td>\n      <td>1.727699e+09</td>\n      <td>4.05</td>\n    </tr>\n    <tr>\n      <th>1727699044</th>\n      <td>26.01</td>\n      <td>88.61</td>\n      <td>1011.98</td>\n      <td>28.07</td>\n      <td>1.727699e+09</td>\n      <td>4.06</td>\n    </tr>\n    <tr>\n      <th>1727699103</th>\n      <td>26.02</td>\n      <td>88.64</td>\n      <td>1012.04</td>\n      <td>28.07</td>\n      <td>1.727699e+09</td>\n      <td>4.06</td>\n    </tr>\n  </tbody>\n</table>\n</div>"
          },
          "metadata": {}
        }
      ],
      "outputs_reference": null,
      "execution_count": 3,
      "block_group": "b67336704f964145a414a507a6c7a771",
      "content_dependencies": null
    },
    {
      "cell_type": "code",
      "source": "cuacaT.describe()",
      "metadata": {
        "source_hash": "268dd9c1",
        "execution_start": 1727699378359,
        "execution_millis": 623,
        "deepnote_table_state": {
          "sortBy": [],
          "filters": [],
          "pageSize": 10,
          "pageIndex": 0,
          "conditionalFilters": []
        },
        "deepnote_table_loading": false,
        "deepnote_to_be_reexecuted": false,
        "cell_id": "2203b9d1f66f4f0783fd17d1a85fd775",
        "deepnote_cell_type": "code"
      },
      "outputs": [
        {
          "output_type": "execute_result",
          "execution_count": 4,
          "data": {
            "application/vnd.deepnote.dataframe.v3+json": {
              "column_count": 6,
              "row_count": 8,
              "columns": [
                {
                  "name": "dew",
                  "dtype": "float64",
                  "stats": {
                    "unique_count": 8,
                    "nan_count": 0,
                    "min": "1.5143663378191492",
                    "max": "410532.0",
                    "histogram": [
                      {
                        "bin_start": 1.5143663378191492,
                        "bin_end": 41054.562929704036,
                        "count": 7
                      },
                      {
                        "bin_start": 41054.562929704036,
                        "bin_end": 82107.61149307026,
                        "count": 0
                      },
                      {
                        "bin_start": 82107.61149307026,
                        "bin_end": 123160.66005643648,
                        "count": 0
                      },
                      {
                        "bin_start": 123160.66005643648,
                        "bin_end": 164213.7086198027,
                        "count": 0
                      },
                      {
                        "bin_start": 164213.7086198027,
                        "bin_end": 205266.75718316893,
                        "count": 0
                      },
                      {
                        "bin_start": 205266.75718316893,
                        "bin_end": 246319.80574653513,
                        "count": 0
                      },
                      {
                        "bin_start": 246319.80574653513,
                        "bin_end": 287372.8543099013,
                        "count": 0
                      },
                      {
                        "bin_start": 287372.8543099013,
                        "bin_end": 328425.90287326754,
                        "count": 0
                      },
                      {
                        "bin_start": 328425.90287326754,
                        "bin_end": 369478.95143663377,
                        "count": 0
                      },
                      {
                        "bin_start": 369478.95143663377,
                        "bin_end": 410532,
                        "count": 1
                      }
                    ]
                  }
                },
                {
                  "name": "humidity",
                  "dtype": "float64",
                  "stats": {
                    "unique_count": 8,
                    "nan_count": 0,
                    "min": "0.0",
                    "max": "410533.0",
                    "histogram": [
                      {
                        "bin_start": 0,
                        "bin_end": 41053.3,
                        "count": 7
                      },
                      {
                        "bin_start": 41053.3,
                        "bin_end": 82106.6,
                        "count": 0
                      },
                      {
                        "bin_start": 82106.6,
                        "bin_end": 123159.90000000001,
                        "count": 0
                      },
                      {
                        "bin_start": 123159.90000000001,
                        "bin_end": 164213.2,
                        "count": 0
                      },
                      {
                        "bin_start": 164213.2,
                        "bin_end": 205266.5,
                        "count": 0
                      },
                      {
                        "bin_start": 205266.5,
                        "bin_end": 246319.80000000002,
                        "count": 0
                      },
                      {
                        "bin_start": 246319.80000000002,
                        "bin_end": 287373.10000000003,
                        "count": 0
                      },
                      {
                        "bin_start": 287373.10000000003,
                        "bin_end": 328426.4,
                        "count": 0
                      },
                      {
                        "bin_start": 328426.4,
                        "bin_end": 369479.7,
                        "count": 0
                      },
                      {
                        "bin_start": 369479.7,
                        "bin_end": 410533,
                        "count": 1
                      }
                    ]
                  }
                },
                {
                  "name": "pressure",
                  "dtype": "float64",
                  "stats": {
                    "unique_count": 8,
                    "nan_count": 0,
                    "min": "0.0",
                    "max": "410533.0",
                    "histogram": [
                      {
                        "bin_start": 0,
                        "bin_end": 41053.3,
                        "count": 7
                      },
                      {
                        "bin_start": 41053.3,
                        "bin_end": 82106.6,
                        "count": 0
                      },
                      {
                        "bin_start": 82106.6,
                        "bin_end": 123159.90000000001,
                        "count": 0
                      },
                      {
                        "bin_start": 123159.90000000001,
                        "bin_end": 164213.2,
                        "count": 0
                      },
                      {
                        "bin_start": 164213.2,
                        "bin_end": 205266.5,
                        "count": 0
                      },
                      {
                        "bin_start": 205266.5,
                        "bin_end": 246319.80000000002,
                        "count": 0
                      },
                      {
                        "bin_start": 246319.80000000002,
                        "bin_end": 287373.10000000003,
                        "count": 0
                      },
                      {
                        "bin_start": 287373.10000000003,
                        "bin_end": 328426.4,
                        "count": 0
                      },
                      {
                        "bin_start": 328426.4,
                        "bin_end": 369479.7,
                        "count": 0
                      },
                      {
                        "bin_start": 369479.7,
                        "bin_end": 410533,
                        "count": 1
                      }
                    ]
                  }
                },
                {
                  "name": "temperature",
                  "dtype": "float64",
                  "stats": {
                    "unique_count": 8,
                    "nan_count": 0,
                    "min": "0.02",
                    "max": "410533.0",
                    "histogram": [
                      {
                        "bin_start": 0.02,
                        "bin_end": 41053.31799999999,
                        "count": 7
                      },
                      {
                        "bin_start": 41053.31799999999,
                        "bin_end": 82106.616,
                        "count": 0
                      },
                      {
                        "bin_start": 82106.616,
                        "bin_end": 123159.91399999999,
                        "count": 0
                      },
                      {
                        "bin_start": 123159.91399999999,
                        "bin_end": 164213.21199999997,
                        "count": 0
                      },
                      {
                        "bin_start": 164213.21199999997,
                        "bin_end": 205266.50999999998,
                        "count": 0
                      },
                      {
                        "bin_start": 205266.50999999998,
                        "bin_end": 246319.80799999996,
                        "count": 0
                      },
                      {
                        "bin_start": 246319.80799999996,
                        "bin_end": 287373.10599999997,
                        "count": 0
                      },
                      {
                        "bin_start": 287373.10599999997,
                        "bin_end": 328426.404,
                        "count": 0
                      },
                      {
                        "bin_start": 328426.404,
                        "bin_end": 369479.702,
                        "count": 0
                      },
                      {
                        "bin_start": 369479.702,
                        "bin_end": 410533,
                        "count": 1
                      }
                    ]
                  }
                },
                {
                  "name": "timestamp",
                  "dtype": "float64",
                  "stats": {
                    "unique_count": 8,
                    "nan_count": 0,
                    "min": "0.0",
                    "max": "1727699103.0",
                    "histogram": [
                      {
                        "bin_start": 0,
                        "bin_end": 172769910.3,
                        "count": 3
                      },
                      {
                        "bin_start": 172769910.3,
                        "bin_end": 345539820.6,
                        "count": 0
                      },
                      {
                        "bin_start": 345539820.6,
                        "bin_end": 518309730.90000004,
                        "count": 0
                      },
                      {
                        "bin_start": 518309730.90000004,
                        "bin_end": 691079641.2,
                        "count": 0
                      },
                      {
                        "bin_start": 691079641.2,
                        "bin_end": 863849551.5,
                        "count": 0
                      },
                      {
                        "bin_start": 863849551.5,
                        "bin_end": 1036619461.8000001,
                        "count": 0
                      },
                      {
                        "bin_start": 1036619461.8000001,
                        "bin_end": 1209389372.1000001,
                        "count": 0
                      },
                      {
                        "bin_start": 1209389372.1000001,
                        "bin_end": 1382159282.4,
                        "count": 0
                      },
                      {
                        "bin_start": 1382159282.4,
                        "bin_end": 1554929192.7,
                        "count": 0
                      },
                      {
                        "bin_start": 1554929192.7,
                        "bin_end": 1727699103,
                        "count": 5
                      }
                    ]
                  }
                },
                {
                  "name": "volt",
                  "dtype": "float64",
                  "stats": {
                    "unique_count": 8,
                    "nan_count": 0,
                    "min": "0.0",
                    "max": "410533.0",
                    "histogram": [
                      {
                        "bin_start": 0,
                        "bin_end": 41053.3,
                        "count": 7
                      },
                      {
                        "bin_start": 41053.3,
                        "bin_end": 82106.6,
                        "count": 0
                      },
                      {
                        "bin_start": 82106.6,
                        "bin_end": 123159.90000000001,
                        "count": 0
                      },
                      {
                        "bin_start": 123159.90000000001,
                        "bin_end": 164213.2,
                        "count": 0
                      },
                      {
                        "bin_start": 164213.2,
                        "bin_end": 205266.5,
                        "count": 0
                      },
                      {
                        "bin_start": 205266.5,
                        "bin_end": 246319.80000000002,
                        "count": 0
                      },
                      {
                        "bin_start": 246319.80000000002,
                        "bin_end": 287373.10000000003,
                        "count": 0
                      },
                      {
                        "bin_start": 287373.10000000003,
                        "bin_end": 328426.4,
                        "count": 0
                      },
                      {
                        "bin_start": 328426.4,
                        "bin_end": 369479.7,
                        "count": 0
                      },
                      {
                        "bin_start": 369479.7,
                        "bin_end": 410533,
                        "count": 1
                      }
                    ]
                  }
                },
                {
                  "name": "_deepnote_index_column",
                  "dtype": "object"
                }
              ],
              "rows": [
                {
                  "dew": 410532,
                  "humidity": 410533,
                  "pressure": 410533,
                  "temperature": 410533,
                  "timestamp": 410533,
                  "volt": 410533,
                  "_deepnote_index_column": "count"
                },
                {
                  "dew": 25.001377627079002,
                  "humidity": 85.68210918488892,
                  "pressure": 1011.431180538471,
                  "temperature": 27.809860059970816,
                  "timestamp": 1715067052.0991833,
                  "volt": 4.0912200237252545,
                  "_deepnote_index_column": "mean"
                },
                {
                  "dew": 1.5143663378191492,
                  "humidity": 11.16710080303553,
                  "pressure": 2.807408518976463,
                  "temperature": 3.284796971923379,
                  "timestamp": 7802540.21172108,
                  "volt": 0.030870553798792895,
                  "_deepnote_index_column": "std"
                },
                {
                  "dew": 17.67,
                  "humidity": 0,
                  "pressure": 0,
                  "temperature": 0.02,
                  "timestamp": 0,
                  "volt": 0,
                  "_deepnote_index_column": "min"
                },
                {
                  "dew": 24.13,
                  "humidity": 76.9,
                  "pressure": 1010.19,
                  "temperature": 25.39,
                  "timestamp": 1708646596,
                  "volt": 4.07,
                  "_deepnote_index_column": "25%"
                },
                {
                  "dew": 25.07,
                  "humidity": 90.11,
                  "pressure": 1011.48,
                  "temperature": 26.91,
                  "timestamp": 1715169108,
                  "volt": 4.09,
                  "_deepnote_index_column": "50%"
                },
                {
                  "dew": 26.05,
                  "humidity": 94.76,
                  "pressure": 1012.77,
                  "temperature": 30.29,
                  "timestamp": 1721404096,
                  "volt": 4.12,
                  "_deepnote_index_column": "75%"
                },
                {
                  "dew": 29.7,
                  "humidity": 99.58,
                  "pressure": 1016.53,
                  "temperature": 41.12,
                  "timestamp": 1727699103,
                  "volt": 4.17,
                  "_deepnote_index_column": "max"
                }
              ]
            },
            "text/plain": "                 dew       humidity       pressure    temperature  \\\ncount  410532.000000  410533.000000  410533.000000  410533.000000   \nmean       25.001378      85.682109    1011.431181      27.809860   \nstd         1.514366      11.167101       2.807409       3.284797   \nmin        17.670000       0.000000       0.000000       0.020000   \n25%        24.130000      76.900000    1010.190000      25.390000   \n50%        25.070000      90.110000    1011.480000      26.910000   \n75%        26.050000      94.760000    1012.770000      30.290000   \nmax        29.700000      99.580000    1016.530000      41.120000   \n\n          timestamp           volt  \ncount  4.105330e+05  410533.000000  \nmean   1.715067e+09       4.091220  \nstd    7.802540e+06       0.030871  \nmin    0.000000e+00       0.000000  \n25%    1.708647e+09       4.070000  \n50%    1.715169e+09       4.090000  \n75%    1.721404e+09       4.120000  \nmax    1.727699e+09       4.170000  ",
            "text/html": "<div>\n<style scoped>\n    .dataframe tbody tr th:only-of-type {\n        vertical-align: middle;\n    }\n\n    .dataframe tbody tr th {\n        vertical-align: top;\n    }\n\n    .dataframe thead th {\n        text-align: right;\n    }\n</style>\n<table border=\"1\" class=\"dataframe\">\n  <thead>\n    <tr style=\"text-align: right;\">\n      <th></th>\n      <th>dew</th>\n      <th>humidity</th>\n      <th>pressure</th>\n      <th>temperature</th>\n      <th>timestamp</th>\n      <th>volt</th>\n    </tr>\n  </thead>\n  <tbody>\n    <tr>\n      <th>count</th>\n      <td>410532.000000</td>\n      <td>410533.000000</td>\n      <td>410533.000000</td>\n      <td>410533.000000</td>\n      <td>4.105330e+05</td>\n      <td>410533.000000</td>\n    </tr>\n    <tr>\n      <th>mean</th>\n      <td>25.001378</td>\n      <td>85.682109</td>\n      <td>1011.431181</td>\n      <td>27.809860</td>\n      <td>1.715067e+09</td>\n      <td>4.091220</td>\n    </tr>\n    <tr>\n      <th>std</th>\n      <td>1.514366</td>\n      <td>11.167101</td>\n      <td>2.807409</td>\n      <td>3.284797</td>\n      <td>7.802540e+06</td>\n      <td>0.030871</td>\n    </tr>\n    <tr>\n      <th>min</th>\n      <td>17.670000</td>\n      <td>0.000000</td>\n      <td>0.000000</td>\n      <td>0.020000</td>\n      <td>0.000000e+00</td>\n      <td>0.000000</td>\n    </tr>\n    <tr>\n      <th>25%</th>\n      <td>24.130000</td>\n      <td>76.900000</td>\n      <td>1010.190000</td>\n      <td>25.390000</td>\n      <td>1.708647e+09</td>\n      <td>4.070000</td>\n    </tr>\n    <tr>\n      <th>50%</th>\n      <td>25.070000</td>\n      <td>90.110000</td>\n      <td>1011.480000</td>\n      <td>26.910000</td>\n      <td>1.715169e+09</td>\n      <td>4.090000</td>\n    </tr>\n    <tr>\n      <th>75%</th>\n      <td>26.050000</td>\n      <td>94.760000</td>\n      <td>1012.770000</td>\n      <td>30.290000</td>\n      <td>1.721404e+09</td>\n      <td>4.120000</td>\n    </tr>\n    <tr>\n      <th>max</th>\n      <td>29.700000</td>\n      <td>99.580000</td>\n      <td>1016.530000</td>\n      <td>41.120000</td>\n      <td>1.727699e+09</td>\n      <td>4.170000</td>\n    </tr>\n  </tbody>\n</table>\n</div>"
          },
          "metadata": {}
        }
      ],
      "outputs_reference": null,
      "execution_count": 4,
      "block_group": "24f828004787432ca3d4d8e83578b54c",
      "content_dependencies": null
    },
    {
      "cell_type": "code",
      "source": "cuacaT['timestamp']= cuacaT['timestamp'].astype(int)\ncuacaT.tail(30)",
      "metadata": {
        "source_hash": "13b19834",
        "execution_start": 1727699378451,
        "execution_millis": 531,
        "deepnote_to_be_reexecuted": false,
        "cell_id": "1fec3e8c7dd24909a3352c6006da3129",
        "deepnote_cell_type": "code"
      },
      "outputs": [
        {
          "output_type": "execute_result",
          "execution_count": 5,
          "data": {
            "application/vnd.deepnote.dataframe.v3+json": {
              "column_count": 6,
              "row_count": 30,
              "columns": [
                {
                  "name": "dew",
                  "dtype": "float64",
                  "stats": {
                    "unique_count": 11,
                    "nan_count": 0,
                    "min": "25.88",
                    "max": "26.04",
                    "histogram": [
                      {
                        "bin_start": 25.88,
                        "bin_end": 25.896,
                        "count": 2
                      },
                      {
                        "bin_start": 25.896,
                        "bin_end": 25.912,
                        "count": 4
                      },
                      {
                        "bin_start": 25.912,
                        "bin_end": 25.927999999999997,
                        "count": 0
                      },
                      {
                        "bin_start": 25.927999999999997,
                        "bin_end": 25.944,
                        "count": 3
                      },
                      {
                        "bin_start": 25.944,
                        "bin_end": 25.96,
                        "count": 0
                      },
                      {
                        "bin_start": 25.96,
                        "bin_end": 25.976,
                        "count": 1
                      },
                      {
                        "bin_start": 25.976,
                        "bin_end": 25.991999999999997,
                        "count": 6
                      },
                      {
                        "bin_start": 25.991999999999997,
                        "bin_end": 26.008,
                        "count": 5
                      },
                      {
                        "bin_start": 26.008,
                        "bin_end": 26.024,
                        "count": 6
                      },
                      {
                        "bin_start": 26.024,
                        "bin_end": 26.04,
                        "count": 3
                      }
                    ]
                  }
                },
                {
                  "name": "humidity",
                  "dtype": "float64",
                  "stats": {
                    "unique_count": 26,
                    "nan_count": 0,
                    "min": "87.79",
                    "max": "88.64",
                    "histogram": [
                      {
                        "bin_start": 87.79,
                        "bin_end": 87.875,
                        "count": 5
                      },
                      {
                        "bin_start": 87.875,
                        "bin_end": 87.96000000000001,
                        "count": 0
                      },
                      {
                        "bin_start": 87.96000000000001,
                        "bin_end": 88.045,
                        "count": 1
                      },
                      {
                        "bin_start": 88.045,
                        "bin_end": 88.13000000000001,
                        "count": 2
                      },
                      {
                        "bin_start": 88.13000000000001,
                        "bin_end": 88.215,
                        "count": 1
                      },
                      {
                        "bin_start": 88.215,
                        "bin_end": 88.3,
                        "count": 5
                      },
                      {
                        "bin_start": 88.3,
                        "bin_end": 88.385,
                        "count": 6
                      },
                      {
                        "bin_start": 88.385,
                        "bin_end": 88.47,
                        "count": 6
                      },
                      {
                        "bin_start": 88.47,
                        "bin_end": 88.555,
                        "count": 2
                      },
                      {
                        "bin_start": 88.555,
                        "bin_end": 88.64,
                        "count": 2
                      }
                    ]
                  }
                },
                {
                  "name": "pressure",
                  "dtype": "float64",
                  "stats": {
                    "unique_count": 17,
                    "nan_count": 0,
                    "min": "1011.71",
                    "max": "1012.04",
                    "histogram": [
                      {
                        "bin_start": 1011.71,
                        "bin_end": 1011.743,
                        "count": 8
                      },
                      {
                        "bin_start": 1011.743,
                        "bin_end": 1011.7760000000001,
                        "count": 7
                      },
                      {
                        "bin_start": 1011.7760000000001,
                        "bin_end": 1011.809,
                        "count": 2
                      },
                      {
                        "bin_start": 1011.809,
                        "bin_end": 1011.842,
                        "count": 7
                      },
                      {
                        "bin_start": 1011.842,
                        "bin_end": 1011.875,
                        "count": 0
                      },
                      {
                        "bin_start": 1011.875,
                        "bin_end": 1011.908,
                        "count": 1
                      },
                      {
                        "bin_start": 1011.908,
                        "bin_end": 1011.941,
                        "count": 2
                      },
                      {
                        "bin_start": 1011.941,
                        "bin_end": 1011.9739999999999,
                        "count": 1
                      },
                      {
                        "bin_start": 1011.9739999999999,
                        "bin_end": 1012.007,
                        "count": 1
                      },
                      {
                        "bin_start": 1012.007,
                        "bin_end": 1012.04,
                        "count": 1
                      }
                    ]
                  }
                },
                {
                  "name": "temperature",
                  "dtype": "float64",
                  "stats": {
                    "unique_count": 7,
                    "nan_count": 0,
                    "min": "28.07",
                    "max": "28.14",
                    "histogram": [
                      {
                        "bin_start": 28.07,
                        "bin_end": 28.077,
                        "count": 4
                      },
                      {
                        "bin_start": 28.077,
                        "bin_end": 28.084,
                        "count": 0
                      },
                      {
                        "bin_start": 28.084,
                        "bin_end": 28.091,
                        "count": 6
                      },
                      {
                        "bin_start": 28.091,
                        "bin_end": 28.098,
                        "count": 0
                      },
                      {
                        "bin_start": 28.098,
                        "bin_end": 28.105,
                        "count": 5
                      },
                      {
                        "bin_start": 28.105,
                        "bin_end": 28.112000000000002,
                        "count": 5
                      },
                      {
                        "bin_start": 28.112000000000002,
                        "bin_end": 28.119,
                        "count": 0
                      },
                      {
                        "bin_start": 28.119,
                        "bin_end": 28.126,
                        "count": 4
                      },
                      {
                        "bin_start": 28.126,
                        "bin_end": 28.133,
                        "count": 4
                      },
                      {
                        "bin_start": 28.133,
                        "bin_end": 28.14,
                        "count": 2
                      }
                    ]
                  }
                },
                {
                  "name": "timestamp",
                  "dtype": "int64",
                  "stats": {
                    "unique_count": 30,
                    "nan_count": 0,
                    "min": "1727697363",
                    "max": "1727699103",
                    "histogram": [
                      {
                        "bin_start": 1727697363,
                        "bin_end": 1727697537,
                        "count": 3
                      },
                      {
                        "bin_start": 1727697537,
                        "bin_end": 1727697711,
                        "count": 3
                      },
                      {
                        "bin_start": 1727697711,
                        "bin_end": 1727697885,
                        "count": 3
                      },
                      {
                        "bin_start": 1727697885,
                        "bin_end": 1727698059,
                        "count": 3
                      },
                      {
                        "bin_start": 1727698059,
                        "bin_end": 1727698233,
                        "count": 3
                      },
                      {
                        "bin_start": 1727698233,
                        "bin_end": 1727698407,
                        "count": 3
                      },
                      {
                        "bin_start": 1727698407,
                        "bin_end": 1727698581,
                        "count": 3
                      },
                      {
                        "bin_start": 1727698581,
                        "bin_end": 1727698755,
                        "count": 3
                      },
                      {
                        "bin_start": 1727698755,
                        "bin_end": 1727698929,
                        "count": 3
                      },
                      {
                        "bin_start": 1727698929,
                        "bin_end": 1727699103,
                        "count": 3
                      }
                    ]
                  }
                },
                {
                  "name": "volt",
                  "dtype": "float64",
                  "stats": {
                    "unique_count": 2,
                    "nan_count": 0,
                    "min": "4.05",
                    "max": "4.06",
                    "histogram": [
                      {
                        "bin_start": 4.05,
                        "bin_end": 4.051,
                        "count": 25
                      },
                      {
                        "bin_start": 4.051,
                        "bin_end": 4.052,
                        "count": 0
                      },
                      {
                        "bin_start": 4.052,
                        "bin_end": 4.053,
                        "count": 0
                      },
                      {
                        "bin_start": 4.053,
                        "bin_end": 4.053999999999999,
                        "count": 0
                      },
                      {
                        "bin_start": 4.053999999999999,
                        "bin_end": 4.055,
                        "count": 0
                      },
                      {
                        "bin_start": 4.055,
                        "bin_end": 4.056,
                        "count": 0
                      },
                      {
                        "bin_start": 4.056,
                        "bin_end": 4.0569999999999995,
                        "count": 0
                      },
                      {
                        "bin_start": 4.0569999999999995,
                        "bin_end": 4.058,
                        "count": 0
                      },
                      {
                        "bin_start": 4.058,
                        "bin_end": 4.058999999999999,
                        "count": 0
                      },
                      {
                        "bin_start": 4.058999999999999,
                        "bin_end": 4.06,
                        "count": 5
                      }
                    ]
                  }
                },
                {
                  "name": "_deepnote_index_column",
                  "dtype": "int64"
                }
              ],
              "rows": [
                {
                  "dew": 25.9,
                  "humidity": 87.83,
                  "pressure": 1011.71,
                  "temperature": 28.11,
                  "timestamp": 1727697363,
                  "volt": 4.05,
                  "_deepnote_index_column": 1727697363
                },
                {
                  "dew": 25.9,
                  "humidity": 87.8,
                  "pressure": 1011.74,
                  "temperature": 28.12,
                  "timestamp": 1727697423,
                  "volt": 4.05,
                  "_deepnote_index_column": 1727697423
                },
                {
                  "dew": 25.88,
                  "humidity": 87.79,
                  "pressure": 1011.74,
                  "temperature": 28.1,
                  "timestamp": 1727697483,
                  "volt": 4.05,
                  "_deepnote_index_column": 1727697483
                },
                {
                  "dew": 25.9,
                  "humidity": 87.79,
                  "pressure": 1011.75,
                  "temperature": 28.12,
                  "timestamp": 1727697544,
                  "volt": 4.05,
                  "_deepnote_index_column": 1727697544
                },
                {
                  "dew": 25.89,
                  "humidity": 87.85,
                  "pressure": 1011.73,
                  "temperature": 28.1,
                  "timestamp": 1727697603,
                  "volt": 4.05,
                  "_deepnote_index_column": 1727697603
                },
                {
                  "dew": 25.94,
                  "humidity": 88.07,
                  "pressure": 1011.74,
                  "temperature": 28.1,
                  "timestamp": 1727697663,
                  "volt": 4.05,
                  "_deepnote_index_column": 1727697663
                },
                {
                  "dew": 25.9,
                  "humidity": 88.04,
                  "pressure": 1011.74,
                  "temperature": 28.07,
                  "timestamp": 1727697723,
                  "volt": 4.06,
                  "_deepnote_index_column": 1727697723
                },
                {
                  "dew": 25.94,
                  "humidity": 88.15,
                  "pressure": 1011.74,
                  "temperature": 28.09,
                  "timestamp": 1727697783,
                  "volt": 4.05,
                  "_deepnote_index_column": 1727697783
                },
                {
                  "dew": 25.94,
                  "humidity": 88.13,
                  "pressure": 1011.75,
                  "temperature": 28.09,
                  "timestamp": 1727697843,
                  "volt": 4.05,
                  "_deepnote_index_column": 1727697843
                },
                {
                  "dew": 25.99,
                  "humidity": 88.27,
                  "pressure": 1011.76,
                  "temperature": 28.11,
                  "timestamp": 1727697903,
                  "volt": 4.06,
                  "_deepnote_index_column": 1727697903
                }
              ]
            },
            "text/plain": "              dew  humidity  pressure  temperature   timestamp  volt\n1727697363  25.90     87.83   1011.71        28.11  1727697363  4.05\n1727697423  25.90     87.80   1011.74        28.12  1727697423  4.05\n1727697483  25.88     87.79   1011.74        28.10  1727697483  4.05\n1727697544  25.90     87.79   1011.75        28.12  1727697544  4.05\n1727697603  25.89     87.85   1011.73        28.10  1727697603  4.05\n1727697663  25.94     88.07   1011.74        28.10  1727697663  4.05\n1727697723  25.90     88.04   1011.74        28.07  1727697723  4.06\n1727697783  25.94     88.15   1011.74        28.09  1727697783  4.05\n1727697843  25.94     88.13   1011.75        28.09  1727697843  4.05\n1727697903  25.99     88.27   1011.76        28.11  1727697903  4.06\n1727697963  26.00     88.27   1011.78        28.13  1727697963  4.05\n1727698023  25.98     88.22   1011.76        28.11  1727698023  4.05\n1727698083  25.99     88.23   1011.76        28.12  1727698083  4.05\n1727698143  26.02     88.32   1011.77        28.14  1727698143  4.05\n1727698204  26.00     88.36   1011.72        28.11  1727698204  4.05\n1727698263  26.00     88.29   1011.83        28.12  1727698263  4.05\n1727698323  26.04     88.41   1011.77        28.14  1727698323  4.06\n1727698383  26.04     88.43   1011.81        28.13  1727698383  4.05\n1727698444  26.04     88.43   1011.83        28.13  1727698444  4.05\n1727698503  26.00     88.40   1011.79        28.10  1727698503  4.05\n1727698564  26.02     88.34   1011.81        28.13  1727698564  4.05\n1727698623  25.98     88.33   1011.83        28.09  1727698623  4.05\n1727698684  26.01     88.39   1011.81        28.11  1727698684  4.05\n1727698743  25.99     88.40   1011.83        28.09  1727698743  4.05\n1727698804  25.97     88.31   1011.88        28.09  1727698804  4.05\n1727698864  25.98     88.30   1011.91        28.10  1727698864  4.05\n1727698924  26.01     88.49   1011.92        28.09  1727698924  4.05\n1727698983  26.00     88.54   1011.95        28.07  1727698983  4.05\n1727699044  26.01     88.61   1011.98        28.07  1727699044  4.06\n1727699103  26.02     88.64   1012.04        28.07  1727699103  4.06",
            "text/html": "<div>\n<style scoped>\n    .dataframe tbody tr th:only-of-type {\n        vertical-align: middle;\n    }\n\n    .dataframe tbody tr th {\n        vertical-align: top;\n    }\n\n    .dataframe thead th {\n        text-align: right;\n    }\n</style>\n<table border=\"1\" class=\"dataframe\">\n  <thead>\n    <tr style=\"text-align: right;\">\n      <th></th>\n      <th>dew</th>\n      <th>humidity</th>\n      <th>pressure</th>\n      <th>temperature</th>\n      <th>timestamp</th>\n      <th>volt</th>\n    </tr>\n  </thead>\n  <tbody>\n    <tr>\n      <th>1727697363</th>\n      <td>25.90</td>\n      <td>87.83</td>\n      <td>1011.71</td>\n      <td>28.11</td>\n      <td>1727697363</td>\n      <td>4.05</td>\n    </tr>\n    <tr>\n      <th>1727697423</th>\n      <td>25.90</td>\n      <td>87.80</td>\n      <td>1011.74</td>\n      <td>28.12</td>\n      <td>1727697423</td>\n      <td>4.05</td>\n    </tr>\n    <tr>\n      <th>1727697483</th>\n      <td>25.88</td>\n      <td>87.79</td>\n      <td>1011.74</td>\n      <td>28.10</td>\n      <td>1727697483</td>\n      <td>4.05</td>\n    </tr>\n    <tr>\n      <th>1727697544</th>\n      <td>25.90</td>\n      <td>87.79</td>\n      <td>1011.75</td>\n      <td>28.12</td>\n      <td>1727697544</td>\n      <td>4.05</td>\n    </tr>\n    <tr>\n      <th>1727697603</th>\n      <td>25.89</td>\n      <td>87.85</td>\n      <td>1011.73</td>\n      <td>28.10</td>\n      <td>1727697603</td>\n      <td>4.05</td>\n    </tr>\n    <tr>\n      <th>1727697663</th>\n      <td>25.94</td>\n      <td>88.07</td>\n      <td>1011.74</td>\n      <td>28.10</td>\n      <td>1727697663</td>\n      <td>4.05</td>\n    </tr>\n    <tr>\n      <th>1727697723</th>\n      <td>25.90</td>\n      <td>88.04</td>\n      <td>1011.74</td>\n      <td>28.07</td>\n      <td>1727697723</td>\n      <td>4.06</td>\n    </tr>\n    <tr>\n      <th>1727697783</th>\n      <td>25.94</td>\n      <td>88.15</td>\n      <td>1011.74</td>\n      <td>28.09</td>\n      <td>1727697783</td>\n      <td>4.05</td>\n    </tr>\n    <tr>\n      <th>1727697843</th>\n      <td>25.94</td>\n      <td>88.13</td>\n      <td>1011.75</td>\n      <td>28.09</td>\n      <td>1727697843</td>\n      <td>4.05</td>\n    </tr>\n    <tr>\n      <th>1727697903</th>\n      <td>25.99</td>\n      <td>88.27</td>\n      <td>1011.76</td>\n      <td>28.11</td>\n      <td>1727697903</td>\n      <td>4.06</td>\n    </tr>\n    <tr>\n      <th>1727697963</th>\n      <td>26.00</td>\n      <td>88.27</td>\n      <td>1011.78</td>\n      <td>28.13</td>\n      <td>1727697963</td>\n      <td>4.05</td>\n    </tr>\n    <tr>\n      <th>1727698023</th>\n      <td>25.98</td>\n      <td>88.22</td>\n      <td>1011.76</td>\n      <td>28.11</td>\n      <td>1727698023</td>\n      <td>4.05</td>\n    </tr>\n    <tr>\n      <th>1727698083</th>\n      <td>25.99</td>\n      <td>88.23</td>\n      <td>1011.76</td>\n      <td>28.12</td>\n      <td>1727698083</td>\n      <td>4.05</td>\n    </tr>\n    <tr>\n      <th>1727698143</th>\n      <td>26.02</td>\n      <td>88.32</td>\n      <td>1011.77</td>\n      <td>28.14</td>\n      <td>1727698143</td>\n      <td>4.05</td>\n    </tr>\n    <tr>\n      <th>1727698204</th>\n      <td>26.00</td>\n      <td>88.36</td>\n      <td>1011.72</td>\n      <td>28.11</td>\n      <td>1727698204</td>\n      <td>4.05</td>\n    </tr>\n    <tr>\n      <th>1727698263</th>\n      <td>26.00</td>\n      <td>88.29</td>\n      <td>1011.83</td>\n      <td>28.12</td>\n      <td>1727698263</td>\n      <td>4.05</td>\n    </tr>\n    <tr>\n      <th>1727698323</th>\n      <td>26.04</td>\n      <td>88.41</td>\n      <td>1011.77</td>\n      <td>28.14</td>\n      <td>1727698323</td>\n      <td>4.06</td>\n    </tr>\n    <tr>\n      <th>1727698383</th>\n      <td>26.04</td>\n      <td>88.43</td>\n      <td>1011.81</td>\n      <td>28.13</td>\n      <td>1727698383</td>\n      <td>4.05</td>\n    </tr>\n    <tr>\n      <th>1727698444</th>\n      <td>26.04</td>\n      <td>88.43</td>\n      <td>1011.83</td>\n      <td>28.13</td>\n      <td>1727698444</td>\n      <td>4.05</td>\n    </tr>\n    <tr>\n      <th>1727698503</th>\n      <td>26.00</td>\n      <td>88.40</td>\n      <td>1011.79</td>\n      <td>28.10</td>\n      <td>1727698503</td>\n      <td>4.05</td>\n    </tr>\n    <tr>\n      <th>1727698564</th>\n      <td>26.02</td>\n      <td>88.34</td>\n      <td>1011.81</td>\n      <td>28.13</td>\n      <td>1727698564</td>\n      <td>4.05</td>\n    </tr>\n    <tr>\n      <th>1727698623</th>\n      <td>25.98</td>\n      <td>88.33</td>\n      <td>1011.83</td>\n      <td>28.09</td>\n      <td>1727698623</td>\n      <td>4.05</td>\n    </tr>\n    <tr>\n      <th>1727698684</th>\n      <td>26.01</td>\n      <td>88.39</td>\n      <td>1011.81</td>\n      <td>28.11</td>\n      <td>1727698684</td>\n      <td>4.05</td>\n    </tr>\n    <tr>\n      <th>1727698743</th>\n      <td>25.99</td>\n      <td>88.40</td>\n      <td>1011.83</td>\n      <td>28.09</td>\n      <td>1727698743</td>\n      <td>4.05</td>\n    </tr>\n    <tr>\n      <th>1727698804</th>\n      <td>25.97</td>\n      <td>88.31</td>\n      <td>1011.88</td>\n      <td>28.09</td>\n      <td>1727698804</td>\n      <td>4.05</td>\n    </tr>\n    <tr>\n      <th>1727698864</th>\n      <td>25.98</td>\n      <td>88.30</td>\n      <td>1011.91</td>\n      <td>28.10</td>\n      <td>1727698864</td>\n      <td>4.05</td>\n    </tr>\n    <tr>\n      <th>1727698924</th>\n      <td>26.01</td>\n      <td>88.49</td>\n      <td>1011.92</td>\n      <td>28.09</td>\n      <td>1727698924</td>\n      <td>4.05</td>\n    </tr>\n    <tr>\n      <th>1727698983</th>\n      <td>26.00</td>\n      <td>88.54</td>\n      <td>1011.95</td>\n      <td>28.07</td>\n      <td>1727698983</td>\n      <td>4.05</td>\n    </tr>\n    <tr>\n      <th>1727699044</th>\n      <td>26.01</td>\n      <td>88.61</td>\n      <td>1011.98</td>\n      <td>28.07</td>\n      <td>1727699044</td>\n      <td>4.06</td>\n    </tr>\n    <tr>\n      <th>1727699103</th>\n      <td>26.02</td>\n      <td>88.64</td>\n      <td>1012.04</td>\n      <td>28.07</td>\n      <td>1727699103</td>\n      <td>4.06</td>\n    </tr>\n  </tbody>\n</table>\n</div>"
          },
          "metadata": {}
        }
      ],
      "outputs_reference": null,
      "execution_count": 5,
      "block_group": "cf8602faca2a46889f474d747f29852f",
      "content_dependencies": null
    },
    {
      "cell_type": "code",
      "source": "cuacaT['timestamp'] = pd.to_datetime(cuacaT['timestamp'], unit='s').dt.strftime('%Y-%m-%d %H:%M:%S')\ncuacaT.tail(10)",
      "metadata": {
        "source_hash": "38051248",
        "execution_start": 1727699378497,
        "execution_millis": 486,
        "deepnote_table_state": {
          "sortBy": [],
          "filters": [],
          "pageSize": 100,
          "pageIndex": 0,
          "conditionalFilters": []
        },
        "deepnote_table_loading": false,
        "deepnote_to_be_reexecuted": false,
        "cell_id": "adc0c565cab546559c6806e68c50b000",
        "deepnote_cell_type": "code"
      },
      "outputs": [
        {
          "output_type": "execute_result",
          "execution_count": 6,
          "data": {
            "application/vnd.deepnote.dataframe.v3+json": {
              "column_count": 6,
              "row_count": 10,
              "columns": [
                {
                  "name": "dew",
                  "dtype": "float64",
                  "stats": {
                    "unique_count": 6,
                    "nan_count": 0,
                    "min": "25.97",
                    "max": "26.02",
                    "histogram": [
                      {
                        "bin_start": 25.97,
                        "bin_end": 25.974999999999998,
                        "count": 1
                      },
                      {
                        "bin_start": 25.974999999999998,
                        "bin_end": 25.98,
                        "count": 0
                      },
                      {
                        "bin_start": 25.98,
                        "bin_end": 25.985,
                        "count": 2
                      },
                      {
                        "bin_start": 25.985,
                        "bin_end": 25.99,
                        "count": 0
                      },
                      {
                        "bin_start": 25.99,
                        "bin_end": 25.994999999999997,
                        "count": 1
                      },
                      {
                        "bin_start": 25.994999999999997,
                        "bin_end": 26,
                        "count": 0
                      },
                      {
                        "bin_start": 26,
                        "bin_end": 26.005,
                        "count": 1
                      },
                      {
                        "bin_start": 26.005,
                        "bin_end": 26.009999999999998,
                        "count": 0
                      },
                      {
                        "bin_start": 26.009999999999998,
                        "bin_end": 26.015,
                        "count": 3
                      },
                      {
                        "bin_start": 26.015,
                        "bin_end": 26.02,
                        "count": 2
                      }
                    ]
                  }
                },
                {
                  "name": "humidity",
                  "dtype": "float64",
                  "stats": {
                    "unique_count": 10,
                    "nan_count": 0,
                    "min": "88.3",
                    "max": "88.64",
                    "histogram": [
                      {
                        "bin_start": 88.3,
                        "bin_end": 88.334,
                        "count": 3
                      },
                      {
                        "bin_start": 88.334,
                        "bin_end": 88.368,
                        "count": 1
                      },
                      {
                        "bin_start": 88.368,
                        "bin_end": 88.402,
                        "count": 2
                      },
                      {
                        "bin_start": 88.402,
                        "bin_end": 88.43599999999999,
                        "count": 0
                      },
                      {
                        "bin_start": 88.43599999999999,
                        "bin_end": 88.47,
                        "count": 0
                      },
                      {
                        "bin_start": 88.47,
                        "bin_end": 88.504,
                        "count": 1
                      },
                      {
                        "bin_start": 88.504,
                        "bin_end": 88.538,
                        "count": 0
                      },
                      {
                        "bin_start": 88.538,
                        "bin_end": 88.572,
                        "count": 1
                      },
                      {
                        "bin_start": 88.572,
                        "bin_end": 88.606,
                        "count": 0
                      },
                      {
                        "bin_start": 88.606,
                        "bin_end": 88.64,
                        "count": 2
                      }
                    ]
                  }
                },
                {
                  "name": "pressure",
                  "dtype": "float64",
                  "stats": {
                    "unique_count": 8,
                    "nan_count": 0,
                    "min": "1011.81",
                    "max": "1012.04",
                    "histogram": [
                      {
                        "bin_start": 1011.81,
                        "bin_end": 1011.833,
                        "count": 4
                      },
                      {
                        "bin_start": 1011.833,
                        "bin_end": 1011.856,
                        "count": 0
                      },
                      {
                        "bin_start": 1011.856,
                        "bin_end": 1011.8789999999999,
                        "count": 0
                      },
                      {
                        "bin_start": 1011.8789999999999,
                        "bin_end": 1011.9019999999999,
                        "count": 1
                      },
                      {
                        "bin_start": 1011.9019999999999,
                        "bin_end": 1011.925,
                        "count": 2
                      },
                      {
                        "bin_start": 1011.925,
                        "bin_end": 1011.948,
                        "count": 0
                      },
                      {
                        "bin_start": 1011.948,
                        "bin_end": 1011.971,
                        "count": 1
                      },
                      {
                        "bin_start": 1011.971,
                        "bin_end": 1011.9939999999999,
                        "count": 1
                      },
                      {
                        "bin_start": 1011.9939999999999,
                        "bin_end": 1012.0169999999999,
                        "count": 0
                      },
                      {
                        "bin_start": 1012.0169999999999,
                        "bin_end": 1012.04,
                        "count": 1
                      }
                    ]
                  }
                },
                {
                  "name": "temperature",
                  "dtype": "float64",
                  "stats": {
                    "unique_count": 5,
                    "nan_count": 0,
                    "min": "28.07",
                    "max": "28.13",
                    "histogram": [
                      {
                        "bin_start": 28.07,
                        "bin_end": 28.076,
                        "count": 3
                      },
                      {
                        "bin_start": 28.076,
                        "bin_end": 28.082,
                        "count": 0
                      },
                      {
                        "bin_start": 28.082,
                        "bin_end": 28.088,
                        "count": 0
                      },
                      {
                        "bin_start": 28.088,
                        "bin_end": 28.094,
                        "count": 4
                      },
                      {
                        "bin_start": 28.094,
                        "bin_end": 28.1,
                        "count": 0
                      },
                      {
                        "bin_start": 28.1,
                        "bin_end": 28.105999999999998,
                        "count": 1
                      },
                      {
                        "bin_start": 28.105999999999998,
                        "bin_end": 28.112,
                        "count": 1
                      },
                      {
                        "bin_start": 28.112,
                        "bin_end": 28.118,
                        "count": 0
                      },
                      {
                        "bin_start": 28.118,
                        "bin_end": 28.124,
                        "count": 0
                      },
                      {
                        "bin_start": 28.124,
                        "bin_end": 28.13,
                        "count": 1
                      }
                    ]
                  }
                },
                {
                  "name": "timestamp",
                  "dtype": "object",
                  "stats": {
                    "unique_count": 10,
                    "nan_count": 0,
                    "categories": [
                      {
                        "name": "2024-09-30 12:16:04",
                        "count": 1
                      },
                      {
                        "name": "2024-09-30 12:17:03",
                        "count": 1
                      },
                      {
                        "name": "8 others",
                        "count": 8
                      }
                    ]
                  }
                },
                {
                  "name": "volt",
                  "dtype": "float64",
                  "stats": {
                    "unique_count": 2,
                    "nan_count": 0,
                    "min": "4.05",
                    "max": "4.06",
                    "histogram": [
                      {
                        "bin_start": 4.05,
                        "bin_end": 4.051,
                        "count": 8
                      },
                      {
                        "bin_start": 4.051,
                        "bin_end": 4.052,
                        "count": 0
                      },
                      {
                        "bin_start": 4.052,
                        "bin_end": 4.053,
                        "count": 0
                      },
                      {
                        "bin_start": 4.053,
                        "bin_end": 4.053999999999999,
                        "count": 0
                      },
                      {
                        "bin_start": 4.053999999999999,
                        "bin_end": 4.055,
                        "count": 0
                      },
                      {
                        "bin_start": 4.055,
                        "bin_end": 4.056,
                        "count": 0
                      },
                      {
                        "bin_start": 4.056,
                        "bin_end": 4.0569999999999995,
                        "count": 0
                      },
                      {
                        "bin_start": 4.0569999999999995,
                        "bin_end": 4.058,
                        "count": 0
                      },
                      {
                        "bin_start": 4.058,
                        "bin_end": 4.058999999999999,
                        "count": 0
                      },
                      {
                        "bin_start": 4.058999999999999,
                        "bin_end": 4.06,
                        "count": 2
                      }
                    ]
                  }
                },
                {
                  "name": "_deepnote_index_column",
                  "dtype": "int64"
                }
              ],
              "rows": [
                {
                  "dew": 26.02,
                  "humidity": 88.34,
                  "pressure": 1011.81,
                  "temperature": 28.13,
                  "timestamp": "2024-09-30 12:16:04",
                  "volt": 4.05,
                  "_deepnote_index_column": 1727698564
                },
                {
                  "dew": 25.98,
                  "humidity": 88.33,
                  "pressure": 1011.83,
                  "temperature": 28.09,
                  "timestamp": "2024-09-30 12:17:03",
                  "volt": 4.05,
                  "_deepnote_index_column": 1727698623
                },
                {
                  "dew": 26.01,
                  "humidity": 88.39,
                  "pressure": 1011.81,
                  "temperature": 28.11,
                  "timestamp": "2024-09-30 12:18:04",
                  "volt": 4.05,
                  "_deepnote_index_column": 1727698684
                },
                {
                  "dew": 25.99,
                  "humidity": 88.4,
                  "pressure": 1011.83,
                  "temperature": 28.09,
                  "timestamp": "2024-09-30 12:19:03",
                  "volt": 4.05,
                  "_deepnote_index_column": 1727698743
                },
                {
                  "dew": 25.97,
                  "humidity": 88.31,
                  "pressure": 1011.88,
                  "temperature": 28.09,
                  "timestamp": "2024-09-30 12:20:04",
                  "volt": 4.05,
                  "_deepnote_index_column": 1727698804
                },
                {
                  "dew": 25.98,
                  "humidity": 88.3,
                  "pressure": 1011.91,
                  "temperature": 28.1,
                  "timestamp": "2024-09-30 12:21:04",
                  "volt": 4.05,
                  "_deepnote_index_column": 1727698864
                },
                {
                  "dew": 26.01,
                  "humidity": 88.49,
                  "pressure": 1011.92,
                  "temperature": 28.09,
                  "timestamp": "2024-09-30 12:22:04",
                  "volt": 4.05,
                  "_deepnote_index_column": 1727698924
                },
                {
                  "dew": 26,
                  "humidity": 88.54,
                  "pressure": 1011.95,
                  "temperature": 28.07,
                  "timestamp": "2024-09-30 12:23:03",
                  "volt": 4.05,
                  "_deepnote_index_column": 1727698983
                },
                {
                  "dew": 26.01,
                  "humidity": 88.61,
                  "pressure": 1011.98,
                  "temperature": 28.07,
                  "timestamp": "2024-09-30 12:24:04",
                  "volt": 4.06,
                  "_deepnote_index_column": 1727699044
                },
                {
                  "dew": 26.02,
                  "humidity": 88.64,
                  "pressure": 1012.04,
                  "temperature": 28.07,
                  "timestamp": "2024-09-30 12:25:03",
                  "volt": 4.06,
                  "_deepnote_index_column": 1727699103
                }
              ]
            },
            "text/plain": "              dew  humidity  pressure  temperature            timestamp  volt\n1727698564  26.02     88.34   1011.81        28.13  2024-09-30 12:16:04  4.05\n1727698623  25.98     88.33   1011.83        28.09  2024-09-30 12:17:03  4.05\n1727698684  26.01     88.39   1011.81        28.11  2024-09-30 12:18:04  4.05\n1727698743  25.99     88.40   1011.83        28.09  2024-09-30 12:19:03  4.05\n1727698804  25.97     88.31   1011.88        28.09  2024-09-30 12:20:04  4.05\n1727698864  25.98     88.30   1011.91        28.10  2024-09-30 12:21:04  4.05\n1727698924  26.01     88.49   1011.92        28.09  2024-09-30 12:22:04  4.05\n1727698983  26.00     88.54   1011.95        28.07  2024-09-30 12:23:03  4.05\n1727699044  26.01     88.61   1011.98        28.07  2024-09-30 12:24:04  4.06\n1727699103  26.02     88.64   1012.04        28.07  2024-09-30 12:25:03  4.06",
            "text/html": "<div>\n<style scoped>\n    .dataframe tbody tr th:only-of-type {\n        vertical-align: middle;\n    }\n\n    .dataframe tbody tr th {\n        vertical-align: top;\n    }\n\n    .dataframe thead th {\n        text-align: right;\n    }\n</style>\n<table border=\"1\" class=\"dataframe\">\n  <thead>\n    <tr style=\"text-align: right;\">\n      <th></th>\n      <th>dew</th>\n      <th>humidity</th>\n      <th>pressure</th>\n      <th>temperature</th>\n      <th>timestamp</th>\n      <th>volt</th>\n    </tr>\n  </thead>\n  <tbody>\n    <tr>\n      <th>1727698564</th>\n      <td>26.02</td>\n      <td>88.34</td>\n      <td>1011.81</td>\n      <td>28.13</td>\n      <td>2024-09-30 12:16:04</td>\n      <td>4.05</td>\n    </tr>\n    <tr>\n      <th>1727698623</th>\n      <td>25.98</td>\n      <td>88.33</td>\n      <td>1011.83</td>\n      <td>28.09</td>\n      <td>2024-09-30 12:17:03</td>\n      <td>4.05</td>\n    </tr>\n    <tr>\n      <th>1727698684</th>\n      <td>26.01</td>\n      <td>88.39</td>\n      <td>1011.81</td>\n      <td>28.11</td>\n      <td>2024-09-30 12:18:04</td>\n      <td>4.05</td>\n    </tr>\n    <tr>\n      <th>1727698743</th>\n      <td>25.99</td>\n      <td>88.40</td>\n      <td>1011.83</td>\n      <td>28.09</td>\n      <td>2024-09-30 12:19:03</td>\n      <td>4.05</td>\n    </tr>\n    <tr>\n      <th>1727698804</th>\n      <td>25.97</td>\n      <td>88.31</td>\n      <td>1011.88</td>\n      <td>28.09</td>\n      <td>2024-09-30 12:20:04</td>\n      <td>4.05</td>\n    </tr>\n    <tr>\n      <th>1727698864</th>\n      <td>25.98</td>\n      <td>88.30</td>\n      <td>1011.91</td>\n      <td>28.10</td>\n      <td>2024-09-30 12:21:04</td>\n      <td>4.05</td>\n    </tr>\n    <tr>\n      <th>1727698924</th>\n      <td>26.01</td>\n      <td>88.49</td>\n      <td>1011.92</td>\n      <td>28.09</td>\n      <td>2024-09-30 12:22:04</td>\n      <td>4.05</td>\n    </tr>\n    <tr>\n      <th>1727698983</th>\n      <td>26.00</td>\n      <td>88.54</td>\n      <td>1011.95</td>\n      <td>28.07</td>\n      <td>2024-09-30 12:23:03</td>\n      <td>4.05</td>\n    </tr>\n    <tr>\n      <th>1727699044</th>\n      <td>26.01</td>\n      <td>88.61</td>\n      <td>1011.98</td>\n      <td>28.07</td>\n      <td>2024-09-30 12:24:04</td>\n      <td>4.06</td>\n    </tr>\n    <tr>\n      <th>1727699103</th>\n      <td>26.02</td>\n      <td>88.64</td>\n      <td>1012.04</td>\n      <td>28.07</td>\n      <td>2024-09-30 12:25:03</td>\n      <td>4.06</td>\n    </tr>\n  </tbody>\n</table>\n</div>"
          },
          "metadata": {}
        }
      ],
      "outputs_reference": null,
      "execution_count": 6,
      "block_group": "b9b4bbaf53d6434ebe69ee5af9d6505a",
      "content_dependencies": null
    },
    {
      "cell_type": "code",
      "source": "plt.rcParams[\"figure.figsize\"] = (12,6)\njam = 24\ndef plot_data(data, variable, color, label, last_n_points):\n    \"\"\"\n    Plots a line chart for a specific variable.\n    Parameters:\n    - data (dict): A dictionary containing the data.\n    - variable (str): The variable to plot.\n    - color (str): The color of the line.\n    - label (str): The label for the line in the legend.\n    - last_n_points (int): The number of last points to plot.\n    \"\"\"\n    plt.plot(data[variable].tail(last_n_points), color=color, label=label)\n\n# Contoh penggunaan fungsi\nplot_data(cuacaT, 'temperature', '#f68923', 'Suhu',60*jam)\nplot_data(cuacaT, 'dew', '#4278f5', 'Titik Embun',60*jam)\n\n# Menambahkan judul dan label sumbu\nplt.suptitle(\"Suhu Harian\")\nplt.xlabel('Time')\nplt.ylabel('Suhu')\n\n# Menambahkan legenda\nplt.legend()\n\n# Menyimpan gambar ke file 'grafik_Suhu.png'\nplt.savefig('grafik_Suhu.png')\n\n# Menampilkan plot\nplt.show()",
      "metadata": {
        "source_hash": "4155a31c",
        "execution_start": 1727699378917,
        "execution_millis": 662,
        "deepnote_to_be_reexecuted": false,
        "cell_id": "4750e4cfc8544a4988c20263566d16ea",
        "deepnote_cell_type": "code"
      },
      "outputs": [
        {
          "data": {
            "text/plain": "<Figure size 1200x600 with 1 Axes>",
            "image/png": "[encoded data removed]"
          },
          "metadata": {
            "image/png": {
              "width": 1006,
              "height": 593
            }
          },
          "output_type": "display_data"
        }
      ],
      "outputs_reference": null,
      "execution_count": 7,
      "block_group": "351e0b18bcba4dab9cac5aa50161f92c",
      "content_dependencies": null
    },
    {
      "cell_type": "code",
      "source": "import plotly.graph_objects as go\n\ntemperature = cuacaT['temperature'].tail(60*jam)\nhumidity = cuacaT['humidity'].tail(60*jam)\npressure = cuacaT['pressure'].tail(60*jam)\n\n# Create 3D scatter plot\nfig = go.Figure(data=[go.Scatter3d(\n    x=temperature,\n    y=humidity,\n    z=pressure,\n    mode='markers',\n    marker=dict(\n        size=5,\n        color=temperature,              # Color by temperature\n        colorscale='Viridis',           # Colormap\n        opacity=0.8\n    )\n)])\n\n# Add labels and title\nfig.update_layout(\n    scene=dict(\n        xaxis_title='Temperature (°C)',\n        yaxis_title='Humidity (%)',\n        zaxis_title='Pressure (hPa)'\n    ),\n    title='3D Scatter Plot of Temperature, Humidity, and Pressure'\n)\n\n# Show the plot\nfig.show()\n",
      "metadata": {
        "source_hash": "fb95101c",
        "execution_start": 1727699379580,
        "execution_millis": 258,
        "deepnote_to_be_reexecuted": false,
        "cell_id": "32f1a22a40d64f48b45470072e01a8c3",
        "deepnote_cell_type": "code"
      },
      "outputs": [
        {
          "data": {
            "text/html": "<html>\n<head><meta charset=\"utf-8\" /></head>\n<body>\n    <div>            <script src=\"https://cdnjs.cloudflare.com/ajax/libs/mathjax/2.7.5/MathJax.js?config=TeX-AMS-MML_SVG\"></script><script type=\"text/javascript\">if (window.MathJax && window.MathJax.Hub && window.MathJax.Hub.Config) {window.MathJax.Hub.Config({SVG: {font: \"STIX-Web\"}});}</script>                <script type=\"text/javascript\">window.PlotlyConfig = {MathJaxConfig: 'local'};</script>\n        <script charset=\"utf-8\" src=\"https://cdn.plot.ly/plotly-2.30.0.min.js\"></script>                <div id=\"46f748da-3480-4106-b97c-b5c9fc602519\" class=\"plotly-graph-div\" style=\"height:525px; width:100%;\"></div>            <script type=\"text/javascript\">                                    window.PLOTLYENV=window.PLOTLYENV || {};                                    if (document.getElementById(\"46f748da-3480-4106-b97c-b5c9fc602519\")) {                    Plotly.newPlot(                        \"46f748da-3480-4106-b97c-b5c9fc602519\",                        [{\"marker\":{\"color\":[28.39,28.34,28.36,28.36,28.34,28.35,28.33,28.35,28.37,28.35,28.34,28.31,28.28,28.31,28.25,28.28,28.28,28.29,28.28,28.28,28.26,28.27,28.27,28.26,28.26,28.28,28.28,28.24,28.24,28.22,28.23,28.26,28.2,28.22,28.23,28.22,28.19,28.19,28.16,28.15,28.14,28.15,28.16,28.12,28.11,28.1,28.1,28.1,28.1,28.08,28.07,28.06,28.09,28.05,28.08,28.06,28.03,28.05,28.05,28.02,28.01,28.03,28.03,28.02,27.99,27.98,27.96,27.95,27.9,27.89,27.89,27.88,27.83,27.86,27.86,27.86,27.84,27.83,27.83,27.84,27.84,27.86,27.82,27.8,27.77,27.76,27.76,27.76,27.7,27.7,27.68,27.65,27.67,27.64,27.64,27.63,27.62,27.63,27.66,27.64,27.64,27.65,27.64,27.62,27.6,27.62,27.57,27.56,27.57,27.55,27.52,27.55,27.55,27.51,27.52,27.53,27.49,27.49,27.48,27.47,27.47,27.5,27.49,27.49,27.49,27.5,27.51,27.5,27.48,27.52,27.51,27.54,27.51,27.51,27.52,27.49,27.49,27.5,27.49,27.49,27.49,27.48,27.48,27.5,27.48,27.49,27.49,27.49,27.48,27.46,27.48,27.48,27.46,27.47,27.46,27.49,27.49,27.49,27.52,27.51,27.48,27.51,27.48,27.49,27.49,27.47,27.48,27.51,27.51,27.52,27.5,27.48,27.51,27.51,27.51,27.51,27.51,27.52,27.48,27.49,27.49,27.49,27.52,27.52,27.51,27.51,27.53,27.46,27.46,27.48,27.46,27.42,27.43,27.44,27.44,27.42,27.42,27.43,27.42,27.4,27.39,27.38,27.38,27.39,27.4,27.37,27.34,27.33,27.33,27.32,27.3,27.31,27.33,27.33,27.32,27.34,27.34,27.34,27.32,27.32,27.33,27.29,27.29,27.29,27.3,27.26,27.26,27.25,27.28,27.28,27.27,27.25,27.25,27.24,27.23,27.22,27.21,27.21,27.2,27.2,27.16,27.16,27.17,27.15,27.16,27.14,27.14,27.12,27.11,27.12,27.07,27.06,27.04,27.03,27.01,26.99,26.99,26.98,26.97,26.98,26.97,26.97,26.96,26.96,26.95,26.95,26.94,26.94,26.91,26.91,26.92,26.92,26.91,26.9,26.87,26.85,26.86,26.87,26.85,26.85,26.82,26.84,26.82,26.81,26.79,26.79,26.79,26.78,26.77,26.76,26.77,26.76,26.75,26.73,26.72,26.72,26.71,26.68,26.67,26.68,26.69,26.67,26.66,26.66,26.62,26.63,26.63,26.65,26.62,26.59,26.61,26.58,26.57,26.61,26.58,26.55,26.54,26.56,26.54,26.52,26.55,26.52,26.53,26.5,26.51,26.49,26.48,26.47,26.46,26.5,26.45,26.44,26.43,26.43,26.4,26.4,26.39,26.38,26.35,26.36,26.35,26.33,26.35,26.33,26.34,26.36,26.34,26.32,26.31,26.29,26.28,26.27,26.26,26.27,26.23,26.24,26.23,26.23,26.23,26.23,26.24,26.23,26.21,26.2,26.19,26.19,26.16,26.18,26.15,26.15,26.15,26.16,26.15,26.15,26.13,26.13,26.13,26.11,26.12,26.12,26.12,26.08,26.1,26.06,26.1,26.08,26.06,26.05,26.06,26.06,26.06,26.05,26.05,26.05,26.04,26.05,26.03,26.02,26.02,26.04,26.02,26.0,26.01,25.98,25.98,25.98,25.99,25.98,25.97,25.97,25.92,25.92,25.91,25.91,25.89,25.9,25.86,25.88,25.85,25.88,25.84,25.83,25.82,25.83,25.84,25.81,25.83,25.8,25.79,25.78,25.8,25.8,25.79,25.76,25.75,25.76,25.76,25.74,25.75,25.74,25.76,25.75,25.72,25.74,25.72,25.71,25.71,25.69,25.71,25.69,25.69,25.67,25.67,25.67,25.66,25.66,25.66,25.65,25.67,25.65,25.66,25.66,25.66,25.65,25.65,25.65,25.64,25.65,25.63,25.64,25.61,25.6,25.62,25.6,25.57,25.58,25.57,25.59,25.55,25.56,25.56,25.57,25.57,25.56,25.56,25.55,25.55,25.54,25.53,25.55,25.53,25.51,25.52,25.5,25.51,25.52,25.5,25.5,25.52,25.48,25.5,25.49,25.49,25.5,25.47,25.49,25.46,25.46,25.45,25.44,25.47,25.45,25.45,25.44,25.44,25.45,25.45,25.43,25.43,25.43,25.41,25.4,25.4,25.41,25.41,25.4,25.38,25.37,25.37,25.39,25.36,25.35,25.37,25.36,25.33,25.34,25.33,25.34,25.34,25.34,25.32,25.34,25.34,25.33,25.33,25.32,25.32,25.31,25.27,25.31,25.3,25.27,25.24,25.22,25.26,25.23,25.21,25.23,25.22,25.21,25.21,25.2,25.21,25.19,25.19,25.18,25.18,25.18,25.16,25.14,25.17,25.15,25.13,25.09,25.13,25.12,25.12,25.11,25.12,25.11,25.12,25.11,25.09,25.09,25.1,25.1,25.09,25.12,25.11,25.1,25.08,25.09,25.07,25.05,25.06,25.06,25.04,25.07,25.06,25.04,25.04,25.05,25.04,25.05,25.03,25.03,25.04,25.02,25.0,25.01,25.02,25.0,25.01,25.0,25.01,25.02,25.01,25.0,25.03,25.02,25.01,25.01,25.0,25.02,25.03,25.04,25.02,25.03,25.03,25.05,25.06,25.05,25.06,25.04,25.08,25.08,25.08,25.06,25.07,25.1,25.1,25.1,25.1,25.12,25.14,25.15,25.16,25.15,25.18,25.2,25.21,25.2,25.22,25.24,25.25,25.24,25.27,25.28,25.3,25.28,25.3,25.28,25.33,25.33,25.34,25.35,25.36,25.37,25.36,25.41,25.42,25.41,25.42,25.42,25.45,25.46,25.49,25.49,25.51,25.53,25.55,25.58,25.59,25.61,25.61,25.63,25.64,25.68,25.71,25.72,25.73,25.76,25.79,25.82,25.85,25.88,25.91,25.95,25.96,25.99,26.0,26.06,26.08,26.15,26.18,26.23,26.25,26.29,26.33,26.36,26.39,26.43,26.47,26.53,26.58,26.59,26.67,26.67,26.69,26.76,26.75,26.79,26.85,26.9,26.93,26.94,26.99,27.04,27.08,27.12,27.17,27.22,27.25,27.29,27.29,27.36,27.4,27.42,27.5,27.52,27.54,27.6,27.65,27.68,27.71,27.76,27.79,27.83,27.88,27.94,27.98,28.03,28.04,28.09,28.1,28.12,28.17,28.25,28.26,28.33,28.37,28.4,28.44,28.51,28.59,28.61,28.66,28.68,28.72,28.79,28.94,28.95,29.01,29.04,29.08,29.12,29.21,29.28,29.3,29.41,29.44,29.47,29.51,29.55,29.58,29.6,29.71,29.73,29.82,29.88,29.87,29.91,29.99,29.97,29.98,29.93,29.92,29.9,29.89,29.97,29.92,29.95,30.0,30.03,30.08,30.16,30.19,30.25,30.3,30.28,30.26,30.31,30.35,30.38,30.46,30.54,30.57,30.65,30.67,30.7,30.75,30.81,30.93,30.99,31.04,31.07,31.09,31.15,31.15,31.2,31.24,31.29,31.29,31.35,31.4,31.4,31.45,31.45,31.45,31.53,31.61,31.7,31.65,31.65,31.56,31.52,31.55,31.59,31.56,31.59,31.57,31.63,31.7,31.63,31.65,31.71,31.81,31.88,31.93,32.02,32.12,32.11,32.14,32.22,32.26,32.3,32.2,32.23,32.25,32.15,32.1,32.1,32.1,32.15,32.2,32.23,32.24,32.31,32.32,32.24,32.26,32.21,32.29,32.38,32.47,32.57,32.66,32.74,32.81,32.82,32.87,32.85,32.79,32.82,32.82,32.89,32.84,32.96,32.99,33.05,33.0,32.83,32.91,32.9,32.99,33.1,33.06,33.06,33.05,33.12,33.16,33.18,33.17,33.25,33.35,33.41,33.38,33.46,33.48,33.58,33.58,33.58,33.59,33.59,33.46,33.43,33.23,33.22,33.2,33.18,33.18,33.14,33.08,33.12,33.13,33.06,33.09,33.19,33.31,33.33,33.31,33.34,33.27,33.25,33.25,33.31,33.34,33.23,33.32,33.42,33.57,33.52,33.48,33.46,33.34,33.26,33.22,33.24,33.32,33.38,33.37,33.4,33.4,33.48,33.56,33.61,33.68,33.72,33.76,33.65,33.61,33.62,33.66,33.66,33.74,33.83,33.85,33.78,33.61,33.53,33.55,33.35,33.26,33.24,33.29,33.28,33.21,33.2,33.23,33.06,33.18,33.1,33.17,33.11,33.06,33.09,33.16,33.21,33.17,33.17,33.18,33.21,33.29,33.28,33.35,33.4,33.36,33.41,33.38,33.42,33.49,33.56,33.61,33.61,33.74,33.8,33.79,33.86,33.86,33.91,33.79,33.81,33.86,33.94,33.89,33.79,33.72,33.75,33.81,33.8,33.84,33.77,33.69,33.72,33.74,33.76,33.81,33.77,33.82,33.76,33.5,33.43,33.44,33.36,33.41,33.5,33.55,33.51,33.55,33.65,33.68,33.78,33.87,33.93,33.98,33.84,33.9,33.72,33.5,33.51,33.53,33.46,33.33,33.27,33.26,33.35,33.44,33.42,33.46,33.52,33.55,33.55,33.51,33.56,33.64,33.63,33.52,33.47,33.33,33.33,33.31,33.39,33.29,33.31,33.31,33.25,33.22,33.29,33.26,33.3,33.33,33.35,33.25,33.2,33.29,33.34,33.33,33.27,33.19,33.19,33.25,33.16,33.1,33.06,33.18,33.19,33.31,33.2,33.17,33.18,33.1,33.04,32.87,32.65,32.43,32.31,32.23,32.16,32.24,32.17,32.23,32.32,32.32,32.26,32.24,32.14,31.99,31.78,31.73,31.61,31.55,31.49,31.38,31.41,31.35,31.31,31.35,31.32,31.41,31.46,31.46,31.44,31.35,31.39,31.22,31.22,31.15,30.88,30.8,30.77,30.68,30.68,30.62,30.57,30.47,30.43,30.39,30.38,30.44,30.46,30.5,30.47,30.55,30.55,30.58,30.63,30.68,30.7,30.76,30.82,30.88,30.88,30.89,30.9,30.97,30.98,31.05,31.12,31.06,31.1,31.16,31.21,31.2,31.09,30.94,30.94,30.88,30.83,30.82,30.82,30.8,30.82,30.79,30.73,30.71,30.74,30.74,30.75,30.75,30.66,30.66,30.54,30.54,30.51,30.45,30.4,30.31,30.27,30.24,30.18,30.15,30.11,30.1,30.09,30.11,30.13,30.1,30.1,30.08,30.1,30.08,30.12,30.13,30.08,30.08,30.07,29.95,29.91,29.92,29.93,29.89,29.92,29.92,29.92,29.86,29.83,29.77,29.69,29.67,29.66,29.67,29.66,29.67,29.67,29.63,29.6,29.56,29.55,29.53,29.53,29.5,29.41,29.34,29.36,29.4,29.4,29.41,29.42,29.4,29.41,29.38,29.42,29.41,29.35,29.38,29.39,29.33,29.3,29.25,29.23,29.19,29.21,29.2,29.2,29.17,29.17,29.17,29.18,29.15,29.13,29.11,29.13,29.11,29.04,28.98,28.93,28.87,28.85,28.82,28.81,28.77,28.77,28.75,28.74,28.73,28.75,28.74,28.73,28.7,28.7,28.67,28.66,28.7,28.67,28.66,28.62,28.63,28.63,28.62,28.65,28.65,28.59,28.58,28.59,28.59,28.58,28.59,28.56,28.56,28.55,28.57,28.56,28.53,28.5,28.52,28.53,28.51,28.54,28.53,28.53,28.51,28.54,28.5,28.5,28.49,28.47,28.45,28.43,28.42,28.42,28.42,28.39,28.42,28.41,28.38,28.39,28.43,28.41,28.34,28.36,28.32,28.28,28.31,28.3,28.29,28.27,28.28,28.29,28.23,28.23,28.23,28.24,28.24,28.25,28.24,28.22,28.2,28.23,28.2,28.17,28.18,28.2,28.18,28.21,28.23,28.24,28.23,28.2,28.23,28.2,28.2,28.16,28.14,28.16,28.17,28.15,28.17,28.18,28.16,28.17,28.16,28.11,28.11,28.12,28.1,28.1,28.06,28.03,28.02,28.04,28.04,28.03,28.08,28.04,28.09,28.08,28.09,28.08,28.1,28.11,28.11,28.12,28.1,28.12,28.1,28.1,28.07,28.09,28.09,28.11,28.13,28.11,28.12,28.14,28.11,28.12,28.14,28.13,28.13,28.1,28.13,28.09,28.11,28.09,28.09,28.1,28.09,28.07,28.07,28.07],\"colorscale\":[[0.0,\"#440154\"],[0.1111111111111111,\"#482878\"],[0.2222222222222222,\"#3e4989\"],[0.3333333333333333,\"#31688e\"],[0.4444444444444444,\"#26828e\"],[0.5555555555555556,\"#1f9e89\"],[0.6666666666666666,\"#35b779\"],[0.7777777777777778,\"#6ece58\"],[0.8888888888888888,\"#b5de2b\"],[1.0,\"#fde725\"]],\"opacity\":0.8,\"size\":5},\"mode\":\"markers\",\"x\":[28.39,28.34,28.36,28.36,28.34,28.35,28.33,28.35,28.37,28.35,28.34,28.31,28.28,28.31,28.25,28.28,28.28,28.29,28.28,28.28,28.26,28.27,28.27,28.26,28.26,28.28,28.28,28.24,28.24,28.22,28.23,28.26,28.2,28.22,28.23,28.22,28.19,28.19,28.16,28.15,28.14,28.15,28.16,28.12,28.11,28.1,28.1,28.1,28.1,28.08,28.07,28.06,28.09,28.05,28.08,28.06,28.03,28.05,28.05,28.02,28.01,28.03,28.03,28.02,27.99,27.98,27.96,27.95,27.9,27.89,27.89,27.88,27.83,27.86,27.86,27.86,27.84,27.83,27.83,27.84,27.84,27.86,27.82,27.8,27.77,27.76,27.76,27.76,27.7,27.7,27.68,27.65,27.67,27.64,27.64,27.63,27.62,27.63,27.66,27.64,27.64,27.65,27.64,27.62,27.6,27.62,27.57,27.56,27.57,27.55,27.52,27.55,27.55,27.51,27.52,27.53,27.49,27.49,27.48,27.47,27.47,27.5,27.49,27.49,27.49,27.5,27.51,27.5,27.48,27.52,27.51,27.54,27.51,27.51,27.52,27.49,27.49,27.5,27.49,27.49,27.49,27.48,27.48,27.5,27.48,27.49,27.49,27.49,27.48,27.46,27.48,27.48,27.46,27.47,27.46,27.49,27.49,27.49,27.52,27.51,27.48,27.51,27.48,27.49,27.49,27.47,27.48,27.51,27.51,27.52,27.5,27.48,27.51,27.51,27.51,27.51,27.51,27.52,27.48,27.49,27.49,27.49,27.52,27.52,27.51,27.51,27.53,27.46,27.46,27.48,27.46,27.42,27.43,27.44,27.44,27.42,27.42,27.43,27.42,27.4,27.39,27.38,27.38,27.39,27.4,27.37,27.34,27.33,27.33,27.32,27.3,27.31,27.33,27.33,27.32,27.34,27.34,27.34,27.32,27.32,27.33,27.29,27.29,27.29,27.3,27.26,27.26,27.25,27.28,27.28,27.27,27.25,27.25,27.24,27.23,27.22,27.21,27.21,27.2,27.2,27.16,27.16,27.17,27.15,27.16,27.14,27.14,27.12,27.11,27.12,27.07,27.06,27.04,27.03,27.01,26.99,26.99,26.98,26.97,26.98,26.97,26.97,26.96,26.96,26.95,26.95,26.94,26.94,26.91,26.91,26.92,26.92,26.91,26.9,26.87,26.85,26.86,26.87,26.85,26.85,26.82,26.84,26.82,26.81,26.79,26.79,26.79,26.78,26.77,26.76,26.77,26.76,26.75,26.73,26.72,26.72,26.71,26.68,26.67,26.68,26.69,26.67,26.66,26.66,26.62,26.63,26.63,26.65,26.62,26.59,26.61,26.58,26.57,26.61,26.58,26.55,26.54,26.56,26.54,26.52,26.55,26.52,26.53,26.5,26.51,26.49,26.48,26.47,26.46,26.5,26.45,26.44,26.43,26.43,26.4,26.4,26.39,26.38,26.35,26.36,26.35,26.33,26.35,26.33,26.34,26.36,26.34,26.32,26.31,26.29,26.28,26.27,26.26,26.27,26.23,26.24,26.23,26.23,26.23,26.23,26.24,26.23,26.21,26.2,26.19,26.19,26.16,26.18,26.15,26.15,26.15,26.16,26.15,26.15,26.13,26.13,26.13,26.11,26.12,26.12,26.12,26.08,26.1,26.06,26.1,26.08,26.06,26.05,26.06,26.06,26.06,26.05,26.05,26.05,26.04,26.05,26.03,26.02,26.02,26.04,26.02,26.0,26.01,25.98,25.98,25.98,25.99,25.98,25.97,25.97,25.92,25.92,25.91,25.91,25.89,25.9,25.86,25.88,25.85,25.88,25.84,25.83,25.82,25.83,25.84,25.81,25.83,25.8,25.79,25.78,25.8,25.8,25.79,25.76,25.75,25.76,25.76,25.74,25.75,25.74,25.76,25.75,25.72,25.74,25.72,25.71,25.71,25.69,25.71,25.69,25.69,25.67,25.67,25.67,25.66,25.66,25.66,25.65,25.67,25.65,25.66,25.66,25.66,25.65,25.65,25.65,25.64,25.65,25.63,25.64,25.61,25.6,25.62,25.6,25.57,25.58,25.57,25.59,25.55,25.56,25.56,25.57,25.57,25.56,25.56,25.55,25.55,25.54,25.53,25.55,25.53,25.51,25.52,25.5,25.51,25.52,25.5,25.5,25.52,25.48,25.5,25.49,25.49,25.5,25.47,25.49,25.46,25.46,25.45,25.44,25.47,25.45,25.45,25.44,25.44,25.45,25.45,25.43,25.43,25.43,25.41,25.4,25.4,25.41,25.41,25.4,25.38,25.37,25.37,25.39,25.36,25.35,25.37,25.36,25.33,25.34,25.33,25.34,25.34,25.34,25.32,25.34,25.34,25.33,25.33,25.32,25.32,25.31,25.27,25.31,25.3,25.27,25.24,25.22,25.26,25.23,25.21,25.23,25.22,25.21,25.21,25.2,25.21,25.19,25.19,25.18,25.18,25.18,25.16,25.14,25.17,25.15,25.13,25.09,25.13,25.12,25.12,25.11,25.12,25.11,25.12,25.11,25.09,25.09,25.1,25.1,25.09,25.12,25.11,25.1,25.08,25.09,25.07,25.05,25.06,25.06,25.04,25.07,25.06,25.04,25.04,25.05,25.04,25.05,25.03,25.03,25.04,25.02,25.0,25.01,25.02,25.0,25.01,25.0,25.01,25.02,25.01,25.0,25.03,25.02,25.01,25.01,25.0,25.02,25.03,25.04,25.02,25.03,25.03,25.05,25.06,25.05,25.06,25.04,25.08,25.08,25.08,25.06,25.07,25.1,25.1,25.1,25.1,25.12,25.14,25.15,25.16,25.15,25.18,25.2,25.21,25.2,25.22,25.24,25.25,25.24,25.27,25.28,25.3,25.28,25.3,25.28,25.33,25.33,25.34,25.35,25.36,25.37,25.36,25.41,25.42,25.41,25.42,25.42,25.45,25.46,25.49,25.49,25.51,25.53,25.55,25.58,25.59,25.61,25.61,25.63,25.64,25.68,25.71,25.72,25.73,25.76,25.79,25.82,25.85,25.88,25.91,25.95,25.96,25.99,26.0,26.06,26.08,26.15,26.18,26.23,26.25,26.29,26.33,26.36,26.39,26.43,26.47,26.53,26.58,26.59,26.67,26.67,26.69,26.76,26.75,26.79,26.85,26.9,26.93,26.94,26.99,27.04,27.08,27.12,27.17,27.22,27.25,27.29,27.29,27.36,27.4,27.42,27.5,27.52,27.54,27.6,27.65,27.68,27.71,27.76,27.79,27.83,27.88,27.94,27.98,28.03,28.04,28.09,28.1,28.12,28.17,28.25,28.26,28.33,28.37,28.4,28.44,28.51,28.59,28.61,28.66,28.68,28.72,28.79,28.94,28.95,29.01,29.04,29.08,29.12,29.21,29.28,29.3,29.41,29.44,29.47,29.51,29.55,29.58,29.6,29.71,29.73,29.82,29.88,29.87,29.91,29.99,29.97,29.98,29.93,29.92,29.9,29.89,29.97,29.92,29.95,30.0,30.03,30.08,30.16,30.19,30.25,30.3,30.28,30.26,30.31,30.35,30.38,30.46,30.54,30.57,30.65,30.67,30.7,30.75,30.81,30.93,30.99,31.04,31.07,31.09,31.15,31.15,31.2,31.24,31.29,31.29,31.35,31.4,31.4,31.45,31.45,31.45,31.53,31.61,31.7,31.65,31.65,31.56,31.52,31.55,31.59,31.56,31.59,31.57,31.63,31.7,31.63,31.65,31.71,31.81,31.88,31.93,32.02,32.12,32.11,32.14,32.22,32.26,32.3,32.2,32.23,32.25,32.15,32.1,32.1,32.1,32.15,32.2,32.23,32.24,32.31,32.32,32.24,32.26,32.21,32.29,32.38,32.47,32.57,32.66,32.74,32.81,32.82,32.87,32.85,32.79,32.82,32.82,32.89,32.84,32.96,32.99,33.05,33.0,32.83,32.91,32.9,32.99,33.1,33.06,33.06,33.05,33.12,33.16,33.18,33.17,33.25,33.35,33.41,33.38,33.46,33.48,33.58,33.58,33.58,33.59,33.59,33.46,33.43,33.23,33.22,33.2,33.18,33.18,33.14,33.08,33.12,33.13,33.06,33.09,33.19,33.31,33.33,33.31,33.34,33.27,33.25,33.25,33.31,33.34,33.23,33.32,33.42,33.57,33.52,33.48,33.46,33.34,33.26,33.22,33.24,33.32,33.38,33.37,33.4,33.4,33.48,33.56,33.61,33.68,33.72,33.76,33.65,33.61,33.62,33.66,33.66,33.74,33.83,33.85,33.78,33.61,33.53,33.55,33.35,33.26,33.24,33.29,33.28,33.21,33.2,33.23,33.06,33.18,33.1,33.17,33.11,33.06,33.09,33.16,33.21,33.17,33.17,33.18,33.21,33.29,33.28,33.35,33.4,33.36,33.41,33.38,33.42,33.49,33.56,33.61,33.61,33.74,33.8,33.79,33.86,33.86,33.91,33.79,33.81,33.86,33.94,33.89,33.79,33.72,33.75,33.81,33.8,33.84,33.77,33.69,33.72,33.74,33.76,33.81,33.77,33.82,33.76,33.5,33.43,33.44,33.36,33.41,33.5,33.55,33.51,33.55,33.65,33.68,33.78,33.87,33.93,33.98,33.84,33.9,33.72,33.5,33.51,33.53,33.46,33.33,33.27,33.26,33.35,33.44,33.42,33.46,33.52,33.55,33.55,33.51,33.56,33.64,33.63,33.52,33.47,33.33,33.33,33.31,33.39,33.29,33.31,33.31,33.25,33.22,33.29,33.26,33.3,33.33,33.35,33.25,33.2,33.29,33.34,33.33,33.27,33.19,33.19,33.25,33.16,33.1,33.06,33.18,33.19,33.31,33.2,33.17,33.18,33.1,33.04,32.87,32.65,32.43,32.31,32.23,32.16,32.24,32.17,32.23,32.32,32.32,32.26,32.24,32.14,31.99,31.78,31.73,31.61,31.55,31.49,31.38,31.41,31.35,31.31,31.35,31.32,31.41,31.46,31.46,31.44,31.35,31.39,31.22,31.22,31.15,30.88,30.8,30.77,30.68,30.68,30.62,30.57,30.47,30.43,30.39,30.38,30.44,30.46,30.5,30.47,30.55,30.55,30.58,30.63,30.68,30.7,30.76,30.82,30.88,30.88,30.89,30.9,30.97,30.98,31.05,31.12,31.06,31.1,31.16,31.21,31.2,31.09,30.94,30.94,30.88,30.83,30.82,30.82,30.8,30.82,30.79,30.73,30.71,30.74,30.74,30.75,30.75,30.66,30.66,30.54,30.54,30.51,30.45,30.4,30.31,30.27,30.24,30.18,30.15,30.11,30.1,30.09,30.11,30.13,30.1,30.1,30.08,30.1,30.08,30.12,30.13,30.08,30.08,30.07,29.95,29.91,29.92,29.93,29.89,29.92,29.92,29.92,29.86,29.83,29.77,29.69,29.67,29.66,29.67,29.66,29.67,29.67,29.63,29.6,29.56,29.55,29.53,29.53,29.5,29.41,29.34,29.36,29.4,29.4,29.41,29.42,29.4,29.41,29.38,29.42,29.41,29.35,29.38,29.39,29.33,29.3,29.25,29.23,29.19,29.21,29.2,29.2,29.17,29.17,29.17,29.18,29.15,29.13,29.11,29.13,29.11,29.04,28.98,28.93,28.87,28.85,28.82,28.81,28.77,28.77,28.75,28.74,28.73,28.75,28.74,28.73,28.7,28.7,28.67,28.66,28.7,28.67,28.66,28.62,28.63,28.63,28.62,28.65,28.65,28.59,28.58,28.59,28.59,28.58,28.59,28.56,28.56,28.55,28.57,28.56,28.53,28.5,28.52,28.53,28.51,28.54,28.53,28.53,28.51,28.54,28.5,28.5,28.49,28.47,28.45,28.43,28.42,28.42,28.42,28.39,28.42,28.41,28.38,28.39,28.43,28.41,28.34,28.36,28.32,28.28,28.31,28.3,28.29,28.27,28.28,28.29,28.23,28.23,28.23,28.24,28.24,28.25,28.24,28.22,28.2,28.23,28.2,28.17,28.18,28.2,28.18,28.21,28.23,28.24,28.23,28.2,28.23,28.2,28.2,28.16,28.14,28.16,28.17,28.15,28.17,28.18,28.16,28.17,28.16,28.11,28.11,28.12,28.1,28.1,28.06,28.03,28.02,28.04,28.04,28.03,28.08,28.04,28.09,28.08,28.09,28.08,28.1,28.11,28.11,28.12,28.1,28.12,28.1,28.1,28.07,28.09,28.09,28.11,28.13,28.11,28.12,28.14,28.11,28.12,28.14,28.13,28.13,28.1,28.13,28.09,28.11,28.09,28.09,28.1,28.09,28.07,28.07,28.07],\"y\":[84.27,84.53,84.61,84.71,84.7,84.75,84.69,84.73,84.79,85.02,84.98,85.07,85.19,85.28,84.92,85.14,85.18,85.3,85.47,85.56,85.76,85.72,85.8,85.88,85.76,85.85,85.94,86.03,86.07,85.96,86.11,86.22,86.31,86.2,86.33,86.37,86.47,86.55,86.56,86.69,86.64,86.67,86.6,86.71,86.79,86.9,86.87,86.76,86.9,86.99,86.98,86.98,87.05,87.09,87.22,87.13,87.15,87.04,87.31,87.24,87.25,87.19,87.26,87.29,87.22,87.25,87.23,87.38,87.53,87.58,87.58,87.58,87.65,87.7,87.73,87.76,87.75,87.92,87.81,87.73,87.79,87.9,87.97,87.97,88.02,88.06,88.16,88.22,88.29,88.34,88.48,88.43,88.39,88.52,88.64,88.59,88.56,88.73,88.71,88.69,88.72,88.79,88.85,88.89,88.88,88.95,89.04,89.05,89.05,89.08,89.18,89.21,89.2,89.21,89.22,89.31,89.33,89.35,89.38,89.44,89.46,89.33,89.36,89.39,89.49,89.51,89.5,89.53,89.56,89.5,89.55,89.58,89.5,89.44,89.46,89.54,89.53,89.5,89.56,89.6,89.6,89.66,89.58,89.62,89.62,89.63,89.66,89.54,89.48,89.52,89.55,89.5,89.56,89.52,89.54,89.54,89.42,89.39,89.42,89.37,89.29,89.26,89.33,89.32,89.34,89.38,89.46,89.49,89.41,89.36,89.27,89.27,89.28,89.27,89.31,89.25,89.23,89.31,89.32,89.26,89.26,89.29,89.29,89.29,89.24,89.25,89.24,89.24,89.31,89.32,89.27,89.32,89.31,89.41,89.34,89.34,89.37,89.37,89.38,89.38,89.45,89.42,89.45,89.46,89.5,89.56,89.54,89.62,89.67,89.63,89.63,89.76,89.79,89.75,89.74,89.68,89.75,89.71,89.73,89.68,89.71,89.84,89.79,89.89,89.88,89.96,89.95,89.94,89.96,89.99,89.92,89.93,89.99,89.94,90.04,90.04,90.05,90.03,90.03,90.02,90.14,90.15,90.2,90.22,90.2,90.28,90.33,90.26,90.36,90.45,90.48,90.55,90.6,90.71,90.71,90.74,90.83,90.84,90.8,90.86,90.82,90.78,90.94,90.88,90.9,90.92,90.93,90.88,90.83,90.88,90.88,90.9,90.93,91.05,91.12,91.18,91.13,91.14,91.15,91.12,91.07,91.07,91.12,91.16,91.23,91.19,91.17,91.18,91.27,91.28,91.24,91.18,91.29,91.36,91.44,91.41,91.32,91.36,91.35,91.41,91.4,91.38,91.34,91.39,91.35,91.38,91.39,91.38,91.45,91.64,91.57,91.56,91.57,91.57,91.52,91.54,91.52,91.55,91.53,91.64,91.65,91.71,91.77,91.74,91.73,91.68,91.66,91.73,91.73,91.77,91.81,92.04,92.05,92.0,92.06,92.14,92.28,92.33,92.41,92.39,92.52,92.38,92.36,92.27,92.22,92.27,92.38,92.39,92.42,92.47,92.48,92.42,92.4,92.41,92.46,92.45,92.44,92.45,92.43,92.45,92.55,92.56,92.52,92.49,92.53,92.51,92.5,92.55,92.57,92.56,92.59,92.59,92.57,92.61,92.58,92.57,92.55,92.51,92.57,92.56,92.54,92.53,92.59,92.56,92.57,92.59,92.54,92.55,92.58,92.65,92.61,92.6,92.63,92.62,92.59,92.57,92.57,92.56,92.54,92.57,92.58,92.55,92.56,92.55,92.56,92.64,92.63,92.66,92.72,92.75,92.73,92.7,92.73,92.74,92.75,92.85,92.81,92.94,92.94,92.99,92.97,92.96,92.98,93.08,93.23,93.2,93.17,93.16,93.16,93.13,93.23,93.26,93.32,93.29,93.24,93.28,93.27,93.29,93.29,93.28,93.27,93.27,93.29,93.32,93.33,93.3,93.28,93.29,93.27,93.3,93.32,93.34,93.31,93.32,93.31,93.42,93.42,93.42,93.41,93.41,93.4,93.4,93.41,93.39,93.38,93.4,93.45,93.51,93.51,93.49,93.51,93.56,93.57,93.56,93.51,93.5,93.52,93.59,93.61,93.57,93.59,93.59,93.62,93.62,93.62,93.6,93.62,93.61,93.6,93.61,93.6,93.56,93.57,93.58,93.63,93.67,93.66,93.64,93.64,93.65,93.64,93.64,93.65,93.65,93.66,93.71,93.71,93.67,93.71,93.69,93.64,93.66,93.67,93.66,93.64,93.65,93.65,93.63,93.58,93.58,93.61,93.63,93.62,93.6,93.61,93.57,93.56,93.61,93.63,93.67,93.65,93.64,93.64,93.64,93.65,93.66,93.66,93.63,93.68,93.72,93.75,93.75,93.74,93.74,93.72,93.82,93.95,93.94,93.95,94.02,94.01,93.96,94.02,93.97,93.98,94.0,93.97,93.97,93.98,93.99,93.96,94.0,94.02,94.0,94.01,94.04,94.02,94.03,94.01,94.11,94.19,94.17,94.14,94.18,94.16,94.16,94.15,94.18,94.17,94.2,94.2,94.21,94.22,94.23,94.22,94.22,94.28,94.27,94.31,94.29,94.28,94.34,94.32,94.33,94.33,94.34,94.33,94.39,94.37,94.39,94.41,94.41,94.39,94.39,94.38,94.36,94.38,94.39,94.39,94.42,94.41,94.4,94.42,94.44,94.46,94.45,94.48,94.45,94.5,94.49,94.48,94.49,94.52,94.55,94.57,94.56,94.6,94.57,94.59,94.66,94.72,94.73,94.78,94.74,94.72,94.72,94.71,94.75,94.79,94.84,94.81,94.8,94.8,94.81,94.8,94.83,94.91,94.87,94.89,94.89,94.9,94.93,94.9,94.88,94.88,94.87,94.91,94.92,94.95,94.98,95.01,95.01,94.98,94.97,94.98,94.94,94.89,94.9,94.86,94.85,94.85,94.79,94.77,94.68,94.65,94.65,94.63,94.61,94.6,94.59,94.57,94.57,94.53,94.37,94.26,94.08,94.07,94.17,94.09,93.99,93.83,93.77,93.79,93.8,93.82,93.77,93.75,93.69,93.43,93.06,92.9,92.97,92.87,92.89,92.9,92.84,92.51,91.84,91.58,91.06,91.06,91.12,90.96,91.05,91.18,90.99,90.84,90.33,89.87,89.89,88.26,87.97,88.4,88.52,88.06,88.3,88.14,88.27,88.42,88.38,88.36,88.05,87.89,88.04,86.47,86.5,86.76,87.04,87.3,86.25,86.54,86.19,86.13,85.75,86.04,85.93,85.59,85.36,85.54,85.05,84.66,84.89,84.33,84.33,84.21,84.01,83.87,83.98,83.43,83.4,83.24,83.22,83.43,83.36,82.75,82.68,82.58,82.59,82.97,83.19,82.69,81.24,81.04,81.14,80.39,81.11,80.99,80.63,79.5,79.6,79.07,78.96,79.04,78.78,78.81,78.96,79.26,79.17,79.01,79.27,79.16,79.23,78.94,78.23,77.9,77.17,77.29,76.97,77.31,77.71,77.18,77.43,77.48,77.38,77.02,76.78,76.46,76.64,75.91,75.4,75.85,75.64,75.47,75.61,76.08,75.99,75.2,74.8,74.35,74.44,74.47,74.95,74.3,73.4,72.82,72.5,72.76,73.01,72.4,72.65,72.61,72.86,72.41,72.39,72.62,71.88,72.35,71.85,71.44,71.53,72.08,72.45,71.05,71.55,70.92,71.51,72.45,72.14,71.49,72.01,71.96,70.64,70.69,70.39,70.9,71.7,71.2,71.97,70.41,70.57,70.31,69.56,70.29,70.72,69.37,69.13,68.35,69.1,69.4,68.51,68.76,69.11,69.44,69.6,69.81,69.47,69.53,69.9,69.53,69.55,70.0,69.58,70.38,69.84,70.0,69.73,69.75,69.17,68.54,68.33,68.45,67.85,67.69,68.43,67.8,67.91,67.8,68.25,67.85,67.91,67.72,67.3,67.97,68.27,68.76,67.99,67.28,67.27,67.73,67.67,68.12,67.84,68.01,68.21,68.24,67.57,66.83,67.37,67.48,67.89,67.12,67.29,67.62,66.82,66.75,66.96,67.12,68.21,68.43,67.73,67.67,67.99,68.6,68.59,68.3,68.67,68.79,68.56,68.49,67.81,67.57,68.02,67.74,67.68,67.8,68.33,67.91,67.75,68.42,68.41,67.82,68.18,67.76,67.03,67.74,68.4,67.53,68.04,68.2,68.86,68.15,67.97,68.03,68.22,68.42,68.12,67.65,67.95,66.88,66.94,67.36,67.32,67.76,67.73,67.6,67.46,67.28,66.95,66.95,67.36,67.81,67.39,68.2,68.93,68.86,69.05,68.55,68.56,69.02,69.15,69.88,69.58,69.94,69.34,69.17,69.32,69.34,69.87,69.37,69.52,69.31,69.14,68.77,68.87,68.01,68.69,68.57,69.53,69.34,69.84,69.16,69.69,69.27,69.48,69.64,69.54,69.12,68.81,68.57,68.58,68.37,68.61,68.78,68.78,68.8,68.7,68.69,69.64,68.94,68.9,69.36,69.26,69.44,69.3,69.09,69.37,69.56,69.09,69.12,68.67,68.11,69.0,69.43,70.12,71.06,70.29,70.01,69.63,69.66,69.91,68.87,68.51,68.92,69.17,68.51,69.12,68.93,68.38,69.3,69.71,69.96,70.0,70.21,70.88,70.66,71.42,70.62,69.7,69.57,70.62,70.63,70.38,70.75,70.45,70.58,69.84,70.19,70.19,70.1,70.23,70.01,70.17,70.31,70.69,70.47,71.01,71.52,71.15,70.16,70.47,71.08,70.38,70.4,71.03,70.98,71.03,70.34,70.41,69.82,70.76,70.38,70.19,70.52,70.71,71.02,71.26,70.69,71.12,71.18,70.82,70.65,71.3,71.94,72.2,72.29,73.19,73.67,74.07,74.3,73.93,73.89,73.95,73.81,74.08,74.1,74.28,74.79,74.83,75.3,75.17,75.82,75.75,76.37,76.54,76.41,76.6,76.78,77.03,76.85,76.73,76.62,76.95,77.05,76.63,76.35,76.67,77.13,77.27,77.99,78.41,78.57,78.94,78.85,78.98,79.33,79.24,79.54,79.34,79.61,79.07,79.19,79.18,79.45,78.89,79.03,78.84,78.77,78.97,78.65,78.74,78.86,77.81,78.41,78.28,78.21,77.83,77.81,77.58,77.46,77.79,77.54,77.72,77.65,77.35,77.6,77.93,78.23,78.32,78.32,78.36,78.43,78.56,78.58,78.85,79.0,79.19,79.06,78.62,78.61,78.81,78.97,78.97,79.09,79.18,79.62,79.78,79.93,80.2,80.32,80.23,80.37,80.67,80.72,80.94,80.74,80.86,80.73,80.86,80.92,81.37,80.94,80.96,81.03,80.96,80.94,81.0,81.4,81.54,81.62,81.81,81.57,81.55,81.71,81.72,81.3,81.16,81.44,81.92,82.03,82.19,82.39,82.56,82.37,82.19,81.73,81.5,81.61,81.61,81.6,81.6,81.32,81.62,81.73,82.2,81.62,81.66,81.67,81.26,80.94,81.31,81.25,81.24,81.14,80.81,81.1,81.03,80.91,80.96,81.22,81.09,81.02,81.11,81.19,81.41,81.31,81.53,81.64,81.66,81.74,81.9,81.82,81.82,81.89,81.96,82.05,82.38,82.59,82.85,82.8,82.88,82.92,83.13,83.21,83.18,83.26,83.24,83.26,83.33,83.4,83.49,83.57,83.71,83.62,83.66,83.84,83.85,83.84,83.88,83.9,83.9,84.04,84.2,84.11,84.18,84.11,84.32,84.3,84.41,84.5,84.5,84.6,84.67,84.75,84.78,84.83,84.94,84.91,85.07,85.03,85.15,85.17,85.26,85.21,85.21,85.39,85.68,85.69,85.83,85.85,85.93,85.89,85.96,86.02,86.01,86.02,86.05,86.18,86.19,86.28,86.36,86.51,86.54,86.71,86.73,86.65,86.64,86.69,86.68,86.78,86.75,86.79,86.8,86.9,86.88,86.95,86.98,86.96,86.99,87.14,87.23,87.24,87.25,87.24,87.22,87.26,87.2,87.28,87.21,87.22,87.31,87.25,87.26,87.15,87.12,87.13,87.17,87.27,87.28,87.32,87.4,87.38,87.39,87.39,87.6,87.74,87.78,87.98,88.1,88.2,88.19,88.11,88.05,88.17,88.14,88.11,88.02,87.94,87.89,87.96,87.94,87.83,87.8,87.79,87.79,87.85,88.07,88.04,88.15,88.13,88.27,88.27,88.22,88.23,88.32,88.36,88.29,88.41,88.43,88.43,88.4,88.34,88.33,88.39,88.4,88.31,88.3,88.49,88.54,88.61,88.64],\"z\":[1012.73,1012.8,1012.8,1012.71,1012.77,1012.8,1012.8,1012.82,1012.88,1012.79,1012.86,1012.74,1012.83,1012.85,1012.8,1012.83,1012.84,1012.81,1012.82,1012.76,1012.72,1012.77,1012.71,1012.73,1012.72,1012.81,1012.8,1012.82,1012.79,1012.79,1012.75,1012.79,1012.77,1012.8,1012.82,1012.83,1012.8,1012.82,1012.82,1012.86,1012.88,1012.86,1012.86,1012.92,1012.91,1012.9,1012.95,1012.98,1013.01,1013.02,1013.02,1013.03,1013.04,1013.08,1013.05,1013.07,1013.04,1013.06,1013.05,1013.03,1013.03,1013.07,1013.09,1012.98,1013.01,1013.02,1012.98,1013.07,1013.03,1013.0,1013.01,1013.01,1013.06,1013.07,1013.06,1013.07,1013.06,1013.06,1013.05,1013.09,1013.05,1013.06,1013.08,1013.08,1013.11,1013.16,1013.17,1013.18,1013.18,1013.2,1013.17,1013.23,1013.25,1013.23,1013.31,1013.3,1013.33,1013.35,1013.34,1013.33,1013.35,1013.34,1013.36,1013.35,1013.34,1013.39,1013.45,1013.39,1013.41,1013.41,1013.39,1013.37,1013.4,1013.43,1013.39,1013.38,1013.48,1013.46,1013.42,1013.46,1013.43,1013.5,1013.44,1013.48,1013.53,1013.5,1013.53,1013.51,1013.51,1013.52,1013.52,1013.48,1013.5,1013.49,1013.46,1013.5,1013.45,1013.47,1013.42,1013.44,1013.49,1013.5,1013.44,1013.48,1013.52,1013.51,1013.54,1013.46,1013.51,1013.53,1013.5,1013.51,1013.5,1013.51,1013.52,1013.44,1013.4,1013.4,1013.41,1013.39,1013.36,1013.33,1013.31,1013.31,1013.3,1013.33,1013.33,1013.31,1013.33,1013.33,1013.32,1013.32,1013.28,1013.26,1013.25,1013.2,1013.2,1013.18,1013.18,1013.14,1013.13,1013.16,1013.16,1013.14,1013.1,1013.13,1013.12,1013.17,1013.12,1013.13,1013.13,1013.09,1013.09,1013.07,1013.1,1013.09,1013.08,1013.12,1013.11,1013.1,1013.08,1013.1,1013.08,1013.03,1013.04,1013.01,1013.02,1013.01,1013.0,1013.03,1012.99,1012.94,1012.94,1012.92,1012.84,1012.88,1012.88,1012.88,1012.92,1012.87,1012.82,1012.78,1012.78,1012.74,1012.72,1012.7,1012.69,1012.68,1012.65,1012.63,1012.6,1012.58,1012.55,1012.53,1012.47,1012.47,1012.45,1012.47,1012.51,1012.47,1012.44,1012.47,1012.46,1012.45,1012.43,1012.49,1012.45,1012.44,1012.4,1012.42,1012.35,1012.36,1012.32,1012.36,1012.33,1012.4,1012.33,1012.33,1012.31,1012.29,1012.3,1012.28,1012.3,1012.29,1012.31,1012.26,1012.29,1012.23,1012.27,1012.23,1012.25,1012.29,1012.27,1012.25,1012.26,1012.23,1012.19,1012.18,1012.19,1012.12,1012.11,1012.15,1012.11,1012.09,1012.05,1012.05,1012.05,1012.06,1012.05,1011.98,1012.03,1012.05,1012.03,1012.02,1012.06,1012.01,1012.02,1012.01,1011.99,1011.98,1011.95,1011.92,1011.88,1011.87,1011.86,1011.84,1011.84,1011.81,1011.77,1011.79,1011.75,1011.76,1011.73,1011.71,1011.71,1011.67,1011.62,1011.62,1011.64,1011.64,1011.61,1011.58,1011.57,1011.57,1011.53,1011.55,1011.53,1011.56,1011.57,1011.51,1011.54,1011.52,1011.49,1011.46,1011.43,1011.41,1011.37,1011.41,1011.39,1011.36,1011.39,1011.38,1011.44,1011.44,1011.45,1011.39,1011.45,1011.46,1011.45,1011.45,1011.45,1011.46,1011.43,1011.45,1011.45,1011.41,1011.41,1011.39,1011.4,1011.35,1011.37,1011.38,1011.32,1011.3,1011.29,1011.3,1011.23,1011.24,1011.24,1011.2,1011.2,1011.18,1011.12,1011.15,1011.1,1011.1,1011.06,1011.05,1011.03,1011.01,1010.98,1011.01,1011.05,1011.02,1011.04,1010.99,1010.97,1010.98,1010.97,1010.93,1010.92,1010.89,1010.91,1010.86,1010.82,1010.81,1010.81,1010.82,1010.83,1010.81,1010.83,1010.85,1010.82,1010.85,1010.86,1010.86,1010.83,1010.8,1010.85,1010.82,1010.84,1010.85,1010.81,1010.82,1010.84,1010.85,1010.81,1010.81,1010.81,1010.8,1010.79,1010.79,1010.78,1010.77,1010.76,1010.8,1010.78,1010.83,1010.77,1010.79,1010.77,1010.81,1010.82,1010.82,1010.78,1010.82,1010.78,1010.8,1010.79,1010.79,1010.76,1010.75,1010.73,1010.69,1010.72,1010.69,1010.71,1010.71,1010.68,1010.69,1010.69,1010.73,1010.67,1010.72,1010.73,1010.77,1010.79,1010.81,1010.83,1010.82,1010.84,1010.9,1010.87,1010.9,1010.91,1010.95,1010.97,1010.95,1010.97,1010.95,1010.94,1010.95,1010.92,1010.92,1010.97,1010.96,1010.95,1010.96,1010.94,1010.92,1010.9,1010.89,1010.88,1010.88,1010.89,1010.95,1010.87,1010.92,1010.91,1010.87,1010.86,1010.82,1010.81,1010.79,1010.8,1010.8,1010.8,1010.81,1010.84,1010.81,1010.82,1010.81,1010.81,1010.81,1010.81,1010.82,1010.83,1010.87,1010.86,1010.86,1010.88,1010.87,1010.89,1010.88,1010.89,1010.86,1010.84,1010.84,1010.81,1010.8,1010.84,1010.82,1010.78,1010.79,1010.8,1010.86,1010.87,1010.84,1010.91,1010.94,1010.97,1010.99,1010.99,1011.02,1011.02,1011.01,1011.05,1011.03,1011.03,1011.07,1011.08,1011.11,1011.09,1011.15,1011.11,1011.13,1011.15,1011.13,1011.16,1011.15,1011.19,1011.25,1011.25,1011.24,1011.21,1011.2,1011.21,1011.24,1011.21,1011.28,1011.27,1011.27,1011.3,1011.26,1011.28,1011.29,1011.35,1011.38,1011.41,1011.4,1011.43,1011.41,1011.42,1011.45,1011.42,1011.48,1011.51,1011.49,1011.5,1011.52,1011.52,1011.53,1011.48,1011.46,1011.51,1011.51,1011.49,1011.52,1011.56,1011.55,1011.54,1011.59,1011.58,1011.58,1011.58,1011.59,1011.57,1011.6,1011.57,1011.59,1011.66,1011.65,1011.64,1011.61,1011.68,1011.67,1011.71,1011.67,1011.71,1011.69,1011.69,1011.72,1011.73,1011.72,1011.71,1011.75,1011.75,1011.7,1011.72,1011.76,1011.75,1011.78,1011.8,1011.81,1011.82,1011.83,1011.79,1011.88,1011.89,1011.91,1011.9,1011.97,1012.0,1011.98,1012.09,1012.07,1012.08,1012.13,1012.15,1012.14,1012.12,1012.12,1012.13,1012.17,1012.16,1012.15,1012.21,1012.21,1012.22,1012.25,1012.24,1012.29,1012.27,1012.32,1012.37,1012.37,1012.4,1012.4,1012.42,1012.43,1012.42,1012.41,1012.44,1012.48,1012.45,1012.44,1012.48,1012.44,1012.46,1012.45,1012.42,1012.42,1012.41,1012.45,1012.41,1012.46,1012.49,1012.48,1012.48,1012.51,1012.55,1012.53,1012.53,1012.52,1012.54,1012.51,1012.54,1012.53,1012.56,1012.54,1012.58,1012.59,1012.64,1012.62,1012.65,1012.62,1012.66,1012.67,1012.68,1012.68,1012.7,1012.71,1012.7,1012.73,1012.72,1012.71,1012.67,1012.68,1012.72,1012.76,1012.75,1012.77,1012.78,1012.81,1012.78,1012.78,1012.77,1012.76,1012.79,1012.81,1012.83,1012.81,1012.84,1012.9,1012.9,1012.91,1012.85,1012.87,1012.85,1012.87,1012.9,1012.91,1012.92,1012.96,1012.93,1012.94,1012.93,1012.98,1012.99,1013.01,1013.06,1013.07,1013.05,1013.05,1013.07,1013.05,1013.05,1013.06,1013.06,1013.04,1013.02,1012.99,1013.01,1013.02,1013.04,1013.04,1013.05,1013.07,1013.04,1013.0,1012.96,1013.01,1012.98,1012.99,1012.97,1012.99,1012.99,1012.99,1013.03,1013.02,1013.07,1013.05,1013.08,1013.09,1013.03,1013.06,1013.04,1013.03,1013.02,1013.1,1013.06,1013.04,1013.04,1013.04,1013.05,1013.01,1012.95,1012.99,1012.98,1012.94,1012.92,1012.94,1012.98,1013.04,1013.02,1013.01,1013.0,1012.96,1012.98,1012.99,1012.96,1012.96,1012.94,1012.97,1012.99,1013.02,1012.98,1013.0,1012.96,1012.91,1012.9,1012.88,1012.9,1012.83,1012.8,1012.8,1012.79,1012.79,1012.76,1012.71,1012.7,1012.77,1012.77,1012.75,1012.78,1012.72,1012.71,1012.7,1012.7,1012.71,1012.67,1012.67,1012.68,1012.66,1012.73,1012.68,1012.68,1012.67,1012.7,1012.72,1012.71,1012.75,1012.7,1012.71,1012.67,1012.59,1012.64,1012.65,1012.55,1012.64,1012.64,1012.56,1012.59,1012.51,1012.48,1012.5,1012.51,1012.53,1012.54,1012.49,1012.54,1012.58,1012.48,1012.53,1012.47,1012.54,1012.42,1012.47,1012.53,1012.43,1012.4,1012.43,1012.41,1012.51,1012.48,1012.46,1012.46,1012.47,1012.43,1012.39,1012.35,1012.35,1012.38,1012.32,1012.36,1012.33,1012.31,1012.31,1012.34,1012.34,1012.3,1012.41,1012.37,1012.39,1012.37,1012.38,1012.3,1012.35,1012.4,1012.42,1012.33,1012.33,1012.24,1012.25,1012.24,1012.25,1012.16,1012.16,1012.16,1012.11,1012.23,1012.11,1012.12,1012.15,1012.14,1012.1,1012.05,1012.05,1012.0,1011.96,1012.02,1011.91,1011.96,1011.85,1011.72,1011.81,1011.82,1011.72,1011.67,1011.67,1011.6,1011.6,1011.62,1011.6,1011.59,1011.53,1011.58,1011.54,1011.56,1011.41,1011.52,1011.55,1011.51,1011.4,1011.39,1011.44,1011.34,1011.36,1011.36,1011.36,1011.43,1011.3,1011.37,1011.25,1011.22,1011.21,1011.25,1011.2,1011.23,1011.22,1011.19,1011.14,1011.19,1011.16,1011.18,1011.14,1011.17,1011.14,1011.09,1011.1,1011.11,1011.12,1010.99,1011.07,1011.08,1011.02,1010.95,1011.09,1011.01,1010.99,1011.07,1010.95,1010.94,1010.97,1010.97,1010.89,1010.9,1010.88,1010.87,1010.77,1010.84,1010.8,1010.83,1010.76,1010.77,1010.78,1010.74,1010.69,1010.68,1010.65,1010.63,1010.62,1010.65,1010.64,1010.61,1010.6,1010.56,1010.6,1010.53,1010.53,1010.53,1010.56,1010.48,1010.49,1010.47,1010.44,1010.43,1010.4,1010.4,1010.34,1010.32,1010.33,1010.29,1010.33,1010.36,1010.27,1010.31,1010.32,1010.32,1010.34,1010.24,1010.21,1010.25,1010.21,1010.15,1010.15,1010.16,1010.16,1010.16,1010.08,1010.16,1010.06,1010.03,1010.05,1010.1,1010.03,1009.97,1009.95,1009.97,1010.01,1009.9,1009.83,1009.87,1009.85,1009.81,1009.76,1009.81,1009.76,1009.76,1009.73,1009.74,1009.72,1009.69,1009.63,1009.66,1009.73,1009.68,1009.61,1009.64,1009.64,1009.65,1009.64,1009.62,1009.61,1009.62,1009.63,1009.61,1009.66,1009.55,1009.57,1009.48,1009.48,1009.47,1009.42,1009.47,1009.37,1009.3,1009.45,1009.35,1009.36,1009.4,1009.36,1009.33,1009.34,1009.34,1009.32,1009.32,1009.29,1009.27,1009.26,1009.37,1009.24,1009.18,1009.19,1009.16,1009.16,1009.12,1009.15,1009.2,1009.21,1009.13,1009.16,1009.27,1009.19,1009.2,1009.17,1009.16,1009.3,1009.19,1009.18,1009.17,1009.23,1009.18,1009.15,1009.19,1009.25,1009.24,1009.26,1009.33,1009.34,1009.33,1009.31,1009.3,1009.28,1009.32,1009.29,1009.28,1009.29,1009.26,1009.28,1009.28,1009.32,1009.39,1009.33,1009.35,1009.39,1009.33,1009.33,1009.27,1009.22,1009.16,1009.25,1009.18,1009.15,1009.12,1009.15,1009.06,1009.08,1009.09,1009.01,1009.0,1008.91,1008.93,1008.91,1008.89,1008.83,1008.86,1008.89,1008.91,1008.85,1008.9,1008.84,1008.87,1008.87,1008.88,1008.77,1008.85,1008.83,1008.73,1008.76,1008.69,1008.72,1008.69,1008.71,1008.64,1008.66,1008.72,1008.77,1008.75,1008.73,1008.7,1008.74,1008.73,1008.66,1008.68,1008.64,1008.61,1008.65,1008.65,1008.63,1008.64,1008.65,1008.66,1008.64,1008.7,1008.76,1008.68,1008.78,1008.82,1008.84,1008.83,1008.84,1008.86,1008.86,1008.88,1008.93,1008.89,1008.9,1008.97,1008.97,1009.0,1008.98,1008.99,1008.99,1009.04,1009.06,1009.08,1009.09,1009.09,1009.09,1009.08,1009.06,1009.13,1009.11,1009.15,1009.12,1009.12,1009.09,1009.12,1009.11,1009.13,1009.06,1009.1,1009.13,1009.1,1009.03,1009.09,1009.09,1009.09,1009.12,1009.15,1009.11,1009.12,1009.13,1009.1,1009.09,1009.12,1009.15,1009.17,1009.25,1009.25,1009.28,1009.36,1009.3,1009.34,1009.29,1009.24,1009.27,1009.33,1009.3,1009.31,1009.32,1009.36,1009.36,1009.34,1009.36,1009.33,1009.33,1009.38,1009.42,1009.45,1009.48,1009.49,1009.56,1009.57,1009.55,1009.57,1009.57,1009.57,1009.62,1009.64,1009.66,1009.67,1009.66,1009.65,1009.69,1009.74,1009.79,1009.8,1009.76,1009.76,1009.77,1009.78,1009.8,1009.85,1009.85,1009.81,1009.78,1009.75,1009.74,1009.73,1009.76,1009.79,1009.82,1009.87,1009.99,1010.05,1010.03,1010.09,1010.09,1010.1,1010.05,1010.07,1010.11,1010.11,1010.16,1010.15,1010.17,1010.18,1010.16,1010.2,1010.25,1010.23,1010.26,1010.29,1010.32,1010.34,1010.37,1010.35,1010.36,1010.37,1010.44,1010.45,1010.48,1010.5,1010.54,1010.57,1010.58,1010.62,1010.62,1010.61,1010.67,1010.68,1010.64,1010.74,1010.77,1010.82,1010.9,1010.9,1010.89,1011.0,1011.01,1011.02,1011.04,1011.05,1011.03,1011.05,1011.15,1011.16,1011.1,1011.15,1011.2,1011.17,1011.24,1011.22,1011.3,1011.2,1011.25,1011.26,1011.27,1011.28,1011.26,1011.23,1011.22,1011.27,1011.26,1011.22,1011.25,1011.23,1011.24,1011.26,1011.27,1011.35,1011.35,1011.42,1011.44,1011.51,1011.44,1011.46,1011.49,1011.57,1011.61,1011.55,1011.57,1011.65,1011.62,1011.67,1011.69,1011.72,1011.68,1011.71,1011.74,1011.74,1011.75,1011.73,1011.74,1011.74,1011.74,1011.75,1011.76,1011.78,1011.76,1011.76,1011.77,1011.72,1011.83,1011.77,1011.81,1011.83,1011.79,1011.81,1011.83,1011.81,1011.83,1011.88,1011.91,1011.92,1011.95,1011.98,1012.04],\"type\":\"scatter3d\"}],                        {\"template\":{\"data\":{\"histogram2dcontour\":[{\"type\":\"histogram2dcontour\",\"colorbar\":{\"outlinewidth\":0,\"ticks\":\"\"},\"colorscale\":[[0.0,\"#0d0887\"],[0.1111111111111111,\"#46039f\"],[0.2222222222222222,\"#7201a8\"],[0.3333333333333333,\"#9c179e\"],[0.4444444444444444,\"#bd3786\"],[0.5555555555555556,\"#d8576b\"],[0.6666666666666666,\"#ed7953\"],[0.7777777777777778,\"#fb9f3a\"],[0.8888888888888888,\"#fdca26\"],[1.0,\"#f0f921\"]]}],\"choropleth\":[{\"type\":\"choropleth\",\"colorbar\":{\"outlinewidth\":0,\"ticks\":\"\"}}],\"histogram2d\":[{\"type\":\"histogram2d\",\"colorbar\":{\"outlinewidth\":0,\"ticks\":\"\"},\"colorscale\":[[0.0,\"#0d0887\"],[0.1111111111111111,\"#46039f\"],[0.2222222222222222,\"#7201a8\"],[0.3333333333333333,\"#9c179e\"],[0.4444444444444444,\"#bd3786\"],[0.5555555555555556,\"#d8576b\"],[0.6666666666666666,\"#ed7953\"],[0.7777777777777778,\"#fb9f3a\"],[0.8888888888888888,\"#fdca26\"],[1.0,\"#f0f921\"]]}],\"heatmap\":[{\"type\":\"heatmap\",\"colorbar\":{\"outlinewidth\":0,\"ticks\":\"\"},\"colorscale\":[[0.0,\"#0d0887\"],[0.1111111111111111,\"#46039f\"],[0.2222222222222222,\"#7201a8\"],[0.3333333333333333,\"#9c179e\"],[0.4444444444444444,\"#bd3786\"],[0.5555555555555556,\"#d8576b\"],[0.6666666666666666,\"#ed7953\"],[0.7777777777777778,\"#fb9f3a\"],[0.8888888888888888,\"#fdca26\"],[1.0,\"#f0f921\"]]}],\"heatmapgl\":[{\"type\":\"heatmapgl\",\"colorbar\":{\"outlinewidth\":0,\"ticks\":\"\"},\"colorscale\":[[0.0,\"#0d0887\"],[0.1111111111111111,\"#46039f\"],[0.2222222222222222,\"#7201a8\"],[0.3333333333333333,\"#9c179e\"],[0.4444444444444444,\"#bd3786\"],[0.5555555555555556,\"#d8576b\"],[0.6666666666666666,\"#ed7953\"],[0.7777777777777778,\"#fb9f3a\"],[0.8888888888888888,\"#fdca26\"],[1.0,\"#f0f921\"]]}],\"contourcarpet\":[{\"type\":\"contourcarpet\",\"colorbar\":{\"outlinewidth\":0,\"ticks\":\"\"}}],\"contour\":[{\"type\":\"contour\",\"colorbar\":{\"outlinewidth\":0,\"ticks\":\"\"},\"colorscale\":[[0.0,\"#0d0887\"],[0.1111111111111111,\"#46039f\"],[0.2222222222222222,\"#7201a8\"],[0.3333333333333333,\"#9c179e\"],[0.4444444444444444,\"#bd3786\"],[0.5555555555555556,\"#d8576b\"],[0.6666666666666666,\"#ed7953\"],[0.7777777777777778,\"#fb9f3a\"],[0.8888888888888888,\"#fdca26\"],[1.0,\"#f0f921\"]]}],\"surface\":[{\"type\":\"surface\",\"colorbar\":{\"outlinewidth\":0,\"ticks\":\"\"},\"colorscale\":[[0.0,\"#0d0887\"],[0.1111111111111111,\"#46039f\"],[0.2222222222222222,\"#7201a8\"],[0.3333333333333333,\"#9c179e\"],[0.4444444444444444,\"#bd3786\"],[0.5555555555555556,\"#d8576b\"],[0.6666666666666666,\"#ed7953\"],[0.7777777777777778,\"#fb9f3a\"],[0.8888888888888888,\"#fdca26\"],[1.0,\"#f0f921\"]]}],\"mesh3d\":[{\"type\":\"mesh3d\",\"colorbar\":{\"outlinewidth\":0,\"ticks\":\"\"}}],\"scatter\":[{\"fillpattern\":{\"fillmode\":\"overlay\",\"size\":10,\"solidity\":0.2},\"type\":\"scatter\"}],\"parcoords\":[{\"type\":\"parcoords\",\"line\":{\"colorbar\":{\"outlinewidth\":0,\"ticks\":\"\"}}}],\"scatterpolargl\":[{\"type\":\"scatterpolargl\",\"marker\":{\"colorbar\":{\"outlinewidth\":0,\"ticks\":\"\"}}}],\"bar\":[{\"error_x\":{\"color\":\"#2a3f5f\"},\"error_y\":{\"color\":\"#2a3f5f\"},\"marker\":{\"line\":{\"color\":\"#E5ECF6\",\"width\":0.5},\"pattern\":{\"fillmode\":\"overlay\",\"size\":10,\"solidity\":0.2}},\"type\":\"bar\"}],\"scattergeo\":[{\"type\":\"scattergeo\",\"marker\":{\"colorbar\":{\"outlinewidth\":0,\"ticks\":\"\"}}}],\"scatterpolar\":[{\"type\":\"scatterpolar\",\"marker\":{\"colorbar\":{\"outlinewidth\":0,\"ticks\":\"\"}}}],\"histogram\":[{\"marker\":{\"pattern\":{\"fillmode\":\"overlay\",\"size\":10,\"solidity\":0.2}},\"type\":\"histogram\"}],\"scattergl\":[{\"type\":\"scattergl\",\"marker\":{\"colorbar\":{\"outlinewidth\":0,\"ticks\":\"\"}}}],\"scatter3d\":[{\"type\":\"scatter3d\",\"line\":{\"colorbar\":{\"outlinewidth\":0,\"ticks\":\"\"}},\"marker\":{\"colorbar\":{\"outlinewidth\":0,\"ticks\":\"\"}}}],\"scattermapbox\":[{\"type\":\"scattermapbox\",\"marker\":{\"colorbar\":{\"outlinewidth\":0,\"ticks\":\"\"}}}],\"scatterternary\":[{\"type\":\"scatterternary\",\"marker\":{\"colorbar\":{\"outlinewidth\":0,\"ticks\":\"\"}}}],\"scattercarpet\":[{\"type\":\"scattercarpet\",\"marker\":{\"colorbar\":{\"outlinewidth\":0,\"ticks\":\"\"}}}],\"carpet\":[{\"aaxis\":{\"endlinecolor\":\"#2a3f5f\",\"gridcolor\":\"white\",\"linecolor\":\"white\",\"minorgridcolor\":\"white\",\"startlinecolor\":\"#2a3f5f\"},\"baxis\":{\"endlinecolor\":\"#2a3f5f\",\"gridcolor\":\"white\",\"linecolor\":\"white\",\"minorgridcolor\":\"white\",\"startlinecolor\":\"#2a3f5f\"},\"type\":\"carpet\"}],\"table\":[{\"cells\":{\"fill\":{\"color\":\"#EBF0F8\"},\"line\":{\"color\":\"white\"}},\"header\":{\"fill\":{\"color\":\"#C8D4E3\"},\"line\":{\"color\":\"white\"}},\"type\":\"table\"}],\"barpolar\":[{\"marker\":{\"line\":{\"color\":\"#E5ECF6\",\"width\":0.5},\"pattern\":{\"fillmode\":\"overlay\",\"size\":10,\"solidity\":0.2}},\"type\":\"barpolar\"}],\"pie\":[{\"automargin\":true,\"type\":\"pie\"}]},\"layout\":{\"autotypenumbers\":\"strict\",\"colorway\":[\"#636efa\",\"#EF553B\",\"#00cc96\",\"#ab63fa\",\"#FFA15A\",\"#19d3f3\",\"#FF6692\",\"#B6E880\",\"#FF97FF\",\"#FECB52\"],\"font\":{\"color\":\"#2a3f5f\"},\"hovermode\":\"closest\",\"hoverlabel\":{\"align\":\"left\"},\"paper_bgcolor\":\"white\",\"plot_bgcolor\":\"#E5ECF6\",\"polar\":{\"bgcolor\":\"#E5ECF6\",\"angularaxis\":{\"gridcolor\":\"white\",\"linecolor\":\"white\",\"ticks\":\"\"},\"radialaxis\":{\"gridcolor\":\"white\",\"linecolor\":\"white\",\"ticks\":\"\"}},\"ternary\":{\"bgcolor\":\"#E5ECF6\",\"aaxis\":{\"gridcolor\":\"white\",\"linecolor\":\"white\",\"ticks\":\"\"},\"baxis\":{\"gridcolor\":\"white\",\"linecolor\":\"white\",\"ticks\":\"\"},\"caxis\":{\"gridcolor\":\"white\",\"linecolor\":\"white\",\"ticks\":\"\"}},\"coloraxis\":{\"colorbar\":{\"outlinewidth\":0,\"ticks\":\"\"}},\"colorscale\":{\"sequential\":[[0.0,\"#0d0887\"],[0.1111111111111111,\"#46039f\"],[0.2222222222222222,\"#7201a8\"],[0.3333333333333333,\"#9c179e\"],[0.4444444444444444,\"#bd3786\"],[0.5555555555555556,\"#d8576b\"],[0.6666666666666666,\"#ed7953\"],[0.7777777777777778,\"#fb9f3a\"],[0.8888888888888888,\"#fdca26\"],[1.0,\"#f0f921\"]],\"sequentialminus\":[[0.0,\"#0d0887\"],[0.1111111111111111,\"#46039f\"],[0.2222222222222222,\"#7201a8\"],[0.3333333333333333,\"#9c179e\"],[0.4444444444444444,\"#bd3786\"],[0.5555555555555556,\"#d8576b\"],[0.6666666666666666,\"#ed7953\"],[0.7777777777777778,\"#fb9f3a\"],[0.8888888888888888,\"#fdca26\"],[1.0,\"#f0f921\"]],\"diverging\":[[0,\"#8e0152\"],[0.1,\"#c51b7d\"],[0.2,\"#de77ae\"],[0.3,\"#f1b6da\"],[0.4,\"#fde0ef\"],[0.5,\"#f7f7f7\"],[0.6,\"#e6f5d0\"],[0.7,\"#b8e186\"],[0.8,\"#7fbc41\"],[0.9,\"#4d9221\"],[1,\"#276419\"]]},\"xaxis\":{\"gridcolor\":\"white\",\"linecolor\":\"white\",\"ticks\":\"\",\"title\":{\"standoff\":15},\"zerolinecolor\":\"white\",\"automargin\":true,\"zerolinewidth\":2},\"yaxis\":{\"gridcolor\":\"white\",\"linecolor\":\"white\",\"ticks\":\"\",\"title\":{\"standoff\":15},\"zerolinecolor\":\"white\",\"automargin\":true,\"zerolinewidth\":2},\"scene\":{\"xaxis\":{\"backgroundcolor\":\"#E5ECF6\",\"gridcolor\":\"white\",\"linecolor\":\"white\",\"showbackground\":true,\"ticks\":\"\",\"zerolinecolor\":\"white\",\"gridwidth\":2},\"yaxis\":{\"backgroundcolor\":\"#E5ECF6\",\"gridcolor\":\"white\",\"linecolor\":\"white\",\"showbackground\":true,\"ticks\":\"\",\"zerolinecolor\":\"white\",\"gridwidth\":2},\"zaxis\":{\"backgroundcolor\":\"#E5ECF6\",\"gridcolor\":\"white\",\"linecolor\":\"white\",\"showbackground\":true,\"ticks\":\"\",\"zerolinecolor\":\"white\",\"gridwidth\":2}},\"shapedefaults\":{\"line\":{\"color\":\"#2a3f5f\"}},\"annotationdefaults\":{\"arrowcolor\":\"#2a3f5f\",\"arrowhead\":0,\"arrowwidth\":1},\"geo\":{\"bgcolor\":\"white\",\"landcolor\":\"#E5ECF6\",\"subunitcolor\":\"white\",\"showland\":true,\"showlakes\":true,\"lakecolor\":\"white\"},\"title\":{\"x\":0.05},\"mapbox\":{\"style\":\"light\"}}},\"scene\":{\"xaxis\":{\"title\":{\"text\":\"Temperature (\\u00b0C)\"}},\"yaxis\":{\"title\":{\"text\":\"Humidity (%)\"}},\"zaxis\":{\"title\":{\"text\":\"Pressure (hPa)\"}}},\"title\":{\"text\":\"3D Scatter Plot of Temperature, Humidity, and Pressure\"}},                        {\"responsive\": true}                    ).then(function(){\n                            \nvar gd = document.getElementById('46f748da-3480-4106-b97c-b5c9fc602519');\nvar x = new MutationObserver(function (mutations, observer) {{\n        var display = window.getComputedStyle(gd).display;\n        if (!display || display === 'none') {{\n            console.log([gd, 'removed!']);\n            Plotly.purge(gd);\n            observer.disconnect();\n        }}\n}});\n\n// Listen for the removal of the full notebook cells\nvar notebookContainer = gd.closest('#notebook-container');\nif (notebookContainer) {{\n    x.observe(notebookContainer, {childList: true});\n}}\n\n// Listen for the clearing of the current output cell\nvar outputEl = gd.closest('.output');\nif (outputEl) {{\n    x.observe(outputEl, {childList: true});\n}}\n\n                        })                };                            </script>        </div>\n</body>\n</html>"
          },
          "metadata": {},
          "output_type": "display_data"
        }
      ],
      "outputs_reference": null,
      "execution_count": 8,
      "block_group": "1ca47155f15e4c0999f8893b1ed22c4a",
      "content_dependencies": null
    },
    {
      "cell_type": "code",
      "source": "import matplotlib.pyplot as plt\nimport numpy as np\n\n# Generate some sample data\nx = temperature = cuacaT['temperature'].tail(60*jam)\ny = humidity = cuacaT['humidity'].tail(60*jam)\nz = pressure = cuacaT['pressure'].tail(60*jam)\n\n\n# Create a 3D plot\nfig = plt.figure()\nax = fig.add_subplot(111, projection='3d')\n\n# Plot the 3D scatter\nax.scatter(x, y, z, c=z, cmap='viridis', marker='o')\n\n# Label the axes\nax.set_xlabel('Temperature (°C)')\nax.set_ylabel('Humidity (%)')\nax.set_zlabel('Pressure (hPa)')\n\n# Add a title\nax.set_title('Plot 3D: Temperature, Humidity, and Pressure')\n\n# Show the plot\nplt.show()\n",
      "metadata": {
        "source_hash": "185617ac",
        "execution_start": 1727699379665,
        "execution_millis": 432,
        "deepnote_to_be_reexecuted": false,
        "cell_id": "42c50c32bc1943e79e9d8d0204eec4a4",
        "deepnote_cell_type": "code"
      },
      "outputs": [
        {
          "data": {
            "text/plain": "<Figure size 1200x600 with 1 Axes>",
            "image/png": "[encoded data removed]"
          },
          "metadata": {
            "image/png": {
              "width": 505,
              "height": 507
            }
          },
          "output_type": "display_data"
        }
      ],
      "outputs_reference": null,
      "execution_count": 9,
      "block_group": "5bc214b93aad4fd99ff09e0f2b181989",
      "content_dependencies": null
    },
    {
      "cell_type": "code",
      "source": "# Simpan DataFrame 'cuacaT' ke file CSV bernama 'Cuaca.csv'\n# Menyimpan 1000 data terakhir dari DataFrame cuacaT ke file CSV\ncuacaT.tail(1000).to_csv(\n    'cuaca.csv', \n    sep=',',\n    index=False,\n    index_label='timestamp'\n)",
      "metadata": {
        "source_hash": "64b1aa2d",
        "execution_start": 1727699380030,
        "execution_millis": 261,
        "deepnote_to_be_reexecuted": false,
        "cell_id": "b62e6ca741e247b6be66844725d3fa21",
        "deepnote_cell_type": "code"
      },
      "outputs": [],
      "outputs_reference": null,
      "execution_count": 10,
      "block_group": "6dd4abcdee2c455c95fc5031700d3e8d",
      "content_dependencies": null
    },
    {
      "cell_type": "code",
      "source": "datacuaca = (lambda: _deepnote_execute_sql('SELECT \\n    *\\nFROM \\'cuaca.csv\\'', 'SQL_DEEPNOTE_DATAFRAME_SQL', audit_sql_comment='', sql_cache_mode='cache_disabled') if '_deepnote_execute_sql' in globals() else _dntk.execute_sql('SELECT \\n    *\\nFROM \\'cuaca.csv\\'', 'SQL_DEEPNOTE_DATAFRAME_SQL', audit_sql_comment='', sql_cache_mode='cache_disabled'))()\ndatacuaca",
      "metadata": {
        "source_hash": "6c9a7b4b",
        "execution_start": 1727699380236,
        "execution_millis": 799,
        "sql_integration_id": "deepnote-dataframe-sql",
        "deepnote_table_state": {
          "sortBy": [],
          "filters": [],
          "pageSize": 10,
          "pageIndex": 9,
          "conditionalFilters": []
        },
        "deepnote_table_loading": false,
        "deepnote_variable_name": "datacuaca",
        "deepnote_to_be_reexecuted": false,
        "cell_id": "aeb9bd6d2b1342b4b4c9e8aea678e513",
        "deepnote_cell_type": "sql",
        "deepnote_sql_source": "SELECT \n    *\nFROM 'cuaca.csv'"
      },
      "outputs": [
        {
          "output_type": "execute_result",
          "execution_count": 11,
          "data": {
            "application/vnd.deepnote.dataframe.v3+json": {
              "column_count": 6,
              "row_count": 1000,
              "columns": [
                {
                  "name": "dew",
                  "dtype": "float64",
                  "stats": {
                    "unique_count": 298,
                    "nan_count": 0,
                    "min": "24.04",
                    "max": "27.55",
                    "histogram": [
                      {
                        "bin_start": 24.04,
                        "bin_end": 24.391,
                        "count": 157
                      },
                      {
                        "bin_start": 24.391,
                        "bin_end": 24.742,
                        "count": 99
                      },
                      {
                        "bin_start": 24.742,
                        "bin_end": 25.093,
                        "count": 45
                      },
                      {
                        "bin_start": 25.093,
                        "bin_end": 25.444,
                        "count": 35
                      },
                      {
                        "bin_start": 25.444,
                        "bin_end": 25.795,
                        "count": 136
                      },
                      {
                        "bin_start": 25.795,
                        "bin_end": 26.146,
                        "count": 168
                      },
                      {
                        "bin_start": 26.146,
                        "bin_end": 26.497,
                        "count": 89
                      },
                      {
                        "bin_start": 26.497,
                        "bin_end": 26.848,
                        "count": 133
                      },
                      {
                        "bin_start": 26.848,
                        "bin_end": 27.199,
                        "count": 67
                      },
                      {
                        "bin_start": 27.199,
                        "bin_end": 27.55,
                        "count": 71
                      }
                    ]
                  }
                },
                {
                  "name": "humidity",
                  "dtype": "float64",
                  "stats": {
                    "unique_count": 725,
                    "nan_count": 0,
                    "min": "66.75",
                    "max": "95.01",
                    "histogram": [
                      {
                        "bin_start": 66.75,
                        "bin_end": 69.576,
                        "count": 172
                      },
                      {
                        "bin_start": 69.576,
                        "bin_end": 72.402,
                        "count": 108
                      },
                      {
                        "bin_start": 72.402,
                        "bin_end": 75.22800000000001,
                        "count": 33
                      },
                      {
                        "bin_start": 75.22800000000001,
                        "bin_end": 78.054,
                        "count": 54
                      },
                      {
                        "bin_start": 78.054,
                        "bin_end": 80.88,
                        "count": 75
                      },
                      {
                        "bin_start": 80.88,
                        "bin_end": 83.706,
                        "count": 103
                      },
                      {
                        "bin_start": 83.706,
                        "bin_end": 86.53200000000001,
                        "count": 68
                      },
                      {
                        "bin_start": 86.53200000000001,
                        "bin_end": 89.358,
                        "count": 107
                      },
                      {
                        "bin_start": 89.358,
                        "bin_end": 92.184,
                        "count": 13
                      },
                      {
                        "bin_start": 92.184,
                        "bin_end": 95.01,
                        "count": 267
                      }
                    ]
                  }
                },
                {
                  "name": "pressure",
                  "dtype": "float64",
                  "stats": {
                    "unique_count": 360,
                    "nan_count": 0,
                    "min": "1008.61",
                    "max": "1013.1",
                    "histogram": [
                      {
                        "bin_start": 1008.61,
                        "bin_end": 1009.059,
                        "count": 67
                      },
                      {
                        "bin_start": 1009.059,
                        "bin_end": 1009.508,
                        "count": 136
                      },
                      {
                        "bin_start": 1009.508,
                        "bin_end": 1009.957,
                        "count": 63
                      },
                      {
                        "bin_start": 1009.957,
                        "bin_end": 1010.4060000000001,
                        "count": 58
                      },
                      {
                        "bin_start": 1010.4060000000001,
                        "bin_end": 1010.855,
                        "count": 91
                      },
                      {
                        "bin_start": 1010.855,
                        "bin_end": 1011.304,
                        "count": 151
                      },
                      {
                        "bin_start": 1011.304,
                        "bin_end": 1011.753,
                        "count": 108
                      },
                      {
                        "bin_start": 1011.753,
                        "bin_end": 1012.202,
                        "count": 65
                      },
                      {
                        "bin_start": 1012.202,
                        "bin_end": 1012.6510000000001,
                        "count": 112
                      },
                      {
                        "bin_start": 1012.6510000000001,
                        "bin_end": 1013.1,
                        "count": 149
                      }
                    ]
                  }
                },
                {
                  "name": "temperature",
                  "dtype": "float64",
                  "stats": {
                    "unique_count": 485,
                    "nan_count": 0,
                    "min": "25.0",
                    "max": "33.98",
                    "histogram": [
                      {
                        "bin_start": 25,
                        "bin_end": 25.898,
                        "count": 256
                      },
                      {
                        "bin_start": 25.898,
                        "bin_end": 26.796,
                        "count": 26
                      },
                      {
                        "bin_start": 26.796,
                        "bin_end": 27.694,
                        "count": 22
                      },
                      {
                        "bin_start": 27.694,
                        "bin_end": 28.592,
                        "count": 150
                      },
                      {
                        "bin_start": 28.592,
                        "bin_end": 29.49,
                        "count": 77
                      },
                      {
                        "bin_start": 29.49,
                        "bin_end": 30.387999999999998,
                        "count": 78
                      },
                      {
                        "bin_start": 30.387999999999998,
                        "bin_end": 31.285999999999998,
                        "count": 78
                      },
                      {
                        "bin_start": 31.285999999999998,
                        "bin_end": 32.184,
                        "count": 58
                      },
                      {
                        "bin_start": 32.184,
                        "bin_end": 33.081999999999994,
                        "count": 57
                      },
                      {
                        "bin_start": 33.081999999999994,
                        "bin_end": 33.98,
                        "count": 198
                      }
                    ]
                  }
                },
                {
                  "name": "timestamp",
                  "dtype": "datetime64[us]",
                  "stats": {
                    "unique_count": 1000,
                    "nan_count": 0,
                    "min": "2024-09-29 19:40:54",
                    "max": "2024-09-30 12:25:03",
                    "histogram": [
                      {
                        "bin_start": 1727638854000000,
                        "bin_end": 1727644878900000,
                        "count": 101
                      },
                      {
                        "bin_start": 1727644878900000,
                        "bin_end": 1727650903800000,
                        "count": 100
                      },
                      {
                        "bin_start": 1727650903800000,
                        "bin_end": 1727656928700000,
                        "count": 101
                      },
                      {
                        "bin_start": 1727656928700000,
                        "bin_end": 1727662953600000,
                        "count": 100
                      },
                      {
                        "bin_start": 1727662953600000,
                        "bin_end": 1727668978500000,
                        "count": 99
                      },
                      {
                        "bin_start": 1727668978500000,
                        "bin_end": 1727675003400000,
                        "count": 101
                      },
                      {
                        "bin_start": 1727675003400000,
                        "bin_end": 1727681028300000,
                        "count": 100
                      },
                      {
                        "bin_start": 1727681028300000,
                        "bin_end": 1727687053200000,
                        "count": 99
                      },
                      {
                        "bin_start": 1727687053200000,
                        "bin_end": 1727693078100000,
                        "count": 99
                      },
                      {
                        "bin_start": 1727693078100000,
                        "bin_end": 1727699103000000,
                        "count": 100
                      }
                    ]
                  }
                },
                {
                  "name": "volt",
                  "dtype": "float64",
                  "stats": {
                    "unique_count": 11,
                    "nan_count": 0,
                    "min": "4.04",
                    "max": "4.14",
                    "histogram": [
                      {
                        "bin_start": 4.04,
                        "bin_end": 4.05,
                        "count": 179
                      },
                      {
                        "bin_start": 4.05,
                        "bin_end": 4.06,
                        "count": 96
                      },
                      {
                        "bin_start": 4.06,
                        "bin_end": 4.07,
                        "count": 45
                      },
                      {
                        "bin_start": 4.07,
                        "bin_end": 4.08,
                        "count": 12
                      },
                      {
                        "bin_start": 4.08,
                        "bin_end": 4.09,
                        "count": 23
                      },
                      {
                        "bin_start": 4.09,
                        "bin_end": 4.1,
                        "count": 30
                      },
                      {
                        "bin_start": 4.1,
                        "bin_end": 4.109999999999999,
                        "count": 58
                      },
                      {
                        "bin_start": 4.109999999999999,
                        "bin_end": 4.12,
                        "count": 296
                      },
                      {
                        "bin_start": 4.12,
                        "bin_end": 4.13,
                        "count": 248
                      },
                      {
                        "bin_start": 4.13,
                        "bin_end": 4.14,
                        "count": 13
                      }
                    ]
                  }
                },
                {
                  "name": "_deepnote_index_column",
                  "dtype": "int64"
                }
              ],
              "rows": [
                {
                  "dew": 24.26,
                  "humidity": 93.65,
                  "pressure": 1010.97,
                  "temperature": 25.36,
                  "timestamp": "2024-09-29 21:10:55",
                  "volt": 4.04,
                  "_deepnote_index_column": 90
                },
                {
                  "dew": 24.25,
                  "humidity": 93.64,
                  "pressure": 1010.99,
                  "temperature": 25.35,
                  "timestamp": "2024-09-29 21:11:55",
                  "volt": 4.04,
                  "_deepnote_index_column": 91
                },
                {
                  "dew": 24.27,
                  "humidity": 93.64,
                  "pressure": 1010.99,
                  "temperature": 25.37,
                  "timestamp": "2024-09-29 21:12:55",
                  "volt": 4.04,
                  "_deepnote_index_column": 92
                },
                {
                  "dew": 24.26,
                  "humidity": 93.64,
                  "pressure": 1011.02,
                  "temperature": 25.36,
                  "timestamp": "2024-09-29 21:13:55",
                  "volt": 4.04,
                  "_deepnote_index_column": 93
                },
                {
                  "dew": 24.23,
                  "humidity": 93.65,
                  "pressure": 1011.02,
                  "temperature": 25.33,
                  "timestamp": "2024-09-29 21:14:55",
                  "volt": 4.04,
                  "_deepnote_index_column": 94
                },
                {
                  "dew": 24.24,
                  "humidity": 93.66,
                  "pressure": 1011.01,
                  "temperature": 25.34,
                  "timestamp": "2024-09-29 21:15:55",
                  "volt": 4.04,
                  "_deepnote_index_column": 95
                },
                {
                  "dew": 24.23,
                  "humidity": 93.66,
                  "pressure": 1011.05,
                  "temperature": 25.33,
                  "timestamp": "2024-09-29 21:16:55",
                  "volt": 4.04,
                  "_deepnote_index_column": 96
                },
                {
                  "dew": 24.24,
                  "humidity": 93.63,
                  "pressure": 1011.03,
                  "temperature": 25.34,
                  "timestamp": "2024-09-29 21:17:55",
                  "volt": 4.04,
                  "_deepnote_index_column": 97
                },
                {
                  "dew": 24.25,
                  "humidity": 93.68,
                  "pressure": 1011.03,
                  "temperature": 25.34,
                  "timestamp": "2024-09-29 21:18:55",
                  "volt": 4.04,
                  "_deepnote_index_column": 98
                },
                {
                  "dew": 24.25,
                  "humidity": 93.72,
                  "pressure": 1011.07,
                  "temperature": 25.34,
                  "timestamp": "2024-09-29 21:19:55",
                  "volt": 4.04,
                  "_deepnote_index_column": 99
                }
              ]
            },
            "text/plain": "       dew  humidity  pressure  temperature           timestamp  volt\n0    24.59     93.27   1010.76        25.76 2024-09-29 19:40:54  4.04\n1    24.58     93.27   1010.75        25.75 2024-09-29 19:41:54  4.04\n2    24.55     93.29   1010.73        25.72 2024-09-29 19:42:54  4.04\n3    24.58     93.32   1010.69        25.74 2024-09-29 19:43:54  4.04\n4    24.56     93.33   1010.72        25.72 2024-09-29 19:44:54  4.05\n..     ...       ...       ...          ...                 ...   ...\n995  25.98     88.30   1011.91        28.10 2024-09-30 12:21:04  4.05\n996  26.01     88.49   1011.92        28.09 2024-09-30 12:22:04  4.05\n997  26.00     88.54   1011.95        28.07 2024-09-30 12:23:03  4.05\n998  26.01     88.61   1011.98        28.07 2024-09-30 12:24:04  4.06\n999  26.02     88.64   1012.04        28.07 2024-09-30 12:25:03  4.06\n\n[1000 rows x 6 columns]",
            "text/html": "<div>\n<style scoped>\n    .dataframe tbody tr th:only-of-type {\n        vertical-align: middle;\n    }\n\n    .dataframe tbody tr th {\n        vertical-align: top;\n    }\n\n    .dataframe thead th {\n        text-align: right;\n    }\n</style>\n<table border=\"1\" class=\"dataframe\">\n  <thead>\n    <tr style=\"text-align: right;\">\n      <th></th>\n      <th>dew</th>\n      <th>humidity</th>\n      <th>pressure</th>\n      <th>temperature</th>\n      <th>timestamp</th>\n      <th>volt</th>\n    </tr>\n  </thead>\n  <tbody>\n    <tr>\n      <th>0</th>\n      <td>24.59</td>\n      <td>93.27</td>\n      <td>1010.76</td>\n      <td>25.76</td>\n      <td>2024-09-29 19:40:54</td>\n      <td>4.04</td>\n    </tr>\n    <tr>\n      <th>1</th>\n      <td>24.58</td>\n      <td>93.27</td>\n      <td>1010.75</td>\n      <td>25.75</td>\n      <td>2024-09-29 19:41:54</td>\n      <td>4.04</td>\n    </tr>\n    <tr>\n      <th>2</th>\n      <td>24.55</td>\n      <td>93.29</td>\n      <td>1010.73</td>\n      <td>25.72</td>\n      <td>2024-09-29 19:42:54</td>\n      <td>4.04</td>\n    </tr>\n    <tr>\n      <th>3</th>\n      <td>24.58</td>\n      <td>93.32</td>\n      <td>1010.69</td>\n      <td>25.74</td>\n      <td>2024-09-29 19:43:54</td>\n      <td>4.04</td>\n    </tr>\n    <tr>\n      <th>4</th>\n      <td>24.56</td>\n      <td>93.33</td>\n      <td>1010.72</td>\n      <td>25.72</td>\n      <td>2024-09-29 19:44:54</td>\n      <td>4.05</td>\n    </tr>\n    <tr>\n      <th>...</th>\n      <td>...</td>\n      <td>...</td>\n      <td>...</td>\n      <td>...</td>\n      <td>...</td>\n      <td>...</td>\n    </tr>\n    <tr>\n      <th>995</th>\n      <td>25.98</td>\n      <td>88.30</td>\n      <td>1011.91</td>\n      <td>28.10</td>\n      <td>2024-09-30 12:21:04</td>\n      <td>4.05</td>\n    </tr>\n    <tr>\n      <th>996</th>\n      <td>26.01</td>\n      <td>88.49</td>\n      <td>1011.92</td>\n      <td>28.09</td>\n      <td>2024-09-30 12:22:04</td>\n      <td>4.05</td>\n    </tr>\n    <tr>\n      <th>997</th>\n      <td>26.00</td>\n      <td>88.54</td>\n      <td>1011.95</td>\n      <td>28.07</td>\n      <td>2024-09-30 12:23:03</td>\n      <td>4.05</td>\n    </tr>\n    <tr>\n      <th>998</th>\n      <td>26.01</td>\n      <td>88.61</td>\n      <td>1011.98</td>\n      <td>28.07</td>\n      <td>2024-09-30 12:24:04</td>\n      <td>4.06</td>\n    </tr>\n    <tr>\n      <th>999</th>\n      <td>26.02</td>\n      <td>88.64</td>\n      <td>1012.04</td>\n      <td>28.07</td>\n      <td>2024-09-30 12:25:03</td>\n      <td>4.06</td>\n    </tr>\n  </tbody>\n</table>\n<p>1000 rows × 6 columns</p>\n</div>"
          },
          "metadata": {}
        }
      ],
      "outputs_reference": null,
      "execution_count": 11,
      "block_group": "673c46631e0e4b319d3d1b6eccb072d9",
      "content_dependencies": null
    },
    {
      "cell_type": "code",
      "source": "(lambda: DeepnoteChart(datacuaca, \"\"\"{\"mark\":{\"type\":\"bar\",\"tooltip\":true},\"width\":\"container\",\"config\":{\"customFormatTypes\":true},\"height\":\"container\",\"$schema\":\"https://vega.github.io/schema/vega-lite/v5.json\",\"encoding\":{\"x\":{\"sort\":null,\"type\":\"nominal\",\"field\":\"\",\"scale\":{\"type\":\"linear\"},\"format\":{\"type\":\"default\",\"decimals\":null}},\"y\":{\"sort\":null,\"type\":\"nominal\",\"field\":\"\",\"scale\":{\"type\":\"linear\"},\"format\":{\"type\":\"default\",\"decimals\":null}},\"color\":{\"sort\":null,\"type\":\"nominal\",\"field\":\"\",\"scale\":{\"type\":\"linear\"},\"format\":{\"type\":\"default\",\"decimals\":null}}},\"usermeta\":{\"tooltipDefaultMode\":true}}\"\"\") if 'DeepnoteChart' in globals() else _dntk.DeepnoteChart(datacuaca, \"\"\"{\"mark\":{\"type\":\"bar\",\"tooltip\":true},\"width\":\"container\",\"config\":{\"customFormatTypes\":true},\"height\":\"container\",\"$schema\":\"https://vega.github.io/schema/vega-lite/v5.json\",\"encoding\":{\"x\":{\"sort\":null,\"type\":\"nominal\",\"field\":\"\",\"scale\":{\"type\":\"linear\"},\"format\":{\"type\":\"default\",\"decimals\":null}},\"y\":{\"sort\":null,\"type\":\"nominal\",\"field\":\"\",\"scale\":{\"type\":\"linear\"},\"format\":{\"type\":\"default\",\"decimals\":null}},\"color\":{\"sort\":null,\"type\":\"nominal\",\"field\":\"\",\"scale\":{\"type\":\"linear\"},\"format\":{\"type\":\"default\",\"decimals\":null}}},\"usermeta\":{\"tooltipDefaultMode\":true}}\"\"\"))()",
      "metadata": {
        "source_hash": "a6a36731",
        "execution_start": 1727699381040,
        "execution_millis": 361,
        "deepnote_variable_name": "datacuaca",
        "deepnote_to_be_reexecuted": false,
        "deepnote_visualization_spec": {
          "mark": {
            "type": "bar",
            "tooltip": true
          },
          "width": "container",
          "config": {
            "customFormatTypes": true
          },
          "height": "container",
          "$schema": "https://vega.github.io/schema/vega-lite/v5.json",
          "encoding": {
            "x": {
              "sort": null,
              "type": "nominal",
              "field": "",
              "scale": {
                "type": "linear"
              },
              "format": {
                "type": "default",
                "decimals": null
              }
            },
            "y": {
              "sort": null,
              "type": "nominal",
              "field": "",
              "scale": {
                "type": "linear"
              },
              "format": {
                "type": "default",
                "decimals": null
              }
            },
            "color": {
              "sort": null,
              "type": "nominal",
              "field": "",
              "scale": {
                "type": "linear"
              },
              "format": {
                "type": "default",
                "decimals": null
              }
            }
          },
          "usermeta": {
            "tooltipDefaultMode": true
          }
        },
        "cell_id": "2cedbbf732d9449fb1f13dcc346afbf7",
        "deepnote_cell_type": "visualization"
      },
      "outputs": [
        {
          "output_type": "execute_result",
          "execution_count": 12,
          "data": {
            "application/vnd.vegalite.v5+json": {
              "mark": {
                "type": "bar",
                "tooltip": true
              },
              "width": "container",
              "config": {
                "customFormatTypes": true
              },
              "height": "container",
              "$schema": "https://vega.github.io/schema/vega-lite/v5.json",
              "encoding": {
                "x": {
                  "sort": null,
                  "type": "nominal",
                  "field": "",
                  "scale": {
                    "type": "linear"
                  },
                  "format": {
                    "type": "default",
                    "decimals": null
                  }
                },
                "y": {
                  "sort": null,
                  "type": "nominal",
                  "field": "",
                  "scale": {
                    "type": "linear"
                  },
                  "format": {
                    "type": "default",
                    "decimals": null
                  }
                },
                "color": {
                  "sort": null,
                  "type": "nominal",
                  "field": "",
                  "scale": {
                    "type": "linear"
                  },
                  "format": {
                    "type": "default",
                    "decimals": null
                  }
                }
              },
              "usermeta": {
                "tooltipDefaultMode": true
              },
              "data": {
                "values": [
                  {
                    "dew": 24.59,
                    "humidity": 93.27,
                    "pressure": 1010.76,
                    "temperature": 25.76,
                    "timestamp": "2024-09-29T19:40:54",
                    "volt": 4.04
                  },
                  {
                    "dew": 24.58,
                    "humidity": 93.27,
                    "pressure": 1010.75,
                    "temperature": 25.75,
                    "timestamp": "2024-09-29T19:41:54",
                    "volt": 4.04
                  },
                  {
                    "dew": 24.55,
                    "humidity": 93.29,
                    "pressure": 1010.73,
                    "temperature": 25.72,
                    "timestamp": "2024-09-29T19:42:54",
                    "volt": 4.04
                  },
                  {
                    "dew": 24.58,
                    "humidity": 93.32,
                    "pressure": 1010.69,
                    "temperature": 25.74,
                    "timestamp": "2024-09-29T19:43:54",
                    "volt": 4.04
                  },
                  {
                    "dew": 24.56,
                    "humidity": 93.33,
                    "pressure": 1010.72,
                    "temperature": 25.72,
                    "timestamp": "2024-09-29T19:44:54",
                    "volt": 4.05
                  },
                  {
                    "dew": 24.55,
                    "humidity": 93.3,
                    "pressure": 1010.69,
                    "temperature": 25.71,
                    "timestamp": "2024-09-29T19:45:54",
                    "volt": 4.04
                  },
                  {
                    "dew": 24.54,
                    "humidity": 93.28,
                    "pressure": 1010.71,
                    "temperature": 25.71,
                    "timestamp": "2024-09-29T19:46:54",
                    "volt": 4.04
                  },
                  {
                    "dew": 24.52,
                    "humidity": 93.29,
                    "pressure": 1010.71,
                    "temperature": 25.69,
                    "timestamp": "2024-09-29T19:47:54",
                    "volt": 4.04
                  },
                  {
                    "dew": 24.54,
                    "humidity": 93.27,
                    "pressure": 1010.68,
                    "temperature": 25.71,
                    "timestamp": "2024-09-29T19:48:54",
                    "volt": 4.04
                  },
                  {
                    "dew": 24.53,
                    "humidity": 93.3,
                    "pressure": 1010.69,
                    "temperature": 25.69,
                    "timestamp": "2024-09-29T19:49:54",
                    "volt": 4.04
                  },
                  {
                    "dew": 24.53,
                    "humidity": 93.32,
                    "pressure": 1010.69,
                    "temperature": 25.69,
                    "timestamp": "2024-09-29T19:50:54",
                    "volt": 4.04
                  },
                  {
                    "dew": 24.51,
                    "humidity": 93.34,
                    "pressure": 1010.73,
                    "temperature": 25.67,
                    "timestamp": "2024-09-29T19:51:54",
                    "volt": 4.04
                  },
                  {
                    "dew": 24.51,
                    "humidity": 93.31,
                    "pressure": 1010.67,
                    "temperature": 25.67,
                    "timestamp": "2024-09-29T19:52:54",
                    "volt": 4.05
                  },
                  {
                    "dew": 24.51,
                    "humidity": 93.32,
                    "pressure": 1010.72,
                    "temperature": 25.67,
                    "timestamp": "2024-09-29T19:53:54",
                    "volt": 4.04
                  },
                  {
                    "dew": 24.5,
                    "humidity": 93.31,
                    "pressure": 1010.73,
                    "temperature": 25.66,
                    "timestamp": "2024-09-29T19:54:54",
                    "volt": 4.04
                  },
                  {
                    "dew": 24.52,
                    "humidity": 93.42,
                    "pressure": 1010.77,
                    "temperature": 25.66,
                    "timestamp": "2024-09-29T19:55:55",
                    "volt": 4.04
                  },
                  {
                    "dew": 24.52,
                    "humidity": 93.42,
                    "pressure": 1010.79,
                    "temperature": 25.66,
                    "timestamp": "2024-09-29T19:56:54",
                    "volt": 4.04
                  },
                  {
                    "dew": 24.51,
                    "humidity": 93.42,
                    "pressure": 1010.81,
                    "temperature": 25.65,
                    "timestamp": "2024-09-29T19:57:54",
                    "volt": 4.04
                  },
                  {
                    "dew": 24.53,
                    "humidity": 93.41,
                    "pressure": 1010.83,
                    "temperature": 25.67,
                    "timestamp": "2024-09-29T19:58:54",
                    "volt": 4.04
                  },
                  {
                    "dew": 24.51,
                    "humidity": 93.41,
                    "pressure": 1010.82,
                    "temperature": 25.65,
                    "timestamp": "2024-09-29T19:59:54",
                    "volt": 4.04
                  },
                  {
                    "dew": 24.51,
                    "humidity": 93.4,
                    "pressure": 1010.84,
                    "temperature": 25.66,
                    "timestamp": "2024-09-29T20:00:54",
                    "volt": 4.04
                  },
                  {
                    "dew": 24.51,
                    "humidity": 93.4,
                    "pressure": 1010.9,
                    "temperature": 25.66,
                    "timestamp": "2024-09-29T20:01:54",
                    "volt": 4.04
                  },
                  {
                    "dew": 24.52,
                    "humidity": 93.41,
                    "pressure": 1010.87,
                    "temperature": 25.66,
                    "timestamp": "2024-09-29T20:02:54",
                    "volt": 4.05
                  },
                  {
                    "dew": 24.5,
                    "humidity": 93.39,
                    "pressure": 1010.9,
                    "temperature": 25.65,
                    "timestamp": "2024-09-29T20:03:54",
                    "volt": 4.04
                  },
                  {
                    "dew": 24.5,
                    "humidity": 93.38,
                    "pressure": 1010.91,
                    "temperature": 25.65,
                    "timestamp": "2024-09-29T20:04:54",
                    "volt": 4.04
                  },
                  {
                    "dew": 24.5,
                    "humidity": 93.4,
                    "pressure": 1010.95,
                    "temperature": 25.65,
                    "timestamp": "2024-09-29T20:05:54",
                    "volt": 4.04
                  },
                  {
                    "dew": 24.5,
                    "humidity": 93.45,
                    "pressure": 1010.97,
                    "temperature": 25.64,
                    "timestamp": "2024-09-29T20:06:54",
                    "volt": 4.04
                  },
                  {
                    "dew": 24.52,
                    "humidity": 93.51,
                    "pressure": 1010.95,
                    "temperature": 25.65,
                    "timestamp": "2024-09-29T20:07:54",
                    "volt": 4.04
                  },
                  {
                    "dew": 24.5,
                    "humidity": 93.51,
                    "pressure": 1010.97,
                    "temperature": 25.63,
                    "timestamp": "2024-09-29T20:08:54",
                    "volt": 4.04
                  },
                  {
                    "dew": 24.51,
                    "humidity": 93.49,
                    "pressure": 1010.95,
                    "temperature": 25.64,
                    "timestamp": "2024-09-29T20:09:54",
                    "volt": 4.04
                  },
                  {
                    "dew": 24.48,
                    "humidity": 93.51,
                    "pressure": 1010.94,
                    "temperature": 25.61,
                    "timestamp": "2024-09-29T20:10:54",
                    "volt": 4.04
                  },
                  {
                    "dew": 24.48,
                    "humidity": 93.56,
                    "pressure": 1010.95,
                    "temperature": 25.6,
                    "timestamp": "2024-09-29T20:11:54",
                    "volt": 4.04
                  },
                  {
                    "dew": 24.5,
                    "humidity": 93.57,
                    "pressure": 1010.92,
                    "temperature": 25.62,
                    "timestamp": "2024-09-29T20:12:54",
                    "volt": 4.04
                  },
                  {
                    "dew": 24.48,
                    "humidity": 93.56,
                    "pressure": 1010.92,
                    "temperature": 25.6,
                    "timestamp": "2024-09-29T20:13:54",
                    "volt": 4.04
                  },
                  {
                    "dew": 24.44,
                    "humidity": 93.51,
                    "pressure": 1010.97,
                    "temperature": 25.57,
                    "timestamp": "2024-09-29T20:14:54",
                    "volt": 4.04
                  },
                  {
                    "dew": 24.45,
                    "humidity": 93.5,
                    "pressure": 1010.96,
                    "temperature": 25.58,
                    "timestamp": "2024-09-29T20:15:54",
                    "volt": 4.04
                  },
                  {
                    "dew": 24.45,
                    "humidity": 93.52,
                    "pressure": 1010.95,
                    "temperature": 25.57,
                    "timestamp": "2024-09-29T20:16:54",
                    "volt": 4.04
                  },
                  {
                    "dew": 24.48,
                    "humidity": 93.59,
                    "pressure": 1010.96,
                    "temperature": 25.59,
                    "timestamp": "2024-09-29T20:17:54",
                    "volt": 4.04
                  },
                  {
                    "dew": 24.44,
                    "humidity": 93.61,
                    "pressure": 1010.94,
                    "temperature": 25.55,
                    "timestamp": "2024-09-29T20:18:54",
                    "volt": 4.04
                  },
                  {
                    "dew": 24.45,
                    "humidity": 93.57,
                    "pressure": 1010.92,
                    "temperature": 25.56,
                    "timestamp": "2024-09-29T20:19:54",
                    "volt": 4.04
                  },
                  {
                    "dew": 24.45,
                    "humidity": 93.59,
                    "pressure": 1010.9,
                    "temperature": 25.56,
                    "timestamp": "2024-09-29T20:20:54",
                    "volt": 4.04
                  },
                  {
                    "dew": 24.46,
                    "humidity": 93.59,
                    "pressure": 1010.89,
                    "temperature": 25.57,
                    "timestamp": "2024-09-29T20:21:54",
                    "volt": 4.04
                  },
                  {
                    "dew": 24.46,
                    "humidity": 93.62,
                    "pressure": 1010.88,
                    "temperature": 25.57,
                    "timestamp": "2024-09-29T20:22:54",
                    "volt": 4.04
                  },
                  {
                    "dew": 24.45,
                    "humidity": 93.62,
                    "pressure": 1010.88,
                    "temperature": 25.56,
                    "timestamp": "2024-09-29T20:23:54",
                    "volt": 4.04
                  },
                  {
                    "dew": 24.45,
                    "humidity": 93.62,
                    "pressure": 1010.89,
                    "temperature": 25.56,
                    "timestamp": "2024-09-29T20:24:54",
                    "volt": 4.04
                  },
                  {
                    "dew": 24.44,
                    "humidity": 93.6,
                    "pressure": 1010.95,
                    "temperature": 25.55,
                    "timestamp": "2024-09-29T20:25:54",
                    "volt": 4.05
                  },
                  {
                    "dew": 24.44,
                    "humidity": 93.62,
                    "pressure": 1010.87,
                    "temperature": 25.55,
                    "timestamp": "2024-09-29T20:26:54",
                    "volt": 4.04
                  },
                  {
                    "dew": 24.43,
                    "humidity": 93.61,
                    "pressure": 1010.92,
                    "temperature": 25.54,
                    "timestamp": "2024-09-29T20:27:54",
                    "volt": 4.04
                  },
                  {
                    "dew": 24.42,
                    "humidity": 93.6,
                    "pressure": 1010.91,
                    "temperature": 25.53,
                    "timestamp": "2024-09-29T20:28:54",
                    "volt": 4.04
                  },
                  {
                    "dew": 24.44,
                    "humidity": 93.61,
                    "pressure": 1010.87,
                    "temperature": 25.55,
                    "timestamp": "2024-09-29T20:29:54",
                    "volt": 4.04
                  },
                  {
                    "dew": 24.42,
                    "humidity": 93.6,
                    "pressure": 1010.86,
                    "temperature": 25.53,
                    "timestamp": "2024-09-29T20:30:54",
                    "volt": 4.04
                  },
                  {
                    "dew": 24.39,
                    "humidity": 93.56,
                    "pressure": 1010.82,
                    "temperature": 25.51,
                    "timestamp": "2024-09-29T20:31:54",
                    "volt": 4.04
                  },
                  {
                    "dew": 24.41,
                    "humidity": 93.57,
                    "pressure": 1010.81,
                    "temperature": 25.52,
                    "timestamp": "2024-09-29T20:32:54",
                    "volt": 4.04
                  },
                  {
                    "dew": 24.39,
                    "humidity": 93.58,
                    "pressure": 1010.79,
                    "temperature": 25.5,
                    "timestamp": "2024-09-29T20:33:54",
                    "volt": 4.04
                  },
                  {
                    "dew": 24.41,
                    "humidity": 93.63,
                    "pressure": 1010.8,
                    "temperature": 25.51,
                    "timestamp": "2024-09-29T20:34:54",
                    "volt": 4.04
                  },
                  {
                    "dew": 24.42,
                    "humidity": 93.67,
                    "pressure": 1010.8,
                    "temperature": 25.52,
                    "timestamp": "2024-09-29T20:35:54",
                    "volt": 4.04
                  },
                  {
                    "dew": 24.4,
                    "humidity": 93.66,
                    "pressure": 1010.8,
                    "temperature": 25.5,
                    "timestamp": "2024-09-29T20:36:54",
                    "volt": 4.04
                  },
                  {
                    "dew": 24.4,
                    "humidity": 93.64,
                    "pressure": 1010.81,
                    "temperature": 25.5,
                    "timestamp": "2024-09-29T20:37:54",
                    "volt": 4.04
                  },
                  {
                    "dew": 24.42,
                    "humidity": 93.64,
                    "pressure": 1010.84,
                    "temperature": 25.52,
                    "timestamp": "2024-09-29T20:38:54",
                    "volt": 4.04
                  },
                  {
                    "dew": 24.38,
                    "humidity": 93.65,
                    "pressure": 1010.81,
                    "temperature": 25.48,
                    "timestamp": "2024-09-29T20:39:54",
                    "volt": 4.04
                  },
                  {
                    "dew": 24.4,
                    "humidity": 93.64,
                    "pressure": 1010.82,
                    "temperature": 25.5,
                    "timestamp": "2024-09-29T20:40:54",
                    "volt": 4.04
                  },
                  {
                    "dew": 24.39,
                    "humidity": 93.64,
                    "pressure": 1010.81,
                    "temperature": 25.49,
                    "timestamp": "2024-09-29T20:41:54",
                    "volt": 4.04
                  },
                  {
                    "dew": 24.39,
                    "humidity": 93.65,
                    "pressure": 1010.81,
                    "temperature": 25.49,
                    "timestamp": "2024-09-29T20:42:54",
                    "volt": 4.04
                  },
                  {
                    "dew": 24.4,
                    "humidity": 93.65,
                    "pressure": 1010.81,
                    "temperature": 25.5,
                    "timestamp": "2024-09-29T20:43:54",
                    "volt": 4.04
                  },
                  {
                    "dew": 24.37,
                    "humidity": 93.66,
                    "pressure": 1010.81,
                    "temperature": 25.47,
                    "timestamp": "2024-09-29T20:44:54",
                    "volt": 4.04
                  },
                  {
                    "dew": 24.4,
                    "humidity": 93.71,
                    "pressure": 1010.82,
                    "temperature": 25.49,
                    "timestamp": "2024-09-29T20:45:54",
                    "volt": 4.04
                  },
                  {
                    "dew": 24.37,
                    "humidity": 93.71,
                    "pressure": 1010.83,
                    "temperature": 25.46,
                    "timestamp": "2024-09-29T20:46:54",
                    "volt": 4.04
                  },
                  {
                    "dew": 24.36,
                    "humidity": 93.67,
                    "pressure": 1010.87,
                    "temperature": 25.46,
                    "timestamp": "2024-09-29T20:47:54",
                    "volt": 4.04
                  },
                  {
                    "dew": 24.36,
                    "humidity": 93.71,
                    "pressure": 1010.86,
                    "temperature": 25.45,
                    "timestamp": "2024-09-29T20:48:54",
                    "volt": 4.04
                  },
                  {
                    "dew": 24.35,
                    "humidity": 93.69,
                    "pressure": 1010.86,
                    "temperature": 25.44,
                    "timestamp": "2024-09-29T20:49:54",
                    "volt": 4.04
                  },
                  {
                    "dew": 24.37,
                    "humidity": 93.64,
                    "pressure": 1010.88,
                    "temperature": 25.47,
                    "timestamp": "2024-09-29T20:50:54",
                    "volt": 4.04
                  },
                  {
                    "dew": 24.35,
                    "humidity": 93.66,
                    "pressure": 1010.87,
                    "temperature": 25.45,
                    "timestamp": "2024-09-29T20:51:55",
                    "volt": 4.04
                  },
                  {
                    "dew": 24.35,
                    "humidity": 93.67,
                    "pressure": 1010.89,
                    "temperature": 25.45,
                    "timestamp": "2024-09-29T20:52:54",
                    "volt": 4.04
                  },
                  {
                    "dew": 24.34,
                    "humidity": 93.66,
                    "pressure": 1010.88,
                    "temperature": 25.44,
                    "timestamp": "2024-09-29T20:53:54",
                    "volt": 4.04
                  },
                  {
                    "dew": 24.34,
                    "humidity": 93.64,
                    "pressure": 1010.89,
                    "temperature": 25.44,
                    "timestamp": "2024-09-29T20:54:54",
                    "volt": 4.04
                  },
                  {
                    "dew": 24.35,
                    "humidity": 93.65,
                    "pressure": 1010.86,
                    "temperature": 25.45,
                    "timestamp": "2024-09-29T20:55:54",
                    "volt": 4.04
                  },
                  {
                    "dew": 24.35,
                    "humidity": 93.65,
                    "pressure": 1010.84,
                    "temperature": 25.45,
                    "timestamp": "2024-09-29T20:56:54",
                    "volt": 4.04
                  },
                  {
                    "dew": 24.33,
                    "humidity": 93.63,
                    "pressure": 1010.84,
                    "temperature": 25.43,
                    "timestamp": "2024-09-29T20:57:54",
                    "volt": 4.04
                  },
                  {
                    "dew": 24.32,
                    "humidity": 93.58,
                    "pressure": 1010.81,
                    "temperature": 25.43,
                    "timestamp": "2024-09-29T20:58:54",
                    "volt": 4.04
                  },
                  {
                    "dew": 24.32,
                    "humidity": 93.58,
                    "pressure": 1010.8,
                    "temperature": 25.43,
                    "timestamp": "2024-09-29T20:59:54",
                    "volt": 4.04
                  },
                  {
                    "dew": 24.3,
                    "humidity": 93.61,
                    "pressure": 1010.84,
                    "temperature": 25.41,
                    "timestamp": "2024-09-29T21:00:54",
                    "volt": 4.04
                  },
                  {
                    "dew": 24.3,
                    "humidity": 93.63,
                    "pressure": 1010.82,
                    "temperature": 25.4,
                    "timestamp": "2024-09-29T21:01:54",
                    "volt": 4.04
                  },
                  {
                    "dew": 24.3,
                    "humidity": 93.62,
                    "pressure": 1010.78,
                    "temperature": 25.4,
                    "timestamp": "2024-09-29T21:02:54",
                    "volt": 4.04
                  },
                  {
                    "dew": 24.3,
                    "humidity": 93.6,
                    "pressure": 1010.79,
                    "temperature": 25.41,
                    "timestamp": "2024-09-29T21:03:54",
                    "volt": 4.04
                  },
                  {
                    "dew": 24.3,
                    "humidity": 93.61,
                    "pressure": 1010.8,
                    "temperature": 25.41,
                    "timestamp": "2024-09-29T21:04:54",
                    "volt": 4.04
                  },
                  {
                    "dew": 24.29,
                    "humidity": 93.57,
                    "pressure": 1010.86,
                    "temperature": 25.4,
                    "timestamp": "2024-09-29T21:05:55",
                    "volt": 4.04
                  },
                  {
                    "dew": 24.26,
                    "humidity": 93.56,
                    "pressure": 1010.87,
                    "temperature": 25.38,
                    "timestamp": "2024-09-29T21:06:54",
                    "volt": 4.04
                  },
                  {
                    "dew": 24.26,
                    "humidity": 93.61,
                    "pressure": 1010.84,
                    "temperature": 25.37,
                    "timestamp": "2024-09-29T21:07:54",
                    "volt": 4.04
                  },
                  {
                    "dew": 24.27,
                    "humidity": 93.63,
                    "pressure": 1010.91,
                    "temperature": 25.37,
                    "timestamp": "2024-09-29T21:08:55",
                    "volt": 4.04
                  },
                  {
                    "dew": 24.29,
                    "humidity": 93.67,
                    "pressure": 1010.94,
                    "temperature": 25.39,
                    "timestamp": "2024-09-29T21:09:55",
                    "volt": 4.04
                  },
                  {
                    "dew": 24.26,
                    "humidity": 93.65,
                    "pressure": 1010.97,
                    "temperature": 25.36,
                    "timestamp": "2024-09-29T21:10:55",
                    "volt": 4.04
                  },
                  {
                    "dew": 24.25,
                    "humidity": 93.64,
                    "pressure": 1010.99,
                    "temperature": 25.35,
                    "timestamp": "2024-09-29T21:11:55",
                    "volt": 4.04
                  },
                  {
                    "dew": 24.27,
                    "humidity": 93.64,
                    "pressure": 1010.99,
                    "temperature": 25.37,
                    "timestamp": "2024-09-29T21:12:55",
                    "volt": 4.04
                  },
                  {
                    "dew": 24.26,
                    "humidity": 93.64,
                    "pressure": 1011.02,
                    "temperature": 25.36,
                    "timestamp": "2024-09-29T21:13:55",
                    "volt": 4.04
                  },
                  {
                    "dew": 24.23,
                    "humidity": 93.65,
                    "pressure": 1011.02,
                    "temperature": 25.33,
                    "timestamp": "2024-09-29T21:14:55",
                    "volt": 4.04
                  },
                  {
                    "dew": 24.24,
                    "humidity": 93.66,
                    "pressure": 1011.01,
                    "temperature": 25.34,
                    "timestamp": "2024-09-29T21:15:55",
                    "volt": 4.04
                  },
                  {
                    "dew": 24.23,
                    "humidity": 93.66,
                    "pressure": 1011.05,
                    "temperature": 25.33,
                    "timestamp": "2024-09-29T21:16:55",
                    "volt": 4.04
                  },
                  {
                    "dew": 24.24,
                    "humidity": 93.63,
                    "pressure": 1011.03,
                    "temperature": 25.34,
                    "timestamp": "2024-09-29T21:17:55",
                    "volt": 4.04
                  },
                  {
                    "dew": 24.25,
                    "humidity": 93.68,
                    "pressure": 1011.03,
                    "temperature": 25.34,
                    "timestamp": "2024-09-29T21:18:55",
                    "volt": 4.04
                  },
                  {
                    "dew": 24.25,
                    "humidity": 93.72,
                    "pressure": 1011.07,
                    "temperature": 25.34,
                    "timestamp": "2024-09-29T21:19:55",
                    "volt": 4.04
                  },
                  {
                    "dew": 24.24,
                    "humidity": 93.75,
                    "pressure": 1011.08,
                    "temperature": 25.32,
                    "timestamp": "2024-09-29T21:20:55",
                    "volt": 4.04
                  },
                  {
                    "dew": 24.26,
                    "humidity": 93.75,
                    "pressure": 1011.11,
                    "temperature": 25.34,
                    "timestamp": "2024-09-29T21:21:55",
                    "volt": 4.04
                  },
                  {
                    "dew": 24.26,
                    "humidity": 93.74,
                    "pressure": 1011.09,
                    "temperature": 25.34,
                    "timestamp": "2024-09-29T21:22:55",
                    "volt": 4.04
                  },
                  {
                    "dew": 24.25,
                    "humidity": 93.74,
                    "pressure": 1011.15,
                    "temperature": 25.33,
                    "timestamp": "2024-09-29T21:23:55",
                    "volt": 4.04
                  },
                  {
                    "dew": 24.24,
                    "humidity": 93.72,
                    "pressure": 1011.11,
                    "temperature": 25.33,
                    "timestamp": "2024-09-29T21:24:55",
                    "volt": 4.04
                  },
                  {
                    "dew": 24.25,
                    "humidity": 93.82,
                    "pressure": 1011.13,
                    "temperature": 25.32,
                    "timestamp": "2024-09-29T21:25:55",
                    "volt": 4.04
                  },
                  {
                    "dew": 24.27,
                    "humidity": 93.95,
                    "pressure": 1011.15,
                    "temperature": 25.32,
                    "timestamp": "2024-09-29T21:26:55",
                    "volt": 4.04
                  },
                  {
                    "dew": 24.26,
                    "humidity": 93.94,
                    "pressure": 1011.13,
                    "temperature": 25.31,
                    "timestamp": "2024-09-29T21:27:55",
                    "volt": 4.04
                  },
                  {
                    "dew": 24.23,
                    "humidity": 93.95,
                    "pressure": 1011.16,
                    "temperature": 25.27,
                    "timestamp": "2024-09-29T21:28:55",
                    "volt": 4.04
                  },
                  {
                    "dew": 24.28,
                    "humidity": 94.02,
                    "pressure": 1011.15,
                    "temperature": 25.31,
                    "timestamp": "2024-09-29T21:29:55",
                    "volt": 4.04
                  },
                  {
                    "dew": 24.27,
                    "humidity": 94.01,
                    "pressure": 1011.19,
                    "temperature": 25.3,
                    "timestamp": "2024-09-29T21:30:55",
                    "volt": 4.04
                  },
                  {
                    "dew": 24.23,
                    "humidity": 93.96,
                    "pressure": 1011.25,
                    "temperature": 25.27,
                    "timestamp": "2024-09-29T21:31:55",
                    "volt": 4.04
                  },
                  {
                    "dew": 24.21,
                    "humidity": 94.02,
                    "pressure": 1011.25,
                    "temperature": 25.24,
                    "timestamp": "2024-09-29T21:32:55",
                    "volt": 4.05
                  },
                  {
                    "dew": 24.18,
                    "humidity": 93.97,
                    "pressure": 1011.24,
                    "temperature": 25.22,
                    "timestamp": "2024-09-29T21:33:55",
                    "volt": 4.04
                  },
                  {
                    "dew": 24.22,
                    "humidity": 93.98,
                    "pressure": 1011.21,
                    "temperature": 25.26,
                    "timestamp": "2024-09-29T21:34:55",
                    "volt": 4.04
                  },
                  {
                    "dew": 24.19,
                    "humidity": 94,
                    "pressure": 1011.2,
                    "temperature": 25.23,
                    "timestamp": "2024-09-29T21:35:55",
                    "volt": 4.04
                  },
                  {
                    "dew": 24.17,
                    "humidity": 93.97,
                    "pressure": 1011.21,
                    "temperature": 25.21,
                    "timestamp": "2024-09-29T21:36:55",
                    "volt": 4.04
                  },
                  {
                    "dew": 24.19,
                    "humidity": 93.97,
                    "pressure": 1011.24,
                    "temperature": 25.23,
                    "timestamp": "2024-09-29T21:37:55",
                    "volt": 4.04
                  },
                  {
                    "dew": 24.18,
                    "humidity": 93.98,
                    "pressure": 1011.21,
                    "temperature": 25.22,
                    "timestamp": "2024-09-29T21:38:55",
                    "volt": 4.04
                  },
                  {
                    "dew": 24.17,
                    "humidity": 93.99,
                    "pressure": 1011.28,
                    "temperature": 25.21,
                    "timestamp": "2024-09-29T21:39:55",
                    "volt": 4.04
                  },
                  {
                    "dew": 24.17,
                    "humidity": 93.96,
                    "pressure": 1011.27,
                    "temperature": 25.21,
                    "timestamp": "2024-09-29T21:40:55",
                    "volt": 4.04
                  },
                  {
                    "dew": 24.16,
                    "humidity": 94,
                    "pressure": 1011.27,
                    "temperature": 25.2,
                    "timestamp": "2024-09-29T21:41:55",
                    "volt": 4.04
                  },
                  {
                    "dew": 24.18,
                    "humidity": 94.02,
                    "pressure": 1011.3,
                    "temperature": 25.21,
                    "timestamp": "2024-09-29T21:42:55",
                    "volt": 4.04
                  },
                  {
                    "dew": 24.15,
                    "humidity": 94,
                    "pressure": 1011.26,
                    "temperature": 25.19,
                    "timestamp": "2024-09-29T21:43:55",
                    "volt": 4.04
                  },
                  {
                    "dew": 24.16,
                    "humidity": 94.01,
                    "pressure": 1011.28,
                    "temperature": 25.19,
                    "timestamp": "2024-09-29T21:44:55",
                    "volt": 4.05
                  },
                  {
                    "dew": 24.15,
                    "humidity": 94.04,
                    "pressure": 1011.29,
                    "temperature": 25.18,
                    "timestamp": "2024-09-29T21:45:55",
                    "volt": 4.04
                  },
                  {
                    "dew": 24.15,
                    "humidity": 94.02,
                    "pressure": 1011.35,
                    "temperature": 25.18,
                    "timestamp": "2024-09-29T21:46:55",
                    "volt": 4.04
                  },
                  {
                    "dew": 24.15,
                    "humidity": 94.03,
                    "pressure": 1011.38,
                    "temperature": 25.18,
                    "timestamp": "2024-09-29T21:47:56",
                    "volt": 4.04
                  },
                  {
                    "dew": 24.13,
                    "humidity": 94.01,
                    "pressure": 1011.41,
                    "temperature": 25.16,
                    "timestamp": "2024-09-29T21:48:55",
                    "volt": 4.04
                  },
                  {
                    "dew": 24.12,
                    "humidity": 94.11,
                    "pressure": 1011.4,
                    "temperature": 25.14,
                    "timestamp": "2024-09-29T21:49:55",
                    "volt": 4.04
                  },
                  {
                    "dew": 24.17,
                    "humidity": 94.19,
                    "pressure": 1011.43,
                    "temperature": 25.17,
                    "timestamp": "2024-09-29T21:50:55",
                    "volt": 4.04
                  },
                  {
                    "dew": 24.15,
                    "humidity": 94.17,
                    "pressure": 1011.41,
                    "temperature": 25.15,
                    "timestamp": "2024-09-29T21:51:55",
                    "volt": 4.04
                  },
                  {
                    "dew": 24.12,
                    "humidity": 94.14,
                    "pressure": 1011.42,
                    "temperature": 25.13,
                    "timestamp": "2024-09-29T21:52:55",
                    "volt": 4.04
                  },
                  {
                    "dew": 24.09,
                    "humidity": 94.18,
                    "pressure": 1011.45,
                    "temperature": 25.09,
                    "timestamp": "2024-09-29T21:53:55",
                    "volt": 4.04
                  },
                  {
                    "dew": 24.12,
                    "humidity": 94.16,
                    "pressure": 1011.42,
                    "temperature": 25.13,
                    "timestamp": "2024-09-29T21:54:55",
                    "volt": 4.04
                  },
                  {
                    "dew": 24.11,
                    "humidity": 94.16,
                    "pressure": 1011.48,
                    "temperature": 25.12,
                    "timestamp": "2024-09-29T21:55:55",
                    "volt": 4.04
                  },
                  {
                    "dew": 24.11,
                    "humidity": 94.15,
                    "pressure": 1011.51,
                    "temperature": 25.12,
                    "timestamp": "2024-09-29T21:56:55",
                    "volt": 4.04
                  },
                  {
                    "dew": 24.11,
                    "humidity": 94.18,
                    "pressure": 1011.49,
                    "temperature": 25.11,
                    "timestamp": "2024-09-29T21:57:55",
                    "volt": 4.04
                  },
                  {
                    "dew": 24.12,
                    "humidity": 94.17,
                    "pressure": 1011.5,
                    "temperature": 25.12,
                    "timestamp": "2024-09-29T21:58:55",
                    "volt": 4.04
                  },
                  {
                    "dew": 24.11,
                    "humidity": 94.2,
                    "pressure": 1011.52,
                    "temperature": 25.11,
                    "timestamp": "2024-09-29T21:59:55",
                    "volt": 4.04
                  },
                  {
                    "dew": 24.12,
                    "humidity": 94.2,
                    "pressure": 1011.52,
                    "temperature": 25.12,
                    "timestamp": "2024-09-29T22:00:55",
                    "volt": 4.04
                  },
                  {
                    "dew": 24.11,
                    "humidity": 94.21,
                    "pressure": 1011.53,
                    "temperature": 25.11,
                    "timestamp": "2024-09-29T22:01:55",
                    "volt": 4.04
                  },
                  {
                    "dew": 24.09,
                    "humidity": 94.22,
                    "pressure": 1011.48,
                    "temperature": 25.09,
                    "timestamp": "2024-09-29T22:02:55",
                    "volt": 4.04
                  },
                  {
                    "dew": 24.1,
                    "humidity": 94.23,
                    "pressure": 1011.46,
                    "temperature": 25.09,
                    "timestamp": "2024-09-29T22:03:55",
                    "volt": 4.04
                  },
                  {
                    "dew": 24.1,
                    "humidity": 94.22,
                    "pressure": 1011.51,
                    "temperature": 25.1,
                    "timestamp": "2024-09-29T22:04:55",
                    "volt": 4.04
                  },
                  {
                    "dew": 24.1,
                    "humidity": 94.22,
                    "pressure": 1011.51,
                    "temperature": 25.1,
                    "timestamp": "2024-09-29T22:05:55",
                    "volt": 4.04
                  },
                  {
                    "dew": 24.11,
                    "humidity": 94.28,
                    "pressure": 1011.49,
                    "temperature": 25.09,
                    "timestamp": "2024-09-29T22:06:55",
                    "volt": 4.04
                  },
                  {
                    "dew": 24.13,
                    "humidity": 94.27,
                    "pressure": 1011.52,
                    "temperature": 25.12,
                    "timestamp": "2024-09-29T22:07:55",
                    "volt": 4.04
                  },
                  {
                    "dew": 24.13,
                    "humidity": 94.31,
                    "pressure": 1011.56,
                    "temperature": 25.11,
                    "timestamp": "2024-09-29T22:08:55",
                    "volt": 4.04
                  },
                  {
                    "dew": 24.12,
                    "humidity": 94.29,
                    "pressure": 1011.55,
                    "temperature": 25.1,
                    "timestamp": "2024-09-29T22:09:58",
                    "volt": 4.04
                  },
                  {
                    "dew": 24.1,
                    "humidity": 94.28,
                    "pressure": 1011.54,
                    "temperature": 25.08,
                    "timestamp": "2024-09-29T22:10:55",
                    "volt": 4.04
                  },
                  {
                    "dew": 24.12,
                    "humidity": 94.34,
                    "pressure": 1011.59,
                    "temperature": 25.09,
                    "timestamp": "2024-09-29T22:11:55",
                    "volt": 4.04
                  },
                  {
                    "dew": 24.09,
                    "humidity": 94.32,
                    "pressure": 1011.58,
                    "temperature": 25.07,
                    "timestamp": "2024-09-29T22:12:55",
                    "volt": 4.04
                  },
                  {
                    "dew": 24.07,
                    "humidity": 94.33,
                    "pressure": 1011.58,
                    "temperature": 25.05,
                    "timestamp": "2024-09-29T22:13:55",
                    "volt": 4.04
                  },
                  {
                    "dew": 24.08,
                    "humidity": 94.33,
                    "pressure": 1011.58,
                    "temperature": 25.06,
                    "timestamp": "2024-09-29T22:14:55",
                    "volt": 4.04
                  },
                  {
                    "dew": 24.09,
                    "humidity": 94.34,
                    "pressure": 1011.59,
                    "temperature": 25.06,
                    "timestamp": "2024-09-29T22:15:58",
                    "volt": 4.04
                  },
                  {
                    "dew": 24.06,
                    "humidity": 94.33,
                    "pressure": 1011.57,
                    "temperature": 25.04,
                    "timestamp": "2024-09-29T22:16:55",
                    "volt": 4.04
                  },
                  {
                    "dew": 24.1,
                    "humidity": 94.39,
                    "pressure": 1011.6,
                    "temperature": 25.07,
                    "timestamp": "2024-09-29T22:17:55",
                    "volt": 4.04
                  },
                  {
                    "dew": 24.09,
                    "humidity": 94.37,
                    "pressure": 1011.57,
                    "temperature": 25.06,
                    "timestamp": "2024-09-29T22:18:58",
                    "volt": 4.04
                  },
                  {
                    "dew": 24.07,
                    "humidity": 94.39,
                    "pressure": 1011.59,
                    "temperature": 25.04,
                    "timestamp": "2024-09-29T22:19:55",
                    "volt": 4.04
                  },
                  {
                    "dew": 24.08,
                    "humidity": 94.41,
                    "pressure": 1011.66,
                    "temperature": 25.04,
                    "timestamp": "2024-09-29T22:20:55",
                    "volt": 4.04
                  },
                  {
                    "dew": 24.09,
                    "humidity": 94.41,
                    "pressure": 1011.65,
                    "temperature": 25.05,
                    "timestamp": "2024-09-29T22:21:55",
                    "volt": 4.04
                  },
                  {
                    "dew": 24.07,
                    "humidity": 94.39,
                    "pressure": 1011.64,
                    "temperature": 25.04,
                    "timestamp": "2024-09-29T22:22:55",
                    "volt": 4.04
                  },
                  {
                    "dew": 24.08,
                    "humidity": 94.39,
                    "pressure": 1011.61,
                    "temperature": 25.05,
                    "timestamp": "2024-09-29T22:23:58",
                    "volt": 4.04
                  },
                  {
                    "dew": 24.06,
                    "humidity": 94.38,
                    "pressure": 1011.68,
                    "temperature": 25.03,
                    "timestamp": "2024-09-29T22:24:55",
                    "volt": 4.04
                  },
                  {
                    "dew": 24.06,
                    "humidity": 94.36,
                    "pressure": 1011.67,
                    "temperature": 25.03,
                    "timestamp": "2024-09-29T22:25:55",
                    "volt": 4.04
                  },
                  {
                    "dew": 24.07,
                    "humidity": 94.38,
                    "pressure": 1011.71,
                    "temperature": 25.04,
                    "timestamp": "2024-09-29T22:26:55",
                    "volt": 4.04
                  },
                  {
                    "dew": 24.05,
                    "humidity": 94.39,
                    "pressure": 1011.67,
                    "temperature": 25.02,
                    "timestamp": "2024-09-29T22:27:55",
                    "volt": 4.04
                  },
                  {
                    "dew": 24.04,
                    "humidity": 94.39,
                    "pressure": 1011.71,
                    "temperature": 25,
                    "timestamp": "2024-09-29T22:28:55",
                    "volt": 4.04
                  },
                  {
                    "dew": 24.05,
                    "humidity": 94.42,
                    "pressure": 1011.69,
                    "temperature": 25.01,
                    "timestamp": "2024-09-29T22:29:55",
                    "volt": 4.08
                  },
                  {
                    "dew": 24.06,
                    "humidity": 94.41,
                    "pressure": 1011.69,
                    "temperature": 25.02,
                    "timestamp": "2024-09-29T22:30:55",
                    "volt": 4.07
                  },
                  {
                    "dew": 24.04,
                    "humidity": 94.4,
                    "pressure": 1011.72,
                    "temperature": 25,
                    "timestamp": "2024-09-29T22:31:56",
                    "volt": 4.04
                  },
                  {
                    "dew": 24.05,
                    "humidity": 94.42,
                    "pressure": 1011.73,
                    "temperature": 25.01,
                    "timestamp": "2024-09-29T22:32:56",
                    "volt": 4.06
                  },
                  {
                    "dew": 24.04,
                    "humidity": 94.44,
                    "pressure": 1011.72,
                    "temperature": 25,
                    "timestamp": "2024-09-29T22:33:56",
                    "volt": 4.04
                  },
                  {
                    "dew": 24.06,
                    "humidity": 94.46,
                    "pressure": 1011.71,
                    "temperature": 25.01,
                    "timestamp": "2024-09-29T22:34:56",
                    "volt": 4.04
                  },
                  {
                    "dew": 24.07,
                    "humidity": 94.45,
                    "pressure": 1011.75,
                    "temperature": 25.02,
                    "timestamp": "2024-09-29T22:35:56",
                    "volt": 4.04
                  },
                  {
                    "dew": 24.06,
                    "humidity": 94.48,
                    "pressure": 1011.75,
                    "temperature": 25.01,
                    "timestamp": "2024-09-29T22:36:56",
                    "volt": 4.04
                  },
                  {
                    "dew": 24.05,
                    "humidity": 94.45,
                    "pressure": 1011.7,
                    "temperature": 25,
                    "timestamp": "2024-09-29T22:37:56",
                    "volt": 4.07
                  },
                  {
                    "dew": 24.08,
                    "humidity": 94.5,
                    "pressure": 1011.72,
                    "temperature": 25.03,
                    "timestamp": "2024-09-29T22:38:56",
                    "volt": 4.1
                  },
                  {
                    "dew": 24.07,
                    "humidity": 94.49,
                    "pressure": 1011.76,
                    "temperature": 25.02,
                    "timestamp": "2024-09-29T22:39:56",
                    "volt": 4.09
                  },
                  {
                    "dew": 24.06,
                    "humidity": 94.48,
                    "pressure": 1011.75,
                    "temperature": 25.01,
                    "timestamp": "2024-09-29T22:40:56",
                    "volt": 4.07
                  },
                  {
                    "dew": 24.06,
                    "humidity": 94.49,
                    "pressure": 1011.78,
                    "temperature": 25.01,
                    "timestamp": "2024-09-29T22:41:56",
                    "volt": 4.06
                  },
                  {
                    "dew": 24.06,
                    "humidity": 94.52,
                    "pressure": 1011.8,
                    "temperature": 25,
                    "timestamp": "2024-09-29T22:42:56",
                    "volt": 4.07
                  },
                  {
                    "dew": 24.08,
                    "humidity": 94.55,
                    "pressure": 1011.81,
                    "temperature": 25.02,
                    "timestamp": "2024-09-29T22:43:57",
                    "volt": 4.04
                  },
                  {
                    "dew": 24.1,
                    "humidity": 94.57,
                    "pressure": 1011.82,
                    "temperature": 25.03,
                    "timestamp": "2024-09-29T22:44:56",
                    "volt": 4.07
                  },
                  {
                    "dew": 24.1,
                    "humidity": 94.56,
                    "pressure": 1011.83,
                    "temperature": 25.04,
                    "timestamp": "2024-09-29T22:45:56",
                    "volt": 4.05
                  },
                  {
                    "dew": 24.09,
                    "humidity": 94.6,
                    "pressure": 1011.79,
                    "temperature": 25.02,
                    "timestamp": "2024-09-29T22:46:56",
                    "volt": 4.06
                  },
                  {
                    "dew": 24.1,
                    "humidity": 94.57,
                    "pressure": 1011.88,
                    "temperature": 25.03,
                    "timestamp": "2024-09-29T22:47:56",
                    "volt": 4.09
                  },
                  {
                    "dew": 24.1,
                    "humidity": 94.59,
                    "pressure": 1011.89,
                    "temperature": 25.03,
                    "timestamp": "2024-09-29T22:48:56",
                    "volt": 4.1
                  },
                  {
                    "dew": 24.13,
                    "humidity": 94.66,
                    "pressure": 1011.91,
                    "temperature": 25.05,
                    "timestamp": "2024-09-29T22:49:56",
                    "volt": 4.04
                  },
                  {
                    "dew": 24.15,
                    "humidity": 94.72,
                    "pressure": 1011.9,
                    "temperature": 25.06,
                    "timestamp": "2024-09-29T22:50:56",
                    "volt": 4.07
                  },
                  {
                    "dew": 24.14,
                    "humidity": 94.73,
                    "pressure": 1011.97,
                    "temperature": 25.05,
                    "timestamp": "2024-09-29T22:51:56",
                    "volt": 4.1
                  },
                  {
                    "dew": 24.16,
                    "humidity": 94.78,
                    "pressure": 1012,
                    "temperature": 25.06,
                    "timestamp": "2024-09-29T22:52:56",
                    "volt": 4.05
                  },
                  {
                    "dew": 24.14,
                    "humidity": 94.74,
                    "pressure": 1011.98,
                    "temperature": 25.04,
                    "timestamp": "2024-09-29T22:53:56",
                    "volt": 4.08
                  },
                  {
                    "dew": 24.17,
                    "humidity": 94.72,
                    "pressure": 1012.09,
                    "temperature": 25.08,
                    "timestamp": "2024-09-29T22:54:56",
                    "volt": 4.08
                  },
                  {
                    "dew": 24.17,
                    "humidity": 94.72,
                    "pressure": 1012.07,
                    "temperature": 25.08,
                    "timestamp": "2024-09-29T22:55:56",
                    "volt": 4.05
                  },
                  {
                    "dew": 24.17,
                    "humidity": 94.71,
                    "pressure": 1012.08,
                    "temperature": 25.08,
                    "timestamp": "2024-09-29T22:56:56",
                    "volt": 4.1
                  },
                  {
                    "dew": 24.16,
                    "humidity": 94.75,
                    "pressure": 1012.13,
                    "temperature": 25.06,
                    "timestamp": "2024-09-29T22:57:57",
                    "volt": 4.04
                  },
                  {
                    "dew": 24.18,
                    "humidity": 94.79,
                    "pressure": 1012.15,
                    "temperature": 25.07,
                    "timestamp": "2024-09-29T22:58:56",
                    "volt": 4.09
                  },
                  {
                    "dew": 24.21,
                    "humidity": 94.84,
                    "pressure": 1012.14,
                    "temperature": 25.1,
                    "timestamp": "2024-09-29T22:59:56",
                    "volt": 4.09
                  },
                  {
                    "dew": 24.21,
                    "humidity": 94.81,
                    "pressure": 1012.12,
                    "temperature": 25.1,
                    "timestamp": "2024-09-29T23:00:56",
                    "volt": 4.07
                  },
                  {
                    "dew": 24.21,
                    "humidity": 94.8,
                    "pressure": 1012.12,
                    "temperature": 25.1,
                    "timestamp": "2024-09-29T23:01:56",
                    "volt": 4.09
                  },
                  {
                    "dew": 24.21,
                    "humidity": 94.8,
                    "pressure": 1012.13,
                    "temperature": 25.1,
                    "timestamp": "2024-09-29T23:02:56",
                    "volt": 4.04
                  },
                  {
                    "dew": 24.23,
                    "humidity": 94.81,
                    "pressure": 1012.17,
                    "temperature": 25.12,
                    "timestamp": "2024-09-29T23:03:56",
                    "volt": 4.08
                  },
                  {
                    "dew": 24.25,
                    "humidity": 94.8,
                    "pressure": 1012.16,
                    "temperature": 25.14,
                    "timestamp": "2024-09-29T23:04:56",
                    "volt": 4.07
                  },
                  {
                    "dew": 24.26,
                    "humidity": 94.83,
                    "pressure": 1012.15,
                    "temperature": 25.15,
                    "timestamp": "2024-09-29T23:05:56",
                    "volt": 4.12
                  },
                  {
                    "dew": 24.29,
                    "humidity": 94.91,
                    "pressure": 1012.21,
                    "temperature": 25.16,
                    "timestamp": "2024-09-29T23:06:56",
                    "volt": 4.13
                  },
                  {
                    "dew": 24.27,
                    "humidity": 94.87,
                    "pressure": 1012.21,
                    "temperature": 25.15,
                    "timestamp": "2024-09-29T23:07:56",
                    "volt": 4.08
                  },
                  {
                    "dew": 24.3,
                    "humidity": 94.89,
                    "pressure": 1012.22,
                    "temperature": 25.18,
                    "timestamp": "2024-09-29T23:08:56",
                    "volt": 4.12
                  },
                  {
                    "dew": 24.32,
                    "humidity": 94.89,
                    "pressure": 1012.25,
                    "temperature": 25.2,
                    "timestamp": "2024-09-29T23:09:56",
                    "volt": 4.08
                  },
                  {
                    "dew": 24.33,
                    "humidity": 94.9,
                    "pressure": 1012.24,
                    "temperature": 25.21,
                    "timestamp": "2024-09-29T23:10:56",
                    "volt": 4.08
                  },
                  {
                    "dew": 24.33,
                    "humidity": 94.93,
                    "pressure": 1012.29,
                    "temperature": 25.2,
                    "timestamp": "2024-09-29T23:11:56",
                    "volt": 4.08
                  },
                  {
                    "dew": 24.34,
                    "humidity": 94.9,
                    "pressure": 1012.27,
                    "temperature": 25.22,
                    "timestamp": "2024-09-29T23:12:56",
                    "volt": 4.08
                  },
                  {
                    "dew": 24.36,
                    "humidity": 94.88,
                    "pressure": 1012.32,
                    "temperature": 25.24,
                    "timestamp": "2024-09-29T23:13:56",
                    "volt": 4.07
                  },
                  {
                    "dew": 24.37,
                    "humidity": 94.88,
                    "pressure": 1012.37,
                    "temperature": 25.25,
                    "timestamp": "2024-09-29T23:14:56",
                    "volt": 4.1
                  },
                  {
                    "dew": 24.36,
                    "humidity": 94.87,
                    "pressure": 1012.37,
                    "temperature": 25.24,
                    "timestamp": "2024-09-29T23:15:56",
                    "volt": 4.09
                  },
                  {
                    "dew": 24.39,
                    "humidity": 94.91,
                    "pressure": 1012.4,
                    "temperature": 25.27,
                    "timestamp": "2024-09-29T23:16:56",
                    "volt": 4.09
                  },
                  {
                    "dew": 24.41,
                    "humidity": 94.92,
                    "pressure": 1012.4,
                    "temperature": 25.28,
                    "timestamp": "2024-09-29T23:17:56",
                    "volt": 4.08
                  },
                  {
                    "dew": 24.43,
                    "humidity": 94.95,
                    "pressure": 1012.42,
                    "temperature": 25.3,
                    "timestamp": "2024-09-29T23:18:57",
                    "volt": 4.06
                  },
                  {
                    "dew": 24.42,
                    "humidity": 94.98,
                    "pressure": 1012.43,
                    "temperature": 25.28,
                    "timestamp": "2024-09-29T23:19:56",
                    "volt": 4.04
                  },
                  {
                    "dew": 24.44,
                    "humidity": 95.01,
                    "pressure": 1012.42,
                    "temperature": 25.3,
                    "timestamp": "2024-09-29T23:20:57",
                    "volt": 4.04
                  },
                  {
                    "dew": 24.42,
                    "humidity": 95.01,
                    "pressure": 1012.41,
                    "temperature": 25.28,
                    "timestamp": "2024-09-29T23:21:56",
                    "volt": 4.04
                  },
                  {
                    "dew": 24.47,
                    "humidity": 94.98,
                    "pressure": 1012.44,
                    "temperature": 25.33,
                    "timestamp": "2024-09-29T23:22:56",
                    "volt": 4.11
                  },
                  {
                    "dew": 24.47,
                    "humidity": 94.97,
                    "pressure": 1012.48,
                    "temperature": 25.33,
                    "timestamp": "2024-09-29T23:23:56",
                    "volt": 4.09
                  },
                  {
                    "dew": 24.48,
                    "humidity": 94.98,
                    "pressure": 1012.45,
                    "temperature": 25.34,
                    "timestamp": "2024-09-29T23:24:57",
                    "volt": 4.04
                  },
                  {
                    "dew": 24.48,
                    "humidity": 94.94,
                    "pressure": 1012.44,
                    "temperature": 25.35,
                    "timestamp": "2024-09-29T23:25:57",
                    "volt": 4.12
                  },
                  {
                    "dew": 24.48,
                    "humidity": 94.89,
                    "pressure": 1012.48,
                    "temperature": 25.36,
                    "timestamp": "2024-09-29T23:26:57",
                    "volt": 4.08
                  },
                  {
                    "dew": 24.49,
                    "humidity": 94.9,
                    "pressure": 1012.44,
                    "temperature": 25.37,
                    "timestamp": "2024-09-29T23:27:57",
                    "volt": 4.11
                  },
                  {
                    "dew": 24.48,
                    "humidity": 94.86,
                    "pressure": 1012.46,
                    "temperature": 25.36,
                    "timestamp": "2024-09-29T23:28:57",
                    "volt": 4.1
                  },
                  {
                    "dew": 24.52,
                    "humidity": 94.85,
                    "pressure": 1012.45,
                    "temperature": 25.41,
                    "timestamp": "2024-09-29T23:29:57",
                    "volt": 4.11
                  },
                  {
                    "dew": 24.53,
                    "humidity": 94.85,
                    "pressure": 1012.42,
                    "temperature": 25.42,
                    "timestamp": "2024-09-29T23:30:56",
                    "volt": 4.07
                  },
                  {
                    "dew": 24.51,
                    "humidity": 94.79,
                    "pressure": 1012.42,
                    "temperature": 25.41,
                    "timestamp": "2024-09-29T23:31:57",
                    "volt": 4.09
                  },
                  {
                    "dew": 24.52,
                    "humidity": 94.77,
                    "pressure": 1012.41,
                    "temperature": 25.42,
                    "timestamp": "2024-09-29T23:32:57",
                    "volt": 4.09
                  },
                  {
                    "dew": 24.5,
                    "humidity": 94.68,
                    "pressure": 1012.45,
                    "temperature": 25.42,
                    "timestamp": "2024-09-29T23:33:57",
                    "volt": 4.1
                  },
                  {
                    "dew": 24.53,
                    "humidity": 94.65,
                    "pressure": 1012.41,
                    "temperature": 25.45,
                    "timestamp": "2024-09-29T23:34:57",
                    "volt": 4.11
                  },
                  {
                    "dew": 24.54,
                    "humidity": 94.65,
                    "pressure": 1012.46,
                    "temperature": 25.46,
                    "timestamp": "2024-09-29T23:35:57",
                    "volt": 4.1
                  },
                  {
                    "dew": 24.56,
                    "humidity": 94.63,
                    "pressure": 1012.49,
                    "temperature": 25.49,
                    "timestamp": "2024-09-29T23:36:57",
                    "volt": 4.09
                  },
                  {
                    "dew": 24.56,
                    "humidity": 94.61,
                    "pressure": 1012.48,
                    "temperature": 25.49,
                    "timestamp": "2024-09-29T23:37:57",
                    "volt": 4.1
                  },
                  {
                    "dew": 24.58,
                    "humidity": 94.6,
                    "pressure": 1012.48,
                    "temperature": 25.51,
                    "timestamp": "2024-09-29T23:38:57",
                    "volt": 4.12
                  },
                  {
                    "dew": 24.6,
                    "humidity": 94.59,
                    "pressure": 1012.51,
                    "temperature": 25.53,
                    "timestamp": "2024-09-29T23:39:58",
                    "volt": 4.12
                  },
                  {
                    "dew": 24.61,
                    "humidity": 94.57,
                    "pressure": 1012.55,
                    "temperature": 25.55,
                    "timestamp": "2024-09-29T23:40:57",
                    "volt": 4.11
                  },
                  {
                    "dew": 24.64,
                    "humidity": 94.57,
                    "pressure": 1012.53,
                    "temperature": 25.58,
                    "timestamp": "2024-09-29T23:41:57",
                    "volt": 4.12
                  },
                  {
                    "dew": 24.65,
                    "humidity": 94.53,
                    "pressure": 1012.53,
                    "temperature": 25.59,
                    "timestamp": "2024-09-29T23:42:57",
                    "volt": 4.1
                  },
                  {
                    "dew": 24.64,
                    "humidity": 94.37,
                    "pressure": 1012.52,
                    "temperature": 25.61,
                    "timestamp": "2024-09-29T23:43:57",
                    "volt": 4.11
                  },
                  {
                    "dew": 24.62,
                    "humidity": 94.26,
                    "pressure": 1012.54,
                    "temperature": 25.61,
                    "timestamp": "2024-09-29T23:44:57",
                    "volt": 4.09
                  },
                  {
                    "dew": 24.61,
                    "humidity": 94.08,
                    "pressure": 1012.51,
                    "temperature": 25.63,
                    "timestamp": "2024-09-29T23:45:57",
                    "volt": 4.08
                  },
                  {
                    "dew": 24.61,
                    "humidity": 94.07,
                    "pressure": 1012.54,
                    "temperature": 25.64,
                    "timestamp": "2024-09-29T23:46:57",
                    "volt": 4.09
                  },
                  {
                    "dew": 24.67,
                    "humidity": 94.17,
                    "pressure": 1012.53,
                    "temperature": 25.68,
                    "timestamp": "2024-09-29T23:47:57",
                    "volt": 4.09
                  },
                  {
                    "dew": 24.69,
                    "humidity": 94.09,
                    "pressure": 1012.56,
                    "temperature": 25.71,
                    "timestamp": "2024-09-29T23:48:57",
                    "volt": 4.1
                  },
                  {
                    "dew": 24.68,
                    "humidity": 93.99,
                    "pressure": 1012.54,
                    "temperature": 25.72,
                    "timestamp": "2024-09-29T23:49:57",
                    "volt": 4.11
                  },
                  {
                    "dew": 24.66,
                    "humidity": 93.83,
                    "pressure": 1012.58,
                    "temperature": 25.73,
                    "timestamp": "2024-09-29T23:50:57",
                    "volt": 4.1
                  },
                  {
                    "dew": 24.68,
                    "humidity": 93.77,
                    "pressure": 1012.59,
                    "temperature": 25.76,
                    "timestamp": "2024-09-29T23:51:57",
                    "volt": 4.1
                  },
                  {
                    "dew": 24.71,
                    "humidity": 93.79,
                    "pressure": 1012.64,
                    "temperature": 25.79,
                    "timestamp": "2024-09-29T23:52:57",
                    "volt": 4.04
                  },
                  {
                    "dew": 24.74,
                    "humidity": 93.8,
                    "pressure": 1012.62,
                    "temperature": 25.82,
                    "timestamp": "2024-09-29T23:53:57",
                    "volt": 4.1
                  },
                  {
                    "dew": 24.78,
                    "humidity": 93.82,
                    "pressure": 1012.65,
                    "temperature": 25.85,
                    "timestamp": "2024-09-29T23:54:57",
                    "volt": 4.1
                  },
                  {
                    "dew": 24.8,
                    "humidity": 93.77,
                    "pressure": 1012.62,
                    "temperature": 25.88,
                    "timestamp": "2024-09-29T23:55:57",
                    "volt": 4.1
                  },
                  {
                    "dew": 24.82,
                    "humidity": 93.75,
                    "pressure": 1012.66,
                    "temperature": 25.91,
                    "timestamp": "2024-09-29T23:56:57",
                    "volt": 4.11
                  },
                  {
                    "dew": 24.85,
                    "humidity": 93.69,
                    "pressure": 1012.67,
                    "temperature": 25.95,
                    "timestamp": "2024-09-29T23:57:57",
                    "volt": 4.11
                  },
                  {
                    "dew": 24.82,
                    "humidity": 93.43,
                    "pressure": 1012.68,
                    "temperature": 25.96,
                    "timestamp": "2024-09-29T23:58:57",
                    "volt": 4.04
                  },
                  {
                    "dew": 24.78,
                    "humidity": 93.06,
                    "pressure": 1012.68,
                    "temperature": 25.99,
                    "timestamp": "2024-09-29T23:59:57",
                    "volt": 4.09
                  },
                  {
                    "dew": 24.76,
                    "humidity": 92.9,
                    "pressure": 1012.7,
                    "temperature": 26,
                    "timestamp": "2024-09-30T00:00:57",
                    "volt": 4.12
                  },
                  {
                    "dew": 24.83,
                    "humidity": 92.97,
                    "pressure": 1012.71,
                    "temperature": 26.06,
                    "timestamp": "2024-09-30T00:01:57",
                    "volt": 4.1
                  },
                  {
                    "dew": 24.84,
                    "humidity": 92.87,
                    "pressure": 1012.7,
                    "temperature": 26.08,
                    "timestamp": "2024-09-30T00:02:57",
                    "volt": 4.12
                  },
                  {
                    "dew": 24.91,
                    "humidity": 92.89,
                    "pressure": 1012.73,
                    "temperature": 26.15,
                    "timestamp": "2024-09-30T00:03:57",
                    "volt": 4.11
                  },
                  {
                    "dew": 24.94,
                    "humidity": 92.9,
                    "pressure": 1012.72,
                    "temperature": 26.18,
                    "timestamp": "2024-09-30T00:04:57",
                    "volt": 4.11
                  },
                  {
                    "dew": 24.98,
                    "humidity": 92.84,
                    "pressure": 1012.71,
                    "temperature": 26.23,
                    "timestamp": "2024-09-30T00:05:57",
                    "volt": 4.1
                  },
                  {
                    "dew": 24.94,
                    "humidity": 92.51,
                    "pressure": 1012.67,
                    "temperature": 26.25,
                    "timestamp": "2024-09-30T00:06:57",
                    "volt": 4.1
                  },
                  {
                    "dew": 24.86,
                    "humidity": 91.84,
                    "pressure": 1012.68,
                    "temperature": 26.29,
                    "timestamp": "2024-09-30T00:07:57",
                    "volt": 4.11
                  },
                  {
                    "dew": 24.85,
                    "humidity": 91.58,
                    "pressure": 1012.72,
                    "temperature": 26.33,
                    "timestamp": "2024-09-30T00:08:57",
                    "volt": 4.11
                  },
                  {
                    "dew": 24.78,
                    "humidity": 91.06,
                    "pressure": 1012.76,
                    "temperature": 26.36,
                    "timestamp": "2024-09-30T00:09:57",
                    "volt": 4.1
                  },
                  {
                    "dew": 24.81,
                    "humidity": 91.06,
                    "pressure": 1012.75,
                    "temperature": 26.39,
                    "timestamp": "2024-09-30T00:10:57",
                    "volt": 4.12
                  },
                  {
                    "dew": 24.86,
                    "humidity": 91.12,
                    "pressure": 1012.77,
                    "temperature": 26.43,
                    "timestamp": "2024-09-30T00:11:57",
                    "volt": 4.12
                  },
                  {
                    "dew": 24.87,
                    "humidity": 90.96,
                    "pressure": 1012.78,
                    "temperature": 26.47,
                    "timestamp": "2024-09-30T00:12:57",
                    "volt": 4.12
                  },
                  {
                    "dew": 24.95,
                    "humidity": 91.05,
                    "pressure": 1012.81,
                    "temperature": 26.53,
                    "timestamp": "2024-09-30T00:13:57",
                    "volt": 4.1
                  },
                  {
                    "dew": 25.02,
                    "humidity": 91.18,
                    "pressure": 1012.78,
                    "temperature": 26.58,
                    "timestamp": "2024-09-30T00:14:57",
                    "volt": 4.11
                  },
                  {
                    "dew": 25,
                    "humidity": 90.99,
                    "pressure": 1012.78,
                    "temperature": 26.59,
                    "timestamp": "2024-09-30T00:15:57",
                    "volt": 4.11
                  },
                  {
                    "dew": 25.05,
                    "humidity": 90.84,
                    "pressure": 1012.77,
                    "temperature": 26.67,
                    "timestamp": "2024-09-30T00:16:58",
                    "volt": 4.1
                  },
                  {
                    "dew": 24.95,
                    "humidity": 90.33,
                    "pressure": 1012.76,
                    "temperature": 26.67,
                    "timestamp": "2024-09-30T00:17:57",
                    "volt": 4.12
                  },
                  {
                    "dew": 24.89,
                    "humidity": 89.87,
                    "pressure": 1012.79,
                    "temperature": 26.69,
                    "timestamp": "2024-09-30T00:18:57",
                    "volt": 4.11
                  },
                  {
                    "dew": 24.96,
                    "humidity": 89.89,
                    "pressure": 1012.81,
                    "temperature": 26.76,
                    "timestamp": "2024-09-30T00:19:57",
                    "volt": 4.11
                  },
                  {
                    "dew": 24.64,
                    "humidity": 88.26,
                    "pressure": 1012.83,
                    "temperature": 26.75,
                    "timestamp": "2024-09-30T00:20:57",
                    "volt": 4.11
                  },
                  {
                    "dew": 24.63,
                    "humidity": 87.97,
                    "pressure": 1012.81,
                    "temperature": 26.79,
                    "timestamp": "2024-09-30T00:21:57",
                    "volt": 4.11
                  },
                  {
                    "dew": 24.77,
                    "humidity": 88.4,
                    "pressure": 1012.84,
                    "temperature": 26.85,
                    "timestamp": "2024-09-30T00:22:57",
                    "volt": 4.1
                  },
                  {
                    "dew": 24.84,
                    "humidity": 88.52,
                    "pressure": 1012.9,
                    "temperature": 26.9,
                    "timestamp": "2024-09-30T00:23:57",
                    "volt": 4.1
                  },
                  {
                    "dew": 24.78,
                    "humidity": 88.06,
                    "pressure": 1012.9,
                    "temperature": 26.93,
                    "timestamp": "2024-09-30T00:24:57",
                    "volt": 4.12
                  },
                  {
                    "dew": 24.84,
                    "humidity": 88.3,
                    "pressure": 1012.91,
                    "temperature": 26.94,
                    "timestamp": "2024-09-30T00:25:57",
                    "volt": 4.1
                  },
                  {
                    "dew": 24.86,
                    "humidity": 88.14,
                    "pressure": 1012.85,
                    "temperature": 26.99,
                    "timestamp": "2024-09-30T00:26:57",
                    "volt": 4.1
                  },
                  {
                    "dew": 24.93,
                    "humidity": 88.27,
                    "pressure": 1012.87,
                    "temperature": 27.04,
                    "timestamp": "2024-09-30T00:27:57",
                    "volt": 4.12
                  },
                  {
                    "dew": 25,
                    "humidity": 88.42,
                    "pressure": 1012.85,
                    "temperature": 27.08,
                    "timestamp": "2024-09-30T00:28:57",
                    "volt": 4.1
                  },
                  {
                    "dew": 25.03,
                    "humidity": 88.38,
                    "pressure": 1012.87,
                    "temperature": 27.12,
                    "timestamp": "2024-09-30T00:29:57",
                    "volt": 4.11
                  },
                  {
                    "dew": 25.08,
                    "humidity": 88.36,
                    "pressure": 1012.9,
                    "temperature": 27.17,
                    "timestamp": "2024-09-30T00:30:57",
                    "volt": 4.11
                  },
                  {
                    "dew": 25.07,
                    "humidity": 88.05,
                    "pressure": 1012.91,
                    "temperature": 27.22,
                    "timestamp": "2024-09-30T00:31:57",
                    "volt": 4.12
                  },
                  {
                    "dew": 25.07,
                    "humidity": 87.89,
                    "pressure": 1012.92,
                    "temperature": 27.25,
                    "timestamp": "2024-09-30T00:32:57",
                    "volt": 4.11
                  },
                  {
                    "dew": 25.13,
                    "humidity": 88.04,
                    "pressure": 1012.96,
                    "temperature": 27.29,
                    "timestamp": "2024-09-30T00:33:57",
                    "volt": 4.1
                  },
                  {
                    "dew": 24.83,
                    "humidity": 86.47,
                    "pressure": 1012.93,
                    "temperature": 27.29,
                    "timestamp": "2024-09-30T00:34:57",
                    "volt": 4.11
                  },
                  {
                    "dew": 24.91,
                    "humidity": 86.5,
                    "pressure": 1012.94,
                    "temperature": 27.36,
                    "timestamp": "2024-09-30T00:35:59",
                    "volt": 4.12
                  },
                  {
                    "dew": 25,
                    "humidity": 86.76,
                    "pressure": 1012.93,
                    "temperature": 27.4,
                    "timestamp": "2024-09-30T00:36:57",
                    "volt": 4.11
                  },
                  {
                    "dew": 25.07,
                    "humidity": 87.04,
                    "pressure": 1012.98,
                    "temperature": 27.42,
                    "timestamp": "2024-09-30T00:37:57",
                    "volt": 4.04
                  },
                  {
                    "dew": 25.2,
                    "humidity": 87.3,
                    "pressure": 1012.99,
                    "temperature": 27.5,
                    "timestamp": "2024-09-30T00:38:57",
                    "volt": 4.08
                  },
                  {
                    "dew": 25.02,
                    "humidity": 86.25,
                    "pressure": 1013.01,
                    "temperature": 27.52,
                    "timestamp": "2024-09-30T00:39:57",
                    "volt": 4.09
                  },
                  {
                    "dew": 25.09,
                    "humidity": 86.54,
                    "pressure": 1013.06,
                    "temperature": 27.54,
                    "timestamp": "2024-09-30T00:40:57",
                    "volt": 4.1
                  },
                  {
                    "dew": 25.08,
                    "humidity": 86.19,
                    "pressure": 1013.07,
                    "temperature": 27.6,
                    "timestamp": "2024-09-30T00:41:57",
                    "volt": 4.12
                  },
                  {
                    "dew": 25.12,
                    "humidity": 86.13,
                    "pressure": 1013.05,
                    "temperature": 27.65,
                    "timestamp": "2024-09-30T00:42:57",
                    "volt": 4.11
                  },
                  {
                    "dew": 25.08,
                    "humidity": 85.75,
                    "pressure": 1013.05,
                    "temperature": 27.68,
                    "timestamp": "2024-09-30T00:43:57",
                    "volt": 4.11
                  },
                  {
                    "dew": 25.16,
                    "humidity": 86.04,
                    "pressure": 1013.07,
                    "temperature": 27.71,
                    "timestamp": "2024-09-30T00:44:57",
                    "volt": 4.1
                  },
                  {
                    "dew": 25.19,
                    "humidity": 85.93,
                    "pressure": 1013.05,
                    "temperature": 27.76,
                    "timestamp": "2024-09-30T00:45:57",
                    "volt": 4.11
                  },
                  {
                    "dew": 25.15,
                    "humidity": 85.59,
                    "pressure": 1013.05,
                    "temperature": 27.79,
                    "timestamp": "2024-09-30T00:46:58",
                    "volt": 4.11
                  },
                  {
                    "dew": 25.15,
                    "humidity": 85.36,
                    "pressure": 1013.06,
                    "temperature": 27.83,
                    "timestamp": "2024-09-30T00:47:57",
                    "volt": 4.12
                  },
                  {
                    "dew": 25.23,
                    "humidity": 85.54,
                    "pressure": 1013.06,
                    "temperature": 27.88,
                    "timestamp": "2024-09-30T00:48:57",
                    "volt": 4.12
                  },
                  {
                    "dew": 25.19,
                    "humidity": 85.05,
                    "pressure": 1013.04,
                    "temperature": 27.94,
                    "timestamp": "2024-09-30T00:49:57",
                    "volt": 4.11
                  },
                  {
                    "dew": 25.15,
                    "humidity": 84.66,
                    "pressure": 1013.02,
                    "temperature": 27.98,
                    "timestamp": "2024-09-30T00:50:57",
                    "volt": 4.11
                  },
                  {
                    "dew": 25.25,
                    "humidity": 84.89,
                    "pressure": 1012.99,
                    "temperature": 28.03,
                    "timestamp": "2024-09-30T00:51:58",
                    "volt": 4.11
                  },
                  {
                    "dew": 25.15,
                    "humidity": 84.33,
                    "pressure": 1013.01,
                    "temperature": 28.04,
                    "timestamp": "2024-09-30T00:52:57",
                    "volt": 4.11
                  },
                  {
                    "dew": 25.2,
                    "humidity": 84.33,
                    "pressure": 1013.02,
                    "temperature": 28.09,
                    "timestamp": "2024-09-30T00:53:57",
                    "volt": 4.11
                  },
                  {
                    "dew": 25.18,
                    "humidity": 84.21,
                    "pressure": 1013.04,
                    "temperature": 28.1,
                    "timestamp": "2024-09-30T00:54:57",
                    "volt": 4.11
                  },
                  {
                    "dew": 25.16,
                    "humidity": 84.01,
                    "pressure": 1013.04,
                    "temperature": 28.12,
                    "timestamp": "2024-09-30T00:55:57",
                    "volt": 4.12
                  },
                  {
                    "dew": 25.18,
                    "humidity": 83.87,
                    "pressure": 1013.05,
                    "temperature": 28.17,
                    "timestamp": "2024-09-30T00:56:57",
                    "volt": 4.11
                  },
                  {
                    "dew": 25.28,
                    "humidity": 83.98,
                    "pressure": 1013.07,
                    "temperature": 28.25,
                    "timestamp": "2024-09-30T00:57:58",
                    "volt": 4.12
                  },
                  {
                    "dew": 25.18,
                    "humidity": 83.43,
                    "pressure": 1013.04,
                    "temperature": 28.26,
                    "timestamp": "2024-09-30T00:58:57",
                    "volt": 4.11
                  },
                  {
                    "dew": 25.24,
                    "humidity": 83.4,
                    "pressure": 1013,
                    "temperature": 28.33,
                    "timestamp": "2024-09-30T00:59:58",
                    "volt": 4.11
                  },
                  {
                    "dew": 25.25,
                    "humidity": 83.24,
                    "pressure": 1012.96,
                    "temperature": 28.37,
                    "timestamp": "2024-09-30T01:00:57",
                    "volt": 4.12
                  },
                  {
                    "dew": 25.28,
                    "humidity": 83.22,
                    "pressure": 1013.01,
                    "temperature": 28.4,
                    "timestamp": "2024-09-30T01:01:58",
                    "volt": 4.11
                  },
                  {
                    "dew": 25.36,
                    "humidity": 83.43,
                    "pressure": 1012.98,
                    "temperature": 28.44,
                    "timestamp": "2024-09-30T01:02:58",
                    "volt": 4.12
                  },
                  {
                    "dew": 25.41,
                    "humidity": 83.36,
                    "pressure": 1012.99,
                    "temperature": 28.51,
                    "timestamp": "2024-09-30T01:03:57",
                    "volt": 4.11
                  },
                  {
                    "dew": 25.37,
                    "humidity": 82.75,
                    "pressure": 1012.97,
                    "temperature": 28.59,
                    "timestamp": "2024-09-30T01:04:58",
                    "volt": 4.11
                  },
                  {
                    "dew": 25.37,
                    "humidity": 82.68,
                    "pressure": 1012.99,
                    "temperature": 28.61,
                    "timestamp": "2024-09-30T01:05:58",
                    "volt": 4.11
                  },
                  {
                    "dew": 25.4,
                    "humidity": 82.58,
                    "pressure": 1012.99,
                    "temperature": 28.66,
                    "timestamp": "2024-09-30T01:06:58",
                    "volt": 4.11
                  },
                  {
                    "dew": 25.42,
                    "humidity": 82.59,
                    "pressure": 1012.99,
                    "temperature": 28.68,
                    "timestamp": "2024-09-30T01:07:58",
                    "volt": 4.11
                  },
                  {
                    "dew": 25.54,
                    "humidity": 82.97,
                    "pressure": 1013.03,
                    "temperature": 28.72,
                    "timestamp": "2024-09-30T01:08:58",
                    "volt": 4.11
                  },
                  {
                    "dew": 25.65,
                    "humidity": 83.19,
                    "pressure": 1013.02,
                    "temperature": 28.79,
                    "timestamp": "2024-09-30T01:09:58",
                    "volt": 4.11
                  },
                  {
                    "dew": 25.7,
                    "humidity": 82.69,
                    "pressure": 1013.07,
                    "temperature": 28.94,
                    "timestamp": "2024-09-30T01:10:58",
                    "volt": 4.11
                  },
                  {
                    "dew": 25.41,
                    "humidity": 81.24,
                    "pressure": 1013.05,
                    "temperature": 28.95,
                    "timestamp": "2024-09-30T01:11:58",
                    "volt": 4.11
                  },
                  {
                    "dew": 25.43,
                    "humidity": 81.04,
                    "pressure": 1013.08,
                    "temperature": 29.01,
                    "timestamp": "2024-09-30T01:12:58",
                    "volt": 4.11
                  },
                  {
                    "dew": 25.48,
                    "humidity": 81.14,
                    "pressure": 1013.09,
                    "temperature": 29.04,
                    "timestamp": "2024-09-30T01:13:58",
                    "volt": 4.12
                  },
                  {
                    "dew": 25.36,
                    "humidity": 80.39,
                    "pressure": 1013.03,
                    "temperature": 29.08,
                    "timestamp": "2024-09-30T01:14:58",
                    "volt": 4.12
                  },
                  {
                    "dew": 25.55,
                    "humidity": 81.11,
                    "pressure": 1013.06,
                    "temperature": 29.12,
                    "timestamp": "2024-09-30T01:15:58",
                    "volt": 4.11
                  },
                  {
                    "dew": 25.61,
                    "humidity": 80.99,
                    "pressure": 1013.04,
                    "temperature": 29.21,
                    "timestamp": "2024-09-30T01:16:58",
                    "volt": 4.11
                  },
                  {
                    "dew": 25.6,
                    "humidity": 80.63,
                    "pressure": 1013.03,
                    "temperature": 29.28,
                    "timestamp": "2024-09-30T01:17:58",
                    "volt": 4.11
                  },
                  {
                    "dew": 25.38,
                    "humidity": 79.5,
                    "pressure": 1013.02,
                    "temperature": 29.3,
                    "timestamp": "2024-09-30T01:18:58",
                    "volt": 4.11
                  },
                  {
                    "dew": 25.51,
                    "humidity": 79.6,
                    "pressure": 1013.1,
                    "temperature": 29.41,
                    "timestamp": "2024-09-30T01:19:58",
                    "volt": 4.12
                  },
                  {
                    "dew": 25.43,
                    "humidity": 79.07,
                    "pressure": 1013.06,
                    "temperature": 29.44,
                    "timestamp": "2024-09-30T01:20:58",
                    "volt": 4.11
                  },
                  {
                    "dew": 25.44,
                    "humidity": 78.96,
                    "pressure": 1013.04,
                    "temperature": 29.47,
                    "timestamp": "2024-09-30T01:21:58",
                    "volt": 4.11
                  },
                  {
                    "dew": 25.49,
                    "humidity": 79.04,
                    "pressure": 1013.04,
                    "temperature": 29.51,
                    "timestamp": "2024-09-30T01:22:58",
                    "volt": 4.11
                  },
                  {
                    "dew": 25.47,
                    "humidity": 78.78,
                    "pressure": 1013.04,
                    "temperature": 29.55,
                    "timestamp": "2024-09-30T01:23:58",
                    "volt": 4.11
                  },
                  {
                    "dew": 25.51,
                    "humidity": 78.81,
                    "pressure": 1013.05,
                    "temperature": 29.58,
                    "timestamp": "2024-09-30T01:24:58",
                    "volt": 4.11
                  },
                  {
                    "dew": 25.56,
                    "humidity": 78.96,
                    "pressure": 1013.01,
                    "temperature": 29.6,
                    "timestamp": "2024-09-30T01:25:58",
                    "volt": 4.11
                  },
                  {
                    "dew": 25.73,
                    "humidity": 79.26,
                    "pressure": 1012.95,
                    "temperature": 29.71,
                    "timestamp": "2024-09-30T01:26:58",
                    "volt": 4.11
                  },
                  {
                    "dew": 25.73,
                    "humidity": 79.17,
                    "pressure": 1012.99,
                    "temperature": 29.73,
                    "timestamp": "2024-09-30T01:27:58",
                    "volt": 4.11
                  },
                  {
                    "dew": 25.79,
                    "humidity": 79.01,
                    "pressure": 1012.98,
                    "temperature": 29.82,
                    "timestamp": "2024-09-30T01:28:58",
                    "volt": 4.12
                  },
                  {
                    "dew": 25.9,
                    "humidity": 79.27,
                    "pressure": 1012.94,
                    "temperature": 29.88,
                    "timestamp": "2024-09-30T01:29:58",
                    "volt": 4.12
                  },
                  {
                    "dew": 25.87,
                    "humidity": 79.16,
                    "pressure": 1012.92,
                    "temperature": 29.87,
                    "timestamp": "2024-09-30T01:30:58",
                    "volt": 4.12
                  },
                  {
                    "dew": 25.92,
                    "humidity": 79.23,
                    "pressure": 1012.94,
                    "temperature": 29.91,
                    "timestamp": "2024-09-30T01:31:59",
                    "volt": 4.11
                  },
                  {
                    "dew": 25.94,
                    "humidity": 78.94,
                    "pressure": 1012.98,
                    "temperature": 29.99,
                    "timestamp": "2024-09-30T01:32:58",
                    "volt": 4.12
                  },
                  {
                    "dew": 25.76,
                    "humidity": 78.23,
                    "pressure": 1013.04,
                    "temperature": 29.97,
                    "timestamp": "2024-09-30T01:33:58",
                    "volt": 4.11
                  },
                  {
                    "dew": 25.7,
                    "humidity": 77.9,
                    "pressure": 1013.02,
                    "temperature": 29.98,
                    "timestamp": "2024-09-30T01:34:58",
                    "volt": 4.11
                  },
                  {
                    "dew": 25.5,
                    "humidity": 77.17,
                    "pressure": 1013.01,
                    "temperature": 29.93,
                    "timestamp": "2024-09-30T01:35:58",
                    "volt": 4.12
                  },
                  {
                    "dew": 25.51,
                    "humidity": 77.29,
                    "pressure": 1013,
                    "temperature": 29.92,
                    "timestamp": "2024-09-30T01:36:58",
                    "volt": 4.12
                  },
                  {
                    "dew": 25.42,
                    "humidity": 76.97,
                    "pressure": 1012.96,
                    "temperature": 29.9,
                    "timestamp": "2024-09-30T01:37:58",
                    "volt": 4.11
                  },
                  {
                    "dew": 25.49,
                    "humidity": 77.31,
                    "pressure": 1012.98,
                    "temperature": 29.89,
                    "timestamp": "2024-09-30T01:38:58",
                    "volt": 4.12
                  },
                  {
                    "dew": 25.65,
                    "humidity": 77.71,
                    "pressure": 1012.99,
                    "temperature": 29.97,
                    "timestamp": "2024-09-30T01:39:59",
                    "volt": 4.11
                  },
                  {
                    "dew": 25.49,
                    "humidity": 77.18,
                    "pressure": 1012.96,
                    "temperature": 29.92,
                    "timestamp": "2024-09-30T01:40:59",
                    "volt": 4.11
                  },
                  {
                    "dew": 25.57,
                    "humidity": 77.43,
                    "pressure": 1012.96,
                    "temperature": 29.95,
                    "timestamp": "2024-09-30T01:41:59",
                    "volt": 4.11
                  },
                  {
                    "dew": 25.63,
                    "humidity": 77.48,
                    "pressure": 1012.94,
                    "temperature": 30,
                    "timestamp": "2024-09-30T01:42:59",
                    "volt": 4.11
                  },
                  {
                    "dew": 25.64,
                    "humidity": 77.38,
                    "pressure": 1012.97,
                    "temperature": 30.03,
                    "timestamp": "2024-09-30T01:43:59",
                    "volt": 4.12
                  },
                  {
                    "dew": 25.61,
                    "humidity": 77.02,
                    "pressure": 1012.99,
                    "temperature": 30.08,
                    "timestamp": "2024-09-30T01:44:58",
                    "volt": 4.12
                  },
                  {
                    "dew": 25.63,
                    "humidity": 76.78,
                    "pressure": 1013.02,
                    "temperature": 30.16,
                    "timestamp": "2024-09-30T01:45:58",
                    "volt": 4.11
                  },
                  {
                    "dew": 25.59,
                    "humidity": 76.46,
                    "pressure": 1012.98,
                    "temperature": 30.19,
                    "timestamp": "2024-09-30T01:46:58",
                    "volt": 4.11
                  },
                  {
                    "dew": 25.69,
                    "humidity": 76.64,
                    "pressure": 1013,
                    "temperature": 30.25,
                    "timestamp": "2024-09-30T01:47:59",
                    "volt": 4.12
                  },
                  {
                    "dew": 25.58,
                    "humidity": 75.91,
                    "pressure": 1012.96,
                    "temperature": 30.3,
                    "timestamp": "2024-09-30T01:48:58",
                    "volt": 4.12
                  },
                  {
                    "dew": 25.44,
                    "humidity": 75.4,
                    "pressure": 1012.91,
                    "temperature": 30.28,
                    "timestamp": "2024-09-30T01:49:58",
                    "volt": 4.12
                  },
                  {
                    "dew": 25.52,
                    "humidity": 75.85,
                    "pressure": 1012.9,
                    "temperature": 30.26,
                    "timestamp": "2024-09-30T01:50:59",
                    "volt": 4.11
                  },
                  {
                    "dew": 25.53,
                    "humidity": 75.64,
                    "pressure": 1012.88,
                    "temperature": 30.31,
                    "timestamp": "2024-09-30T01:51:59",
                    "volt": 4.12
                  },
                  {
                    "dew": 25.53,
                    "humidity": 75.47,
                    "pressure": 1012.9,
                    "temperature": 30.35,
                    "timestamp": "2024-09-30T01:52:59",
                    "volt": 4.12
                  },
                  {
                    "dew": 25.59,
                    "humidity": 75.61,
                    "pressure": 1012.83,
                    "temperature": 30.38,
                    "timestamp": "2024-09-30T01:53:59",
                    "volt": 4.11
                  },
                  {
                    "dew": 25.77,
                    "humidity": 76.08,
                    "pressure": 1012.8,
                    "temperature": 30.46,
                    "timestamp": "2024-09-30T01:54:59",
                    "volt": 4.11
                  },
                  {
                    "dew": 25.83,
                    "humidity": 75.99,
                    "pressure": 1012.8,
                    "temperature": 30.54,
                    "timestamp": "2024-09-30T01:55:59",
                    "volt": 4.12
                  },
                  {
                    "dew": 25.68,
                    "humidity": 75.2,
                    "pressure": 1012.79,
                    "temperature": 30.57,
                    "timestamp": "2024-09-30T01:56:59",
                    "volt": 4.12
                  },
                  {
                    "dew": 25.67,
                    "humidity": 74.8,
                    "pressure": 1012.79,
                    "temperature": 30.65,
                    "timestamp": "2024-09-30T01:57:59",
                    "volt": 4.11
                  },
                  {
                    "dew": 25.58,
                    "humidity": 74.35,
                    "pressure": 1012.76,
                    "temperature": 30.67,
                    "timestamp": "2024-09-30T01:58:59",
                    "volt": 4.11
                  },
                  {
                    "dew": 25.63,
                    "humidity": 74.44,
                    "pressure": 1012.71,
                    "temperature": 30.7,
                    "timestamp": "2024-09-30T01:59:59",
                    "volt": 4.11
                  },
                  {
                    "dew": 25.69,
                    "humidity": 74.47,
                    "pressure": 1012.7,
                    "temperature": 30.75,
                    "timestamp": "2024-09-30T02:00:59",
                    "volt": 4.12
                  },
                  {
                    "dew": 25.85,
                    "humidity": 74.95,
                    "pressure": 1012.77,
                    "temperature": 30.81,
                    "timestamp": "2024-09-30T02:01:59",
                    "volt": 4.11
                  },
                  {
                    "dew": 25.82,
                    "humidity": 74.3,
                    "pressure": 1012.77,
                    "temperature": 30.93,
                    "timestamp": "2024-09-30T02:02:59",
                    "volt": 4.11
                  },
                  {
                    "dew": 25.67,
                    "humidity": 73.4,
                    "pressure": 1012.75,
                    "temperature": 30.99,
                    "timestamp": "2024-09-30T02:03:59",
                    "volt": 4.11
                  },
                  {
                    "dew": 25.59,
                    "humidity": 72.82,
                    "pressure": 1012.78,
                    "temperature": 31.04,
                    "timestamp": "2024-09-30T02:04:59",
                    "volt": 4.11
                  },
                  {
                    "dew": 25.54,
                    "humidity": 72.5,
                    "pressure": 1012.72,
                    "temperature": 31.07,
                    "timestamp": "2024-09-30T02:05:59",
                    "volt": 4.11
                  },
                  {
                    "dew": 25.62,
                    "humidity": 72.76,
                    "pressure": 1012.71,
                    "temperature": 31.09,
                    "timestamp": "2024-09-30T02:06:59",
                    "volt": 4.11
                  },
                  {
                    "dew": 25.74,
                    "humidity": 73.01,
                    "pressure": 1012.7,
                    "temperature": 31.15,
                    "timestamp": "2024-09-30T02:07:59",
                    "volt": 4.12
                  },
                  {
                    "dew": 25.6,
                    "humidity": 72.4,
                    "pressure": 1012.7,
                    "temperature": 31.15,
                    "timestamp": "2024-09-30T02:08:59",
                    "volt": 4.11
                  },
                  {
                    "dew": 25.7,
                    "humidity": 72.65,
                    "pressure": 1012.71,
                    "temperature": 31.2,
                    "timestamp": "2024-09-30T02:09:59",
                    "volt": 4.12
                  },
                  {
                    "dew": 25.73,
                    "humidity": 72.61,
                    "pressure": 1012.67,
                    "temperature": 31.24,
                    "timestamp": "2024-09-30T02:10:59",
                    "volt": 4.11
                  },
                  {
                    "dew": 25.84,
                    "humidity": 72.86,
                    "pressure": 1012.67,
                    "temperature": 31.29,
                    "timestamp": "2024-09-30T02:11:59",
                    "volt": 4.12
                  },
                  {
                    "dew": 25.73,
                    "humidity": 72.41,
                    "pressure": 1012.68,
                    "temperature": 31.29,
                    "timestamp": "2024-09-30T02:12:59",
                    "volt": 4.12
                  },
                  {
                    "dew": 25.79,
                    "humidity": 72.39,
                    "pressure": 1012.66,
                    "temperature": 31.35,
                    "timestamp": "2024-09-30T02:13:59",
                    "volt": 4.12
                  },
                  {
                    "dew": 25.89,
                    "humidity": 72.62,
                    "pressure": 1012.73,
                    "temperature": 31.4,
                    "timestamp": "2024-09-30T02:14:59",
                    "volt": 4.12
                  },
                  {
                    "dew": 25.71,
                    "humidity": 71.88,
                    "pressure": 1012.68,
                    "temperature": 31.4,
                    "timestamp": "2024-09-30T02:15:59",
                    "volt": 4.11
                  },
                  {
                    "dew": 25.87,
                    "humidity": 72.35,
                    "pressure": 1012.68,
                    "temperature": 31.45,
                    "timestamp": "2024-09-30T02:16:59",
                    "volt": 4.11
                  },
                  {
                    "dew": 25.76,
                    "humidity": 71.85,
                    "pressure": 1012.67,
                    "temperature": 31.45,
                    "timestamp": "2024-09-30T02:17:59",
                    "volt": 4.11
                  },
                  {
                    "dew": 25.66,
                    "humidity": 71.44,
                    "pressure": 1012.7,
                    "temperature": 31.45,
                    "timestamp": "2024-09-30T02:18:59",
                    "volt": 4.12
                  },
                  {
                    "dew": 25.76,
                    "humidity": 71.53,
                    "pressure": 1012.72,
                    "temperature": 31.53,
                    "timestamp": "2024-09-30T02:19:59",
                    "volt": 4.11
                  },
                  {
                    "dew": 25.96,
                    "humidity": 72.08,
                    "pressure": 1012.71,
                    "temperature": 31.61,
                    "timestamp": "2024-09-30T02:20:59",
                    "volt": 4.11
                  },
                  {
                    "dew": 26.14,
                    "humidity": 72.45,
                    "pressure": 1012.75,
                    "temperature": 31.7,
                    "timestamp": "2024-09-30T02:21:59",
                    "volt": 4.11
                  },
                  {
                    "dew": 25.76,
                    "humidity": 71.05,
                    "pressure": 1012.7,
                    "temperature": 31.65,
                    "timestamp": "2024-09-30T02:22:59",
                    "volt": 4.12
                  },
                  {
                    "dew": 25.88,
                    "humidity": 71.55,
                    "pressure": 1012.71,
                    "temperature": 31.65,
                    "timestamp": "2024-09-30T02:23:59",
                    "volt": 4.11
                  },
                  {
                    "dew": 25.64,
                    "humidity": 70.92,
                    "pressure": 1012.67,
                    "temperature": 31.56,
                    "timestamp": "2024-09-30T02:24:59",
                    "volt": 4.12
                  },
                  {
                    "dew": 25.74,
                    "humidity": 71.51,
                    "pressure": 1012.59,
                    "temperature": 31.52,
                    "timestamp": "2024-09-30T02:25:59",
                    "volt": 4.11
                  },
                  {
                    "dew": 25.99,
                    "humidity": 72.45,
                    "pressure": 1012.64,
                    "temperature": 31.55,
                    "timestamp": "2024-09-30T02:26:59",
                    "volt": 4.11
                  },
                  {
                    "dew": 25.96,
                    "humidity": 72.14,
                    "pressure": 1012.65,
                    "temperature": 31.59,
                    "timestamp": "2024-09-30T02:28:00",
                    "volt": 4.12
                  },
                  {
                    "dew": 25.78,
                    "humidity": 71.49,
                    "pressure": 1012.55,
                    "temperature": 31.56,
                    "timestamp": "2024-09-30T02:28:59",
                    "volt": 4.12
                  },
                  {
                    "dew": 25.93,
                    "humidity": 72.01,
                    "pressure": 1012.64,
                    "temperature": 31.59,
                    "timestamp": "2024-09-30T02:29:59",
                    "volt": 4.12
                  },
                  {
                    "dew": 25.9,
                    "humidity": 71.96,
                    "pressure": 1012.64,
                    "temperature": 31.57,
                    "timestamp": "2024-09-30T02:30:59",
                    "volt": 4.12
                  },
                  {
                    "dew": 25.64,
                    "humidity": 70.64,
                    "pressure": 1012.56,
                    "temperature": 31.63,
                    "timestamp": "2024-09-30T02:31:59",
                    "volt": 4.12
                  },
                  {
                    "dew": 25.72,
                    "humidity": 70.69,
                    "pressure": 1012.59,
                    "temperature": 31.7,
                    "timestamp": "2024-09-30T02:32:59",
                    "volt": 4.12
                  },
                  {
                    "dew": 25.58,
                    "humidity": 70.39,
                    "pressure": 1012.51,
                    "temperature": 31.63,
                    "timestamp": "2024-09-30T02:33:59",
                    "volt": 4.11
                  },
                  {
                    "dew": 25.72,
                    "humidity": 70.9,
                    "pressure": 1012.48,
                    "temperature": 31.65,
                    "timestamp": "2024-09-30T02:34:59",
                    "volt": 4.12
                  },
                  {
                    "dew": 25.97,
                    "humidity": 71.7,
                    "pressure": 1012.5,
                    "temperature": 31.71,
                    "timestamp": "2024-09-30T02:35:59",
                    "volt": 4.12
                  },
                  {
                    "dew": 25.95,
                    "humidity": 71.2,
                    "pressure": 1012.51,
                    "temperature": 31.81,
                    "timestamp": "2024-09-30T02:36:59",
                    "volt": 4.12
                  },
                  {
                    "dew": 26.2,
                    "humidity": 71.97,
                    "pressure": 1012.53,
                    "temperature": 31.88,
                    "timestamp": "2024-09-30T02:37:59",
                    "volt": 4.11
                  },
                  {
                    "dew": 25.87,
                    "humidity": 70.41,
                    "pressure": 1012.54,
                    "temperature": 31.93,
                    "timestamp": "2024-09-30T02:38:59",
                    "volt": 4.12
                  },
                  {
                    "dew": 26,
                    "humidity": 70.57,
                    "pressure": 1012.49,
                    "temperature": 32.02,
                    "timestamp": "2024-09-30T02:39:59",
                    "volt": 4.12
                  },
                  {
                    "dew": 26.03,
                    "humidity": 70.31,
                    "pressure": 1012.54,
                    "temperature": 32.12,
                    "timestamp": "2024-09-30T02:40:59",
                    "volt": 4.11
                  },
                  {
                    "dew": 25.84,
                    "humidity": 69.56,
                    "pressure": 1012.58,
                    "temperature": 32.11,
                    "timestamp": "2024-09-30T02:41:59",
                    "volt": 4.11
                  },
                  {
                    "dew": 26.05,
                    "humidity": 70.29,
                    "pressure": 1012.48,
                    "temperature": 32.14,
                    "timestamp": "2024-09-30T02:42:59",
                    "volt": 4.11
                  },
                  {
                    "dew": 26.23,
                    "humidity": 70.72,
                    "pressure": 1012.53,
                    "temperature": 32.22,
                    "timestamp": "2024-09-30T02:43:59",
                    "volt": 4.11
                  },
                  {
                    "dew": 25.94,
                    "humidity": 69.37,
                    "pressure": 1012.47,
                    "temperature": 32.26,
                    "timestamp": "2024-09-30T02:44:59",
                    "volt": 4.11
                  },
                  {
                    "dew": 25.92,
                    "humidity": 69.13,
                    "pressure": 1012.54,
                    "temperature": 32.3,
                    "timestamp": "2024-09-30T02:45:59",
                    "volt": 4.12
                  },
                  {
                    "dew": 25.63,
                    "humidity": 68.35,
                    "pressure": 1012.42,
                    "temperature": 32.2,
                    "timestamp": "2024-09-30T02:46:59",
                    "volt": 4.12
                  },
                  {
                    "dew": 25.84,
                    "humidity": 69.1,
                    "pressure": 1012.47,
                    "temperature": 32.23,
                    "timestamp": "2024-09-30T02:47:59",
                    "volt": 4.11
                  },
                  {
                    "dew": 25.94,
                    "humidity": 69.4,
                    "pressure": 1012.53,
                    "temperature": 32.25,
                    "timestamp": "2024-09-30T02:48:59",
                    "volt": 4.12
                  },
                  {
                    "dew": 25.62,
                    "humidity": 68.51,
                    "pressure": 1012.43,
                    "temperature": 32.15,
                    "timestamp": "2024-09-30T02:49:59",
                    "volt": 4.12
                  },
                  {
                    "dew": 25.64,
                    "humidity": 68.76,
                    "pressure": 1012.4,
                    "temperature": 32.1,
                    "timestamp": "2024-09-30T02:50:59",
                    "volt": 4.12
                  },
                  {
                    "dew": 25.72,
                    "humidity": 69.11,
                    "pressure": 1012.43,
                    "temperature": 32.1,
                    "timestamp": "2024-09-30T02:51:59",
                    "volt": 4.11
                  },
                  {
                    "dew": 25.8,
                    "humidity": 69.44,
                    "pressure": 1012.41,
                    "temperature": 32.1,
                    "timestamp": "2024-09-30T02:52:59",
                    "volt": 4.11
                  },
                  {
                    "dew": 25.89,
                    "humidity": 69.6,
                    "pressure": 1012.51,
                    "temperature": 32.15,
                    "timestamp": "2024-09-30T02:53:59",
                    "volt": 4.12
                  },
                  {
                    "dew": 25.99,
                    "humidity": 69.81,
                    "pressure": 1012.48,
                    "temperature": 32.2,
                    "timestamp": "2024-09-30T02:54:59",
                    "volt": 4.11
                  },
                  {
                    "dew": 25.93,
                    "humidity": 69.47,
                    "pressure": 1012.46,
                    "temperature": 32.23,
                    "timestamp": "2024-09-30T02:55:59",
                    "volt": 4.12
                  },
                  {
                    "dew": 25.96,
                    "humidity": 69.53,
                    "pressure": 1012.46,
                    "temperature": 32.24,
                    "timestamp": "2024-09-30T02:56:59",
                    "volt": 4.12
                  },
                  {
                    "dew": 26.11,
                    "humidity": 69.9,
                    "pressure": 1012.47,
                    "temperature": 32.31,
                    "timestamp": "2024-09-30T02:57:59",
                    "volt": 4.12
                  },
                  {
                    "dew": 26.03,
                    "humidity": 69.53,
                    "pressure": 1012.43,
                    "temperature": 32.32,
                    "timestamp": "2024-09-30T02:58:59",
                    "volt": 4.11
                  },
                  {
                    "dew": 25.96,
                    "humidity": 69.55,
                    "pressure": 1012.39,
                    "temperature": 32.24,
                    "timestamp": "2024-09-30T02:59:59",
                    "volt": 4.11
                  },
                  {
                    "dew": 26.09,
                    "humidity": 70,
                    "pressure": 1012.35,
                    "temperature": 32.26,
                    "timestamp": "2024-09-30T03:00:59",
                    "volt": 4.12
                  },
                  {
                    "dew": 25.94,
                    "humidity": 69.58,
                    "pressure": 1012.35,
                    "temperature": 32.21,
                    "timestamp": "2024-09-30T03:02:00",
                    "volt": 4.11
                  },
                  {
                    "dew": 26.21,
                    "humidity": 70.38,
                    "pressure": 1012.38,
                    "temperature": 32.29,
                    "timestamp": "2024-09-30T03:02:59",
                    "volt": 4.11
                  },
                  {
                    "dew": 26.17,
                    "humidity": 69.84,
                    "pressure": 1012.32,
                    "temperature": 32.38,
                    "timestamp": "2024-09-30T03:03:59",
                    "volt": 4.11
                  },
                  {
                    "dew": 26.29,
                    "humidity": 70,
                    "pressure": 1012.36,
                    "temperature": 32.47,
                    "timestamp": "2024-09-30T03:04:59",
                    "volt": 4.11
                  },
                  {
                    "dew": 26.32,
                    "humidity": 69.73,
                    "pressure": 1012.33,
                    "temperature": 32.57,
                    "timestamp": "2024-09-30T03:06:00",
                    "volt": 4.11
                  },
                  {
                    "dew": 26.41,
                    "humidity": 69.75,
                    "pressure": 1012.31,
                    "temperature": 32.66,
                    "timestamp": "2024-09-30T03:06:59",
                    "volt": 4.11
                  },
                  {
                    "dew": 26.35,
                    "humidity": 69.17,
                    "pressure": 1012.31,
                    "temperature": 32.74,
                    "timestamp": "2024-09-30T03:07:59",
                    "volt": 4.11
                  },
                  {
                    "dew": 26.26,
                    "humidity": 68.54,
                    "pressure": 1012.34,
                    "temperature": 32.81,
                    "timestamp": "2024-09-30T03:09:00",
                    "volt": 4.11
                  },
                  {
                    "dew": 26.22,
                    "humidity": 68.33,
                    "pressure": 1012.34,
                    "temperature": 32.82,
                    "timestamp": "2024-09-30T03:10:00",
                    "volt": 4.12
                  },
                  {
                    "dew": 26.29,
                    "humidity": 68.45,
                    "pressure": 1012.3,
                    "temperature": 32.87,
                    "timestamp": "2024-09-30T03:10:59",
                    "volt": 4.11
                  },
                  {
                    "dew": 26.13,
                    "humidity": 67.85,
                    "pressure": 1012.41,
                    "temperature": 32.85,
                    "timestamp": "2024-09-30T03:12:00",
                    "volt": 4.11
                  },
                  {
                    "dew": 26.03,
                    "humidity": 67.69,
                    "pressure": 1012.37,
                    "temperature": 32.79,
                    "timestamp": "2024-09-30T03:13:00",
                    "volt": 4.12
                  },
                  {
                    "dew": 26.24,
                    "humidity": 68.43,
                    "pressure": 1012.39,
                    "temperature": 32.82,
                    "timestamp": "2024-09-30T03:13:59",
                    "volt": 4.11
                  },
                  {
                    "dew": 26.08,
                    "humidity": 67.8,
                    "pressure": 1012.37,
                    "temperature": 32.82,
                    "timestamp": "2024-09-30T03:15:00",
                    "volt": 4.12
                  },
                  {
                    "dew": 26.18,
                    "humidity": 67.91,
                    "pressure": 1012.38,
                    "temperature": 32.89,
                    "timestamp": "2024-09-30T03:16:00",
                    "volt": 4.12
                  },
                  {
                    "dew": 26.1,
                    "humidity": 67.8,
                    "pressure": 1012.3,
                    "temperature": 32.84,
                    "timestamp": "2024-09-30T03:17:00",
                    "volt": 4.11
                  },
                  {
                    "dew": 26.33,
                    "humidity": 68.25,
                    "pressure": 1012.35,
                    "temperature": 32.96,
                    "timestamp": "2024-09-30T03:18:00",
                    "volt": 4.11
                  },
                  {
                    "dew": 26.26,
                    "humidity": 67.85,
                    "pressure": 1012.4,
                    "temperature": 32.99,
                    "timestamp": "2024-09-30T03:19:00",
                    "volt": 4.11
                  },
                  {
                    "dew": 26.33,
                    "humidity": 67.91,
                    "pressure": 1012.42,
                    "temperature": 33.05,
                    "timestamp": "2024-09-30T03:20:00",
                    "volt": 4.11
                  },
                  {
                    "dew": 26.24,
                    "humidity": 67.72,
                    "pressure": 1012.33,
                    "temperature": 33,
                    "timestamp": "2024-09-30T03:21:00",
                    "volt": 4.11
                  },
                  {
                    "dew": 25.97,
                    "humidity": 67.3,
                    "pressure": 1012.33,
                    "temperature": 32.83,
                    "timestamp": "2024-09-30T03:22:00",
                    "volt": 4.12
                  },
                  {
                    "dew": 26.21,
                    "humidity": 67.97,
                    "pressure": 1012.24,
                    "temperature": 32.91,
                    "timestamp": "2024-09-30T03:23:00",
                    "volt": 4.12
                  },
                  {
                    "dew": 26.28,
                    "humidity": 68.27,
                    "pressure": 1012.25,
                    "temperature": 32.9,
                    "timestamp": "2024-09-30T03:24:01",
                    "volt": 4.12
                  },
                  {
                    "dew": 26.48,
                    "humidity": 68.76,
                    "pressure": 1012.24,
                    "temperature": 32.99,
                    "timestamp": "2024-09-30T03:25:00",
                    "volt": 4.11
                  },
                  {
                    "dew": 26.4,
                    "humidity": 67.99,
                    "pressure": 1012.25,
                    "temperature": 33.1,
                    "timestamp": "2024-09-30T03:26:00",
                    "volt": 4.11
                  },
                  {
                    "dew": 26.18,
                    "humidity": 67.28,
                    "pressure": 1012.16,
                    "temperature": 33.06,
                    "timestamp": "2024-09-30T03:27:00",
                    "volt": 4.12
                  },
                  {
                    "dew": 26.18,
                    "humidity": 67.27,
                    "pressure": 1012.16,
                    "temperature": 33.06,
                    "timestamp": "2024-09-30T03:28:00",
                    "volt": 4.11
                  },
                  {
                    "dew": 26.29,
                    "humidity": 67.73,
                    "pressure": 1012.16,
                    "temperature": 33.05,
                    "timestamp": "2024-09-30T03:29:00",
                    "volt": 4.11
                  },
                  {
                    "dew": 26.34,
                    "humidity": 67.67,
                    "pressure": 1012.11,
                    "temperature": 33.12,
                    "timestamp": "2024-09-30T03:30:00",
                    "volt": 4.12
                  },
                  {
                    "dew": 26.49,
                    "humidity": 68.12,
                    "pressure": 1012.23,
                    "temperature": 33.16,
                    "timestamp": "2024-09-30T03:31:00",
                    "volt": 4.11
                  },
                  {
                    "dew": 26.44,
                    "humidity": 67.84,
                    "pressure": 1012.11,
                    "temperature": 33.18,
                    "timestamp": "2024-09-30T03:32:00",
                    "volt": 4.12
                  },
                  {
                    "dew": 26.47,
                    "humidity": 68.01,
                    "pressure": 1012.12,
                    "temperature": 33.17,
                    "timestamp": "2024-09-30T03:33:00",
                    "volt": 4.12
                  },
                  {
                    "dew": 26.6,
                    "humidity": 68.21,
                    "pressure": 1012.15,
                    "temperature": 33.25,
                    "timestamp": "2024-09-30T03:34:00",
                    "volt": 4.11
                  },
                  {
                    "dew": 26.7,
                    "humidity": 68.24,
                    "pressure": 1012.14,
                    "temperature": 33.35,
                    "timestamp": "2024-09-30T03:35:00",
                    "volt": 4.12
                  },
                  {
                    "dew": 26.59,
                    "humidity": 67.57,
                    "pressure": 1012.1,
                    "temperature": 33.41,
                    "timestamp": "2024-09-30T03:36:00",
                    "volt": 4.12
                  },
                  {
                    "dew": 26.37,
                    "humidity": 66.83,
                    "pressure": 1012.05,
                    "temperature": 33.38,
                    "timestamp": "2024-09-30T03:37:00",
                    "volt": 4.11
                  },
                  {
                    "dew": 26.59,
                    "humidity": 67.37,
                    "pressure": 1012.05,
                    "temperature": 33.46,
                    "timestamp": "2024-09-30T03:38:00",
                    "volt": 4.12
                  },
                  {
                    "dew": 26.63,
                    "humidity": 67.48,
                    "pressure": 1012,
                    "temperature": 33.48,
                    "timestamp": "2024-09-30T03:39:00",
                    "volt": 4.11
                  },
                  {
                    "dew": 26.83,
                    "humidity": 67.89,
                    "pressure": 1011.96,
                    "temperature": 33.58,
                    "timestamp": "2024-09-30T03:40:00",
                    "volt": 4.11
                  },
                  {
                    "dew": 26.64,
                    "humidity": 67.12,
                    "pressure": 1012.02,
                    "temperature": 33.58,
                    "timestamp": "2024-09-30T03:41:00",
                    "volt": 4.11
                  },
                  {
                    "dew": 26.68,
                    "humidity": 67.29,
                    "pressure": 1011.91,
                    "temperature": 33.58,
                    "timestamp": "2024-09-30T03:42:00",
                    "volt": 4.11
                  },
                  {
                    "dew": 26.77,
                    "humidity": 67.62,
                    "pressure": 1011.96,
                    "temperature": 33.59,
                    "timestamp": "2024-09-30T03:43:00",
                    "volt": 4.12
                  },
                  {
                    "dew": 26.57,
                    "humidity": 66.82,
                    "pressure": 1011.85,
                    "temperature": 33.59,
                    "timestamp": "2024-09-30T03:44:00",
                    "volt": 4.12
                  },
                  {
                    "dew": 26.43,
                    "humidity": 66.75,
                    "pressure": 1011.72,
                    "temperature": 33.46,
                    "timestamp": "2024-09-30T03:45:00",
                    "volt": 4.12
                  },
                  {
                    "dew": 26.45,
                    "humidity": 66.96,
                    "pressure": 1011.81,
                    "temperature": 33.43,
                    "timestamp": "2024-09-30T03:46:00",
                    "volt": 4.12
                  },
                  {
                    "dew": 26.3,
                    "humidity": 67.12,
                    "pressure": 1011.82,
                    "temperature": 33.23,
                    "timestamp": "2024-09-30T03:47:00",
                    "volt": 4.11
                  },
                  {
                    "dew": 26.57,
                    "humidity": 68.21,
                    "pressure": 1011.72,
                    "temperature": 33.22,
                    "timestamp": "2024-09-30T03:49:00",
                    "volt": 4.12
                  },
                  {
                    "dew": 26.6,
                    "humidity": 68.43,
                    "pressure": 1011.67,
                    "temperature": 33.2,
                    "timestamp": "2024-09-30T03:50:00",
                    "volt": 4.11
                  },
                  {
                    "dew": 26.41,
                    "humidity": 67.73,
                    "pressure": 1011.67,
                    "temperature": 33.18,
                    "timestamp": "2024-09-30T03:51:00",
                    "volt": 4.12
                  },
                  {
                    "dew": 26.39,
                    "humidity": 67.67,
                    "pressure": 1011.6,
                    "temperature": 33.18,
                    "timestamp": "2024-09-30T03:52:00",
                    "volt": 4.12
                  },
                  {
                    "dew": 26.44,
                    "humidity": 67.99,
                    "pressure": 1011.6,
                    "temperature": 33.14,
                    "timestamp": "2024-09-30T03:53:00",
                    "volt": 4.11
                  },
                  {
                    "dew": 26.53,
                    "humidity": 68.6,
                    "pressure": 1011.62,
                    "temperature": 33.08,
                    "timestamp": "2024-09-30T03:54:00",
                    "volt": 4.11
                  },
                  {
                    "dew": 26.57,
                    "humidity": 68.59,
                    "pressure": 1011.6,
                    "temperature": 33.12,
                    "timestamp": "2024-09-30T03:55:00",
                    "volt": 4.12
                  },
                  {
                    "dew": 26.5,
                    "humidity": 68.3,
                    "pressure": 1011.59,
                    "temperature": 33.13,
                    "timestamp": "2024-09-30T03:56:00",
                    "volt": 4.12
                  },
                  {
                    "dew": 26.53,
                    "humidity": 68.67,
                    "pressure": 1011.53,
                    "temperature": 33.06,
                    "timestamp": "2024-09-30T03:57:00",
                    "volt": 4.11
                  },
                  {
                    "dew": 26.59,
                    "humidity": 68.79,
                    "pressure": 1011.58,
                    "temperature": 33.09,
                    "timestamp": "2024-09-30T03:58:00",
                    "volt": 4.12
                  },
                  {
                    "dew": 26.63,
                    "humidity": 68.56,
                    "pressure": 1011.54,
                    "temperature": 33.19,
                    "timestamp": "2024-09-30T03:59:00",
                    "volt": 4.12
                  },
                  {
                    "dew": 26.72,
                    "humidity": 68.49,
                    "pressure": 1011.56,
                    "temperature": 33.31,
                    "timestamp": "2024-09-30T04:00:00",
                    "volt": 4.11
                  },
                  {
                    "dew": 26.57,
                    "humidity": 67.81,
                    "pressure": 1011.41,
                    "temperature": 33.33,
                    "timestamp": "2024-09-30T04:01:00",
                    "volt": 4.12
                  },
                  {
                    "dew": 26.49,
                    "humidity": 67.57,
                    "pressure": 1011.52,
                    "temperature": 33.31,
                    "timestamp": "2024-09-30T04:02:00",
                    "volt": 4.11
                  },
                  {
                    "dew": 26.63,
                    "humidity": 68.02,
                    "pressure": 1011.55,
                    "temperature": 33.34,
                    "timestamp": "2024-09-30T04:03:00",
                    "volt": 4.12
                  },
                  {
                    "dew": 26.5,
                    "humidity": 67.74,
                    "pressure": 1011.51,
                    "temperature": 33.27,
                    "timestamp": "2024-09-30T04:04:00",
                    "volt": 4.11
                  },
                  {
                    "dew": 26.46,
                    "humidity": 67.68,
                    "pressure": 1011.4,
                    "temperature": 33.25,
                    "timestamp": "2024-09-30T04:05:00",
                    "volt": 4.12
                  },
                  {
                    "dew": 26.49,
                    "humidity": 67.8,
                    "pressure": 1011.39,
                    "temperature": 33.25,
                    "timestamp": "2024-09-30T04:06:00",
                    "volt": 4.11
                  },
                  {
                    "dew": 26.68,
                    "humidity": 68.33,
                    "pressure": 1011.44,
                    "temperature": 33.31,
                    "timestamp": "2024-09-30T04:07:00",
                    "volt": 4.11
                  },
                  {
                    "dew": 26.61,
                    "humidity": 67.91,
                    "pressure": 1011.34,
                    "temperature": 33.34,
                    "timestamp": "2024-09-30T04:08:00",
                    "volt": 4.12
                  },
                  {
                    "dew": 26.46,
                    "humidity": 67.75,
                    "pressure": 1011.36,
                    "temperature": 33.23,
                    "timestamp": "2024-09-30T04:09:00",
                    "volt": 4.11
                  },
                  {
                    "dew": 26.72,
                    "humidity": 68.42,
                    "pressure": 1011.36,
                    "temperature": 33.32,
                    "timestamp": "2024-09-30T04:10:00",
                    "volt": 4.12
                  },
                  {
                    "dew": 26.81,
                    "humidity": 68.41,
                    "pressure": 1011.36,
                    "temperature": 33.42,
                    "timestamp": "2024-09-30T04:11:00",
                    "volt": 4.11
                  },
                  {
                    "dew": 26.8,
                    "humidity": 67.82,
                    "pressure": 1011.43,
                    "temperature": 33.57,
                    "timestamp": "2024-09-30T04:12:00",
                    "volt": 4.12
                  },
                  {
                    "dew": 26.85,
                    "humidity": 68.18,
                    "pressure": 1011.3,
                    "temperature": 33.52,
                    "timestamp": "2024-09-30T04:13:00",
                    "volt": 4.12
                  },
                  {
                    "dew": 26.7,
                    "humidity": 67.76,
                    "pressure": 1011.37,
                    "temperature": 33.48,
                    "timestamp": "2024-09-30T04:14:00",
                    "volt": 4.11
                  },
                  {
                    "dew": 26.5,
                    "humidity": 67.03,
                    "pressure": 1011.25,
                    "temperature": 33.46,
                    "timestamp": "2024-09-30T04:15:00",
                    "volt": 4.12
                  },
                  {
                    "dew": 26.56,
                    "humidity": 67.74,
                    "pressure": 1011.22,
                    "temperature": 33.34,
                    "timestamp": "2024-09-30T04:16:00",
                    "volt": 4.12
                  },
                  {
                    "dew": 26.65,
                    "humidity": 68.4,
                    "pressure": 1011.21,
                    "temperature": 33.26,
                    "timestamp": "2024-09-30T04:17:00",
                    "volt": 4.11
                  },
                  {
                    "dew": 26.4,
                    "humidity": 67.53,
                    "pressure": 1011.25,
                    "temperature": 33.22,
                    "timestamp": "2024-09-30T04:18:00",
                    "volt": 4.12
                  },
                  {
                    "dew": 26.54,
                    "humidity": 68.04,
                    "pressure": 1011.2,
                    "temperature": 33.24,
                    "timestamp": "2024-09-30T04:19:00",
                    "volt": 4.11
                  },
                  {
                    "dew": 26.66,
                    "humidity": 68.2,
                    "pressure": 1011.23,
                    "temperature": 33.32,
                    "timestamp": "2024-09-30T04:20:01",
                    "volt": 4.11
                  },
                  {
                    "dew": 26.88,
                    "humidity": 68.86,
                    "pressure": 1011.22,
                    "temperature": 33.38,
                    "timestamp": "2024-09-30T04:21:00",
                    "volt": 4.11
                  },
                  {
                    "dew": 26.7,
                    "humidity": 68.15,
                    "pressure": 1011.19,
                    "temperature": 33.37,
                    "timestamp": "2024-09-30T04:22:00",
                    "volt": 4.12
                  },
                  {
                    "dew": 26.68,
                    "humidity": 67.97,
                    "pressure": 1011.14,
                    "temperature": 33.4,
                    "timestamp": "2024-09-30T04:23:00",
                    "volt": 4.11
                  },
                  {
                    "dew": 26.69,
                    "humidity": 68.03,
                    "pressure": 1011.19,
                    "temperature": 33.4,
                    "timestamp": "2024-09-30T04:24:00",
                    "volt": 4.11
                  },
                  {
                    "dew": 26.82,
                    "humidity": 68.22,
                    "pressure": 1011.16,
                    "temperature": 33.48,
                    "timestamp": "2024-09-30T04:25:00",
                    "volt": 4.11
                  },
                  {
                    "dew": 26.94,
                    "humidity": 68.42,
                    "pressure": 1011.18,
                    "temperature": 33.56,
                    "timestamp": "2024-09-30T04:26:00",
                    "volt": 4.11
                  },
                  {
                    "dew": 26.92,
                    "humidity": 68.12,
                    "pressure": 1011.14,
                    "temperature": 33.61,
                    "timestamp": "2024-09-30T04:27:00",
                    "volt": 4.12
                  },
                  {
                    "dew": 26.87,
                    "humidity": 67.65,
                    "pressure": 1011.17,
                    "temperature": 33.68,
                    "timestamp": "2024-09-30T04:28:00",
                    "volt": 4.12
                  },
                  {
                    "dew": 26.98,
                    "humidity": 67.95,
                    "pressure": 1011.14,
                    "temperature": 33.72,
                    "timestamp": "2024-09-30T04:29:00",
                    "volt": 4.12
                  },
                  {
                    "dew": 26.75,
                    "humidity": 66.88,
                    "pressure": 1011.09,
                    "temperature": 33.76,
                    "timestamp": "2024-09-30T04:30:00",
                    "volt": 4.12
                  },
                  {
                    "dew": 26.66,
                    "humidity": 66.94,
                    "pressure": 1011.1,
                    "temperature": 33.65,
                    "timestamp": "2024-09-30T04:31:00",
                    "volt": 4.12
                  },
                  {
                    "dew": 26.73,
                    "humidity": 67.36,
                    "pressure": 1011.11,
                    "temperature": 33.61,
                    "timestamp": "2024-09-30T04:32:00",
                    "volt": 4.12
                  },
                  {
                    "dew": 26.73,
                    "humidity": 67.32,
                    "pressure": 1011.12,
                    "temperature": 33.62,
                    "timestamp": "2024-09-30T04:33:00",
                    "volt": 4.12
                  },
                  {
                    "dew": 26.87,
                    "humidity": 67.76,
                    "pressure": 1010.99,
                    "temperature": 33.66,
                    "timestamp": "2024-09-30T04:34:00",
                    "volt": 4.12
                  },
                  {
                    "dew": 26.87,
                    "humidity": 67.73,
                    "pressure": 1011.07,
                    "temperature": 33.66,
                    "timestamp": "2024-09-30T04:35:00",
                    "volt": 4.11
                  },
                  {
                    "dew": 26.91,
                    "humidity": 67.6,
                    "pressure": 1011.08,
                    "temperature": 33.74,
                    "timestamp": "2024-09-30T04:36:00",
                    "volt": 4.11
                  },
                  {
                    "dew": 26.96,
                    "humidity": 67.46,
                    "pressure": 1011.02,
                    "temperature": 33.83,
                    "timestamp": "2024-09-30T04:37:00",
                    "volt": 4.11
                  },
                  {
                    "dew": 26.93,
                    "humidity": 67.28,
                    "pressure": 1010.95,
                    "temperature": 33.85,
                    "timestamp": "2024-09-30T04:38:00",
                    "volt": 4.12
                  },
                  {
                    "dew": 26.78,
                    "humidity": 66.95,
                    "pressure": 1011.09,
                    "temperature": 33.78,
                    "timestamp": "2024-09-30T04:39:00",
                    "volt": 4.12
                  },
                  {
                    "dew": 26.62,
                    "humidity": 66.95,
                    "pressure": 1011.01,
                    "temperature": 33.61,
                    "timestamp": "2024-09-30T04:40:00",
                    "volt": 4.12
                  },
                  {
                    "dew": 26.65,
                    "humidity": 67.36,
                    "pressure": 1010.99,
                    "temperature": 33.53,
                    "timestamp": "2024-09-30T04:41:00",
                    "volt": 4.12
                  },
                  {
                    "dew": 26.78,
                    "humidity": 67.81,
                    "pressure": 1011.07,
                    "temperature": 33.55,
                    "timestamp": "2024-09-30T04:42:00",
                    "volt": 4.11
                  },
                  {
                    "dew": 26.49,
                    "humidity": 67.39,
                    "pressure": 1010.95,
                    "temperature": 33.35,
                    "timestamp": "2024-09-30T04:43:00",
                    "volt": 4.11
                  },
                  {
                    "dew": 26.6,
                    "humidity": 68.2,
                    "pressure": 1010.94,
                    "temperature": 33.26,
                    "timestamp": "2024-09-30T04:44:00",
                    "volt": 4.11
                  },
                  {
                    "dew": 26.77,
                    "humidity": 68.93,
                    "pressure": 1010.97,
                    "temperature": 33.24,
                    "timestamp": "2024-09-30T04:45:00",
                    "volt": 4.11
                  },
                  {
                    "dew": 26.8,
                    "humidity": 68.86,
                    "pressure": 1010.97,
                    "temperature": 33.29,
                    "timestamp": "2024-09-30T04:46:00",
                    "volt": 4.11
                  },
                  {
                    "dew": 26.83,
                    "humidity": 69.05,
                    "pressure": 1010.89,
                    "temperature": 33.28,
                    "timestamp": "2024-09-30T04:47:00",
                    "volt": 4.11
                  },
                  {
                    "dew": 26.64,
                    "humidity": 68.55,
                    "pressure": 1010.9,
                    "temperature": 33.21,
                    "timestamp": "2024-09-30T04:48:00",
                    "volt": 4.12
                  },
                  {
                    "dew": 26.64,
                    "humidity": 68.56,
                    "pressure": 1010.88,
                    "temperature": 33.2,
                    "timestamp": "2024-09-30T04:49:00",
                    "volt": 4.11
                  },
                  {
                    "dew": 26.78,
                    "humidity": 69.02,
                    "pressure": 1010.87,
                    "temperature": 33.23,
                    "timestamp": "2024-09-30T04:50:00",
                    "volt": 4.11
                  },
                  {
                    "dew": 26.65,
                    "humidity": 69.15,
                    "pressure": 1010.77,
                    "temperature": 33.06,
                    "timestamp": "2024-09-30T04:51:00",
                    "volt": 4.12
                  },
                  {
                    "dew": 26.94,
                    "humidity": 69.88,
                    "pressure": 1010.84,
                    "temperature": 33.18,
                    "timestamp": "2024-09-30T04:52:00",
                    "volt": 4.11
                  },
                  {
                    "dew": 26.79,
                    "humidity": 69.58,
                    "pressure": 1010.8,
                    "temperature": 33.1,
                    "timestamp": "2024-09-30T04:53:00",
                    "volt": 4.11
                  },
                  {
                    "dew": 26.95,
                    "humidity": 69.94,
                    "pressure": 1010.83,
                    "temperature": 33.17,
                    "timestamp": "2024-09-30T04:54:00",
                    "volt": 4.12
                  },
                  {
                    "dew": 26.74,
                    "humidity": 69.34,
                    "pressure": 1010.76,
                    "temperature": 33.11,
                    "timestamp": "2024-09-30T04:55:00",
                    "volt": 4.12
                  },
                  {
                    "dew": 26.65,
                    "humidity": 69.17,
                    "pressure": 1010.77,
                    "temperature": 33.06,
                    "timestamp": "2024-09-30T04:56:00",
                    "volt": 4.11
                  },
                  {
                    "dew": 26.72,
                    "humidity": 69.32,
                    "pressure": 1010.78,
                    "temperature": 33.09,
                    "timestamp": "2024-09-30T04:57:00",
                    "volt": 4.12
                  },
                  {
                    "dew": 26.79,
                    "humidity": 69.34,
                    "pressure": 1010.74,
                    "temperature": 33.16,
                    "timestamp": "2024-09-30T04:58:00",
                    "volt": 4.11
                  },
                  {
                    "dew": 26.97,
                    "humidity": 69.87,
                    "pressure": 1010.69,
                    "temperature": 33.21,
                    "timestamp": "2024-09-30T04:59:00",
                    "volt": 4.11
                  },
                  {
                    "dew": 26.81,
                    "humidity": 69.37,
                    "pressure": 1010.68,
                    "temperature": 33.17,
                    "timestamp": "2024-09-30T05:00:00",
                    "volt": 4.12
                  },
                  {
                    "dew": 26.84,
                    "humidity": 69.52,
                    "pressure": 1010.65,
                    "temperature": 33.17,
                    "timestamp": "2024-09-30T05:01:00",
                    "volt": 4.12
                  },
                  {
                    "dew": 26.8,
                    "humidity": 69.31,
                    "pressure": 1010.63,
                    "temperature": 33.18,
                    "timestamp": "2024-09-30T05:02:01",
                    "volt": 4.12
                  },
                  {
                    "dew": 26.79,
                    "humidity": 69.14,
                    "pressure": 1010.62,
                    "temperature": 33.21,
                    "timestamp": "2024-09-30T05:03:01",
                    "volt": 4.11
                  },
                  {
                    "dew": 26.77,
                    "humidity": 68.77,
                    "pressure": 1010.65,
                    "temperature": 33.29,
                    "timestamp": "2024-09-30T05:04:00",
                    "volt": 4.12
                  },
                  {
                    "dew": 26.79,
                    "humidity": 68.87,
                    "pressure": 1010.64,
                    "temperature": 33.28,
                    "timestamp": "2024-09-30T05:05:01",
                    "volt": 4.12
                  },
                  {
                    "dew": 26.64,
                    "humidity": 68.01,
                    "pressure": 1010.61,
                    "temperature": 33.35,
                    "timestamp": "2024-09-30T05:06:00",
                    "volt": 4.12
                  },
                  {
                    "dew": 26.86,
                    "humidity": 68.69,
                    "pressure": 1010.6,
                    "temperature": 33.4,
                    "timestamp": "2024-09-30T05:07:00",
                    "volt": 4.12
                  },
                  {
                    "dew": 26.79,
                    "humidity": 68.57,
                    "pressure": 1010.56,
                    "temperature": 33.36,
                    "timestamp": "2024-09-30T05:08:00",
                    "volt": 4.11
                  },
                  {
                    "dew": 27.07,
                    "humidity": 69.53,
                    "pressure": 1010.6,
                    "temperature": 33.41,
                    "timestamp": "2024-09-30T05:09:00",
                    "volt": 4.11
                  },
                  {
                    "dew": 27,
                    "humidity": 69.34,
                    "pressure": 1010.53,
                    "temperature": 33.38,
                    "timestamp": "2024-09-30T05:10:00",
                    "volt": 4.12
                  },
                  {
                    "dew": 27.16,
                    "humidity": 69.84,
                    "pressure": 1010.53,
                    "temperature": 33.42,
                    "timestamp": "2024-09-30T05:11:00",
                    "volt": 4.11
                  },
                  {
                    "dew": 27.06,
                    "humidity": 69.16,
                    "pressure": 1010.53,
                    "temperature": 33.49,
                    "timestamp": "2024-09-30T05:12:01",
                    "volt": 4.11
                  },
                  {
                    "dew": 27.26,
                    "humidity": 69.69,
                    "pressure": 1010.56,
                    "temperature": 33.56,
                    "timestamp": "2024-09-30T05:13:01",
                    "volt": 4.12
                  },
                  {
                    "dew": 27.2,
                    "humidity": 69.27,
                    "pressure": 1010.48,
                    "temperature": 33.61,
                    "timestamp": "2024-09-30T05:14:01",
                    "volt": 4.12
                  },
                  {
                    "dew": 27.25,
                    "humidity": 69.48,
                    "pressure": 1010.49,
                    "temperature": 33.61,
                    "timestamp": "2024-09-30T05:15:01",
                    "volt": 4.12
                  },
                  {
                    "dew": 27.42,
                    "humidity": 69.64,
                    "pressure": 1010.47,
                    "temperature": 33.74,
                    "timestamp": "2024-09-30T05:16:01",
                    "volt": 4.12
                  },
                  {
                    "dew": 27.45,
                    "humidity": 69.54,
                    "pressure": 1010.44,
                    "temperature": 33.8,
                    "timestamp": "2024-09-30T05:17:00",
                    "volt": 4.11
                  },
                  {
                    "dew": 27.34,
                    "humidity": 69.12,
                    "pressure": 1010.43,
                    "temperature": 33.79,
                    "timestamp": "2024-09-30T05:18:00",
                    "volt": 4.11
                  },
                  {
                    "dew": 27.33,
                    "humidity": 68.81,
                    "pressure": 1010.4,
                    "temperature": 33.86,
                    "timestamp": "2024-09-30T05:19:01",
                    "volt": 4.11
                  },
                  {
                    "dew": 27.27,
                    "humidity": 68.57,
                    "pressure": 1010.4,
                    "temperature": 33.86,
                    "timestamp": "2024-09-30T05:20:00",
                    "volt": 4.11
                  },
                  {
                    "dew": 27.32,
                    "humidity": 68.58,
                    "pressure": 1010.34,
                    "temperature": 33.91,
                    "timestamp": "2024-09-30T05:21:01",
                    "volt": 4.12
                  },
                  {
                    "dew": 27.15,
                    "humidity": 68.37,
                    "pressure": 1010.32,
                    "temperature": 33.79,
                    "timestamp": "2024-09-30T05:22:00",
                    "volt": 4.12
                  },
                  {
                    "dew": 27.23,
                    "humidity": 68.61,
                    "pressure": 1010.33,
                    "temperature": 33.81,
                    "timestamp": "2024-09-30T05:23:00",
                    "volt": 4.11
                  },
                  {
                    "dew": 27.32,
                    "humidity": 68.78,
                    "pressure": 1010.29,
                    "temperature": 33.86,
                    "timestamp": "2024-09-30T05:24:01",
                    "volt": 4.12
                  },
                  {
                    "dew": 27.4,
                    "humidity": 68.78,
                    "pressure": 1010.33,
                    "temperature": 33.94,
                    "timestamp": "2024-09-30T05:25:00",
                    "volt": 4.12
                  },
                  {
                    "dew": 27.35,
                    "humidity": 68.8,
                    "pressure": 1010.36,
                    "temperature": 33.89,
                    "timestamp": "2024-09-30T05:26:01",
                    "volt": 4.12
                  },
                  {
                    "dew": 27.23,
                    "humidity": 68.7,
                    "pressure": 1010.27,
                    "temperature": 33.79,
                    "timestamp": "2024-09-30T05:27:01",
                    "volt": 4.11
                  },
                  {
                    "dew": 27.16,
                    "humidity": 68.69,
                    "pressure": 1010.31,
                    "temperature": 33.72,
                    "timestamp": "2024-09-30T05:28:01",
                    "volt": 4.11
                  },
                  {
                    "dew": 27.43,
                    "humidity": 69.64,
                    "pressure": 1010.32,
                    "temperature": 33.75,
                    "timestamp": "2024-09-30T05:29:00",
                    "volt": 4.11
                  },
                  {
                    "dew": 27.31,
                    "humidity": 68.94,
                    "pressure": 1010.32,
                    "temperature": 33.81,
                    "timestamp": "2024-09-30T05:30:01",
                    "volt": 4.12
                  },
                  {
                    "dew": 27.29,
                    "humidity": 68.9,
                    "pressure": 1010.34,
                    "temperature": 33.8,
                    "timestamp": "2024-09-30T05:31:00",
                    "volt": 4.11
                  },
                  {
                    "dew": 27.44,
                    "humidity": 69.36,
                    "pressure": 1010.24,
                    "temperature": 33.84,
                    "timestamp": "2024-09-30T05:32:01",
                    "volt": 4.12
                  },
                  {
                    "dew": 27.35,
                    "humidity": 69.26,
                    "pressure": 1010.21,
                    "temperature": 33.77,
                    "timestamp": "2024-09-30T05:33:01",
                    "volt": 4.11
                  },
                  {
                    "dew": 27.32,
                    "humidity": 69.44,
                    "pressure": 1010.25,
                    "temperature": 33.69,
                    "timestamp": "2024-09-30T05:34:01",
                    "volt": 4.11
                  },
                  {
                    "dew": 27.31,
                    "humidity": 69.3,
                    "pressure": 1010.21,
                    "temperature": 33.72,
                    "timestamp": "2024-09-30T05:35:01",
                    "volt": 4.11
                  },
                  {
                    "dew": 27.28,
                    "humidity": 69.09,
                    "pressure": 1010.15,
                    "temperature": 33.74,
                    "timestamp": "2024-09-30T05:36:01",
                    "volt": 4.12
                  },
                  {
                    "dew": 27.37,
                    "humidity": 69.37,
                    "pressure": 1010.15,
                    "temperature": 33.76,
                    "timestamp": "2024-09-30T05:37:01",
                    "volt": 4.11
                  },
                  {
                    "dew": 27.46,
                    "humidity": 69.56,
                    "pressure": 1010.16,
                    "temperature": 33.81,
                    "timestamp": "2024-09-30T05:38:01",
                    "volt": 4.11
                  },
                  {
                    "dew": 27.31,
                    "humidity": 69.09,
                    "pressure": 1010.16,
                    "temperature": 33.77,
                    "timestamp": "2024-09-30T05:39:01",
                    "volt": 4.11
                  },
                  {
                    "dew": 27.37,
                    "humidity": 69.12,
                    "pressure": 1010.16,
                    "temperature": 33.82,
                    "timestamp": "2024-09-30T05:40:01",
                    "volt": 4.11
                  },
                  {
                    "dew": 27.2,
                    "humidity": 68.67,
                    "pressure": 1010.08,
                    "temperature": 33.76,
                    "timestamp": "2024-09-30T05:41:01",
                    "volt": 4.12
                  },
                  {
                    "dew": 26.81,
                    "humidity": 68.11,
                    "pressure": 1010.16,
                    "temperature": 33.5,
                    "timestamp": "2024-09-30T05:42:01",
                    "volt": 4.11
                  },
                  {
                    "dew": 26.96,
                    "humidity": 69,
                    "pressure": 1010.06,
                    "temperature": 33.43,
                    "timestamp": "2024-09-30T05:43:01",
                    "volt": 4.11
                  },
                  {
                    "dew": 27.08,
                    "humidity": 69.43,
                    "pressure": 1010.03,
                    "temperature": 33.44,
                    "timestamp": "2024-09-30T05:44:01",
                    "volt": 4.11
                  },
                  {
                    "dew": 27.17,
                    "humidity": 70.12,
                    "pressure": 1010.05,
                    "temperature": 33.36,
                    "timestamp": "2024-09-30T05:45:01",
                    "volt": 4.11
                  },
                  {
                    "dew": 27.45,
                    "humidity": 71.06,
                    "pressure": 1010.1,
                    "temperature": 33.41,
                    "timestamp": "2024-09-30T05:46:01",
                    "volt": 4.11
                  },
                  {
                    "dew": 27.35,
                    "humidity": 70.29,
                    "pressure": 1010.03,
                    "temperature": 33.5,
                    "timestamp": "2024-09-30T05:47:01",
                    "volt": 4.11
                  },
                  {
                    "dew": 27.33,
                    "humidity": 70.01,
                    "pressure": 1009.97,
                    "temperature": 33.55,
                    "timestamp": "2024-09-30T05:48:01",
                    "volt": 4.11
                  },
                  {
                    "dew": 27.19,
                    "humidity": 69.63,
                    "pressure": 1009.95,
                    "temperature": 33.51,
                    "timestamp": "2024-09-30T05:49:01",
                    "volt": 4.11
                  },
                  {
                    "dew": 27.24,
                    "humidity": 69.66,
                    "pressure": 1009.97,
                    "temperature": 33.55,
                    "timestamp": "2024-09-30T05:50:01",
                    "volt": 4.11
                  },
                  {
                    "dew": 27.4,
                    "humidity": 69.91,
                    "pressure": 1010.01,
                    "temperature": 33.65,
                    "timestamp": "2024-09-30T05:51:01",
                    "volt": 4.12
                  },
                  {
                    "dew": 27.17,
                    "humidity": 68.87,
                    "pressure": 1009.9,
                    "temperature": 33.68,
                    "timestamp": "2024-09-30T05:52:02",
                    "volt": 4.12
                  },
                  {
                    "dew": 27.18,
                    "humidity": 68.51,
                    "pressure": 1009.83,
                    "temperature": 33.78,
                    "timestamp": "2024-09-30T05:53:01",
                    "volt": 4.11
                  },
                  {
                    "dew": 27.36,
                    "humidity": 68.92,
                    "pressure": 1009.87,
                    "temperature": 33.87,
                    "timestamp": "2024-09-30T05:54:01",
                    "volt": 4.12
                  },
                  {
                    "dew": 27.48,
                    "humidity": 69.17,
                    "pressure": 1009.85,
                    "temperature": 33.93,
                    "timestamp": "2024-09-30T05:55:01",
                    "volt": 4.12
                  },
                  {
                    "dew": 27.37,
                    "humidity": 68.51,
                    "pressure": 1009.81,
                    "temperature": 33.98,
                    "timestamp": "2024-09-30T05:56:01",
                    "volt": 4.11
                  },
                  {
                    "dew": 27.38,
                    "humidity": 69.12,
                    "pressure": 1009.76,
                    "temperature": 33.84,
                    "timestamp": "2024-09-30T05:57:01",
                    "volt": 4.11
                  },
                  {
                    "dew": 27.39,
                    "humidity": 68.93,
                    "pressure": 1009.81,
                    "temperature": 33.9,
                    "timestamp": "2024-09-30T05:58:01",
                    "volt": 4.11
                  },
                  {
                    "dew": 27.09,
                    "humidity": 68.38,
                    "pressure": 1009.76,
                    "temperature": 33.72,
                    "timestamp": "2024-09-30T05:59:01",
                    "volt": 4.12
                  },
                  {
                    "dew": 27.1,
                    "humidity": 69.3,
                    "pressure": 1009.76,
                    "temperature": 33.5,
                    "timestamp": "2024-09-30T06:00:01",
                    "volt": 4.11
                  },
                  {
                    "dew": 27.21,
                    "humidity": 69.71,
                    "pressure": 1009.73,
                    "temperature": 33.51,
                    "timestamp": "2024-09-30T06:01:01",
                    "volt": 4.11
                  },
                  {
                    "dew": 27.29,
                    "humidity": 69.96,
                    "pressure": 1009.74,
                    "temperature": 33.53,
                    "timestamp": "2024-09-30T06:02:01",
                    "volt": 4.11
                  },
                  {
                    "dew": 27.24,
                    "humidity": 70,
                    "pressure": 1009.72,
                    "temperature": 33.46,
                    "timestamp": "2024-09-30T06:03:01",
                    "volt": 4.11
                  },
                  {
                    "dew": 27.16,
                    "humidity": 70.21,
                    "pressure": 1009.69,
                    "temperature": 33.33,
                    "timestamp": "2024-09-30T06:04:01",
                    "volt": 4.12
                  },
                  {
                    "dew": 27.27,
                    "humidity": 70.88,
                    "pressure": 1009.63,
                    "temperature": 33.27,
                    "timestamp": "2024-09-30T06:05:01",
                    "volt": 4.11
                  },
                  {
                    "dew": 27.21,
                    "humidity": 70.66,
                    "pressure": 1009.66,
                    "temperature": 33.26,
                    "timestamp": "2024-09-30T06:06:01",
                    "volt": 4.12
                  },
                  {
                    "dew": 27.47,
                    "humidity": 71.42,
                    "pressure": 1009.73,
                    "temperature": 33.35,
                    "timestamp": "2024-09-30T06:07:01",
                    "volt": 4.11
                  },
                  {
                    "dew": 27.37,
                    "humidity": 70.62,
                    "pressure": 1009.68,
                    "temperature": 33.44,
                    "timestamp": "2024-09-30T06:08:01",
                    "volt": 4.12
                  },
                  {
                    "dew": 27.13,
                    "humidity": 69.7,
                    "pressure": 1009.61,
                    "temperature": 33.42,
                    "timestamp": "2024-09-30T06:09:01",
                    "volt": 4.12
                  },
                  {
                    "dew": 27.13,
                    "humidity": 69.57,
                    "pressure": 1009.64,
                    "temperature": 33.46,
                    "timestamp": "2024-09-30T06:10:01",
                    "volt": 4.12
                  },
                  {
                    "dew": 27.45,
                    "humidity": 70.62,
                    "pressure": 1009.64,
                    "temperature": 33.52,
                    "timestamp": "2024-09-30T06:11:01",
                    "volt": 4.12
                  },
                  {
                    "dew": 27.48,
                    "humidity": 70.63,
                    "pressure": 1009.65,
                    "temperature": 33.55,
                    "timestamp": "2024-09-30T06:12:02",
                    "volt": 4.11
                  },
                  {
                    "dew": 27.42,
                    "humidity": 70.38,
                    "pressure": 1009.64,
                    "temperature": 33.55,
                    "timestamp": "2024-09-30T06:13:01",
                    "volt": 4.11
                  },
                  {
                    "dew": 27.47,
                    "humidity": 70.75,
                    "pressure": 1009.62,
                    "temperature": 33.51,
                    "timestamp": "2024-09-30T06:14:01",
                    "volt": 4.12
                  },
                  {
                    "dew": 27.44,
                    "humidity": 70.45,
                    "pressure": 1009.61,
                    "temperature": 33.56,
                    "timestamp": "2024-09-30T06:15:01",
                    "volt": 4.12
                  },
                  {
                    "dew": 27.55,
                    "humidity": 70.58,
                    "pressure": 1009.62,
                    "temperature": 33.64,
                    "timestamp": "2024-09-30T06:16:01",
                    "volt": 4.12
                  },
                  {
                    "dew": 27.36,
                    "humidity": 69.84,
                    "pressure": 1009.63,
                    "temperature": 33.63,
                    "timestamp": "2024-09-30T06:17:01",
                    "volt": 4.11
                  },
                  {
                    "dew": 27.34,
                    "humidity": 70.19,
                    "pressure": 1009.61,
                    "temperature": 33.52,
                    "timestamp": "2024-09-30T06:18:01",
                    "volt": 4.12
                  },
                  {
                    "dew": 27.29,
                    "humidity": 70.19,
                    "pressure": 1009.66,
                    "temperature": 33.47,
                    "timestamp": "2024-09-30T06:19:01",
                    "volt": 4.11
                  },
                  {
                    "dew": 27.14,
                    "humidity": 70.1,
                    "pressure": 1009.55,
                    "temperature": 33.33,
                    "timestamp": "2024-09-30T06:20:01",
                    "volt": 4.11
                  },
                  {
                    "dew": 27.17,
                    "humidity": 70.23,
                    "pressure": 1009.57,
                    "temperature": 33.33,
                    "timestamp": "2024-09-30T06:21:01",
                    "volt": 4.12
                  },
                  {
                    "dew": 27.1,
                    "humidity": 70.01,
                    "pressure": 1009.48,
                    "temperature": 33.31,
                    "timestamp": "2024-09-30T06:22:01",
                    "volt": 4.11
                  },
                  {
                    "dew": 27.21,
                    "humidity": 70.17,
                    "pressure": 1009.48,
                    "temperature": 33.39,
                    "timestamp": "2024-09-30T06:23:01",
                    "volt": 4.11
                  },
                  {
                    "dew": 27.15,
                    "humidity": 70.31,
                    "pressure": 1009.47,
                    "temperature": 33.29,
                    "timestamp": "2024-09-30T06:24:01",
                    "volt": 4.12
                  },
                  {
                    "dew": 27.26,
                    "humidity": 70.69,
                    "pressure": 1009.42,
                    "temperature": 33.31,
                    "timestamp": "2024-09-30T06:25:01",
                    "volt": 4.12
                  },
                  {
                    "dew": 27.21,
                    "humidity": 70.47,
                    "pressure": 1009.47,
                    "temperature": 33.31,
                    "timestamp": "2024-09-30T06:26:01",
                    "volt": 4.11
                  },
                  {
                    "dew": 27.28,
                    "humidity": 71.01,
                    "pressure": 1009.37,
                    "temperature": 33.25,
                    "timestamp": "2024-09-30T06:27:01",
                    "volt": 4.11
                  },
                  {
                    "dew": 27.37,
                    "humidity": 71.52,
                    "pressure": 1009.3,
                    "temperature": 33.22,
                    "timestamp": "2024-09-30T06:28:01",
                    "volt": 4.11
                  },
                  {
                    "dew": 27.35,
                    "humidity": 71.15,
                    "pressure": 1009.45,
                    "temperature": 33.29,
                    "timestamp": "2024-09-30T06:29:01",
                    "volt": 4.12
                  },
                  {
                    "dew": 27.09,
                    "humidity": 70.16,
                    "pressure": 1009.35,
                    "temperature": 33.26,
                    "timestamp": "2024-09-30T06:30:01",
                    "volt": 4.11
                  },
                  {
                    "dew": 27.2,
                    "humidity": 70.47,
                    "pressure": 1009.36,
                    "temperature": 33.3,
                    "timestamp": "2024-09-30T06:31:01",
                    "volt": 4.12
                  },
                  {
                    "dew": 27.37,
                    "humidity": 71.08,
                    "pressure": 1009.4,
                    "temperature": 33.33,
                    "timestamp": "2024-09-30T06:32:01",
                    "volt": 4.11
                  },
                  {
                    "dew": 27.22,
                    "humidity": 70.38,
                    "pressure": 1009.36,
                    "temperature": 33.35,
                    "timestamp": "2024-09-30T06:33:01",
                    "volt": 4.12
                  },
                  {
                    "dew": 27.13,
                    "humidity": 70.4,
                    "pressure": 1009.33,
                    "temperature": 33.25,
                    "timestamp": "2024-09-30T06:34:01",
                    "volt": 4.11
                  },
                  {
                    "dew": 27.24,
                    "humidity": 71.03,
                    "pressure": 1009.34,
                    "temperature": 33.2,
                    "timestamp": "2024-09-30T06:35:01",
                    "volt": 4.12
                  },
                  {
                    "dew": 27.31,
                    "humidity": 70.98,
                    "pressure": 1009.34,
                    "temperature": 33.29,
                    "timestamp": "2024-09-30T06:36:01",
                    "volt": 4.12
                  },
                  {
                    "dew": 27.37,
                    "humidity": 71.03,
                    "pressure": 1009.32,
                    "temperature": 33.34,
                    "timestamp": "2024-09-30T06:37:01",
                    "volt": 4.11
                  },
                  {
                    "dew": 27.2,
                    "humidity": 70.34,
                    "pressure": 1009.32,
                    "temperature": 33.33,
                    "timestamp": "2024-09-30T06:38:01",
                    "volt": 4.12
                  },
                  {
                    "dew": 27.16,
                    "humidity": 70.41,
                    "pressure": 1009.29,
                    "temperature": 33.27,
                    "timestamp": "2024-09-30T06:39:01",
                    "volt": 4.11
                  },
                  {
                    "dew": 26.94,
                    "humidity": 69.82,
                    "pressure": 1009.27,
                    "temperature": 33.19,
                    "timestamp": "2024-09-30T06:40:01",
                    "volt": 4.11
                  },
                  {
                    "dew": 27.16,
                    "humidity": 70.76,
                    "pressure": 1009.26,
                    "temperature": 33.19,
                    "timestamp": "2024-09-30T06:41:01",
                    "volt": 4.11
                  },
                  {
                    "dew": 27.13,
                    "humidity": 70.38,
                    "pressure": 1009.37,
                    "temperature": 33.25,
                    "timestamp": "2024-09-30T06:42:01",
                    "volt": 4.11
                  },
                  {
                    "dew": 27,
                    "humidity": 70.19,
                    "pressure": 1009.24,
                    "temperature": 33.16,
                    "timestamp": "2024-09-30T06:43:01",
                    "volt": 4.12
                  },
                  {
                    "dew": 27.02,
                    "humidity": 70.52,
                    "pressure": 1009.18,
                    "temperature": 33.1,
                    "timestamp": "2024-09-30T06:44:01",
                    "volt": 4.12
                  },
                  {
                    "dew": 27.03,
                    "humidity": 70.71,
                    "pressure": 1009.19,
                    "temperature": 33.06,
                    "timestamp": "2024-09-30T06:45:01",
                    "volt": 4.12
                  },
                  {
                    "dew": 27.22,
                    "humidity": 71.02,
                    "pressure": 1009.16,
                    "temperature": 33.18,
                    "timestamp": "2024-09-30T06:46:01",
                    "volt": 4.12
                  },
                  {
                    "dew": 27.28,
                    "humidity": 71.26,
                    "pressure": 1009.16,
                    "temperature": 33.19,
                    "timestamp": "2024-09-30T06:47:01",
                    "volt": 4.12
                  },
                  {
                    "dew": 27.26,
                    "humidity": 70.69,
                    "pressure": 1009.12,
                    "temperature": 33.31,
                    "timestamp": "2024-09-30T06:48:01",
                    "volt": 4.11
                  },
                  {
                    "dew": 27.26,
                    "humidity": 71.12,
                    "pressure": 1009.15,
                    "temperature": 33.2,
                    "timestamp": "2024-09-30T06:49:01",
                    "volt": 4.11
                  },
                  {
                    "dew": 27.25,
                    "humidity": 71.18,
                    "pressure": 1009.2,
                    "temperature": 33.17,
                    "timestamp": "2024-09-30T06:50:01",
                    "volt": 4.12
                  },
                  {
                    "dew": 27.17,
                    "humidity": 70.82,
                    "pressure": 1009.21,
                    "temperature": 33.18,
                    "timestamp": "2024-09-30T06:51:01",
                    "volt": 4.12
                  },
                  {
                    "dew": 27.05,
                    "humidity": 70.65,
                    "pressure": 1009.13,
                    "temperature": 33.1,
                    "timestamp": "2024-09-30T06:52:01",
                    "volt": 4.11
                  },
                  {
                    "dew": 27.15,
                    "humidity": 71.3,
                    "pressure": 1009.16,
                    "temperature": 33.04,
                    "timestamp": "2024-09-30T06:53:01",
                    "volt": 4.11
                  },
                  {
                    "dew": 27.14,
                    "humidity": 71.94,
                    "pressure": 1009.27,
                    "temperature": 32.87,
                    "timestamp": "2024-09-30T06:54:01",
                    "volt": 4.11
                  },
                  {
                    "dew": 26.99,
                    "humidity": 72.2,
                    "pressure": 1009.19,
                    "temperature": 32.65,
                    "timestamp": "2024-09-30T06:55:01",
                    "volt": 4.11
                  },
                  {
                    "dew": 26.8,
                    "humidity": 72.29,
                    "pressure": 1009.2,
                    "temperature": 32.43,
                    "timestamp": "2024-09-30T06:56:01",
                    "volt": 4.12
                  },
                  {
                    "dew": 26.89,
                    "humidity": 73.19,
                    "pressure": 1009.17,
                    "temperature": 32.31,
                    "timestamp": "2024-09-30T06:57:01",
                    "volt": 4.11
                  },
                  {
                    "dew": 26.93,
                    "humidity": 73.67,
                    "pressure": 1009.16,
                    "temperature": 32.23,
                    "timestamp": "2024-09-30T06:58:01",
                    "volt": 4.11
                  },
                  {
                    "dew": 26.95,
                    "humidity": 74.07,
                    "pressure": 1009.3,
                    "temperature": 32.16,
                    "timestamp": "2024-09-30T06:59:01",
                    "volt": 4.12
                  },
                  {
                    "dew": 27.08,
                    "humidity": 74.3,
                    "pressure": 1009.19,
                    "temperature": 32.24,
                    "timestamp": "2024-09-30T07:00:01",
                    "volt": 4.11
                  },
                  {
                    "dew": 26.93,
                    "humidity": 73.93,
                    "pressure": 1009.18,
                    "temperature": 32.17,
                    "timestamp": "2024-09-30T07:01:01",
                    "volt": 4.11
                  },
                  {
                    "dew": 26.98,
                    "humidity": 73.89,
                    "pressure": 1009.17,
                    "temperature": 32.23,
                    "timestamp": "2024-09-30T07:02:01",
                    "volt": 4.12
                  },
                  {
                    "dew": 27.08,
                    "humidity": 73.95,
                    "pressure": 1009.23,
                    "temperature": 32.32,
                    "timestamp": "2024-09-30T07:03:01",
                    "volt": 4.11
                  },
                  {
                    "dew": 27.05,
                    "humidity": 73.81,
                    "pressure": 1009.18,
                    "temperature": 32.32,
                    "timestamp": "2024-09-30T07:04:01",
                    "volt": 4.12
                  },
                  {
                    "dew": 27.05,
                    "humidity": 74.08,
                    "pressure": 1009.15,
                    "temperature": 32.26,
                    "timestamp": "2024-09-30T07:05:01",
                    "volt": 4.11
                  },
                  {
                    "dew": 27.04,
                    "humidity": 74.1,
                    "pressure": 1009.19,
                    "temperature": 32.24,
                    "timestamp": "2024-09-30T07:06:01",
                    "volt": 4.11
                  },
                  {
                    "dew": 26.98,
                    "humidity": 74.28,
                    "pressure": 1009.25,
                    "temperature": 32.14,
                    "timestamp": "2024-09-30T07:07:01",
                    "volt": 4.12
                  },
                  {
                    "dew": 26.95,
                    "humidity": 74.79,
                    "pressure": 1009.24,
                    "temperature": 31.99,
                    "timestamp": "2024-09-30T07:08:02",
                    "volt": 4.12
                  },
                  {
                    "dew": 26.76,
                    "humidity": 74.83,
                    "pressure": 1009.26,
                    "temperature": 31.78,
                    "timestamp": "2024-09-30T07:09:01",
                    "volt": 4.12
                  },
                  {
                    "dew": 26.82,
                    "humidity": 75.3,
                    "pressure": 1009.33,
                    "temperature": 31.73,
                    "timestamp": "2024-09-30T07:10:01",
                    "volt": 4.12
                  },
                  {
                    "dew": 26.67,
                    "humidity": 75.17,
                    "pressure": 1009.34,
                    "temperature": 31.61,
                    "timestamp": "2024-09-30T07:11:01",
                    "volt": 4.11
                  },
                  {
                    "dew": 26.76,
                    "humidity": 75.82,
                    "pressure": 1009.33,
                    "temperature": 31.55,
                    "timestamp": "2024-09-30T07:12:01",
                    "volt": 4.11
                  },
                  {
                    "dew": 26.69,
                    "humidity": 75.75,
                    "pressure": 1009.31,
                    "temperature": 31.49,
                    "timestamp": "2024-09-30T07:13:01",
                    "volt": 4.11
                  },
                  {
                    "dew": 26.72,
                    "humidity": 76.37,
                    "pressure": 1009.3,
                    "temperature": 31.38,
                    "timestamp": "2024-09-30T07:14:01",
                    "volt": 4.12
                  },
                  {
                    "dew": 26.79,
                    "humidity": 76.54,
                    "pressure": 1009.28,
                    "temperature": 31.41,
                    "timestamp": "2024-09-30T07:15:01",
                    "volt": 4.12
                  },
                  {
                    "dew": 26.7,
                    "humidity": 76.41,
                    "pressure": 1009.32,
                    "temperature": 31.35,
                    "timestamp": "2024-09-30T07:16:01",
                    "volt": 4.12
                  },
                  {
                    "dew": 26.7,
                    "humidity": 76.6,
                    "pressure": 1009.29,
                    "temperature": 31.31,
                    "timestamp": "2024-09-30T07:17:01",
                    "volt": 4.11
                  },
                  {
                    "dew": 26.78,
                    "humidity": 76.78,
                    "pressure": 1009.28,
                    "temperature": 31.35,
                    "timestamp": "2024-09-30T07:18:01",
                    "volt": 4.11
                  },
                  {
                    "dew": 26.81,
                    "humidity": 77.03,
                    "pressure": 1009.29,
                    "temperature": 31.32,
                    "timestamp": "2024-09-30T07:19:01",
                    "volt": 4.12
                  },
                  {
                    "dew": 26.86,
                    "humidity": 76.85,
                    "pressure": 1009.26,
                    "temperature": 31.41,
                    "timestamp": "2024-09-30T07:20:01",
                    "volt": 4.11
                  },
                  {
                    "dew": 26.88,
                    "humidity": 76.73,
                    "pressure": 1009.28,
                    "temperature": 31.46,
                    "timestamp": "2024-09-30T07:21:01",
                    "volt": 4.11
                  },
                  {
                    "dew": 26.85,
                    "humidity": 76.62,
                    "pressure": 1009.28,
                    "temperature": 31.46,
                    "timestamp": "2024-09-30T07:22:01",
                    "volt": 4.12
                  },
                  {
                    "dew": 26.91,
                    "humidity": 76.95,
                    "pressure": 1009.32,
                    "temperature": 31.44,
                    "timestamp": "2024-09-30T07:23:01",
                    "volt": 4.11
                  },
                  {
                    "dew": 26.84,
                    "humidity": 77.05,
                    "pressure": 1009.39,
                    "temperature": 31.35,
                    "timestamp": "2024-09-30T07:24:01",
                    "volt": 4.12
                  },
                  {
                    "dew": 26.79,
                    "humidity": 76.63,
                    "pressure": 1009.33,
                    "temperature": 31.39,
                    "timestamp": "2024-09-30T07:25:01",
                    "volt": 4.11
                  },
                  {
                    "dew": 26.56,
                    "humidity": 76.35,
                    "pressure": 1009.35,
                    "temperature": 31.22,
                    "timestamp": "2024-09-30T07:26:01",
                    "volt": 4.14
                  },
                  {
                    "dew": 26.63,
                    "humidity": 76.67,
                    "pressure": 1009.39,
                    "temperature": 31.22,
                    "timestamp": "2024-09-30T07:27:01",
                    "volt": 4.12
                  },
                  {
                    "dew": 26.67,
                    "humidity": 77.13,
                    "pressure": 1009.33,
                    "temperature": 31.15,
                    "timestamp": "2024-09-30T07:28:01",
                    "volt": 4.12
                  },
                  {
                    "dew": 26.44,
                    "humidity": 77.27,
                    "pressure": 1009.33,
                    "temperature": 30.88,
                    "timestamp": "2024-09-30T07:29:01",
                    "volt": 4.12
                  },
                  {
                    "dew": 26.52,
                    "humidity": 77.99,
                    "pressure": 1009.27,
                    "temperature": 30.8,
                    "timestamp": "2024-09-30T07:30:02",
                    "volt": 4.12
                  },
                  {
                    "dew": 26.58,
                    "humidity": 78.41,
                    "pressure": 1009.22,
                    "temperature": 30.77,
                    "timestamp": "2024-09-30T07:31:01",
                    "volt": 4.1
                  },
                  {
                    "dew": 26.53,
                    "humidity": 78.57,
                    "pressure": 1009.16,
                    "temperature": 30.68,
                    "timestamp": "2024-09-30T07:32:01",
                    "volt": 4.14
                  },
                  {
                    "dew": 26.61,
                    "humidity": 78.94,
                    "pressure": 1009.25,
                    "temperature": 30.68,
                    "timestamp": "2024-09-30T07:33:01",
                    "volt": 4.12
                  },
                  {
                    "dew": 26.53,
                    "humidity": 78.85,
                    "pressure": 1009.18,
                    "temperature": 30.62,
                    "timestamp": "2024-09-30T07:34:02",
                    "volt": 4.11
                  },
                  {
                    "dew": 26.51,
                    "humidity": 78.98,
                    "pressure": 1009.15,
                    "temperature": 30.57,
                    "timestamp": "2024-09-30T07:35:01",
                    "volt": 4.12
                  },
                  {
                    "dew": 26.49,
                    "humidity": 79.33,
                    "pressure": 1009.12,
                    "temperature": 30.47,
                    "timestamp": "2024-09-30T07:36:01",
                    "volt": 4.12
                  },
                  {
                    "dew": 26.43,
                    "humidity": 79.24,
                    "pressure": 1009.15,
                    "temperature": 30.43,
                    "timestamp": "2024-09-30T07:37:01",
                    "volt": 4.12
                  },
                  {
                    "dew": 26.45,
                    "humidity": 79.54,
                    "pressure": 1009.06,
                    "temperature": 30.39,
                    "timestamp": "2024-09-30T07:38:02",
                    "volt": 4.12
                  },
                  {
                    "dew": 26.4,
                    "humidity": 79.34,
                    "pressure": 1009.08,
                    "temperature": 30.38,
                    "timestamp": "2024-09-30T07:39:01",
                    "volt": 4.11
                  },
                  {
                    "dew": 26.52,
                    "humidity": 79.61,
                    "pressure": 1009.09,
                    "temperature": 30.44,
                    "timestamp": "2024-09-30T07:40:02",
                    "volt": 4.12
                  },
                  {
                    "dew": 26.42,
                    "humidity": 79.07,
                    "pressure": 1009.01,
                    "temperature": 30.46,
                    "timestamp": "2024-09-30T07:41:01",
                    "volt": 4.12
                  },
                  {
                    "dew": 26.48,
                    "humidity": 79.19,
                    "pressure": 1009,
                    "temperature": 30.5,
                    "timestamp": "2024-09-30T07:42:02",
                    "volt": 4.12
                  },
                  {
                    "dew": 26.45,
                    "humidity": 79.18,
                    "pressure": 1008.91,
                    "temperature": 30.47,
                    "timestamp": "2024-09-30T07:43:01",
                    "volt": 4.12
                  },
                  {
                    "dew": 26.59,
                    "humidity": 79.45,
                    "pressure": 1008.93,
                    "temperature": 30.55,
                    "timestamp": "2024-09-30T07:44:01",
                    "volt": 4.12
                  },
                  {
                    "dew": 26.47,
                    "humidity": 78.89,
                    "pressure": 1008.91,
                    "temperature": 30.55,
                    "timestamp": "2024-09-30T07:45:02",
                    "volt": 4.12
                  },
                  {
                    "dew": 26.53,
                    "humidity": 79.03,
                    "pressure": 1008.89,
                    "temperature": 30.58,
                    "timestamp": "2024-09-30T07:46:02",
                    "volt": 4.1
                  },
                  {
                    "dew": 26.54,
                    "humidity": 78.84,
                    "pressure": 1008.83,
                    "temperature": 30.63,
                    "timestamp": "2024-09-30T07:47:02",
                    "volt": 4.11
                  },
                  {
                    "dew": 26.57,
                    "humidity": 78.77,
                    "pressure": 1008.86,
                    "temperature": 30.68,
                    "timestamp": "2024-09-30T07:48:02",
                    "volt": 4.12
                  },
                  {
                    "dew": 26.63,
                    "humidity": 78.97,
                    "pressure": 1008.89,
                    "temperature": 30.7,
                    "timestamp": "2024-09-30T07:49:01",
                    "volt": 4.11
                  },
                  {
                    "dew": 26.62,
                    "humidity": 78.65,
                    "pressure": 1008.91,
                    "temperature": 30.76,
                    "timestamp": "2024-09-30T07:50:02",
                    "volt": 4.12
                  },
                  {
                    "dew": 26.7,
                    "humidity": 78.74,
                    "pressure": 1008.85,
                    "temperature": 30.82,
                    "timestamp": "2024-09-30T07:51:02",
                    "volt": 4.11
                  },
                  {
                    "dew": 26.78,
                    "humidity": 78.86,
                    "pressure": 1008.9,
                    "temperature": 30.88,
                    "timestamp": "2024-09-30T07:52:02",
                    "volt": 4.12
                  },
                  {
                    "dew": 26.55,
                    "humidity": 77.81,
                    "pressure": 1008.84,
                    "temperature": 30.88,
                    "timestamp": "2024-09-30T07:53:02",
                    "volt": 4.12
                  },
                  {
                    "dew": 26.69,
                    "humidity": 78.41,
                    "pressure": 1008.87,
                    "temperature": 30.89,
                    "timestamp": "2024-09-30T07:54:02",
                    "volt": 4.12
                  },
                  {
                    "dew": 26.68,
                    "humidity": 78.28,
                    "pressure": 1008.87,
                    "temperature": 30.9,
                    "timestamp": "2024-09-30T07:55:01",
                    "volt": 4.11
                  },
                  {
                    "dew": 26.73,
                    "humidity": 78.21,
                    "pressure": 1008.88,
                    "temperature": 30.97,
                    "timestamp": "2024-09-30T07:56:02",
                    "volt": 4.12
                  },
                  {
                    "dew": 26.66,
                    "humidity": 77.83,
                    "pressure": 1008.77,
                    "temperature": 30.98,
                    "timestamp": "2024-09-30T07:57:02",
                    "volt": 4.11
                  },
                  {
                    "dew": 26.72,
                    "humidity": 77.81,
                    "pressure": 1008.85,
                    "temperature": 31.05,
                    "timestamp": "2024-09-30T07:58:02",
                    "volt": 4.12
                  },
                  {
                    "dew": 26.74,
                    "humidity": 77.58,
                    "pressure": 1008.83,
                    "temperature": 31.12,
                    "timestamp": "2024-09-30T07:59:02",
                    "volt": 4.12
                  },
                  {
                    "dew": 26.65,
                    "humidity": 77.46,
                    "pressure": 1008.73,
                    "temperature": 31.06,
                    "timestamp": "2024-09-30T08:00:02",
                    "volt": 4.12
                  },
                  {
                    "dew": 26.76,
                    "humidity": 77.79,
                    "pressure": 1008.76,
                    "temperature": 31.1,
                    "timestamp": "2024-09-30T08:01:02",
                    "volt": 4.11
                  },
                  {
                    "dew": 26.77,
                    "humidity": 77.54,
                    "pressure": 1008.69,
                    "temperature": 31.16,
                    "timestamp": "2024-09-30T08:02:02",
                    "volt": 4.12
                  },
                  {
                    "dew": 26.85,
                    "humidity": 77.72,
                    "pressure": 1008.72,
                    "temperature": 31.21,
                    "timestamp": "2024-09-30T08:03:02",
                    "volt": 4.11
                  },
                  {
                    "dew": 26.83,
                    "humidity": 77.65,
                    "pressure": 1008.69,
                    "temperature": 31.2,
                    "timestamp": "2024-09-30T08:04:03",
                    "volt": 4.12
                  },
                  {
                    "dew": 26.66,
                    "humidity": 77.35,
                    "pressure": 1008.71,
                    "temperature": 31.09,
                    "timestamp": "2024-09-30T08:05:02",
                    "volt": 4.11
                  },
                  {
                    "dew": 26.57,
                    "humidity": 77.6,
                    "pressure": 1008.64,
                    "temperature": 30.94,
                    "timestamp": "2024-09-30T08:06:02",
                    "volt": 4.13
                  },
                  {
                    "dew": 26.64,
                    "humidity": 77.93,
                    "pressure": 1008.66,
                    "temperature": 30.94,
                    "timestamp": "2024-09-30T08:07:02",
                    "volt": 4.12
                  },
                  {
                    "dew": 26.65,
                    "humidity": 78.23,
                    "pressure": 1008.72,
                    "temperature": 30.88,
                    "timestamp": "2024-09-30T08:08:02",
                    "volt": 4.12
                  },
                  {
                    "dew": 26.62,
                    "humidity": 78.32,
                    "pressure": 1008.77,
                    "temperature": 30.83,
                    "timestamp": "2024-09-30T08:09:02",
                    "volt": 4.12
                  },
                  {
                    "dew": 26.61,
                    "humidity": 78.32,
                    "pressure": 1008.75,
                    "temperature": 30.82,
                    "timestamp": "2024-09-30T08:10:02",
                    "volt": 4.13
                  },
                  {
                    "dew": 26.62,
                    "humidity": 78.36,
                    "pressure": 1008.73,
                    "temperature": 30.82,
                    "timestamp": "2024-09-30T08:11:02",
                    "volt": 4.12
                  },
                  {
                    "dew": 26.61,
                    "humidity": 78.43,
                    "pressure": 1008.7,
                    "temperature": 30.8,
                    "timestamp": "2024-09-30T08:12:02",
                    "volt": 4.12
                  },
                  {
                    "dew": 26.66,
                    "humidity": 78.56,
                    "pressure": 1008.74,
                    "temperature": 30.82,
                    "timestamp": "2024-09-30T08:13:02",
                    "volt": 4.11
                  },
                  {
                    "dew": 26.63,
                    "humidity": 78.58,
                    "pressure": 1008.73,
                    "temperature": 30.79,
                    "timestamp": "2024-09-30T08:14:02",
                    "volt": 4.11
                  },
                  {
                    "dew": 26.63,
                    "humidity": 78.85,
                    "pressure": 1008.66,
                    "temperature": 30.73,
                    "timestamp": "2024-09-30T08:15:02",
                    "volt": 4.11
                  },
                  {
                    "dew": 26.65,
                    "humidity": 79,
                    "pressure": 1008.68,
                    "temperature": 30.71,
                    "timestamp": "2024-09-30T08:16:02",
                    "volt": 4.11
                  },
                  {
                    "dew": 26.72,
                    "humidity": 79.19,
                    "pressure": 1008.64,
                    "temperature": 30.74,
                    "timestamp": "2024-09-30T08:17:02",
                    "volt": 4.12
                  },
                  {
                    "dew": 26.69,
                    "humidity": 79.06,
                    "pressure": 1008.61,
                    "temperature": 30.74,
                    "timestamp": "2024-09-30T08:18:02",
                    "volt": 4.11
                  },
                  {
                    "dew": 26.6,
                    "humidity": 78.62,
                    "pressure": 1008.65,
                    "temperature": 30.75,
                    "timestamp": "2024-09-30T08:19:02",
                    "volt": 4.1
                  },
                  {
                    "dew": 26.6,
                    "humidity": 78.61,
                    "pressure": 1008.65,
                    "temperature": 30.75,
                    "timestamp": "2024-09-30T08:20:02",
                    "volt": 4.1
                  },
                  {
                    "dew": 26.56,
                    "humidity": 78.81,
                    "pressure": 1008.63,
                    "temperature": 30.66,
                    "timestamp": "2024-09-30T08:21:02",
                    "volt": 4.11
                  },
                  {
                    "dew": 26.59,
                    "humidity": 78.97,
                    "pressure": 1008.64,
                    "temperature": 30.66,
                    "timestamp": "2024-09-30T08:22:02",
                    "volt": 4.13
                  },
                  {
                    "dew": 26.48,
                    "humidity": 78.97,
                    "pressure": 1008.65,
                    "temperature": 30.54,
                    "timestamp": "2024-09-30T08:23:02",
                    "volt": 4.12
                  },
                  {
                    "dew": 26.5,
                    "humidity": 79.09,
                    "pressure": 1008.66,
                    "temperature": 30.54,
                    "timestamp": "2024-09-30T08:24:02",
                    "volt": 4.1
                  },
                  {
                    "dew": 26.49,
                    "humidity": 79.18,
                    "pressure": 1008.64,
                    "temperature": 30.51,
                    "timestamp": "2024-09-30T08:25:02",
                    "volt": 4.12
                  },
                  {
                    "dew": 26.53,
                    "humidity": 79.62,
                    "pressure": 1008.7,
                    "temperature": 30.45,
                    "timestamp": "2024-09-30T08:26:02",
                    "volt": 4.12
                  },
                  {
                    "dew": 26.51,
                    "humidity": 79.78,
                    "pressure": 1008.76,
                    "temperature": 30.4,
                    "timestamp": "2024-09-30T08:27:02",
                    "volt": 4.1
                  },
                  {
                    "dew": 26.46,
                    "humidity": 79.93,
                    "pressure": 1008.68,
                    "temperature": 30.31,
                    "timestamp": "2024-09-30T08:28:02",
                    "volt": 4.11
                  },
                  {
                    "dew": 26.48,
                    "humidity": 80.2,
                    "pressure": 1008.78,
                    "temperature": 30.27,
                    "timestamp": "2024-09-30T08:29:02",
                    "volt": 4.11
                  },
                  {
                    "dew": 26.47,
                    "humidity": 80.32,
                    "pressure": 1008.82,
                    "temperature": 30.24,
                    "timestamp": "2024-09-30T08:30:02",
                    "volt": 4.11
                  },
                  {
                    "dew": 26.39,
                    "humidity": 80.23,
                    "pressure": 1008.84,
                    "temperature": 30.18,
                    "timestamp": "2024-09-30T08:31:02",
                    "volt": 4.11
                  },
                  {
                    "dew": 26.39,
                    "humidity": 80.37,
                    "pressure": 1008.83,
                    "temperature": 30.15,
                    "timestamp": "2024-09-30T08:32:02",
                    "volt": 4.12
                  },
                  {
                    "dew": 26.42,
                    "humidity": 80.67,
                    "pressure": 1008.84,
                    "temperature": 30.11,
                    "timestamp": "2024-09-30T08:33:02",
                    "volt": 4.1
                  },
                  {
                    "dew": 26.42,
                    "humidity": 80.72,
                    "pressure": 1008.86,
                    "temperature": 30.1,
                    "timestamp": "2024-09-30T08:34:02",
                    "volt": 4.12
                  },
                  {
                    "dew": 26.46,
                    "humidity": 80.94,
                    "pressure": 1008.86,
                    "temperature": 30.09,
                    "timestamp": "2024-09-30T08:35:02",
                    "volt": 4.12
                  },
                  {
                    "dew": 26.43,
                    "humidity": 80.74,
                    "pressure": 1008.88,
                    "temperature": 30.11,
                    "timestamp": "2024-09-30T08:36:02",
                    "volt": 4.13
                  },
                  {
                    "dew": 26.48,
                    "humidity": 80.86,
                    "pressure": 1008.93,
                    "temperature": 30.13,
                    "timestamp": "2024-09-30T08:37:02",
                    "volt": 4.1
                  },
                  {
                    "dew": 26.42,
                    "humidity": 80.73,
                    "pressure": 1008.89,
                    "temperature": 30.1,
                    "timestamp": "2024-09-30T08:38:02",
                    "volt": 4.11
                  },
                  {
                    "dew": 26.45,
                    "humidity": 80.86,
                    "pressure": 1008.9,
                    "temperature": 30.1,
                    "timestamp": "2024-09-30T08:39:02",
                    "volt": 4.13
                  },
                  {
                    "dew": 26.44,
                    "humidity": 80.92,
                    "pressure": 1008.97,
                    "temperature": 30.08,
                    "timestamp": "2024-09-30T08:40:02",
                    "volt": 4.12
                  },
                  {
                    "dew": 26.56,
                    "humidity": 81.37,
                    "pressure": 1008.97,
                    "temperature": 30.1,
                    "timestamp": "2024-09-30T08:41:02",
                    "volt": 4.09
                  },
                  {
                    "dew": 26.45,
                    "humidity": 80.94,
                    "pressure": 1009,
                    "temperature": 30.08,
                    "timestamp": "2024-09-30T08:42:02",
                    "volt": 4.11
                  },
                  {
                    "dew": 26.49,
                    "humidity": 80.96,
                    "pressure": 1008.98,
                    "temperature": 30.12,
                    "timestamp": "2024-09-30T08:43:02",
                    "volt": 4.1
                  },
                  {
                    "dew": 26.51,
                    "humidity": 81.03,
                    "pressure": 1008.99,
                    "temperature": 30.13,
                    "timestamp": "2024-09-30T08:44:02",
                    "volt": 4.12
                  },
                  {
                    "dew": 26.45,
                    "humidity": 80.96,
                    "pressure": 1008.99,
                    "temperature": 30.08,
                    "timestamp": "2024-09-30T08:45:02",
                    "volt": 4.1
                  },
                  {
                    "dew": 26.45,
                    "humidity": 80.94,
                    "pressure": 1009.04,
                    "temperature": 30.08,
                    "timestamp": "2024-09-30T08:46:02",
                    "volt": 4.1
                  },
                  {
                    "dew": 26.45,
                    "humidity": 81,
                    "pressure": 1009.06,
                    "temperature": 30.07,
                    "timestamp": "2024-09-30T08:47:02",
                    "volt": 4.11
                  },
                  {
                    "dew": 26.42,
                    "humidity": 81.4,
                    "pressure": 1009.08,
                    "temperature": 29.95,
                    "timestamp": "2024-09-30T08:50:05",
                    "volt": 4.09
                  },
                  {
                    "dew": 26.41,
                    "humidity": 81.54,
                    "pressure": 1009.09,
                    "temperature": 29.91,
                    "timestamp": "2024-09-30T08:51:02",
                    "volt": 4.11
                  },
                  {
                    "dew": 26.43,
                    "humidity": 81.62,
                    "pressure": 1009.09,
                    "temperature": 29.92,
                    "timestamp": "2024-09-30T08:52:02",
                    "volt": 4.11
                  },
                  {
                    "dew": 26.48,
                    "humidity": 81.81,
                    "pressure": 1009.09,
                    "temperature": 29.93,
                    "timestamp": "2024-09-30T08:53:02",
                    "volt": 4.1
                  },
                  {
                    "dew": 26.39,
                    "humidity": 81.57,
                    "pressure": 1009.08,
                    "temperature": 29.89,
                    "timestamp": "2024-09-30T08:54:03",
                    "volt": 4.1
                  },
                  {
                    "dew": 26.42,
                    "humidity": 81.55,
                    "pressure": 1009.06,
                    "temperature": 29.92,
                    "timestamp": "2024-09-30T08:55:02",
                    "volt": 4.11
                  },
                  {
                    "dew": 26.45,
                    "humidity": 81.71,
                    "pressure": 1009.13,
                    "temperature": 29.92,
                    "timestamp": "2024-09-30T08:56:02",
                    "volt": 4.08
                  },
                  {
                    "dew": 26.45,
                    "humidity": 81.72,
                    "pressure": 1009.11,
                    "temperature": 29.92,
                    "timestamp": "2024-09-30T08:57:02",
                    "volt": 4.12
                  },
                  {
                    "dew": 26.31,
                    "humidity": 81.3,
                    "pressure": 1009.15,
                    "temperature": 29.86,
                    "timestamp": "2024-09-30T08:58:02",
                    "volt": 4.13
                  },
                  {
                    "dew": 26.25,
                    "humidity": 81.16,
                    "pressure": 1009.12,
                    "temperature": 29.83,
                    "timestamp": "2024-09-30T08:59:02",
                    "volt": 4.11
                  },
                  {
                    "dew": 26.25,
                    "humidity": 81.44,
                    "pressure": 1009.12,
                    "temperature": 29.77,
                    "timestamp": "2024-09-30T09:00:03",
                    "volt": 4.12
                  },
                  {
                    "dew": 26.27,
                    "humidity": 81.92,
                    "pressure": 1009.09,
                    "temperature": 29.69,
                    "timestamp": "2024-09-30T09:01:02",
                    "volt": 4.11
                  },
                  {
                    "dew": 26.27,
                    "humidity": 82.03,
                    "pressure": 1009.12,
                    "temperature": 29.67,
                    "timestamp": "2024-09-30T09:02:02",
                    "volt": 4.12
                  },
                  {
                    "dew": 26.3,
                    "humidity": 82.19,
                    "pressure": 1009.11,
                    "temperature": 29.66,
                    "timestamp": "2024-09-30T09:03:02",
                    "volt": 4.11
                  },
                  {
                    "dew": 26.35,
                    "humidity": 82.39,
                    "pressure": 1009.13,
                    "temperature": 29.67,
                    "timestamp": "2024-09-30T09:04:05",
                    "volt": 4.12
                  },
                  {
                    "dew": 26.37,
                    "humidity": 82.56,
                    "pressure": 1009.06,
                    "temperature": 29.66,
                    "timestamp": "2024-09-30T09:05:02",
                    "volt": 4.12
                  },
                  {
                    "dew": 26.34,
                    "humidity": 82.37,
                    "pressure": 1009.1,
                    "temperature": 29.67,
                    "timestamp": "2024-09-30T09:06:02",
                    "volt": 4.09
                  },
                  {
                    "dew": 26.31,
                    "humidity": 82.19,
                    "pressure": 1009.13,
                    "temperature": 29.67,
                    "timestamp": "2024-09-30T09:07:02",
                    "volt": 4.1
                  },
                  {
                    "dew": 26.17,
                    "humidity": 81.73,
                    "pressure": 1009.1,
                    "temperature": 29.63,
                    "timestamp": "2024-09-30T09:08:02",
                    "volt": 4.12
                  },
                  {
                    "dew": 26.1,
                    "humidity": 81.5,
                    "pressure": 1009.03,
                    "temperature": 29.6,
                    "timestamp": "2024-09-30T09:09:02",
                    "volt": 4.12
                  },
                  {
                    "dew": 26.08,
                    "humidity": 81.61,
                    "pressure": 1009.09,
                    "temperature": 29.56,
                    "timestamp": "2024-09-30T09:10:02",
                    "volt": 4.11
                  },
                  {
                    "dew": 26.07,
                    "humidity": 81.61,
                    "pressure": 1009.09,
                    "temperature": 29.55,
                    "timestamp": "2024-09-30T09:11:02",
                    "volt": 4.12
                  },
                  {
                    "dew": 26.05,
                    "humidity": 81.6,
                    "pressure": 1009.09,
                    "temperature": 29.53,
                    "timestamp": "2024-09-30T09:12:02",
                    "volt": 4.11
                  },
                  {
                    "dew": 26.05,
                    "humidity": 81.6,
                    "pressure": 1009.12,
                    "temperature": 29.53,
                    "timestamp": "2024-09-30T09:13:02",
                    "volt": 4.09
                  },
                  {
                    "dew": 25.96,
                    "humidity": 81.32,
                    "pressure": 1009.15,
                    "temperature": 29.5,
                    "timestamp": "2024-09-30T09:14:02",
                    "volt": 4.1
                  },
                  {
                    "dew": 25.94,
                    "humidity": 81.62,
                    "pressure": 1009.11,
                    "temperature": 29.41,
                    "timestamp": "2024-09-30T09:15:02",
                    "volt": 4.11
                  },
                  {
                    "dew": 25.89,
                    "humidity": 81.73,
                    "pressure": 1009.12,
                    "temperature": 29.34,
                    "timestamp": "2024-09-30T09:16:02",
                    "volt": 4.1
                  },
                  {
                    "dew": 26.01,
                    "humidity": 82.2,
                    "pressure": 1009.13,
                    "temperature": 29.36,
                    "timestamp": "2024-09-30T09:17:02",
                    "volt": 4.11
                  },
                  {
                    "dew": 25.93,
                    "humidity": 81.62,
                    "pressure": 1009.1,
                    "temperature": 29.4,
                    "timestamp": "2024-09-30T09:18:02",
                    "volt": 4.11
                  },
                  {
                    "dew": 25.93,
                    "humidity": 81.66,
                    "pressure": 1009.09,
                    "temperature": 29.4,
                    "timestamp": "2024-09-30T09:19:02",
                    "volt": 4.11
                  },
                  {
                    "dew": 25.95,
                    "humidity": 81.67,
                    "pressure": 1009.12,
                    "temperature": 29.41,
                    "timestamp": "2024-09-30T09:20:02",
                    "volt": 4.1
                  },
                  {
                    "dew": 25.87,
                    "humidity": 81.26,
                    "pressure": 1009.15,
                    "temperature": 29.42,
                    "timestamp": "2024-09-30T09:21:02",
                    "volt": 4.13
                  },
                  {
                    "dew": 25.78,
                    "humidity": 80.94,
                    "pressure": 1009.17,
                    "temperature": 29.4,
                    "timestamp": "2024-09-30T09:22:02",
                    "volt": 4.09
                  },
                  {
                    "dew": 25.87,
                    "humidity": 81.31,
                    "pressure": 1009.25,
                    "temperature": 29.41,
                    "timestamp": "2024-09-30T09:23:02",
                    "volt": 4.11
                  },
                  {
                    "dew": 25.83,
                    "humidity": 81.25,
                    "pressure": 1009.25,
                    "temperature": 29.38,
                    "timestamp": "2024-09-30T09:24:02",
                    "volt": 4.12
                  },
                  {
                    "dew": 25.87,
                    "humidity": 81.24,
                    "pressure": 1009.28,
                    "temperature": 29.42,
                    "timestamp": "2024-09-30T09:25:02",
                    "volt": 4.1
                  },
                  {
                    "dew": 25.84,
                    "humidity": 81.14,
                    "pressure": 1009.36,
                    "temperature": 29.41,
                    "timestamp": "2024-09-30T09:26:02",
                    "volt": 4.1
                  },
                  {
                    "dew": 25.71,
                    "humidity": 80.81,
                    "pressure": 1009.3,
                    "temperature": 29.35,
                    "timestamp": "2024-09-30T09:27:02",
                    "volt": 4.11
                  },
                  {
                    "dew": 25.8,
                    "humidity": 81.1,
                    "pressure": 1009.34,
                    "temperature": 29.38,
                    "timestamp": "2024-09-30T09:28:02",
                    "volt": 4.08
                  },
                  {
                    "dew": 25.79,
                    "humidity": 81.03,
                    "pressure": 1009.29,
                    "temperature": 29.39,
                    "timestamp": "2024-09-30T09:29:02",
                    "volt": 4.07
                  },
                  {
                    "dew": 25.71,
                    "humidity": 80.91,
                    "pressure": 1009.24,
                    "temperature": 29.33,
                    "timestamp": "2024-09-30T09:30:02",
                    "volt": 4.11
                  },
                  {
                    "dew": 25.69,
                    "humidity": 80.96,
                    "pressure": 1009.27,
                    "temperature": 29.3,
                    "timestamp": "2024-09-30T09:31:02",
                    "volt": 4.1
                  },
                  {
                    "dew": 25.7,
                    "humidity": 81.22,
                    "pressure": 1009.33,
                    "temperature": 29.25,
                    "timestamp": "2024-09-30T09:32:02",
                    "volt": 4.08
                  },
                  {
                    "dew": 25.65,
                    "humidity": 81.09,
                    "pressure": 1009.3,
                    "temperature": 29.23,
                    "timestamp": "2024-09-30T09:33:02",
                    "volt": 4.12
                  },
                  {
                    "dew": 25.6,
                    "humidity": 81.02,
                    "pressure": 1009.31,
                    "temperature": 29.19,
                    "timestamp": "2024-09-30T09:34:02",
                    "volt": 4.09
                  },
                  {
                    "dew": 25.63,
                    "humidity": 81.11,
                    "pressure": 1009.32,
                    "temperature": 29.21,
                    "timestamp": "2024-09-30T09:35:02",
                    "volt": 4.09
                  },
                  {
                    "dew": 25.64,
                    "humidity": 81.19,
                    "pressure": 1009.36,
                    "temperature": 29.2,
                    "timestamp": "2024-09-30T09:36:02",
                    "volt": 4.12
                  },
                  {
                    "dew": 25.69,
                    "humidity": 81.41,
                    "pressure": 1009.36,
                    "temperature": 29.2,
                    "timestamp": "2024-09-30T09:37:02",
                    "volt": 4.11
                  },
                  {
                    "dew": 25.64,
                    "humidity": 81.31,
                    "pressure": 1009.34,
                    "temperature": 29.17,
                    "timestamp": "2024-09-30T09:38:02",
                    "volt": 4.06
                  },
                  {
                    "dew": 25.68,
                    "humidity": 81.53,
                    "pressure": 1009.36,
                    "temperature": 29.17,
                    "timestamp": "2024-09-30T09:40:29",
                    "volt": 4.1
                  },
                  {
                    "dew": 25.71,
                    "humidity": 81.64,
                    "pressure": 1009.33,
                    "temperature": 29.17,
                    "timestamp": "2024-09-30T09:41:02",
                    "volt": 4.1
                  },
                  {
                    "dew": 25.72,
                    "humidity": 81.66,
                    "pressure": 1009.33,
                    "temperature": 29.18,
                    "timestamp": "2024-09-30T09:42:02",
                    "volt": 4.1
                  },
                  {
                    "dew": 25.71,
                    "humidity": 81.74,
                    "pressure": 1009.38,
                    "temperature": 29.15,
                    "timestamp": "2024-09-30T09:43:02",
                    "volt": 4.1
                  },
                  {
                    "dew": 25.72,
                    "humidity": 81.9,
                    "pressure": 1009.42,
                    "temperature": 29.13,
                    "timestamp": "2024-09-30T09:44:02",
                    "volt": 4.09
                  },
                  {
                    "dew": 25.68,
                    "humidity": 81.82,
                    "pressure": 1009.45,
                    "temperature": 29.11,
                    "timestamp": "2024-09-30T09:45:02",
                    "volt": 4.11
                  },
                  {
                    "dew": 25.7,
                    "humidity": 81.82,
                    "pressure": 1009.48,
                    "temperature": 29.13,
                    "timestamp": "2024-09-30T09:46:02",
                    "volt": 4.13
                  },
                  {
                    "dew": 25.7,
                    "humidity": 81.89,
                    "pressure": 1009.49,
                    "temperature": 29.11,
                    "timestamp": "2024-09-30T09:47:02",
                    "volt": 4.13
                  },
                  {
                    "dew": 25.64,
                    "humidity": 81.96,
                    "pressure": 1009.56,
                    "temperature": 29.04,
                    "timestamp": "2024-09-30T09:48:02",
                    "volt": 4.11
                  },
                  {
                    "dew": 25.6,
                    "humidity": 82.05,
                    "pressure": 1009.57,
                    "temperature": 28.98,
                    "timestamp": "2024-09-30T09:49:02",
                    "volt": 4.09
                  },
                  {
                    "dew": 25.62,
                    "humidity": 82.38,
                    "pressure": 1009.55,
                    "temperature": 28.93,
                    "timestamp": "2024-09-30T09:50:03",
                    "volt": 4.12
                  },
                  {
                    "dew": 25.61,
                    "humidity": 82.59,
                    "pressure": 1009.57,
                    "temperature": 28.87,
                    "timestamp": "2024-09-30T09:51:02",
                    "volt": 4.12
                  },
                  {
                    "dew": 25.64,
                    "humidity": 82.85,
                    "pressure": 1009.57,
                    "temperature": 28.85,
                    "timestamp": "2024-09-30T09:52:02",
                    "volt": 4.1
                  },
                  {
                    "dew": 25.6,
                    "humidity": 82.8,
                    "pressure": 1009.57,
                    "temperature": 28.82,
                    "timestamp": "2024-09-30T09:53:02",
                    "volt": 4.11
                  },
                  {
                    "dew": 25.61,
                    "humidity": 82.88,
                    "pressure": 1009.62,
                    "temperature": 28.81,
                    "timestamp": "2024-09-30T09:54:02",
                    "volt": 4.08
                  },
                  {
                    "dew": 25.58,
                    "humidity": 82.92,
                    "pressure": 1009.64,
                    "temperature": 28.77,
                    "timestamp": "2024-09-30T09:55:02",
                    "volt": 4.11
                  },
                  {
                    "dew": 25.62,
                    "humidity": 83.13,
                    "pressure": 1009.66,
                    "temperature": 28.77,
                    "timestamp": "2024-09-30T09:56:03",
                    "volt": 4.08
                  },
                  {
                    "dew": 25.62,
                    "humidity": 83.21,
                    "pressure": 1009.67,
                    "temperature": 28.75,
                    "timestamp": "2024-09-30T09:57:02",
                    "volt": 4.1
                  },
                  {
                    "dew": 25.6,
                    "humidity": 83.18,
                    "pressure": 1009.66,
                    "temperature": 28.74,
                    "timestamp": "2024-09-30T09:58:02",
                    "volt": 4.09
                  },
                  {
                    "dew": 25.61,
                    "humidity": 83.26,
                    "pressure": 1009.65,
                    "temperature": 28.73,
                    "timestamp": "2024-09-30T09:59:02",
                    "volt": 4.12
                  },
                  {
                    "dew": 25.62,
                    "humidity": 83.24,
                    "pressure": 1009.69,
                    "temperature": 28.75,
                    "timestamp": "2024-09-30T10:00:02",
                    "volt": 4.08
                  },
                  {
                    "dew": 25.62,
                    "humidity": 83.26,
                    "pressure": 1009.74,
                    "temperature": 28.74,
                    "timestamp": "2024-09-30T10:01:03",
                    "volt": 4.05
                  },
                  {
                    "dew": 25.62,
                    "humidity": 83.33,
                    "pressure": 1009.79,
                    "temperature": 28.73,
                    "timestamp": "2024-09-30T10:02:02",
                    "volt": 4.13
                  },
                  {
                    "dew": 25.61,
                    "humidity": 83.4,
                    "pressure": 1009.8,
                    "temperature": 28.7,
                    "timestamp": "2024-09-30T10:03:02",
                    "volt": 4.11
                  },
                  {
                    "dew": 25.62,
                    "humidity": 83.49,
                    "pressure": 1009.76,
                    "temperature": 28.7,
                    "timestamp": "2024-09-30T10:04:02",
                    "volt": 4.07
                  },
                  {
                    "dew": 25.61,
                    "humidity": 83.57,
                    "pressure": 1009.76,
                    "temperature": 28.67,
                    "timestamp": "2024-09-30T10:05:02",
                    "volt": 4.1
                  },
                  {
                    "dew": 25.63,
                    "humidity": 83.71,
                    "pressure": 1009.77,
                    "temperature": 28.66,
                    "timestamp": "2024-09-30T10:06:02",
                    "volt": 4.08
                  },
                  {
                    "dew": 25.65,
                    "humidity": 83.62,
                    "pressure": 1009.78,
                    "temperature": 28.7,
                    "timestamp": "2024-09-30T10:07:02",
                    "volt": 4.11
                  },
                  {
                    "dew": 25.63,
                    "humidity": 83.66,
                    "pressure": 1009.8,
                    "temperature": 28.67,
                    "timestamp": "2024-09-30T10:08:02",
                    "volt": 4.1
                  },
                  {
                    "dew": 25.66,
                    "humidity": 83.84,
                    "pressure": 1009.85,
                    "temperature": 28.66,
                    "timestamp": "2024-09-30T10:09:02",
                    "volt": 4.12
                  },
                  {
                    "dew": 25.62,
                    "humidity": 83.85,
                    "pressure": 1009.85,
                    "temperature": 28.62,
                    "timestamp": "2024-09-30T10:10:02",
                    "volt": 4.06
                  },
                  {
                    "dew": 25.63,
                    "humidity": 83.84,
                    "pressure": 1009.81,
                    "temperature": 28.63,
                    "timestamp": "2024-09-30T10:11:02",
                    "volt": 4.11
                  },
                  {
                    "dew": 25.63,
                    "humidity": 83.88,
                    "pressure": 1009.78,
                    "temperature": 28.63,
                    "timestamp": "2024-09-30T10:12:03",
                    "volt": 4.06
                  },
                  {
                    "dew": 25.63,
                    "humidity": 83.9,
                    "pressure": 1009.75,
                    "temperature": 28.62,
                    "timestamp": "2024-09-30T10:13:02",
                    "volt": 4.09
                  },
                  {
                    "dew": 25.66,
                    "humidity": 83.9,
                    "pressure": 1009.74,
                    "temperature": 28.65,
                    "timestamp": "2024-09-30T10:14:02",
                    "volt": 4.09
                  },
                  {
                    "dew": 25.69,
                    "humidity": 84.04,
                    "pressure": 1009.73,
                    "temperature": 28.65,
                    "timestamp": "2024-09-30T10:15:02",
                    "volt": 4.09
                  },
                  {
                    "dew": 25.66,
                    "humidity": 84.2,
                    "pressure": 1009.76,
                    "temperature": 28.59,
                    "timestamp": "2024-09-30T10:16:02",
                    "volt": 4.12
                  },
                  {
                    "dew": 25.63,
                    "humidity": 84.11,
                    "pressure": 1009.79,
                    "temperature": 28.58,
                    "timestamp": "2024-09-30T10:17:02",
                    "volt": 4.08
                  },
                  {
                    "dew": 25.66,
                    "humidity": 84.18,
                    "pressure": 1009.82,
                    "temperature": 28.59,
                    "timestamp": "2024-09-30T10:18:02",
                    "volt": 4.06
                  },
                  {
                    "dew": 25.64,
                    "humidity": 84.11,
                    "pressure": 1009.87,
                    "temperature": 28.59,
                    "timestamp": "2024-09-30T10:19:02",
                    "volt": 4.06
                  },
                  {
                    "dew": 25.67,
                    "humidity": 84.32,
                    "pressure": 1009.99,
                    "temperature": 28.58,
                    "timestamp": "2024-09-30T10:20:02",
                    "volt": 4.05
                  },
                  {
                    "dew": 25.68,
                    "humidity": 84.3,
                    "pressure": 1010.05,
                    "temperature": 28.59,
                    "timestamp": "2024-09-30T10:21:02",
                    "volt": 4.06
                  },
                  {
                    "dew": 25.67,
                    "humidity": 84.41,
                    "pressure": 1010.03,
                    "temperature": 28.56,
                    "timestamp": "2024-09-30T10:22:02",
                    "volt": 4.05
                  },
                  {
                    "dew": 25.69,
                    "humidity": 84.5,
                    "pressure": 1010.09,
                    "temperature": 28.56,
                    "timestamp": "2024-09-30T10:23:03",
                    "volt": 4.06
                  },
                  {
                    "dew": 25.68,
                    "humidity": 84.5,
                    "pressure": 1010.09,
                    "temperature": 28.55,
                    "timestamp": "2024-09-30T10:24:03",
                    "volt": 4.06
                  },
                  {
                    "dew": 25.72,
                    "humidity": 84.6,
                    "pressure": 1010.1,
                    "temperature": 28.57,
                    "timestamp": "2024-09-30T10:25:02",
                    "volt": 4.08
                  },
                  {
                    "dew": 25.72,
                    "humidity": 84.67,
                    "pressure": 1010.05,
                    "temperature": 28.56,
                    "timestamp": "2024-09-30T10:26:03",
                    "volt": 4.06
                  },
                  {
                    "dew": 25.71,
                    "humidity": 84.75,
                    "pressure": 1010.07,
                    "temperature": 28.53,
                    "timestamp": "2024-09-30T10:27:02",
                    "volt": 4.09
                  },
                  {
                    "dew": 25.69,
                    "humidity": 84.78,
                    "pressure": 1010.11,
                    "temperature": 28.5,
                    "timestamp": "2024-09-30T10:28:03",
                    "volt": 4.05
                  },
                  {
                    "dew": 25.72,
                    "humidity": 84.83,
                    "pressure": 1010.11,
                    "temperature": 28.52,
                    "timestamp": "2024-09-30T10:29:02",
                    "volt": 4.08
                  },
                  {
                    "dew": 25.75,
                    "humidity": 84.94,
                    "pressure": 1010.16,
                    "temperature": 28.53,
                    "timestamp": "2024-09-30T10:30:02",
                    "volt": 4.05
                  },
                  {
                    "dew": 25.72,
                    "humidity": 84.91,
                    "pressure": 1010.15,
                    "temperature": 28.51,
                    "timestamp": "2024-09-30T10:31:03",
                    "volt": 4.06
                  },
                  {
                    "dew": 25.78,
                    "humidity": 85.07,
                    "pressure": 1010.17,
                    "temperature": 28.54,
                    "timestamp": "2024-09-30T10:32:03",
                    "volt": 4.05
                  },
                  {
                    "dew": 25.77,
                    "humidity": 85.03,
                    "pressure": 1010.18,
                    "temperature": 28.53,
                    "timestamp": "2024-09-30T10:33:03",
                    "volt": 4.06
                  },
                  {
                    "dew": 25.79,
                    "humidity": 85.15,
                    "pressure": 1010.16,
                    "temperature": 28.53,
                    "timestamp": "2024-09-30T10:34:03",
                    "volt": 4.06
                  },
                  {
                    "dew": 25.77,
                    "humidity": 85.17,
                    "pressure": 1010.2,
                    "temperature": 28.51,
                    "timestamp": "2024-09-30T10:35:03",
                    "volt": 4.06
                  },
                  {
                    "dew": 25.82,
                    "humidity": 85.26,
                    "pressure": 1010.25,
                    "temperature": 28.54,
                    "timestamp": "2024-09-30T10:36:03",
                    "volt": 4.06
                  },
                  {
                    "dew": 25.77,
                    "humidity": 85.21,
                    "pressure": 1010.23,
                    "temperature": 28.5,
                    "timestamp": "2024-09-30T10:37:03",
                    "volt": 4.05
                  },
                  {
                    "dew": 25.77,
                    "humidity": 85.21,
                    "pressure": 1010.26,
                    "temperature": 28.5,
                    "timestamp": "2024-09-30T10:38:03",
                    "volt": 4.06
                  },
                  {
                    "dew": 25.8,
                    "humidity": 85.39,
                    "pressure": 1010.29,
                    "temperature": 28.49,
                    "timestamp": "2024-09-30T10:39:03",
                    "volt": 4.06
                  },
                  {
                    "dew": 25.84,
                    "humidity": 85.68,
                    "pressure": 1010.32,
                    "temperature": 28.47,
                    "timestamp": "2024-09-30T10:40:03",
                    "volt": 4.06
                  },
                  {
                    "dew": 25.82,
                    "humidity": 85.69,
                    "pressure": 1010.34,
                    "temperature": 28.45,
                    "timestamp": "2024-09-30T10:41:03",
                    "volt": 4.05
                  },
                  {
                    "dew": 25.83,
                    "humidity": 85.83,
                    "pressure": 1010.37,
                    "temperature": 28.43,
                    "timestamp": "2024-09-30T10:42:03",
                    "volt": 4.05
                  },
                  {
                    "dew": 25.82,
                    "humidity": 85.85,
                    "pressure": 1010.35,
                    "temperature": 28.42,
                    "timestamp": "2024-09-30T10:43:03",
                    "volt": 4.05
                  },
                  {
                    "dew": 25.84,
                    "humidity": 85.93,
                    "pressure": 1010.36,
                    "temperature": 28.42,
                    "timestamp": "2024-09-30T10:44:03",
                    "volt": 4.05
                  },
                  {
                    "dew": 25.83,
                    "humidity": 85.89,
                    "pressure": 1010.37,
                    "temperature": 28.42,
                    "timestamp": "2024-09-30T10:45:04",
                    "volt": 4.06
                  },
                  {
                    "dew": 25.81,
                    "humidity": 85.96,
                    "pressure": 1010.44,
                    "temperature": 28.39,
                    "timestamp": "2024-09-30T10:46:03",
                    "volt": 4.05
                  },
                  {
                    "dew": 25.85,
                    "humidity": 86.02,
                    "pressure": 1010.45,
                    "temperature": 28.42,
                    "timestamp": "2024-09-30T10:47:03",
                    "volt": 4.05
                  },
                  {
                    "dew": 25.84,
                    "humidity": 86.01,
                    "pressure": 1010.48,
                    "temperature": 28.41,
                    "timestamp": "2024-09-30T10:48:03",
                    "volt": 4.06
                  },
                  {
                    "dew": 25.81,
                    "humidity": 86.02,
                    "pressure": 1010.5,
                    "temperature": 28.38,
                    "timestamp": "2024-09-30T10:49:03",
                    "volt": 4.05
                  },
                  {
                    "dew": 25.83,
                    "humidity": 86.05,
                    "pressure": 1010.54,
                    "temperature": 28.39,
                    "timestamp": "2024-09-30T10:50:03",
                    "volt": 4.06
                  },
                  {
                    "dew": 25.9,
                    "humidity": 86.18,
                    "pressure": 1010.57,
                    "temperature": 28.43,
                    "timestamp": "2024-09-30T10:51:03",
                    "volt": 4.06
                  },
                  {
                    "dew": 25.88,
                    "humidity": 86.19,
                    "pressure": 1010.58,
                    "temperature": 28.41,
                    "timestamp": "2024-09-30T10:52:04",
                    "volt": 4.05
                  },
                  {
                    "dew": 25.83,
                    "humidity": 86.28,
                    "pressure": 1010.62,
                    "temperature": 28.34,
                    "timestamp": "2024-09-30T10:53:03",
                    "volt": 4.05
                  },
                  {
                    "dew": 25.86,
                    "humidity": 86.36,
                    "pressure": 1010.62,
                    "temperature": 28.36,
                    "timestamp": "2024-09-30T10:54:03",
                    "volt": 4.06
                  },
                  {
                    "dew": 25.85,
                    "humidity": 86.51,
                    "pressure": 1010.61,
                    "temperature": 28.32,
                    "timestamp": "2024-09-30T10:55:03",
                    "volt": 4.06
                  },
                  {
                    "dew": 25.82,
                    "humidity": 86.54,
                    "pressure": 1010.67,
                    "temperature": 28.28,
                    "timestamp": "2024-09-30T10:56:03",
                    "volt": 4.05
                  },
                  {
                    "dew": 25.88,
                    "humidity": 86.71,
                    "pressure": 1010.68,
                    "temperature": 28.31,
                    "timestamp": "2024-09-30T10:57:03",
                    "volt": 4.05
                  },
                  {
                    "dew": 25.87,
                    "humidity": 86.73,
                    "pressure": 1010.64,
                    "temperature": 28.3,
                    "timestamp": "2024-09-30T10:58:03",
                    "volt": 4.05
                  },
                  {
                    "dew": 25.85,
                    "humidity": 86.65,
                    "pressure": 1010.74,
                    "temperature": 28.29,
                    "timestamp": "2024-09-30T10:59:03",
                    "volt": 4.05
                  },
                  {
                    "dew": 25.83,
                    "humidity": 86.64,
                    "pressure": 1010.77,
                    "temperature": 28.27,
                    "timestamp": "2024-09-30T11:00:03",
                    "volt": 4.05
                  },
                  {
                    "dew": 25.85,
                    "humidity": 86.69,
                    "pressure": 1010.82,
                    "temperature": 28.28,
                    "timestamp": "2024-09-30T11:01:03",
                    "volt": 4.06
                  },
                  {
                    "dew": 25.86,
                    "humidity": 86.68,
                    "pressure": 1010.9,
                    "temperature": 28.29,
                    "timestamp": "2024-09-30T11:02:03",
                    "volt": 4.05
                  },
                  {
                    "dew": 25.82,
                    "humidity": 86.78,
                    "pressure": 1010.9,
                    "temperature": 28.23,
                    "timestamp": "2024-09-30T11:03:03",
                    "volt": 4.05
                  },
                  {
                    "dew": 25.81,
                    "humidity": 86.75,
                    "pressure": 1010.89,
                    "temperature": 28.23,
                    "timestamp": "2024-09-30T11:04:03",
                    "volt": 4.05
                  },
                  {
                    "dew": 25.82,
                    "humidity": 86.79,
                    "pressure": 1011,
                    "temperature": 28.23,
                    "timestamp": "2024-09-30T11:05:03",
                    "volt": 4.06
                  },
                  {
                    "dew": 25.83,
                    "humidity": 86.8,
                    "pressure": 1011.01,
                    "temperature": 28.24,
                    "timestamp": "2024-09-30T11:06:03",
                    "volt": 4.06
                  },
                  {
                    "dew": 25.85,
                    "humidity": 86.9,
                    "pressure": 1011.02,
                    "temperature": 28.24,
                    "timestamp": "2024-09-30T11:07:03",
                    "volt": 4.06
                  },
                  {
                    "dew": 25.85,
                    "humidity": 86.88,
                    "pressure": 1011.04,
                    "temperature": 28.25,
                    "timestamp": "2024-09-30T11:08:03",
                    "volt": 4.05
                  },
                  {
                    "dew": 25.86,
                    "humidity": 86.95,
                    "pressure": 1011.05,
                    "temperature": 28.24,
                    "timestamp": "2024-09-30T11:09:03",
                    "volt": 4.05
                  },
                  {
                    "dew": 25.84,
                    "humidity": 86.98,
                    "pressure": 1011.03,
                    "temperature": 28.22,
                    "timestamp": "2024-09-30T11:10:03",
                    "volt": 4.05
                  },
                  {
                    "dew": 25.82,
                    "humidity": 86.96,
                    "pressure": 1011.05,
                    "temperature": 28.2,
                    "timestamp": "2024-09-30T11:11:03",
                    "volt": 4.05
                  },
                  {
                    "dew": 25.86,
                    "humidity": 86.99,
                    "pressure": 1011.15,
                    "temperature": 28.23,
                    "timestamp": "2024-09-30T11:12:03",
                    "volt": 4.05
                  },
                  {
                    "dew": 25.86,
                    "humidity": 87.14,
                    "pressure": 1011.16,
                    "temperature": 28.2,
                    "timestamp": "2024-09-30T11:13:03",
                    "volt": 4.05
                  },
                  {
                    "dew": 25.84,
                    "humidity": 87.23,
                    "pressure": 1011.1,
                    "temperature": 28.17,
                    "timestamp": "2024-09-30T11:14:03",
                    "volt": 4.06
                  },
                  {
                    "dew": 25.86,
                    "humidity": 87.24,
                    "pressure": 1011.15,
                    "temperature": 28.18,
                    "timestamp": "2024-09-30T11:15:03",
                    "volt": 4.06
                  },
                  {
                    "dew": 25.88,
                    "humidity": 87.25,
                    "pressure": 1011.2,
                    "temperature": 28.2,
                    "timestamp": "2024-09-30T11:16:03",
                    "volt": 4.05
                  },
                  {
                    "dew": 25.86,
                    "humidity": 87.24,
                    "pressure": 1011.17,
                    "temperature": 28.18,
                    "timestamp": "2024-09-30T11:17:03",
                    "volt": 4.05
                  },
                  {
                    "dew": 25.88,
                    "humidity": 87.22,
                    "pressure": 1011.24,
                    "temperature": 28.21,
                    "timestamp": "2024-09-30T11:18:03",
                    "volt": 4.06
                  },
                  {
                    "dew": 25.91,
                    "humidity": 87.26,
                    "pressure": 1011.22,
                    "temperature": 28.23,
                    "timestamp": "2024-09-30T11:19:03",
                    "volt": 4.05
                  },
                  {
                    "dew": 25.91,
                    "humidity": 87.2,
                    "pressure": 1011.3,
                    "temperature": 28.24,
                    "timestamp": "2024-09-30T11:20:03",
                    "volt": 4.05
                  },
                  {
                    "dew": 25.91,
                    "humidity": 87.28,
                    "pressure": 1011.2,
                    "temperature": 28.23,
                    "timestamp": "2024-09-30T11:21:03",
                    "volt": 4.05
                  },
                  {
                    "dew": 25.87,
                    "humidity": 87.21,
                    "pressure": 1011.25,
                    "temperature": 28.2,
                    "timestamp": "2024-09-30T11:22:03",
                    "volt": 4.05
                  },
                  {
                    "dew": 25.9,
                    "humidity": 87.22,
                    "pressure": 1011.26,
                    "temperature": 28.23,
                    "timestamp": "2024-09-30T11:23:03",
                    "volt": 4.05
                  },
                  {
                    "dew": 25.89,
                    "humidity": 87.31,
                    "pressure": 1011.27,
                    "temperature": 28.2,
                    "timestamp": "2024-09-30T11:24:03",
                    "volt": 4.05
                  },
                  {
                    "dew": 25.88,
                    "humidity": 87.25,
                    "pressure": 1011.28,
                    "temperature": 28.2,
                    "timestamp": "2024-09-30T11:25:03",
                    "volt": 4.06
                  },
                  {
                    "dew": 25.84,
                    "humidity": 87.26,
                    "pressure": 1011.26,
                    "temperature": 28.16,
                    "timestamp": "2024-09-30T11:27:03",
                    "volt": 4.05
                  },
                  {
                    "dew": 25.8,
                    "humidity": 87.15,
                    "pressure": 1011.23,
                    "temperature": 28.14,
                    "timestamp": "2024-09-30T11:28:03",
                    "volt": 4.05
                  },
                  {
                    "dew": 25.81,
                    "humidity": 87.12,
                    "pressure": 1011.22,
                    "temperature": 28.16,
                    "timestamp": "2024-09-30T11:29:03",
                    "volt": 4.05
                  },
                  {
                    "dew": 25.82,
                    "humidity": 87.13,
                    "pressure": 1011.27,
                    "temperature": 28.17,
                    "timestamp": "2024-09-30T11:30:03",
                    "volt": 4.05
                  },
                  {
                    "dew": 25.81,
                    "humidity": 87.17,
                    "pressure": 1011.26,
                    "temperature": 28.15,
                    "timestamp": "2024-09-30T11:31:03",
                    "volt": 4.05
                  },
                  {
                    "dew": 25.85,
                    "humidity": 87.27,
                    "pressure": 1011.22,
                    "temperature": 28.17,
                    "timestamp": "2024-09-30T11:32:03",
                    "volt": 4.05
                  },
                  {
                    "dew": 25.86,
                    "humidity": 87.28,
                    "pressure": 1011.25,
                    "temperature": 28.18,
                    "timestamp": "2024-09-30T11:33:03",
                    "volt": 4.05
                  },
                  {
                    "dew": 25.85,
                    "humidity": 87.32,
                    "pressure": 1011.23,
                    "temperature": 28.16,
                    "timestamp": "2024-09-30T11:34:03",
                    "volt": 4.05
                  },
                  {
                    "dew": 25.88,
                    "humidity": 87.4,
                    "pressure": 1011.24,
                    "temperature": 28.17,
                    "timestamp": "2024-09-30T11:35:03",
                    "volt": 4.05
                  },
                  {
                    "dew": 25.86,
                    "humidity": 87.38,
                    "pressure": 1011.26,
                    "temperature": 28.16,
                    "timestamp": "2024-09-30T11:36:03",
                    "volt": 4.05
                  },
                  {
                    "dew": 25.82,
                    "humidity": 87.39,
                    "pressure": 1011.27,
                    "temperature": 28.11,
                    "timestamp": "2024-09-30T11:37:03",
                    "volt": 4.05
                  },
                  {
                    "dew": 25.82,
                    "humidity": 87.39,
                    "pressure": 1011.35,
                    "temperature": 28.11,
                    "timestamp": "2024-09-30T11:38:03",
                    "volt": 4.05
                  },
                  {
                    "dew": 25.87,
                    "humidity": 87.6,
                    "pressure": 1011.35,
                    "temperature": 28.12,
                    "timestamp": "2024-09-30T11:39:03",
                    "volt": 4.05
                  },
                  {
                    "dew": 25.87,
                    "humidity": 87.74,
                    "pressure": 1011.42,
                    "temperature": 28.1,
                    "timestamp": "2024-09-30T11:40:03",
                    "volt": 4.05
                  },
                  {
                    "dew": 25.88,
                    "humidity": 87.78,
                    "pressure": 1011.44,
                    "temperature": 28.1,
                    "timestamp": "2024-09-30T11:41:03",
                    "volt": 4.05
                  },
                  {
                    "dew": 25.88,
                    "humidity": 87.98,
                    "pressure": 1011.51,
                    "temperature": 28.06,
                    "timestamp": "2024-09-30T11:42:03",
                    "volt": 4.06
                  },
                  {
                    "dew": 25.87,
                    "humidity": 88.1,
                    "pressure": 1011.44,
                    "temperature": 28.03,
                    "timestamp": "2024-09-30T11:43:03",
                    "volt": 4.06
                  },
                  {
                    "dew": 25.88,
                    "humidity": 88.2,
                    "pressure": 1011.46,
                    "temperature": 28.02,
                    "timestamp": "2024-09-30T11:44:03",
                    "volt": 4.05
                  },
                  {
                    "dew": 25.9,
                    "humidity": 88.19,
                    "pressure": 1011.49,
                    "temperature": 28.04,
                    "timestamp": "2024-09-30T11:45:03",
                    "volt": 4.05
                  },
                  {
                    "dew": 25.89,
                    "humidity": 88.11,
                    "pressure": 1011.57,
                    "temperature": 28.04,
                    "timestamp": "2024-09-30T11:46:03",
                    "volt": 4.06
                  },
                  {
                    "dew": 25.86,
                    "humidity": 88.05,
                    "pressure": 1011.61,
                    "temperature": 28.03,
                    "timestamp": "2024-09-30T11:47:03",
                    "volt": 4.06
                  },
                  {
                    "dew": 25.94,
                    "humidity": 88.17,
                    "pressure": 1011.55,
                    "temperature": 28.08,
                    "timestamp": "2024-09-30T11:48:04",
                    "volt": 4.05
                  },
                  {
                    "dew": 25.89,
                    "humidity": 88.14,
                    "pressure": 1011.57,
                    "temperature": 28.04,
                    "timestamp": "2024-09-30T11:49:03",
                    "volt": 4.05
                  },
                  {
                    "dew": 25.93,
                    "humidity": 88.11,
                    "pressure": 1011.65,
                    "temperature": 28.09,
                    "timestamp": "2024-09-30T11:50:03",
                    "volt": 4.05
                  },
                  {
                    "dew": 25.91,
                    "humidity": 88.02,
                    "pressure": 1011.62,
                    "temperature": 28.08,
                    "timestamp": "2024-09-30T11:51:04",
                    "volt": 4.05
                  },
                  {
                    "dew": 25.9,
                    "humidity": 87.94,
                    "pressure": 1011.67,
                    "temperature": 28.09,
                    "timestamp": "2024-09-30T11:52:03",
                    "volt": 4.05
                  },
                  {
                    "dew": 25.88,
                    "humidity": 87.89,
                    "pressure": 1011.69,
                    "temperature": 28.08,
                    "timestamp": "2024-09-30T11:53:03",
                    "volt": 4.06
                  },
                  {
                    "dew": 25.92,
                    "humidity": 87.96,
                    "pressure": 1011.72,
                    "temperature": 28.1,
                    "timestamp": "2024-09-30T11:54:03",
                    "volt": 4.05
                  },
                  {
                    "dew": 25.92,
                    "humidity": 87.94,
                    "pressure": 1011.68,
                    "temperature": 28.11,
                    "timestamp": "2024-09-30T11:55:04",
                    "volt": 4.05
                  },
                  {
                    "dew": 25.9,
                    "humidity": 87.83,
                    "pressure": 1011.71,
                    "temperature": 28.11,
                    "timestamp": "2024-09-30T11:56:03",
                    "volt": 4.05
                  },
                  {
                    "dew": 25.9,
                    "humidity": 87.8,
                    "pressure": 1011.74,
                    "temperature": 28.12,
                    "timestamp": "2024-09-30T11:57:03",
                    "volt": 4.05
                  },
                  {
                    "dew": 25.88,
                    "humidity": 87.79,
                    "pressure": 1011.74,
                    "temperature": 28.1,
                    "timestamp": "2024-09-30T11:58:03",
                    "volt": 4.05
                  },
                  {
                    "dew": 25.9,
                    "humidity": 87.79,
                    "pressure": 1011.75,
                    "temperature": 28.12,
                    "timestamp": "2024-09-30T11:59:04",
                    "volt": 4.05
                  },
                  {
                    "dew": 25.89,
                    "humidity": 87.85,
                    "pressure": 1011.73,
                    "temperature": 28.1,
                    "timestamp": "2024-09-30T12:00:03",
                    "volt": 4.05
                  },
                  {
                    "dew": 25.94,
                    "humidity": 88.07,
                    "pressure": 1011.74,
                    "temperature": 28.1,
                    "timestamp": "2024-09-30T12:01:03",
                    "volt": 4.05
                  },
                  {
                    "dew": 25.9,
                    "humidity": 88.04,
                    "pressure": 1011.74,
                    "temperature": 28.07,
                    "timestamp": "2024-09-30T12:02:03",
                    "volt": 4.06
                  },
                  {
                    "dew": 25.94,
                    "humidity": 88.15,
                    "pressure": 1011.74,
                    "temperature": 28.09,
                    "timestamp": "2024-09-30T12:03:03",
                    "volt": 4.05
                  },
                  {
                    "dew": 25.94,
                    "humidity": 88.13,
                    "pressure": 1011.75,
                    "temperature": 28.09,
                    "timestamp": "2024-09-30T12:04:03",
                    "volt": 4.05
                  },
                  {
                    "dew": 25.99,
                    "humidity": 88.27,
                    "pressure": 1011.76,
                    "temperature": 28.11,
                    "timestamp": "2024-09-30T12:05:03",
                    "volt": 4.06
                  },
                  {
                    "dew": 26,
                    "humidity": 88.27,
                    "pressure": 1011.78,
                    "temperature": 28.13,
                    "timestamp": "2024-09-30T12:06:03",
                    "volt": 4.05
                  },
                  {
                    "dew": 25.98,
                    "humidity": 88.22,
                    "pressure": 1011.76,
                    "temperature": 28.11,
                    "timestamp": "2024-09-30T12:07:03",
                    "volt": 4.05
                  },
                  {
                    "dew": 25.99,
                    "humidity": 88.23,
                    "pressure": 1011.76,
                    "temperature": 28.12,
                    "timestamp": "2024-09-30T12:08:03",
                    "volt": 4.05
                  },
                  {
                    "dew": 26.02,
                    "humidity": 88.32,
                    "pressure": 1011.77,
                    "temperature": 28.14,
                    "timestamp": "2024-09-30T12:09:03",
                    "volt": 4.05
                  },
                  {
                    "dew": 26,
                    "humidity": 88.36,
                    "pressure": 1011.72,
                    "temperature": 28.11,
                    "timestamp": "2024-09-30T12:10:04",
                    "volt": 4.05
                  },
                  {
                    "dew": 26,
                    "humidity": 88.29,
                    "pressure": 1011.83,
                    "temperature": 28.12,
                    "timestamp": "2024-09-30T12:11:03",
                    "volt": 4.05
                  },
                  {
                    "dew": 26.04,
                    "humidity": 88.41,
                    "pressure": 1011.77,
                    "temperature": 28.14,
                    "timestamp": "2024-09-30T12:12:03",
                    "volt": 4.06
                  },
                  {
                    "dew": 26.04,
                    "humidity": 88.43,
                    "pressure": 1011.81,
                    "temperature": 28.13,
                    "timestamp": "2024-09-30T12:13:03",
                    "volt": 4.05
                  },
                  {
                    "dew": 26.04,
                    "humidity": 88.43,
                    "pressure": 1011.83,
                    "temperature": 28.13,
                    "timestamp": "2024-09-30T12:14:04",
                    "volt": 4.05
                  },
                  {
                    "dew": 26,
                    "humidity": 88.4,
                    "pressure": 1011.79,
                    "temperature": 28.1,
                    "timestamp": "2024-09-30T12:15:03",
                    "volt": 4.05
                  },
                  {
                    "dew": 26.02,
                    "humidity": 88.34,
                    "pressure": 1011.81,
                    "temperature": 28.13,
                    "timestamp": "2024-09-30T12:16:04",
                    "volt": 4.05
                  },
                  {
                    "dew": 25.98,
                    "humidity": 88.33,
                    "pressure": 1011.83,
                    "temperature": 28.09,
                    "timestamp": "2024-09-30T12:17:03",
                    "volt": 4.05
                  },
                  {
                    "dew": 26.01,
                    "humidity": 88.39,
                    "pressure": 1011.81,
                    "temperature": 28.11,
                    "timestamp": "2024-09-30T12:18:04",
                    "volt": 4.05
                  },
                  {
                    "dew": 25.99,
                    "humidity": 88.4,
                    "pressure": 1011.83,
                    "temperature": 28.09,
                    "timestamp": "2024-09-30T12:19:03",
                    "volt": 4.05
                  },
                  {
                    "dew": 25.97,
                    "humidity": 88.31,
                    "pressure": 1011.88,
                    "temperature": 28.09,
                    "timestamp": "2024-09-30T12:20:04",
                    "volt": 4.05
                  },
                  {
                    "dew": 25.98,
                    "humidity": 88.3,
                    "pressure": 1011.91,
                    "temperature": 28.1,
                    "timestamp": "2024-09-30T12:21:04",
                    "volt": 4.05
                  },
                  {
                    "dew": 26.01,
                    "humidity": 88.49,
                    "pressure": 1011.92,
                    "temperature": 28.09,
                    "timestamp": "2024-09-30T12:22:04",
                    "volt": 4.05
                  },
                  {
                    "dew": 26,
                    "humidity": 88.54,
                    "pressure": 1011.95,
                    "temperature": 28.07,
                    "timestamp": "2024-09-30T12:23:03",
                    "volt": 4.05
                  },
                  {
                    "dew": 26.01,
                    "humidity": 88.61,
                    "pressure": 1011.98,
                    "temperature": 28.07,
                    "timestamp": "2024-09-30T12:24:04",
                    "volt": 4.06
                  },
                  {
                    "dew": 26.02,
                    "humidity": 88.64,
                    "pressure": 1012.04,
                    "temperature": 28.07,
                    "timestamp": "2024-09-30T12:25:03",
                    "volt": 4.06
                  }
                ]
              }
            },
            "text/plain": "<__main__.DeepnoteChart at 0x7feb26a7b090>"
          },
          "metadata": {}
        }
      ],
      "execution_count": 12,
      "outputs_reference": null,
      "block_group": "5b7b7407e47d4f88b9305e4113762d36"
    },
    {
      "cell_type": "code",
      "source": "import requests\nimport pandas as pd\n\n# Konfigurasi API ThingSpeak\nchannel_id = 2326256\nread_api_key = 'BKIJNOYDM205J2HG'\nurl = f'https://api.thingspeak.com/channels/{channel_id}/feeds.json'\n\n# Parameter untuk permintaan API\nparams = {\n    'api_key': read_api_key,\n    'results': 100  # Jumlah data yang ingin diambil, bisa disesuaikan\n}\n\n# Mengirim permintaan GET ke ThingSpeak\nresponse = requests.get(url, params=params)\n\n# Cek apakah permintaan berhasil\nif response.status_code == 200:\n    # Mengambil data feed dalam format JSON\n    data = response.json()\n    feeds = data['feeds']\n    \n    # Membuat DataFrame Pandas dari data feed\n    df = pd.DataFrame(feeds)\n    \n    # Pilih kolom-kolom yang ingin disimpan, misalnya waktu dan field1 hingga field8\n    df = df[['created_at', 'field1', 'field2', 'field3', 'field4', 'field8']]\n    \n    # Ganti nama kolom untuk lebih deskriptif\n    df.columns = ['Time', 'Suhu', 'Kelembapan', 'Tekanan', 'Embun', 'Volt']\n    \n    # Simpan DataFrame ke file CSV\n    df.to_csv('Cuaca.csv', index=False)\n    \n    # Tampilkan DataFrame untuk pengecekan\n    print(df.head())\nelse:\n    print(f\"Failed to fetch data. HTTP Status code: {response.status_code}\")\n",
      "metadata": {
        "source_hash": "61e8df4b",
        "execution_start": 1727699492565,
        "execution_millis": 365,
        "deepnote_to_be_reexecuted": false,
        "cell_id": "27b329409eb04499ac4b62c2c135fd81",
        "deepnote_cell_type": "code"
      },
      "outputs": [
        {
          "name": "stdout",
          "text": "                   Time   Suhu Kelembapan  Tekanan  Embun  Volt\n0  2024-09-30T10:51:02Z  28.43      86.18  1010.57  25.90  4.06\n1  2024-09-30T10:52:02Z  28.41      86.19  1010.58  25.88  4.05\n2  2024-09-30T10:53:03Z  28.34      86.28  1010.62  25.83  4.05\n3  2024-09-30T10:54:02Z  28.36      86.36  1010.62  25.86  4.06\n4  2024-09-30T10:55:02Z  28.32      86.51  1010.61  25.85  4.06\n",
          "output_type": "stream"
        }
      ],
      "outputs_reference": null,
      "execution_count": 18,
      "block_group": "2741d567caac4aea8f6bf501436de2f3",
      "content_dependencies": null
    },
    {
      "cell_type": "code",
      "source": "dataIklim = (lambda: _deepnote_execute_sql('SELECT *\\nFROM \\'Cuaca.csv\\'', 'SQL_DEEPNOTE_DATAFRAME_SQL', audit_sql_comment='', sql_cache_mode='cache_disabled') if '_deepnote_execute_sql' in globals() else _dntk.execute_sql('SELECT *\\nFROM \\'Cuaca.csv\\'', 'SQL_DEEPNOTE_DATAFRAME_SQL', audit_sql_comment='', sql_cache_mode='cache_disabled'))()\ndataIklim",
      "metadata": {
        "source_hash": "713643a8",
        "execution_start": 1727699508364,
        "execution_millis": 298,
        "sql_integration_id": "deepnote-dataframe-sql",
        "deepnote_variable_name": "dataIklim",
        "deepnote_to_be_reexecuted": false,
        "cell_id": "c6b18412004546bb80516cd9bae6313e",
        "deepnote_cell_type": "sql",
        "deepnote_sql_source": "SELECT *\nFROM 'Cuaca.csv'"
      },
      "outputs": [
        {
          "output_type": "execute_result",
          "execution_count": 19,
          "data": {
            "application/vnd.deepnote.dataframe.v3+json": {
              "column_count": 6,
              "row_count": 100,
              "columns": [
                {
                  "name": "Time",
                  "dtype": "datetime64[us]",
                  "stats": {
                    "unique_count": 100,
                    "nan_count": 0,
                    "min": "2024-09-30 10:51:02",
                    "max": "2024-09-30 12:31:03",
                    "histogram": [
                      {
                        "bin_start": 1727693462000000,
                        "bin_end": 1727694062100000,
                        "count": 11
                      },
                      {
                        "bin_start": 1727694062100000,
                        "bin_end": 1727694662200000,
                        "count": 10
                      },
                      {
                        "bin_start": 1727694662200000,
                        "bin_end": 1727695262300000,
                        "count": 9
                      },
                      {
                        "bin_start": 1727695262300000,
                        "bin_end": 1727695862400000,
                        "count": 9
                      },
                      {
                        "bin_start": 1727695862400000,
                        "bin_end": 1727696462500000,
                        "count": 10
                      },
                      {
                        "bin_start": 1727696462500000,
                        "bin_end": 1727697062600000,
                        "count": 10
                      },
                      {
                        "bin_start": 1727697062600000,
                        "bin_end": 1727697662700000,
                        "count": 10
                      },
                      {
                        "bin_start": 1727697662700000,
                        "bin_end": 1727698262800000,
                        "count": 10
                      },
                      {
                        "bin_start": 1727698262800000,
                        "bin_end": 1727698862900000,
                        "count": 10
                      },
                      {
                        "bin_start": 1727698862900000,
                        "bin_end": 1727699463000000,
                        "count": 11
                      }
                    ]
                  }
                },
                {
                  "name": "Suhu",
                  "dtype": "float64",
                  "stats": {
                    "unique_count": 33,
                    "nan_count": 0,
                    "min": "28.02",
                    "max": "28.43",
                    "histogram": [
                      {
                        "bin_start": 28.02,
                        "bin_end": 28.061,
                        "count": 12
                      },
                      {
                        "bin_start": 28.061,
                        "bin_end": 28.102,
                        "count": 24
                      },
                      {
                        "bin_start": 28.102,
                        "bin_end": 28.143,
                        "count": 20
                      },
                      {
                        "bin_start": 28.143,
                        "bin_end": 28.184,
                        "count": 12
                      },
                      {
                        "bin_start": 28.184,
                        "bin_end": 28.225,
                        "count": 8
                      },
                      {
                        "bin_start": 28.225,
                        "bin_end": 28.266,
                        "count": 12
                      },
                      {
                        "bin_start": 28.266,
                        "bin_end": 28.307,
                        "count": 6
                      },
                      {
                        "bin_start": 28.307,
                        "bin_end": 28.348,
                        "count": 3
                      },
                      {
                        "bin_start": 28.348,
                        "bin_end": 28.389,
                        "count": 1
                      },
                      {
                        "bin_start": 28.389,
                        "bin_end": 28.43,
                        "count": 2
                      }
                    ]
                  }
                },
                {
                  "name": "Kelembapan",
                  "dtype": "float64",
                  "stats": {
                    "unique_count": 86,
                    "nan_count": 0,
                    "min": "86.18",
                    "max": "88.81",
                    "histogram": [
                      {
                        "bin_start": 86.18,
                        "bin_end": 86.44300000000001,
                        "count": 4
                      },
                      {
                        "bin_start": 86.44300000000001,
                        "bin_end": 86.706,
                        "count": 6
                      },
                      {
                        "bin_start": 86.706,
                        "bin_end": 86.96900000000001,
                        "count": 10
                      },
                      {
                        "bin_start": 86.96900000000001,
                        "bin_end": 87.232,
                        "count": 12
                      },
                      {
                        "bin_start": 87.232,
                        "bin_end": 87.495,
                        "count": 15
                      },
                      {
                        "bin_start": 87.495,
                        "bin_end": 87.75800000000001,
                        "count": 2
                      },
                      {
                        "bin_start": 87.75800000000001,
                        "bin_end": 88.021,
                        "count": 12
                      },
                      {
                        "bin_start": 88.021,
                        "bin_end": 88.284,
                        "count": 16
                      },
                      {
                        "bin_start": 88.284,
                        "bin_end": 88.547,
                        "count": 15
                      },
                      {
                        "bin_start": 88.547,
                        "bin_end": 88.81,
                        "count": 8
                      }
                    ]
                  }
                },
                {
                  "name": "Tekanan",
                  "dtype": "float64",
                  "stats": {
                    "unique_count": 65,
                    "nan_count": 0,
                    "min": "1010.57",
                    "max": "1012.12",
                    "histogram": [
                      {
                        "bin_start": 1010.57,
                        "bin_end": 1010.725,
                        "count": 8
                      },
                      {
                        "bin_start": 1010.725,
                        "bin_end": 1010.88,
                        "count": 3
                      },
                      {
                        "bin_start": 1010.88,
                        "bin_end": 1011.0350000000001,
                        "count": 7
                      },
                      {
                        "bin_start": 1011.0350000000001,
                        "bin_end": 1011.19,
                        "count": 8
                      },
                      {
                        "bin_start": 1011.19,
                        "bin_end": 1011.345,
                        "count": 20
                      },
                      {
                        "bin_start": 1011.345,
                        "bin_end": 1011.5,
                        "count": 7
                      },
                      {
                        "bin_start": 1011.5,
                        "bin_end": 1011.655,
                        "count": 7
                      },
                      {
                        "bin_start": 1011.655,
                        "bin_end": 1011.8100000000001,
                        "count": 24
                      },
                      {
                        "bin_start": 1011.8100000000001,
                        "bin_end": 1011.965,
                        "count": 8
                      },
                      {
                        "bin_start": 1011.965,
                        "bin_end": 1012.12,
                        "count": 8
                      }
                    ]
                  }
                },
                {
                  "name": "Embun",
                  "dtype": "float64",
                  "stats": {
                    "unique_count": 23,
                    "nan_count": 0,
                    "min": "25.8",
                    "max": "26.04",
                    "histogram": [
                      {
                        "bin_start": 25.8,
                        "bin_end": 25.824,
                        "count": 11
                      },
                      {
                        "bin_start": 25.824,
                        "bin_end": 25.848,
                        "count": 6
                      },
                      {
                        "bin_start": 25.848,
                        "bin_end": 25.872,
                        "count": 22
                      },
                      {
                        "bin_start": 25.872,
                        "bin_end": 25.896,
                        "count": 15
                      },
                      {
                        "bin_start": 25.896,
                        "bin_end": 25.92,
                        "count": 12
                      },
                      {
                        "bin_start": 25.92,
                        "bin_end": 25.944,
                        "count": 7
                      },
                      {
                        "bin_start": 25.944,
                        "bin_end": 25.968,
                        "count": 0
                      },
                      {
                        "bin_start": 25.968,
                        "bin_end": 25.992,
                        "count": 7
                      },
                      {
                        "bin_start": 25.992,
                        "bin_end": 26.016,
                        "count": 9
                      },
                      {
                        "bin_start": 26.016,
                        "bin_end": 26.04,
                        "count": 11
                      }
                    ]
                  }
                },
                {
                  "name": "Volt",
                  "dtype": "float64",
                  "stats": {
                    "unique_count": 2,
                    "nan_count": 0,
                    "min": "4.05",
                    "max": "4.06",
                    "histogram": [
                      {
                        "bin_start": 4.05,
                        "bin_end": 4.051,
                        "count": 77
                      },
                      {
                        "bin_start": 4.051,
                        "bin_end": 4.052,
                        "count": 0
                      },
                      {
                        "bin_start": 4.052,
                        "bin_end": 4.053,
                        "count": 0
                      },
                      {
                        "bin_start": 4.053,
                        "bin_end": 4.053999999999999,
                        "count": 0
                      },
                      {
                        "bin_start": 4.053999999999999,
                        "bin_end": 4.055,
                        "count": 0
                      },
                      {
                        "bin_start": 4.055,
                        "bin_end": 4.056,
                        "count": 0
                      },
                      {
                        "bin_start": 4.056,
                        "bin_end": 4.0569999999999995,
                        "count": 0
                      },
                      {
                        "bin_start": 4.0569999999999995,
                        "bin_end": 4.058,
                        "count": 0
                      },
                      {
                        "bin_start": 4.058,
                        "bin_end": 4.058999999999999,
                        "count": 0
                      },
                      {
                        "bin_start": 4.058999999999999,
                        "bin_end": 4.06,
                        "count": 23
                      }
                    ]
                  }
                },
                {
                  "name": "_deepnote_index_column",
                  "dtype": "int64"
                }
              ],
              "rows": [
                {
                  "Time": "2024-09-30 10:51:02",
                  "Suhu": 28.43,
                  "Kelembapan": 86.18,
                  "Tekanan": 1010.57,
                  "Embun": 25.9,
                  "Volt": 4.06,
                  "_deepnote_index_column": 0
                },
                {
                  "Time": "2024-09-30 10:52:02",
                  "Suhu": 28.41,
                  "Kelembapan": 86.19,
                  "Tekanan": 1010.58,
                  "Embun": 25.88,
                  "Volt": 4.05,
                  "_deepnote_index_column": 1
                },
                {
                  "Time": "2024-09-30 10:53:03",
                  "Suhu": 28.34,
                  "Kelembapan": 86.28,
                  "Tekanan": 1010.62,
                  "Embun": 25.83,
                  "Volt": 4.05,
                  "_deepnote_index_column": 2
                },
                {
                  "Time": "2024-09-30 10:54:02",
                  "Suhu": 28.36,
                  "Kelembapan": 86.36,
                  "Tekanan": 1010.62,
                  "Embun": 25.86,
                  "Volt": 4.06,
                  "_deepnote_index_column": 3
                },
                {
                  "Time": "2024-09-30 10:55:02",
                  "Suhu": 28.32,
                  "Kelembapan": 86.51,
                  "Tekanan": 1010.61,
                  "Embun": 25.85,
                  "Volt": 4.06,
                  "_deepnote_index_column": 4
                },
                {
                  "Time": "2024-09-30 10:56:03",
                  "Suhu": 28.28,
                  "Kelembapan": 86.54,
                  "Tekanan": 1010.67,
                  "Embun": 25.82,
                  "Volt": 4.05,
                  "_deepnote_index_column": 5
                },
                {
                  "Time": "2024-09-30 10:57:02",
                  "Suhu": 28.31,
                  "Kelembapan": 86.71,
                  "Tekanan": 1010.68,
                  "Embun": 25.88,
                  "Volt": 4.05,
                  "_deepnote_index_column": 6
                },
                {
                  "Time": "2024-09-30 10:58:02",
                  "Suhu": 28.3,
                  "Kelembapan": 86.73,
                  "Tekanan": 1010.64,
                  "Embun": 25.87,
                  "Volt": 4.05,
                  "_deepnote_index_column": 7
                },
                {
                  "Time": "2024-09-30 10:59:02",
                  "Suhu": 28.29,
                  "Kelembapan": 86.65,
                  "Tekanan": 1010.74,
                  "Embun": 25.85,
                  "Volt": 4.05,
                  "_deepnote_index_column": 8
                },
                {
                  "Time": "2024-09-30 11:00:03",
                  "Suhu": 28.27,
                  "Kelembapan": 86.64,
                  "Tekanan": 1010.77,
                  "Embun": 25.83,
                  "Volt": 4.05,
                  "_deepnote_index_column": 9
                }
              ]
            },
            "text/plain": "                  Time   Suhu  Kelembapan  Tekanan  Embun  Volt\n0  2024-09-30 10:51:02  28.43       86.18  1010.57  25.90  4.06\n1  2024-09-30 10:52:02  28.41       86.19  1010.58  25.88  4.05\n2  2024-09-30 10:53:03  28.34       86.28  1010.62  25.83  4.05\n3  2024-09-30 10:54:02  28.36       86.36  1010.62  25.86  4.06\n4  2024-09-30 10:55:02  28.32       86.51  1010.61  25.85  4.06\n..                 ...    ...         ...      ...    ...   ...\n95 2024-09-30 12:27:03  28.06       88.64  1012.07  26.01  4.05\n96 2024-09-30 12:28:03  28.06       88.74  1012.04  26.03  4.05\n97 2024-09-30 12:29:03  28.04       88.80  1012.07  26.02  4.06\n98 2024-09-30 12:30:03  28.06       88.81  1012.11  26.04  4.05\n99 2024-09-30 12:31:03  28.05       88.79  1012.12  26.03  4.05\n\n[100 rows x 6 columns]",
            "text/html": "<div>\n<style scoped>\n    .dataframe tbody tr th:only-of-type {\n        vertical-align: middle;\n    }\n\n    .dataframe tbody tr th {\n        vertical-align: top;\n    }\n\n    .dataframe thead th {\n        text-align: right;\n    }\n</style>\n<table border=\"1\" class=\"dataframe\">\n  <thead>\n    <tr style=\"text-align: right;\">\n      <th></th>\n      <th>Time</th>\n      <th>Suhu</th>\n      <th>Kelembapan</th>\n      <th>Tekanan</th>\n      <th>Embun</th>\n      <th>Volt</th>\n    </tr>\n  </thead>\n  <tbody>\n    <tr>\n      <th>0</th>\n      <td>2024-09-30 10:51:02</td>\n      <td>28.43</td>\n      <td>86.18</td>\n      <td>1010.57</td>\n      <td>25.90</td>\n      <td>4.06</td>\n    </tr>\n    <tr>\n      <th>1</th>\n      <td>2024-09-30 10:52:02</td>\n      <td>28.41</td>\n      <td>86.19</td>\n      <td>1010.58</td>\n      <td>25.88</td>\n      <td>4.05</td>\n    </tr>\n    <tr>\n      <th>2</th>\n      <td>2024-09-30 10:53:03</td>\n      <td>28.34</td>\n      <td>86.28</td>\n      <td>1010.62</td>\n      <td>25.83</td>\n      <td>4.05</td>\n    </tr>\n    <tr>\n      <th>3</th>\n      <td>2024-09-30 10:54:02</td>\n      <td>28.36</td>\n      <td>86.36</td>\n      <td>1010.62</td>\n      <td>25.86</td>\n      <td>4.06</td>\n    </tr>\n    <tr>\n      <th>4</th>\n      <td>2024-09-30 10:55:02</td>\n      <td>28.32</td>\n      <td>86.51</td>\n      <td>1010.61</td>\n      <td>25.85</td>\n      <td>4.06</td>\n    </tr>\n    <tr>\n      <th>...</th>\n      <td>...</td>\n      <td>...</td>\n      <td>...</td>\n      <td>...</td>\n      <td>...</td>\n      <td>...</td>\n    </tr>\n    <tr>\n      <th>95</th>\n      <td>2024-09-30 12:27:03</td>\n      <td>28.06</td>\n      <td>88.64</td>\n      <td>1012.07</td>\n      <td>26.01</td>\n      <td>4.05</td>\n    </tr>\n    <tr>\n      <th>96</th>\n      <td>2024-09-30 12:28:03</td>\n      <td>28.06</td>\n      <td>88.74</td>\n      <td>1012.04</td>\n      <td>26.03</td>\n      <td>4.05</td>\n    </tr>\n    <tr>\n      <th>97</th>\n      <td>2024-09-30 12:29:03</td>\n      <td>28.04</td>\n      <td>88.80</td>\n      <td>1012.07</td>\n      <td>26.02</td>\n      <td>4.06</td>\n    </tr>\n    <tr>\n      <th>98</th>\n      <td>2024-09-30 12:30:03</td>\n      <td>28.06</td>\n      <td>88.81</td>\n      <td>1012.11</td>\n      <td>26.04</td>\n      <td>4.05</td>\n    </tr>\n    <tr>\n      <th>99</th>\n      <td>2024-09-30 12:31:03</td>\n      <td>28.05</td>\n      <td>88.79</td>\n      <td>1012.12</td>\n      <td>26.03</td>\n      <td>4.05</td>\n    </tr>\n  </tbody>\n</table>\n<p>100 rows × 6 columns</p>\n</div>"
          },
          "metadata": {}
        }
      ],
      "outputs_reference": null,
      "execution_count": 19,
      "block_group": "8c8d03cb617e4697a025fe591317ec0c",
      "content_dependencies": null
    },
    {
      "cell_type": "code",
      "source": "(lambda: DeepnoteChart(dataIklim, \"\"\"{\"layer\":[{\"layer\":[{\"mark\":{\"clip\":true,\"type\":\"circle\",\"color\":\"#2266D3\",\"tooltip\":true},\"encoding\":{\"x\":{\"axis\":{\"grid\":false},\"sort\":null,\"type\":\"quantitative\",\"field\":\"Suhu\",\"scale\":{\"type\":\"linear\",\"zero\":false},\"format\":{\"type\":\"default\",\"decimals\":null},\"formatType\":\"numberFormatFromNumberType\"},\"y\":{\"axis\":{\"grid\":false},\"sort\":null,\"type\":\"quantitative\",\"field\":\"Kelembapan\",\"scale\":{\"type\":\"linear\",\"zero\":false},\"format\":{\"type\":\"default\",\"decimals\":null},\"formatType\":\"numberFormatFromNumberType\"}}}]}],\"title\":\"\",\"config\":{\"legend\":{}},\"$schema\":\"https://vega.github.io/schema/vega-lite/v5.json\",\"encoding\":{},\"usermeta\":{\"tooltipDefaultMode\":true}}\"\"\") if 'DeepnoteChart' in globals() else _dntk.DeepnoteChart(dataIklim, \"\"\"{\"layer\":[{\"layer\":[{\"mark\":{\"clip\":true,\"type\":\"circle\",\"color\":\"#2266D3\",\"tooltip\":true},\"encoding\":{\"x\":{\"axis\":{\"grid\":false},\"sort\":null,\"type\":\"quantitative\",\"field\":\"Suhu\",\"scale\":{\"type\":\"linear\",\"zero\":false},\"format\":{\"type\":\"default\",\"decimals\":null},\"formatType\":\"numberFormatFromNumberType\"},\"y\":{\"axis\":{\"grid\":false},\"sort\":null,\"type\":\"quantitative\",\"field\":\"Kelembapan\",\"scale\":{\"type\":\"linear\",\"zero\":false},\"format\":{\"type\":\"default\",\"decimals\":null},\"formatType\":\"numberFormatFromNumberType\"}}}]}],\"title\":\"\",\"config\":{\"legend\":{}},\"$schema\":\"https://vega.github.io/schema/vega-lite/v5.json\",\"encoding\":{},\"usermeta\":{\"tooltipDefaultMode\":true}}\"\"\"))()",
      "metadata": {
        "source_hash": "429413ee",
        "execution_start": 1727699508682,
        "execution_millis": 282,
        "deepnote_chart_height": 467,
        "deepnote_variable_name": "dataIklim",
        "deepnote_to_be_reexecuted": false,
        "deepnote_visualization_spec": {
          "layer": [
            {
              "layer": [
                {
                  "mark": {
                    "clip": true,
                    "type": "circle",
                    "color": "#2266D3",
                    "tooltip": true
                  },
                  "encoding": {
                    "x": {
                      "axis": {
                        "grid": false
                      },
                      "sort": null,
                      "type": "quantitative",
                      "field": "Suhu",
                      "scale": {
                        "type": "linear",
                        "zero": false
                      },
                      "format": {
                        "type": "default",
                        "decimals": null
                      },
                      "formatType": "numberFormatFromNumberType"
                    },
                    "y": {
                      "axis": {
                        "grid": false
                      },
                      "sort": null,
                      "type": "quantitative",
                      "field": "Kelembapan",
                      "scale": {
                        "type": "linear",
                        "zero": false
                      },
                      "format": {
                        "type": "default",
                        "decimals": null
                      },
                      "formatType": "numberFormatFromNumberType"
                    }
                  }
                }
              ]
            }
          ],
          "title": "",
          "config": {
            "legend": {}
          },
          "$schema": "https://vega.github.io/schema/vega-lite/v5.json",
          "encoding": {},
          "usermeta": {
            "tooltipDefaultMode": true
          }
        },
        "cell_id": "f22c6999871143858a993b4fa5d79f41",
        "deepnote_cell_type": "visualization"
      },
      "outputs": [
        {
          "output_type": "execute_result",
          "execution_count": 20,
          "data": {
            "application/vnd.vegalite.v5+json": {
              "layer": [
                {
                  "layer": [
                    {
                      "mark": {
                        "clip": true,
                        "type": "circle",
                        "color": "#2266D3",
                        "tooltip": true
                      },
                      "encoding": {
                        "x": {
                          "axis": {
                            "grid": false
                          },
                          "sort": null,
                          "type": "quantitative",
                          "field": "Suhu",
                          "scale": {
                            "type": "linear",
                            "zero": false
                          },
                          "format": {
                            "type": "default",
                            "decimals": null
                          },
                          "formatType": "numberFormatFromNumberType"
                        },
                        "y": {
                          "axis": {
                            "grid": false
                          },
                          "sort": null,
                          "type": "quantitative",
                          "field": "Kelembapan",
                          "scale": {
                            "type": "linear",
                            "zero": false
                          },
                          "format": {
                            "type": "default",
                            "decimals": null
                          },
                          "formatType": "numberFormatFromNumberType"
                        }
                      }
                    }
                  ]
                }
              ],
              "title": "",
              "config": {
                "legend": {}
              },
              "$schema": "https://vega.github.io/schema/vega-lite/v5.json",
              "encoding": {},
              "usermeta": {
                "tooltipDefaultMode": true
              },
              "data": {
                "values": [
                  {
                    "Time": "2024-09-30T10:51:02",
                    "Suhu": 28.43,
                    "Kelembapan": 86.18,
                    "Tekanan": 1010.57,
                    "Embun": 25.9,
                    "Volt": 4.06
                  },
                  {
                    "Time": "2024-09-30T10:52:02",
                    "Suhu": 28.41,
                    "Kelembapan": 86.19,
                    "Tekanan": 1010.58,
                    "Embun": 25.88,
                    "Volt": 4.05
                  },
                  {
                    "Time": "2024-09-30T10:53:03",
                    "Suhu": 28.34,
                    "Kelembapan": 86.28,
                    "Tekanan": 1010.62,
                    "Embun": 25.83,
                    "Volt": 4.05
                  },
                  {
                    "Time": "2024-09-30T10:54:02",
                    "Suhu": 28.36,
                    "Kelembapan": 86.36,
                    "Tekanan": 1010.62,
                    "Embun": 25.86,
                    "Volt": 4.06
                  },
                  {
                    "Time": "2024-09-30T10:55:02",
                    "Suhu": 28.32,
                    "Kelembapan": 86.51,
                    "Tekanan": 1010.61,
                    "Embun": 25.85,
                    "Volt": 4.06
                  },
                  {
                    "Time": "2024-09-30T10:56:03",
                    "Suhu": 28.28,
                    "Kelembapan": 86.54,
                    "Tekanan": 1010.67,
                    "Embun": 25.82,
                    "Volt": 4.05
                  },
                  {
                    "Time": "2024-09-30T10:57:02",
                    "Suhu": 28.31,
                    "Kelembapan": 86.71,
                    "Tekanan": 1010.68,
                    "Embun": 25.88,
                    "Volt": 4.05
                  },
                  {
                    "Time": "2024-09-30T10:58:02",
                    "Suhu": 28.3,
                    "Kelembapan": 86.73,
                    "Tekanan": 1010.64,
                    "Embun": 25.87,
                    "Volt": 4.05
                  },
                  {
                    "Time": "2024-09-30T10:59:02",
                    "Suhu": 28.29,
                    "Kelembapan": 86.65,
                    "Tekanan": 1010.74,
                    "Embun": 25.85,
                    "Volt": 4.05
                  },
                  {
                    "Time": "2024-09-30T11:00:03",
                    "Suhu": 28.27,
                    "Kelembapan": 86.64,
                    "Tekanan": 1010.77,
                    "Embun": 25.83,
                    "Volt": 4.05
                  },
                  {
                    "Time": "2024-09-30T11:01:02",
                    "Suhu": 28.28,
                    "Kelembapan": 86.69,
                    "Tekanan": 1010.82,
                    "Embun": 25.85,
                    "Volt": 4.06
                  },
                  {
                    "Time": "2024-09-30T11:02:02",
                    "Suhu": 28.29,
                    "Kelembapan": 86.68,
                    "Tekanan": 1010.9,
                    "Embun": 25.86,
                    "Volt": 4.05
                  },
                  {
                    "Time": "2024-09-30T11:03:02",
                    "Suhu": 28.23,
                    "Kelembapan": 86.78,
                    "Tekanan": 1010.9,
                    "Embun": 25.82,
                    "Volt": 4.05
                  },
                  {
                    "Time": "2024-09-30T11:04:02",
                    "Suhu": 28.23,
                    "Kelembapan": 86.75,
                    "Tekanan": 1010.89,
                    "Embun": 25.81,
                    "Volt": 4.05
                  },
                  {
                    "Time": "2024-09-30T11:05:02",
                    "Suhu": 28.23,
                    "Kelembapan": 86.79,
                    "Tekanan": 1011,
                    "Embun": 25.82,
                    "Volt": 4.06
                  },
                  {
                    "Time": "2024-09-30T11:06:02",
                    "Suhu": 28.24,
                    "Kelembapan": 86.8,
                    "Tekanan": 1011.01,
                    "Embun": 25.83,
                    "Volt": 4.06
                  },
                  {
                    "Time": "2024-09-30T11:07:02",
                    "Suhu": 28.24,
                    "Kelembapan": 86.9,
                    "Tekanan": 1011.02,
                    "Embun": 25.85,
                    "Volt": 4.06
                  },
                  {
                    "Time": "2024-09-30T11:08:02",
                    "Suhu": 28.25,
                    "Kelembapan": 86.88,
                    "Tekanan": 1011.04,
                    "Embun": 25.85,
                    "Volt": 4.05
                  },
                  {
                    "Time": "2024-09-30T11:09:02",
                    "Suhu": 28.24,
                    "Kelembapan": 86.95,
                    "Tekanan": 1011.05,
                    "Embun": 25.86,
                    "Volt": 4.05
                  },
                  {
                    "Time": "2024-09-30T11:10:03",
                    "Suhu": 28.22,
                    "Kelembapan": 86.98,
                    "Tekanan": 1011.03,
                    "Embun": 25.84,
                    "Volt": 4.05
                  },
                  {
                    "Time": "2024-09-30T11:11:02",
                    "Suhu": 28.2,
                    "Kelembapan": 86.96,
                    "Tekanan": 1011.05,
                    "Embun": 25.82,
                    "Volt": 4.05
                  },
                  {
                    "Time": "2024-09-30T11:12:02",
                    "Suhu": 28.23,
                    "Kelembapan": 86.99,
                    "Tekanan": 1011.15,
                    "Embun": 25.86,
                    "Volt": 4.05
                  },
                  {
                    "Time": "2024-09-30T11:13:03",
                    "Suhu": 28.2,
                    "Kelembapan": 87.14,
                    "Tekanan": 1011.16,
                    "Embun": 25.86,
                    "Volt": 4.05
                  },
                  {
                    "Time": "2024-09-30T11:14:02",
                    "Suhu": 28.17,
                    "Kelembapan": 87.23,
                    "Tekanan": 1011.1,
                    "Embun": 25.84,
                    "Volt": 4.06
                  },
                  {
                    "Time": "2024-09-30T11:15:02",
                    "Suhu": 28.18,
                    "Kelembapan": 87.24,
                    "Tekanan": 1011.15,
                    "Embun": 25.86,
                    "Volt": 4.06
                  },
                  {
                    "Time": "2024-09-30T11:16:03",
                    "Suhu": 28.2,
                    "Kelembapan": 87.25,
                    "Tekanan": 1011.2,
                    "Embun": 25.88,
                    "Volt": 4.05
                  },
                  {
                    "Time": "2024-09-30T11:17:02",
                    "Suhu": 28.18,
                    "Kelembapan": 87.24,
                    "Tekanan": 1011.17,
                    "Embun": 25.86,
                    "Volt": 4.05
                  },
                  {
                    "Time": "2024-09-30T11:18:03",
                    "Suhu": 28.21,
                    "Kelembapan": 87.22,
                    "Tekanan": 1011.24,
                    "Embun": 25.88,
                    "Volt": 4.06
                  },
                  {
                    "Time": "2024-09-30T11:19:02",
                    "Suhu": 28.23,
                    "Kelembapan": 87.26,
                    "Tekanan": 1011.22,
                    "Embun": 25.91,
                    "Volt": 4.05
                  },
                  {
                    "Time": "2024-09-30T11:20:03",
                    "Suhu": 28.24,
                    "Kelembapan": 87.2,
                    "Tekanan": 1011.3,
                    "Embun": 25.91,
                    "Volt": 4.05
                  },
                  {
                    "Time": "2024-09-30T11:21:03",
                    "Suhu": 28.23,
                    "Kelembapan": 87.28,
                    "Tekanan": 1011.2,
                    "Embun": 25.91,
                    "Volt": 4.05
                  },
                  {
                    "Time": "2024-09-30T11:22:03",
                    "Suhu": 28.2,
                    "Kelembapan": 87.21,
                    "Tekanan": 1011.25,
                    "Embun": 25.87,
                    "Volt": 4.05
                  },
                  {
                    "Time": "2024-09-30T11:23:03",
                    "Suhu": 28.23,
                    "Kelembapan": 87.22,
                    "Tekanan": 1011.26,
                    "Embun": 25.9,
                    "Volt": 4.05
                  },
                  {
                    "Time": "2024-09-30T11:24:03",
                    "Suhu": 28.2,
                    "Kelembapan": 87.31,
                    "Tekanan": 1011.27,
                    "Embun": 25.89,
                    "Volt": 4.05
                  },
                  {
                    "Time": "2024-09-30T11:25:03",
                    "Suhu": 28.2,
                    "Kelembapan": 87.25,
                    "Tekanan": 1011.28,
                    "Embun": 25.88,
                    "Volt": 4.06
                  },
                  {
                    "Time": "2024-09-30T11:27:03",
                    "Suhu": 28.16,
                    "Kelembapan": 87.26,
                    "Tekanan": 1011.26,
                    "Embun": 25.84,
                    "Volt": 4.05
                  },
                  {
                    "Time": "2024-09-30T11:28:03",
                    "Suhu": 28.14,
                    "Kelembapan": 87.15,
                    "Tekanan": 1011.23,
                    "Embun": 25.8,
                    "Volt": 4.05
                  },
                  {
                    "Time": "2024-09-30T11:29:03",
                    "Suhu": 28.16,
                    "Kelembapan": 87.12,
                    "Tekanan": 1011.22,
                    "Embun": 25.81,
                    "Volt": 4.05
                  },
                  {
                    "Time": "2024-09-30T11:30:03",
                    "Suhu": 28.17,
                    "Kelembapan": 87.13,
                    "Tekanan": 1011.27,
                    "Embun": 25.82,
                    "Volt": 4.05
                  },
                  {
                    "Time": "2024-09-30T11:31:03",
                    "Suhu": 28.15,
                    "Kelembapan": 87.17,
                    "Tekanan": 1011.26,
                    "Embun": 25.81,
                    "Volt": 4.05
                  },
                  {
                    "Time": "2024-09-30T11:32:03",
                    "Suhu": 28.17,
                    "Kelembapan": 87.27,
                    "Tekanan": 1011.22,
                    "Embun": 25.85,
                    "Volt": 4.05
                  },
                  {
                    "Time": "2024-09-30T11:33:03",
                    "Suhu": 28.18,
                    "Kelembapan": 87.28,
                    "Tekanan": 1011.25,
                    "Embun": 25.86,
                    "Volt": 4.05
                  },
                  {
                    "Time": "2024-09-30T11:34:03",
                    "Suhu": 28.16,
                    "Kelembapan": 87.32,
                    "Tekanan": 1011.23,
                    "Embun": 25.85,
                    "Volt": 4.05
                  },
                  {
                    "Time": "2024-09-30T11:35:03",
                    "Suhu": 28.17,
                    "Kelembapan": 87.4,
                    "Tekanan": 1011.24,
                    "Embun": 25.88,
                    "Volt": 4.05
                  },
                  {
                    "Time": "2024-09-30T11:36:03",
                    "Suhu": 28.16,
                    "Kelembapan": 87.38,
                    "Tekanan": 1011.26,
                    "Embun": 25.86,
                    "Volt": 4.05
                  },
                  {
                    "Time": "2024-09-30T11:37:03",
                    "Suhu": 28.11,
                    "Kelembapan": 87.39,
                    "Tekanan": 1011.27,
                    "Embun": 25.82,
                    "Volt": 4.05
                  },
                  {
                    "Time": "2024-09-30T11:38:03",
                    "Suhu": 28.11,
                    "Kelembapan": 87.39,
                    "Tekanan": 1011.35,
                    "Embun": 25.82,
                    "Volt": 4.05
                  },
                  {
                    "Time": "2024-09-30T11:39:03",
                    "Suhu": 28.12,
                    "Kelembapan": 87.6,
                    "Tekanan": 1011.35,
                    "Embun": 25.87,
                    "Volt": 4.05
                  },
                  {
                    "Time": "2024-09-30T11:40:03",
                    "Suhu": 28.1,
                    "Kelembapan": 87.74,
                    "Tekanan": 1011.42,
                    "Embun": 25.87,
                    "Volt": 4.05
                  },
                  {
                    "Time": "2024-09-30T11:41:03",
                    "Suhu": 28.1,
                    "Kelembapan": 87.78,
                    "Tekanan": 1011.44,
                    "Embun": 25.88,
                    "Volt": 4.05
                  },
                  {
                    "Time": "2024-09-30T11:42:03",
                    "Suhu": 28.06,
                    "Kelembapan": 87.98,
                    "Tekanan": 1011.51,
                    "Embun": 25.88,
                    "Volt": 4.06
                  },
                  {
                    "Time": "2024-09-30T11:43:03",
                    "Suhu": 28.03,
                    "Kelembapan": 88.1,
                    "Tekanan": 1011.44,
                    "Embun": 25.87,
                    "Volt": 4.06
                  },
                  {
                    "Time": "2024-09-30T11:44:03",
                    "Suhu": 28.02,
                    "Kelembapan": 88.2,
                    "Tekanan": 1011.46,
                    "Embun": 25.88,
                    "Volt": 4.05
                  },
                  {
                    "Time": "2024-09-30T11:45:03",
                    "Suhu": 28.04,
                    "Kelembapan": 88.19,
                    "Tekanan": 1011.49,
                    "Embun": 25.9,
                    "Volt": 4.05
                  },
                  {
                    "Time": "2024-09-30T11:46:03",
                    "Suhu": 28.04,
                    "Kelembapan": 88.11,
                    "Tekanan": 1011.57,
                    "Embun": 25.89,
                    "Volt": 4.06
                  },
                  {
                    "Time": "2024-09-30T11:47:03",
                    "Suhu": 28.03,
                    "Kelembapan": 88.05,
                    "Tekanan": 1011.61,
                    "Embun": 25.86,
                    "Volt": 4.06
                  },
                  {
                    "Time": "2024-09-30T11:48:03",
                    "Suhu": 28.08,
                    "Kelembapan": 88.17,
                    "Tekanan": 1011.55,
                    "Embun": 25.94,
                    "Volt": 4.05
                  },
                  {
                    "Time": "2024-09-30T11:49:03",
                    "Suhu": 28.04,
                    "Kelembapan": 88.14,
                    "Tekanan": 1011.57,
                    "Embun": 25.89,
                    "Volt": 4.05
                  },
                  {
                    "Time": "2024-09-30T11:50:03",
                    "Suhu": 28.09,
                    "Kelembapan": 88.11,
                    "Tekanan": 1011.65,
                    "Embun": 25.93,
                    "Volt": 4.05
                  },
                  {
                    "Time": "2024-09-30T11:51:03",
                    "Suhu": 28.08,
                    "Kelembapan": 88.02,
                    "Tekanan": 1011.62,
                    "Embun": 25.91,
                    "Volt": 4.05
                  },
                  {
                    "Time": "2024-09-30T11:52:03",
                    "Suhu": 28.09,
                    "Kelembapan": 87.94,
                    "Tekanan": 1011.67,
                    "Embun": 25.9,
                    "Volt": 4.05
                  },
                  {
                    "Time": "2024-09-30T11:53:03",
                    "Suhu": 28.08,
                    "Kelembapan": 87.89,
                    "Tekanan": 1011.69,
                    "Embun": 25.88,
                    "Volt": 4.06
                  },
                  {
                    "Time": "2024-09-30T11:54:03",
                    "Suhu": 28.1,
                    "Kelembapan": 87.96,
                    "Tekanan": 1011.72,
                    "Embun": 25.92,
                    "Volt": 4.05
                  },
                  {
                    "Time": "2024-09-30T11:55:03",
                    "Suhu": 28.11,
                    "Kelembapan": 87.94,
                    "Tekanan": 1011.68,
                    "Embun": 25.92,
                    "Volt": 4.05
                  },
                  {
                    "Time": "2024-09-30T11:56:03",
                    "Suhu": 28.11,
                    "Kelembapan": 87.83,
                    "Tekanan": 1011.71,
                    "Embun": 25.9,
                    "Volt": 4.05
                  },
                  {
                    "Time": "2024-09-30T11:57:03",
                    "Suhu": 28.12,
                    "Kelembapan": 87.8,
                    "Tekanan": 1011.74,
                    "Embun": 25.9,
                    "Volt": 4.05
                  },
                  {
                    "Time": "2024-09-30T11:58:03",
                    "Suhu": 28.1,
                    "Kelembapan": 87.79,
                    "Tekanan": 1011.74,
                    "Embun": 25.88,
                    "Volt": 4.05
                  },
                  {
                    "Time": "2024-09-30T11:59:03",
                    "Suhu": 28.12,
                    "Kelembapan": 87.79,
                    "Tekanan": 1011.75,
                    "Embun": 25.9,
                    "Volt": 4.05
                  },
                  {
                    "Time": "2024-09-30T12:00:03",
                    "Suhu": 28.1,
                    "Kelembapan": 87.85,
                    "Tekanan": 1011.73,
                    "Embun": 25.89,
                    "Volt": 4.05
                  },
                  {
                    "Time": "2024-09-30T12:01:03",
                    "Suhu": 28.1,
                    "Kelembapan": 88.07,
                    "Tekanan": 1011.74,
                    "Embun": 25.94,
                    "Volt": 4.05
                  },
                  {
                    "Time": "2024-09-30T12:02:03",
                    "Suhu": 28.07,
                    "Kelembapan": 88.04,
                    "Tekanan": 1011.74,
                    "Embun": 25.9,
                    "Volt": 4.06
                  },
                  {
                    "Time": "2024-09-30T12:03:03",
                    "Suhu": 28.09,
                    "Kelembapan": 88.15,
                    "Tekanan": 1011.74,
                    "Embun": 25.94,
                    "Volt": 4.05
                  },
                  {
                    "Time": "2024-09-30T12:04:03",
                    "Suhu": 28.09,
                    "Kelembapan": 88.13,
                    "Tekanan": 1011.75,
                    "Embun": 25.94,
                    "Volt": 4.05
                  },
                  {
                    "Time": "2024-09-30T12:05:03",
                    "Suhu": 28.11,
                    "Kelembapan": 88.27,
                    "Tekanan": 1011.76,
                    "Embun": 25.99,
                    "Volt": 4.06
                  },
                  {
                    "Time": "2024-09-30T12:06:03",
                    "Suhu": 28.13,
                    "Kelembapan": 88.27,
                    "Tekanan": 1011.78,
                    "Embun": 26,
                    "Volt": 4.05
                  },
                  {
                    "Time": "2024-09-30T12:07:03",
                    "Suhu": 28.11,
                    "Kelembapan": 88.22,
                    "Tekanan": 1011.76,
                    "Embun": 25.98,
                    "Volt": 4.05
                  },
                  {
                    "Time": "2024-09-30T12:08:03",
                    "Suhu": 28.12,
                    "Kelembapan": 88.23,
                    "Tekanan": 1011.76,
                    "Embun": 25.99,
                    "Volt": 4.05
                  },
                  {
                    "Time": "2024-09-30T12:09:03",
                    "Suhu": 28.14,
                    "Kelembapan": 88.32,
                    "Tekanan": 1011.77,
                    "Embun": 26.02,
                    "Volt": 4.05
                  },
                  {
                    "Time": "2024-09-30T12:10:03",
                    "Suhu": 28.11,
                    "Kelembapan": 88.36,
                    "Tekanan": 1011.72,
                    "Embun": 26,
                    "Volt": 4.05
                  },
                  {
                    "Time": "2024-09-30T12:11:03",
                    "Suhu": 28.12,
                    "Kelembapan": 88.29,
                    "Tekanan": 1011.83,
                    "Embun": 26,
                    "Volt": 4.05
                  },
                  {
                    "Time": "2024-09-30T12:12:03",
                    "Suhu": 28.14,
                    "Kelembapan": 88.41,
                    "Tekanan": 1011.77,
                    "Embun": 26.04,
                    "Volt": 4.06
                  },
                  {
                    "Time": "2024-09-30T12:13:03",
                    "Suhu": 28.13,
                    "Kelembapan": 88.43,
                    "Tekanan": 1011.81,
                    "Embun": 26.04,
                    "Volt": 4.05
                  },
                  {
                    "Time": "2024-09-30T12:14:03",
                    "Suhu": 28.13,
                    "Kelembapan": 88.43,
                    "Tekanan": 1011.83,
                    "Embun": 26.04,
                    "Volt": 4.05
                  },
                  {
                    "Time": "2024-09-30T12:15:03",
                    "Suhu": 28.1,
                    "Kelembapan": 88.4,
                    "Tekanan": 1011.79,
                    "Embun": 26,
                    "Volt": 4.05
                  },
                  {
                    "Time": "2024-09-30T12:16:03",
                    "Suhu": 28.13,
                    "Kelembapan": 88.34,
                    "Tekanan": 1011.81,
                    "Embun": 26.02,
                    "Volt": 4.05
                  },
                  {
                    "Time": "2024-09-30T12:17:03",
                    "Suhu": 28.09,
                    "Kelembapan": 88.33,
                    "Tekanan": 1011.83,
                    "Embun": 25.98,
                    "Volt": 4.05
                  },
                  {
                    "Time": "2024-09-30T12:18:03",
                    "Suhu": 28.11,
                    "Kelembapan": 88.39,
                    "Tekanan": 1011.81,
                    "Embun": 26.01,
                    "Volt": 4.05
                  },
                  {
                    "Time": "2024-09-30T12:19:03",
                    "Suhu": 28.09,
                    "Kelembapan": 88.4,
                    "Tekanan": 1011.83,
                    "Embun": 25.99,
                    "Volt": 4.05
                  },
                  {
                    "Time": "2024-09-30T12:20:03",
                    "Suhu": 28.09,
                    "Kelembapan": 88.31,
                    "Tekanan": 1011.88,
                    "Embun": 25.97,
                    "Volt": 4.05
                  },
                  {
                    "Time": "2024-09-30T12:21:03",
                    "Suhu": 28.1,
                    "Kelembapan": 88.3,
                    "Tekanan": 1011.91,
                    "Embun": 25.98,
                    "Volt": 4.05
                  },
                  {
                    "Time": "2024-09-30T12:22:03",
                    "Suhu": 28.09,
                    "Kelembapan": 88.49,
                    "Tekanan": 1011.92,
                    "Embun": 26.01,
                    "Volt": 4.05
                  },
                  {
                    "Time": "2024-09-30T12:23:03",
                    "Suhu": 28.07,
                    "Kelembapan": 88.54,
                    "Tekanan": 1011.95,
                    "Embun": 26,
                    "Volt": 4.05
                  },
                  {
                    "Time": "2024-09-30T12:24:03",
                    "Suhu": 28.07,
                    "Kelembapan": 88.61,
                    "Tekanan": 1011.98,
                    "Embun": 26.01,
                    "Volt": 4.06
                  },
                  {
                    "Time": "2024-09-30T12:25:03",
                    "Suhu": 28.07,
                    "Kelembapan": 88.64,
                    "Tekanan": 1012.04,
                    "Embun": 26.02,
                    "Volt": 4.06
                  },
                  {
                    "Time": "2024-09-30T12:26:03",
                    "Suhu": 28.08,
                    "Kelembapan": 88.61,
                    "Tekanan": 1012.07,
                    "Embun": 26.02,
                    "Volt": 4.06
                  },
                  {
                    "Time": "2024-09-30T12:27:03",
                    "Suhu": 28.06,
                    "Kelembapan": 88.64,
                    "Tekanan": 1012.07,
                    "Embun": 26.01,
                    "Volt": 4.05
                  },
                  {
                    "Time": "2024-09-30T12:28:03",
                    "Suhu": 28.06,
                    "Kelembapan": 88.74,
                    "Tekanan": 1012.04,
                    "Embun": 26.03,
                    "Volt": 4.05
                  },
                  {
                    "Time": "2024-09-30T12:29:03",
                    "Suhu": 28.04,
                    "Kelembapan": 88.8,
                    "Tekanan": 1012.07,
                    "Embun": 26.02,
                    "Volt": 4.06
                  },
                  {
                    "Time": "2024-09-30T12:30:03",
                    "Suhu": 28.06,
                    "Kelembapan": 88.81,
                    "Tekanan": 1012.11,
                    "Embun": 26.04,
                    "Volt": 4.05
                  },
                  {
                    "Time": "2024-09-30T12:31:03",
                    "Suhu": 28.05,
                    "Kelembapan": 88.79,
                    "Tekanan": 1012.12,
                    "Embun": 26.03,
                    "Volt": 4.05
                  }
                ]
              }
            },
            "text/plain": "<__main__.DeepnoteChart at 0x7fead461fa50>"
          },
          "metadata": {}
        }
      ],
      "execution_count": 20,
      "outputs_reference": null,
      "block_group": "7bfd6a31d10244abb3d53cb2032c3536"
    },
    {
      "cell_type": "markdown",
      "source": "<a style='text-decoration:none;line-height:16px;display:flex;color:#5B5B62;padding:10px;justify-content:end;' href='https://deepnote.com?utm_source=created-in-deepnote-cell&projectId=200afad5-8991-4e20-8a55-8751c7aff3b5' target=\"_blank\">\n<img alt='Created in deepnote.com' style='display:inline;max-height:16px;margin:0px;margin-right:7.5px;' src='data:image/svg+xml;base64,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' > </img>\nCreated in <span style='font-weight:600;margin-left:4px;'>Deepnote</span></a>",
      "metadata": {
        "created_in_deepnote_cell": true,
        "deepnote_cell_type": "markdown"
      }
    }
  ],
  "nbformat": 4,
  "nbformat_minor": 0,
  "metadata": {
    "deepnote_notebook_id": "9215391101864d27b154732897d1c8d6",
    "deepnote_execution_queue": []
  }
}