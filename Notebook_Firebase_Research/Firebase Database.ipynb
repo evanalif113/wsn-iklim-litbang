{
  "cells": [
    {
      "cell_type": "markdown",
      "source": "",
      "metadata": {
        "formattedRanges": [],
        "cell_id": "2fda7ac10e4c4143a84a078623add657",
        "deepnote_cell_type": "text-cell-p"
      },
      "block_group": "7bf378cdb94f49339a6250ac6d783984"
    },
    {
      "cell_type": "code",
      "source": "!pip install missingno==0.5.2\nimport os\nimport numpy as np\nimport pandas as pd\nimport matplotlib.pyplot as plt\nimport matplotlib.dates as mdates\nimport matplotlib.animation as animation\nimport datetime\nimport seaborn as sns\nimport missingno as msno\nsns.set_theme(style=\"whitegrid\")\n%matplotlib inline ",
      "metadata": {
        "source_hash": "98d3f7a0",
        "execution_start": 1729563117829,
        "execution_millis": 4352,
        "execution_context_id": "6f80f745-3a34-4b38-9666-49acb0b72d47",
        "deepnote_app_block_visible": true,
        "cell_id": "3769cbcd079b4dabb6a92001c1baae11",
        "deepnote_cell_type": "code"
      },
      "outputs": [
        {
          "name": "stdout",
          "text": "Collecting missingno==0.5.2\n  Downloading missingno-0.5.2-py3-none-any.whl.metadata (639 bytes)\nRequirement already satisfied: numpy in /shared-libs/python3.11/py/lib/python3.11/site-packages (from missingno==0.5.2) (1.26.1)\nRequirement already satisfied: matplotlib in /shared-libs/python3.11/py/lib/python3.11/site-packages (from missingno==0.5.2) (3.8.0)\nRequirement already satisfied: scipy in /shared-libs/python3.11/py/lib/python3.11/site-packages (from missingno==0.5.2) (1.11.3)\nRequirement already satisfied: seaborn in /shared-libs/python3.11/py/lib/python3.11/site-packages (from missingno==0.5.2) (0.13.2)\nRequirement already satisfied: contourpy>=1.0.1 in /shared-libs/python3.11/py/lib/python3.11/site-packages (from matplotlib->missingno==0.5.2) (1.1.1)\nRequirement already satisfied: cycler>=0.10 in /shared-libs/python3.11/py/lib/python3.11/site-packages (from matplotlib->missingno==0.5.2) (0.12.1)\nRequirement already satisfied: fonttools>=4.22.0 in /shared-libs/python3.11/py/lib/python3.11/site-packages (from matplotlib->missingno==0.5.2) (4.43.1)\nRequirement already satisfied: kiwisolver>=1.0.1 in /shared-libs/python3.11/py/lib/python3.11/site-packages (from matplotlib->missingno==0.5.2) (1.4.5)\nRequirement already satisfied: packaging>=20.0 in /shared-libs/python3.11/py-core/lib/python3.11/site-packages (from matplotlib->missingno==0.5.2) (23.2)\nRequirement already satisfied: pillow>=6.2.0 in /shared-libs/python3.11/py/lib/python3.11/site-packages (from matplotlib->missingno==0.5.2) (10.1.0)\nRequirement already satisfied: pyparsing>=2.3.1 in /shared-libs/python3.11/py/lib/python3.11/site-packages (from matplotlib->missingno==0.5.2) (3.1.1)\nRequirement already satisfied: python-dateutil>=2.7 in /shared-libs/python3.11/py-core/lib/python3.11/site-packages (from matplotlib->missingno==0.5.2) (2.8.2)\nRequirement already satisfied: pandas>=1.2 in /shared-libs/python3.11/py/lib/python3.11/site-packages (from seaborn->missingno==0.5.2) (2.1.4)\nRequirement already satisfied: pytz>=2020.1 in /shared-libs/python3.11/py/lib/python3.11/site-packages (from pandas>=1.2->seaborn->missingno==0.5.2) (2023.3.post1)\nRequirement already satisfied: tzdata>=2022.1 in /shared-libs/python3.11/py/lib/python3.11/site-packages (from pandas>=1.2->seaborn->missingno==0.5.2) (2024.1)\nRequirement already satisfied: six>=1.5 in /shared-libs/python3.11/py-core/lib/python3.11/site-packages (from python-dateutil>=2.7->matplotlib->missingno==0.5.2) (1.16.0)\nDownloading missingno-0.5.2-py3-none-any.whl (8.7 kB)\nInstalling collected packages: missingno\nSuccessfully installed missingno-0.5.2\n\n\u001b[1m[\u001b[0m\u001b[34;49mnotice\u001b[0m\u001b[1;39;49m]\u001b[0m\u001b[39;49m A new release of pip is available: \u001b[0m\u001b[31;49m24.0\u001b[0m\u001b[39;49m -> \u001b[0m\u001b[32;49m24.2\u001b[0m\n\u001b[1m[\u001b[0m\u001b[34;49mnotice\u001b[0m\u001b[1;39;49m]\u001b[0m\u001b[39;49m To update, run: \u001b[0m\u001b[32;49mpip install --upgrade pip\u001b[0m\n",
          "output_type": "stream"
        }
      ],
      "outputs_reference": null,
      "execution_count": 2,
      "block_group": "fbd610535b7c4fa59e3ea2d1b78c825b",
      "content_dependencies": null
    },
    {
      "cell_type": "code",
      "source": "cuaca = pd.read_json(\"https://staklimjerukagung-default-rtdb.asia-southeast1.firebasedatabase.app/auto_weather_stat/id-03/data.json\")\ngeomagnetik = pd.read_json(\"https://staklimjerukagung-default-rtdb.asia-southeast1.firebasedatabase.app/geomagnetic_stat/id-01/data.json\")",
      "metadata": {
        "source_hash": "9b837c5e",
        "execution_start": 1729563132303,
        "execution_millis": 276419,
        "execution_context_id": "6f80f745-3a34-4b38-9666-49acb0b72d47",
        "deepnote_app_block_visible": true,
        "cell_id": "4a2c75e7ec744be6b7dab84c2d5f7673",
        "deepnote_cell_type": "code"
      },
      "outputs": [],
      "outputs_reference": null,
      "execution_count": 3,
      "block_group": "2403a116062545dcaba4ebf76a48d39b",
      "content_dependencies": null
    },
    {
      "cell_type": "code",
      "source": "cuacaT=cuaca.transpose()\ncuacaT.tail(10)",
      "metadata": {
        "source_hash": "28b00b28",
        "execution_start": 1729563408773,
        "execution_millis": 59,
        "execution_context_id": "6f80f745-3a34-4b38-9666-49acb0b72d47",
        "deepnote_app_block_visible": true,
        "cell_id": "84502c4fd24e47ff8bcdb8547b146081",
        "deepnote_cell_type": "code"
      },
      "outputs": [
        {
          "output_type": "execute_result",
          "execution_count": 4,
          "data": {
            "application/vnd.deepnote.dataframe.v3+json": {
              "column_count": 6,
              "row_count": 10,
              "columns": [
                {
                  "name": "dew",
                  "dtype": "float64",
                  "stats": {
                    "unique_count": 10,
                    "nan_count": 0,
                    "min": "25.97",
                    "max": "26.33",
                    "histogram": [
                      {
                        "bin_start": 25.97,
                        "bin_end": 26.006,
                        "count": 2
                      },
                      {
                        "bin_start": 26.006,
                        "bin_end": 26.041999999999998,
                        "count": 1
                      },
                      {
                        "bin_start": 26.041999999999998,
                        "bin_end": 26.078,
                        "count": 0
                      },
                      {
                        "bin_start": 26.078,
                        "bin_end": 26.113999999999997,
                        "count": 2
                      },
                      {
                        "bin_start": 26.113999999999997,
                        "bin_end": 26.15,
                        "count": 1
                      },
                      {
                        "bin_start": 26.15,
                        "bin_end": 26.186,
                        "count": 1
                      },
                      {
                        "bin_start": 26.186,
                        "bin_end": 26.221999999999998,
                        "count": 2
                      },
                      {
                        "bin_start": 26.221999999999998,
                        "bin_end": 26.258,
                        "count": 0
                      },
                      {
                        "bin_start": 26.258,
                        "bin_end": 26.293999999999997,
                        "count": 0
                      },
                      {
                        "bin_start": 26.293999999999997,
                        "bin_end": 26.33,
                        "count": 1
                      }
                    ]
                  }
                },
                {
                  "name": "humidity",
                  "dtype": "float64",
                  "stats": {
                    "unique_count": 10,
                    "nan_count": 0,
                    "min": "75.9",
                    "max": "77.8",
                    "histogram": [
                      {
                        "bin_start": 75.9,
                        "bin_end": 76.09,
                        "count": 1
                      },
                      {
                        "bin_start": 76.09,
                        "bin_end": 76.28,
                        "count": 1
                      },
                      {
                        "bin_start": 76.28,
                        "bin_end": 76.47,
                        "count": 1
                      },
                      {
                        "bin_start": 76.47,
                        "bin_end": 76.66,
                        "count": 0
                      },
                      {
                        "bin_start": 76.66,
                        "bin_end": 76.85,
                        "count": 1
                      },
                      {
                        "bin_start": 76.85,
                        "bin_end": 77.04,
                        "count": 1
                      },
                      {
                        "bin_start": 77.04,
                        "bin_end": 77.23,
                        "count": 1
                      },
                      {
                        "bin_start": 77.23,
                        "bin_end": 77.42,
                        "count": 1
                      },
                      {
                        "bin_start": 77.42,
                        "bin_end": 77.61,
                        "count": 1
                      },
                      {
                        "bin_start": 77.61,
                        "bin_end": 77.8,
                        "count": 2
                      }
                    ]
                  }
                },
                {
                  "name": "pressure",
                  "dtype": "float64",
                  "stats": {
                    "unique_count": 8,
                    "nan_count": 0,
                    "min": "1013.64",
                    "max": "1013.77",
                    "histogram": [
                      {
                        "bin_start": 1013.64,
                        "bin_end": 1013.653,
                        "count": 1
                      },
                      {
                        "bin_start": 1013.653,
                        "bin_end": 1013.6659999999999,
                        "count": 0
                      },
                      {
                        "bin_start": 1013.6659999999999,
                        "bin_end": 1013.679,
                        "count": 1
                      },
                      {
                        "bin_start": 1013.679,
                        "bin_end": 1013.692,
                        "count": 1
                      },
                      {
                        "bin_start": 1013.692,
                        "bin_end": 1013.7049999999999,
                        "count": 0
                      },
                      {
                        "bin_start": 1013.7049999999999,
                        "bin_end": 1013.718,
                        "count": 0
                      },
                      {
                        "bin_start": 1013.718,
                        "bin_end": 1013.731,
                        "count": 2
                      },
                      {
                        "bin_start": 1013.731,
                        "bin_end": 1013.744,
                        "count": 1
                      },
                      {
                        "bin_start": 1013.744,
                        "bin_end": 1013.757,
                        "count": 0
                      },
                      {
                        "bin_start": 1013.757,
                        "bin_end": 1013.77,
                        "count": 4
                      }
                    ]
                  }
                },
                {
                  "name": "temperature",
                  "dtype": "float64",
                  "stats": {
                    "unique_count": 9,
                    "nan_count": 0,
                    "min": "30.52",
                    "max": "30.71",
                    "histogram": [
                      {
                        "bin_start": 30.52,
                        "bin_end": 30.539,
                        "count": 1
                      },
                      {
                        "bin_start": 30.539,
                        "bin_end": 30.558,
                        "count": 1
                      },
                      {
                        "bin_start": 30.558,
                        "bin_end": 30.576999999999998,
                        "count": 2
                      },
                      {
                        "bin_start": 30.576999999999998,
                        "bin_end": 30.596,
                        "count": 0
                      },
                      {
                        "bin_start": 30.596,
                        "bin_end": 30.615000000000002,
                        "count": 0
                      },
                      {
                        "bin_start": 30.615000000000002,
                        "bin_end": 30.634,
                        "count": 0
                      },
                      {
                        "bin_start": 30.634,
                        "bin_end": 30.653,
                        "count": 1
                      },
                      {
                        "bin_start": 30.653,
                        "bin_end": 30.672,
                        "count": 1
                      },
                      {
                        "bin_start": 30.672,
                        "bin_end": 30.691000000000003,
                        "count": 2
                      },
                      {
                        "bin_start": 30.691000000000003,
                        "bin_end": 30.71,
                        "count": 2
                      }
                    ]
                  }
                },
                {
                  "name": "timestamp",
                  "dtype": "float64",
                  "stats": {
                    "unique_count": 10,
                    "nan_count": 0,
                    "min": "1729562564.0",
                    "max": "1729563104.0",
                    "histogram": [
                      {
                        "bin_start": 1729562564,
                        "bin_end": 1729562618,
                        "count": 1
                      },
                      {
                        "bin_start": 1729562618,
                        "bin_end": 1729562672,
                        "count": 1
                      },
                      {
                        "bin_start": 1729562672,
                        "bin_end": 1729562726,
                        "count": 1
                      },
                      {
                        "bin_start": 1729562726,
                        "bin_end": 1729562780,
                        "count": 1
                      },
                      {
                        "bin_start": 1729562780,
                        "bin_end": 1729562834,
                        "count": 1
                      },
                      {
                        "bin_start": 1729562834,
                        "bin_end": 1729562888,
                        "count": 1
                      },
                      {
                        "bin_start": 1729562888,
                        "bin_end": 1729562942,
                        "count": 1
                      },
                      {
                        "bin_start": 1729562942,
                        "bin_end": 1729562996,
                        "count": 1
                      },
                      {
                        "bin_start": 1729562996,
                        "bin_end": 1729563050,
                        "count": 1
                      },
                      {
                        "bin_start": 1729563050,
                        "bin_end": 1729563104,
                        "count": 1
                      }
                    ]
                  }
                },
                {
                  "name": "volt",
                  "dtype": "float64",
                  "stats": {
                    "unique_count": 2,
                    "nan_count": 0,
                    "min": "4.12",
                    "max": "4.13",
                    "histogram": [
                      {
                        "bin_start": 4.12,
                        "bin_end": 4.121,
                        "count": 4
                      },
                      {
                        "bin_start": 4.121,
                        "bin_end": 4.122,
                        "count": 0
                      },
                      {
                        "bin_start": 4.122,
                        "bin_end": 4.123,
                        "count": 0
                      },
                      {
                        "bin_start": 4.123,
                        "bin_end": 4.124,
                        "count": 0
                      },
                      {
                        "bin_start": 4.124,
                        "bin_end": 4.125,
                        "count": 0
                      },
                      {
                        "bin_start": 4.125,
                        "bin_end": 4.126,
                        "count": 0
                      },
                      {
                        "bin_start": 4.126,
                        "bin_end": 4.127,
                        "count": 0
                      },
                      {
                        "bin_start": 4.127,
                        "bin_end": 4.128,
                        "count": 0
                      },
                      {
                        "bin_start": 4.128,
                        "bin_end": 4.129,
                        "count": 0
                      },
                      {
                        "bin_start": 4.129,
                        "bin_end": 4.13,
                        "count": 6
                      }
                    ]
                  }
                },
                {
                  "name": "_deepnote_index_column",
                  "dtype": "int64"
                }
              ],
              "rows": [
                {
                  "dew": 26.08,
                  "humidity": 77.14,
                  "pressure": 1013.77,
                  "temperature": 30.54,
                  "timestamp": 1729562564,
                  "volt": 4.13,
                  "_deepnote_index_column": 1729562564
                },
                {
                  "dew": 26.09,
                  "humidity": 77.28,
                  "pressure": 1013.73,
                  "temperature": 30.52,
                  "timestamp": 1729562624,
                  "volt": 4.13,
                  "_deepnote_index_column": 1729562624
                },
                {
                  "dew": 26.21,
                  "humidity": 77.66,
                  "pressure": 1013.74,
                  "temperature": 30.56,
                  "timestamp": 1729562684,
                  "volt": 4.12,
                  "_deepnote_index_column": 1729562684
                },
                {
                  "dew": 26.2,
                  "humidity": 77.54,
                  "pressure": 1013.76,
                  "temperature": 30.57,
                  "timestamp": 1729562744,
                  "volt": 4.13,
                  "_deepnote_index_column": 1729562744
                },
                {
                  "dew": 26.33,
                  "humidity": 77.8,
                  "pressure": 1013.76,
                  "temperature": 30.65,
                  "timestamp": 1729562804,
                  "volt": 4.13,
                  "_deepnote_index_column": 1729562804
                },
                {
                  "dew": 26.13,
                  "humidity": 76.78,
                  "pressure": 1013.72,
                  "temperature": 30.67,
                  "timestamp": 1729562864,
                  "volt": 4.12,
                  "_deepnote_index_column": 1729562864
                },
                {
                  "dew": 26.18,
                  "humidity": 76.9,
                  "pressure": 1013.76,
                  "temperature": 30.7,
                  "timestamp": 1729562924,
                  "volt": 4.12,
                  "_deepnote_index_column": 1729562924
                },
                {
                  "dew": 25.99,
                  "humidity": 76.14,
                  "pressure": 1013.67,
                  "temperature": 30.68,
                  "timestamp": 1729562984,
                  "volt": 4.12,
                  "_deepnote_index_column": 1729562984
                },
                {
                  "dew": 25.97,
                  "humidity": 75.9,
                  "pressure": 1013.69,
                  "temperature": 30.71,
                  "timestamp": 1729563044,
                  "volt": 4.13,
                  "_deepnote_index_column": 1729563044
                },
                {
                  "dew": 26.04,
                  "humidity": 76.37,
                  "pressure": 1013.64,
                  "temperature": 30.68,
                  "timestamp": 1729563104,
                  "volt": 4.13,
                  "_deepnote_index_column": 1729563104
                }
              ]
            },
            "text/plain": "              dew  humidity  pressure  temperature     timestamp  volt\n1729562564  26.08     77.14   1013.77        30.54  1.729563e+09  4.13\n1729562624  26.09     77.28   1013.73        30.52  1.729563e+09  4.13\n1729562684  26.21     77.66   1013.74        30.56  1.729563e+09  4.12\n1729562744  26.20     77.54   1013.76        30.57  1.729563e+09  4.13\n1729562804  26.33     77.80   1013.76        30.65  1.729563e+09  4.13\n1729562864  26.13     76.78   1013.72        30.67  1.729563e+09  4.12\n1729562924  26.18     76.90   1013.76        30.70  1.729563e+09  4.12\n1729562984  25.99     76.14   1013.67        30.68  1.729563e+09  4.12\n1729563044  25.97     75.90   1013.69        30.71  1.729563e+09  4.13\n1729563104  26.04     76.37   1013.64        30.68  1.729563e+09  4.13",
            "text/html": "<div>\n<style scoped>\n    .dataframe tbody tr th:only-of-type {\n        vertical-align: middle;\n    }\n\n    .dataframe tbody tr th {\n        vertical-align: top;\n    }\n\n    .dataframe thead th {\n        text-align: right;\n    }\n</style>\n<table border=\"1\" class=\"dataframe\">\n  <thead>\n    <tr style=\"text-align: right;\">\n      <th></th>\n      <th>dew</th>\n      <th>humidity</th>\n      <th>pressure</th>\n      <th>temperature</th>\n      <th>timestamp</th>\n      <th>volt</th>\n    </tr>\n  </thead>\n  <tbody>\n    <tr>\n      <th>1729562564</th>\n      <td>26.08</td>\n      <td>77.14</td>\n      <td>1013.77</td>\n      <td>30.54</td>\n      <td>1.729563e+09</td>\n      <td>4.13</td>\n    </tr>\n    <tr>\n      <th>1729562624</th>\n      <td>26.09</td>\n      <td>77.28</td>\n      <td>1013.73</td>\n      <td>30.52</td>\n      <td>1.729563e+09</td>\n      <td>4.13</td>\n    </tr>\n    <tr>\n      <th>1729562684</th>\n      <td>26.21</td>\n      <td>77.66</td>\n      <td>1013.74</td>\n      <td>30.56</td>\n      <td>1.729563e+09</td>\n      <td>4.12</td>\n    </tr>\n    <tr>\n      <th>1729562744</th>\n      <td>26.20</td>\n      <td>77.54</td>\n      <td>1013.76</td>\n      <td>30.57</td>\n      <td>1.729563e+09</td>\n      <td>4.13</td>\n    </tr>\n    <tr>\n      <th>1729562804</th>\n      <td>26.33</td>\n      <td>77.80</td>\n      <td>1013.76</td>\n      <td>30.65</td>\n      <td>1.729563e+09</td>\n      <td>4.13</td>\n    </tr>\n    <tr>\n      <th>1729562864</th>\n      <td>26.13</td>\n      <td>76.78</td>\n      <td>1013.72</td>\n      <td>30.67</td>\n      <td>1.729563e+09</td>\n      <td>4.12</td>\n    </tr>\n    <tr>\n      <th>1729562924</th>\n      <td>26.18</td>\n      <td>76.90</td>\n      <td>1013.76</td>\n      <td>30.70</td>\n      <td>1.729563e+09</td>\n      <td>4.12</td>\n    </tr>\n    <tr>\n      <th>1729562984</th>\n      <td>25.99</td>\n      <td>76.14</td>\n      <td>1013.67</td>\n      <td>30.68</td>\n      <td>1.729563e+09</td>\n      <td>4.12</td>\n    </tr>\n    <tr>\n      <th>1729563044</th>\n      <td>25.97</td>\n      <td>75.90</td>\n      <td>1013.69</td>\n      <td>30.71</td>\n      <td>1.729563e+09</td>\n      <td>4.13</td>\n    </tr>\n    <tr>\n      <th>1729563104</th>\n      <td>26.04</td>\n      <td>76.37</td>\n      <td>1013.64</td>\n      <td>30.68</td>\n      <td>1.729563e+09</td>\n      <td>4.13</td>\n    </tr>\n  </tbody>\n</table>\n</div>"
          },
          "metadata": {}
        }
      ],
      "outputs_reference": null,
      "execution_count": 4,
      "block_group": "9eaef3b64382497991a088a02fb5cb12",
      "content_dependencies": null
    },
    {
      "cell_type": "code",
      "source": "cuacaT.describe()",
      "metadata": {
        "source_hash": "268dd9c1",
        "execution_start": 1729563408881,
        "execution_millis": 88,
        "execution_context_id": "6f80f745-3a34-4b38-9666-49acb0b72d47",
        "deepnote_app_block_visible": true,
        "cell_id": "f6a6fefb0e6948bdb3cc533706d358e7",
        "deepnote_cell_type": "code"
      },
      "outputs": [
        {
          "output_type": "execute_result",
          "execution_count": 5,
          "data": {
            "application/vnd.deepnote.dataframe.v3+json": {
              "column_count": 6,
              "row_count": 8,
              "columns": [
                {
                  "name": "dew",
                  "dtype": "float64",
                  "stats": {
                    "unique_count": 8,
                    "nan_count": 0,
                    "min": "1.498017884931531",
                    "max": "441031.0",
                    "histogram": [
                      {
                        "bin_start": 1.498017884931531,
                        "bin_end": 44104.44821609644,
                        "count": 7
                      },
                      {
                        "bin_start": 44104.44821609644,
                        "bin_end": 88207.39841430796,
                        "count": 0
                      },
                      {
                        "bin_start": 88207.39841430796,
                        "bin_end": 132310.34861251948,
                        "count": 0
                      },
                      {
                        "bin_start": 132310.34861251948,
                        "bin_end": 176413.29881073098,
                        "count": 0
                      },
                      {
                        "bin_start": 176413.29881073098,
                        "bin_end": 220516.24900894248,
                        "count": 0
                      },
                      {
                        "bin_start": 220516.24900894248,
                        "bin_end": 264619.199207154,
                        "count": 0
                      },
                      {
                        "bin_start": 264619.199207154,
                        "bin_end": 308722.14940536546,
                        "count": 0
                      },
                      {
                        "bin_start": 308722.14940536546,
                        "bin_end": 352825.099603577,
                        "count": 0
                      },
                      {
                        "bin_start": 352825.099603577,
                        "bin_end": 396928.0498017885,
                        "count": 0
                      },
                      {
                        "bin_start": 396928.0498017885,
                        "bin_end": 441031,
                        "count": 1
                      }
                    ]
                  }
                },
                {
                  "name": "humidity",
                  "dtype": "float64",
                  "stats": {
                    "unique_count": 8,
                    "nan_count": 0,
                    "min": "0.0",
                    "max": "441032.0",
                    "histogram": [
                      {
                        "bin_start": 0,
                        "bin_end": 44103.2,
                        "count": 7
                      },
                      {
                        "bin_start": 44103.2,
                        "bin_end": 88206.4,
                        "count": 0
                      },
                      {
                        "bin_start": 88206.4,
                        "bin_end": 132309.59999999998,
                        "count": 0
                      },
                      {
                        "bin_start": 132309.59999999998,
                        "bin_end": 176412.8,
                        "count": 0
                      },
                      {
                        "bin_start": 176412.8,
                        "bin_end": 220516,
                        "count": 0
                      },
                      {
                        "bin_start": 220516,
                        "bin_end": 264619.19999999995,
                        "count": 0
                      },
                      {
                        "bin_start": 264619.19999999995,
                        "bin_end": 308722.39999999997,
                        "count": 0
                      },
                      {
                        "bin_start": 308722.39999999997,
                        "bin_end": 352825.6,
                        "count": 0
                      },
                      {
                        "bin_start": 352825.6,
                        "bin_end": 396928.8,
                        "count": 0
                      },
                      {
                        "bin_start": 396928.8,
                        "bin_end": 441032,
                        "count": 1
                      }
                    ]
                  }
                },
                {
                  "name": "pressure",
                  "dtype": "float64",
                  "stats": {
                    "unique_count": 8,
                    "nan_count": 0,
                    "min": "-9.05",
                    "max": "441032.0",
                    "histogram": [
                      {
                        "bin_start": -9.05,
                        "bin_end": 44095.05499999999,
                        "count": 7
                      },
                      {
                        "bin_start": 44095.05499999999,
                        "bin_end": 88199.15999999999,
                        "count": 0
                      },
                      {
                        "bin_start": 88199.15999999999,
                        "bin_end": 132303.265,
                        "count": 0
                      },
                      {
                        "bin_start": 132303.265,
                        "bin_end": 176407.37,
                        "count": 0
                      },
                      {
                        "bin_start": 176407.37,
                        "bin_end": 220511.47499999998,
                        "count": 0
                      },
                      {
                        "bin_start": 220511.47499999998,
                        "bin_end": 264615.58,
                        "count": 0
                      },
                      {
                        "bin_start": 264615.58,
                        "bin_end": 308719.685,
                        "count": 0
                      },
                      {
                        "bin_start": 308719.685,
                        "bin_end": 352823.79,
                        "count": 0
                      },
                      {
                        "bin_start": 352823.79,
                        "bin_end": 396927.89499999996,
                        "count": 0
                      },
                      {
                        "bin_start": 396927.89499999996,
                        "bin_end": 441032,
                        "count": 1
                      }
                    ]
                  }
                },
                {
                  "name": "temperature",
                  "dtype": "float64",
                  "stats": {
                    "unique_count": 8,
                    "nan_count": 0,
                    "min": "0.02",
                    "max": "441032.0",
                    "histogram": [
                      {
                        "bin_start": 0.02,
                        "bin_end": 44103.21799999999,
                        "count": 7
                      },
                      {
                        "bin_start": 44103.21799999999,
                        "bin_end": 88206.416,
                        "count": 0
                      },
                      {
                        "bin_start": 88206.416,
                        "bin_end": 132309.61399999997,
                        "count": 0
                      },
                      {
                        "bin_start": 132309.61399999997,
                        "bin_end": 176412.81199999998,
                        "count": 0
                      },
                      {
                        "bin_start": 176412.81199999998,
                        "bin_end": 220516.00999999998,
                        "count": 0
                      },
                      {
                        "bin_start": 220516.00999999998,
                        "bin_end": 264619.208,
                        "count": 0
                      },
                      {
                        "bin_start": 264619.208,
                        "bin_end": 308722.406,
                        "count": 0
                      },
                      {
                        "bin_start": 308722.406,
                        "bin_end": 352825.604,
                        "count": 0
                      },
                      {
                        "bin_start": 352825.604,
                        "bin_end": 396928.80199999997,
                        "count": 0
                      },
                      {
                        "bin_start": 396928.80199999997,
                        "bin_end": 441032,
                        "count": 1
                      }
                    ]
                  }
                },
                {
                  "name": "timestamp",
                  "dtype": "float64",
                  "stats": {
                    "unique_count": 8,
                    "nan_count": 0,
                    "min": "0.0",
                    "max": "1729563104.0",
                    "histogram": [
                      {
                        "bin_start": 0,
                        "bin_end": 172956310.4,
                        "count": 3
                      },
                      {
                        "bin_start": 172956310.4,
                        "bin_end": 345912620.8,
                        "count": 0
                      },
                      {
                        "bin_start": 345912620.8,
                        "bin_end": 518868931.20000005,
                        "count": 0
                      },
                      {
                        "bin_start": 518868931.20000005,
                        "bin_end": 691825241.6,
                        "count": 0
                      },
                      {
                        "bin_start": 691825241.6,
                        "bin_end": 864781552,
                        "count": 0
                      },
                      {
                        "bin_start": 864781552,
                        "bin_end": 1037737862.4000001,
                        "count": 0
                      },
                      {
                        "bin_start": 1037737862.4000001,
                        "bin_end": 1210694172.8,
                        "count": 0
                      },
                      {
                        "bin_start": 1210694172.8,
                        "bin_end": 1383650483.2,
                        "count": 0
                      },
                      {
                        "bin_start": 1383650483.2,
                        "bin_end": 1556606793.6000001,
                        "count": 0
                      },
                      {
                        "bin_start": 1556606793.6000001,
                        "bin_end": 1729563104,
                        "count": 5
                      }
                    ]
                  }
                },
                {
                  "name": "volt",
                  "dtype": "float64",
                  "stats": {
                    "unique_count": 8,
                    "nan_count": 0,
                    "min": "0.0",
                    "max": "441032.0",
                    "histogram": [
                      {
                        "bin_start": 0,
                        "bin_end": 44103.2,
                        "count": 7
                      },
                      {
                        "bin_start": 44103.2,
                        "bin_end": 88206.4,
                        "count": 0
                      },
                      {
                        "bin_start": 88206.4,
                        "bin_end": 132309.59999999998,
                        "count": 0
                      },
                      {
                        "bin_start": 132309.59999999998,
                        "bin_end": 176412.8,
                        "count": 0
                      },
                      {
                        "bin_start": 176412.8,
                        "bin_end": 220516,
                        "count": 0
                      },
                      {
                        "bin_start": 220516,
                        "bin_end": 264619.19999999995,
                        "count": 0
                      },
                      {
                        "bin_start": 264619.19999999995,
                        "bin_end": 308722.39999999997,
                        "count": 0
                      },
                      {
                        "bin_start": 308722.39999999997,
                        "bin_end": 352825.6,
                        "count": 0
                      },
                      {
                        "bin_start": 352825.6,
                        "bin_end": 396928.8,
                        "count": 0
                      },
                      {
                        "bin_start": 396928.8,
                        "bin_end": 441032,
                        "count": 1
                      }
                    ]
                  }
                },
                {
                  "name": "_deepnote_index_column",
                  "dtype": "object"
                }
              ],
              "rows": [
                {
                  "dew": 441031,
                  "humidity": 441032,
                  "pressure": 441032,
                  "temperature": 441032,
                  "timestamp": 441032,
                  "volt": 441032,
                  "_deepnote_index_column": "count"
                },
                {
                  "dew": 25.026383111391258,
                  "humidity": 85.58535074552414,
                  "pressure": 1008.8928307923237,
                  "temperature": 27.852376811659923,
                  "timestamp": 1716005465.122506,
                  "volt": 4.090741805583268,
                  "_deepnote_index_column": "mean"
                },
                {
                  "dew": 1.498017884931531,
                  "humidity": 11.098671755486036,
                  "pressure": 51.16885780514037,
                  "temperature": 3.2616467792580157,
                  "timestamp": 8279079.017047899,
                  "volt": 0.03106368257257927,
                  "_deepnote_index_column": "std"
                },
                {
                  "dew": 17.67,
                  "humidity": 0,
                  "pressure": -9.05,
                  "temperature": 0.02,
                  "timestamp": 0,
                  "volt": 0,
                  "_deepnote_index_column": "min"
                },
                {
                  "dew": 24.16,
                  "humidity": 76.78,
                  "pressure": 1010.22,
                  "temperature": 25.44,
                  "timestamp": 1709110857.75,
                  "volt": 4.07,
                  "_deepnote_index_column": "25%"
                },
                {
                  "dew": 25.12,
                  "humidity": 89.93,
                  "pressure": 1011.51,
                  "temperature": 26.99,
                  "timestamp": 1716093199,
                  "volt": 4.09,
                  "_deepnote_index_column": "50%"
                },
                {
                  "dew": 26.06,
                  "humidity": 94.64,
                  "pressure": 1012.78,
                  "temperature": 30.33,
                  "timestamp": 1722806534.25,
                  "volt": 4.12,
                  "_deepnote_index_column": "75%"
                },
                {
                  "dew": 29.7,
                  "humidity": 99.58,
                  "pressure": 1016.53,
                  "temperature": 41.12,
                  "timestamp": 1729563104,
                  "volt": 4.17,
                  "_deepnote_index_column": "max"
                }
              ]
            },
            "text/plain": "                 dew       humidity       pressure    temperature  \\\ncount  441031.000000  441032.000000  441032.000000  441032.000000   \nmean       25.026383      85.585351    1008.892831      27.852377   \nstd         1.498018      11.098672      51.168858       3.261647   \nmin        17.670000       0.000000      -9.050000       0.020000   \n25%        24.160000      76.780000    1010.220000      25.440000   \n50%        25.120000      89.930000    1011.510000      26.990000   \n75%        26.060000      94.640000    1012.780000      30.330000   \nmax        29.700000      99.580000    1016.530000      41.120000   \n\n          timestamp           volt  \ncount  4.410320e+05  441032.000000  \nmean   1.716005e+09       4.090742  \nstd    8.279079e+06       0.031064  \nmin    0.000000e+00       0.000000  \n25%    1.709111e+09       4.070000  \n50%    1.716093e+09       4.090000  \n75%    1.722807e+09       4.120000  \nmax    1.729563e+09       4.170000  ",
            "text/html": "<div>\n<style scoped>\n    .dataframe tbody tr th:only-of-type {\n        vertical-align: middle;\n    }\n\n    .dataframe tbody tr th {\n        vertical-align: top;\n    }\n\n    .dataframe thead th {\n        text-align: right;\n    }\n</style>\n<table border=\"1\" class=\"dataframe\">\n  <thead>\n    <tr style=\"text-align: right;\">\n      <th></th>\n      <th>dew</th>\n      <th>humidity</th>\n      <th>pressure</th>\n      <th>temperature</th>\n      <th>timestamp</th>\n      <th>volt</th>\n    </tr>\n  </thead>\n  <tbody>\n    <tr>\n      <th>count</th>\n      <td>441031.000000</td>\n      <td>441032.000000</td>\n      <td>441032.000000</td>\n      <td>441032.000000</td>\n      <td>4.410320e+05</td>\n      <td>441032.000000</td>\n    </tr>\n    <tr>\n      <th>mean</th>\n      <td>25.026383</td>\n      <td>85.585351</td>\n      <td>1008.892831</td>\n      <td>27.852377</td>\n      <td>1.716005e+09</td>\n      <td>4.090742</td>\n    </tr>\n    <tr>\n      <th>std</th>\n      <td>1.498018</td>\n      <td>11.098672</td>\n      <td>51.168858</td>\n      <td>3.261647</td>\n      <td>8.279079e+06</td>\n      <td>0.031064</td>\n    </tr>\n    <tr>\n      <th>min</th>\n      <td>17.670000</td>\n      <td>0.000000</td>\n      <td>-9.050000</td>\n      <td>0.020000</td>\n      <td>0.000000e+00</td>\n      <td>0.000000</td>\n    </tr>\n    <tr>\n      <th>25%</th>\n      <td>24.160000</td>\n      <td>76.780000</td>\n      <td>1010.220000</td>\n      <td>25.440000</td>\n      <td>1.709111e+09</td>\n      <td>4.070000</td>\n    </tr>\n    <tr>\n      <th>50%</th>\n      <td>25.120000</td>\n      <td>89.930000</td>\n      <td>1011.510000</td>\n      <td>26.990000</td>\n      <td>1.716093e+09</td>\n      <td>4.090000</td>\n    </tr>\n    <tr>\n      <th>75%</th>\n      <td>26.060000</td>\n      <td>94.640000</td>\n      <td>1012.780000</td>\n      <td>30.330000</td>\n      <td>1.722807e+09</td>\n      <td>4.120000</td>\n    </tr>\n    <tr>\n      <th>max</th>\n      <td>29.700000</td>\n      <td>99.580000</td>\n      <td>1016.530000</td>\n      <td>41.120000</td>\n      <td>1.729563e+09</td>\n      <td>4.170000</td>\n    </tr>\n  </tbody>\n</table>\n</div>"
          },
          "metadata": {}
        }
      ],
      "outputs_reference": null,
      "execution_count": 5,
      "block_group": "1885e97fc9cc408b9c8ca9036093cf77",
      "content_dependencies": null
    },
    {
      "cell_type": "code",
      "source": "cuacaT['timestamp']= cuacaT['timestamp'].astype(int)\ncuacaT.tail(10)",
      "metadata": {
        "source_hash": "d8b7005c",
        "execution_start": 1729563409017,
        "execution_millis": 1,
        "execution_context_id": "6f80f745-3a34-4b38-9666-49acb0b72d47",
        "deepnote_app_block_visible": true,
        "cell_id": "cb68d133491d4afaa68cc3d722b121c9",
        "deepnote_cell_type": "code"
      },
      "outputs": [
        {
          "output_type": "execute_result",
          "execution_count": 6,
          "data": {
            "application/vnd.deepnote.dataframe.v3+json": {
              "column_count": 6,
              "row_count": 10,
              "columns": [
                {
                  "name": "dew",
                  "dtype": "float64",
                  "stats": {
                    "unique_count": 10,
                    "nan_count": 0,
                    "min": "25.97",
                    "max": "26.33",
                    "histogram": [
                      {
                        "bin_start": 25.97,
                        "bin_end": 26.006,
                        "count": 2
                      },
                      {
                        "bin_start": 26.006,
                        "bin_end": 26.041999999999998,
                        "count": 1
                      },
                      {
                        "bin_start": 26.041999999999998,
                        "bin_end": 26.078,
                        "count": 0
                      },
                      {
                        "bin_start": 26.078,
                        "bin_end": 26.113999999999997,
                        "count": 2
                      },
                      {
                        "bin_start": 26.113999999999997,
                        "bin_end": 26.15,
                        "count": 1
                      },
                      {
                        "bin_start": 26.15,
                        "bin_end": 26.186,
                        "count": 1
                      },
                      {
                        "bin_start": 26.186,
                        "bin_end": 26.221999999999998,
                        "count": 2
                      },
                      {
                        "bin_start": 26.221999999999998,
                        "bin_end": 26.258,
                        "count": 0
                      },
                      {
                        "bin_start": 26.258,
                        "bin_end": 26.293999999999997,
                        "count": 0
                      },
                      {
                        "bin_start": 26.293999999999997,
                        "bin_end": 26.33,
                        "count": 1
                      }
                    ]
                  }
                },
                {
                  "name": "humidity",
                  "dtype": "float64",
                  "stats": {
                    "unique_count": 10,
                    "nan_count": 0,
                    "min": "75.9",
                    "max": "77.8",
                    "histogram": [
                      {
                        "bin_start": 75.9,
                        "bin_end": 76.09,
                        "count": 1
                      },
                      {
                        "bin_start": 76.09,
                        "bin_end": 76.28,
                        "count": 1
                      },
                      {
                        "bin_start": 76.28,
                        "bin_end": 76.47,
                        "count": 1
                      },
                      {
                        "bin_start": 76.47,
                        "bin_end": 76.66,
                        "count": 0
                      },
                      {
                        "bin_start": 76.66,
                        "bin_end": 76.85,
                        "count": 1
                      },
                      {
                        "bin_start": 76.85,
                        "bin_end": 77.04,
                        "count": 1
                      },
                      {
                        "bin_start": 77.04,
                        "bin_end": 77.23,
                        "count": 1
                      },
                      {
                        "bin_start": 77.23,
                        "bin_end": 77.42,
                        "count": 1
                      },
                      {
                        "bin_start": 77.42,
                        "bin_end": 77.61,
                        "count": 1
                      },
                      {
                        "bin_start": 77.61,
                        "bin_end": 77.8,
                        "count": 2
                      }
                    ]
                  }
                },
                {
                  "name": "pressure",
                  "dtype": "float64",
                  "stats": {
                    "unique_count": 8,
                    "nan_count": 0,
                    "min": "1013.64",
                    "max": "1013.77",
                    "histogram": [
                      {
                        "bin_start": 1013.64,
                        "bin_end": 1013.653,
                        "count": 1
                      },
                      {
                        "bin_start": 1013.653,
                        "bin_end": 1013.6659999999999,
                        "count": 0
                      },
                      {
                        "bin_start": 1013.6659999999999,
                        "bin_end": 1013.679,
                        "count": 1
                      },
                      {
                        "bin_start": 1013.679,
                        "bin_end": 1013.692,
                        "count": 1
                      },
                      {
                        "bin_start": 1013.692,
                        "bin_end": 1013.7049999999999,
                        "count": 0
                      },
                      {
                        "bin_start": 1013.7049999999999,
                        "bin_end": 1013.718,
                        "count": 0
                      },
                      {
                        "bin_start": 1013.718,
                        "bin_end": 1013.731,
                        "count": 2
                      },
                      {
                        "bin_start": 1013.731,
                        "bin_end": 1013.744,
                        "count": 1
                      },
                      {
                        "bin_start": 1013.744,
                        "bin_end": 1013.757,
                        "count": 0
                      },
                      {
                        "bin_start": 1013.757,
                        "bin_end": 1013.77,
                        "count": 4
                      }
                    ]
                  }
                },
                {
                  "name": "temperature",
                  "dtype": "float64",
                  "stats": {
                    "unique_count": 9,
                    "nan_count": 0,
                    "min": "30.52",
                    "max": "30.71",
                    "histogram": [
                      {
                        "bin_start": 30.52,
                        "bin_end": 30.539,
                        "count": 1
                      },
                      {
                        "bin_start": 30.539,
                        "bin_end": 30.558,
                        "count": 1
                      },
                      {
                        "bin_start": 30.558,
                        "bin_end": 30.576999999999998,
                        "count": 2
                      },
                      {
                        "bin_start": 30.576999999999998,
                        "bin_end": 30.596,
                        "count": 0
                      },
                      {
                        "bin_start": 30.596,
                        "bin_end": 30.615000000000002,
                        "count": 0
                      },
                      {
                        "bin_start": 30.615000000000002,
                        "bin_end": 30.634,
                        "count": 0
                      },
                      {
                        "bin_start": 30.634,
                        "bin_end": 30.653,
                        "count": 1
                      },
                      {
                        "bin_start": 30.653,
                        "bin_end": 30.672,
                        "count": 1
                      },
                      {
                        "bin_start": 30.672,
                        "bin_end": 30.691000000000003,
                        "count": 2
                      },
                      {
                        "bin_start": 30.691000000000003,
                        "bin_end": 30.71,
                        "count": 2
                      }
                    ]
                  }
                },
                {
                  "name": "timestamp",
                  "dtype": "int64",
                  "stats": {
                    "unique_count": 10,
                    "nan_count": 0,
                    "min": "1729562564",
                    "max": "1729563104",
                    "histogram": [
                      {
                        "bin_start": 1729562564,
                        "bin_end": 1729562618,
                        "count": 1
                      },
                      {
                        "bin_start": 1729562618,
                        "bin_end": 1729562672,
                        "count": 1
                      },
                      {
                        "bin_start": 1729562672,
                        "bin_end": 1729562726,
                        "count": 1
                      },
                      {
                        "bin_start": 1729562726,
                        "bin_end": 1729562780,
                        "count": 1
                      },
                      {
                        "bin_start": 1729562780,
                        "bin_end": 1729562834,
                        "count": 1
                      },
                      {
                        "bin_start": 1729562834,
                        "bin_end": 1729562888,
                        "count": 1
                      },
                      {
                        "bin_start": 1729562888,
                        "bin_end": 1729562942,
                        "count": 1
                      },
                      {
                        "bin_start": 1729562942,
                        "bin_end": 1729562996,
                        "count": 1
                      },
                      {
                        "bin_start": 1729562996,
                        "bin_end": 1729563050,
                        "count": 1
                      },
                      {
                        "bin_start": 1729563050,
                        "bin_end": 1729563104,
                        "count": 1
                      }
                    ]
                  }
                },
                {
                  "name": "volt",
                  "dtype": "float64",
                  "stats": {
                    "unique_count": 2,
                    "nan_count": 0,
                    "min": "4.12",
                    "max": "4.13",
                    "histogram": [
                      {
                        "bin_start": 4.12,
                        "bin_end": 4.121,
                        "count": 4
                      },
                      {
                        "bin_start": 4.121,
                        "bin_end": 4.122,
                        "count": 0
                      },
                      {
                        "bin_start": 4.122,
                        "bin_end": 4.123,
                        "count": 0
                      },
                      {
                        "bin_start": 4.123,
                        "bin_end": 4.124,
                        "count": 0
                      },
                      {
                        "bin_start": 4.124,
                        "bin_end": 4.125,
                        "count": 0
                      },
                      {
                        "bin_start": 4.125,
                        "bin_end": 4.126,
                        "count": 0
                      },
                      {
                        "bin_start": 4.126,
                        "bin_end": 4.127,
                        "count": 0
                      },
                      {
                        "bin_start": 4.127,
                        "bin_end": 4.128,
                        "count": 0
                      },
                      {
                        "bin_start": 4.128,
                        "bin_end": 4.129,
                        "count": 0
                      },
                      {
                        "bin_start": 4.129,
                        "bin_end": 4.13,
                        "count": 6
                      }
                    ]
                  }
                },
                {
                  "name": "_deepnote_index_column",
                  "dtype": "int64"
                }
              ],
              "rows": [
                {
                  "dew": 26.08,
                  "humidity": 77.14,
                  "pressure": 1013.77,
                  "temperature": 30.54,
                  "timestamp": 1729562564,
                  "volt": 4.13,
                  "_deepnote_index_column": 1729562564
                },
                {
                  "dew": 26.09,
                  "humidity": 77.28,
                  "pressure": 1013.73,
                  "temperature": 30.52,
                  "timestamp": 1729562624,
                  "volt": 4.13,
                  "_deepnote_index_column": 1729562624
                },
                {
                  "dew": 26.21,
                  "humidity": 77.66,
                  "pressure": 1013.74,
                  "temperature": 30.56,
                  "timestamp": 1729562684,
                  "volt": 4.12,
                  "_deepnote_index_column": 1729562684
                },
                {
                  "dew": 26.2,
                  "humidity": 77.54,
                  "pressure": 1013.76,
                  "temperature": 30.57,
                  "timestamp": 1729562744,
                  "volt": 4.13,
                  "_deepnote_index_column": 1729562744
                },
                {
                  "dew": 26.33,
                  "humidity": 77.8,
                  "pressure": 1013.76,
                  "temperature": 30.65,
                  "timestamp": 1729562804,
                  "volt": 4.13,
                  "_deepnote_index_column": 1729562804
                },
                {
                  "dew": 26.13,
                  "humidity": 76.78,
                  "pressure": 1013.72,
                  "temperature": 30.67,
                  "timestamp": 1729562864,
                  "volt": 4.12,
                  "_deepnote_index_column": 1729562864
                },
                {
                  "dew": 26.18,
                  "humidity": 76.9,
                  "pressure": 1013.76,
                  "temperature": 30.7,
                  "timestamp": 1729562924,
                  "volt": 4.12,
                  "_deepnote_index_column": 1729562924
                },
                {
                  "dew": 25.99,
                  "humidity": 76.14,
                  "pressure": 1013.67,
                  "temperature": 30.68,
                  "timestamp": 1729562984,
                  "volt": 4.12,
                  "_deepnote_index_column": 1729562984
                },
                {
                  "dew": 25.97,
                  "humidity": 75.9,
                  "pressure": 1013.69,
                  "temperature": 30.71,
                  "timestamp": 1729563044,
                  "volt": 4.13,
                  "_deepnote_index_column": 1729563044
                },
                {
                  "dew": 26.04,
                  "humidity": 76.37,
                  "pressure": 1013.64,
                  "temperature": 30.68,
                  "timestamp": 1729563104,
                  "volt": 4.13,
                  "_deepnote_index_column": 1729563104
                }
              ]
            },
            "text/plain": "              dew  humidity  pressure  temperature   timestamp  volt\n1729562564  26.08     77.14   1013.77        30.54  1729562564  4.13\n1729562624  26.09     77.28   1013.73        30.52  1729562624  4.13\n1729562684  26.21     77.66   1013.74        30.56  1729562684  4.12\n1729562744  26.20     77.54   1013.76        30.57  1729562744  4.13\n1729562804  26.33     77.80   1013.76        30.65  1729562804  4.13\n1729562864  26.13     76.78   1013.72        30.67  1729562864  4.12\n1729562924  26.18     76.90   1013.76        30.70  1729562924  4.12\n1729562984  25.99     76.14   1013.67        30.68  1729562984  4.12\n1729563044  25.97     75.90   1013.69        30.71  1729563044  4.13\n1729563104  26.04     76.37   1013.64        30.68  1729563104  4.13",
            "text/html": "<div>\n<style scoped>\n    .dataframe tbody tr th:only-of-type {\n        vertical-align: middle;\n    }\n\n    .dataframe tbody tr th {\n        vertical-align: top;\n    }\n\n    .dataframe thead th {\n        text-align: right;\n    }\n</style>\n<table border=\"1\" class=\"dataframe\">\n  <thead>\n    <tr style=\"text-align: right;\">\n      <th></th>\n      <th>dew</th>\n      <th>humidity</th>\n      <th>pressure</th>\n      <th>temperature</th>\n      <th>timestamp</th>\n      <th>volt</th>\n    </tr>\n  </thead>\n  <tbody>\n    <tr>\n      <th>1729562564</th>\n      <td>26.08</td>\n      <td>77.14</td>\n      <td>1013.77</td>\n      <td>30.54</td>\n      <td>1729562564</td>\n      <td>4.13</td>\n    </tr>\n    <tr>\n      <th>1729562624</th>\n      <td>26.09</td>\n      <td>77.28</td>\n      <td>1013.73</td>\n      <td>30.52</td>\n      <td>1729562624</td>\n      <td>4.13</td>\n    </tr>\n    <tr>\n      <th>1729562684</th>\n      <td>26.21</td>\n      <td>77.66</td>\n      <td>1013.74</td>\n      <td>30.56</td>\n      <td>1729562684</td>\n      <td>4.12</td>\n    </tr>\n    <tr>\n      <th>1729562744</th>\n      <td>26.20</td>\n      <td>77.54</td>\n      <td>1013.76</td>\n      <td>30.57</td>\n      <td>1729562744</td>\n      <td>4.13</td>\n    </tr>\n    <tr>\n      <th>1729562804</th>\n      <td>26.33</td>\n      <td>77.80</td>\n      <td>1013.76</td>\n      <td>30.65</td>\n      <td>1729562804</td>\n      <td>4.13</td>\n    </tr>\n    <tr>\n      <th>1729562864</th>\n      <td>26.13</td>\n      <td>76.78</td>\n      <td>1013.72</td>\n      <td>30.67</td>\n      <td>1729562864</td>\n      <td>4.12</td>\n    </tr>\n    <tr>\n      <th>1729562924</th>\n      <td>26.18</td>\n      <td>76.90</td>\n      <td>1013.76</td>\n      <td>30.70</td>\n      <td>1729562924</td>\n      <td>4.12</td>\n    </tr>\n    <tr>\n      <th>1729562984</th>\n      <td>25.99</td>\n      <td>76.14</td>\n      <td>1013.67</td>\n      <td>30.68</td>\n      <td>1729562984</td>\n      <td>4.12</td>\n    </tr>\n    <tr>\n      <th>1729563044</th>\n      <td>25.97</td>\n      <td>75.90</td>\n      <td>1013.69</td>\n      <td>30.71</td>\n      <td>1729563044</td>\n      <td>4.13</td>\n    </tr>\n    <tr>\n      <th>1729563104</th>\n      <td>26.04</td>\n      <td>76.37</td>\n      <td>1013.64</td>\n      <td>30.68</td>\n      <td>1729563104</td>\n      <td>4.13</td>\n    </tr>\n  </tbody>\n</table>\n</div>"
          },
          "metadata": {}
        }
      ],
      "outputs_reference": null,
      "execution_count": 6,
      "block_group": "ed034989752c460aaf8b5e74dc4b6046",
      "content_dependencies": null
    },
    {
      "cell_type": "code",
      "source": "# Menampilkan 10 data terakhir\ncuacaT.head(10)",
      "metadata": {
        "source_hash": "34630247",
        "execution_start": 1729563409073,
        "execution_millis": 1,
        "execution_context_id": "6f80f745-3a34-4b38-9666-49acb0b72d47",
        "deepnote_app_block_visible": true,
        "cell_id": "92d3bfc9e4614c419381052074d2c11b",
        "deepnote_cell_type": "code"
      },
      "outputs": [
        {
          "output_type": "execute_result",
          "execution_count": 7,
          "data": {
            "application/vnd.deepnote.dataframe.v3+json": {
              "column_count": 6,
              "row_count": 10,
              "columns": [
                {
                  "name": "dew",
                  "dtype": "float64",
                  "stats": {
                    "unique_count": 7,
                    "nan_count": 0,
                    "min": "22.62",
                    "max": "23.35",
                    "histogram": [
                      {
                        "bin_start": 22.62,
                        "bin_end": 22.693,
                        "count": 1
                      },
                      {
                        "bin_start": 22.693,
                        "bin_end": 22.766000000000002,
                        "count": 0
                      },
                      {
                        "bin_start": 22.766000000000002,
                        "bin_end": 22.839000000000002,
                        "count": 0
                      },
                      {
                        "bin_start": 22.839000000000002,
                        "bin_end": 22.912000000000003,
                        "count": 0
                      },
                      {
                        "bin_start": 22.912000000000003,
                        "bin_end": 22.985,
                        "count": 0
                      },
                      {
                        "bin_start": 22.985,
                        "bin_end": 23.058,
                        "count": 0
                      },
                      {
                        "bin_start": 23.058,
                        "bin_end": 23.131,
                        "count": 0
                      },
                      {
                        "bin_start": 23.131,
                        "bin_end": 23.204,
                        "count": 0
                      },
                      {
                        "bin_start": 23.204,
                        "bin_end": 23.277,
                        "count": 3
                      },
                      {
                        "bin_start": 23.277,
                        "bin_end": 23.35,
                        "count": 6
                      }
                    ]
                  }
                },
                {
                  "name": "humidity",
                  "dtype": "float64",
                  "stats": {
                    "unique_count": 10,
                    "nan_count": 0,
                    "min": "89.28",
                    "max": "90.0",
                    "histogram": [
                      {
                        "bin_start": 89.28,
                        "bin_end": 89.352,
                        "count": 2
                      },
                      {
                        "bin_start": 89.352,
                        "bin_end": 89.424,
                        "count": 1
                      },
                      {
                        "bin_start": 89.424,
                        "bin_end": 89.496,
                        "count": 0
                      },
                      {
                        "bin_start": 89.496,
                        "bin_end": 89.568,
                        "count": 0
                      },
                      {
                        "bin_start": 89.568,
                        "bin_end": 89.64,
                        "count": 1
                      },
                      {
                        "bin_start": 89.64,
                        "bin_end": 89.712,
                        "count": 0
                      },
                      {
                        "bin_start": 89.712,
                        "bin_end": 89.784,
                        "count": 0
                      },
                      {
                        "bin_start": 89.784,
                        "bin_end": 89.856,
                        "count": 2
                      },
                      {
                        "bin_start": 89.856,
                        "bin_end": 89.928,
                        "count": 3
                      },
                      {
                        "bin_start": 89.928,
                        "bin_end": 90,
                        "count": 1
                      }
                    ]
                  }
                },
                {
                  "name": "pressure",
                  "dtype": "float64",
                  "stats": {
                    "unique_count": 9,
                    "nan_count": 0,
                    "min": "1010.72",
                    "max": "1011.29",
                    "histogram": [
                      {
                        "bin_start": 1010.72,
                        "bin_end": 1010.777,
                        "count": 3
                      },
                      {
                        "bin_start": 1010.777,
                        "bin_end": 1010.8340000000001,
                        "count": 2
                      },
                      {
                        "bin_start": 1010.8340000000001,
                        "bin_end": 1010.891,
                        "count": 4
                      },
                      {
                        "bin_start": 1010.891,
                        "bin_end": 1010.948,
                        "count": 0
                      },
                      {
                        "bin_start": 1010.948,
                        "bin_end": 1011.005,
                        "count": 0
                      },
                      {
                        "bin_start": 1011.005,
                        "bin_end": 1011.062,
                        "count": 0
                      },
                      {
                        "bin_start": 1011.062,
                        "bin_end": 1011.119,
                        "count": 0
                      },
                      {
                        "bin_start": 1011.119,
                        "bin_end": 1011.1759999999999,
                        "count": 0
                      },
                      {
                        "bin_start": 1011.1759999999999,
                        "bin_end": 1011.233,
                        "count": 0
                      },
                      {
                        "bin_start": 1011.233,
                        "bin_end": 1011.29,
                        "count": 1
                      }
                    ]
                  }
                },
                {
                  "name": "temperature",
                  "dtype": "float64",
                  "stats": {
                    "unique_count": 10,
                    "nan_count": 0,
                    "min": "24.49",
                    "max": "25.18",
                    "histogram": [
                      {
                        "bin_start": 24.49,
                        "bin_end": 24.558999999999997,
                        "count": 1
                      },
                      {
                        "bin_start": 24.558999999999997,
                        "bin_end": 24.628,
                        "count": 0
                      },
                      {
                        "bin_start": 24.628,
                        "bin_end": 24.697,
                        "count": 0
                      },
                      {
                        "bin_start": 24.697,
                        "bin_end": 24.766,
                        "count": 0
                      },
                      {
                        "bin_start": 24.766,
                        "bin_end": 24.835,
                        "count": 0
                      },
                      {
                        "bin_start": 24.835,
                        "bin_end": 24.904,
                        "count": 0
                      },
                      {
                        "bin_start": 24.904,
                        "bin_end": 24.973,
                        "count": 0
                      },
                      {
                        "bin_start": 24.973,
                        "bin_end": 25.041999999999998,
                        "count": 2
                      },
                      {
                        "bin_start": 25.041999999999998,
                        "bin_end": 25.111,
                        "count": 3
                      },
                      {
                        "bin_start": 25.111,
                        "bin_end": 25.18,
                        "count": 4
                      }
                    ]
                  }
                },
                {
                  "name": "timestamp",
                  "dtype": "int64",
                  "stats": {
                    "unique_count": 10,
                    "nan_count": 0,
                    "min": "0",
                    "max": "1702297311",
                    "histogram": [
                      {
                        "bin_start": 0,
                        "bin_end": 170229731.1,
                        "count": 1
                      },
                      {
                        "bin_start": 170229731.1,
                        "bin_end": 340459462.2,
                        "count": 0
                      },
                      {
                        "bin_start": 340459462.2,
                        "bin_end": 510689193.29999995,
                        "count": 0
                      },
                      {
                        "bin_start": 510689193.29999995,
                        "bin_end": 680918924.4,
                        "count": 0
                      },
                      {
                        "bin_start": 680918924.4,
                        "bin_end": 851148655.5,
                        "count": 0
                      },
                      {
                        "bin_start": 851148655.5,
                        "bin_end": 1021378386.5999999,
                        "count": 0
                      },
                      {
                        "bin_start": 1021378386.5999999,
                        "bin_end": 1191608117.7,
                        "count": 0
                      },
                      {
                        "bin_start": 1191608117.7,
                        "bin_end": 1361837848.8,
                        "count": 0
                      },
                      {
                        "bin_start": 1361837848.8,
                        "bin_end": 1532067579.8999999,
                        "count": 0
                      },
                      {
                        "bin_start": 1532067579.8999999,
                        "bin_end": 1702297311,
                        "count": 9
                      }
                    ]
                  }
                },
                {
                  "name": "volt",
                  "dtype": "float64",
                  "stats": {
                    "unique_count": 3,
                    "nan_count": 0,
                    "min": "4.06",
                    "max": "4.09",
                    "histogram": [
                      {
                        "bin_start": 4.06,
                        "bin_end": 4.063,
                        "count": 1
                      },
                      {
                        "bin_start": 4.063,
                        "bin_end": 4.066,
                        "count": 0
                      },
                      {
                        "bin_start": 4.066,
                        "bin_end": 4.069,
                        "count": 0
                      },
                      {
                        "bin_start": 4.069,
                        "bin_end": 4.072,
                        "count": 0
                      },
                      {
                        "bin_start": 4.072,
                        "bin_end": 4.074999999999999,
                        "count": 0
                      },
                      {
                        "bin_start": 4.074999999999999,
                        "bin_end": 4.077999999999999,
                        "count": 0
                      },
                      {
                        "bin_start": 4.077999999999999,
                        "bin_end": 4.0809999999999995,
                        "count": 8
                      },
                      {
                        "bin_start": 4.0809999999999995,
                        "bin_end": 4.084,
                        "count": 0
                      },
                      {
                        "bin_start": 4.084,
                        "bin_end": 4.087,
                        "count": 0
                      },
                      {
                        "bin_start": 4.087,
                        "bin_end": 4.09,
                        "count": 1
                      }
                    ]
                  }
                },
                {
                  "name": "_deepnote_index_column",
                  "dtype": "int64"
                }
              ],
              "rows": [
                {
                  "dew": 22.62,
                  "humidity": 89.33,
                  "pressure": 1011.29,
                  "temperature": 24.49,
                  "timestamp": 0,
                  "volt": 4.06,
                  "_deepnote_index_column": 0
                },
                {
                  "dew": 23.29,
                  "humidity": 89.28,
                  "pressure": 1010.72,
                  "temperature": 25.18,
                  "timestamp": 1702296831,
                  "volt": 4.08,
                  "_deepnote_index_column": 1702296831
                },
                {
                  "dew": 23.29,
                  "humidity": 89.38,
                  "pressure": 1010.75,
                  "temperature": 25.16,
                  "timestamp": 1702296891,
                  "volt": 4.08,
                  "_deepnote_index_column": 1702296891
                },
                {
                  "dew": 23.31,
                  "humidity": 89.58,
                  "pressure": 1010.76,
                  "temperature": 25.14,
                  "timestamp": 1702296951,
                  "volt": 4.08,
                  "_deepnote_index_column": 1702296951
                },
                {
                  "dew": 23.35,
                  "humidity": 89.86,
                  "pressure": 1010.82,
                  "temperature": 25.13,
                  "timestamp": 1702297011,
                  "volt": 4.08,
                  "_deepnote_index_column": 1702297011
                },
                {
                  "dew": 23.32,
                  "humidity": 89.85,
                  "pressure": 1010.82,
                  "temperature": 25.1,
                  "timestamp": 1702297071,
                  "volt": 4.08,
                  "_deepnote_index_column": 1702297071
                },
                {
                  "dew": 23.29,
                  "humidity": 89.81,
                  "pressure": 1010.85,
                  "temperature": 25.08,
                  "timestamp": 1702297131,
                  "volt": 4.08,
                  "_deepnote_index_column": 1702297131
                },
                {
                  "dew": 23.27,
                  "humidity": 89.87,
                  "pressure": 1010.84,
                  "temperature": 25.05,
                  "timestamp": 1702297190,
                  "volt": 4.08,
                  "_deepnote_index_column": 1702297190
                },
                {
                  "dew": 23.26,
                  "humidity": 89.88,
                  "pressure": 1010.88,
                  "temperature": 25.04,
                  "timestamp": 1702297251,
                  "volt": 4.09,
                  "_deepnote_index_column": 1702297251
                },
                {
                  "dew": 23.26,
                  "humidity": 90,
                  "pressure": 1010.86,
                  "temperature": 25.02,
                  "timestamp": 1702297311,
                  "volt": 4.08,
                  "_deepnote_index_column": 1702297311
                }
              ]
            },
            "text/plain": "              dew  humidity  pressure  temperature   timestamp  volt\n0           22.62     89.33   1011.29        24.49           0  4.06\n1702296831  23.29     89.28   1010.72        25.18  1702296831  4.08\n1702296891  23.29     89.38   1010.75        25.16  1702296891  4.08\n1702296951  23.31     89.58   1010.76        25.14  1702296951  4.08\n1702297011  23.35     89.86   1010.82        25.13  1702297011  4.08\n1702297071  23.32     89.85   1010.82        25.10  1702297071  4.08\n1702297131  23.29     89.81   1010.85        25.08  1702297131  4.08\n1702297190  23.27     89.87   1010.84        25.05  1702297190  4.08\n1702297251  23.26     89.88   1010.88        25.04  1702297251  4.09\n1702297311  23.26     90.00   1010.86        25.02  1702297311  4.08",
            "text/html": "<div>\n<style scoped>\n    .dataframe tbody tr th:only-of-type {\n        vertical-align: middle;\n    }\n\n    .dataframe tbody tr th {\n        vertical-align: top;\n    }\n\n    .dataframe thead th {\n        text-align: right;\n    }\n</style>\n<table border=\"1\" class=\"dataframe\">\n  <thead>\n    <tr style=\"text-align: right;\">\n      <th></th>\n      <th>dew</th>\n      <th>humidity</th>\n      <th>pressure</th>\n      <th>temperature</th>\n      <th>timestamp</th>\n      <th>volt</th>\n    </tr>\n  </thead>\n  <tbody>\n    <tr>\n      <th>0</th>\n      <td>22.62</td>\n      <td>89.33</td>\n      <td>1011.29</td>\n      <td>24.49</td>\n      <td>0</td>\n      <td>4.06</td>\n    </tr>\n    <tr>\n      <th>1702296831</th>\n      <td>23.29</td>\n      <td>89.28</td>\n      <td>1010.72</td>\n      <td>25.18</td>\n      <td>1702296831</td>\n      <td>4.08</td>\n    </tr>\n    <tr>\n      <th>1702296891</th>\n      <td>23.29</td>\n      <td>89.38</td>\n      <td>1010.75</td>\n      <td>25.16</td>\n      <td>1702296891</td>\n      <td>4.08</td>\n    </tr>\n    <tr>\n      <th>1702296951</th>\n      <td>23.31</td>\n      <td>89.58</td>\n      <td>1010.76</td>\n      <td>25.14</td>\n      <td>1702296951</td>\n      <td>4.08</td>\n    </tr>\n    <tr>\n      <th>1702297011</th>\n      <td>23.35</td>\n      <td>89.86</td>\n      <td>1010.82</td>\n      <td>25.13</td>\n      <td>1702297011</td>\n      <td>4.08</td>\n    </tr>\n    <tr>\n      <th>1702297071</th>\n      <td>23.32</td>\n      <td>89.85</td>\n      <td>1010.82</td>\n      <td>25.10</td>\n      <td>1702297071</td>\n      <td>4.08</td>\n    </tr>\n    <tr>\n      <th>1702297131</th>\n      <td>23.29</td>\n      <td>89.81</td>\n      <td>1010.85</td>\n      <td>25.08</td>\n      <td>1702297131</td>\n      <td>4.08</td>\n    </tr>\n    <tr>\n      <th>1702297190</th>\n      <td>23.27</td>\n      <td>89.87</td>\n      <td>1010.84</td>\n      <td>25.05</td>\n      <td>1702297190</td>\n      <td>4.08</td>\n    </tr>\n    <tr>\n      <th>1702297251</th>\n      <td>23.26</td>\n      <td>89.88</td>\n      <td>1010.88</td>\n      <td>25.04</td>\n      <td>1702297251</td>\n      <td>4.09</td>\n    </tr>\n    <tr>\n      <th>1702297311</th>\n      <td>23.26</td>\n      <td>90.00</td>\n      <td>1010.86</td>\n      <td>25.02</td>\n      <td>1702297311</td>\n      <td>4.08</td>\n    </tr>\n  </tbody>\n</table>\n</div>"
          },
          "metadata": {}
        }
      ],
      "outputs_reference": null,
      "execution_count": 7,
      "block_group": "ec28e105a6d045d4bb298d6a62b9e5c2",
      "content_dependencies": null
    },
    {
      "cell_type": "code",
      "source": "cuacaT.tail(10)",
      "metadata": {
        "source_hash": "6952ca37",
        "execution_start": 1729563409125,
        "execution_millis": 1,
        "execution_context_id": "6f80f745-3a34-4b38-9666-49acb0b72d47",
        "deepnote_app_block_visible": true,
        "cell_id": "73ac46f748be4b48aef59a5fd401e3b4",
        "deepnote_cell_type": "code"
      },
      "outputs": [
        {
          "output_type": "execute_result",
          "execution_count": 8,
          "data": {
            "application/vnd.deepnote.dataframe.v3+json": {
              "column_count": 6,
              "row_count": 10,
              "columns": [
                {
                  "name": "dew",
                  "dtype": "float64",
                  "stats": {
                    "unique_count": 10,
                    "nan_count": 0,
                    "min": "25.97",
                    "max": "26.33",
                    "histogram": [
                      {
                        "bin_start": 25.97,
                        "bin_end": 26.006,
                        "count": 2
                      },
                      {
                        "bin_start": 26.006,
                        "bin_end": 26.041999999999998,
                        "count": 1
                      },
                      {
                        "bin_start": 26.041999999999998,
                        "bin_end": 26.078,
                        "count": 0
                      },
                      {
                        "bin_start": 26.078,
                        "bin_end": 26.113999999999997,
                        "count": 2
                      },
                      {
                        "bin_start": 26.113999999999997,
                        "bin_end": 26.15,
                        "count": 1
                      },
                      {
                        "bin_start": 26.15,
                        "bin_end": 26.186,
                        "count": 1
                      },
                      {
                        "bin_start": 26.186,
                        "bin_end": 26.221999999999998,
                        "count": 2
                      },
                      {
                        "bin_start": 26.221999999999998,
                        "bin_end": 26.258,
                        "count": 0
                      },
                      {
                        "bin_start": 26.258,
                        "bin_end": 26.293999999999997,
                        "count": 0
                      },
                      {
                        "bin_start": 26.293999999999997,
                        "bin_end": 26.33,
                        "count": 1
                      }
                    ]
                  }
                },
                {
                  "name": "humidity",
                  "dtype": "float64",
                  "stats": {
                    "unique_count": 10,
                    "nan_count": 0,
                    "min": "75.9",
                    "max": "77.8",
                    "histogram": [
                      {
                        "bin_start": 75.9,
                        "bin_end": 76.09,
                        "count": 1
                      },
                      {
                        "bin_start": 76.09,
                        "bin_end": 76.28,
                        "count": 1
                      },
                      {
                        "bin_start": 76.28,
                        "bin_end": 76.47,
                        "count": 1
                      },
                      {
                        "bin_start": 76.47,
                        "bin_end": 76.66,
                        "count": 0
                      },
                      {
                        "bin_start": 76.66,
                        "bin_end": 76.85,
                        "count": 1
                      },
                      {
                        "bin_start": 76.85,
                        "bin_end": 77.04,
                        "count": 1
                      },
                      {
                        "bin_start": 77.04,
                        "bin_end": 77.23,
                        "count": 1
                      },
                      {
                        "bin_start": 77.23,
                        "bin_end": 77.42,
                        "count": 1
                      },
                      {
                        "bin_start": 77.42,
                        "bin_end": 77.61,
                        "count": 1
                      },
                      {
                        "bin_start": 77.61,
                        "bin_end": 77.8,
                        "count": 2
                      }
                    ]
                  }
                },
                {
                  "name": "pressure",
                  "dtype": "float64",
                  "stats": {
                    "unique_count": 8,
                    "nan_count": 0,
                    "min": "1013.64",
                    "max": "1013.77",
                    "histogram": [
                      {
                        "bin_start": 1013.64,
                        "bin_end": 1013.653,
                        "count": 1
                      },
                      {
                        "bin_start": 1013.653,
                        "bin_end": 1013.6659999999999,
                        "count": 0
                      },
                      {
                        "bin_start": 1013.6659999999999,
                        "bin_end": 1013.679,
                        "count": 1
                      },
                      {
                        "bin_start": 1013.679,
                        "bin_end": 1013.692,
                        "count": 1
                      },
                      {
                        "bin_start": 1013.692,
                        "bin_end": 1013.7049999999999,
                        "count": 0
                      },
                      {
                        "bin_start": 1013.7049999999999,
                        "bin_end": 1013.718,
                        "count": 0
                      },
                      {
                        "bin_start": 1013.718,
                        "bin_end": 1013.731,
                        "count": 2
                      },
                      {
                        "bin_start": 1013.731,
                        "bin_end": 1013.744,
                        "count": 1
                      },
                      {
                        "bin_start": 1013.744,
                        "bin_end": 1013.757,
                        "count": 0
                      },
                      {
                        "bin_start": 1013.757,
                        "bin_end": 1013.77,
                        "count": 4
                      }
                    ]
                  }
                },
                {
                  "name": "temperature",
                  "dtype": "float64",
                  "stats": {
                    "unique_count": 9,
                    "nan_count": 0,
                    "min": "30.52",
                    "max": "30.71",
                    "histogram": [
                      {
                        "bin_start": 30.52,
                        "bin_end": 30.539,
                        "count": 1
                      },
                      {
                        "bin_start": 30.539,
                        "bin_end": 30.558,
                        "count": 1
                      },
                      {
                        "bin_start": 30.558,
                        "bin_end": 30.576999999999998,
                        "count": 2
                      },
                      {
                        "bin_start": 30.576999999999998,
                        "bin_end": 30.596,
                        "count": 0
                      },
                      {
                        "bin_start": 30.596,
                        "bin_end": 30.615000000000002,
                        "count": 0
                      },
                      {
                        "bin_start": 30.615000000000002,
                        "bin_end": 30.634,
                        "count": 0
                      },
                      {
                        "bin_start": 30.634,
                        "bin_end": 30.653,
                        "count": 1
                      },
                      {
                        "bin_start": 30.653,
                        "bin_end": 30.672,
                        "count": 1
                      },
                      {
                        "bin_start": 30.672,
                        "bin_end": 30.691000000000003,
                        "count": 2
                      },
                      {
                        "bin_start": 30.691000000000003,
                        "bin_end": 30.71,
                        "count": 2
                      }
                    ]
                  }
                },
                {
                  "name": "timestamp",
                  "dtype": "int64",
                  "stats": {
                    "unique_count": 10,
                    "nan_count": 0,
                    "min": "1729562564",
                    "max": "1729563104",
                    "histogram": [
                      {
                        "bin_start": 1729562564,
                        "bin_end": 1729562618,
                        "count": 1
                      },
                      {
                        "bin_start": 1729562618,
                        "bin_end": 1729562672,
                        "count": 1
                      },
                      {
                        "bin_start": 1729562672,
                        "bin_end": 1729562726,
                        "count": 1
                      },
                      {
                        "bin_start": 1729562726,
                        "bin_end": 1729562780,
                        "count": 1
                      },
                      {
                        "bin_start": 1729562780,
                        "bin_end": 1729562834,
                        "count": 1
                      },
                      {
                        "bin_start": 1729562834,
                        "bin_end": 1729562888,
                        "count": 1
                      },
                      {
                        "bin_start": 1729562888,
                        "bin_end": 1729562942,
                        "count": 1
                      },
                      {
                        "bin_start": 1729562942,
                        "bin_end": 1729562996,
                        "count": 1
                      },
                      {
                        "bin_start": 1729562996,
                        "bin_end": 1729563050,
                        "count": 1
                      },
                      {
                        "bin_start": 1729563050,
                        "bin_end": 1729563104,
                        "count": 1
                      }
                    ]
                  }
                },
                {
                  "name": "volt",
                  "dtype": "float64",
                  "stats": {
                    "unique_count": 2,
                    "nan_count": 0,
                    "min": "4.12",
                    "max": "4.13",
                    "histogram": [
                      {
                        "bin_start": 4.12,
                        "bin_end": 4.121,
                        "count": 4
                      },
                      {
                        "bin_start": 4.121,
                        "bin_end": 4.122,
                        "count": 0
                      },
                      {
                        "bin_start": 4.122,
                        "bin_end": 4.123,
                        "count": 0
                      },
                      {
                        "bin_start": 4.123,
                        "bin_end": 4.124,
                        "count": 0
                      },
                      {
                        "bin_start": 4.124,
                        "bin_end": 4.125,
                        "count": 0
                      },
                      {
                        "bin_start": 4.125,
                        "bin_end": 4.126,
                        "count": 0
                      },
                      {
                        "bin_start": 4.126,
                        "bin_end": 4.127,
                        "count": 0
                      },
                      {
                        "bin_start": 4.127,
                        "bin_end": 4.128,
                        "count": 0
                      },
                      {
                        "bin_start": 4.128,
                        "bin_end": 4.129,
                        "count": 0
                      },
                      {
                        "bin_start": 4.129,
                        "bin_end": 4.13,
                        "count": 6
                      }
                    ]
                  }
                },
                {
                  "name": "_deepnote_index_column",
                  "dtype": "int64"
                }
              ],
              "rows": [
                {
                  "dew": 26.08,
                  "humidity": 77.14,
                  "pressure": 1013.77,
                  "temperature": 30.54,
                  "timestamp": 1729562564,
                  "volt": 4.13,
                  "_deepnote_index_column": 1729562564
                },
                {
                  "dew": 26.09,
                  "humidity": 77.28,
                  "pressure": 1013.73,
                  "temperature": 30.52,
                  "timestamp": 1729562624,
                  "volt": 4.13,
                  "_deepnote_index_column": 1729562624
                },
                {
                  "dew": 26.21,
                  "humidity": 77.66,
                  "pressure": 1013.74,
                  "temperature": 30.56,
                  "timestamp": 1729562684,
                  "volt": 4.12,
                  "_deepnote_index_column": 1729562684
                },
                {
                  "dew": 26.2,
                  "humidity": 77.54,
                  "pressure": 1013.76,
                  "temperature": 30.57,
                  "timestamp": 1729562744,
                  "volt": 4.13,
                  "_deepnote_index_column": 1729562744
                },
                {
                  "dew": 26.33,
                  "humidity": 77.8,
                  "pressure": 1013.76,
                  "temperature": 30.65,
                  "timestamp": 1729562804,
                  "volt": 4.13,
                  "_deepnote_index_column": 1729562804
                },
                {
                  "dew": 26.13,
                  "humidity": 76.78,
                  "pressure": 1013.72,
                  "temperature": 30.67,
                  "timestamp": 1729562864,
                  "volt": 4.12,
                  "_deepnote_index_column": 1729562864
                },
                {
                  "dew": 26.18,
                  "humidity": 76.9,
                  "pressure": 1013.76,
                  "temperature": 30.7,
                  "timestamp": 1729562924,
                  "volt": 4.12,
                  "_deepnote_index_column": 1729562924
                },
                {
                  "dew": 25.99,
                  "humidity": 76.14,
                  "pressure": 1013.67,
                  "temperature": 30.68,
                  "timestamp": 1729562984,
                  "volt": 4.12,
                  "_deepnote_index_column": 1729562984
                },
                {
                  "dew": 25.97,
                  "humidity": 75.9,
                  "pressure": 1013.69,
                  "temperature": 30.71,
                  "timestamp": 1729563044,
                  "volt": 4.13,
                  "_deepnote_index_column": 1729563044
                },
                {
                  "dew": 26.04,
                  "humidity": 76.37,
                  "pressure": 1013.64,
                  "temperature": 30.68,
                  "timestamp": 1729563104,
                  "volt": 4.13,
                  "_deepnote_index_column": 1729563104
                }
              ]
            },
            "text/plain": "              dew  humidity  pressure  temperature   timestamp  volt\n1729562564  26.08     77.14   1013.77        30.54  1729562564  4.13\n1729562624  26.09     77.28   1013.73        30.52  1729562624  4.13\n1729562684  26.21     77.66   1013.74        30.56  1729562684  4.12\n1729562744  26.20     77.54   1013.76        30.57  1729562744  4.13\n1729562804  26.33     77.80   1013.76        30.65  1729562804  4.13\n1729562864  26.13     76.78   1013.72        30.67  1729562864  4.12\n1729562924  26.18     76.90   1013.76        30.70  1729562924  4.12\n1729562984  25.99     76.14   1013.67        30.68  1729562984  4.12\n1729563044  25.97     75.90   1013.69        30.71  1729563044  4.13\n1729563104  26.04     76.37   1013.64        30.68  1729563104  4.13",
            "text/html": "<div>\n<style scoped>\n    .dataframe tbody tr th:only-of-type {\n        vertical-align: middle;\n    }\n\n    .dataframe tbody tr th {\n        vertical-align: top;\n    }\n\n    .dataframe thead th {\n        text-align: right;\n    }\n</style>\n<table border=\"1\" class=\"dataframe\">\n  <thead>\n    <tr style=\"text-align: right;\">\n      <th></th>\n      <th>dew</th>\n      <th>humidity</th>\n      <th>pressure</th>\n      <th>temperature</th>\n      <th>timestamp</th>\n      <th>volt</th>\n    </tr>\n  </thead>\n  <tbody>\n    <tr>\n      <th>1729562564</th>\n      <td>26.08</td>\n      <td>77.14</td>\n      <td>1013.77</td>\n      <td>30.54</td>\n      <td>1729562564</td>\n      <td>4.13</td>\n    </tr>\n    <tr>\n      <th>1729562624</th>\n      <td>26.09</td>\n      <td>77.28</td>\n      <td>1013.73</td>\n      <td>30.52</td>\n      <td>1729562624</td>\n      <td>4.13</td>\n    </tr>\n    <tr>\n      <th>1729562684</th>\n      <td>26.21</td>\n      <td>77.66</td>\n      <td>1013.74</td>\n      <td>30.56</td>\n      <td>1729562684</td>\n      <td>4.12</td>\n    </tr>\n    <tr>\n      <th>1729562744</th>\n      <td>26.20</td>\n      <td>77.54</td>\n      <td>1013.76</td>\n      <td>30.57</td>\n      <td>1729562744</td>\n      <td>4.13</td>\n    </tr>\n    <tr>\n      <th>1729562804</th>\n      <td>26.33</td>\n      <td>77.80</td>\n      <td>1013.76</td>\n      <td>30.65</td>\n      <td>1729562804</td>\n      <td>4.13</td>\n    </tr>\n    <tr>\n      <th>1729562864</th>\n      <td>26.13</td>\n      <td>76.78</td>\n      <td>1013.72</td>\n      <td>30.67</td>\n      <td>1729562864</td>\n      <td>4.12</td>\n    </tr>\n    <tr>\n      <th>1729562924</th>\n      <td>26.18</td>\n      <td>76.90</td>\n      <td>1013.76</td>\n      <td>30.70</td>\n      <td>1729562924</td>\n      <td>4.12</td>\n    </tr>\n    <tr>\n      <th>1729562984</th>\n      <td>25.99</td>\n      <td>76.14</td>\n      <td>1013.67</td>\n      <td>30.68</td>\n      <td>1729562984</td>\n      <td>4.12</td>\n    </tr>\n    <tr>\n      <th>1729563044</th>\n      <td>25.97</td>\n      <td>75.90</td>\n      <td>1013.69</td>\n      <td>30.71</td>\n      <td>1729563044</td>\n      <td>4.13</td>\n    </tr>\n    <tr>\n      <th>1729563104</th>\n      <td>26.04</td>\n      <td>76.37</td>\n      <td>1013.64</td>\n      <td>30.68</td>\n      <td>1729563104</td>\n      <td>4.13</td>\n    </tr>\n  </tbody>\n</table>\n</div>"
          },
          "metadata": {}
        }
      ],
      "outputs_reference": null,
      "execution_count": 8,
      "block_group": "5599e043a26b4aa48af3a6b5a2cdf843",
      "content_dependencies": null
    },
    {
      "cell_type": "code",
      "source": "# Tentukan batas bawah dan batas atas waktu yang wajar dalam format UNIX\nstart_timestamp = pd.Timestamp('2020-01-01').timestamp()  # UNIX time untuk 1 Januari 2020\nend_timestamp = pd.Timestamp.now().timestamp()  # UNIX time saat ini\n\n# Hapus data dengan timestamp di luar rentang waktu yang wajar\ncuacaT = cuacaT[(cuacaT['timestamp'] >= start_timestamp) & (cuacaT['timestamp'] <= end_timestamp)]",
      "metadata": {
        "source_hash": "d0767f96",
        "execution_start": 1729563409177,
        "execution_millis": 0,
        "execution_context_id": "6f80f745-3a34-4b38-9666-49acb0b72d47",
        "deepnote_app_block_visible": true,
        "cell_id": "1731b6bcd73f4f8996da183901b4e248",
        "deepnote_cell_type": "code"
      },
      "outputs": [],
      "outputs_reference": null,
      "execution_count": 9,
      "block_group": "4136bc8e69694b86871605f03dc55d06",
      "content_dependencies": null
    },
    {
      "cell_type": "code",
      "source": "# Konversi timestamp ke datetime dalam format UTC\ncuacaT['timestamp'] = pd.to_datetime(cuacaT['timestamp'], unit='s', utc=True)\n\n# Mengonversi ke zona waktu WIB (Asia/Jakarta)\ncuacaT['timestamp'] = cuacaT['timestamp'].dt.tz_convert('Asia/Jakarta')",
      "metadata": {
        "source_hash": "b41d3a28",
        "execution_start": 1729563409229,
        "execution_millis": 4,
        "execution_context_id": "6f80f745-3a34-4b38-9666-49acb0b72d47",
        "deepnote_app_block_visible": true,
        "cell_id": "8558ca56a01a417da08eec555f2ea882",
        "deepnote_cell_type": "code"
      },
      "outputs": [],
      "outputs_reference": null,
      "execution_count": 10,
      "block_group": "b5680ce8b7fb4fb2b536ba261a9705d2",
      "content_dependencies": null
    },
    {
      "cell_type": "code",
      "source": "\n# Mengelompokkan data berdasarkan hari\ncuacaT['date'] = cuacaT['timestamp'].dt.date\ndata_per_day = cuacaT.groupby('date').size().reset_index(name='count')\n\n# Visualisasi jumlah data per hari\nplt.figure(figsize=(15, 7))\nplt.plot(data_per_day['date'], data_per_day['count'], marker='o', linestyle='-')\nplt.axhline(y=1440, color='r', linestyle='--', label='Expected Data Count (1440)')\nplt.xlabel('Tanggal')\nplt.ylabel('Jumlah Data')\nplt.title('Jumlah Data per Hari (1440 diharapkan)')\nplt.xticks(rotation=45)\nplt.grid(True)\nplt.legend()\nplt.tight_layout()\nplt.show()\n\n# Menampilkan hari-hari yang tidak memenuhi 1440 data\ndays_with_missing_data = data_per_day[data_per_day['count'] != 1440]\nprint(\"Hari dengan jumlah data yang kurang dari 1440:\")\nprint(days_with_missing_data)",
      "metadata": {
        "source_hash": "66cf00b0",
        "execution_start": 1729563409281,
        "execution_millis": 1029,
        "execution_context_id": "6f80f745-3a34-4b38-9666-49acb0b72d47",
        "deepnote_app_block_visible": true,
        "cell_id": "1b650eb2c3ca460f8901a117f2917ee6",
        "deepnote_cell_type": "code"
      },
      "outputs": [
        {
          "data": {
            "text/plain": "<Figure size 1500x700 with 1 Axes>",
            "image/png": "[encoded data removed]"
          },
          "metadata": {
            "image/png": {
              "width": 1480,
              "height": 684
            }
          },
          "output_type": "display_data"
        },
        {
          "name": "stdout",
          "text": "Hari dengan jumlah data yang kurang dari 1440:\n           date  count\n0    2023-12-11    148\n1    2023-12-12   1226\n2    2023-12-13   1357\n3    2023-12-14   1343\n4    2023-12-15    939\n..          ...    ...\n312  2024-10-18   1433\n313  2024-10-19   1424\n314  2024-10-20   1428\n315  2024-10-21   1429\n316  2024-10-22    548\n\n[317 rows x 2 columns]\n",
          "output_type": "stream"
        }
      ],
      "outputs_reference": null,
      "execution_count": 11,
      "block_group": "e3b86a35773f41e8aae712bc7bbb4438",
      "content_dependencies": null
    },
    {
      "cell_type": "code",
      "source": "cuacaT.tail(10)",
      "metadata": {
        "source_hash": "6952ca37",
        "execution_start": 1729563410361,
        "execution_millis": 1,
        "execution_context_id": "6f80f745-3a34-4b38-9666-49acb0b72d47",
        "deepnote_app_block_visible": true,
        "cell_id": "0a2fb375fabf4b5684c2776e66af19f4",
        "deepnote_cell_type": "code"
      },
      "outputs": [
        {
          "output_type": "execute_result",
          "execution_count": 12,
          "data": {
            "application/vnd.deepnote.dataframe.v3+json": {
              "column_count": 7,
              "row_count": 10,
              "columns": [
                {
                  "name": "dew",
                  "dtype": "float64",
                  "stats": {
                    "unique_count": 10,
                    "nan_count": 0,
                    "min": "25.97",
                    "max": "26.33",
                    "histogram": [
                      {
                        "bin_start": 25.97,
                        "bin_end": 26.006,
                        "count": 2
                      },
                      {
                        "bin_start": 26.006,
                        "bin_end": 26.041999999999998,
                        "count": 1
                      },
                      {
                        "bin_start": 26.041999999999998,
                        "bin_end": 26.078,
                        "count": 0
                      },
                      {
                        "bin_start": 26.078,
                        "bin_end": 26.113999999999997,
                        "count": 2
                      },
                      {
                        "bin_start": 26.113999999999997,
                        "bin_end": 26.15,
                        "count": 1
                      },
                      {
                        "bin_start": 26.15,
                        "bin_end": 26.186,
                        "count": 1
                      },
                      {
                        "bin_start": 26.186,
                        "bin_end": 26.221999999999998,
                        "count": 2
                      },
                      {
                        "bin_start": 26.221999999999998,
                        "bin_end": 26.258,
                        "count": 0
                      },
                      {
                        "bin_start": 26.258,
                        "bin_end": 26.293999999999997,
                        "count": 0
                      },
                      {
                        "bin_start": 26.293999999999997,
                        "bin_end": 26.33,
                        "count": 1
                      }
                    ]
                  }
                },
                {
                  "name": "humidity",
                  "dtype": "float64",
                  "stats": {
                    "unique_count": 10,
                    "nan_count": 0,
                    "min": "75.9",
                    "max": "77.8",
                    "histogram": [
                      {
                        "bin_start": 75.9,
                        "bin_end": 76.09,
                        "count": 1
                      },
                      {
                        "bin_start": 76.09,
                        "bin_end": 76.28,
                        "count": 1
                      },
                      {
                        "bin_start": 76.28,
                        "bin_end": 76.47,
                        "count": 1
                      },
                      {
                        "bin_start": 76.47,
                        "bin_end": 76.66,
                        "count": 0
                      },
                      {
                        "bin_start": 76.66,
                        "bin_end": 76.85,
                        "count": 1
                      },
                      {
                        "bin_start": 76.85,
                        "bin_end": 77.04,
                        "count": 1
                      },
                      {
                        "bin_start": 77.04,
                        "bin_end": 77.23,
                        "count": 1
                      },
                      {
                        "bin_start": 77.23,
                        "bin_end": 77.42,
                        "count": 1
                      },
                      {
                        "bin_start": 77.42,
                        "bin_end": 77.61,
                        "count": 1
                      },
                      {
                        "bin_start": 77.61,
                        "bin_end": 77.8,
                        "count": 2
                      }
                    ]
                  }
                },
                {
                  "name": "pressure",
                  "dtype": "float64",
                  "stats": {
                    "unique_count": 8,
                    "nan_count": 0,
                    "min": "1013.64",
                    "max": "1013.77",
                    "histogram": [
                      {
                        "bin_start": 1013.64,
                        "bin_end": 1013.653,
                        "count": 1
                      },
                      {
                        "bin_start": 1013.653,
                        "bin_end": 1013.6659999999999,
                        "count": 0
                      },
                      {
                        "bin_start": 1013.6659999999999,
                        "bin_end": 1013.679,
                        "count": 1
                      },
                      {
                        "bin_start": 1013.679,
                        "bin_end": 1013.692,
                        "count": 1
                      },
                      {
                        "bin_start": 1013.692,
                        "bin_end": 1013.7049999999999,
                        "count": 0
                      },
                      {
                        "bin_start": 1013.7049999999999,
                        "bin_end": 1013.718,
                        "count": 0
                      },
                      {
                        "bin_start": 1013.718,
                        "bin_end": 1013.731,
                        "count": 2
                      },
                      {
                        "bin_start": 1013.731,
                        "bin_end": 1013.744,
                        "count": 1
                      },
                      {
                        "bin_start": 1013.744,
                        "bin_end": 1013.757,
                        "count": 0
                      },
                      {
                        "bin_start": 1013.757,
                        "bin_end": 1013.77,
                        "count": 4
                      }
                    ]
                  }
                },
                {
                  "name": "temperature",
                  "dtype": "float64",
                  "stats": {
                    "unique_count": 9,
                    "nan_count": 0,
                    "min": "30.52",
                    "max": "30.71",
                    "histogram": [
                      {
                        "bin_start": 30.52,
                        "bin_end": 30.539,
                        "count": 1
                      },
                      {
                        "bin_start": 30.539,
                        "bin_end": 30.558,
                        "count": 1
                      },
                      {
                        "bin_start": 30.558,
                        "bin_end": 30.576999999999998,
                        "count": 2
                      },
                      {
                        "bin_start": 30.576999999999998,
                        "bin_end": 30.596,
                        "count": 0
                      },
                      {
                        "bin_start": 30.596,
                        "bin_end": 30.615000000000002,
                        "count": 0
                      },
                      {
                        "bin_start": 30.615000000000002,
                        "bin_end": 30.634,
                        "count": 0
                      },
                      {
                        "bin_start": 30.634,
                        "bin_end": 30.653,
                        "count": 1
                      },
                      {
                        "bin_start": 30.653,
                        "bin_end": 30.672,
                        "count": 1
                      },
                      {
                        "bin_start": 30.672,
                        "bin_end": 30.691000000000003,
                        "count": 2
                      },
                      {
                        "bin_start": 30.691000000000003,
                        "bin_end": 30.71,
                        "count": 2
                      }
                    ]
                  }
                },
                {
                  "name": "timestamp",
                  "dtype": "datetime64[ns, Asia/Jakarta]",
                  "stats": {
                    "unique_count": 10,
                    "nan_count": 0,
                    "min": "2024-10-22 09:02:44+07:00",
                    "max": "2024-10-22 09:11:44+07:00",
                    "histogram": [
                      {
                        "bin_start": 1729562564000000000,
                        "bin_end": 1729562618000000000,
                        "count": 1
                      },
                      {
                        "bin_start": 1729562618000000000,
                        "bin_end": 1729562672000000000,
                        "count": 1
                      },
                      {
                        "bin_start": 1729562672000000000,
                        "bin_end": 1729562726000000000,
                        "count": 1
                      },
                      {
                        "bin_start": 1729562726000000000,
                        "bin_end": 1729562780000000000,
                        "count": 1
                      },
                      {
                        "bin_start": 1729562780000000000,
                        "bin_end": 1729562834000000000,
                        "count": 1
                      },
                      {
                        "bin_start": 1729562834000000000,
                        "bin_end": 1729562888000000000,
                        "count": 1
                      },
                      {
                        "bin_start": 1729562888000000000,
                        "bin_end": 1729562942000000000,
                        "count": 1
                      },
                      {
                        "bin_start": 1729562942000000000,
                        "bin_end": 1729562996000000000,
                        "count": 1
                      },
                      {
                        "bin_start": 1729562996000000000,
                        "bin_end": 1729563050000000000,
                        "count": 1
                      },
                      {
                        "bin_start": 1729563050000000000,
                        "bin_end": 1729563104000000000,
                        "count": 1
                      }
                    ]
                  }
                },
                {
                  "name": "volt",
                  "dtype": "float64",
                  "stats": {
                    "unique_count": 2,
                    "nan_count": 0,
                    "min": "4.12",
                    "max": "4.13",
                    "histogram": [
                      {
                        "bin_start": 4.12,
                        "bin_end": 4.121,
                        "count": 4
                      },
                      {
                        "bin_start": 4.121,
                        "bin_end": 4.122,
                        "count": 0
                      },
                      {
                        "bin_start": 4.122,
                        "bin_end": 4.123,
                        "count": 0
                      },
                      {
                        "bin_start": 4.123,
                        "bin_end": 4.124,
                        "count": 0
                      },
                      {
                        "bin_start": 4.124,
                        "bin_end": 4.125,
                        "count": 0
                      },
                      {
                        "bin_start": 4.125,
                        "bin_end": 4.126,
                        "count": 0
                      },
                      {
                        "bin_start": 4.126,
                        "bin_end": 4.127,
                        "count": 0
                      },
                      {
                        "bin_start": 4.127,
                        "bin_end": 4.128,
                        "count": 0
                      },
                      {
                        "bin_start": 4.128,
                        "bin_end": 4.129,
                        "count": 0
                      },
                      {
                        "bin_start": 4.129,
                        "bin_end": 4.13,
                        "count": 6
                      }
                    ]
                  }
                },
                {
                  "name": "date",
                  "dtype": "object",
                  "stats": {
                    "unique_count": 1,
                    "nan_count": 0,
                    "categories": [
                      {
                        "name": "2024-10-22",
                        "count": 10
                      }
                    ]
                  }
                },
                {
                  "name": "_deepnote_index_column",
                  "dtype": "int64"
                }
              ],
              "rows": [
                {
                  "dew": 26.08,
                  "humidity": 77.14,
                  "pressure": 1013.77,
                  "temperature": 30.54,
                  "timestamp": "2024-10-22 09:02:44+07:00",
                  "volt": 4.13,
                  "date": "2024-10-22",
                  "_deepnote_index_column": 1729562564
                },
                {
                  "dew": 26.09,
                  "humidity": 77.28,
                  "pressure": 1013.73,
                  "temperature": 30.52,
                  "timestamp": "2024-10-22 09:03:44+07:00",
                  "volt": 4.13,
                  "date": "2024-10-22",
                  "_deepnote_index_column": 1729562624
                },
                {
                  "dew": 26.21,
                  "humidity": 77.66,
                  "pressure": 1013.74,
                  "temperature": 30.56,
                  "timestamp": "2024-10-22 09:04:44+07:00",
                  "volt": 4.12,
                  "date": "2024-10-22",
                  "_deepnote_index_column": 1729562684
                },
                {
                  "dew": 26.2,
                  "humidity": 77.54,
                  "pressure": 1013.76,
                  "temperature": 30.57,
                  "timestamp": "2024-10-22 09:05:44+07:00",
                  "volt": 4.13,
                  "date": "2024-10-22",
                  "_deepnote_index_column": 1729562744
                },
                {
                  "dew": 26.33,
                  "humidity": 77.8,
                  "pressure": 1013.76,
                  "temperature": 30.65,
                  "timestamp": "2024-10-22 09:06:44+07:00",
                  "volt": 4.13,
                  "date": "2024-10-22",
                  "_deepnote_index_column": 1729562804
                },
                {
                  "dew": 26.13,
                  "humidity": 76.78,
                  "pressure": 1013.72,
                  "temperature": 30.67,
                  "timestamp": "2024-10-22 09:07:44+07:00",
                  "volt": 4.12,
                  "date": "2024-10-22",
                  "_deepnote_index_column": 1729562864
                },
                {
                  "dew": 26.18,
                  "humidity": 76.9,
                  "pressure": 1013.76,
                  "temperature": 30.7,
                  "timestamp": "2024-10-22 09:08:44+07:00",
                  "volt": 4.12,
                  "date": "2024-10-22",
                  "_deepnote_index_column": 1729562924
                },
                {
                  "dew": 25.99,
                  "humidity": 76.14,
                  "pressure": 1013.67,
                  "temperature": 30.68,
                  "timestamp": "2024-10-22 09:09:44+07:00",
                  "volt": 4.12,
                  "date": "2024-10-22",
                  "_deepnote_index_column": 1729562984
                },
                {
                  "dew": 25.97,
                  "humidity": 75.9,
                  "pressure": 1013.69,
                  "temperature": 30.71,
                  "timestamp": "2024-10-22 09:10:44+07:00",
                  "volt": 4.13,
                  "date": "2024-10-22",
                  "_deepnote_index_column": 1729563044
                },
                {
                  "dew": 26.04,
                  "humidity": 76.37,
                  "pressure": 1013.64,
                  "temperature": 30.68,
                  "timestamp": "2024-10-22 09:11:44+07:00",
                  "volt": 4.13,
                  "date": "2024-10-22",
                  "_deepnote_index_column": 1729563104
                }
              ]
            },
            "text/plain": "              dew  humidity  pressure  temperature                 timestamp  \\\n1729562564  26.08     77.14   1013.77        30.54 2024-10-22 09:02:44+07:00   \n1729562624  26.09     77.28   1013.73        30.52 2024-10-22 09:03:44+07:00   \n1729562684  26.21     77.66   1013.74        30.56 2024-10-22 09:04:44+07:00   \n1729562744  26.20     77.54   1013.76        30.57 2024-10-22 09:05:44+07:00   \n1729562804  26.33     77.80   1013.76        30.65 2024-10-22 09:06:44+07:00   \n1729562864  26.13     76.78   1013.72        30.67 2024-10-22 09:07:44+07:00   \n1729562924  26.18     76.90   1013.76        30.70 2024-10-22 09:08:44+07:00   \n1729562984  25.99     76.14   1013.67        30.68 2024-10-22 09:09:44+07:00   \n1729563044  25.97     75.90   1013.69        30.71 2024-10-22 09:10:44+07:00   \n1729563104  26.04     76.37   1013.64        30.68 2024-10-22 09:11:44+07:00   \n\n            volt        date  \n1729562564  4.13  2024-10-22  \n1729562624  4.13  2024-10-22  \n1729562684  4.12  2024-10-22  \n1729562744  4.13  2024-10-22  \n1729562804  4.13  2024-10-22  \n1729562864  4.12  2024-10-22  \n1729562924  4.12  2024-10-22  \n1729562984  4.12  2024-10-22  \n1729563044  4.13  2024-10-22  \n1729563104  4.13  2024-10-22  ",
            "text/html": "<div>\n<style scoped>\n    .dataframe tbody tr th:only-of-type {\n        vertical-align: middle;\n    }\n\n    .dataframe tbody tr th {\n        vertical-align: top;\n    }\n\n    .dataframe thead th {\n        text-align: right;\n    }\n</style>\n<table border=\"1\" class=\"dataframe\">\n  <thead>\n    <tr style=\"text-align: right;\">\n      <th></th>\n      <th>dew</th>\n      <th>humidity</th>\n      <th>pressure</th>\n      <th>temperature</th>\n      <th>timestamp</th>\n      <th>volt</th>\n      <th>date</th>\n    </tr>\n  </thead>\n  <tbody>\n    <tr>\n      <th>1729562564</th>\n      <td>26.08</td>\n      <td>77.14</td>\n      <td>1013.77</td>\n      <td>30.54</td>\n      <td>2024-10-22 09:02:44+07:00</td>\n      <td>4.13</td>\n      <td>2024-10-22</td>\n    </tr>\n    <tr>\n      <th>1729562624</th>\n      <td>26.09</td>\n      <td>77.28</td>\n      <td>1013.73</td>\n      <td>30.52</td>\n      <td>2024-10-22 09:03:44+07:00</td>\n      <td>4.13</td>\n      <td>2024-10-22</td>\n    </tr>\n    <tr>\n      <th>1729562684</th>\n      <td>26.21</td>\n      <td>77.66</td>\n      <td>1013.74</td>\n      <td>30.56</td>\n      <td>2024-10-22 09:04:44+07:00</td>\n      <td>4.12</td>\n      <td>2024-10-22</td>\n    </tr>\n    <tr>\n      <th>1729562744</th>\n      <td>26.20</td>\n      <td>77.54</td>\n      <td>1013.76</td>\n      <td>30.57</td>\n      <td>2024-10-22 09:05:44+07:00</td>\n      <td>4.13</td>\n      <td>2024-10-22</td>\n    </tr>\n    <tr>\n      <th>1729562804</th>\n      <td>26.33</td>\n      <td>77.80</td>\n      <td>1013.76</td>\n      <td>30.65</td>\n      <td>2024-10-22 09:06:44+07:00</td>\n      <td>4.13</td>\n      <td>2024-10-22</td>\n    </tr>\n    <tr>\n      <th>1729562864</th>\n      <td>26.13</td>\n      <td>76.78</td>\n      <td>1013.72</td>\n      <td>30.67</td>\n      <td>2024-10-22 09:07:44+07:00</td>\n      <td>4.12</td>\n      <td>2024-10-22</td>\n    </tr>\n    <tr>\n      <th>1729562924</th>\n      <td>26.18</td>\n      <td>76.90</td>\n      <td>1013.76</td>\n      <td>30.70</td>\n      <td>2024-10-22 09:08:44+07:00</td>\n      <td>4.12</td>\n      <td>2024-10-22</td>\n    </tr>\n    <tr>\n      <th>1729562984</th>\n      <td>25.99</td>\n      <td>76.14</td>\n      <td>1013.67</td>\n      <td>30.68</td>\n      <td>2024-10-22 09:09:44+07:00</td>\n      <td>4.12</td>\n      <td>2024-10-22</td>\n    </tr>\n    <tr>\n      <th>1729563044</th>\n      <td>25.97</td>\n      <td>75.90</td>\n      <td>1013.69</td>\n      <td>30.71</td>\n      <td>2024-10-22 09:10:44+07:00</td>\n      <td>4.13</td>\n      <td>2024-10-22</td>\n    </tr>\n    <tr>\n      <th>1729563104</th>\n      <td>26.04</td>\n      <td>76.37</td>\n      <td>1013.64</td>\n      <td>30.68</td>\n      <td>2024-10-22 09:11:44+07:00</td>\n      <td>4.13</td>\n      <td>2024-10-22</td>\n    </tr>\n  </tbody>\n</table>\n</div>"
          },
          "metadata": {}
        }
      ],
      "outputs_reference": null,
      "execution_count": 12,
      "block_group": "808f0087166342de86addaa0e30a5b31",
      "content_dependencies": null
    },
    {
      "cell_type": "code",
      "source": "# Simpan DataFrame 'cuacaT' ke file CSV bernama 'Cuaca.csv'\ncuacaT.to_csv(\n#cuacaT.tail(43200).to_csv(\n    'cuaca.csv', \n    sep=',',\n    index=False,\n    index_label='timestamp'\n)",
      "metadata": {
        "source_hash": "86bf466",
        "execution_start": 1729563410409,
        "execution_millis": 8505,
        "execution_context_id": "6f80f745-3a34-4b38-9666-49acb0b72d47",
        "deepnote_app_block_visible": true,
        "cell_id": "1c11bc7b6a354ee8a4081cd58ea8d312",
        "deepnote_cell_type": "code"
      },
      "outputs": [],
      "outputs_reference": null,
      "execution_count": 13,
      "block_group": "2cb19a07ce164b48ad80608ac6639ec6",
      "content_dependencies": null
    },
    {
      "cell_type": "code",
      "source": "datacuaca = pd.read_csv(\"/work/cuaca.csv\")",
      "metadata": {
        "source_hash": "271d66ab",
        "execution_start": 1729563501585,
        "execution_millis": 709,
        "execution_context_id": "6f80f745-3a34-4b38-9666-49acb0b72d47",
        "deepnote_app_block_visible": true,
        "cell_id": "d0def01660394d65a3799c7de64e8e92",
        "deepnote_cell_type": "code"
      },
      "outputs": [],
      "outputs_reference": null,
      "execution_count": 14,
      "block_group": "2358a2ec3719484f9ad3fe6b0510a84f",
      "content_dependencies": null
    },
    {
      "cell_type": "markdown",
      "source": "<a style='text-decoration:none;line-height:16px;display:flex;color:#5B5B62;padding:10px;justify-content:end;' href='https://deepnote.com?utm_source=created-in-deepnote-cell&projectId=200afad5-8991-4e20-8a55-8751c7aff3b5' target=\"_blank\">\n<img alt='Created in deepnote.com' style='display:inline;max-height:16px;margin:0px;margin-right:7.5px;' src='data:image/svg+xml;base64,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' > </img>\nCreated in <span style='font-weight:600;margin-left:4px;'>Deepnote</span></a>",
      "metadata": {
        "created_in_deepnote_cell": true,
        "deepnote_cell_type": "markdown"
      }
    }
  ],
  "nbformat": 4,
  "nbformat_minor": 0,
  "metadata": {
    "deepnote_app_layout": "powerful-article",
    "deepnote_app_reactivity_enabled": true,
    "deepnote_notebook_id": "9215391101864d27b154732897d1c8d6",
    "deepnote_execution_queue": []
  }
}