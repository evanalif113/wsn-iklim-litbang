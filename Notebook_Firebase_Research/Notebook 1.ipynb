{
  "cells": [
    {
      "cell_type": "code",
      "source": "!pip install dash\n!pip install plotly",
      "metadata": {
        "source_hash": "bb995a64",
        "execution_start": 1729691154713,
        "execution_millis": 6826,
        "execution_context_id": "84f41e40-91ce-49bb-a713-897358a02460",
        "cell_id": "fbb3bf4d152f4f0f966085f68194a563",
        "deepnote_cell_type": "code"
      },
      "outputs": [
        {
          "name": "stdout",
          "text": "Requirement already satisfied: dash in /root/venv/lib/python3.11/site-packages (2.18.1)\nRequirement already satisfied: Flask<3.1,>=1.0.4 in /root/venv/lib/python3.11/site-packages (from dash) (3.0.3)\nRequirement already satisfied: Werkzeug<3.1 in /shared-libs/python3.11/py/lib/python3.11/site-packages (from dash) (3.0.0)\nRequirement already satisfied: plotly>=5.0.0 in /shared-libs/python3.11/py/lib/python3.11/site-packages (from dash) (5.20.0)\nRequirement already satisfied: dash-html-components==2.0.0 in /root/venv/lib/python3.11/site-packages (from dash) (2.0.0)\nRequirement already satisfied: dash-core-components==2.0.0 in /root/venv/lib/python3.11/site-packages (from dash) (2.0.0)\nRequirement already satisfied: dash-table==5.0.0 in /root/venv/lib/python3.11/site-packages (from dash) (5.0.0)\nRequirement already satisfied: importlib-metadata in /root/venv/lib/python3.11/site-packages (from dash) (8.5.0)\nRequirement already satisfied: typing-extensions>=4.1.1 in /shared-libs/python3.11/py/lib/python3.11/site-packages (from dash) (4.8.0)\nRequirement already satisfied: requests in /shared-libs/python3.11/py/lib/python3.11/site-packages (from dash) (2.31.0)\nRequirement already satisfied: retrying in /root/venv/lib/python3.11/site-packages (from dash) (1.3.4)\nRequirement already satisfied: nest-asyncio in /shared-libs/python3.11/py-core/lib/python3.11/site-packages (from dash) (1.5.8)\nRequirement already satisfied: setuptools in /root/venv/lib/python3.11/site-packages (from dash) (65.5.0)\nRequirement already satisfied: Jinja2>=3.1.2 in /shared-libs/python3.11/py-core/lib/python3.11/site-packages (from Flask<3.1,>=1.0.4->dash) (3.1.2)\nRequirement already satisfied: itsdangerous>=2.1.2 in /root/venv/lib/python3.11/site-packages (from Flask<3.1,>=1.0.4->dash) (2.2.0)\nRequirement already satisfied: click>=8.1.3 in /shared-libs/python3.11/py/lib/python3.11/site-packages (from Flask<3.1,>=1.0.4->dash) (8.1.7)\nRequirement already satisfied: blinker>=1.6.2 in /root/venv/lib/python3.11/site-packages (from Flask<3.1,>=1.0.4->dash) (1.8.2)\nRequirement already satisfied: tenacity>=6.2.0 in /shared-libs/python3.11/py/lib/python3.11/site-packages (from plotly>=5.0.0->dash) (8.2.3)\nRequirement already satisfied: packaging in /shared-libs/python3.11/py-core/lib/python3.11/site-packages (from plotly>=5.0.0->dash) (23.2)\nRequirement already satisfied: MarkupSafe>=2.1.1 in /shared-libs/python3.11/py-core/lib/python3.11/site-packages (from Werkzeug<3.1->dash) (2.1.3)\nRequirement already satisfied: zipp>=3.20 in /root/venv/lib/python3.11/site-packages (from importlib-metadata->dash) (3.20.2)\nRequirement already satisfied: charset-normalizer<4,>=2 in /shared-libs/python3.11/py/lib/python3.11/site-packages (from requests->dash) (3.3.0)\nRequirement already satisfied: idna<4,>=2.5 in /shared-libs/python3.11/py-core/lib/python3.11/site-packages (from requests->dash) (3.4)\nRequirement already satisfied: urllib3<3,>=1.21.1 in /shared-libs/python3.11/py/lib/python3.11/site-packages (from requests->dash) (1.26.18)\nRequirement already satisfied: certifi>=2017.4.17 in /shared-libs/python3.11/py/lib/python3.11/site-packages (from requests->dash) (2023.7.22)\nRequirement already satisfied: six>=1.7.0 in /shared-libs/python3.11/py-core/lib/python3.11/site-packages (from retrying->dash) (1.16.0)\n\n\u001b[1m[\u001b[0m\u001b[34;49mnotice\u001b[0m\u001b[1;39;49m]\u001b[0m\u001b[39;49m A new release of pip is available: \u001b[0m\u001b[31;49m24.0\u001b[0m\u001b[39;49m -> \u001b[0m\u001b[32;49m24.2\u001b[0m\n\u001b[1m[\u001b[0m\u001b[34;49mnotice\u001b[0m\u001b[1;39;49m]\u001b[0m\u001b[39;49m To update, run: \u001b[0m\u001b[32;49mpip install --upgrade pip\u001b[0m\nRequirement already satisfied: plotly in /shared-libs/python3.11/py/lib/python3.11/site-packages (5.20.0)\nRequirement already satisfied: tenacity>=6.2.0 in /shared-libs/python3.11/py/lib/python3.11/site-packages (from plotly) (8.2.3)\nRequirement already satisfied: packaging in /shared-libs/python3.11/py-core/lib/python3.11/site-packages (from plotly) (23.2)\n\n\u001b[1m[\u001b[0m\u001b[34;49mnotice\u001b[0m\u001b[1;39;49m]\u001b[0m\u001b[39;49m A new release of pip is available: \u001b[0m\u001b[31;49m24.0\u001b[0m\u001b[39;49m -> \u001b[0m\u001b[32;49m24.2\u001b[0m\n\u001b[1m[\u001b[0m\u001b[34;49mnotice\u001b[0m\u001b[1;39;49m]\u001b[0m\u001b[39;49m To update, run: \u001b[0m\u001b[32;49mpip install --upgrade pip\u001b[0m\n",
          "output_type": "stream"
        }
      ],
      "outputs_reference": null,
      "execution_count": 1,
      "block_group": "fbb3bf4d152f4f0f966085f68194a563",
      "content_dependencies": null
    },
    {
      "cell_type": "code",
      "source": "import dash\nfrom dash.dependencies import Output, Input\nimport dash_core_components as dcc\nimport dash_html_components as html\nimport plotly\nimport random\nimport plotly.graph_objs as go\nfrom collections import deque",
      "metadata": {
        "source_hash": "f4645a33",
        "execution_start": 1729691161581,
        "execution_millis": 132,
        "execution_context_id": "84f41e40-91ce-49bb-a713-897358a02460",
        "cell_id": "60a0ede14ad648d498bd4acbcc43d030",
        "deepnote_cell_type": "code"
      },
      "outputs": [
        {
          "name": "stderr",
          "text": "/tmp/ipykernel_92/3678399573.py:3: UserWarning: \nThe dash_core_components package is deprecated. Please replace\n`import dash_core_components as dcc` with `from dash import dcc`\n  import dash_core_components as dcc\n/tmp/ipykernel_92/3678399573.py:4: UserWarning: \nThe dash_html_components package is deprecated. Please replace\n`import dash_html_components as html` with `from dash import html`\n  import dash_html_components as html\n",
          "output_type": "stream"
        }
      ],
      "outputs_reference": null,
      "execution_count": 2,
      "block_group": "dcf26eabf32b415485cae00feb6d80ac",
      "content_dependencies": null
    },
    {
      "cell_type": "code",
      "source": "X = deque(maxlen = 20) \nX.append(1) \n  \nY = deque(maxlen = 20) \nY.append(1) \n  \napp = dash.Dash(__name__) \n  \napp.layout = html.Div( \n    [ \n        dcc.Graph(id = 'live-graph', animate = True), \n        dcc.Interval( \n            id = 'graph-update', \n            interval = 1000, \n            n_intervals = 0\n        ), \n    ] \n) \n  \n@app.callback( \n    Output('live-graph', 'figure'), \n    [ Input('graph-update', 'n_intervals') ] \n) \n  \ndef update_graph_scatter(n): \n    X.append(X[-1]+1) \n    Y.append(Y[-1]+Y[-1] * random.uniform(-0.1,0.1)) \n  \n    data = plotly.graph_objs.Scatter( \n            x=list(X), \n            y=list(Y), \n            name='Scatter', \n            mode= 'lines+markers'\n    ) \n  \n    return {'data': [data], \n            'layout' : go.Layout(xaxis=dict(range=[min(X),max(X)]),yaxis = dict(range = [min(Y),max(Y)]),)} \n  \nif __name__ == '__main__': \n    app.run_server()",
      "metadata": {
        "source_hash": "6e641ad2",
        "execution_start": 1729691161769,
        "execution_millis": 1,
        "execution_context_id": "84f41e40-91ce-49bb-a713-897358a02460",
        "cell_id": "86377f15bafd49d2a6929cdc475665c9",
        "deepnote_cell_type": "code"
      },
      "outputs": [
        {
          "data": {
            "text/plain": "<IPython.lib.display.IFrame at 0x7effceb9b550>",
            "text/html": "\n        <iframe\n            width=\"100%\"\n            height=\"650\"\n            src=\"http://127.0.0.1:8050/\"\n            frameborder=\"0\"\n            allowfullscreen\n            \n        ></iframe>\n        "
          },
          "metadata": {},
          "output_type": "display_data"
        }
      ],
      "outputs_reference": null,
      "execution_count": 3,
      "block_group": "c70c0a24742d40959f808a4c967678d2",
      "content_dependencies": null
    },
    {
      "cell_type": "markdown",
      "source": "<a style='text-decoration:none;line-height:16px;display:flex;color:#5B5B62;padding:10px;justify-content:end;' href='https://deepnote.com?utm_source=created-in-deepnote-cell&projectId=200afad5-8991-4e20-8a55-8751c7aff3b5' target=\"_blank\">\n<img alt='Created in deepnote.com' style='display:inline;max-height:16px;margin:0px;margin-right:7.5px;' src='data:image/svg+xml;base64,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' > </img>\nCreated in <span style='font-weight:600;margin-left:4px;'>Deepnote</span></a>",
      "metadata": {
        "created_in_deepnote_cell": true,
        "deepnote_cell_type": "markdown"
      }
    }
  ],
  "nbformat": 4,
  "nbformat_minor": 0,
  "metadata": {
    "deepnote_notebook_id": "70c6a4c80350452eb5275a8767326fb2",
    "deepnote_execution_queue": []
  }
}