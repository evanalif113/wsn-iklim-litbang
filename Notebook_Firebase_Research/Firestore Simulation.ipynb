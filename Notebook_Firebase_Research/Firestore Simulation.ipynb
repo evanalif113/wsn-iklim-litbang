{
  "cells": [
    {
      "cell_type": "markdown",
      "source": "",
      "metadata": {
        "formattedRanges": [],
        "cell_id": "1cc7f553c57d4f39b761d3b293acc1c4",
        "deepnote_cell_type": "text-cell-p"
      },
      "block_group": "e5fc2176884f492a894e91157ab7c62f"
    },
    {
      "cell_type": "code",
      "source": "import firebase_admin\nfrom firebase_admin import credentials, db\nfrom datetime import datetime  # Untuk konversi timestamp ke human-readable",
      "metadata": {
        "source_hash": "c46097e",
        "execution_start": 1728880340309,
        "execution_millis": 0,
        "execution_context_id": "bcaba7c8-2bec-4ffe-96df-8f7ceebb5f93",
        "deepnote_app_block_visible": true,
        "cell_id": "561f2ebf823d4e85b53bdf7cad36afd7",
        "deepnote_cell_type": "code"
      },
      "outputs": [],
      "outputs_reference": null,
      "execution_count": 6,
      "block_group": "f5848471b3b84c1fb90d3ceb28889cca",
      "content_dependencies": null
    },
    {
      "cell_type": "code",
      "source": "# Inisialisasi Firebase Admin SDK\ncred = credentials.Certificate('/work/database-sensor-iklim-litbang-firebase-admin.json')  # Sesuaikan dengan path file JSON\nfirebase_admin.initialize_app(cred, {\n    'databaseURL': 'https://database-sensor-iklim-litbang-default-rtdb.asia-southeast1.firebasedatabase.app/'  # Ganti dengan URL Firebase RTDB kamu\n})",
      "metadata": {
        "deepnote_app_block_visible": true,
        "cell_id": "57f32af2575a46a6bd43fc254e1b6e43",
        "deepnote_cell_type": "code"
      },
      "outputs": [],
      "outputs_reference": null,
      "execution_count": null,
      "block_group": "61796429274747ccb7c96c40d229f11d",
      "content_dependencies": null
    },
    {
      "cell_type": "code",
      "source": "# Referensi ke Firebase RTDB\nref = db.reference('auto_weather_stat/id-03/data')\n\n# Query untuk mengambil data dengan timestamp terbaru\nquery = ref.order_by_key().limit_to_last(5)  # Mengambil 5 item terakhir berdasarkan timestamp (key)\nresult = query.get()\n\n# Menampilkan timestamp terakhir dan mengubahnya ke human-readable\nif result:\n    for key, value in result.items():\n        # Konversi timestamp Unix ke human-readable (UTC)\n        human_readable_timestamp = datetime.utcfromtimestamp(int(key)).strftime('%Y-%m-%d %H:%M:%S')\n\n        print(\"Timestamp terakhir (Unix):\", key)\n        print(\"Timestamp terakhir (Human-readable):\", human_readable_timestamp)\n        print(\"Data terakhir:\", value)\nelse:\n    print(\"Tidak ada data ditemukan.\")\n",
      "metadata": {
        "source_hash": "6c61fb51",
        "execution_start": 1728880143645,
        "execution_millis": 197,
        "execution_context_id": "bcaba7c8-2bec-4ffe-96df-8f7ceebb5f93",
        "deepnote_app_block_visible": true,
        "cell_id": "a06276369ee84db7a89aa7a82c06cf34",
        "deepnote_cell_type": "code"
      },
      "outputs": [
        {
          "name": "stdout",
          "text": "Timestamp terakhir (Unix): 1703807613\nTimestamp terakhir (Human-readable): 2023-12-28 23:53:33\nData terakhir: {'dew': '25.74', 'humidity': '88.51', 'pressure': '1012.40', 'temperature': '27.81', 'timestamp': '1703807613', 'volt': '4.13'}\nTimestamp terakhir (Unix): 1703807673\nTimestamp terakhir (Human-readable): 2023-12-28 23:54:33\nData terakhir: {'dew': '25.47', 'humidity': '87.20', 'pressure': '1012.43', 'temperature': '27.80', 'timestamp': '1703807673', 'volt': '4.12'}\nTimestamp terakhir (Unix): 1703807733\nTimestamp terakhir (Human-readable): 2023-12-28 23:55:33\nData terakhir: {'dew': '25.60', 'humidity': '87.86', 'pressure': '1012.44', 'temperature': '27.80', 'timestamp': '1703807733', 'volt': '4.09'}\nTimestamp terakhir (Unix): 1703807793\nTimestamp terakhir (Human-readable): 2023-12-28 23:56:33\nData terakhir: {'dew': '25.65', 'humidity': '87.66', 'pressure': '1012.46', 'temperature': '27.89', 'timestamp': '1703807793', 'volt': '4.11'}\nTimestamp terakhir (Unix): 1703807853\nTimestamp terakhir (Human-readable): 2023-12-28 23:57:33\nData terakhir: {'dew': '25.53', 'humidity': '86.67', 'pressure': '1012.43', 'temperature': '27.96', 'timestamp': '1703807853', 'volt': '4.11'}\n",
          "output_type": "stream"
        }
      ],
      "outputs_reference": null,
      "execution_count": 4,
      "block_group": "7f900ceeb04949da9db6bc80622d21f8",
      "content_dependencies": null
    },
    {
      "cell_type": "code",
      "source": "# Inisialisasi Firebase Admin SDK\ncred = credentials.Certificate('/work/staklimjerukagung-firebase-admin.json')  # Sesuaikan dengan path file JSON\nfirebase_admin.initialize_app(cred, {\n    'databaseURL': 'https://staklimjerukagung-default-rtdb.asia-southeast1.firebasedatabase.app/'  # Ganti dengan URL Firebase RTDB kamu\n})",
      "metadata": {
        "source_hash": "856ae2a5",
        "execution_start": 1728880305824,
        "execution_millis": 249,
        "execution_context_id": "bcaba7c8-2bec-4ffe-96df-8f7ceebb5f93",
        "deepnote_app_block_visible": true,
        "cell_id": "bb618d7b081f4b6f9e3001b8c0511407",
        "deepnote_cell_type": "code"
      },
      "outputs": [
        {
          "output_type": "error",
          "ename": "ValueError",
          "evalue": "The default Firebase app already exists. This means you called initialize_app() more than once without providing an app name as the second argument. In most cases you only need to call initialize_app() once. But if you do want to initialize multiple apps, pass a second argument to initialize_app() to give each app a unique name.",
          "traceback": [
            "\u001b[0;31m---------------------------------------------------------------------------\u001b[0m",
            "\u001b[0;31mValueError\u001b[0m                                Traceback (most recent call last)",
            "Cell \u001b[0;32mIn[5], line 3\u001b[0m\n\u001b[1;32m      1\u001b[0m \u001b[38;5;66;03m# Inisialisasi Firebase Admin SDK\u001b[39;00m\n\u001b[1;32m      2\u001b[0m cred \u001b[38;5;241m=\u001b[39m credentials\u001b[38;5;241m.\u001b[39mCertificate(\u001b[38;5;124m'\u001b[39m\u001b[38;5;124m/work/staklimjerukagung-firebase-admin.json\u001b[39m\u001b[38;5;124m'\u001b[39m)  \u001b[38;5;66;03m# Sesuaikan dengan path file JSON\u001b[39;00m\n\u001b[0;32m----> 3\u001b[0m \u001b[43mfirebase_admin\u001b[49m\u001b[38;5;241;43m.\u001b[39;49m\u001b[43minitialize_app\u001b[49m\u001b[43m(\u001b[49m\u001b[43mcred\u001b[49m\u001b[43m,\u001b[49m\u001b[43m \u001b[49m\u001b[43m{\u001b[49m\n\u001b[1;32m      4\u001b[0m \u001b[43m    \u001b[49m\u001b[38;5;124;43m'\u001b[39;49m\u001b[38;5;124;43mdatabaseURL\u001b[39;49m\u001b[38;5;124;43m'\u001b[39;49m\u001b[43m:\u001b[49m\u001b[43m \u001b[49m\u001b[38;5;124;43m'\u001b[39;49m\u001b[38;5;124;43mhttps://staklimjerukagung-default-rtdb.asia-southeast1.firebasedatabase.app/\u001b[39;49m\u001b[38;5;124;43m'\u001b[39;49m\u001b[43m  \u001b[49m\u001b[38;5;66;43;03m# Ganti dengan URL Firebase RTDB kamu\u001b[39;49;00m\n\u001b[1;32m      5\u001b[0m \u001b[43m}\u001b[49m\u001b[43m)\u001b[49m\n",
            "File \u001b[0;32m~/venv/lib/python3.11/site-packages/firebase_admin/__init__.py:73\u001b[0m, in \u001b[0;36minitialize_app\u001b[0;34m(credential, options, name)\u001b[0m\n\u001b[1;32m     70\u001b[0m         \u001b[38;5;28;01mreturn\u001b[39;00m app\n\u001b[1;32m     72\u001b[0m \u001b[38;5;28;01mif\u001b[39;00m name \u001b[38;5;241m==\u001b[39m _DEFAULT_APP_NAME:\n\u001b[0;32m---> 73\u001b[0m     \u001b[38;5;28;01mraise\u001b[39;00m \u001b[38;5;167;01mValueError\u001b[39;00m((\n\u001b[1;32m     74\u001b[0m         \u001b[38;5;124m'\u001b[39m\u001b[38;5;124mThe default Firebase app already exists. This means you called \u001b[39m\u001b[38;5;124m'\u001b[39m\n\u001b[1;32m     75\u001b[0m         \u001b[38;5;124m'\u001b[39m\u001b[38;5;124minitialize_app() more than once without providing an app name as \u001b[39m\u001b[38;5;124m'\u001b[39m\n\u001b[1;32m     76\u001b[0m         \u001b[38;5;124m'\u001b[39m\u001b[38;5;124mthe second argument. In most cases you only need to call \u001b[39m\u001b[38;5;124m'\u001b[39m\n\u001b[1;32m     77\u001b[0m         \u001b[38;5;124m'\u001b[39m\u001b[38;5;124minitialize_app() once. But if you do want to initialize multiple \u001b[39m\u001b[38;5;124m'\u001b[39m\n\u001b[1;32m     78\u001b[0m         \u001b[38;5;124m'\u001b[39m\u001b[38;5;124mapps, pass a second argument to initialize_app() to give each app \u001b[39m\u001b[38;5;124m'\u001b[39m\n\u001b[1;32m     79\u001b[0m         \u001b[38;5;124m'\u001b[39m\u001b[38;5;124ma unique name.\u001b[39m\u001b[38;5;124m'\u001b[39m))\n\u001b[1;32m     81\u001b[0m \u001b[38;5;28;01mraise\u001b[39;00m \u001b[38;5;167;01mValueError\u001b[39;00m((\n\u001b[1;32m     82\u001b[0m     \u001b[38;5;124m'\u001b[39m\u001b[38;5;124mFirebase app named \u001b[39m\u001b[38;5;124m\"\u001b[39m\u001b[38;5;132;01m{0}\u001b[39;00m\u001b[38;5;124m\"\u001b[39m\u001b[38;5;124m already exists. This means you called \u001b[39m\u001b[38;5;124m'\u001b[39m\n\u001b[1;32m     83\u001b[0m     \u001b[38;5;124m'\u001b[39m\u001b[38;5;124minitialize_app() more than once with the same app name as the \u001b[39m\u001b[38;5;124m'\u001b[39m\n\u001b[1;32m     84\u001b[0m     \u001b[38;5;124m'\u001b[39m\u001b[38;5;124msecond argument. Make sure you provide a unique name every time \u001b[39m\u001b[38;5;124m'\u001b[39m\n\u001b[1;32m     85\u001b[0m     \u001b[38;5;124m'\u001b[39m\u001b[38;5;124myou call initialize_app().\u001b[39m\u001b[38;5;124m'\u001b[39m)\u001b[38;5;241m.\u001b[39mformat(name))\n",
            "\u001b[0;31mValueError\u001b[0m: The default Firebase app already exists. This means you called initialize_app() more than once without providing an app name as the second argument. In most cases you only need to call initialize_app() once. But if you do want to initialize multiple apps, pass a second argument to initialize_app() to give each app a unique name."
          ]
        }
      ],
      "outputs_reference": null,
      "execution_count": 5,
      "block_group": "ff2118efac004f90876f9ca2adea0ecb",
      "content_dependencies": null
    },
    {
      "cell_type": "markdown",
      "source": "<a style='text-decoration:none;line-height:16px;display:flex;color:#5B5B62;padding:10px;justify-content:end;' href='https://deepnote.com?utm_source=created-in-deepnote-cell&projectId=200afad5-8991-4e20-8a55-8751c7aff3b5' target=\"_blank\">\n<img alt='Created in deepnote.com' style='display:inline;max-height:16px;margin:0px;margin-right:7.5px;' src='data:image/svg+xml;base64,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' > </img>\nCreated in <span style='font-weight:600;margin-left:4px;'>Deepnote</span></a>",
      "metadata": {
        "created_in_deepnote_cell": true,
        "deepnote_cell_type": "markdown"
      }
    }
  ],
  "nbformat": 4,
  "nbformat_minor": 0,
  "metadata": {
    "deepnote_app_layout": "powerful-article",
    "deepnote_app_reactivity_enabled": true,
    "deepnote_notebook_id": "deb1dce7320e4dddaa343bb146dc6c91",
    "deepnote_execution_queue": []
  }
}