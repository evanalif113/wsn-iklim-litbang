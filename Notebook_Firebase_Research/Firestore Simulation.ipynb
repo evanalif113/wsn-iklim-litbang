{
  "cells": [
    {
      "cell_type": "markdown",
      "source": "",
      "metadata": {
        "formattedRanges": [],
        "cell_id": "1cc7f553c57d4f39b761d3b293acc1c4",
        "deepnote_cell_type": "text-cell-p"
      },
      "block_group": "e5fc2176884f492a894e91157ab7c62f"
    },
    {
      "cell_type": "code",
      "source": "!pip install firebase-admin\nimport firebase_admin\nfrom firebase_admin import credentials, db\nfrom datetime import datetime  # Untuk konversi timestamp ke human-readable",
      "metadata": {
        "source_hash": "4b414174",
        "execution_start": 1728919536287,
        "execution_millis": 5583,
        "execution_context_id": "e8ac6f06-45e4-4207-86dd-629a9f48e014",
        "deepnote_app_block_visible": true,
        "cell_id": "561f2ebf823d4e85b53bdf7cad36afd7",
        "deepnote_cell_type": "code"
      },
      "outputs": [
        {
          "name": "stdout",
          "text": "Collecting firebase-admin\n  Downloading firebase_admin-6.5.0-py3-none-any.whl.metadata (1.5 kB)\nCollecting cachecontrol>=0.12.6 (from firebase-admin)\n  Downloading cachecontrol-0.14.0-py3-none-any.whl.metadata (3.1 kB)\nCollecting google-api-python-client>=1.7.8 (from firebase-admin)\n  Downloading google_api_python_client-2.149.0-py2.py3-none-any.whl.metadata (6.7 kB)\nCollecting google-cloud-storage>=1.37.1 (from firebase-admin)\n  Downloading google_cloud_storage-2.18.2-py2.py3-none-any.whl.metadata (9.1 kB)\nRequirement already satisfied: pyjwt>=2.5.0 in /shared-libs/python3.11/py/lib/python3.11/site-packages (from pyjwt[crypto]>=2.5.0->firebase-admin) (2.8.0)\nRequirement already satisfied: google-api-core<3.0.0dev,>=1.22.1 in /shared-libs/python3.11/py/lib/python3.11/site-packages (from google-api-core[grpc]<3.0.0dev,>=1.22.1; platform_python_implementation != \"PyPy\"->firebase-admin) (2.12.0)\nCollecting google-cloud-firestore>=2.9.1 (from firebase-admin)\n  Downloading google_cloud_firestore-2.19.0-py2.py3-none-any.whl.metadata (5.7 kB)\nRequirement already satisfied: requests>=2.16.0 in /shared-libs/python3.11/py/lib/python3.11/site-packages (from cachecontrol>=0.12.6->firebase-admin) (2.31.0)\nCollecting msgpack<2.0.0,>=0.5.2 (from cachecontrol>=0.12.6->firebase-admin)\n  Downloading msgpack-1.1.0-cp311-cp311-manylinux_2_17_x86_64.manylinux2014_x86_64.whl.metadata (8.4 kB)\nRequirement already satisfied: googleapis-common-protos<2.0.dev0,>=1.56.2 in /shared-libs/python3.11/py/lib/python3.11/site-packages (from google-api-core<3.0.0dev,>=1.22.1->google-api-core[grpc]<3.0.0dev,>=1.22.1; platform_python_implementation != \"PyPy\"->firebase-admin) (1.61.0)\nRequirement already satisfied: protobuf!=3.20.0,!=3.20.1,!=4.21.0,!=4.21.1,!=4.21.2,!=4.21.3,!=4.21.4,!=4.21.5,<5.0.0.dev0,>=3.19.5 in /shared-libs/python3.11/py/lib/python3.11/site-packages (from google-api-core<3.0.0dev,>=1.22.1->google-api-core[grpc]<3.0.0dev,>=1.22.1; platform_python_implementation != \"PyPy\"->firebase-admin) (4.24.4)\nRequirement already satisfied: google-auth<3.0.dev0,>=2.14.1 in /shared-libs/python3.11/py/lib/python3.11/site-packages (from google-api-core<3.0.0dev,>=1.22.1->google-api-core[grpc]<3.0.0dev,>=1.22.1; platform_python_implementation != \"PyPy\"->firebase-admin) (2.23.3)\nRequirement already satisfied: grpcio<2.0dev,>=1.33.2 in /shared-libs/python3.11/py/lib/python3.11/site-packages (from google-api-core[grpc]<3.0.0dev,>=1.22.1; platform_python_implementation != \"PyPy\"->firebase-admin) (1.59.0)\nRequirement already satisfied: grpcio-status<2.0.dev0,>=1.33.2 in /shared-libs/python3.11/py/lib/python3.11/site-packages (from google-api-core[grpc]<3.0.0dev,>=1.22.1; platform_python_implementation != \"PyPy\"->firebase-admin) (1.59.0)\nCollecting httplib2<1.dev0,>=0.19.0 (from google-api-python-client>=1.7.8->firebase-admin)\n  Downloading httplib2-0.22.0-py3-none-any.whl.metadata (2.6 kB)\nCollecting google-auth-httplib2<1.0.0,>=0.2.0 (from google-api-python-client>=1.7.8->firebase-admin)\n  Downloading google_auth_httplib2-0.2.0-py2.py3-none-any.whl.metadata (2.2 kB)\nCollecting uritemplate<5,>=3.0.1 (from google-api-python-client>=1.7.8->firebase-admin)\n  Downloading uritemplate-4.1.1-py2.py3-none-any.whl.metadata (2.9 kB)\nRequirement already satisfied: google-cloud-core<3.0.0dev,>=1.4.1 in /shared-libs/python3.11/py/lib/python3.11/site-packages (from google-cloud-firestore>=2.9.1->firebase-admin) (2.3.3)\nRequirement already satisfied: proto-plus<2.0.0dev,>=1.22.0 in /shared-libs/python3.11/py/lib/python3.11/site-packages (from google-cloud-firestore>=2.9.1->firebase-admin) (1.22.3)\nCollecting google-auth<3.0.dev0,>=2.14.1 (from google-api-core<3.0.0dev,>=1.22.1->google-api-core[grpc]<3.0.0dev,>=1.22.1; platform_python_implementation != \"PyPy\"->firebase-admin)\n  Downloading google_auth-2.35.0-py2.py3-none-any.whl.metadata (4.7 kB)\nINFO: pip is looking at multiple versions of google-cloud-storage to determine which version is compatible with other requirements. This could take a while.\nCollecting google-cloud-storage>=1.37.1 (from firebase-admin)\n  Downloading google_cloud_storage-2.18.1-py2.py3-none-any.whl.metadata (9.1 kB)\n  Downloading google_cloud_storage-2.18.0-py2.py3-none-any.whl.metadata (9.1 kB)\n  Downloading google_cloud_storage-2.17.0-py2.py3-none-any.whl.metadata (6.6 kB)\n  Downloading google_cloud_storage-2.16.0-py2.py3-none-any.whl.metadata (6.1 kB)\n  Downloading google_cloud_storage-2.15.0-py2.py3-none-any.whl.metadata (6.1 kB)\n  Downloading google_cloud_storage-2.14.0-py2.py3-none-any.whl.metadata (6.1 kB)\nRequirement already satisfied: google-resumable-media>=2.6.0 in /shared-libs/python3.11/py/lib/python3.11/site-packages (from google-cloud-storage>=1.37.1->firebase-admin) (2.6.0)\nRequirement already satisfied: google-crc32c<2.0dev,>=1.0 in /shared-libs/python3.11/py/lib/python3.11/site-packages (from google-cloud-storage>=1.37.1->firebase-admin) (1.5.0)\nRequirement already satisfied: cryptography>=3.4.0 in /shared-libs/python3.11/py/lib/python3.11/site-packages (from pyjwt[crypto]>=2.5.0->firebase-admin) (41.0.4)\nRequirement already satisfied: cffi>=1.12 in /shared-libs/python3.11/py-core/lib/python3.11/site-packages (from cryptography>=3.4.0->pyjwt[crypto]>=2.5.0->firebase-admin) (1.16.0)\nRequirement already satisfied: cachetools<6.0,>=2.0.0 in /shared-libs/python3.11/py/lib/python3.11/site-packages (from google-auth<3.0.dev0,>=2.14.1->google-api-core<3.0.0dev,>=1.22.1->google-api-core[grpc]<3.0.0dev,>=1.22.1; platform_python_implementation != \"PyPy\"->firebase-admin) (5.3.1)\nRequirement already satisfied: pyasn1-modules>=0.2.1 in /shared-libs/python3.11/py/lib/python3.11/site-packages (from google-auth<3.0.dev0,>=2.14.1->google-api-core<3.0.0dev,>=1.22.1->google-api-core[grpc]<3.0.0dev,>=1.22.1; platform_python_implementation != \"PyPy\"->firebase-admin) (0.3.0)\nRequirement already satisfied: rsa<5,>=3.1.4 in /shared-libs/python3.11/py/lib/python3.11/site-packages (from google-auth<3.0.dev0,>=2.14.1->google-api-core<3.0.0dev,>=1.22.1->google-api-core[grpc]<3.0.0dev,>=1.22.1; platform_python_implementation != \"PyPy\"->firebase-admin) (4.9)\nRequirement already satisfied: pyparsing!=3.0.0,!=3.0.1,!=3.0.2,!=3.0.3,<4,>=2.4.2 in /shared-libs/python3.11/py/lib/python3.11/site-packages (from httplib2<1.dev0,>=0.19.0->google-api-python-client>=1.7.8->firebase-admin) (3.1.1)\nRequirement already satisfied: charset-normalizer<4,>=2 in /shared-libs/python3.11/py/lib/python3.11/site-packages (from requests>=2.16.0->cachecontrol>=0.12.6->firebase-admin) (3.3.0)\nRequirement already satisfied: idna<4,>=2.5 in /shared-libs/python3.11/py-core/lib/python3.11/site-packages (from requests>=2.16.0->cachecontrol>=0.12.6->firebase-admin) (3.4)\nRequirement already satisfied: urllib3<3,>=1.21.1 in /shared-libs/python3.11/py/lib/python3.11/site-packages (from requests>=2.16.0->cachecontrol>=0.12.6->firebase-admin) (1.26.18)\nRequirement already satisfied: certifi>=2017.4.17 in /shared-libs/python3.11/py/lib/python3.11/site-packages (from requests>=2.16.0->cachecontrol>=0.12.6->firebase-admin) (2023.7.22)\nRequirement already satisfied: pycparser in /shared-libs/python3.11/py-core/lib/python3.11/site-packages (from cffi>=1.12->cryptography>=3.4.0->pyjwt[crypto]>=2.5.0->firebase-admin) (2.21)\nRequirement already satisfied: pyasn1<0.6.0,>=0.4.6 in /shared-libs/python3.11/py/lib/python3.11/site-packages (from pyasn1-modules>=0.2.1->google-auth<3.0.dev0,>=2.14.1->google-api-core<3.0.0dev,>=1.22.1->google-api-core[grpc]<3.0.0dev,>=1.22.1; platform_python_implementation != \"PyPy\"->firebase-admin) (0.5.0)\nDownloading firebase_admin-6.5.0-py3-none-any.whl (126 kB)\n\u001b[2K   \u001b[90m━━━━━━━━━━━━━━━━━━━━━━━━━━━━━━━━━━━━━━━━\u001b[0m \u001b[32m126.3/126.3 kB\u001b[0m \u001b[31m12.2 MB/s\u001b[0m eta \u001b[36m0:00:00\u001b[0m\n\u001b[?25hDownloading cachecontrol-0.14.0-py3-none-any.whl (22 kB)\nDownloading google_api_python_client-2.149.0-py2.py3-none-any.whl (12.3 MB)\n\u001b[2K   \u001b[90m━━━━━━━━━━━━━━━━━━━━━━━━━━━━━━━━━━━━━━━━\u001b[0m \u001b[32m12.3/12.3 MB\u001b[0m \u001b[31m108.2 MB/s\u001b[0m eta \u001b[36m0:00:00\u001b[0m\n\u001b[?25hDownloading google_cloud_firestore-2.19.0-py2.py3-none-any.whl (336 kB)\n\u001b[2K   \u001b[90m━━━━━━━━━━━━━━━━━━━━━━━━━━━━━━━━━━━━━━━━\u001b[0m \u001b[32m336.8/336.8 kB\u001b[0m \u001b[31m51.3 MB/s\u001b[0m eta \u001b[36m0:00:00\u001b[0m\n\u001b[?25hDownloading google_cloud_storage-2.14.0-py2.py3-none-any.whl (121 kB)\n\u001b[2K   \u001b[90m━━━━━━━━━━━━━━━━━━━━━━━━━━━━━━━━━━━━━━━━\u001b[0m \u001b[32m121.6/121.6 kB\u001b[0m \u001b[31m25.5 MB/s\u001b[0m eta \u001b[36m0:00:00\u001b[0m\n\u001b[?25hDownloading google_auth_httplib2-0.2.0-py2.py3-none-any.whl (9.3 kB)\nDownloading httplib2-0.22.0-py3-none-any.whl (96 kB)\n\u001b[2K   \u001b[90m━━━━━━━━━━━━━━━━━━━━━━━━━━━━━━━━━━━━━━━━\u001b[0m \u001b[32m96.9/96.9 kB\u001b[0m \u001b[31m19.4 MB/s\u001b[0m eta \u001b[36m0:00:00\u001b[0m\n\u001b[?25hDownloading msgpack-1.1.0-cp311-cp311-manylinux_2_17_x86_64.manylinux2014_x86_64.whl (403 kB)\n\u001b[2K   \u001b[90m━━━━━━━━━━━━━━━━━━━━━━━━━━━━━━━━━━━━━━━━\u001b[0m \u001b[32m403.7/403.7 kB\u001b[0m \u001b[31m44.5 MB/s\u001b[0m eta \u001b[36m0:00:00\u001b[0m\n\u001b[?25hDownloading uritemplate-4.1.1-py2.py3-none-any.whl (10 kB)\nInstalling collected packages: uritemplate, msgpack, httplib2, cachecontrol, google-auth-httplib2, google-api-python-client, google-cloud-storage, google-cloud-firestore, firebase-admin\nSuccessfully installed cachecontrol-0.14.0 firebase-admin-6.5.0 google-api-python-client-2.149.0 google-auth-httplib2-0.2.0 google-cloud-firestore-2.19.0 google-cloud-storage-2.14.0 httplib2-0.22.0 msgpack-1.1.0 uritemplate-4.1.1\n\n\u001b[1m[\u001b[0m\u001b[34;49mnotice\u001b[0m\u001b[1;39;49m]\u001b[0m\u001b[39;49m A new release of pip is available: \u001b[0m\u001b[31;49m24.0\u001b[0m\u001b[39;49m -> \u001b[0m\u001b[32;49m24.2\u001b[0m\n\u001b[1m[\u001b[0m\u001b[34;49mnotice\u001b[0m\u001b[1;39;49m]\u001b[0m\u001b[39;49m To update, run: \u001b[0m\u001b[32;49mpip install --upgrade pip\u001b[0m\n",
          "output_type": "stream"
        }
      ],
      "outputs_reference": null,
      "execution_count": 1,
      "block_group": "f5848471b3b84c1fb90d3ceb28889cca",
      "content_dependencies": null
    },
    {
      "cell_type": "code",
      "source": "# Inisialisasi Firebase Admin SDK\ncred = credentials.Certificate('/work/database-sensor-iklim-litbang-firebase-admin.json')  # Sesuaikan dengan path file JSON\nfirebase_admin.initialize_app(cred, {\n    'databaseURL': 'https://database-sensor-iklim-litbang-default-rtdb.asia-southeast1.firebasedatabase.app/'  # Ganti dengan URL Firebase RTDB kamu\n})",
      "metadata": {
        "source_hash": "231ef031",
        "execution_start": 1728919687055,
        "execution_millis": 126,
        "execution_context_id": "e8ac6f06-45e4-4207-86dd-629a9f48e014",
        "deepnote_app_block_visible": true,
        "cell_id": "57f32af2575a46a6bd43fc254e1b6e43",
        "deepnote_cell_type": "code"
      },
      "outputs": [
        {
          "output_type": "execute_result",
          "execution_count": 2,
          "data": {
            "text/plain": "<firebase_admin.App at 0x7f0a315a5ad0>"
          },
          "metadata": {}
        }
      ],
      "outputs_reference": null,
      "execution_count": 2,
      "block_group": "61796429274747ccb7c96c40d229f11d",
      "content_dependencies": null
    },
    {
      "cell_type": "code",
      "source": "# Referensi ke Firebase RTDB\nref = db.reference('auto_weather_stat/id-03/data')\n\n# Query untuk mengambil data dengan timestamp terbaru\nquery = ref.order_by_key().limit_to_last(5)  # Mengambil 5 item terakhir berdasarkan timestamp (key)\nresult = query.get()\n\n# Menampilkan timestamp terakhir dan mengubahnya ke human-readable\nif result:\n    for key, value in result.items():\n        # Konversi timestamp Unix ke human-readable (UTC)\n        human_readable_timestamp = datetime.utcfromtimestamp(int(key)).strftime('%Y-%m-%d %H:%M:%S')\n\n        print(\"Timestamp terakhir (Unix):\", key)\n        print(\"Timestamp terakhir (Human-readable):\", human_readable_timestamp)\n        print(\"Data terakhir:\", value)\nelse:\n    print(\"Tidak ada data ditemukan.\")\n",
      "metadata": {
        "source_hash": "6c61fb51",
        "execution_start": 1728919693179,
        "execution_millis": 1219,
        "execution_context_id": "e8ac6f06-45e4-4207-86dd-629a9f48e014",
        "deepnote_app_block_visible": true,
        "cell_id": "a06276369ee84db7a89aa7a82c06cf34",
        "deepnote_cell_type": "code"
      },
      "outputs": [
        {
          "name": "stdout",
          "text": "Timestamp terakhir (Unix): 1710575589\nTimestamp terakhir (Human-readable): 2024-03-16 07:53:09\nData terakhir: {'dew': '25.28', 'humidity': '69.71', 'pressure': '1009.30', 'temperature': '31.48', 'timestamp': '1710575589', 'volt': '4.11'}\nTimestamp terakhir (Unix): 1710575649\nTimestamp terakhir (Human-readable): 2024-03-16 07:54:09\nData terakhir: {'dew': '25.40', 'humidity': '69.83', 'pressure': '1009.26', 'temperature': '31.58', 'timestamp': '1710575649', 'volt': '4.11'}\nTimestamp terakhir (Unix): 1710575709\nTimestamp terakhir (Human-readable): 2024-03-16 07:55:09\nData terakhir: {'dew': '25.22', 'humidity': '69.26', 'pressure': '1009.30', 'temperature': '31.54', 'timestamp': '1710575709', 'volt': '4.12'}\nTimestamp terakhir (Unix): 1710575770\nTimestamp terakhir (Human-readable): 2024-03-16 07:56:10\nData terakhir: {'dew': '25.16', 'humidity': '68.79', 'pressure': '1009.25', 'temperature': '31.59', 'timestamp': '1710575770', 'volt': '4.11'}\nTimestamp terakhir (Unix): 1710575829\nTimestamp terakhir (Human-readable): 2024-03-16 07:57:09\nData terakhir: {'dew': '25.04', 'humidity': '68.19', 'pressure': '1009.23', 'temperature': '31.62', 'timestamp': '1710575829', 'volt': '4.11'}\n",
          "output_type": "stream"
        }
      ],
      "outputs_reference": null,
      "execution_count": 3,
      "block_group": "7f900ceeb04949da9db6bc80622d21f8",
      "content_dependencies": null
    },
    {
      "cell_type": "code",
      "source": "# Inisialisasi Firebase Admin SDK\ncred = credentials.Certificate('/work/staklimjerukagung-firebase-admin.json')  # Sesuaikan dengan path file JSON\nfirebase_admin.initialize_app(cred, {\n    'databaseURL': 'https://staklimjerukagung-default-rtdb.asia-southeast1.firebasedatabase.app/'  # Ganti dengan URL Firebase RTDB kamu\n})",
      "metadata": {
        "source_hash": "856ae2a5",
        "execution_start": 1728880305824,
        "execution_millis": 249,
        "execution_context_id": "bcaba7c8-2bec-4ffe-96df-8f7ceebb5f93",
        "deepnote_app_block_visible": true,
        "cell_id": "bb618d7b081f4b6f9e3001b8c0511407",
        "deepnote_cell_type": "code"
      },
      "outputs": [
        {
          "output_type": "error",
          "ename": "ValueError",
          "evalue": "The default Firebase app already exists. This means you called initialize_app() more than once without providing an app name as the second argument. In most cases you only need to call initialize_app() once. But if you do want to initialize multiple apps, pass a second argument to initialize_app() to give each app a unique name.",
          "traceback": [
            "\u001b[0;31m---------------------------------------------------------------------------\u001b[0m",
            "\u001b[0;31mValueError\u001b[0m                                Traceback (most recent call last)",
            "Cell \u001b[0;32mIn[5], line 3\u001b[0m\n\u001b[1;32m      1\u001b[0m \u001b[38;5;66;03m# Inisialisasi Firebase Admin SDK\u001b[39;00m\n\u001b[1;32m      2\u001b[0m cred \u001b[38;5;241m=\u001b[39m credentials\u001b[38;5;241m.\u001b[39mCertificate(\u001b[38;5;124m'\u001b[39m\u001b[38;5;124m/work/staklimjerukagung-firebase-admin.json\u001b[39m\u001b[38;5;124m'\u001b[39m)  \u001b[38;5;66;03m# Sesuaikan dengan path file JSON\u001b[39;00m\n\u001b[0;32m----> 3\u001b[0m \u001b[43mfirebase_admin\u001b[49m\u001b[38;5;241;43m.\u001b[39;49m\u001b[43minitialize_app\u001b[49m\u001b[43m(\u001b[49m\u001b[43mcred\u001b[49m\u001b[43m,\u001b[49m\u001b[43m \u001b[49m\u001b[43m{\u001b[49m\n\u001b[1;32m      4\u001b[0m \u001b[43m    \u001b[49m\u001b[38;5;124;43m'\u001b[39;49m\u001b[38;5;124;43mdatabaseURL\u001b[39;49m\u001b[38;5;124;43m'\u001b[39;49m\u001b[43m:\u001b[49m\u001b[43m \u001b[49m\u001b[38;5;124;43m'\u001b[39;49m\u001b[38;5;124;43mhttps://staklimjerukagung-default-rtdb.asia-southeast1.firebasedatabase.app/\u001b[39;49m\u001b[38;5;124;43m'\u001b[39;49m\u001b[43m  \u001b[49m\u001b[38;5;66;43;03m# Ganti dengan URL Firebase RTDB kamu\u001b[39;49;00m\n\u001b[1;32m      5\u001b[0m \u001b[43m}\u001b[49m\u001b[43m)\u001b[49m\n",
            "File \u001b[0;32m~/venv/lib/python3.11/site-packages/firebase_admin/__init__.py:73\u001b[0m, in \u001b[0;36minitialize_app\u001b[0;34m(credential, options, name)\u001b[0m\n\u001b[1;32m     70\u001b[0m         \u001b[38;5;28;01mreturn\u001b[39;00m app\n\u001b[1;32m     72\u001b[0m \u001b[38;5;28;01mif\u001b[39;00m name \u001b[38;5;241m==\u001b[39m _DEFAULT_APP_NAME:\n\u001b[0;32m---> 73\u001b[0m     \u001b[38;5;28;01mraise\u001b[39;00m \u001b[38;5;167;01mValueError\u001b[39;00m((\n\u001b[1;32m     74\u001b[0m         \u001b[38;5;124m'\u001b[39m\u001b[38;5;124mThe default Firebase app already exists. This means you called \u001b[39m\u001b[38;5;124m'\u001b[39m\n\u001b[1;32m     75\u001b[0m         \u001b[38;5;124m'\u001b[39m\u001b[38;5;124minitialize_app() more than once without providing an app name as \u001b[39m\u001b[38;5;124m'\u001b[39m\n\u001b[1;32m     76\u001b[0m         \u001b[38;5;124m'\u001b[39m\u001b[38;5;124mthe second argument. In most cases you only need to call \u001b[39m\u001b[38;5;124m'\u001b[39m\n\u001b[1;32m     77\u001b[0m         \u001b[38;5;124m'\u001b[39m\u001b[38;5;124minitialize_app() once. But if you do want to initialize multiple \u001b[39m\u001b[38;5;124m'\u001b[39m\n\u001b[1;32m     78\u001b[0m         \u001b[38;5;124m'\u001b[39m\u001b[38;5;124mapps, pass a second argument to initialize_app() to give each app \u001b[39m\u001b[38;5;124m'\u001b[39m\n\u001b[1;32m     79\u001b[0m         \u001b[38;5;124m'\u001b[39m\u001b[38;5;124ma unique name.\u001b[39m\u001b[38;5;124m'\u001b[39m))\n\u001b[1;32m     81\u001b[0m \u001b[38;5;28;01mraise\u001b[39;00m \u001b[38;5;167;01mValueError\u001b[39;00m((\n\u001b[1;32m     82\u001b[0m     \u001b[38;5;124m'\u001b[39m\u001b[38;5;124mFirebase app named \u001b[39m\u001b[38;5;124m\"\u001b[39m\u001b[38;5;132;01m{0}\u001b[39;00m\u001b[38;5;124m\"\u001b[39m\u001b[38;5;124m already exists. This means you called \u001b[39m\u001b[38;5;124m'\u001b[39m\n\u001b[1;32m     83\u001b[0m     \u001b[38;5;124m'\u001b[39m\u001b[38;5;124minitialize_app() more than once with the same app name as the \u001b[39m\u001b[38;5;124m'\u001b[39m\n\u001b[1;32m     84\u001b[0m     \u001b[38;5;124m'\u001b[39m\u001b[38;5;124msecond argument. Make sure you provide a unique name every time \u001b[39m\u001b[38;5;124m'\u001b[39m\n\u001b[1;32m     85\u001b[0m     \u001b[38;5;124m'\u001b[39m\u001b[38;5;124myou call initialize_app().\u001b[39m\u001b[38;5;124m'\u001b[39m)\u001b[38;5;241m.\u001b[39mformat(name))\n",
            "\u001b[0;31mValueError\u001b[0m: The default Firebase app already exists. This means you called initialize_app() more than once without providing an app name as the second argument. In most cases you only need to call initialize_app() once. But if you do want to initialize multiple apps, pass a second argument to initialize_app() to give each app a unique name."
          ]
        }
      ],
      "outputs_reference": null,
      "execution_count": 5,
      "block_group": "ff2118efac004f90876f9ca2adea0ecb",
      "content_dependencies": null
    },
    {
      "cell_type": "markdown",
      "source": "<a style='text-decoration:none;line-height:16px;display:flex;color:#5B5B62;padding:10px;justify-content:end;' href='https://deepnote.com?utm_source=created-in-deepnote-cell&projectId=200afad5-8991-4e20-8a55-8751c7aff3b5' target=\"_blank\">\n<img alt='Created in deepnote.com' style='display:inline;max-height:16px;margin:0px;margin-right:7.5px;' src='data:image/svg+xml;base64,PD94bWwgdmVyc2lvbj0iMS4wIiBlbmNvZGluZz0iVVRGLTgiPz4KPHN2ZyB3aWR0aD0iODBweCIgaGVpZ2h0PSI4MHB4IiB2aWV3Qm94PSIwIDAgODAgODAiIHZlcnNpb249IjEuMSIgeG1sbnM9Imh0dHA6Ly93d3cudzMub3JnLzIwMDAvc3ZnIiB4bWxuczp4bGluaz0iaHR0cDovL3d3dy53My5vcmcvMTk5OS94bGluayI+CiAgICA8IS0tIEdlbmVyYXRvcjogU2tldGNoIDU0LjEgKDc2NDkwKSAtIGh0dHBzOi8vc2tldGNoYXBwLmNvbSAtLT4KICAgIDx0aXRsZT5Hcm91cCAzPC90aXRsZT4KICAgIDxkZXNjPkNyZWF0ZWQgd2l0aCBTa2V0Y2guPC9kZXNjPgogICAgPGcgaWQ9IkxhbmRpbmciIHN0cm9rZT0ibm9uZSIgc3Ryb2tlLXdpZHRoPSIxIiBmaWxsPSJub25lIiBmaWxsLXJ1bGU9ImV2ZW5vZGQiPgogICAgICAgIDxnIGlkPSJBcnRib2FyZCIgdHJhbnNmb3JtPSJ0cmFuc2xhdGUoLTEyMzUuMDAwMDAwLCAtNzkuMDAwMDAwKSI+CiAgICAgICAgICAgIDxnIGlkPSJHcm91cC0zIiB0cmFuc2Zvcm09InRyYW5zbGF0ZSgxMjM1LjAwMDAwMCwgNzkuMDAwMDAwKSI+CiAgICAgICAgICAgICAgICA8cG9seWdvbiBpZD0iUGF0aC0yMCIgZmlsbD0iIzAyNjVCNCIgcG9pbnRzPSIyLjM3NjIzNzYyIDgwIDM4LjA0NzY2NjcgODAgNTcuODIxNzgyMiA3My44MDU3NTkyIDU3LjgyMTc4MjIgMzIuNzU5MjczOSAzOS4xNDAyMjc4IDMxLjY4MzE2ODMiPjwvcG9seWdvbj4KICAgICAgICAgICAgICAgIDxwYXRoIGQ9Ik0zNS4wMDc3MTgsODAgQzQyLjkwNjIwMDcsNzYuNDU0OTM1OCA0Ny41NjQ5MTY3LDcxLjU0MjI2NzEgNDguOTgzODY2LDY1LjI2MTk5MzkgQzUxLjExMjI4OTksNTUuODQxNTg0MiA0MS42NzcxNzk1LDQ5LjIxMjIyODQgMjUuNjIzOTg0Niw0OS4yMTIyMjg0IEMyNS40ODQ5Mjg5LDQ5LjEyNjg0NDggMjkuODI2MTI5Niw0My4yODM4MjQ4IDM4LjY0NzU4NjksMzEuNjgzMTY4MyBMNzIuODcxMjg3MSwzMi41NTQ0MjUgTDY1LjI4MDk3Myw2Ny42NzYzNDIxIEw1MS4xMTIyODk5LDc3LjM3NjE0NCBMMzUuMDA3NzE4LDgwIFoiIGlkPSJQYXRoLTIyIiBmaWxsPSIjMDAyODY4Ij48L3BhdGg+CiAgICAgICAgICAgICAgICA8cGF0aCBkPSJNMCwzNy43MzA0NDA1IEwyNy4xMTQ1MzcsMC4yNTcxMTE0MzYgQzYyLjM3MTUxMjMsLTEuOTkwNzE3MDEgODAsMTAuNTAwMzkyNyA4MCwzNy43MzA0NDA1IEM4MCw2NC45NjA0ODgyIDY0Ljc3NjUwMzgsNzkuMDUwMzQxNCAzNC4zMjk1MTEzLDgwIEM0Ny4wNTUzNDg5LDc3LjU2NzA4MDggNTMuNDE4MjY3Nyw3MC4zMTM2MTAzIDUzLjQxODI2NzcsNTguMjM5NTg4NSBDNTMuNDE4MjY3Nyw0MC4xMjg1NTU3IDM2LjMwMzk1NDQsMzcuNzMwNDQwNSAyNS4yMjc0MTcsMzcuNzMwNDQwNSBDMTcuODQzMDU4NiwzNy43MzA0NDA1IDkuNDMzOTE5NjYsMzcuNzMwNDQwNSAwLDM3LjczMDQ0MDUgWiIgaWQ9IlBhdGgtMTkiIGZpbGw9IiMzNzkzRUYiPjwvcGF0aD4KICAgICAgICAgICAgPC9nPgogICAgICAgIDwvZz4KICAgIDwvZz4KPC9zdmc+' > </img>\nCreated in <span style='font-weight:600;margin-left:4px;'>Deepnote</span></a>",
      "metadata": {
        "created_in_deepnote_cell": true,
        "deepnote_cell_type": "markdown"
      }
    }
  ],
  "nbformat": 4,
  "nbformat_minor": 0,
  "metadata": {
    "deepnote_app_layout": "powerful-article",
    "deepnote_app_reactivity_enabled": true,
    "deepnote_notebook_id": "deb1dce7320e4dddaa343bb146dc6c91",
    "deepnote_execution_queue": []
  }
}