{
  "cells": [
    {
      "cell_type": "code",
      "source": "import requests\nimport pandas as pd\nimport time\n\n# Konfigurasi API ThingSpeak\nchannel_id = 2326256\nread_api_key = 'BKIJNOYDM205J2HG'\nurl = f'https://api.thingspeak.com/channels/{channel_id}/feeds.json'\n\n# Jumlah maksimum data per permintaan (maksimal 8000 menurut dokumentasi ThingSpeak)\nmax_results_per_page = 8000\n\n# Inisialisasi variabel untuk menampung semua data\nall_data = []\n\n# Parameter paginasi\npage = 1\ntotal_results = 0\n\n# Loop untuk mengambil data dari semua halaman\nwhile True:\n    # Parameter untuk permintaan API\n    params = {\n        'api_key': read_api_key,\n        'results': max_results_per_page,\n        'offset': (page - 1) * max_results_per_page\n    }\n\n    # Mengirim permintaan GET ke ThingSpeak\n    response = requests.get(url, params=params)\n\n    # Cek apakah permintaan berhasil\n    if response.status_code == 200:\n        # Mengambil data feed dalam format JSON\n        data = response.json()\n        feeds = data['feeds']\n\n        # Jika tidak ada data lagi, keluar dari loop\n        if not feeds:\n            break\n\n        # Tambahkan data feed ke list all_data\n        all_data.extend(feeds)\n\n        # Tampilkan jumlah data yang sudah diambil dan iterasi ke berapa\n        total_results += len(feeds)\n        print(f\"Iteration {page}: Fetched {total_results} total records so far...\")\n\n        # Tunggu sejenak agar tidak membanjiri server ThingSpeak\n        time.sleep(1)\n\n        # Lanjutkan ke halaman berikutnya\n        page += 1\n    else:\n        print(f\"Failed to fetch data on page {page}. HTTP Status code: {response.status_code}\")\n        break\n\n# Membuat DataFrame Pandas dari semua data yang dikumpulkan\ndf = pd.DataFrame(all_data)\n\n# Pilih kolom-kolom yang ingin disimpan, misalnya waktu dan field1 hingga field8\ndf = df[['created_at', 'field1', 'field2', 'field3', 'field4', 'field8']]\n\n# Ganti nama kolom untuk lebih deskriptif\ndf.columns = ['Time', 'Suhu', 'Kelembapan', 'Tekanan', 'Embun', 'Volt']\n\n# Simpan DataFrame ke file CSV\ndf.to_csv('Cuaca_All_Data.csv', index=False)\n\n# Tampilkan DataFrame untuk pengecekan\ndf.tail(10)\n",
      "metadata": {
        "source_hash": "45cf00ac",
        "execution_start": 1728126786422,
        "execution_millis": 167817,
        "execution_context_id": "d894425f-7681-4caf-86ed-8702a5ef7a76",
        "cell_id": "f58d62426117456b9425772d1eda4673",
        "deepnote_cell_type": "code"
      },
      "outputs": [
        {
          "name": "stdout",
          "text": "Iteration 1: Fetched 8000 total records so far...\nIteration 2: Fetched 16000 total records so far...\nIteration 3: Fetched 24000 total records so far...\nIteration 4: Fetched 32000 total records so far...\nIteration 5: Fetched 40000 total records so far...\nIteration 6: Fetched 48000 total records so far...\nIteration 7: Fetched 56000 total records so far...\nIteration 8: Fetched 64000 total records so far...\nIteration 9: Fetched 72000 total records so far...\nIteration 10: Fetched 80000 total records so far...\nIteration 11: Fetched 88000 total records so far...\nIteration 12: Fetched 96000 total records so far...\nIteration 13: Fetched 104000 total records so far...\nIteration 14: Fetched 112000 total records so far...\nIteration 15: Fetched 120000 total records so far...\nIteration 16: Fetched 128000 total records so far...\nIteration 17: Fetched 136000 total records so far...\nIteration 18: Fetched 144000 total records so far...\nIteration 19: Fetched 152000 total records so far...\nIteration 20: Fetched 160000 total records so far...\nIteration 21: Fetched 168000 total records so far...\nIteration 22: Fetched 176000 total records so far...\nIteration 23: Fetched 184000 total records so far...\nIteration 24: Fetched 192000 total records so far...\nIteration 25: Fetched 200000 total records so far...\nIteration 26: Fetched 208000 total records so far...\nIteration 27: Fetched 216000 total records so far...\nIteration 28: Fetched 224000 total records so far...\nIteration 29: Fetched 232000 total records so far...\nIteration 30: Fetched 240000 total records so far...\nIteration 31: Fetched 248000 total records so far...\nIteration 32: Fetched 256000 total records so far...\nIteration 33: Fetched 264000 total records so far...\nIteration 34: Fetched 272000 total records so far...\nIteration 35: Fetched 280000 total records so far...\nIteration 36: Fetched 288000 total records so far...\nIteration 37: Fetched 296000 total records so far...\nIteration 38: Fetched 304000 total records so far...\nIteration 39: Fetched 312000 total records so far...\nIteration 40: Fetched 320000 total records so far...\nIteration 41: Fetched 328000 total records so far...\nIteration 42: Fetched 336000 total records so far...\nIteration 43: Fetched 344000 total records so far...\nIteration 44: Fetched 352000 total records so far...\nIteration 45: Fetched 360000 total records so far...\nIteration 46: Fetched 368000 total records so far...\nIteration 47: Fetched 376000 total records so far...\nIteration 48: Fetched 384000 total records so far...\nIteration 49: Fetched 392000 total records so far...\nIteration 50: Fetched 400000 total records so far...\nIteration 51: Fetched 408000 total records so far...\nIteration 52: Fetched 416000 total records so far...\nIteration 53: Fetched 424000 total records so far...\nIteration 54: Fetched 432000 total records so far...\nIteration 55: Fetched 440000 total records so far...\nIteration 56: Fetched 448000 total records so far...\nIteration 57: Fetched 456000 total records so far...\nIteration 58: Fetched 464000 total records so far...\nIteration 59: Fetched 472000 total records so far...\nIteration 60: Fetched 480000 total records so far...\nIteration 61: Fetched 488000 total records so far...\nIteration 62: Fetched 496000 total records so far...\nIteration 63: Fetched 504000 total records so far...\nIteration 64: Fetched 512000 total records so far...\nIteration 65: Fetched 520000 total records so far...\nIteration 66: Fetched 528000 total records so far...\nIteration 67: Fetched 536000 total records so far...\nIteration 68: Fetched 544000 total records so far...\nIteration 69: Fetched 552000 total records so far...\nIteration 70: Fetched 560000 total records so far...\nIteration 71: Fetched 568000 total records so far...\nIteration 72: Fetched 576000 total records so far...\nIteration 73: Fetched 584000 total records so far...\nIteration 74: Fetched 592000 total records so far...\nIteration 75: Fetched 600000 total records so far...\nIteration 76: Fetched 608000 total records so far...\nIteration 77: Fetched 616000 total records so far...\nIteration 78: Fetched 624000 total records so far...\nIteration 79: Fetched 632000 total records so far...\nIteration 80: Fetched 640000 total records so far...\nIteration 81: Fetched 648000 total records so far...\nIteration 82: Fetched 656000 total records so far...\nIteration 83: Fetched 664000 total records so far...\nIteration 84: Fetched 672000 total records so far...\nIteration 85: Fetched 680000 total records so far...\nIteration 86: Fetched 688000 total records so far...\nIteration 87: Fetched 696000 total records so far...\nIteration 88: Fetched 704000 total records so far...\nIteration 89: Fetched 712000 total records so far...\nIteration 90: Fetched 720000 total records so far...\nIteration 91: Fetched 728000 total records so far...\nIteration 92: Fetched 736000 total records so far...\nIteration 93: Fetched 744000 total records so far...\nIteration 94: Fetched 752000 total records so far...\nIteration 95: Fetched 760000 total records so far...\nIteration 96: Fetched 768000 total records so far...\nIteration 97: Fetched 776000 total records so far...\nIteration 98: Fetched 784000 total records so far...\nIteration 99: Fetched 792000 total records so far...\nIteration 100: Fetched 800000 total records so far...\nIteration 101: Fetched 808000 total records so far...\n",
          "output_type": "stream"
        },
        {
          "output_type": "error",
          "ename": "KeyboardInterrupt",
          "evalue": "",
          "traceback": [
            "\u001b[0;31m---------------------------------------------------------------------------\u001b[0m",
            "\u001b[0;31mKeyboardInterrupt\u001b[0m                         Traceback (most recent call last)",
            "Cell \u001b[0;32mIn[1], line 30\u001b[0m\n\u001b[1;32m     23\u001b[0m params \u001b[38;5;241m=\u001b[39m {\n\u001b[1;32m     24\u001b[0m     \u001b[38;5;124m'\u001b[39m\u001b[38;5;124mapi_key\u001b[39m\u001b[38;5;124m'\u001b[39m: read_api_key,\n\u001b[1;32m     25\u001b[0m     \u001b[38;5;124m'\u001b[39m\u001b[38;5;124mresults\u001b[39m\u001b[38;5;124m'\u001b[39m: max_results_per_page,\n\u001b[1;32m     26\u001b[0m     \u001b[38;5;124m'\u001b[39m\u001b[38;5;124moffset\u001b[39m\u001b[38;5;124m'\u001b[39m: (page \u001b[38;5;241m-\u001b[39m \u001b[38;5;241m1\u001b[39m) \u001b[38;5;241m*\u001b[39m max_results_per_page\n\u001b[1;32m     27\u001b[0m }\n\u001b[1;32m     29\u001b[0m \u001b[38;5;66;03m# Mengirim permintaan GET ke ThingSpeak\u001b[39;00m\n\u001b[0;32m---> 30\u001b[0m response \u001b[38;5;241m=\u001b[39m \u001b[43mrequests\u001b[49m\u001b[38;5;241;43m.\u001b[39;49m\u001b[43mget\u001b[49m\u001b[43m(\u001b[49m\u001b[43murl\u001b[49m\u001b[43m,\u001b[49m\u001b[43m \u001b[49m\u001b[43mparams\u001b[49m\u001b[38;5;241;43m=\u001b[39;49m\u001b[43mparams\u001b[49m\u001b[43m)\u001b[49m\n\u001b[1;32m     32\u001b[0m \u001b[38;5;66;03m# Cek apakah permintaan berhasil\u001b[39;00m\n\u001b[1;32m     33\u001b[0m \u001b[38;5;28;01mif\u001b[39;00m response\u001b[38;5;241m.\u001b[39mstatus_code \u001b[38;5;241m==\u001b[39m \u001b[38;5;241m200\u001b[39m:\n\u001b[1;32m     34\u001b[0m     \u001b[38;5;66;03m# Mengambil data feed dalam format JSON\u001b[39;00m\n",
            "File \u001b[0;32m/shared-libs/python3.11/py/lib/python3.11/site-packages/requests/api.py:73\u001b[0m, in \u001b[0;36mget\u001b[0;34m(url, params, **kwargs)\u001b[0m\n\u001b[1;32m     62\u001b[0m \u001b[38;5;28;01mdef\u001b[39;00m \u001b[38;5;21mget\u001b[39m(url, params\u001b[38;5;241m=\u001b[39m\u001b[38;5;28;01mNone\u001b[39;00m, \u001b[38;5;241m*\u001b[39m\u001b[38;5;241m*\u001b[39mkwargs):\n\u001b[1;32m     63\u001b[0m \u001b[38;5;250m    \u001b[39m\u001b[38;5;124mr\u001b[39m\u001b[38;5;124;03m\"\"\"Sends a GET request.\u001b[39;00m\n\u001b[1;32m     64\u001b[0m \n\u001b[1;32m     65\u001b[0m \u001b[38;5;124;03m    :param url: URL for the new :class:`Request` object.\u001b[39;00m\n\u001b[0;32m   (...)\u001b[0m\n\u001b[1;32m     70\u001b[0m \u001b[38;5;124;03m    :rtype: requests.Response\u001b[39;00m\n\u001b[1;32m     71\u001b[0m \u001b[38;5;124;03m    \"\"\"\u001b[39;00m\n\u001b[0;32m---> 73\u001b[0m     \u001b[38;5;28;01mreturn\u001b[39;00m \u001b[43mrequest\u001b[49m\u001b[43m(\u001b[49m\u001b[38;5;124;43m\"\u001b[39;49m\u001b[38;5;124;43mget\u001b[39;49m\u001b[38;5;124;43m\"\u001b[39;49m\u001b[43m,\u001b[49m\u001b[43m \u001b[49m\u001b[43murl\u001b[49m\u001b[43m,\u001b[49m\u001b[43m \u001b[49m\u001b[43mparams\u001b[49m\u001b[38;5;241;43m=\u001b[39;49m\u001b[43mparams\u001b[49m\u001b[43m,\u001b[49m\u001b[43m \u001b[49m\u001b[38;5;241;43m*\u001b[39;49m\u001b[38;5;241;43m*\u001b[39;49m\u001b[43mkwargs\u001b[49m\u001b[43m)\u001b[49m\n",
            "File \u001b[0;32m/shared-libs/python3.11/py/lib/python3.11/site-packages/requests/api.py:59\u001b[0m, in \u001b[0;36mrequest\u001b[0;34m(method, url, **kwargs)\u001b[0m\n\u001b[1;32m     55\u001b[0m \u001b[38;5;66;03m# By using the 'with' statement we are sure the session is closed, thus we\u001b[39;00m\n\u001b[1;32m     56\u001b[0m \u001b[38;5;66;03m# avoid leaving sockets open which can trigger a ResourceWarning in some\u001b[39;00m\n\u001b[1;32m     57\u001b[0m \u001b[38;5;66;03m# cases, and look like a memory leak in others.\u001b[39;00m\n\u001b[1;32m     58\u001b[0m \u001b[38;5;28;01mwith\u001b[39;00m sessions\u001b[38;5;241m.\u001b[39mSession() \u001b[38;5;28;01mas\u001b[39;00m session:\n\u001b[0;32m---> 59\u001b[0m     \u001b[38;5;28;01mreturn\u001b[39;00m \u001b[43msession\u001b[49m\u001b[38;5;241;43m.\u001b[39;49m\u001b[43mrequest\u001b[49m\u001b[43m(\u001b[49m\u001b[43mmethod\u001b[49m\u001b[38;5;241;43m=\u001b[39;49m\u001b[43mmethod\u001b[49m\u001b[43m,\u001b[49m\u001b[43m \u001b[49m\u001b[43murl\u001b[49m\u001b[38;5;241;43m=\u001b[39;49m\u001b[43murl\u001b[49m\u001b[43m,\u001b[49m\u001b[43m \u001b[49m\u001b[38;5;241;43m*\u001b[39;49m\u001b[38;5;241;43m*\u001b[39;49m\u001b[43mkwargs\u001b[49m\u001b[43m)\u001b[49m\n",
            "File \u001b[0;32m/shared-libs/python3.11/py/lib/python3.11/site-packages/requests/sessions.py:589\u001b[0m, in \u001b[0;36mSession.request\u001b[0;34m(self, method, url, params, data, headers, cookies, files, auth, timeout, allow_redirects, proxies, hooks, stream, verify, cert, json)\u001b[0m\n\u001b[1;32m    584\u001b[0m send_kwargs \u001b[38;5;241m=\u001b[39m {\n\u001b[1;32m    585\u001b[0m     \u001b[38;5;124m\"\u001b[39m\u001b[38;5;124mtimeout\u001b[39m\u001b[38;5;124m\"\u001b[39m: timeout,\n\u001b[1;32m    586\u001b[0m     \u001b[38;5;124m\"\u001b[39m\u001b[38;5;124mallow_redirects\u001b[39m\u001b[38;5;124m\"\u001b[39m: allow_redirects,\n\u001b[1;32m    587\u001b[0m }\n\u001b[1;32m    588\u001b[0m send_kwargs\u001b[38;5;241m.\u001b[39mupdate(settings)\n\u001b[0;32m--> 589\u001b[0m resp \u001b[38;5;241m=\u001b[39m \u001b[38;5;28;43mself\u001b[39;49m\u001b[38;5;241;43m.\u001b[39;49m\u001b[43msend\u001b[49m\u001b[43m(\u001b[49m\u001b[43mprep\u001b[49m\u001b[43m,\u001b[49m\u001b[43m \u001b[49m\u001b[38;5;241;43m*\u001b[39;49m\u001b[38;5;241;43m*\u001b[39;49m\u001b[43msend_kwargs\u001b[49m\u001b[43m)\u001b[49m\n\u001b[1;32m    591\u001b[0m \u001b[38;5;28;01mreturn\u001b[39;00m resp\n",
            "File \u001b[0;32m/shared-libs/python3.11/py/lib/python3.11/site-packages/requests/sessions.py:703\u001b[0m, in \u001b[0;36mSession.send\u001b[0;34m(self, request, **kwargs)\u001b[0m\n\u001b[1;32m    700\u001b[0m start \u001b[38;5;241m=\u001b[39m preferred_clock()\n\u001b[1;32m    702\u001b[0m \u001b[38;5;66;03m# Send the request\u001b[39;00m\n\u001b[0;32m--> 703\u001b[0m r \u001b[38;5;241m=\u001b[39m \u001b[43madapter\u001b[49m\u001b[38;5;241;43m.\u001b[39;49m\u001b[43msend\u001b[49m\u001b[43m(\u001b[49m\u001b[43mrequest\u001b[49m\u001b[43m,\u001b[49m\u001b[43m \u001b[49m\u001b[38;5;241;43m*\u001b[39;49m\u001b[38;5;241;43m*\u001b[39;49m\u001b[43mkwargs\u001b[49m\u001b[43m)\u001b[49m\n\u001b[1;32m    705\u001b[0m \u001b[38;5;66;03m# Total elapsed time of the request (approximately)\u001b[39;00m\n\u001b[1;32m    706\u001b[0m elapsed \u001b[38;5;241m=\u001b[39m preferred_clock() \u001b[38;5;241m-\u001b[39m start\n",
            "File \u001b[0;32m/shared-libs/python3.11/py/lib/python3.11/site-packages/requests/adapters.py:486\u001b[0m, in \u001b[0;36mHTTPAdapter.send\u001b[0;34m(self, request, stream, timeout, verify, cert, proxies)\u001b[0m\n\u001b[1;32m    483\u001b[0m     timeout \u001b[38;5;241m=\u001b[39m TimeoutSauce(connect\u001b[38;5;241m=\u001b[39mtimeout, read\u001b[38;5;241m=\u001b[39mtimeout)\n\u001b[1;32m    485\u001b[0m \u001b[38;5;28;01mtry\u001b[39;00m:\n\u001b[0;32m--> 486\u001b[0m     resp \u001b[38;5;241m=\u001b[39m \u001b[43mconn\u001b[49m\u001b[38;5;241;43m.\u001b[39;49m\u001b[43murlopen\u001b[49m\u001b[43m(\u001b[49m\n\u001b[1;32m    487\u001b[0m \u001b[43m        \u001b[49m\u001b[43mmethod\u001b[49m\u001b[38;5;241;43m=\u001b[39;49m\u001b[43mrequest\u001b[49m\u001b[38;5;241;43m.\u001b[39;49m\u001b[43mmethod\u001b[49m\u001b[43m,\u001b[49m\n\u001b[1;32m    488\u001b[0m \u001b[43m        \u001b[49m\u001b[43murl\u001b[49m\u001b[38;5;241;43m=\u001b[39;49m\u001b[43murl\u001b[49m\u001b[43m,\u001b[49m\n\u001b[1;32m    489\u001b[0m \u001b[43m        \u001b[49m\u001b[43mbody\u001b[49m\u001b[38;5;241;43m=\u001b[39;49m\u001b[43mrequest\u001b[49m\u001b[38;5;241;43m.\u001b[39;49m\u001b[43mbody\u001b[49m\u001b[43m,\u001b[49m\n\u001b[1;32m    490\u001b[0m \u001b[43m        \u001b[49m\u001b[43mheaders\u001b[49m\u001b[38;5;241;43m=\u001b[39;49m\u001b[43mrequest\u001b[49m\u001b[38;5;241;43m.\u001b[39;49m\u001b[43mheaders\u001b[49m\u001b[43m,\u001b[49m\n\u001b[1;32m    491\u001b[0m \u001b[43m        \u001b[49m\u001b[43mredirect\u001b[49m\u001b[38;5;241;43m=\u001b[39;49m\u001b[38;5;28;43;01mFalse\u001b[39;49;00m\u001b[43m,\u001b[49m\n\u001b[1;32m    492\u001b[0m \u001b[43m        \u001b[49m\u001b[43massert_same_host\u001b[49m\u001b[38;5;241;43m=\u001b[39;49m\u001b[38;5;28;43;01mFalse\u001b[39;49;00m\u001b[43m,\u001b[49m\n\u001b[1;32m    493\u001b[0m \u001b[43m        \u001b[49m\u001b[43mpreload_content\u001b[49m\u001b[38;5;241;43m=\u001b[39;49m\u001b[38;5;28;43;01mFalse\u001b[39;49;00m\u001b[43m,\u001b[49m\n\u001b[1;32m    494\u001b[0m \u001b[43m        \u001b[49m\u001b[43mdecode_content\u001b[49m\u001b[38;5;241;43m=\u001b[39;49m\u001b[38;5;28;43;01mFalse\u001b[39;49;00m\u001b[43m,\u001b[49m\n\u001b[1;32m    495\u001b[0m \u001b[43m        \u001b[49m\u001b[43mretries\u001b[49m\u001b[38;5;241;43m=\u001b[39;49m\u001b[38;5;28;43mself\u001b[39;49m\u001b[38;5;241;43m.\u001b[39;49m\u001b[43mmax_retries\u001b[49m\u001b[43m,\u001b[49m\n\u001b[1;32m    496\u001b[0m \u001b[43m        \u001b[49m\u001b[43mtimeout\u001b[49m\u001b[38;5;241;43m=\u001b[39;49m\u001b[43mtimeout\u001b[49m\u001b[43m,\u001b[49m\n\u001b[1;32m    497\u001b[0m \u001b[43m        \u001b[49m\u001b[43mchunked\u001b[49m\u001b[38;5;241;43m=\u001b[39;49m\u001b[43mchunked\u001b[49m\u001b[43m,\u001b[49m\n\u001b[1;32m    498\u001b[0m \u001b[43m    \u001b[49m\u001b[43m)\u001b[49m\n\u001b[1;32m    500\u001b[0m \u001b[38;5;28;01mexcept\u001b[39;00m (ProtocolError, \u001b[38;5;167;01mOSError\u001b[39;00m) \u001b[38;5;28;01mas\u001b[39;00m err:\n\u001b[1;32m    501\u001b[0m     \u001b[38;5;28;01mraise\u001b[39;00m \u001b[38;5;167;01mConnectionError\u001b[39;00m(err, request\u001b[38;5;241m=\u001b[39mrequest)\n",
            "File \u001b[0;32m/shared-libs/python3.11/py/lib/python3.11/site-packages/urllib3/connectionpool.py:715\u001b[0m, in \u001b[0;36mHTTPConnectionPool.urlopen\u001b[0;34m(self, method, url, body, headers, retries, redirect, assert_same_host, timeout, pool_timeout, release_conn, chunked, body_pos, **response_kw)\u001b[0m\n\u001b[1;32m    712\u001b[0m     \u001b[38;5;28mself\u001b[39m\u001b[38;5;241m.\u001b[39m_prepare_proxy(conn)\n\u001b[1;32m    714\u001b[0m \u001b[38;5;66;03m# Make the request on the httplib connection object.\u001b[39;00m\n\u001b[0;32m--> 715\u001b[0m httplib_response \u001b[38;5;241m=\u001b[39m \u001b[38;5;28;43mself\u001b[39;49m\u001b[38;5;241;43m.\u001b[39;49m\u001b[43m_make_request\u001b[49m\u001b[43m(\u001b[49m\n\u001b[1;32m    716\u001b[0m \u001b[43m    \u001b[49m\u001b[43mconn\u001b[49m\u001b[43m,\u001b[49m\n\u001b[1;32m    717\u001b[0m \u001b[43m    \u001b[49m\u001b[43mmethod\u001b[49m\u001b[43m,\u001b[49m\n\u001b[1;32m    718\u001b[0m \u001b[43m    \u001b[49m\u001b[43murl\u001b[49m\u001b[43m,\u001b[49m\n\u001b[1;32m    719\u001b[0m \u001b[43m    \u001b[49m\u001b[43mtimeout\u001b[49m\u001b[38;5;241;43m=\u001b[39;49m\u001b[43mtimeout_obj\u001b[49m\u001b[43m,\u001b[49m\n\u001b[1;32m    720\u001b[0m \u001b[43m    \u001b[49m\u001b[43mbody\u001b[49m\u001b[38;5;241;43m=\u001b[39;49m\u001b[43mbody\u001b[49m\u001b[43m,\u001b[49m\n\u001b[1;32m    721\u001b[0m \u001b[43m    \u001b[49m\u001b[43mheaders\u001b[49m\u001b[38;5;241;43m=\u001b[39;49m\u001b[43mheaders\u001b[49m\u001b[43m,\u001b[49m\n\u001b[1;32m    722\u001b[0m \u001b[43m    \u001b[49m\u001b[43mchunked\u001b[49m\u001b[38;5;241;43m=\u001b[39;49m\u001b[43mchunked\u001b[49m\u001b[43m,\u001b[49m\n\u001b[1;32m    723\u001b[0m \u001b[43m\u001b[49m\u001b[43m)\u001b[49m\n\u001b[1;32m    725\u001b[0m \u001b[38;5;66;03m# If we're going to release the connection in ``finally:``, then\u001b[39;00m\n\u001b[1;32m    726\u001b[0m \u001b[38;5;66;03m# the response doesn't need to know about the connection. Otherwise\u001b[39;00m\n\u001b[1;32m    727\u001b[0m \u001b[38;5;66;03m# it will also try to release it and we'll have a double-release\u001b[39;00m\n\u001b[1;32m    728\u001b[0m \u001b[38;5;66;03m# mess.\u001b[39;00m\n\u001b[1;32m    729\u001b[0m response_conn \u001b[38;5;241m=\u001b[39m conn \u001b[38;5;28;01mif\u001b[39;00m \u001b[38;5;129;01mnot\u001b[39;00m release_conn \u001b[38;5;28;01melse\u001b[39;00m \u001b[38;5;28;01mNone\u001b[39;00m\n",
            "File \u001b[0;32m/shared-libs/python3.11/py/lib/python3.11/site-packages/urllib3/connectionpool.py:467\u001b[0m, in \u001b[0;36mHTTPConnectionPool._make_request\u001b[0;34m(self, conn, method, url, timeout, chunked, **httplib_request_kw)\u001b[0m\n\u001b[1;32m    462\u001b[0m             httplib_response \u001b[38;5;241m=\u001b[39m conn\u001b[38;5;241m.\u001b[39mgetresponse()\n\u001b[1;32m    463\u001b[0m         \u001b[38;5;28;01mexcept\u001b[39;00m \u001b[38;5;167;01mBaseException\u001b[39;00m \u001b[38;5;28;01mas\u001b[39;00m e:\n\u001b[1;32m    464\u001b[0m             \u001b[38;5;66;03m# Remove the TypeError from the exception chain in\u001b[39;00m\n\u001b[1;32m    465\u001b[0m             \u001b[38;5;66;03m# Python 3 (including for exceptions like SystemExit).\u001b[39;00m\n\u001b[1;32m    466\u001b[0m             \u001b[38;5;66;03m# Otherwise it looks like a bug in the code.\u001b[39;00m\n\u001b[0;32m--> 467\u001b[0m             \u001b[43msix\u001b[49m\u001b[38;5;241;43m.\u001b[39;49m\u001b[43mraise_from\u001b[49m\u001b[43m(\u001b[49m\u001b[43me\u001b[49m\u001b[43m,\u001b[49m\u001b[43m \u001b[49m\u001b[38;5;28;43;01mNone\u001b[39;49;00m\u001b[43m)\u001b[49m\n\u001b[1;32m    468\u001b[0m \u001b[38;5;28;01mexcept\u001b[39;00m (SocketTimeout, BaseSSLError, SocketError) \u001b[38;5;28;01mas\u001b[39;00m e:\n\u001b[1;32m    469\u001b[0m     \u001b[38;5;28mself\u001b[39m\u001b[38;5;241m.\u001b[39m_raise_timeout(err\u001b[38;5;241m=\u001b[39me, url\u001b[38;5;241m=\u001b[39murl, timeout_value\u001b[38;5;241m=\u001b[39mread_timeout)\n",
            "File \u001b[0;32m<string>:3\u001b[0m, in \u001b[0;36mraise_from\u001b[0;34m(value, from_value)\u001b[0m\n",
            "File \u001b[0;32m/shared-libs/python3.11/py/lib/python3.11/site-packages/urllib3/connectionpool.py:462\u001b[0m, in \u001b[0;36mHTTPConnectionPool._make_request\u001b[0;34m(self, conn, method, url, timeout, chunked, **httplib_request_kw)\u001b[0m\n\u001b[1;32m    459\u001b[0m \u001b[38;5;28;01mexcept\u001b[39;00m \u001b[38;5;167;01mTypeError\u001b[39;00m:\n\u001b[1;32m    460\u001b[0m     \u001b[38;5;66;03m# Python 3\u001b[39;00m\n\u001b[1;32m    461\u001b[0m     \u001b[38;5;28;01mtry\u001b[39;00m:\n\u001b[0;32m--> 462\u001b[0m         httplib_response \u001b[38;5;241m=\u001b[39m \u001b[43mconn\u001b[49m\u001b[38;5;241;43m.\u001b[39;49m\u001b[43mgetresponse\u001b[49m\u001b[43m(\u001b[49m\u001b[43m)\u001b[49m\n\u001b[1;32m    463\u001b[0m     \u001b[38;5;28;01mexcept\u001b[39;00m \u001b[38;5;167;01mBaseException\u001b[39;00m \u001b[38;5;28;01mas\u001b[39;00m e:\n\u001b[1;32m    464\u001b[0m         \u001b[38;5;66;03m# Remove the TypeError from the exception chain in\u001b[39;00m\n\u001b[1;32m    465\u001b[0m         \u001b[38;5;66;03m# Python 3 (including for exceptions like SystemExit).\u001b[39;00m\n\u001b[1;32m    466\u001b[0m         \u001b[38;5;66;03m# Otherwise it looks like a bug in the code.\u001b[39;00m\n\u001b[1;32m    467\u001b[0m         six\u001b[38;5;241m.\u001b[39mraise_from(e, \u001b[38;5;28;01mNone\u001b[39;00m)\n",
            "File \u001b[0;32m/usr/local/lib/python3.11/http/client.py:1395\u001b[0m, in \u001b[0;36mHTTPConnection.getresponse\u001b[0;34m(self)\u001b[0m\n\u001b[1;32m   1393\u001b[0m \u001b[38;5;28;01mtry\u001b[39;00m:\n\u001b[1;32m   1394\u001b[0m     \u001b[38;5;28;01mtry\u001b[39;00m:\n\u001b[0;32m-> 1395\u001b[0m         \u001b[43mresponse\u001b[49m\u001b[38;5;241;43m.\u001b[39;49m\u001b[43mbegin\u001b[49m\u001b[43m(\u001b[49m\u001b[43m)\u001b[49m\n\u001b[1;32m   1396\u001b[0m     \u001b[38;5;28;01mexcept\u001b[39;00m \u001b[38;5;167;01mConnectionError\u001b[39;00m:\n\u001b[1;32m   1397\u001b[0m         \u001b[38;5;28mself\u001b[39m\u001b[38;5;241m.\u001b[39mclose()\n",
            "File \u001b[0;32m/usr/local/lib/python3.11/http/client.py:325\u001b[0m, in \u001b[0;36mHTTPResponse.begin\u001b[0;34m(self)\u001b[0m\n\u001b[1;32m    323\u001b[0m \u001b[38;5;66;03m# read until we get a non-100 response\u001b[39;00m\n\u001b[1;32m    324\u001b[0m \u001b[38;5;28;01mwhile\u001b[39;00m \u001b[38;5;28;01mTrue\u001b[39;00m:\n\u001b[0;32m--> 325\u001b[0m     version, status, reason \u001b[38;5;241m=\u001b[39m \u001b[38;5;28;43mself\u001b[39;49m\u001b[38;5;241;43m.\u001b[39;49m\u001b[43m_read_status\u001b[49m\u001b[43m(\u001b[49m\u001b[43m)\u001b[49m\n\u001b[1;32m    326\u001b[0m     \u001b[38;5;28;01mif\u001b[39;00m status \u001b[38;5;241m!=\u001b[39m CONTINUE:\n\u001b[1;32m    327\u001b[0m         \u001b[38;5;28;01mbreak\u001b[39;00m\n",
            "File \u001b[0;32m/usr/local/lib/python3.11/http/client.py:286\u001b[0m, in \u001b[0;36mHTTPResponse._read_status\u001b[0;34m(self)\u001b[0m\n\u001b[1;32m    285\u001b[0m \u001b[38;5;28;01mdef\u001b[39;00m \u001b[38;5;21m_read_status\u001b[39m(\u001b[38;5;28mself\u001b[39m):\n\u001b[0;32m--> 286\u001b[0m     line \u001b[38;5;241m=\u001b[39m \u001b[38;5;28mstr\u001b[39m(\u001b[38;5;28mself\u001b[39m\u001b[38;5;241m.\u001b[39mfp\u001b[38;5;241m.\u001b[39mreadline(_MAXLINE \u001b[38;5;241m+\u001b[39m \u001b[38;5;241m1\u001b[39m), \u001b[38;5;124m\"\u001b[39m\u001b[38;5;124miso-8859-1\u001b[39m\u001b[38;5;124m\"\u001b[39m)\n\u001b[1;32m    287\u001b[0m     \u001b[38;5;28;01mif\u001b[39;00m \u001b[38;5;28mlen\u001b[39m(line) \u001b[38;5;241m>\u001b[39m _MAXLINE:\n\u001b[1;32m    288\u001b[0m         \u001b[38;5;28;01mraise\u001b[39;00m LineTooLong(\u001b[38;5;124m\"\u001b[39m\u001b[38;5;124mstatus line\u001b[39m\u001b[38;5;124m\"\u001b[39m)\n",
            "File \u001b[0;32m/usr/local/lib/python3.11/socket.py:718\u001b[0m, in \u001b[0;36mSocketIO.readinto\u001b[0;34m(self, b)\u001b[0m\n\u001b[1;32m    716\u001b[0m \u001b[38;5;28;01mwhile\u001b[39;00m \u001b[38;5;28;01mTrue\u001b[39;00m:\n\u001b[1;32m    717\u001b[0m     \u001b[38;5;28;01mtry\u001b[39;00m:\n\u001b[0;32m--> 718\u001b[0m         \u001b[38;5;28;01mreturn\u001b[39;00m \u001b[38;5;28;43mself\u001b[39;49m\u001b[38;5;241;43m.\u001b[39;49m\u001b[43m_sock\u001b[49m\u001b[38;5;241;43m.\u001b[39;49m\u001b[43mrecv_into\u001b[49m\u001b[43m(\u001b[49m\u001b[43mb\u001b[49m\u001b[43m)\u001b[49m\n\u001b[1;32m    719\u001b[0m     \u001b[38;5;28;01mexcept\u001b[39;00m timeout:\n\u001b[1;32m    720\u001b[0m         \u001b[38;5;28mself\u001b[39m\u001b[38;5;241m.\u001b[39m_timeout_occurred \u001b[38;5;241m=\u001b[39m \u001b[38;5;28;01mTrue\u001b[39;00m\n",
            "File \u001b[0;32m/usr/local/lib/python3.11/ssl.py:1314\u001b[0m, in \u001b[0;36mSSLSocket.recv_into\u001b[0;34m(self, buffer, nbytes, flags)\u001b[0m\n\u001b[1;32m   1310\u001b[0m     \u001b[38;5;28;01mif\u001b[39;00m flags \u001b[38;5;241m!=\u001b[39m \u001b[38;5;241m0\u001b[39m:\n\u001b[1;32m   1311\u001b[0m         \u001b[38;5;28;01mraise\u001b[39;00m \u001b[38;5;167;01mValueError\u001b[39;00m(\n\u001b[1;32m   1312\u001b[0m           \u001b[38;5;124m\"\u001b[39m\u001b[38;5;124mnon-zero flags not allowed in calls to recv_into() on \u001b[39m\u001b[38;5;132;01m%s\u001b[39;00m\u001b[38;5;124m\"\u001b[39m \u001b[38;5;241m%\u001b[39m\n\u001b[1;32m   1313\u001b[0m           \u001b[38;5;28mself\u001b[39m\u001b[38;5;241m.\u001b[39m\u001b[38;5;18m__class__\u001b[39m)\n\u001b[0;32m-> 1314\u001b[0m     \u001b[38;5;28;01mreturn\u001b[39;00m \u001b[38;5;28;43mself\u001b[39;49m\u001b[38;5;241;43m.\u001b[39;49m\u001b[43mread\u001b[49m\u001b[43m(\u001b[49m\u001b[43mnbytes\u001b[49m\u001b[43m,\u001b[49m\u001b[43m \u001b[49m\u001b[43mbuffer\u001b[49m\u001b[43m)\u001b[49m\n\u001b[1;32m   1315\u001b[0m \u001b[38;5;28;01melse\u001b[39;00m:\n\u001b[1;32m   1316\u001b[0m     \u001b[38;5;28;01mreturn\u001b[39;00m \u001b[38;5;28msuper\u001b[39m()\u001b[38;5;241m.\u001b[39mrecv_into(buffer, nbytes, flags)\n",
            "File \u001b[0;32m/usr/local/lib/python3.11/ssl.py:1166\u001b[0m, in \u001b[0;36mSSLSocket.read\u001b[0;34m(self, len, buffer)\u001b[0m\n\u001b[1;32m   1164\u001b[0m \u001b[38;5;28;01mtry\u001b[39;00m:\n\u001b[1;32m   1165\u001b[0m     \u001b[38;5;28;01mif\u001b[39;00m buffer \u001b[38;5;129;01mis\u001b[39;00m \u001b[38;5;129;01mnot\u001b[39;00m \u001b[38;5;28;01mNone\u001b[39;00m:\n\u001b[0;32m-> 1166\u001b[0m         \u001b[38;5;28;01mreturn\u001b[39;00m \u001b[38;5;28;43mself\u001b[39;49m\u001b[38;5;241;43m.\u001b[39;49m\u001b[43m_sslobj\u001b[49m\u001b[38;5;241;43m.\u001b[39;49m\u001b[43mread\u001b[49m\u001b[43m(\u001b[49m\u001b[38;5;28;43mlen\u001b[39;49m\u001b[43m,\u001b[49m\u001b[43m \u001b[49m\u001b[43mbuffer\u001b[49m\u001b[43m)\u001b[49m\n\u001b[1;32m   1167\u001b[0m     \u001b[38;5;28;01melse\u001b[39;00m:\n\u001b[1;32m   1168\u001b[0m         \u001b[38;5;28;01mreturn\u001b[39;00m \u001b[38;5;28mself\u001b[39m\u001b[38;5;241m.\u001b[39m_sslobj\u001b[38;5;241m.\u001b[39mread(\u001b[38;5;28mlen\u001b[39m)\n",
            "\u001b[0;31mKeyboardInterrupt\u001b[0m: "
          ]
        }
      ],
      "outputs_reference": null,
      "execution_count": 1,
      "block_group": "f58d62426117456b9425772d1eda4673",
      "content_dependencies": null
    },
    {
      "cell_type": "code",
      "source": "dataharian = (lambda: _deepnote_execute_sql('SELECT *\\nFROM \\'Cuaca.csv\\'', 'SQL_DEEPNOTE_DATAFRAME_SQL', audit_sql_comment='', sql_cache_mode='cache_disabled') if '_deepnote_execute_sql' in globals() else _dntk.execute_sql('SELECT *\\nFROM \\'Cuaca.csv\\'', 'SQL_DEEPNOTE_DATAFRAME_SQL', audit_sql_comment='', sql_cache_mode='cache_disabled'))()\ndataharian",
      "metadata": {
        "source_hash": "2b691ae",
        "execution_start": 1728126770584,
        "execution_millis": 1349,
        "sql_integration_id": "deepnote-dataframe-sql",
        "execution_context_id": "d894425f-7681-4caf-86ed-8702a5ef7a76",
        "deepnote_variable_name": "dataharian",
        "deepnote_to_be_reexecuted": true,
        "cell_id": "45cc744e80ba488bac9df43237017c84",
        "deepnote_cell_type": "sql",
        "deepnote_sql_source": "SELECT *\nFROM 'Cuaca.csv'"
      },
      "outputs": [
        {
          "output_type": "execute_result",
          "execution_count": 4,
          "data": {
            "application/vnd.deepnote.dataframe.v3+json": {
              "column_count": 6,
              "row_count": 8000,
              "columns": [
                {
                  "name": "Time",
                  "dtype": "datetime64[us]",
                  "stats": {
                    "unique_count": 8000,
                    "nan_count": 0,
                    "min": "2024-09-29 18:33:52",
                    "max": "2024-10-05 11:02:22",
                    "histogram": [
                      {
                        "bin_start": 1727634832000000,
                        "bin_end": 1727683963000000,
                        "count": 815
                      },
                      {
                        "bin_start": 1727683963000000,
                        "bin_end": 1727733094000000,
                        "count": 811
                      },
                      {
                        "bin_start": 1727733094000000,
                        "bin_end": 1727782225000000,
                        "count": 812
                      },
                      {
                        "bin_start": 1727782225000000,
                        "bin_end": 1727831356000000,
                        "count": 817
                      },
                      {
                        "bin_start": 1727831356000000,
                        "bin_end": 1727880487000000,
                        "count": 813
                      },
                      {
                        "bin_start": 1727880487000000,
                        "bin_end": 1727929618000000,
                        "count": 815
                      },
                      {
                        "bin_start": 1727929618000000,
                        "bin_end": 1727978749000000,
                        "count": 677
                      },
                      {
                        "bin_start": 1727978749000000,
                        "bin_end": 1728027880000000,
                        "count": 818
                      },
                      {
                        "bin_start": 1728027880000000,
                        "bin_end": 1728077011000000,
                        "count": 807
                      },
                      {
                        "bin_start": 1728077011000000,
                        "bin_end": 1728126142000000,
                        "count": 815
                      }
                    ]
                  }
                },
                {
                  "name": "Suhu",
                  "dtype": "float64",
                  "stats": {
                    "unique_count": 901,
                    "nan_count": 0,
                    "min": "25.0",
                    "max": "34.26",
                    "histogram": [
                      {
                        "bin_start": 25,
                        "bin_end": 25.926,
                        "count": 1003
                      },
                      {
                        "bin_start": 25.926,
                        "bin_end": 26.852,
                        "count": 1293
                      },
                      {
                        "bin_start": 26.852,
                        "bin_end": 27.778,
                        "count": 1407
                      },
                      {
                        "bin_start": 27.778,
                        "bin_end": 28.704,
                        "count": 1002
                      },
                      {
                        "bin_start": 28.704,
                        "bin_end": 29.63,
                        "count": 467
                      },
                      {
                        "bin_start": 29.63,
                        "bin_end": 30.555999999999997,
                        "count": 426
                      },
                      {
                        "bin_start": 30.555999999999997,
                        "bin_end": 31.482,
                        "count": 575
                      },
                      {
                        "bin_start": 31.482,
                        "bin_end": 32.408,
                        "count": 635
                      },
                      {
                        "bin_start": 32.408,
                        "bin_end": 33.333999999999996,
                        "count": 843
                      },
                      {
                        "bin_start": 33.333999999999996,
                        "bin_end": 34.26,
                        "count": 349
                      }
                    ]
                  }
                },
                {
                  "name": "Kelembapan",
                  "dtype": "float64",
                  "stats": {
                    "unique_count": 2790,
                    "nan_count": 0,
                    "min": "61.26",
                    "max": "96.96",
                    "histogram": [
                      {
                        "bin_start": 61.26,
                        "bin_end": 64.83,
                        "count": 97
                      },
                      {
                        "bin_start": 64.83,
                        "bin_end": 68.39999999999999,
                        "count": 396
                      },
                      {
                        "bin_start": 68.39999999999999,
                        "bin_end": 71.97,
                        "count": 693
                      },
                      {
                        "bin_start": 71.97,
                        "bin_end": 75.53999999999999,
                        "count": 778
                      },
                      {
                        "bin_start": 75.53999999999999,
                        "bin_end": 79.11,
                        "count": 563
                      },
                      {
                        "bin_start": 79.11,
                        "bin_end": 82.67999999999999,
                        "count": 469
                      },
                      {
                        "bin_start": 82.67999999999999,
                        "bin_end": 86.25,
                        "count": 619
                      },
                      {
                        "bin_start": 86.25,
                        "bin_end": 89.82,
                        "count": 1058
                      },
                      {
                        "bin_start": 89.82,
                        "bin_end": 93.38999999999999,
                        "count": 1713
                      },
                      {
                        "bin_start": 93.38999999999999,
                        "bin_end": 96.96,
                        "count": 1614
                      }
                    ]
                  }
                },
                {
                  "name": "Tekanan",
                  "dtype": "float64",
                  "stats": {
                    "unique_count": 519,
                    "nan_count": 0,
                    "min": "1008.61",
                    "max": "1013.87",
                    "histogram": [
                      {
                        "bin_start": 1008.61,
                        "bin_end": 1009.136,
                        "count": 140
                      },
                      {
                        "bin_start": 1009.136,
                        "bin_end": 1009.662,
                        "count": 503
                      },
                      {
                        "bin_start": 1009.662,
                        "bin_end": 1010.188,
                        "count": 583
                      },
                      {
                        "bin_start": 1010.188,
                        "bin_end": 1010.714,
                        "count": 847
                      },
                      {
                        "bin_start": 1010.714,
                        "bin_end": 1011.24,
                        "count": 973
                      },
                      {
                        "bin_start": 1011.24,
                        "bin_end": 1011.766,
                        "count": 1137
                      },
                      {
                        "bin_start": 1011.766,
                        "bin_end": 1012.292,
                        "count": 1232
                      },
                      {
                        "bin_start": 1012.292,
                        "bin_end": 1012.818,
                        "count": 1433
                      },
                      {
                        "bin_start": 1012.818,
                        "bin_end": 1013.344,
                        "count": 823
                      },
                      {
                        "bin_start": 1013.344,
                        "bin_end": 1013.87,
                        "count": 329
                      }
                    ]
                  }
                },
                {
                  "name": "Embun",
                  "dtype": "float64",
                  "stats": {
                    "unique_count": 389,
                    "nan_count": 0,
                    "min": "23.6",
                    "max": "27.83",
                    "histogram": [
                      {
                        "bin_start": 23.6,
                        "bin_end": 24.023,
                        "count": 68
                      },
                      {
                        "bin_start": 24.023,
                        "bin_end": 24.446,
                        "count": 319
                      },
                      {
                        "bin_start": 24.446,
                        "bin_end": 24.869,
                        "count": 421
                      },
                      {
                        "bin_start": 24.869,
                        "bin_end": 25.292,
                        "count": 762
                      },
                      {
                        "bin_start": 25.292,
                        "bin_end": 25.715,
                        "count": 1886
                      },
                      {
                        "bin_start": 25.715,
                        "bin_end": 26.137999999999998,
                        "count": 1989
                      },
                      {
                        "bin_start": 26.137999999999998,
                        "bin_end": 26.561,
                        "count": 1309
                      },
                      {
                        "bin_start": 26.561,
                        "bin_end": 26.983999999999998,
                        "count": 864
                      },
                      {
                        "bin_start": 26.983999999999998,
                        "bin_end": 27.407,
                        "count": 343
                      },
                      {
                        "bin_start": 27.407,
                        "bin_end": 27.83,
                        "count": 39
                      }
                    ]
                  }
                },
                {
                  "name": "Volt",
                  "dtype": "float64",
                  "stats": {
                    "unique_count": 14,
                    "nan_count": 0,
                    "min": "4.03",
                    "max": "4.16",
                    "histogram": [
                      {
                        "bin_start": 4.03,
                        "bin_end": 4.043,
                        "count": 1325
                      },
                      {
                        "bin_start": 4.043,
                        "bin_end": 4.056,
                        "count": 2077
                      },
                      {
                        "bin_start": 4.056,
                        "bin_end": 4.069,
                        "count": 505
                      },
                      {
                        "bin_start": 4.069,
                        "bin_end": 4.082,
                        "count": 170
                      },
                      {
                        "bin_start": 4.082,
                        "bin_end": 4.095000000000001,
                        "count": 155
                      },
                      {
                        "bin_start": 4.095000000000001,
                        "bin_end": 4.1080000000000005,
                        "count": 279
                      },
                      {
                        "bin_start": 4.1080000000000005,
                        "bin_end": 4.121,
                        "count": 3358
                      },
                      {
                        "bin_start": 4.121,
                        "bin_end": 4.134,
                        "count": 106
                      },
                      {
                        "bin_start": 4.134,
                        "bin_end": 4.147,
                        "count": 19
                      },
                      {
                        "bin_start": 4.147,
                        "bin_end": 4.16,
                        "count": 6
                      }
                    ]
                  }
                },
                {
                  "name": "_deepnote_index_column",
                  "dtype": "int64"
                }
              ],
              "rows": [
                {
                  "Time": "2024-09-29 18:33:52",
                  "Suhu": 26.15,
                  "Kelembapan": 92.61,
                  "Tekanan": 1011.15,
                  "Embun": 24.86,
                  "Volt": 4.04,
                  "_deepnote_index_column": 0
                },
                {
                  "Time": "2024-09-29 18:34:52",
                  "Suhu": 26.13,
                  "Kelembapan": 92.58,
                  "Tekanan": 1011.1,
                  "Embun": 24.83,
                  "Volt": 4.05,
                  "_deepnote_index_column": 1
                },
                {
                  "Time": "2024-09-29 18:35:52",
                  "Suhu": 26.13,
                  "Kelembapan": 92.57,
                  "Tekanan": 1011.1,
                  "Embun": 24.83,
                  "Volt": 4.04,
                  "_deepnote_index_column": 2
                },
                {
                  "Time": "2024-09-29 18:36:52",
                  "Suhu": 26.13,
                  "Kelembapan": 92.55,
                  "Tekanan": 1011.06,
                  "Embun": 24.83,
                  "Volt": 4.04,
                  "_deepnote_index_column": 3
                },
                {
                  "Time": "2024-09-29 18:37:52",
                  "Suhu": 26.11,
                  "Kelembapan": 92.51,
                  "Tekanan": 1011.05,
                  "Embun": 24.8,
                  "Volt": 4.05,
                  "_deepnote_index_column": 4
                },
                {
                  "Time": "2024-09-29 18:38:52",
                  "Suhu": 26.12,
                  "Kelembapan": 92.57,
                  "Tekanan": 1011.03,
                  "Embun": 24.82,
                  "Volt": 4.05,
                  "_deepnote_index_column": 5
                },
                {
                  "Time": "2024-09-29 18:39:52",
                  "Suhu": 26.12,
                  "Kelembapan": 92.56,
                  "Tekanan": 1011.01,
                  "Embun": 24.82,
                  "Volt": 4.05,
                  "_deepnote_index_column": 6
                },
                {
                  "Time": "2024-09-29 18:40:52",
                  "Suhu": 26.12,
                  "Kelembapan": 92.54,
                  "Tekanan": 1010.98,
                  "Embun": 24.82,
                  "Volt": 4.04,
                  "_deepnote_index_column": 7
                },
                {
                  "Time": "2024-09-29 18:41:52",
                  "Suhu": 26.08,
                  "Kelembapan": 92.53,
                  "Tekanan": 1011.01,
                  "Embun": 24.77,
                  "Volt": 4.05,
                  "_deepnote_index_column": 8
                },
                {
                  "Time": "2024-09-29 18:42:52",
                  "Suhu": 26.1,
                  "Kelembapan": 92.59,
                  "Tekanan": 1011.05,
                  "Embun": 24.8,
                  "Volt": 4.04,
                  "_deepnote_index_column": 9
                }
              ]
            },
            "text/plain": "                    Time   Suhu  Kelembapan  Tekanan  Embun  Volt\n0    2024-09-29 18:33:52  26.15       92.61  1011.15  24.86  4.04\n1    2024-09-29 18:34:52  26.13       92.58  1011.10  24.83  4.05\n2    2024-09-29 18:35:52  26.13       92.57  1011.10  24.83  4.04\n3    2024-09-29 18:36:52  26.13       92.55  1011.06  24.83  4.04\n4    2024-09-29 18:37:52  26.11       92.51  1011.05  24.80  4.05\n...                  ...    ...         ...      ...    ...   ...\n7995 2024-10-05 10:58:22  28.24       85.38  1010.90  25.55  4.06\n7996 2024-10-05 10:59:22  28.25       85.41  1010.89  25.57  4.06\n7997 2024-10-05 11:00:22  28.23       85.62  1010.88  25.59  4.06\n7998 2024-10-05 11:01:22  28.25       85.49  1010.90  25.58  4.06\n7999 2024-10-05 11:02:22  28.24       85.78  1010.90  25.63  4.06\n\n[8000 rows x 6 columns]",
            "text/html": "<div>\n<style scoped>\n    .dataframe tbody tr th:only-of-type {\n        vertical-align: middle;\n    }\n\n    .dataframe tbody tr th {\n        vertical-align: top;\n    }\n\n    .dataframe thead th {\n        text-align: right;\n    }\n</style>\n<table border=\"1\" class=\"dataframe\">\n  <thead>\n    <tr style=\"text-align: right;\">\n      <th></th>\n      <th>Time</th>\n      <th>Suhu</th>\n      <th>Kelembapan</th>\n      <th>Tekanan</th>\n      <th>Embun</th>\n      <th>Volt</th>\n    </tr>\n  </thead>\n  <tbody>\n    <tr>\n      <th>0</th>\n      <td>2024-09-29 18:33:52</td>\n      <td>26.15</td>\n      <td>92.61</td>\n      <td>1011.15</td>\n      <td>24.86</td>\n      <td>4.04</td>\n    </tr>\n    <tr>\n      <th>1</th>\n      <td>2024-09-29 18:34:52</td>\n      <td>26.13</td>\n      <td>92.58</td>\n      <td>1011.10</td>\n      <td>24.83</td>\n      <td>4.05</td>\n    </tr>\n    <tr>\n      <th>2</th>\n      <td>2024-09-29 18:35:52</td>\n      <td>26.13</td>\n      <td>92.57</td>\n      <td>1011.10</td>\n      <td>24.83</td>\n      <td>4.04</td>\n    </tr>\n    <tr>\n      <th>3</th>\n      <td>2024-09-29 18:36:52</td>\n      <td>26.13</td>\n      <td>92.55</td>\n      <td>1011.06</td>\n      <td>24.83</td>\n      <td>4.04</td>\n    </tr>\n    <tr>\n      <th>4</th>\n      <td>2024-09-29 18:37:52</td>\n      <td>26.11</td>\n      <td>92.51</td>\n      <td>1011.05</td>\n      <td>24.80</td>\n      <td>4.05</td>\n    </tr>\n    <tr>\n      <th>...</th>\n      <td>...</td>\n      <td>...</td>\n      <td>...</td>\n      <td>...</td>\n      <td>...</td>\n      <td>...</td>\n    </tr>\n    <tr>\n      <th>7995</th>\n      <td>2024-10-05 10:58:22</td>\n      <td>28.24</td>\n      <td>85.38</td>\n      <td>1010.90</td>\n      <td>25.55</td>\n      <td>4.06</td>\n    </tr>\n    <tr>\n      <th>7996</th>\n      <td>2024-10-05 10:59:22</td>\n      <td>28.25</td>\n      <td>85.41</td>\n      <td>1010.89</td>\n      <td>25.57</td>\n      <td>4.06</td>\n    </tr>\n    <tr>\n      <th>7997</th>\n      <td>2024-10-05 11:00:22</td>\n      <td>28.23</td>\n      <td>85.62</td>\n      <td>1010.88</td>\n      <td>25.59</td>\n      <td>4.06</td>\n    </tr>\n    <tr>\n      <th>7998</th>\n      <td>2024-10-05 11:01:22</td>\n      <td>28.25</td>\n      <td>85.49</td>\n      <td>1010.90</td>\n      <td>25.58</td>\n      <td>4.06</td>\n    </tr>\n    <tr>\n      <th>7999</th>\n      <td>2024-10-05 11:02:22</td>\n      <td>28.24</td>\n      <td>85.78</td>\n      <td>1010.90</td>\n      <td>25.63</td>\n      <td>4.06</td>\n    </tr>\n  </tbody>\n</table>\n<p>8000 rows × 6 columns</p>\n</div>"
          },
          "metadata": {}
        }
      ],
      "outputs_reference": null,
      "execution_count": 4,
      "block_group": "6753e040c4ad4d8b9e612061325f2a58",
      "content_dependencies": null
    },
    {
      "cell_type": "markdown",
      "source": "<a style='text-decoration:none;line-height:16px;display:flex;color:#5B5B62;padding:10px;justify-content:end;' href='https://deepnote.com?utm_source=created-in-deepnote-cell&projectId=200afad5-8991-4e20-8a55-8751c7aff3b5' target=\"_blank\">\n<img alt='Created in deepnote.com' style='display:inline;max-height:16px;margin:0px;margin-right:7.5px;' src='data:image/svg+xml;base64,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' > </img>\nCreated in <span style='font-weight:600;margin-left:4px;'>Deepnote</span></a>",
      "metadata": {
        "created_in_deepnote_cell": true,
        "deepnote_cell_type": "markdown"
      }
    }
  ],
  "nbformat": 4,
  "nbformat_minor": 0,
  "metadata": {
    "deepnote_notebook_id": "893cf8e584dc4e4bb3d4c04d61010bc5",
    "deepnote_execution_queue": []
  }
}