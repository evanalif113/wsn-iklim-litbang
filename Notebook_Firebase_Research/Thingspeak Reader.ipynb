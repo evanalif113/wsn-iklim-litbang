{
  "cells": [
    {
      "cell_type": "code",
      "source": "import requests\nimport pandas as pd\nimport time\n\n# Konfigurasi API ThingSpeak\nchannel_id = 2326256\nread_api_key = 'BKIJNOYDM205J2HG'\nurl = f'https://api.thingspeak.com/channels/{channel_id}/feeds.json'\n\n# Jumlah maksimum data per permintaan (maksimal 8000 menurut dokumentasi ThingSpeak)\nmax_results_per_page = 8000\n\n# Inisialisasi variabel untuk menampung semua data\nall_data = []\n\n# Parameter paginasi\npage = 1\ntotal_results = 0\n\n# Loop untuk mengambil data dari semua halaman\nwhile True:\n    # Parameter untuk permintaan API\n    params = {\n        'api_key': read_api_key,\n        'results': max_results_per_page,\n        'offset': (page - 1) * max_results_per_page\n    }\n\n    # Mengirim permintaan GET ke ThingSpeak\n    response = requests.get(url, params=params)\n\n    # Cek apakah permintaan berhasil\n    if response.status_code == 200:\n        # Mengambil data feed dalam format JSON\n        data = response.json()\n        feeds = data['feeds']\n\n        # Jika tidak ada data lagi, keluar dari loop\n        if not feeds:\n            break\n\n        # Tambahkan data feed ke list all_data\n        all_data.extend(feeds)\n\n        # Tampilkan jumlah data yang sudah diambil\n        total_results += len(feeds)\n        print(f\"Fetched {total_results} total records so far...\")\n\n        # Tunggu sejenak agar tidak membanjiri server ThingSpeak\n        time.sleep(1)\n\n        # Lanjutkan ke halaman berikutnya\n        page += 1\n    else:\n        print(f\"Failed to fetch data on page {page}. HTTP Status code: {response.status_code}\")\n        break\n\n# Membuat DataFrame Pandas dari semua data yang dikumpulkan\ndf = pd.DataFrame(all_data)\n\n# Pilih kolom-kolom yang ingin disimpan, misalnya waktu dan field1 hingga field8\ndf = df[['created_at', 'field1', 'field2', 'field3', 'field4', 'field8']]\n\n# Ganti nama kolom untuk lebih deskriptif\ndf.columns = ['Time', 'Suhu', 'Kelembapan', 'Tekanan', 'Embun', 'Volt']\n\n# Simpan DataFrame ke file CSV\ndf.to_csv('Cuaca_All_Data.csv', index=False)\n\n# Tampilkan DataFrame untuk pengecekan\ndf.tail(10)\n",
      "metadata": {
        "source_hash": "88f044fd",
        "execution_start": 1728126356046,
        "execution_millis": 489,
        "execution_context_id": "93432be1-9f98-45ca-96ca-674eea7e6dd9",
        "cell_id": "f58d62426117456b9425772d1eda4673",
        "deepnote_cell_type": "code"
      },
      "outputs": [
        {
          "name": "stdout",
          "text": "Fetched 8000 total records so far...\nFetched 16000 total records so far...\nFetched 24000 total records so far...\nFetched 32000 total records so far...\nFetched 40000 total records so far...\nFetched 48000 total records so far...\nFetched 56000 total records so far...\nFetched 64000 total records so far...\nFetched 72000 total records so far...\nFetched 80000 total records so far...\nFetched 88000 total records so far...\nFetched 96000 total records so far...\nFetched 104000 total records so far...\nFetched 112000 total records so far...\nFetched 120000 total records so far...\nFetched 128000 total records so far...\nFetched 136000 total records so far...\nFetched 144000 total records so far...\nFetched 152000 total records so far...\nFetched 160000 total records so far...\nFetched 168000 total records so far...\nFetched 176000 total records so far...\nFetched 184000 total records so far...\nFetched 192000 total records so far...\nFetched 200000 total records so far...\nFetched 208000 total records so far...\nFetched 216000 total records so far...\nFetched 224000 total records so far...\nFetched 232000 total records so far...\nFetched 240000 total records so far...\nFetched 248000 total records so far...\nFetched 256000 total records so far...\nFetched 264000 total records so far...\nFetched 272000 total records so far...\nFetched 280000 total records so far...\nFetched 288000 total records so far...\nFetched 296000 total records so far...\nFetched 304000 total records so far...\nFetched 312000 total records so far...\nFetched 320000 total records so far...\nFetched 328000 total records so far...\nFetched 336000 total records so far...\nFetched 344000 total records so far...\nFetched 352000 total records so far...\nFetched 360000 total records so far...\nFetched 368000 total records so far...\nFetched 376000 total records so far...\nFetched 384000 total records so far...\nFetched 392000 total records so far...\nFetched 400000 total records so far...\nFetched 408000 total records so far...\nFetched 416000 total records so far...\nFetched 424000 total records so far...\nFetched 432000 total records so far...\nFetched 440000 total records so far...\nFetched 448000 total records so far...\nFetched 456000 total records so far...\nFetched 464000 total records so far...\nFetched 472000 total records so far...\nFetched 480000 total records so far...\nFetched 488000 total records so far...\nFetched 496000 total records so far...\nFetched 504000 total records so far...\nFetched 512000 total records so far...\nFetched 520000 total records so far...\nFetched 528000 total records so far...\nFetched 536000 total records so far...\nFetched 544000 total records so far...\nFetched 552000 total records so far...\nFetched 560000 total records so far...\nFetched 568000 total records so far...\nFetched 576000 total records so far...\nFetched 584000 total records so far...\nFetched 592000 total records so far...\nFetched 600000 total records so far...\nFetched 608000 total records so far...\nFetched 616000 total records so far...\nFetched 624000 total records so far...\nFetched 632000 total records so far...\n",
          "output_type": "stream"
        }
      ],
      "outputs_reference": null,
      "execution_count": null,
      "block_group": "f58d62426117456b9425772d1eda4673",
      "content_dependencies": null
    },
    {
      "cell_type": "code",
      "source": "dataharian = (lambda: _deepnote_execute_sql('SELECT *\\nFROM \\'Cuaca.csv\\'', 'SQL_DEEPNOTE_DATAFRAME_SQL', audit_sql_comment='', sql_cache_mode='cache_disabled') if '_deepnote_execute_sql' in globals() else _dntk.execute_sql('SELECT *\\nFROM \\'Cuaca.csv\\'', 'SQL_DEEPNOTE_DATAFRAME_SQL', audit_sql_comment='', sql_cache_mode='cache_disabled'))()\ndataharian",
      "metadata": {
        "source_hash": "2b691ae",
        "execution_start": 1728124136930,
        "execution_millis": 518,
        "sql_integration_id": "deepnote-dataframe-sql",
        "execution_context_id": "d2ecbc0e-370e-4b7a-9f30-e5bab1baa9cc",
        "deepnote_variable_name": "dataharian",
        "cell_id": "45cc744e80ba488bac9df43237017c84",
        "deepnote_cell_type": "sql",
        "deepnote_sql_source": "SELECT *\nFROM 'Cuaca.csv'"
      },
      "outputs": [
        {
          "output_type": "execute_result",
          "execution_count": 4,
          "data": {
            "application/vnd.deepnote.dataframe.v3+json": {
              "column_count": 6,
              "row_count": 8000,
              "columns": [
                {
                  "name": "Time",
                  "dtype": "datetime64[us]",
                  "stats": {
                    "unique_count": 8000,
                    "nan_count": 0,
                    "min": "2024-09-29 17:59:52",
                    "max": "2024-10-05 10:28:22",
                    "histogram": [
                      {
                        "bin_start": 1727632792000000,
                        "bin_end": 1727681923000000,
                        "count": 815
                      },
                      {
                        "bin_start": 1727681923000000,
                        "bin_end": 1727731054000000,
                        "count": 811
                      },
                      {
                        "bin_start": 1727731054000000,
                        "bin_end": 1727780185000000,
                        "count": 812
                      },
                      {
                        "bin_start": 1727780185000000,
                        "bin_end": 1727829316000000,
                        "count": 817
                      },
                      {
                        "bin_start": 1727829316000000,
                        "bin_end": 1727878447000000,
                        "count": 813
                      },
                      {
                        "bin_start": 1727878447000000,
                        "bin_end": 1727927578000000,
                        "count": 815
                      },
                      {
                        "bin_start": 1727927578000000,
                        "bin_end": 1727976709000000,
                        "count": 678
                      },
                      {
                        "bin_start": 1727976709000000,
                        "bin_end": 1728025840000000,
                        "count": 818
                      },
                      {
                        "bin_start": 1728025840000000,
                        "bin_end": 1728074971000000,
                        "count": 806
                      },
                      {
                        "bin_start": 1728074971000000,
                        "bin_end": 1728124102000000,
                        "count": 815
                      }
                    ]
                  }
                },
                {
                  "name": "Suhu",
                  "dtype": "float64",
                  "stats": {
                    "unique_count": 901,
                    "nan_count": 0,
                    "min": "25.0",
                    "max": "34.26",
                    "histogram": [
                      {
                        "bin_start": 25,
                        "bin_end": 25.926,
                        "count": 1003
                      },
                      {
                        "bin_start": 25.926,
                        "bin_end": 26.852,
                        "count": 1327
                      },
                      {
                        "bin_start": 26.852,
                        "bin_end": 27.778,
                        "count": 1407
                      },
                      {
                        "bin_start": 27.778,
                        "bin_end": 28.704,
                        "count": 977
                      },
                      {
                        "bin_start": 28.704,
                        "bin_end": 29.63,
                        "count": 458
                      },
                      {
                        "bin_start": 29.63,
                        "bin_end": 30.555999999999997,
                        "count": 426
                      },
                      {
                        "bin_start": 30.555999999999997,
                        "bin_end": 31.482,
                        "count": 575
                      },
                      {
                        "bin_start": 31.482,
                        "bin_end": 32.408,
                        "count": 635
                      },
                      {
                        "bin_start": 32.408,
                        "bin_end": 33.333999999999996,
                        "count": 843
                      },
                      {
                        "bin_start": 33.333999999999996,
                        "bin_end": 34.26,
                        "count": 349
                      }
                    ]
                  }
                },
                {
                  "name": "Kelembapan",
                  "dtype": "float64",
                  "stats": {
                    "unique_count": 2780,
                    "nan_count": 0,
                    "min": "61.26",
                    "max": "96.96",
                    "histogram": [
                      {
                        "bin_start": 61.26,
                        "bin_end": 64.83,
                        "count": 97
                      },
                      {
                        "bin_start": 64.83,
                        "bin_end": 68.39999999999999,
                        "count": 396
                      },
                      {
                        "bin_start": 68.39999999999999,
                        "bin_end": 71.97,
                        "count": 693
                      },
                      {
                        "bin_start": 71.97,
                        "bin_end": 75.53999999999999,
                        "count": 778
                      },
                      {
                        "bin_start": 75.53999999999999,
                        "bin_end": 79.11,
                        "count": 563
                      },
                      {
                        "bin_start": 79.11,
                        "bin_end": 82.67999999999999,
                        "count": 469
                      },
                      {
                        "bin_start": 82.67999999999999,
                        "bin_end": 86.25,
                        "count": 585
                      },
                      {
                        "bin_start": 86.25,
                        "bin_end": 89.82,
                        "count": 1058
                      },
                      {
                        "bin_start": 89.82,
                        "bin_end": 93.38999999999999,
                        "count": 1747
                      },
                      {
                        "bin_start": 93.38999999999999,
                        "bin_end": 96.96,
                        "count": 1614
                      }
                    ]
                  }
                },
                {
                  "name": "Tekanan",
                  "dtype": "float64",
                  "stats": {
                    "unique_count": 519,
                    "nan_count": 0,
                    "min": "1008.61",
                    "max": "1013.87",
                    "histogram": [
                      {
                        "bin_start": 1008.61,
                        "bin_end": 1009.136,
                        "count": 140
                      },
                      {
                        "bin_start": 1009.136,
                        "bin_end": 1009.662,
                        "count": 503
                      },
                      {
                        "bin_start": 1009.662,
                        "bin_end": 1010.188,
                        "count": 582
                      },
                      {
                        "bin_start": 1010.188,
                        "bin_end": 1010.714,
                        "count": 825
                      },
                      {
                        "bin_start": 1010.714,
                        "bin_end": 1011.24,
                        "count": 967
                      },
                      {
                        "bin_start": 1011.24,
                        "bin_end": 1011.766,
                        "count": 1166
                      },
                      {
                        "bin_start": 1011.766,
                        "bin_end": 1012.292,
                        "count": 1232
                      },
                      {
                        "bin_start": 1012.292,
                        "bin_end": 1012.818,
                        "count": 1433
                      },
                      {
                        "bin_start": 1012.818,
                        "bin_end": 1013.344,
                        "count": 823
                      },
                      {
                        "bin_start": 1013.344,
                        "bin_end": 1013.87,
                        "count": 329
                      }
                    ]
                  }
                },
                {
                  "name": "Embun",
                  "dtype": "float64",
                  "stats": {
                    "unique_count": 389,
                    "nan_count": 0,
                    "min": "23.6",
                    "max": "27.83",
                    "histogram": [
                      {
                        "bin_start": 23.6,
                        "bin_end": 24.023,
                        "count": 68
                      },
                      {
                        "bin_start": 24.023,
                        "bin_end": 24.446,
                        "count": 319
                      },
                      {
                        "bin_start": 24.446,
                        "bin_end": 24.869,
                        "count": 427
                      },
                      {
                        "bin_start": 24.869,
                        "bin_end": 25.292,
                        "count": 790
                      },
                      {
                        "bin_start": 25.292,
                        "bin_end": 25.715,
                        "count": 1854
                      },
                      {
                        "bin_start": 25.715,
                        "bin_end": 26.137999999999998,
                        "count": 1987
                      },
                      {
                        "bin_start": 26.137999999999998,
                        "bin_end": 26.561,
                        "count": 1309
                      },
                      {
                        "bin_start": 26.561,
                        "bin_end": 26.983999999999998,
                        "count": 864
                      },
                      {
                        "bin_start": 26.983999999999998,
                        "bin_end": 27.407,
                        "count": 343
                      },
                      {
                        "bin_start": 27.407,
                        "bin_end": 27.83,
                        "count": 39
                      }
                    ]
                  }
                },
                {
                  "name": "Volt",
                  "dtype": "float64",
                  "stats": {
                    "unique_count": 14,
                    "nan_count": 0,
                    "min": "4.03",
                    "max": "4.16",
                    "histogram": [
                      {
                        "bin_start": 4.03,
                        "bin_end": 4.043,
                        "count": 1352
                      },
                      {
                        "bin_start": 4.043,
                        "bin_end": 4.056,
                        "count": 2076
                      },
                      {
                        "bin_start": 4.056,
                        "bin_end": 4.069,
                        "count": 482
                      },
                      {
                        "bin_start": 4.069,
                        "bin_end": 4.082,
                        "count": 168
                      },
                      {
                        "bin_start": 4.082,
                        "bin_end": 4.095000000000001,
                        "count": 155
                      },
                      {
                        "bin_start": 4.095000000000001,
                        "bin_end": 4.1080000000000005,
                        "count": 278
                      },
                      {
                        "bin_start": 4.1080000000000005,
                        "bin_end": 4.121,
                        "count": 3358
                      },
                      {
                        "bin_start": 4.121,
                        "bin_end": 4.134,
                        "count": 106
                      },
                      {
                        "bin_start": 4.134,
                        "bin_end": 4.147,
                        "count": 19
                      },
                      {
                        "bin_start": 4.147,
                        "bin_end": 4.16,
                        "count": 6
                      }
                    ]
                  }
                },
                {
                  "name": "_deepnote_index_column",
                  "dtype": "int64"
                }
              ],
              "rows": [
                {
                  "Time": "2024-09-29 17:59:52",
                  "Suhu": 26.36,
                  "Kelembapan": 92.39,
                  "Tekanan": 1011.36,
                  "Embun": 25.03,
                  "Volt": 4.04,
                  "_deepnote_index_column": 0
                },
                {
                  "Time": "2024-09-29 18:00:52",
                  "Suhu": 26.35,
                  "Kelembapan": 92.52,
                  "Tekanan": 1011.39,
                  "Embun": 25.04,
                  "Volt": 4.04,
                  "_deepnote_index_column": 1
                },
                {
                  "Time": "2024-09-29 18:01:52",
                  "Suhu": 26.33,
                  "Kelembapan": 92.38,
                  "Tekanan": 1011.38,
                  "Embun": 24.99,
                  "Volt": 4.04,
                  "_deepnote_index_column": 2
                },
                {
                  "Time": "2024-09-29 18:02:52",
                  "Suhu": 26.35,
                  "Kelembapan": 92.36,
                  "Tekanan": 1011.44,
                  "Embun": 25.01,
                  "Volt": 4.04,
                  "_deepnote_index_column": 3
                },
                {
                  "Time": "2024-09-29 18:03:51",
                  "Suhu": 26.33,
                  "Kelembapan": 92.27,
                  "Tekanan": 1011.44,
                  "Embun": 24.97,
                  "Volt": 4.04,
                  "_deepnote_index_column": 4
                },
                {
                  "Time": "2024-09-29 18:04:52",
                  "Suhu": 26.34,
                  "Kelembapan": 92.22,
                  "Tekanan": 1011.45,
                  "Embun": 24.97,
                  "Volt": 4.04,
                  "_deepnote_index_column": 5
                },
                {
                  "Time": "2024-09-29 18:05:52",
                  "Suhu": 26.36,
                  "Kelembapan": 92.27,
                  "Tekanan": 1011.39,
                  "Embun": 25,
                  "Volt": 4.04,
                  "_deepnote_index_column": 6
                },
                {
                  "Time": "2024-09-29 18:06:52",
                  "Suhu": 26.34,
                  "Kelembapan": 92.38,
                  "Tekanan": 1011.45,
                  "Embun": 25,
                  "Volt": 4.05,
                  "_deepnote_index_column": 7
                },
                {
                  "Time": "2024-09-29 18:07:52",
                  "Suhu": 26.32,
                  "Kelembapan": 92.39,
                  "Tekanan": 1011.46,
                  "Embun": 24.99,
                  "Volt": 4.04,
                  "_deepnote_index_column": 8
                },
                {
                  "Time": "2024-09-29 18:08:52",
                  "Suhu": 26.31,
                  "Kelembapan": 92.42,
                  "Tekanan": 1011.45,
                  "Embun": 24.98,
                  "Volt": 4.04,
                  "_deepnote_index_column": 9
                }
              ]
            },
            "text/plain": "                    Time   Suhu  Kelembapan  Tekanan  Embun  Volt\n0    2024-09-29 17:59:52  26.36       92.39  1011.36  25.03  4.04\n1    2024-09-29 18:00:52  26.35       92.52  1011.39  25.04  4.04\n2    2024-09-29 18:01:52  26.33       92.38  1011.38  24.99  4.04\n3    2024-09-29 18:02:52  26.35       92.36  1011.44  25.01  4.04\n4    2024-09-29 18:03:51  26.33       92.27  1011.44  24.97  4.04\n...                  ...    ...         ...      ...    ...   ...\n7995 2024-10-05 10:24:22  28.98       82.66  1010.20  25.73  4.06\n7996 2024-10-05 10:25:22  28.99       82.68  1010.20  25.74  4.06\n7997 2024-10-05 10:26:22  28.96       82.75  1010.24  25.73  4.06\n7998 2024-10-05 10:27:22  28.96       82.74  1010.22  25.73  4.09\n7999 2024-10-05 10:28:22  28.93       82.99  1010.19  25.75  4.07\n\n[8000 rows x 6 columns]",
            "text/html": "<div>\n<style scoped>\n    .dataframe tbody tr th:only-of-type {\n        vertical-align: middle;\n    }\n\n    .dataframe tbody tr th {\n        vertical-align: top;\n    }\n\n    .dataframe thead th {\n        text-align: right;\n    }\n</style>\n<table border=\"1\" class=\"dataframe\">\n  <thead>\n    <tr style=\"text-align: right;\">\n      <th></th>\n      <th>Time</th>\n      <th>Suhu</th>\n      <th>Kelembapan</th>\n      <th>Tekanan</th>\n      <th>Embun</th>\n      <th>Volt</th>\n    </tr>\n  </thead>\n  <tbody>\n    <tr>\n      <th>0</th>\n      <td>2024-09-29 17:59:52</td>\n      <td>26.36</td>\n      <td>92.39</td>\n      <td>1011.36</td>\n      <td>25.03</td>\n      <td>4.04</td>\n    </tr>\n    <tr>\n      <th>1</th>\n      <td>2024-09-29 18:00:52</td>\n      <td>26.35</td>\n      <td>92.52</td>\n      <td>1011.39</td>\n      <td>25.04</td>\n      <td>4.04</td>\n    </tr>\n    <tr>\n      <th>2</th>\n      <td>2024-09-29 18:01:52</td>\n      <td>26.33</td>\n      <td>92.38</td>\n      <td>1011.38</td>\n      <td>24.99</td>\n      <td>4.04</td>\n    </tr>\n    <tr>\n      <th>3</th>\n      <td>2024-09-29 18:02:52</td>\n      <td>26.35</td>\n      <td>92.36</td>\n      <td>1011.44</td>\n      <td>25.01</td>\n      <td>4.04</td>\n    </tr>\n    <tr>\n      <th>4</th>\n      <td>2024-09-29 18:03:51</td>\n      <td>26.33</td>\n      <td>92.27</td>\n      <td>1011.44</td>\n      <td>24.97</td>\n      <td>4.04</td>\n    </tr>\n    <tr>\n      <th>...</th>\n      <td>...</td>\n      <td>...</td>\n      <td>...</td>\n      <td>...</td>\n      <td>...</td>\n      <td>...</td>\n    </tr>\n    <tr>\n      <th>7995</th>\n      <td>2024-10-05 10:24:22</td>\n      <td>28.98</td>\n      <td>82.66</td>\n      <td>1010.20</td>\n      <td>25.73</td>\n      <td>4.06</td>\n    </tr>\n    <tr>\n      <th>7996</th>\n      <td>2024-10-05 10:25:22</td>\n      <td>28.99</td>\n      <td>82.68</td>\n      <td>1010.20</td>\n      <td>25.74</td>\n      <td>4.06</td>\n    </tr>\n    <tr>\n      <th>7997</th>\n      <td>2024-10-05 10:26:22</td>\n      <td>28.96</td>\n      <td>82.75</td>\n      <td>1010.24</td>\n      <td>25.73</td>\n      <td>4.06</td>\n    </tr>\n    <tr>\n      <th>7998</th>\n      <td>2024-10-05 10:27:22</td>\n      <td>28.96</td>\n      <td>82.74</td>\n      <td>1010.22</td>\n      <td>25.73</td>\n      <td>4.09</td>\n    </tr>\n    <tr>\n      <th>7999</th>\n      <td>2024-10-05 10:28:22</td>\n      <td>28.93</td>\n      <td>82.99</td>\n      <td>1010.19</td>\n      <td>25.75</td>\n      <td>4.07</td>\n    </tr>\n  </tbody>\n</table>\n<p>8000 rows × 6 columns</p>\n</div>"
          },
          "metadata": {}
        }
      ],
      "outputs_reference": null,
      "execution_count": 4,
      "block_group": "6753e040c4ad4d8b9e612061325f2a58",
      "content_dependencies": null
    },
    {
      "cell_type": "markdown",
      "source": "<a style='text-decoration:none;line-height:16px;display:flex;color:#5B5B62;padding:10px;justify-content:end;' href='https://deepnote.com?utm_source=created-in-deepnote-cell&projectId=200afad5-8991-4e20-8a55-8751c7aff3b5' target=\"_blank\">\n<img alt='Created in deepnote.com' style='display:inline;max-height:16px;margin:0px;margin-right:7.5px;' src='data:image/svg+xml;base64,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' > </img>\nCreated in <span style='font-weight:600;margin-left:4px;'>Deepnote</span></a>",
      "metadata": {
        "created_in_deepnote_cell": true,
        "deepnote_cell_type": "markdown"
      }
    }
  ],
  "nbformat": 4,
  "nbformat_minor": 0,
  "metadata": {
    "deepnote_notebook_id": "893cf8e584dc4e4bb3d4c04d61010bc5",
    "deepnote_execution_queue": []
  }
}