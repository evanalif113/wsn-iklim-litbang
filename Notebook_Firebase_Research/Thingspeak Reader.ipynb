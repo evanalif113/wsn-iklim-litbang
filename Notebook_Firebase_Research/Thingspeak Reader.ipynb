{
  "cells": [
    {
      "cell_type": "code",
      "source": "import requests\nimport pandas as pd\nimport time\n\n# Konfigurasi API ThingSpeak\nchannel_id = 2326256\nread_api_key = 'BKIJNOYDM205J2HG'\nurl = f'https://api.thingspeak.com/channels/{channel_id}/feeds.json'\n\n# Dapatkan jumlah total data feeds (last_entry_id) dari API ThingSpeak\ndef get_last_entry_id():\n    response = requests.get(f'https://api.thingspeak.com/channels/{channel_id}/feeds.json', params={'api_key': read_api_key, 'results': 1})\n    if response.status_code == 200:\n        data = response.json()\n        return data['channel']['last_entry_id']\n    else:\n        print(f\"Failed to fetch last_entry_id. HTTP Status code: {response.status_code}\")\n        return None\n\n# Jumlah maksimum data per permintaan (maksimal 8000 menurut dokumentasi ThingSpeak)\nmax_results_per_page = 8000\n\n# Inisialisasi variabel untuk menampung semua data\nall_data = []\n\n# Ambil nilai last_entry_id dari channel\nlast_entry_id = get_last_entry_id()\nif last_entry_id is None:\n    print(\"Could not fetch last_entry_id. Exiting...\")\n    exit()\n\n# Parameter paginasi\npage = 1\ntotal_results = 0\n\n# Loop untuk mengambil data dari semua halaman\nwhile total_results < last_entry_id:\n    # Parameter untuk permintaan API\n    params = {\n        'api_key': read_api_key,\n        'results': max_results_per_page,\n        'offset': (page - 1) * max_results_per_page\n    }\n\n    # Mengirim permintaan GET ke ThingSpeak\n    response = requests.get(url, params=params)\n\n    # Cek apakah permintaan berhasil\n    if response.status_code == 200:\n        # Mengambil data feed dalam format JSON\n        data = response.json()\n        feeds = data['feeds']\n\n        # Jika tidak ada data lagi, keluar dari loop\n        if not feeds:\n            break\n\n        # Tambahkan data feed ke list all_data\n        all_data.extend(feeds)\n\n        # Tampilkan jumlah data yang sudah diambil dan iterasi ke berapa\n        total_results += len(feeds)\n        print(f\"Iteration {page}: Fetched {total_results} total records so far...\")\n\n        # Tunggu sejenak agar tidak membanjiri server ThingSpeak\n        time.sleep(1)\n\n        # Lanjutkan ke halaman berikutnya\n        page += 1\n    else:\n        print(f\"Failed to fetch data on page {page}. HTTP Status code: {response.status_code}\")\n        break\n\n# Membuat DataFrame Pandas dari semua data yang dikumpulkan\ndf = pd.DataFrame(all_data)\n\n# Pilih kolom-kolom yang ingin disimpan, misalnya waktu dan field1 hingga field8\ndf = df[['created_at', 'field1', 'field2', 'field3', 'field4', 'field8']]\n\n# Ganti nama kolom untuk lebih deskriptif\ndf.columns = ['Time', 'Suhu', 'Kelembapan', 'Tekanan', 'Embun', 'Volt']\n\n# Simpan DataFrame ke file CSV\ndf.to_csv('Cuaca_All_Data.csv', index=False)\n\n# Tampilkan DataFrame untuk pengecekan\ndf.tail(10)\n",
      "metadata": {
        "source_hash": "26299060",
        "execution_start": 1729400023544,
        "execution_millis": 9080,
        "execution_context_id": "ca277cee-6c75-4747-8c8e-e2c403adc267",
        "cell_id": "f58d62426117456b9425772d1eda4673",
        "deepnote_cell_type": "code"
      },
      "outputs": [
        {
          "name": "stdout",
          "text": "Iteration 1: Fetched 8000 total records so far...\nIteration 2: Fetched 16000 total records so far...\nIteration 3: Fetched 24000 total records so far...\nIteration 4: Fetched 32000 total records so far...\nIteration 5: Fetched 40000 total records so far...\nIteration 6: Fetched 48000 total records so far...\n",
          "output_type": "stream"
        },
        {
          "output_type": "error",
          "ename": "KeyboardInterrupt",
          "evalue": "",
          "traceback": [
            "\u001b[0;31m---------------------------------------------------------------------------\u001b[0m",
            "\u001b[0;31mKeyboardInterrupt\u001b[0m                         Traceback (most recent call last)",
            "Cell \u001b[0;32mIn[1], line 66\u001b[0m\n\u001b[1;32m     63\u001b[0m \u001b[38;5;28mprint\u001b[39m(\u001b[38;5;124mf\u001b[39m\u001b[38;5;124m\"\u001b[39m\u001b[38;5;124mIteration \u001b[39m\u001b[38;5;132;01m{\u001b[39;00mpage\u001b[38;5;132;01m}\u001b[39;00m\u001b[38;5;124m: Fetched \u001b[39m\u001b[38;5;132;01m{\u001b[39;00mtotal_results\u001b[38;5;132;01m}\u001b[39;00m\u001b[38;5;124m total records so far...\u001b[39m\u001b[38;5;124m\"\u001b[39m)\n\u001b[1;32m     65\u001b[0m \u001b[38;5;66;03m# Tunggu sejenak agar tidak membanjiri server ThingSpeak\u001b[39;00m\n\u001b[0;32m---> 66\u001b[0m \u001b[43mtime\u001b[49m\u001b[38;5;241;43m.\u001b[39;49m\u001b[43msleep\u001b[49m\u001b[43m(\u001b[49m\u001b[38;5;241;43m1\u001b[39;49m\u001b[43m)\u001b[49m\n\u001b[1;32m     68\u001b[0m \u001b[38;5;66;03m# Lanjutkan ke halaman berikutnya\u001b[39;00m\n\u001b[1;32m     69\u001b[0m page \u001b[38;5;241m+\u001b[39m\u001b[38;5;241m=\u001b[39m \u001b[38;5;241m1\u001b[39m\n",
            "\u001b[0;31mKeyboardInterrupt\u001b[0m: "
          ]
        }
      ],
      "outputs_reference": null,
      "execution_count": 1,
      "block_group": "f58d62426117456b9425772d1eda4673",
      "content_dependencies": null
    },
    {
      "cell_type": "code",
      "source": "datahari = (lambda: _deepnote_execute_sql('SELECT *\\nFROM \\'Cuaca_All_Data.csv\\'', 'SQL_DEEPNOTE_DATAFRAME_SQL', audit_sql_comment='', sql_cache_mode='cache_disabled') if '_deepnote_execute_sql' in globals() else _dntk.execute_sql('SELECT *\\nFROM \\'Cuaca_All_Data.csv\\'', 'SQL_DEEPNOTE_DATAFRAME_SQL', audit_sql_comment='', sql_cache_mode='cache_disabled'))()\ndatahari",
      "metadata": {
        "source_hash": "bd44a8ec",
        "execution_start": 1728127396022,
        "execution_millis": 585,
        "sql_integration_id": "deepnote-dataframe-sql",
        "deepnote_table_state": {
          "sortBy": [],
          "filters": [],
          "pageSize": 100,
          "pageIndex": 0,
          "conditionalFilters": [],
          "wrappedTextColumnIds": []
        },
        "execution_context_id": "ca277cee-6c75-4747-8c8e-e2c403adc267",
        "deepnote_table_loading": false,
        "deepnote_variable_name": "datahari",
        "deepnote_to_be_reexecuted": true,
        "cell_id": "d8d34bf3581a4e34a2302034cb8b0b78",
        "deepnote_cell_type": "sql",
        "deepnote_sql_source": "SELECT *\nFROM 'Cuaca_All_Data.csv'"
      },
      "outputs": [
        {
          "output_type": "execute_result",
          "execution_count": 8,
          "data": {
            "application/vnd.deepnote.dataframe.v3+json": {
              "column_count": 6,
              "row_count": 464000,
              "columns": [
                {
                  "name": "Time",
                  "dtype": "datetime64[us]"
                },
                {
                  "name": "Suhu",
                  "dtype": "float64"
                },
                {
                  "name": "Kelembapan",
                  "dtype": "float64"
                },
                {
                  "name": "Tekanan",
                  "dtype": "float64"
                },
                {
                  "name": "Embun",
                  "dtype": "float64"
                },
                {
                  "name": "Volt",
                  "dtype": "float64"
                },
                {
                  "name": "_deepnote_index_column",
                  "dtype": "int64"
                }
              ],
              "rows": [
                {
                  "Time": "2024-09-29 18:50:52",
                  "Suhu": 26.06,
                  "Kelembapan": 92.61,
                  "Tekanan": 1010.92,
                  "Embun": 24.77,
                  "Volt": 4.04,
                  "_deepnote_index_column": 0
                },
                {
                  "Time": "2024-09-29 18:51:52",
                  "Suhu": 26.05,
                  "Kelembapan": 92.6,
                  "Tekanan": 1010.89,
                  "Embun": 24.76,
                  "Volt": 4.04,
                  "_deepnote_index_column": 1
                },
                {
                  "Time": "2024-09-29 18:52:52",
                  "Suhu": 26.05,
                  "Kelembapan": 92.63,
                  "Tekanan": 1010.91,
                  "Embun": 24.76,
                  "Volt": 4.04,
                  "_deepnote_index_column": 2
                },
                {
                  "Time": "2024-09-29 18:53:52",
                  "Suhu": 26.05,
                  "Kelembapan": 92.62,
                  "Tekanan": 1010.86,
                  "Embun": 24.76,
                  "Volt": 4.04,
                  "_deepnote_index_column": 3
                },
                {
                  "Time": "2024-09-29 18:54:52",
                  "Suhu": 26.04,
                  "Kelembapan": 92.59,
                  "Tekanan": 1010.82,
                  "Embun": 24.74,
                  "Volt": 4.04,
                  "_deepnote_index_column": 4
                },
                {
                  "Time": "2024-09-29 18:55:52",
                  "Suhu": 26.05,
                  "Kelembapan": 92.57,
                  "Tekanan": 1010.81,
                  "Embun": 24.75,
                  "Volt": 4.04,
                  "_deepnote_index_column": 5
                },
                {
                  "Time": "2024-09-29 18:56:52",
                  "Suhu": 26.03,
                  "Kelembapan": 92.57,
                  "Tekanan": 1010.81,
                  "Embun": 24.73,
                  "Volt": 4.04,
                  "_deepnote_index_column": 6
                },
                {
                  "Time": "2024-09-29 18:57:52",
                  "Suhu": 26.02,
                  "Kelembapan": 92.56,
                  "Tekanan": 1010.82,
                  "Embun": 24.72,
                  "Volt": 4.04,
                  "_deepnote_index_column": 7
                },
                {
                  "Time": "2024-09-29 18:58:52",
                  "Suhu": 26.02,
                  "Kelembapan": 92.54,
                  "Tekanan": 1010.83,
                  "Embun": 24.72,
                  "Volt": 4.05,
                  "_deepnote_index_column": 8
                },
                {
                  "Time": "2024-09-29 18:59:52",
                  "Suhu": 26.04,
                  "Kelembapan": 92.57,
                  "Tekanan": 1010.81,
                  "Embun": 24.74,
                  "Volt": 4.04,
                  "_deepnote_index_column": 9
                },
                {
                  "Time": "2024-09-29 19:00:52",
                  "Suhu": 26.02,
                  "Kelembapan": 92.58,
                  "Tekanan": 1010.83,
                  "Embun": 24.72,
                  "Volt": 4.04,
                  "_deepnote_index_column": 10
                },
                {
                  "Time": "2024-09-29 19:01:52",
                  "Suhu": 26,
                  "Kelembapan": 92.55,
                  "Tekanan": 1010.85,
                  "Embun": 24.7,
                  "Volt": 4.05,
                  "_deepnote_index_column": 11
                },
                {
                  "Time": "2024-09-29 19:02:52",
                  "Suhu": 26.01,
                  "Kelembapan": 92.56,
                  "Tekanan": 1010.82,
                  "Embun": 24.71,
                  "Volt": 4.04,
                  "_deepnote_index_column": 12
                },
                {
                  "Time": "2024-09-29 19:03:52",
                  "Suhu": 25.98,
                  "Kelembapan": 92.55,
                  "Tekanan": 1010.85,
                  "Embun": 24.68,
                  "Volt": 4.04,
                  "_deepnote_index_column": 13
                },
                {
                  "Time": "2024-09-29 19:04:52",
                  "Suhu": 25.98,
                  "Kelembapan": 92.56,
                  "Tekanan": 1010.86,
                  "Embun": 24.68,
                  "Volt": 4.04,
                  "_deepnote_index_column": 14
                },
                {
                  "Time": "2024-09-29 19:05:52",
                  "Suhu": 25.98,
                  "Kelembapan": 92.64,
                  "Tekanan": 1010.86,
                  "Embun": 24.69,
                  "Volt": 4.05,
                  "_deepnote_index_column": 15
                },
                {
                  "Time": "2024-09-29 19:06:52",
                  "Suhu": 25.99,
                  "Kelembapan": 92.63,
                  "Tekanan": 1010.83,
                  "Embun": 24.7,
                  "Volt": 4.04,
                  "_deepnote_index_column": 16
                },
                {
                  "Time": "2024-09-29 19:07:53",
                  "Suhu": 25.98,
                  "Kelembapan": 92.66,
                  "Tekanan": 1010.8,
                  "Embun": 24.7,
                  "Volt": 4.05,
                  "_deepnote_index_column": 17
                },
                {
                  "Time": "2024-09-29 19:08:52",
                  "Suhu": 25.97,
                  "Kelembapan": 92.72,
                  "Tekanan": 1010.85,
                  "Embun": 24.7,
                  "Volt": 4.04,
                  "_deepnote_index_column": 18
                },
                {
                  "Time": "2024-09-29 19:09:52",
                  "Suhu": 25.97,
                  "Kelembapan": 92.75,
                  "Tekanan": 1010.82,
                  "Embun": 24.7,
                  "Volt": 4.04,
                  "_deepnote_index_column": 19
                },
                {
                  "Time": "2024-09-29 19:10:52",
                  "Suhu": 25.92,
                  "Kelembapan": 92.73,
                  "Tekanan": 1010.84,
                  "Embun": 24.65,
                  "Volt": 4.04,
                  "_deepnote_index_column": 20
                },
                {
                  "Time": "2024-09-29 19:11:52",
                  "Suhu": 25.92,
                  "Kelembapan": 92.7,
                  "Tekanan": 1010.85,
                  "Embun": 24.65,
                  "Volt": 4.05,
                  "_deepnote_index_column": 21
                },
                {
                  "Time": "2024-09-29 19:12:52",
                  "Suhu": 25.91,
                  "Kelembapan": 92.73,
                  "Tekanan": 1010.81,
                  "Embun": 24.64,
                  "Volt": 4.04,
                  "_deepnote_index_column": 22
                },
                {
                  "Time": "2024-09-29 19:13:52",
                  "Suhu": 25.91,
                  "Kelembapan": 92.74,
                  "Tekanan": 1010.82,
                  "Embun": 24.64,
                  "Volt": 4.04,
                  "_deepnote_index_column": 23
                },
                {
                  "Time": "2024-09-29 19:14:52",
                  "Suhu": 25.89,
                  "Kelembapan": 92.75,
                  "Tekanan": 1010.84,
                  "Embun": 24.63,
                  "Volt": 4.04,
                  "_deepnote_index_column": 24
                },
                {
                  "Time": "2024-09-29 19:15:52",
                  "Suhu": 25.9,
                  "Kelembapan": 92.85,
                  "Tekanan": 1010.85,
                  "Embun": 24.65,
                  "Volt": 4.04,
                  "_deepnote_index_column": 25
                },
                {
                  "Time": "2024-09-29 19:16:52",
                  "Suhu": 25.86,
                  "Kelembapan": 92.81,
                  "Tekanan": 1010.81,
                  "Embun": 24.61,
                  "Volt": 4.04,
                  "_deepnote_index_column": 26
                },
                {
                  "Time": "2024-09-29 19:17:52",
                  "Suhu": 25.88,
                  "Kelembapan": 92.94,
                  "Tekanan": 1010.81,
                  "Embun": 24.65,
                  "Volt": 4.04,
                  "_deepnote_index_column": 27
                },
                {
                  "Time": "2024-09-29 19:18:53",
                  "Suhu": 25.85,
                  "Kelembapan": 92.94,
                  "Tekanan": 1010.81,
                  "Embun": 24.62,
                  "Volt": 4.04,
                  "_deepnote_index_column": 28
                },
                {
                  "Time": "2024-09-29 19:19:53",
                  "Suhu": 25.88,
                  "Kelembapan": 92.99,
                  "Tekanan": 1010.8,
                  "Embun": 24.66,
                  "Volt": 4.05,
                  "_deepnote_index_column": 29
                },
                {
                  "Time": "2024-09-29 19:20:53",
                  "Suhu": 25.84,
                  "Kelembapan": 92.97,
                  "Tekanan": 1010.79,
                  "Embun": 24.62,
                  "Volt": 4.04,
                  "_deepnote_index_column": 30
                },
                {
                  "Time": "2024-09-29 19:21:53",
                  "Suhu": 25.83,
                  "Kelembapan": 92.96,
                  "Tekanan": 1010.79,
                  "Embun": 24.6,
                  "Volt": 4.04,
                  "_deepnote_index_column": 31
                },
                {
                  "Time": "2024-09-29 19:22:53",
                  "Suhu": 25.82,
                  "Kelembapan": 92.98,
                  "Tekanan": 1010.78,
                  "Embun": 24.6,
                  "Volt": 4.04,
                  "_deepnote_index_column": 32
                },
                {
                  "Time": "2024-09-29 19:23:53",
                  "Suhu": 25.83,
                  "Kelembapan": 93.08,
                  "Tekanan": 1010.77,
                  "Embun": 24.63,
                  "Volt": 4.05,
                  "_deepnote_index_column": 33
                },
                {
                  "Time": "2024-09-29 19:24:53",
                  "Suhu": 25.84,
                  "Kelembapan": 93.23,
                  "Tekanan": 1010.76,
                  "Embun": 24.66,
                  "Volt": 4.05,
                  "_deepnote_index_column": 34
                },
                {
                  "Time": "2024-09-29 19:25:53",
                  "Suhu": 25.81,
                  "Kelembapan": 93.2,
                  "Tekanan": 1010.8,
                  "Embun": 24.63,
                  "Volt": 4.04,
                  "_deepnote_index_column": 35
                },
                {
                  "Time": "2024-09-29 19:26:53",
                  "Suhu": 25.83,
                  "Kelembapan": 93.17,
                  "Tekanan": 1010.78,
                  "Embun": 24.64,
                  "Volt": 4.04,
                  "_deepnote_index_column": 36
                },
                {
                  "Time": "2024-09-29 19:27:53",
                  "Suhu": 25.8,
                  "Kelembapan": 93.16,
                  "Tekanan": 1010.83,
                  "Embun": 24.61,
                  "Volt": 4.04,
                  "_deepnote_index_column": 37
                },
                {
                  "Time": "2024-09-29 19:28:53",
                  "Suhu": 25.79,
                  "Kelembapan": 93.16,
                  "Tekanan": 1010.77,
                  "Embun": 24.6,
                  "Volt": 4.05,
                  "_deepnote_index_column": 38
                },
                {
                  "Time": "2024-09-29 19:29:53",
                  "Suhu": 25.78,
                  "Kelembapan": 93.13,
                  "Tekanan": 1010.79,
                  "Embun": 24.58,
                  "Volt": 4.05,
                  "_deepnote_index_column": 39
                },
                {
                  "Time": "2024-09-29 19:30:53",
                  "Suhu": 25.8,
                  "Kelembapan": 93.23,
                  "Tekanan": 1010.77,
                  "Embun": 24.62,
                  "Volt": 4.04,
                  "_deepnote_index_column": 40
                },
                {
                  "Time": "2024-09-29 19:31:53",
                  "Suhu": 25.8,
                  "Kelembapan": 93.26,
                  "Tekanan": 1010.81,
                  "Embun": 24.63,
                  "Volt": 4.04,
                  "_deepnote_index_column": 41
                },
                {
                  "Time": "2024-09-29 19:32:53",
                  "Suhu": 25.79,
                  "Kelembapan": 93.32,
                  "Tekanan": 1010.82,
                  "Embun": 24.63,
                  "Volt": 4.04,
                  "_deepnote_index_column": 42
                },
                {
                  "Time": "2024-09-29 19:33:53",
                  "Suhu": 25.76,
                  "Kelembapan": 93.29,
                  "Tekanan": 1010.82,
                  "Embun": 24.59,
                  "Volt": 4.04,
                  "_deepnote_index_column": 43
                },
                {
                  "Time": "2024-09-29 19:34:53",
                  "Suhu": 25.75,
                  "Kelembapan": 93.24,
                  "Tekanan": 1010.78,
                  "Embun": 24.57,
                  "Volt": 4.04,
                  "_deepnote_index_column": 44
                },
                {
                  "Time": "2024-09-29 19:35:53",
                  "Suhu": 25.76,
                  "Kelembapan": 93.28,
                  "Tekanan": 1010.82,
                  "Embun": 24.59,
                  "Volt": 4.04,
                  "_deepnote_index_column": 45
                },
                {
                  "Time": "2024-09-29 19:36:53",
                  "Suhu": 25.76,
                  "Kelembapan": 93.27,
                  "Tekanan": 1010.78,
                  "Embun": 24.59,
                  "Volt": 4.05,
                  "_deepnote_index_column": 46
                },
                {
                  "Time": "2024-09-29 19:37:53",
                  "Suhu": 25.74,
                  "Kelembapan": 93.29,
                  "Tekanan": 1010.8,
                  "Embun": 24.57,
                  "Volt": 4.04,
                  "_deepnote_index_column": 47
                },
                {
                  "Time": "2024-09-29 19:38:53",
                  "Suhu": 25.75,
                  "Kelembapan": 93.29,
                  "Tekanan": 1010.79,
                  "Embun": 24.58,
                  "Volt": 4.04,
                  "_deepnote_index_column": 48
                },
                {
                  "Time": "2024-09-29 19:39:53",
                  "Suhu": 25.74,
                  "Kelembapan": 93.28,
                  "Tekanan": 1010.79,
                  "Embun": 24.57,
                  "Volt": 4.04,
                  "_deepnote_index_column": 49
                },
                {
                  "Time": "2024-09-29 19:40:53",
                  "Suhu": 25.76,
                  "Kelembapan": 93.27,
                  "Tekanan": 1010.76,
                  "Embun": 24.59,
                  "Volt": 4.04,
                  "_deepnote_index_column": 50
                },
                {
                  "Time": "2024-09-29 19:41:53",
                  "Suhu": 25.75,
                  "Kelembapan": 93.27,
                  "Tekanan": 1010.75,
                  "Embun": 24.58,
                  "Volt": 4.04,
                  "_deepnote_index_column": 51
                },
                {
                  "Time": "2024-09-29 19:42:53",
                  "Suhu": 25.72,
                  "Kelembapan": 93.29,
                  "Tekanan": 1010.73,
                  "Embun": 24.55,
                  "Volt": 4.04,
                  "_deepnote_index_column": 52
                },
                {
                  "Time": "2024-09-29 19:43:53",
                  "Suhu": 25.74,
                  "Kelembapan": 93.32,
                  "Tekanan": 1010.69,
                  "Embun": 24.58,
                  "Volt": 4.04,
                  "_deepnote_index_column": 53
                },
                {
                  "Time": "2024-09-29 19:44:53",
                  "Suhu": 25.72,
                  "Kelembapan": 93.33,
                  "Tekanan": 1010.72,
                  "Embun": 24.56,
                  "Volt": 4.05,
                  "_deepnote_index_column": 54
                },
                {
                  "Time": "2024-09-29 19:45:53",
                  "Suhu": 25.71,
                  "Kelembapan": 93.3,
                  "Tekanan": 1010.69,
                  "Embun": 24.55,
                  "Volt": 4.04,
                  "_deepnote_index_column": 55
                },
                {
                  "Time": "2024-09-29 19:46:53",
                  "Suhu": 25.71,
                  "Kelembapan": 93.28,
                  "Tekanan": 1010.71,
                  "Embun": 24.54,
                  "Volt": 4.04,
                  "_deepnote_index_column": 56
                },
                {
                  "Time": "2024-09-29 19:47:53",
                  "Suhu": 25.69,
                  "Kelembapan": 93.29,
                  "Tekanan": 1010.71,
                  "Embun": 24.52,
                  "Volt": 4.04,
                  "_deepnote_index_column": 57
                },
                {
                  "Time": "2024-09-29 19:48:53",
                  "Suhu": 25.71,
                  "Kelembapan": 93.27,
                  "Tekanan": 1010.68,
                  "Embun": 24.54,
                  "Volt": 4.04,
                  "_deepnote_index_column": 58
                },
                {
                  "Time": "2024-09-29 19:49:53",
                  "Suhu": 25.69,
                  "Kelembapan": 93.3,
                  "Tekanan": 1010.69,
                  "Embun": 24.53,
                  "Volt": 4.04,
                  "_deepnote_index_column": 59
                },
                {
                  "Time": "2024-09-29 19:50:53",
                  "Suhu": 25.69,
                  "Kelembapan": 93.32,
                  "Tekanan": 1010.69,
                  "Embun": 24.53,
                  "Volt": 4.04,
                  "_deepnote_index_column": 60
                },
                {
                  "Time": "2024-09-29 19:51:53",
                  "Suhu": 25.67,
                  "Kelembapan": 93.34,
                  "Tekanan": 1010.73,
                  "Embun": 24.51,
                  "Volt": 4.04,
                  "_deepnote_index_column": 61
                },
                {
                  "Time": "2024-09-29 19:52:53",
                  "Suhu": 25.67,
                  "Kelembapan": 93.31,
                  "Tekanan": 1010.67,
                  "Embun": 24.51,
                  "Volt": 4.05,
                  "_deepnote_index_column": 62
                },
                {
                  "Time": "2024-09-29 19:53:53",
                  "Suhu": 25.67,
                  "Kelembapan": 93.32,
                  "Tekanan": 1010.72,
                  "Embun": 24.51,
                  "Volt": 4.04,
                  "_deepnote_index_column": 63
                },
                {
                  "Time": "2024-09-29 19:54:53",
                  "Suhu": 25.66,
                  "Kelembapan": 93.31,
                  "Tekanan": 1010.73,
                  "Embun": 24.5,
                  "Volt": 4.04,
                  "_deepnote_index_column": 64
                },
                {
                  "Time": "2024-09-29 19:55:53",
                  "Suhu": 25.66,
                  "Kelembapan": 93.42,
                  "Tekanan": 1010.77,
                  "Embun": 24.52,
                  "Volt": 4.04,
                  "_deepnote_index_column": 65
                },
                {
                  "Time": "2024-09-29 19:56:53",
                  "Suhu": 25.66,
                  "Kelembapan": 93.42,
                  "Tekanan": 1010.79,
                  "Embun": 24.52,
                  "Volt": 4.04,
                  "_deepnote_index_column": 66
                },
                {
                  "Time": "2024-09-29 19:57:53",
                  "Suhu": 25.65,
                  "Kelembapan": 93.42,
                  "Tekanan": 1010.81,
                  "Embun": 24.51,
                  "Volt": 4.04,
                  "_deepnote_index_column": 67
                },
                {
                  "Time": "2024-09-29 19:58:53",
                  "Suhu": 25.67,
                  "Kelembapan": 93.41,
                  "Tekanan": 1010.83,
                  "Embun": 24.53,
                  "Volt": 4.04,
                  "_deepnote_index_column": 68
                },
                {
                  "Time": "2024-09-29 19:59:53",
                  "Suhu": 25.65,
                  "Kelembapan": 93.41,
                  "Tekanan": 1010.82,
                  "Embun": 24.51,
                  "Volt": 4.04,
                  "_deepnote_index_column": 69
                },
                {
                  "Time": "2024-09-29 20:00:53",
                  "Suhu": 25.66,
                  "Kelembapan": 93.4,
                  "Tekanan": 1010.84,
                  "Embun": 24.51,
                  "Volt": 4.04,
                  "_deepnote_index_column": 70
                },
                {
                  "Time": "2024-09-29 20:01:53",
                  "Suhu": 25.66,
                  "Kelembapan": 93.4,
                  "Tekanan": 1010.9,
                  "Embun": 24.51,
                  "Volt": 4.04,
                  "_deepnote_index_column": 71
                },
                {
                  "Time": "2024-09-29 20:02:53",
                  "Suhu": 25.66,
                  "Kelembapan": 93.41,
                  "Tekanan": 1010.87,
                  "Embun": 24.52,
                  "Volt": 4.05,
                  "_deepnote_index_column": 72
                },
                {
                  "Time": "2024-09-29 20:03:53",
                  "Suhu": 25.65,
                  "Kelembapan": 93.39,
                  "Tekanan": 1010.9,
                  "Embun": 24.5,
                  "Volt": 4.04,
                  "_deepnote_index_column": 73
                },
                {
                  "Time": "2024-09-29 20:04:53",
                  "Suhu": 25.65,
                  "Kelembapan": 93.38,
                  "Tekanan": 1010.91,
                  "Embun": 24.5,
                  "Volt": 4.04,
                  "_deepnote_index_column": 74
                },
                {
                  "Time": "2024-09-29 20:05:53",
                  "Suhu": 25.65,
                  "Kelembapan": 93.4,
                  "Tekanan": 1010.95,
                  "Embun": 24.5,
                  "Volt": 4.04,
                  "_deepnote_index_column": 75
                },
                {
                  "Time": "2024-09-29 20:06:53",
                  "Suhu": 25.64,
                  "Kelembapan": 93.45,
                  "Tekanan": 1010.97,
                  "Embun": 24.5,
                  "Volt": 4.04,
                  "_deepnote_index_column": 76
                },
                {
                  "Time": "2024-09-29 20:07:53",
                  "Suhu": 25.65,
                  "Kelembapan": 93.51,
                  "Tekanan": 1010.95,
                  "Embun": 24.52,
                  "Volt": 4.04,
                  "_deepnote_index_column": 77
                },
                {
                  "Time": "2024-09-29 20:08:53",
                  "Suhu": 25.63,
                  "Kelembapan": 93.51,
                  "Tekanan": 1010.97,
                  "Embun": 24.5,
                  "Volt": 4.04,
                  "_deepnote_index_column": 78
                },
                {
                  "Time": "2024-09-29 20:09:53",
                  "Suhu": 25.64,
                  "Kelembapan": 93.49,
                  "Tekanan": 1010.95,
                  "Embun": 24.51,
                  "Volt": 4.04,
                  "_deepnote_index_column": 79
                },
                {
                  "Time": "2024-09-29 20:10:53",
                  "Suhu": 25.61,
                  "Kelembapan": 93.51,
                  "Tekanan": 1010.94,
                  "Embun": 24.48,
                  "Volt": 4.04,
                  "_deepnote_index_column": 80
                },
                {
                  "Time": "2024-09-29 20:11:53",
                  "Suhu": 25.6,
                  "Kelembapan": 93.56,
                  "Tekanan": 1010.95,
                  "Embun": 24.48,
                  "Volt": 4.04,
                  "_deepnote_index_column": 81
                },
                {
                  "Time": "2024-09-29 20:12:53",
                  "Suhu": 25.62,
                  "Kelembapan": 93.57,
                  "Tekanan": 1010.92,
                  "Embun": 24.5,
                  "Volt": 4.04,
                  "_deepnote_index_column": 82
                },
                {
                  "Time": "2024-09-29 20:13:53",
                  "Suhu": 25.6,
                  "Kelembapan": 93.56,
                  "Tekanan": 1010.92,
                  "Embun": 24.48,
                  "Volt": 4.04,
                  "_deepnote_index_column": 83
                },
                {
                  "Time": "2024-09-29 20:14:53",
                  "Suhu": 25.57,
                  "Kelembapan": 93.51,
                  "Tekanan": 1010.97,
                  "Embun": 24.44,
                  "Volt": 4.04,
                  "_deepnote_index_column": 84
                },
                {
                  "Time": "2024-09-29 20:15:53",
                  "Suhu": 25.58,
                  "Kelembapan": 93.5,
                  "Tekanan": 1010.96,
                  "Embun": 24.45,
                  "Volt": 4.04,
                  "_deepnote_index_column": 85
                },
                {
                  "Time": "2024-09-29 20:16:54",
                  "Suhu": 25.57,
                  "Kelembapan": 93.52,
                  "Tekanan": 1010.95,
                  "Embun": 24.45,
                  "Volt": 4.04,
                  "_deepnote_index_column": 86
                },
                {
                  "Time": "2024-09-29 20:17:53",
                  "Suhu": 25.59,
                  "Kelembapan": 93.59,
                  "Tekanan": 1010.96,
                  "Embun": 24.48,
                  "Volt": 4.04,
                  "_deepnote_index_column": 87
                },
                {
                  "Time": "2024-09-29 20:18:54",
                  "Suhu": 25.55,
                  "Kelembapan": 93.61,
                  "Tekanan": 1010.94,
                  "Embun": 24.44,
                  "Volt": 4.04,
                  "_deepnote_index_column": 88
                },
                {
                  "Time": "2024-09-29 20:19:54",
                  "Suhu": 25.56,
                  "Kelembapan": 93.57,
                  "Tekanan": 1010.92,
                  "Embun": 24.45,
                  "Volt": 4.04,
                  "_deepnote_index_column": 89
                },
                {
                  "Time": "2024-09-29 20:20:54",
                  "Suhu": 25.56,
                  "Kelembapan": 93.59,
                  "Tekanan": 1010.9,
                  "Embun": 24.45,
                  "Volt": 4.04,
                  "_deepnote_index_column": 90
                },
                {
                  "Time": "2024-09-29 20:21:54",
                  "Suhu": 25.57,
                  "Kelembapan": 93.59,
                  "Tekanan": 1010.89,
                  "Embun": 24.46,
                  "Volt": 4.04,
                  "_deepnote_index_column": 91
                },
                {
                  "Time": "2024-09-29 20:22:54",
                  "Suhu": 25.57,
                  "Kelembapan": 93.62,
                  "Tekanan": 1010.88,
                  "Embun": 24.46,
                  "Volt": 4.04,
                  "_deepnote_index_column": 92
                },
                {
                  "Time": "2024-09-29 20:23:54",
                  "Suhu": 25.56,
                  "Kelembapan": 93.62,
                  "Tekanan": 1010.88,
                  "Embun": 24.45,
                  "Volt": 4.04,
                  "_deepnote_index_column": 93
                },
                {
                  "Time": "2024-09-29 20:24:54",
                  "Suhu": 25.56,
                  "Kelembapan": 93.62,
                  "Tekanan": 1010.89,
                  "Embun": 24.45,
                  "Volt": 4.04,
                  "_deepnote_index_column": 94
                },
                {
                  "Time": "2024-09-29 20:25:54",
                  "Suhu": 25.55,
                  "Kelembapan": 93.6,
                  "Tekanan": 1010.95,
                  "Embun": 24.44,
                  "Volt": 4.05,
                  "_deepnote_index_column": 95
                },
                {
                  "Time": "2024-09-29 20:26:54",
                  "Suhu": 25.55,
                  "Kelembapan": 93.62,
                  "Tekanan": 1010.87,
                  "Embun": 24.44,
                  "Volt": 4.04,
                  "_deepnote_index_column": 96
                },
                {
                  "Time": "2024-09-29 20:27:54",
                  "Suhu": 25.54,
                  "Kelembapan": 93.61,
                  "Tekanan": 1010.92,
                  "Embun": 24.43,
                  "Volt": 4.04,
                  "_deepnote_index_column": 97
                },
                {
                  "Time": "2024-09-29 20:28:54",
                  "Suhu": 25.53,
                  "Kelembapan": 93.6,
                  "Tekanan": 1010.91,
                  "Embun": 24.42,
                  "Volt": 4.04,
                  "_deepnote_index_column": 98
                },
                {
                  "Time": "2024-09-29 20:29:54",
                  "Suhu": 25.55,
                  "Kelembapan": 93.61,
                  "Tekanan": 1010.87,
                  "Embun": 24.44,
                  "Volt": 4.04,
                  "_deepnote_index_column": 99
                }
              ]
            },
            "text/plain": "                      Time   Suhu  Kelembapan  Tekanan  Embun  Volt\n0      2024-09-29 18:50:52  26.06       92.61  1010.92  24.77  4.04\n1      2024-09-29 18:51:52  26.05       92.60  1010.89  24.76  4.04\n2      2024-09-29 18:52:52  26.05       92.63  1010.91  24.76  4.04\n3      2024-09-29 18:53:52  26.05       92.62  1010.86  24.76  4.04\n4      2024-09-29 18:54:52  26.04       92.59  1010.82  24.74  4.04\n...                    ...    ...         ...      ...    ...   ...\n463995 2024-10-05 11:17:22  28.12       86.19  1011.11  25.59  4.05\n463996 2024-10-05 11:18:22  28.10       86.41  1011.07  25.62  4.05\n463997 2024-10-05 11:19:22  28.11       86.51  1011.07  25.65  4.05\n463998 2024-10-05 11:20:22  28.09       86.36  1011.12  25.60  4.05\n463999 2024-10-05 11:21:22  28.07       86.74  1011.12  25.65  4.06\n\n[464000 rows x 6 columns]",
            "text/html": "<div>\n<style scoped>\n    .dataframe tbody tr th:only-of-type {\n        vertical-align: middle;\n    }\n\n    .dataframe tbody tr th {\n        vertical-align: top;\n    }\n\n    .dataframe thead th {\n        text-align: right;\n    }\n</style>\n<table border=\"1\" class=\"dataframe\">\n  <thead>\n    <tr style=\"text-align: right;\">\n      <th></th>\n      <th>Time</th>\n      <th>Suhu</th>\n      <th>Kelembapan</th>\n      <th>Tekanan</th>\n      <th>Embun</th>\n      <th>Volt</th>\n    </tr>\n  </thead>\n  <tbody>\n    <tr>\n      <th>0</th>\n      <td>2024-09-29 18:50:52</td>\n      <td>26.06</td>\n      <td>92.61</td>\n      <td>1010.92</td>\n      <td>24.77</td>\n      <td>4.04</td>\n    </tr>\n    <tr>\n      <th>1</th>\n      <td>2024-09-29 18:51:52</td>\n      <td>26.05</td>\n      <td>92.60</td>\n      <td>1010.89</td>\n      <td>24.76</td>\n      <td>4.04</td>\n    </tr>\n    <tr>\n      <th>2</th>\n      <td>2024-09-29 18:52:52</td>\n      <td>26.05</td>\n      <td>92.63</td>\n      <td>1010.91</td>\n      <td>24.76</td>\n      <td>4.04</td>\n    </tr>\n    <tr>\n      <th>3</th>\n      <td>2024-09-29 18:53:52</td>\n      <td>26.05</td>\n      <td>92.62</td>\n      <td>1010.86</td>\n      <td>24.76</td>\n      <td>4.04</td>\n    </tr>\n    <tr>\n      <th>4</th>\n      <td>2024-09-29 18:54:52</td>\n      <td>26.04</td>\n      <td>92.59</td>\n      <td>1010.82</td>\n      <td>24.74</td>\n      <td>4.04</td>\n    </tr>\n    <tr>\n      <th>...</th>\n      <td>...</td>\n      <td>...</td>\n      <td>...</td>\n      <td>...</td>\n      <td>...</td>\n      <td>...</td>\n    </tr>\n    <tr>\n      <th>463995</th>\n      <td>2024-10-05 11:17:22</td>\n      <td>28.12</td>\n      <td>86.19</td>\n      <td>1011.11</td>\n      <td>25.59</td>\n      <td>4.05</td>\n    </tr>\n    <tr>\n      <th>463996</th>\n      <td>2024-10-05 11:18:22</td>\n      <td>28.10</td>\n      <td>86.41</td>\n      <td>1011.07</td>\n      <td>25.62</td>\n      <td>4.05</td>\n    </tr>\n    <tr>\n      <th>463997</th>\n      <td>2024-10-05 11:19:22</td>\n      <td>28.11</td>\n      <td>86.51</td>\n      <td>1011.07</td>\n      <td>25.65</td>\n      <td>4.05</td>\n    </tr>\n    <tr>\n      <th>463998</th>\n      <td>2024-10-05 11:20:22</td>\n      <td>28.09</td>\n      <td>86.36</td>\n      <td>1011.12</td>\n      <td>25.60</td>\n      <td>4.05</td>\n    </tr>\n    <tr>\n      <th>463999</th>\n      <td>2024-10-05 11:21:22</td>\n      <td>28.07</td>\n      <td>86.74</td>\n      <td>1011.12</td>\n      <td>25.65</td>\n      <td>4.06</td>\n    </tr>\n  </tbody>\n</table>\n<p>464000 rows × 6 columns</p>\n</div>"
          },
          "metadata": {}
        }
      ],
      "outputs_reference": null,
      "execution_count": 6,
      "block_group": "b17442ab254943e8beca0d48e082ccaa",
      "content_dependencies": null
    },
    {
      "cell_type": "code",
      "source": "# Mencari 10 nilai suhu terendah beserta tanggalnya\nlowest_temperatures = datahari.nsmallest(10, 'Suhu')[['Time', 'Suhu']]\n# Mencari 10 nilai suhu tertinggi beserta tanggalnya\nhighest_temperatures = datahari.nlargest(10, 'Suhu')[['Time', 'Suhu']]\n\n# Menampilkan hasil\nprint(lowest_temperatures)\n# Menampilkan hasil\nprint(highest_temperatures)",
      "metadata": {
        "source_hash": "b5d08614",
        "execution_start": 1728127607750,
        "execution_millis": 0,
        "execution_context_id": "ca277cee-6c75-4747-8c8e-e2c403adc267",
        "deepnote_to_be_reexecuted": true,
        "cell_id": "266a255c3f814ecca6c4b71f76af065e",
        "deepnote_cell_type": "code"
      },
      "outputs": [
        {
          "name": "stdout",
          "text": "                    Time  Suhu\n214  2024-09-29 22:28:55  25.0\n217  2024-09-29 22:31:55  25.0\n219  2024-09-29 22:33:55  25.0\n223  2024-09-29 22:37:55  25.0\n228  2024-09-29 22:42:55  25.0\n8214 2024-09-29 22:28:55  25.0\n8217 2024-09-29 22:31:55  25.0\n8219 2024-09-29 22:33:55  25.0\n8223 2024-09-29 22:37:55  25.0\n8228 2024-09-29 22:42:55  25.0\n                     Time   Suhu\n3498  2024-10-02 05:29:31  34.26\n11498 2024-10-02 05:29:31  34.26\n19498 2024-10-02 05:29:31  34.26\n27498 2024-10-02 05:29:31  34.26\n35498 2024-10-02 05:29:31  34.26\n43498 2024-10-02 05:29:31  34.26\n51498 2024-10-02 05:29:31  34.26\n59498 2024-10-02 05:29:31  34.26\n67497 2024-10-02 05:29:31  34.26\n75497 2024-10-02 05:29:31  34.26\n",
          "output_type": "stream"
        }
      ],
      "outputs_reference": null,
      "execution_count": 7,
      "block_group": "c55cd3fb1e16409487864537b1bec1d7",
      "content_dependencies": null
    },
    {
      "cell_type": "markdown",
      "source": "<a style='text-decoration:none;line-height:16px;display:flex;color:#5B5B62;padding:10px;justify-content:end;' href='https://deepnote.com?utm_source=created-in-deepnote-cell&projectId=200afad5-8991-4e20-8a55-8751c7aff3b5' target=\"_blank\">\n<img alt='Created in deepnote.com' style='display:inline;max-height:16px;margin:0px;margin-right:7.5px;' src='data:image/svg+xml;base64,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' > </img>\nCreated in <span style='font-weight:600;margin-left:4px;'>Deepnote</span></a>",
      "metadata": {
        "created_in_deepnote_cell": true,
        "deepnote_cell_type": "markdown"
      }
    }
  ],
  "nbformat": 4,
  "nbformat_minor": 0,
  "metadata": {
    "deepnote_notebook_id": "893cf8e584dc4e4bb3d4c04d61010bc5",
    "deepnote_execution_queue": []
  }
}